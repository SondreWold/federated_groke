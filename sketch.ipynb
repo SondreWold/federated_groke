{
 "cells": [
  {
   "cell_type": "code",
   "execution_count": 169,
   "id": "7fd067b7",
   "metadata": {},
   "outputs": [],
   "source": [
    "from torch.utils.data import DataLoader, Dataset\n",
    "import pandas as pd\n",
    "import torch\n",
    "from collections import OrderedDict\n",
    "from typing import List, Tuple\n",
    "import matplotlib.pyplot as plt\n",
    "import numpy as np\n",
    "import torch\n",
    "import torch.nn as nn\n",
    "import torch.nn.functional as F\n",
    "import torchvision\n",
    "import torchvision.transforms as transforms\n",
    "from torch.utils.data import DataLoader, random_split\n",
    "from torchvision.datasets import CIFAR10\n",
    "import flwr as fl\n",
    "from flwr.common import Metrics\n",
    "import random\n",
    "import torch.nn as nn\n",
    "from typing import Union, Optional\n",
    "from sklearn.preprocessing import MinMaxScaler\n",
    "from tqdm import tqdm, trange\n",
    "DEVICE = torch.device(\"cpu\")"
   ]
  },
  {
   "cell_type": "markdown",
   "id": "c84b8410",
   "metadata": {},
   "source": [
    "# Define classes and functions"
   ]
  },
  {
   "cell_type": "code",
   "execution_count": 151,
   "id": "e36428ad",
   "metadata": {},
   "outputs": [],
   "source": [
    "class RegressionData(Dataset):\n",
    "    def __init__(self, path):\n",
    "        df = pd.read_csv(path)\n",
    "        self.scaler = MinMaxScaler()\n",
    "        self.x = df[['Periods','appliances']].values\n",
    "        self.x[:, 1] /= 1\n",
    "    \n",
    "    def __len__(self):\n",
    "        return (len(self.x) // 96) - 8\n",
    "    \n",
    "    def __getitem__(self, idx):\n",
    "        if idx > 358:\n",
    "            raise Exception('Unbounded window')\n",
    "        return torch.tensor(self.x[idx*96:(idx+7)*(96)], dtype=torch.float32), torch.tensor(self.x[(idx+7)*96:(idx+8)*96], dtype=torch.float32)"
   ]
  },
  {
   "cell_type": "code",
   "execution_count": 152,
   "id": "61792103",
   "metadata": {},
   "outputs": [],
   "source": [
    "class MyRNN(nn.Module):\n",
    "    def __init__(self, hid_size, LSTM=False):\n",
    "        super(MyRNN, self).__init__()\n",
    "        self.hidden_size = hid_size\n",
    "        self.LSTM = LSTM\n",
    "        if LSTM:\n",
    "            self.rnn = nn.LSTM(input_size=2, hidden_size=self.hidden_size, num_layers=num_layers, batch_first=True)\n",
    "        else:\n",
    "            self.rnn = nn.RNN(input_size=2, hidden_size=self.hidden_size, num_layers=num_layers, batch_first=True)\n",
    "            \n",
    "        self.fc2 = nn.Linear(self.hidden_size, 1)\n",
    "        \n",
    "    def forward(self, inputs, hidden_state, cell=None):\n",
    "        if self.LSTM:\n",
    "            output, (hidden_states, cell) = self.rnn(inputs, (hidden_state, cell))\n",
    "        else:\n",
    "            output, hidden_states = self.rnn(inputs, hidden_state)\n",
    "        output = self.fc2(output)\n",
    "        return output, hidden_states, cell"
   ]
  },
  {
   "cell_type": "code",
   "execution_count": 153,
   "id": "97c1efed",
   "metadata": {},
   "outputs": [],
   "source": [
    "epochs = 1\n",
    "def train(net, train_loader):\n",
    "    \"\"\"Train the network on the training set.\"\"\"\n",
    "    criterion = torch.nn.MSELoss()\n",
    "    optimizer = torch.optim.AdamW(net.parameters(), lr=3e-4)\n",
    "    net.train()\n",
    "    val_losses = []\n",
    "    for epoch in tqdm(range(epochs)):\n",
    "        total_loss = 0.0\n",
    "        for x, Y in train_loader:\n",
    "            Y = Y.to(DEVICE)\n",
    "            x = x.to(DEVICE)\n",
    "            hidden = torch.zeros((num_layers, batch_size, net.hidden_size)).to(DEVICE)\n",
    "            cell = torch.zeros((num_layers, batch_size, net.hidden_size)).to(DEVICE)\n",
    "            outs, hidden, cell = net(x, hidden, cell)\n",
    "            output, _, _ = net(Y, hidden, cell)\n",
    "            z = torch.cat([outs[:, -1], output[:, :-1].squeeze()], dim=1)\n",
    "            loss = criterion(Y[:, :, 1], z)\n",
    "            val_losses.append(loss.item())    \n",
    "            loss.backward()\n",
    "            optimizer.step()\n",
    "            total_loss += loss.item()\n",
    "            #print(f'{loss.item()}\\r')\n",
    "            optimizer.zero_grad()\n",
    "        print(f'{total_loss / len(train_loader)}')\n",
    "    return val_losses"
   ]
  },
  {
   "cell_type": "code",
   "execution_count": 154,
   "id": "ea579e95",
   "metadata": {},
   "outputs": [],
   "source": [
    "def test(net, dataset):\n",
    "    \"\"\"Train the network on the training set.\"\"\"\n",
    "    criterion = torch.nn.MSELoss()\n",
    "    net.eval()\n",
    "    val_losses = []\n",
    "    outputs = []\n",
    "    with torch.no_grad():\n",
    "        for i in range(len(dataset)):\n",
    "            x, Y = dataset[i]\n",
    "            hidden = torch.zeros((num_layers, net.hidden_size)).to(DEVICE)\n",
    "            cell = torch.zeros((num_layers, net.hidden_size)).to(DEVICE)\n",
    "            outs, hidden, cell = net(x, hidden, cell)\n",
    "            z = [outs[-1].squeeze().item()]\n",
    "            for i in range(95):\n",
    "                o, hidden, cell = net(torch.tensor([[i+1, z[-1]]]), hidden, cell)\n",
    "                z.append(o.item())\n",
    "            loss = criterion(Y[:, 1], torch.tensor(z))\n",
    "            val_losses.append(loss.item())\n",
    "            outputs += z\n",
    "    return val_losses, [p *1 for p in outputs]"
   ]
  },
  {
   "cell_type": "markdown",
   "id": "e1066560",
   "metadata": {},
   "source": [
    "# Define the federated learning functions and hyperparameters"
   ]
  },
  {
   "cell_type": "code",
   "execution_count": 155,
   "id": "69a8ead7",
   "metadata": {},
   "outputs": [],
   "source": [
    "batch_size = 8\n",
    "hidden_size = 64"
   ]
  },
  {
   "cell_type": "code",
   "execution_count": 156,
   "id": "cd6052ce",
   "metadata": {},
   "outputs": [],
   "source": [
    "def get_parameters(net) -> List[np.ndarray]:\n",
    "    return [val.cpu().numpy() for _, val in net.state_dict().items()]\n",
    "\n",
    "\n",
    "def set_parameters(net, parameters: List[np.ndarray]):\n",
    "    params_dict = zip(net.state_dict().keys(), parameters)\n",
    "    state_dict = OrderedDict({k: torch.Tensor(v) for k, v in params_dict})\n",
    "    net.load_state_dict(state_dict, strict=True)"
   ]
  },
  {
   "cell_type": "code",
   "execution_count": 157,
   "id": "f297914d",
   "metadata": {},
   "outputs": [],
   "source": [
    "class FlowerClient(fl.client.NumPyClient):\n",
    "    def __init__(self, net, dataset):\n",
    "        self.net = net\n",
    "        self.dataset = dataset\n",
    "        self.losses = []\n",
    "\n",
    "    def get_parameters(self, config):\n",
    "        return get_parameters(self.net)\n",
    "\n",
    "    def fit(self, parameters, config):\n",
    "        set_parameters(self.net, parameters)\n",
    "        loss = train(self.net, self.dataset)\n",
    "        self.losses = loss\n",
    "        return get_parameters(self.net), len(self.dataset), {'loss': np.mean(loss)}\n",
    "\n",
    "    def evaluate(self, parameters, config):\n",
    "        set_parameters(self.net, parameters)\n",
    "        return 0.0, 1, {}\n"
   ]
  },
  {
   "cell_type": "code",
   "execution_count": 158,
   "id": "a82cb646",
   "metadata": {},
   "outputs": [],
   "source": [
    "def client_fn(cid: str) -> FlowerClient:\n",
    "    \"\"\"Create a Flower client representing a single organization.\"\"\"\n",
    "    # Load model\n",
    "    cid = int(cid) + 1\n",
    "    net = MyRNN(hid_size=hidden_size).to(DEVICE)\n",
    "    d = RegressionData(f'./data/Consumer{cid}.csv')\n",
    "    train_loader = DataLoader(d, batch_size=batch_size, shuffle=True, drop_last=True)\n",
    "\n",
    "    # Create a  single Flower client representing a single organization\n",
    "    return FlowerClient(net, train_loader)\n"
   ]
  },
  {
   "cell_type": "code",
   "execution_count": 159,
   "id": "e833c12f",
   "metadata": {},
   "outputs": [],
   "source": [
    "class SaveModelStrategy(fl.server.strategy.FedAvg):\n",
    "    def aggregate_fit(\n",
    "        self,\n",
    "        server_round: int,\n",
    "        results: List[Tuple[fl.server.client_proxy.ClientProxy, fl.common.FitRes]],\n",
    "        failures: List[Union[Tuple[fl.server.client_proxy.ClientProxy, fl.common.FitRes], BaseException]],\n",
    "    ):\n",
    "        \"\"\"Aggregate model weights using weighted average and store checkpoint\"\"\"\n",
    "        net = MyRNN(hid_size=64).to(DEVICE)\n",
    "\n",
    "        # Call aggregate_fit from base class (FedAvg) to aggregate parameters and metrics\n",
    "        aggregated_parameters, aggregated_metrics = super().aggregate_fit(server_round, results, failures)\n",
    "\n",
    "        if aggregated_parameters is not None:\n",
    "            print(f\"Saving round {server_round} aggregated_parameters...\")\n",
    "\n",
    "            # Convert `Parameters` to `List[np.ndarray]`\n",
    "            aggregated_ndarrays: List[np.ndarray] = fl.common.parameters_to_ndarrays(aggregated_parameters)\n",
    "\n",
    "            # Convert `List[np.ndarray]` to PyTorch`state_dict`\n",
    "            params_dict = zip(net.state_dict().keys(), aggregated_ndarrays)\n",
    "            state_dict = OrderedDict({k: torch.tensor(v) for k, v in params_dict})\n",
    "            net.load_state_dict(state_dict, strict=True)\n",
    "\n",
    "            # Save the model\n",
    "            torch.save(net.state_dict(), f\"model_round_{server_round}.pth\")\n",
    "\n",
    "        return aggregated_parameters, aggregated_metrics"
   ]
  },
  {
   "cell_type": "code",
   "execution_count": 160,
   "id": "4b352852",
   "metadata": {},
   "outputs": [],
   "source": [
    "def agg(metrics):\n",
    "    losses = np.mean([m[-1][\"loss\"] for m in metrics])\n",
    "    return {'losses': losses}"
   ]
  },
  {
   "cell_type": "code",
   "execution_count": 161,
   "id": "3c518b2f",
   "metadata": {},
   "outputs": [
    {
     "name": "stderr",
     "output_type": "stream",
     "text": [
      "INFO flwr 2023-11-02 14:49:35,854 | app.py:175 | Starting Flower simulation, config: ServerConfig(num_rounds=20, round_timeout=None)\n",
      "INFO:flwr:Starting Flower simulation, config: ServerConfig(num_rounds=20, round_timeout=None)\n",
      "2023-11-02 14:49:39,391\tINFO worker.py:1642 -- Started a local Ray instance.\n",
      "INFO flwr 2023-11-02 14:49:39,914 | app.py:210 | Flower VCE: Ray initialized with resources: {'memory': 8411191706.0, 'CPU': 8.0, 'node:__internal_head__': 1.0, 'object_store_memory': 2147483648.0, 'node:127.0.0.1': 1.0}\n",
      "INFO:flwr:Flower VCE: Ray initialized with resources: {'memory': 8411191706.0, 'CPU': 8.0, 'node:__internal_head__': 1.0, 'object_store_memory': 2147483648.0, 'node:127.0.0.1': 1.0}\n",
      "INFO flwr 2023-11-02 14:49:39,915 | app.py:218 | No `client_resources` specified. Using minimal resources for clients.\n",
      "INFO:flwr:No `client_resources` specified. Using minimal resources for clients.\n",
      "INFO flwr 2023-11-02 14:49:39,916 | app.py:224 | Flower VCE: Resources for each Virtual Client: {'num_cpus': 1, 'num_gpus': 0.0}\n",
      "INFO:flwr:Flower VCE: Resources for each Virtual Client: {'num_cpus': 1, 'num_gpus': 0.0}\n",
      "INFO flwr 2023-11-02 14:49:39,925 | app.py:270 | Flower VCE: Creating VirtualClientEngineActorPool with 8 actors\n",
      "INFO:flwr:Flower VCE: Creating VirtualClientEngineActorPool with 8 actors\n",
      "INFO flwr 2023-11-02 14:49:39,925 | server.py:89 | Initializing global parameters\n",
      "INFO:flwr:Initializing global parameters\n",
      "INFO flwr 2023-11-02 14:49:39,926 | server.py:276 | Requesting initial parameters from one random client\n",
      "INFO:flwr:Requesting initial parameters from one random client\n",
      "INFO flwr 2023-11-02 14:49:41,663 | server.py:280 | Received initial parameters from one random client\n",
      "INFO:flwr:Received initial parameters from one random client\n",
      "INFO flwr 2023-11-02 14:49:41,664 | server.py:91 | Evaluating initial parameters\n",
      "INFO:flwr:Evaluating initial parameters\n",
      "INFO flwr 2023-11-02 14:49:41,664 | server.py:104 | FL starting\n",
      "INFO:flwr:FL starting\n",
      "DEBUG flwr 2023-11-02 14:49:41,665 | server.py:222 | fit_round 1: strategy sampled 10 clients (out of 40)\n",
      "DEBUG:flwr:fit_round 1: strategy sampled 10 clients (out of 40)\n",
      "  0%|          | 0/1 [00:00<?, ?it/s] \n",
      "100%|██████████| 1/1 [00:02<00:00,  2.87s/it]\n"
     ]
    },
    {
     "name": "stdout",
     "output_type": "stream",
     "text": [
      "\u001b[2m\u001b[36m(DefaultActor pid=26251)\u001b[0m 0.3210696771063588\n"
     ]
    },
    {
     "name": "stderr",
     "output_type": "stream",
     "text": [
      "  0%|          | 0/1 [00:00<?, ?it/s]\u001b[32m [repeated 9x across cluster]\u001b[0m\n",
      "DEBUG flwr 2023-11-02 14:49:47,395 | server.py:236 | fit_round 1 received 10 results and 0 failures\n",
      "DEBUG:flwr:fit_round 1 received 10 results and 0 failures\n",
      "DEBUG flwr 2023-11-02 14:49:47,406 | server.py:173 | evaluate_round 1: strategy sampled 20 clients (out of 40)\n",
      "DEBUG:flwr:evaluate_round 1: strategy sampled 20 clients (out of 40)\n",
      "DEBUG flwr 2023-11-02 14:49:47,535 | server.py:187 | evaluate_round 1 received 20 results and 0 failures\n",
      "DEBUG:flwr:evaluate_round 1 received 20 results and 0 failures\n",
      "WARNING flwr 2023-11-02 14:49:47,536 | fedavg.py:273 | No evaluate_metrics_aggregation_fn provided\n",
      "WARNING:flwr:No evaluate_metrics_aggregation_fn provided\n",
      "DEBUG flwr 2023-11-02 14:49:47,536 | server.py:222 | fit_round 2: strategy sampled 10 clients (out of 40)\n",
      "DEBUG:flwr:fit_round 2: strategy sampled 10 clients (out of 40)\n"
     ]
    },
    {
     "name": "stdout",
     "output_type": "stream",
     "text": [
      "Saving round 1 aggregated_parameters...\n"
     ]
    },
    {
     "name": "stderr",
     "output_type": "stream",
     "text": [
      "\u001b[2m\u001b[36m(DefaultActor pid=26248)\u001b[0m \r",
      "100%|██████████| 1/1 [00:02<00:00,  2.67s/it]\r",
      "100%|██████████| 1/1 [00:02<00:00,  2.67s/it]\u001b[32m [repeated 12x across cluster]\u001b[0m\n"
     ]
    },
    {
     "name": "stdout",
     "output_type": "stream",
     "text": [
      "\u001b[2m\u001b[36m(DefaultActor pid=26248)\u001b[0m 0.10086982866579836\u001b[32m [repeated 12x across cluster]\u001b[0m\n"
     ]
    },
    {
     "name": "stderr",
     "output_type": "stream",
     "text": [
      "DEBUG flwr 2023-11-02 14:49:51,629 | server.py:236 | fit_round 2 received 10 results and 0 failures\n",
      "DEBUG:flwr:fit_round 2 received 10 results and 0 failures\n",
      "DEBUG flwr 2023-11-02 14:49:51,641 | server.py:173 | evaluate_round 2: strategy sampled 20 clients (out of 40)\n",
      "DEBUG:flwr:evaluate_round 2: strategy sampled 20 clients (out of 40)\n",
      "DEBUG flwr 2023-11-02 14:49:51,774 | server.py:187 | evaluate_round 2 received 20 results and 0 failures\n",
      "DEBUG:flwr:evaluate_round 2 received 20 results and 0 failures\n",
      "DEBUG flwr 2023-11-02 14:49:51,775 | server.py:222 | fit_round 3: strategy sampled 10 clients (out of 40)\n",
      "DEBUG:flwr:fit_round 3: strategy sampled 10 clients (out of 40)\n"
     ]
    },
    {
     "name": "stdout",
     "output_type": "stream",
     "text": [
      "Saving round 2 aggregated_parameters...\n"
     ]
    },
    {
     "name": "stderr",
     "output_type": "stream",
     "text": [
      "  0%|          | 0/1 [00:00<?, ?it/s]\u001b[32m [repeated 18x across cluster]\u001b[0m\n",
      "100%|██████████| 1/1 [00:03<00:00,  3.40s/it]\u001b[32m [repeated 15x across cluster]\u001b[0m\n"
     ]
    },
    {
     "name": "stdout",
     "output_type": "stream",
     "text": [
      "\u001b[2m\u001b[36m(DefaultActor pid=26246)\u001b[0m 0.32039683616974135\u001b[32m [repeated 15x across cluster]\u001b[0m\n"
     ]
    },
    {
     "name": "stderr",
     "output_type": "stream",
     "text": [
      "DEBUG flwr 2023-11-02 14:49:55,723 | server.py:236 | fit_round 3 received 10 results and 0 failures\n",
      "DEBUG:flwr:fit_round 3 received 10 results and 0 failures\n",
      "DEBUG flwr 2023-11-02 14:49:55,734 | server.py:173 | evaluate_round 3: strategy sampled 20 clients (out of 40)\n",
      "DEBUG:flwr:evaluate_round 3: strategy sampled 20 clients (out of 40)\n",
      "DEBUG flwr 2023-11-02 14:49:55,861 | server.py:187 | evaluate_round 3 received 20 results and 0 failures\n",
      "DEBUG:flwr:evaluate_round 3 received 20 results and 0 failures\n",
      "DEBUG flwr 2023-11-02 14:49:55,861 | server.py:222 | fit_round 4: strategy sampled 10 clients (out of 40)\n",
      "DEBUG:flwr:fit_round 4: strategy sampled 10 clients (out of 40)\n"
     ]
    },
    {
     "name": "stdout",
     "output_type": "stream",
     "text": [
      "Saving round 3 aggregated_parameters...\n"
     ]
    },
    {
     "name": "stderr",
     "output_type": "stream",
     "text": [
      "  0%|          | 0/1 [00:00<?, ?it/s]\u001b[32m [repeated 12x across cluster]\u001b[0m\n",
      "DEBUG flwr 2023-11-02 14:49:59,827 | server.py:236 | fit_round 4 received 10 results and 0 failures\n",
      "DEBUG:flwr:fit_round 4 received 10 results and 0 failures\n",
      "DEBUG flwr 2023-11-02 14:49:59,838 | server.py:173 | evaluate_round 4: strategy sampled 20 clients (out of 40)\n",
      "DEBUG:flwr:evaluate_round 4: strategy sampled 20 clients (out of 40)\n",
      "DEBUG flwr 2023-11-02 14:49:59,965 | server.py:187 | evaluate_round 4 received 20 results and 0 failures\n",
      "DEBUG:flwr:evaluate_round 4 received 20 results and 0 failures\n",
      "DEBUG flwr 2023-11-02 14:49:59,965 | server.py:222 | fit_round 5: strategy sampled 10 clients (out of 40)\n",
      "DEBUG:flwr:fit_round 5: strategy sampled 10 clients (out of 40)\n"
     ]
    },
    {
     "name": "stdout",
     "output_type": "stream",
     "text": [
      "Saving round 4 aggregated_parameters...\n"
     ]
    },
    {
     "name": "stderr",
     "output_type": "stream",
     "text": [
      "\u001b[2m\u001b[36m(DefaultActor pid=26247)\u001b[0m \r",
      "100%|██████████| 1/1 [00:01<00:00,  1.98s/it]\r",
      "100%|██████████| 1/1 [00:01<00:00,  1.98s/it]\u001b[32m [repeated 13x across cluster]\u001b[0m\n"
     ]
    },
    {
     "name": "stdout",
     "output_type": "stream",
     "text": [
      "\u001b[2m\u001b[36m(DefaultActor pid=26247)\u001b[0m 0.2983636517416347\u001b[32m [repeated 13x across cluster]\u001b[0m\n"
     ]
    },
    {
     "name": "stderr",
     "output_type": "stream",
     "text": [
      "DEBUG flwr 2023-11-02 14:50:03,988 | server.py:236 | fit_round 5 received 10 results and 0 failures\n",
      "DEBUG:flwr:fit_round 5 received 10 results and 0 failures\n",
      "DEBUG flwr 2023-11-02 14:50:03,999 | server.py:173 | evaluate_round 5: strategy sampled 20 clients (out of 40)\n",
      "DEBUG:flwr:evaluate_round 5: strategy sampled 20 clients (out of 40)\n",
      "DEBUG flwr 2023-11-02 14:50:04,128 | server.py:187 | evaluate_round 5 received 20 results and 0 failures\n",
      "DEBUG:flwr:evaluate_round 5 received 20 results and 0 failures\n",
      "DEBUG flwr 2023-11-02 14:50:04,129 | server.py:222 | fit_round 6: strategy sampled 10 clients (out of 40)\n",
      "DEBUG:flwr:fit_round 6: strategy sampled 10 clients (out of 40)\n"
     ]
    },
    {
     "name": "stdout",
     "output_type": "stream",
     "text": [
      "Saving round 5 aggregated_parameters...\n"
     ]
    },
    {
     "name": "stderr",
     "output_type": "stream",
     "text": [
      "  0%|          | 0/1 [00:00<?, ?it/s]\u001b[32m [repeated 18x across cluster]\u001b[0m\n",
      "100%|██████████| 1/1 [00:02<00:00,  2.82s/it]\u001b[32m [repeated 16x across cluster]\u001b[0m\n"
     ]
    },
    {
     "name": "stdout",
     "output_type": "stream",
     "text": [
      "\u001b[2m\u001b[36m(DefaultActor pid=26250)\u001b[0m 0.07525443361902778\u001b[32m [repeated 16x across cluster]\u001b[0m\n"
     ]
    },
    {
     "name": "stderr",
     "output_type": "stream",
     "text": [
      "DEBUG flwr 2023-11-02 14:50:08,148 | server.py:236 | fit_round 6 received 10 results and 0 failures\n",
      "DEBUG:flwr:fit_round 6 received 10 results and 0 failures\n",
      "DEBUG flwr 2023-11-02 14:50:08,158 | server.py:173 | evaluate_round 6: strategy sampled 20 clients (out of 40)\n",
      "DEBUG:flwr:evaluate_round 6: strategy sampled 20 clients (out of 40)\n",
      "DEBUG flwr 2023-11-02 14:50:08,284 | server.py:187 | evaluate_round 6 received 20 results and 0 failures\n",
      "DEBUG:flwr:evaluate_round 6 received 20 results and 0 failures\n",
      "DEBUG flwr 2023-11-02 14:50:08,285 | server.py:222 | fit_round 7: strategy sampled 10 clients (out of 40)\n",
      "DEBUG:flwr:fit_round 7: strategy sampled 10 clients (out of 40)\n"
     ]
    },
    {
     "name": "stdout",
     "output_type": "stream",
     "text": [
      "Saving round 6 aggregated_parameters...\n"
     ]
    },
    {
     "name": "stderr",
     "output_type": "stream",
     "text": [
      "  0%|          | 0/1 [00:00<?, ?it/s]\u001b[32m [repeated 12x across cluster]\u001b[0m\n",
      "DEBUG flwr 2023-11-02 14:50:12,294 | server.py:236 | fit_round 7 received 10 results and 0 failures\n",
      "DEBUG:flwr:fit_round 7 received 10 results and 0 failures\n",
      "100%|██████████| 1/1 [00:01<00:00,  1.76s/it]\u001b[32m [repeated 12x across cluster]\u001b[0m\n",
      "DEBUG flwr 2023-11-02 14:50:12,305 | server.py:173 | evaluate_round 7: strategy sampled 20 clients (out of 40)\n",
      "DEBUG:flwr:evaluate_round 7: strategy sampled 20 clients (out of 40)\n",
      "DEBUG flwr 2023-11-02 14:50:12,432 | server.py:187 | evaluate_round 7 received 20 results and 0 failures\n",
      "DEBUG:flwr:evaluate_round 7 received 20 results and 0 failures\n",
      "DEBUG flwr 2023-11-02 14:50:12,432 | server.py:222 | fit_round 8: strategy sampled 10 clients (out of 40)\n",
      "DEBUG:flwr:fit_round 8: strategy sampled 10 clients (out of 40)\n"
     ]
    },
    {
     "name": "stdout",
     "output_type": "stream",
     "text": [
      "Saving round 7 aggregated_parameters...\n",
      "\u001b[2m\u001b[36m(DefaultActor pid=26245)\u001b[0m 0.2712367248128761\u001b[32m [repeated 12x across cluster]\u001b[0m\n"
     ]
    },
    {
     "name": "stderr",
     "output_type": "stream",
     "text": [
      "DEBUG flwr 2023-11-02 14:50:16,506 | server.py:236 | fit_round 8 received 10 results and 0 failures\n",
      "DEBUG:flwr:fit_round 8 received 10 results and 0 failures\n",
      "DEBUG flwr 2023-11-02 14:50:16,517 | server.py:173 | evaluate_round 8: strategy sampled 20 clients (out of 40)\n",
      "DEBUG:flwr:evaluate_round 8: strategy sampled 20 clients (out of 40)\n",
      "DEBUG flwr 2023-11-02 14:50:16,648 | server.py:187 | evaluate_round 8 received 20 results and 0 failures\n",
      "DEBUG:flwr:evaluate_round 8 received 20 results and 0 failures\n",
      "DEBUG flwr 2023-11-02 14:50:16,648 | server.py:222 | fit_round 9: strategy sampled 10 clients (out of 40)\n",
      "DEBUG:flwr:fit_round 9: strategy sampled 10 clients (out of 40)\n",
      "  0%|          | 0/1 [00:00<?, ?it/s]\u001b[32m [repeated 11x across cluster]\u001b[0m\n"
     ]
    },
    {
     "name": "stdout",
     "output_type": "stream",
     "text": [
      "Saving round 8 aggregated_parameters...\n"
     ]
    },
    {
     "name": "stderr",
     "output_type": "stream",
     "text": [
      "\u001b[2m\u001b[36m(DefaultActor pid=26247)\u001b[0m \r",
      "100%|██████████| 1/1 [00:02<00:00,  2.02s/it]\r",
      "100%|██████████| 1/1 [00:02<00:00,  2.02s/it]\u001b[32m [repeated 12x across cluster]\u001b[0m\n"
     ]
    },
    {
     "name": "stdout",
     "output_type": "stream",
     "text": [
      "\u001b[2m\u001b[36m(DefaultActor pid=26245)\u001b[0m 0.3793545202775435\u001b[32m [repeated 12x across cluster]\u001b[0m\n"
     ]
    },
    {
     "name": "stderr",
     "output_type": "stream",
     "text": [
      "DEBUG flwr 2023-11-02 14:50:20,666 | server.py:236 | fit_round 9 received 10 results and 0 failures\n",
      "DEBUG:flwr:fit_round 9 received 10 results and 0 failures\n",
      "DEBUG flwr 2023-11-02 14:50:20,676 | server.py:173 | evaluate_round 9: strategy sampled 20 clients (out of 40)\n",
      "DEBUG:flwr:evaluate_round 9: strategy sampled 20 clients (out of 40)\n",
      "DEBUG flwr 2023-11-02 14:50:20,801 | server.py:187 | evaluate_round 9 received 20 results and 0 failures\n",
      "DEBUG:flwr:evaluate_round 9 received 20 results and 0 failures\n",
      "DEBUG flwr 2023-11-02 14:50:20,802 | server.py:222 | fit_round 10: strategy sampled 10 clients (out of 40)\n",
      "DEBUG:flwr:fit_round 10: strategy sampled 10 clients (out of 40)\n"
     ]
    },
    {
     "name": "stdout",
     "output_type": "stream",
     "text": [
      "Saving round 9 aggregated_parameters...\n"
     ]
    },
    {
     "name": "stderr",
     "output_type": "stream",
     "text": [
      "  0%|          | 0/1 [00:00<?, ?it/s]\u001b[32m [repeated 17x across cluster]\u001b[0m\n",
      "100%|██████████| 1/1 [00:02<00:00,  2.92s/it]\u001b[32m [repeated 15x across cluster]\u001b[0m\n"
     ]
    },
    {
     "name": "stdout",
     "output_type": "stream",
     "text": [
      "\u001b[2m\u001b[36m(DefaultActor pid=26248)\u001b[0m 0.13118636066263373\u001b[32m [repeated 15x across cluster]\u001b[0m\n"
     ]
    },
    {
     "name": "stderr",
     "output_type": "stream",
     "text": [
      "DEBUG flwr 2023-11-02 14:50:24,818 | server.py:236 | fit_round 10 received 10 results and 0 failures\n",
      "DEBUG:flwr:fit_round 10 received 10 results and 0 failures\n",
      "DEBUG flwr 2023-11-02 14:50:24,828 | server.py:173 | evaluate_round 10: strategy sampled 20 clients (out of 40)\n",
      "DEBUG:flwr:evaluate_round 10: strategy sampled 20 clients (out of 40)\n",
      "DEBUG flwr 2023-11-02 14:50:24,955 | server.py:187 | evaluate_round 10 received 20 results and 0 failures\n",
      "DEBUG:flwr:evaluate_round 10 received 20 results and 0 failures\n",
      "DEBUG flwr 2023-11-02 14:50:24,955 | server.py:222 | fit_round 11: strategy sampled 10 clients (out of 40)\n",
      "DEBUG:flwr:fit_round 11: strategy sampled 10 clients (out of 40)\n"
     ]
    },
    {
     "name": "stdout",
     "output_type": "stream",
     "text": [
      "Saving round 10 aggregated_parameters...\n"
     ]
    },
    {
     "name": "stderr",
     "output_type": "stream",
     "text": [
      "  0%|          | 0/1 [00:00<?, ?it/s]\u001b[32m [repeated 12x across cluster]\u001b[0m\n",
      "100%|██████████| 1/1 [00:01<00:00,  1.82s/it]\u001b[32m [repeated 13x across cluster]\u001b[0m\n",
      "DEBUG flwr 2023-11-02 14:50:28,971 | server.py:236 | fit_round 11 received 10 results and 0 failures\n",
      "DEBUG:flwr:fit_round 11 received 10 results and 0 failures\n",
      "DEBUG flwr 2023-11-02 14:50:28,981 | server.py:173 | evaluate_round 11: strategy sampled 20 clients (out of 40)\n",
      "DEBUG:flwr:evaluate_round 11: strategy sampled 20 clients (out of 40)\n"
     ]
    },
    {
     "name": "stdout",
     "output_type": "stream",
     "text": [
      "\u001b[2m\u001b[36m(DefaultActor pid=26247)\u001b[0m 0.274695866487243\u001b[32m [repeated 13x across cluster]\u001b[0m\n",
      "Saving round 11 aggregated_parameters...\n"
     ]
    },
    {
     "name": "stderr",
     "output_type": "stream",
     "text": [
      "DEBUG flwr 2023-11-02 14:50:29,109 | server.py:187 | evaluate_round 11 received 20 results and 0 failures\n",
      "DEBUG:flwr:evaluate_round 11 received 20 results and 0 failures\n",
      "DEBUG flwr 2023-11-02 14:50:29,110 | server.py:222 | fit_round 12: strategy sampled 10 clients (out of 40)\n",
      "DEBUG:flwr:fit_round 12: strategy sampled 10 clients (out of 40)\n",
      "DEBUG flwr 2023-11-02 14:50:33,086 | server.py:236 | fit_round 12 received 10 results and 0 failures\n",
      "DEBUG:flwr:fit_round 12 received 10 results and 0 failures\n",
      "DEBUG flwr 2023-11-02 14:50:33,097 | server.py:173 | evaluate_round 12: strategy sampled 20 clients (out of 40)\n",
      "DEBUG:flwr:evaluate_round 12: strategy sampled 20 clients (out of 40)\n",
      "  0%|          | 0/1 [00:00<?, ?it/s]\u001b[32m [repeated 10x across cluster]\u001b[0m\n",
      "DEBUG flwr 2023-11-02 14:50:33,225 | server.py:187 | evaluate_round 12 received 20 results and 0 failures\n",
      "DEBUG:flwr:evaluate_round 12 received 20 results and 0 failures\n",
      "DEBUG flwr 2023-11-02 14:50:33,225 | server.py:222 | fit_round 13: strategy sampled 10 clients (out of 40)\n",
      "DEBUG:flwr:fit_round 13: strategy sampled 10 clients (out of 40)\n"
     ]
    },
    {
     "name": "stdout",
     "output_type": "stream",
     "text": [
      "Saving round 12 aggregated_parameters...\n"
     ]
    },
    {
     "name": "stderr",
     "output_type": "stream",
     "text": [
      "\u001b[2m\u001b[36m(DefaultActor pid=26247)\u001b[0m \r",
      "100%|██████████| 1/1 [00:01<00:00,  2.00s/it]\r",
      "100%|██████████| 1/1 [00:01<00:00,  2.00s/it]\u001b[32m [repeated 12x across cluster]\u001b[0m\n"
     ]
    },
    {
     "name": "stdout",
     "output_type": "stream",
     "text": [
      "\u001b[2m\u001b[36m(DefaultActor pid=26247)\u001b[0m 0.261442820456895\u001b[32m [repeated 12x across cluster]\u001b[0m\n"
     ]
    },
    {
     "name": "stderr",
     "output_type": "stream",
     "text": [
      "DEBUG flwr 2023-11-02 14:50:37,425 | server.py:236 | fit_round 13 received 10 results and 0 failures\n",
      "DEBUG:flwr:fit_round 13 received 10 results and 0 failures\n",
      "DEBUG flwr 2023-11-02 14:50:37,435 | server.py:173 | evaluate_round 13: strategy sampled 20 clients (out of 40)\n",
      "DEBUG:flwr:evaluate_round 13: strategy sampled 20 clients (out of 40)\n",
      "DEBUG flwr 2023-11-02 14:50:37,565 | server.py:187 | evaluate_round 13 received 20 results and 0 failures\n",
      "DEBUG:flwr:evaluate_round 13 received 20 results and 0 failures\n",
      "DEBUG flwr 2023-11-02 14:50:37,565 | server.py:222 | fit_round 14: strategy sampled 10 clients (out of 40)\n",
      "DEBUG:flwr:fit_round 14: strategy sampled 10 clients (out of 40)\n"
     ]
    },
    {
     "name": "stdout",
     "output_type": "stream",
     "text": [
      "Saving round 13 aggregated_parameters...\n"
     ]
    },
    {
     "name": "stderr",
     "output_type": "stream",
     "text": [
      "  0%|          | 0/1 [00:00<?, ?it/s]\u001b[32m [repeated 19x across cluster]\u001b[0m\n",
      "100%|██████████| 1/1 [00:02<00:00,  2.76s/it]\u001b[32m [repeated 12x across cluster]\u001b[0m\n"
     ]
    },
    {
     "name": "stdout",
     "output_type": "stream",
     "text": [
      "\u001b[2m\u001b[36m(DefaultActor pid=26251)\u001b[0m 0.27131409638307313\u001b[32m [repeated 12x across cluster]\u001b[0m\n"
     ]
    },
    {
     "name": "stderr",
     "output_type": "stream",
     "text": [
      "DEBUG flwr 2023-11-02 14:50:41,639 | server.py:236 | fit_round 14 received 10 results and 0 failures\n",
      "DEBUG:flwr:fit_round 14 received 10 results and 0 failures\n",
      "DEBUG flwr 2023-11-02 14:50:41,648 | server.py:173 | evaluate_round 14: strategy sampled 20 clients (out of 40)\n",
      "DEBUG:flwr:evaluate_round 14: strategy sampled 20 clients (out of 40)\n",
      "DEBUG flwr 2023-11-02 14:50:41,777 | server.py:187 | evaluate_round 14 received 20 results and 0 failures\n",
      "DEBUG:flwr:evaluate_round 14 received 20 results and 0 failures\n",
      "DEBUG flwr 2023-11-02 14:50:41,777 | server.py:222 | fit_round 15: strategy sampled 10 clients (out of 40)\n",
      "DEBUG:flwr:fit_round 15: strategy sampled 10 clients (out of 40)\n"
     ]
    },
    {
     "name": "stdout",
     "output_type": "stream",
     "text": [
      "Saving round 14 aggregated_parameters...\n"
     ]
    },
    {
     "name": "stderr",
     "output_type": "stream",
     "text": [
      "  0%|          | 0/1 [00:00<?, ?it/s]\u001b[32m [repeated 11x across cluster]\u001b[0m\n",
      "100%|██████████| 1/1 [00:01<00:00,  1.76s/it]\u001b[32m [repeated 16x across cluster]\u001b[0m\n",
      "DEBUG flwr 2023-11-02 14:50:45,787 | server.py:236 | fit_round 15 received 10 results and 0 failures\n",
      "DEBUG:flwr:fit_round 15 received 10 results and 0 failures\n",
      "DEBUG flwr 2023-11-02 14:50:45,797 | server.py:173 | evaluate_round 15: strategy sampled 20 clients (out of 40)\n",
      "DEBUG:flwr:evaluate_round 15: strategy sampled 20 clients (out of 40)\n"
     ]
    },
    {
     "name": "stdout",
     "output_type": "stream",
     "text": [
      "\u001b[2m\u001b[36m(DefaultActor pid=26247)\u001b[0m 0.06126702170480381\u001b[32m [repeated 16x across cluster]\u001b[0m\n",
      "Saving round 15 aggregated_parameters...\n"
     ]
    },
    {
     "name": "stderr",
     "output_type": "stream",
     "text": [
      "DEBUG flwr 2023-11-02 14:50:45,926 | server.py:187 | evaluate_round 15 received 20 results and 0 failures\n",
      "DEBUG:flwr:evaluate_round 15 received 20 results and 0 failures\n",
      "DEBUG flwr 2023-11-02 14:50:45,926 | server.py:222 | fit_round 16: strategy sampled 10 clients (out of 40)\n",
      "DEBUG:flwr:fit_round 16: strategy sampled 10 clients (out of 40)\n",
      "  0%|          | 0/1 [00:00<?, ?it/s]\u001b[32m [repeated 10x across cluster]\u001b[0m\n",
      "DEBUG flwr 2023-11-02 14:50:50,085 | server.py:236 | fit_round 16 received 10 results and 0 failures\n",
      "DEBUG:flwr:fit_round 16 received 10 results and 0 failures\n",
      "DEBUG flwr 2023-11-02 14:50:50,096 | server.py:173 | evaluate_round 16: strategy sampled 20 clients (out of 40)\n",
      "DEBUG:flwr:evaluate_round 16: strategy sampled 20 clients (out of 40)\n",
      "DEBUG flwr 2023-11-02 14:50:50,226 | server.py:187 | evaluate_round 16 received 20 results and 0 failures\n",
      "DEBUG:flwr:evaluate_round 16 received 20 results and 0 failures\n",
      "DEBUG flwr 2023-11-02 14:50:50,227 | server.py:222 | fit_round 17: strategy sampled 10 clients (out of 40)\n",
      "DEBUG:flwr:fit_round 17: strategy sampled 10 clients (out of 40)\n"
     ]
    },
    {
     "name": "stdout",
     "output_type": "stream",
     "text": [
      "Saving round 16 aggregated_parameters...\n"
     ]
    },
    {
     "name": "stderr",
     "output_type": "stream",
     "text": [
      "\u001b[2m\u001b[36m(DefaultActor pid=26247)\u001b[0m \r",
      "100%|██████████| 1/1 [00:02<00:00,  2.05s/it]\r",
      "100%|██████████| 1/1 [00:02<00:00,  2.05s/it]\u001b[32m [repeated 12x across cluster]\u001b[0m\n"
     ]
    },
    {
     "name": "stdout",
     "output_type": "stream",
     "text": [
      "\u001b[2m\u001b[36m(DefaultActor pid=26245)\u001b[0m 0.008437499853740022\u001b[32m [repeated 12x across cluster]\u001b[0m\n"
     ]
    },
    {
     "name": "stderr",
     "output_type": "stream",
     "text": [
      "DEBUG flwr 2023-11-02 14:50:54,265 | server.py:236 | fit_round 17 received 10 results and 0 failures\n",
      "DEBUG:flwr:fit_round 17 received 10 results and 0 failures\n",
      "DEBUG flwr 2023-11-02 14:50:54,275 | server.py:173 | evaluate_round 17: strategy sampled 20 clients (out of 40)\n",
      "DEBUG:flwr:evaluate_round 17: strategy sampled 20 clients (out of 40)\n",
      "DEBUG flwr 2023-11-02 14:50:54,404 | server.py:187 | evaluate_round 17 received 20 results and 0 failures\n",
      "DEBUG:flwr:evaluate_round 17 received 20 results and 0 failures\n",
      "DEBUG flwr 2023-11-02 14:50:54,405 | server.py:222 | fit_round 18: strategy sampled 10 clients (out of 40)\n",
      "DEBUG:flwr:fit_round 18: strategy sampled 10 clients (out of 40)\n"
     ]
    },
    {
     "name": "stdout",
     "output_type": "stream",
     "text": [
      "Saving round 17 aggregated_parameters...\n"
     ]
    },
    {
     "name": "stderr",
     "output_type": "stream",
     "text": [
      "  0%|          | 0/1 [00:00<?, ?it/s]\u001b[32m [repeated 18x across cluster]\u001b[0m\n",
      "100%|██████████| 1/1 [00:02<00:00,  2.94s/it]\u001b[32m [repeated 14x across cluster]\u001b[0m\n"
     ]
    },
    {
     "name": "stdout",
     "output_type": "stream",
     "text": [
      "\u001b[2m\u001b[36m(DefaultActor pid=26244)\u001b[0m 0.05369879284196279\u001b[32m [repeated 14x across cluster]\u001b[0m\n"
     ]
    },
    {
     "name": "stderr",
     "output_type": "stream",
     "text": [
      "DEBUG flwr 2023-11-02 14:50:58,429 | server.py:236 | fit_round 18 received 10 results and 0 failures\n",
      "DEBUG:flwr:fit_round 18 received 10 results and 0 failures\n",
      "DEBUG flwr 2023-11-02 14:50:58,439 | server.py:173 | evaluate_round 18: strategy sampled 20 clients (out of 40)\n",
      "DEBUG:flwr:evaluate_round 18: strategy sampled 20 clients (out of 40)\n",
      "DEBUG flwr 2023-11-02 14:50:58,567 | server.py:187 | evaluate_round 18 received 20 results and 0 failures\n",
      "DEBUG:flwr:evaluate_round 18 received 20 results and 0 failures\n",
      "DEBUG flwr 2023-11-02 14:50:58,568 | server.py:222 | fit_round 19: strategy sampled 10 clients (out of 40)\n",
      "DEBUG:flwr:fit_round 19: strategy sampled 10 clients (out of 40)\n"
     ]
    },
    {
     "name": "stdout",
     "output_type": "stream",
     "text": [
      "Saving round 18 aggregated_parameters...\n"
     ]
    },
    {
     "name": "stderr",
     "output_type": "stream",
     "text": [
      "  0%|          | 0/1 [00:00<?, ?it/s]\u001b[32m [repeated 12x across cluster]\u001b[0m\n",
      "100%|██████████| 1/1 [00:01<00:00,  1.81s/it]\u001b[32m [repeated 14x across cluster]\u001b[0m\n"
     ]
    },
    {
     "name": "stdout",
     "output_type": "stream",
     "text": [
      "\u001b[2m\u001b[36m(DefaultActor pid=26247)\u001b[0m 0.07109771575778723\u001b[32m [repeated 14x across cluster]\u001b[0m\n"
     ]
    },
    {
     "name": "stderr",
     "output_type": "stream",
     "text": [
      "DEBUG flwr 2023-11-02 14:51:02,753 | server.py:236 | fit_round 19 received 10 results and 0 failures\n",
      "DEBUG:flwr:fit_round 19 received 10 results and 0 failures\n",
      "DEBUG flwr 2023-11-02 14:51:02,764 | server.py:173 | evaluate_round 19: strategy sampled 20 clients (out of 40)\n",
      "DEBUG:flwr:evaluate_round 19: strategy sampled 20 clients (out of 40)\n",
      "DEBUG flwr 2023-11-02 14:51:02,890 | server.py:187 | evaluate_round 19 received 20 results and 0 failures\n",
      "DEBUG:flwr:evaluate_round 19 received 20 results and 0 failures\n",
      "DEBUG flwr 2023-11-02 14:51:02,891 | server.py:222 | fit_round 20: strategy sampled 10 clients (out of 40)\n",
      "DEBUG:flwr:fit_round 20: strategy sampled 10 clients (out of 40)\n"
     ]
    },
    {
     "name": "stdout",
     "output_type": "stream",
     "text": [
      "Saving round 19 aggregated_parameters...\n"
     ]
    },
    {
     "name": "stderr",
     "output_type": "stream",
     "text": [
      "  0%|          | 0/1 [00:00<?, ?it/s]\u001b[32m [repeated 10x across cluster]\u001b[0m\n",
      "DEBUG flwr 2023-11-02 14:51:06,851 | server.py:236 | fit_round 20 received 10 results and 0 failures\n",
      "DEBUG:flwr:fit_round 20 received 10 results and 0 failures\n",
      "DEBUG flwr 2023-11-02 14:51:06,861 | server.py:173 | evaluate_round 20: strategy sampled 20 clients (out of 40)\n",
      "DEBUG:flwr:evaluate_round 20: strategy sampled 20 clients (out of 40)\n",
      "DEBUG flwr 2023-11-02 14:51:06,991 | server.py:187 | evaluate_round 20 received 20 results and 0 failures\n",
      "DEBUG:flwr:evaluate_round 20 received 20 results and 0 failures\n",
      "INFO flwr 2023-11-02 14:51:06,991 | server.py:153 | FL finished in 85.32677591696847\n",
      "INFO:flwr:FL finished in 85.32677591696847\n",
      "INFO flwr 2023-11-02 14:51:06,992 | app.py:225 | app_fit: losses_distributed [(1, 0.0), (2, 0.0), (3, 0.0), (4, 0.0), (5, 0.0), (6, 0.0), (7, 0.0), (8, 0.0), (9, 0.0), (10, 0.0), (11, 0.0), (12, 0.0), (13, 0.0), (14, 0.0), (15, 0.0), (16, 0.0), (17, 0.0), (18, 0.0), (19, 0.0), (20, 0.0)]\n",
      "INFO:flwr:app_fit: losses_distributed [(1, 0.0), (2, 0.0), (3, 0.0), (4, 0.0), (5, 0.0), (6, 0.0), (7, 0.0), (8, 0.0), (9, 0.0), (10, 0.0), (11, 0.0), (12, 0.0), (13, 0.0), (14, 0.0), (15, 0.0), (16, 0.0), (17, 0.0), (18, 0.0), (19, 0.0), (20, 0.0)]\n",
      "INFO flwr 2023-11-02 14:51:06,992 | app.py:226 | app_fit: metrics_distributed_fit {'losses': [(1, 0.24679820727218282), (2, 0.19933107017158447), (3, 0.22032784336161884), (4, 0.1919129752638665), (5, 0.23296890583905308), (6, 0.17504187037490987), (7, 0.13908539616968482), (8, 0.08549910518182019), (9, 0.1710624958684837), (10, 0.16704175566661764), (11, 0.14999187556412918), (12, 0.11287887827916576), (13, 0.17239110937172716), (14, 0.15496814022507435), (15, 0.1709966930973513), (16, 0.16383610772847365), (17, 0.13182503302973186), (18, 0.16850927074609154), (19, 0.20912661122327503), (20, 0.17579575737260958)]}\n",
      "INFO:flwr:app_fit: metrics_distributed_fit {'losses': [(1, 0.24679820727218282), (2, 0.19933107017158447), (3, 0.22032784336161884), (4, 0.1919129752638665), (5, 0.23296890583905308), (6, 0.17504187037490987), (7, 0.13908539616968482), (8, 0.08549910518182019), (9, 0.1710624958684837), (10, 0.16704175566661764), (11, 0.14999187556412918), (12, 0.11287887827916576), (13, 0.17239110937172716), (14, 0.15496814022507435), (15, 0.1709966930973513), (16, 0.16383610772847365), (17, 0.13182503302973186), (18, 0.16850927074609154), (19, 0.20912661122327503), (20, 0.17579575737260958)]}\n",
      "INFO flwr 2023-11-02 14:51:06,993 | app.py:227 | app_fit: metrics_distributed {}\n",
      "INFO:flwr:app_fit: metrics_distributed {}\n",
      "INFO flwr 2023-11-02 14:51:06,993 | app.py:228 | app_fit: losses_centralized []\n",
      "INFO:flwr:app_fit: losses_centralized []\n",
      "INFO flwr 2023-11-02 14:51:06,993 | app.py:229 | app_fit: metrics_centralized {}\n",
      "INFO:flwr:app_fit: metrics_centralized {}\n"
     ]
    },
    {
     "name": "stdout",
     "output_type": "stream",
     "text": [
      "Saving round 20 aggregated_parameters...\n"
     ]
    }
   ],
   "source": [
    "# Create FedAvg strategy\n",
    "strategy = SaveModelStrategy(\n",
    "    fraction_fit=0.25,  # Sample 100% of available clients for training\n",
    "    fraction_evaluate=0.5,  # Sample 50% of available clients for evaluation\n",
    "    min_fit_clients=10,  # Never sample less than 10 clients for training\n",
    "    min_evaluate_clients=5,  # Never sample less than 5 clients for evaluation\n",
    "    min_available_clients=40,  # Wait until all 10 clients are available\n",
    "    fit_metrics_aggregation_fn= agg\n",
    ")\n",
    "\n",
    "# Specify client resources if you need GPU (defaults to 1 CPU and 0 GPU)\n",
    "client_resources = None\n",
    "if DEVICE.type == \"cuda\":\n",
    "    client_resources = {\"num_gpus\": 1}\n",
    "\n",
    "# Start simulation\n",
    "res = fl.simulation.start_simulation(\n",
    "    client_fn=client_fn,\n",
    "    num_clients=40,\n",
    "    config=fl.server.ServerConfig(num_rounds=20),\n",
    "    strategy=strategy,\n",
    "    client_resources=client_resources,\n",
    ")\n"
   ]
  },
  {
   "cell_type": "markdown",
   "id": "6b03156e",
   "metadata": {},
   "source": [
    "# Training performance"
   ]
  },
  {
   "cell_type": "code",
   "execution_count": 162,
   "id": "2dc0a7cd",
   "metadata": {},
   "outputs": [
    {
     "data": {
      "image/png": "[encoded data removed]",
      "text/plain": [
       "<Figure size 640x480 with 1 Axes>"
      ]
     },
     "metadata": {},
     "output_type": "display_data"
    }
   ],
   "source": [
    "train_losses = [x[1] for x in res.metrics_distributed_fit['losses']]\n",
    "plt.plot(train_losses, label='Training performance')\n",
    "plt.legend()\n",
    "plt.xlabel('Optimization rounds')\n",
    "plt.ylabel('MSE')\n",
    "plt.show()"
   ]
  },
  {
   "cell_type": "markdown",
   "id": "509c79c1",
   "metadata": {},
   "source": [
    "# Evaluate on test"
   ]
  },
  {
   "cell_type": "code",
   "execution_count": 163,
   "id": "68e3a89f",
   "metadata": {},
   "outputs": [
    {
     "data": {
      "text/plain": [
       "<All keys matched successfully>"
      ]
     },
     "execution_count": 163,
     "metadata": {},
     "output_type": "execute_result"
    }
   ],
   "source": [
    "model_round = 20\n",
    "net = MyRNN(hid_size=hidden_size)\n",
    "net.load_state_dict(torch.load(f'./model_round_{model_round}.pth'), strict=False)"
   ]
  },
  {
   "cell_type": "markdown",
   "id": "368d1e1d",
   "metadata": {},
   "source": [
    "### Evaluate over the whole test dataset"
   ]
  },
  {
   "cell_type": "code",
   "execution_count": 146,
   "id": "7d1fcdc5",
   "metadata": {},
   "outputs": [
    {
     "name": "stderr",
     "output_type": "stream",
     "text": [
      "100%|█████████████████████████████████████████████████████████████████████████████████████████████████████████████████████████████████████████████████████████████████████████████████████████████████████████████████████████████████████████████████████████████████████████████████████████| 10/10 [00:27<00:00,  2.80s/it]"
     ]
    },
    {
     "name": "stdout",
     "output_type": "stream",
     "text": [
      "Total test MSE: 0.02122908487432121\n"
     ]
    },
    {
     "name": "stderr",
     "output_type": "stream",
     "text": [
      "\n"
     ]
    }
   ],
   "source": [
    "mse = []\n",
    "for i in trange(41, 51):\n",
    "    eval_dataset = RegressionData(f'./data/Consumer{i}.csv')\n",
    "    loss, _ = test(net, eval_dataset)\n",
    "    mse += loss\n",
    "print(f'Total test MSE: {np.mean(mse)}')"
   ]
  },
  {
   "cell_type": "markdown",
   "id": "7da798f5",
   "metadata": {},
   "source": [
    "### Per consumer"
   ]
  },
  {
   "cell_type": "code",
   "execution_count": 164,
   "id": "afab24d4",
   "metadata": {},
   "outputs": [],
   "source": [
    "eval_dataset = RegressionData(f'./data/Consumer49.csv')"
   ]
  },
  {
   "cell_type": "code",
   "execution_count": 165,
   "id": "c8829022",
   "metadata": {},
   "outputs": [],
   "source": [
    "loss, outs = test(net, eval_dataset)"
   ]
  },
  {
   "cell_type": "code",
   "execution_count": 166,
   "id": "4a5a6dd7",
   "metadata": {},
   "outputs": [
    {
     "data": {
      "image/png": "[encoded data removed]",
      "text/plain": [
       "<Figure size 640x480 with 1 Axes>"
      ]
     },
     "metadata": {},
     "output_type": "display_data"
    }
   ],
   "source": [
    "plt.plot(outs[:96], label='Predicted')\n",
    "plt.plot(eval_dataset[0][1][:95, 1], label='True')\n",
    "plt.legend()\n",
    "plt.show()"
   ]
  },
  {
   "cell_type": "markdown",
   "id": "8635841b",
   "metadata": {},
   "source": [
    "# Analysis"
   ]
  },
  {
   "cell_type": "code",
   "execution_count": 167,
   "id": "951634d6",
   "metadata": {},
   "outputs": [
    {
     "data": {
      "image/png": "[encoded data removed]",
      "text/plain": [
       "<Figure size 640x480 with 1 Axes>"
      ]
     },
     "metadata": {},
     "output_type": "display_data"
    }
   ],
   "source": [
    "plt.plot(outs, label='Predicted')\n",
    "plt.legend()\n",
    "plt.show()"
   ]
  },
  {
   "cell_type": "code",
   "execution_count": null,
   "id": "e662e30e",
   "metadata": {},
   "outputs": [],
   "source": []
  }
 ],
 "metadata": {
  "kernelspec": {
   "display_name": "Python 3 (ipykernel)",
   "language": "python",
   "name": "python3"
  },
  "language_info": {
   "codemirror_mode": {
    "name": "ipython",
    "version": 3
   },
   "file_extension": ".py",
   "mimetype": "text/x-python",
   "name": "python",
   "nbconvert_exporter": "python",
   "pygments_lexer": "ipython3",
   "version": "3.10.13"
  }
 },
 "nbformat": 4,
 "nbformat_minor": 5
}
