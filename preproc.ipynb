{
 "cells": [
  {
   "cell_type": "code",
   "execution_count": 1,
   "id": "9c4b3cad",
   "metadata": {},
   "outputs": [],
   "source": [
    "import pandas as pd"
   ]
  },
  {
   "cell_type": "code",
   "execution_count": 2,
   "id": "a63545e7",
   "metadata": {},
   "outputs": [],
   "source": [
    "excel_file = './data/data.xlsx'\n",
    "all_sheets = pd.read_excel(excel_file, sheet_name=None)\n",
    "sheets = all_sheets.keys()"
   ]
  },
  {
   "cell_type": "code",
   "execution_count": 19,
   "id": "26416ece",
   "metadata": {},
   "outputs": [],
   "source": [
    "for sheet in sheets:\n",
    "    sheet = pd.read_excel(excel_file, index_col=0, sheet_name=sheet_name)\n",
    "    sheet['appliances'] = sheet.iloc[:, 1:].sum(axis=1)\n",
    "    sheet.to_csv(\"data/%s.csv\" % sheet_name, index=False)"
   ]
  },
  {
   "cell_type": "code",
   "execution_count": null,
   "id": "ec0e65b0",
   "metadata": {},
   "outputs": [],
   "source": []
  }
 ],
 "metadata": {
  "kernelspec": {
   "display_name": "Python 3 (ipykernel)",
   "language": "python",
   "name": "python3"
  },
  "language_info": {
   "codemirror_mode": {
    "name": "ipython",
    "version": 3
   },
   "file_extension": ".py",
   "mimetype": "text/x-python",
   "name": "python",
   "nbconvert_exporter": "python",
   "pygments_lexer": "ipython3",
   "version": "3.10.13"
  }
 },
 "nbformat": 4,
 "nbformat_minor": 5
}
