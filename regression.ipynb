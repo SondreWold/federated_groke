{
 "cells": [
  {
   "cell_type": "code",
   "execution_count": 9,
   "id": "7fd067b7",
   "metadata": {},
   "outputs": [],
   "source": [
    "from torch.utils.data import DataLoader, Dataset\n",
    "import pandas as pd\n",
    "import torch\n",
    "from collections import OrderedDict\n",
    "from typing import List, Tuple\n",
    "import matplotlib.pyplot as plt\n",
    "import numpy as np\n",
    "import torch\n",
    "import torch.nn as nn\n",
    "import torch.nn.functional as F\n",
    "import torchvision\n",
    "import torchvision.transforms as transforms\n",
    "from torch.utils.data import DataLoader, random_split\n",
    "from torchvision.datasets import CIFAR10\n",
    "import flwr as fl\n",
    "from flwr.common import Metrics\n",
    "import random\n",
    "import torch.nn as nn\n",
    "from typing import Union, Optional\n",
    "from sklearn.preprocessing import MinMaxScaler\n",
    "from tqdm import tqdm, trange\n",
    "DEVICE = torch.device(\"cpu\")"
   ]
  },
  {
   "cell_type": "markdown",
   "id": "c84b8410",
   "metadata": {},
   "source": [
    "# Define classes and functions"
   ]
  },
  {
   "cell_type": "code",
   "execution_count": 10,
   "id": "e36428ad",
   "metadata": {},
   "outputs": [],
   "source": [
    "class RegressionData(Dataset):\n",
    "    def __init__(self, path):\n",
    "        df = pd.read_csv(path)\n",
    "        self.scaler = MinMaxScaler()\n",
    "        self.x = df[['Periods','appliances']].values\n",
    "        self.x[:, 1] /= 1\n",
    "    \n",
    "    def __len__(self):\n",
    "        return (len(self.x) // 96) - 8\n",
    "    \n",
    "    def __getitem__(self, idx):\n",
    "        if idx > 358:\n",
    "            raise Exception('Unbounded window')\n",
    "        return torch.tensor(self.x[idx*96:(idx+7)*(96)], dtype=torch.float32), torch.tensor(self.x[(idx+7)*96:(idx+8)*96], dtype=torch.float32)"
   ]
  },
  {
   "cell_type": "code",
   "execution_count": 35,
   "id": "61792103",
   "metadata": {},
   "outputs": [],
   "source": [
    "class MyRNN(nn.Module):\n",
    "    def __init__(self, hid_size, LSTM=False, num_layers=2):\n",
    "        super(MyRNN, self).__init__()\n",
    "        self.hidden_size = hid_size\n",
    "        self.num_layers = num_layers\n",
    "        self.LSTM = LSTM\n",
    "        if LSTM:\n",
    "            self.rnn = nn.LSTM(input_size=2, hidden_size=self.hidden_size, num_layers=self.num_layers, batch_first=True)\n",
    "        else:\n",
    "            self.rnn = nn.RNN(input_size=2, hidden_size=self.hidden_size, num_layers=self.num_layers, batch_first=True)\n",
    "            \n",
    "        self.fc2 = nn.Linear(self.hidden_size, 1)\n",
    "        \n",
    "    def forward(self, inputs, hidden_state, cell=None):\n",
    "        if self.LSTM:\n",
    "            output, (hidden_states, cell) = self.rnn(inputs, (hidden_state, cell))\n",
    "        else:\n",
    "            output, hidden_states = self.rnn(inputs, hidden_state)\n",
    "        output = self.fc2(output)\n",
    "        return output, hidden_states, cell"
   ]
  },
  {
   "cell_type": "code",
   "execution_count": 37,
   "id": "97c1efed",
   "metadata": {},
   "outputs": [],
   "source": [
    "epochs = 5\n",
    "def train(net, train_loader, lr):\n",
    "    \"\"\"Train the network on the training set.\"\"\"\n",
    "    criterion = torch.nn.MSELoss()\n",
    "    optimizer = torch.optim.AdamW(net.parameters(), lr=lr)\n",
    "    net.train()\n",
    "    val_losses = []\n",
    "    for epoch in tqdm(range(epochs)):\n",
    "        total_loss = 0.0\n",
    "        for x, Y in train_loader:\n",
    "            Y = Y.to(DEVICE)\n",
    "            x = x.to(DEVICE)\n",
    "            hidden = torch.zeros((net.num_layers, batch_size, net.hidden_size)).to(DEVICE)\n",
    "            cell = torch.zeros((net.num_layers, batch_size, net.hidden_size)).to(DEVICE)\n",
    "            outs, hidden, cell = net(x, hidden, cell)\n",
    "            output, _, _ = net(Y, hidden, cell)\n",
    "            z = torch.cat([outs[:, -1], output[:, :-1].squeeze()], dim=1)\n",
    "            loss = criterion(Y[:, :, 1], z)\n",
    "            val_losses.append(loss.item())    \n",
    "            loss.backward()\n",
    "            optimizer.step()\n",
    "            total_loss += loss.item()\n",
    "            #print(f'{loss.item()}\\r')\n",
    "            optimizer.zero_grad()\n",
    "        print(f'{total_loss / len(train_loader)}')\n",
    "    return val_losses"
   ]
  },
  {
   "cell_type": "code",
   "execution_count": 52,
   "id": "ea579e95",
   "metadata": {},
   "outputs": [],
   "source": [
    "def test(net, dataset):\n",
    "    \"\"\"Train the network on the training set.\"\"\"\n",
    "    criterion = torch.nn.MSELoss()\n",
    "    net.eval()\n",
    "    val_losses = []\n",
    "    outputs = []\n",
    "    with torch.no_grad():\n",
    "        for i in range(len(dataset)):\n",
    "            x, Y = dataset[i]\n",
    "            hidden = torch.zeros((net.num_layers, net.hidden_size)).to(DEVICE)\n",
    "            cell = torch.zeros((net.num_layers, net.hidden_size)).to(DEVICE)\n",
    "            outs, hidden, cell = net(x, hidden, cell)\n",
    "            z = [outs[-1].squeeze().item()]\n",
    "            for i in range(95):\n",
    "                o, hidden, cell = net(torch.tensor([[i+1, z[-1]]]), hidden, cell)\n",
    "                z.append(o.item())\n",
    "            loss = criterion(Y[:, 1], torch.tensor(z))\n",
    "            val_losses.append(loss.item())\n",
    "            outputs += z\n",
    "    return val_losses, [p *1 for p in outputs]"
   ]
  },
  {
   "cell_type": "markdown",
   "id": "e1066560",
   "metadata": {},
   "source": [
    "# Define the federated learning functions and hyperparameters"
   ]
  },
  {
   "cell_type": "code",
   "execution_count": 57,
   "id": "69a8ead7",
   "metadata": {},
   "outputs": [],
   "source": [
    "batch_size = 8\n",
    "hidden_size = 256\n",
    "use_lstm = False\n",
    "learning_rate = 3e-4"
   ]
  },
  {
   "cell_type": "code",
   "execution_count": 58,
   "id": "cd6052ce",
   "metadata": {},
   "outputs": [],
   "source": [
    "def get_parameters(net) -> List[np.ndarray]:\n",
    "    return [val.cpu().numpy() for _, val in net.state_dict().items()]\n",
    "\n",
    "\n",
    "def set_parameters(net, parameters: List[np.ndarray]):\n",
    "    params_dict = zip(net.state_dict().keys(), parameters)\n",
    "    state_dict = OrderedDict({k: torch.Tensor(v) for k, v in params_dict})\n",
    "    net.load_state_dict(state_dict, strict=True)"
   ]
  },
  {
   "cell_type": "code",
   "execution_count": 59,
   "id": "f297914d",
   "metadata": {},
   "outputs": [],
   "source": [
    "class FlowerClient(fl.client.NumPyClient):\n",
    "    def __init__(self, net, dataset):\n",
    "        self.net = net\n",
    "        self.dataset = dataset\n",
    "        self.losses = []\n",
    "\n",
    "    def get_parameters(self, config):\n",
    "        return get_parameters(self.net)\n",
    "\n",
    "    def fit(self, parameters, config):\n",
    "        set_parameters(self.net, parameters)\n",
    "        loss = train(self.net, self.dataset, lr=learning_rate)\n",
    "        self.losses = loss\n",
    "        return get_parameters(self.net), len(self.dataset), {'loss': np.mean(loss)}\n",
    "\n",
    "    def evaluate(self, parameters, config):\n",
    "        set_parameters(self.net, parameters)\n",
    "        return 0.0, 1, {}\n"
   ]
  },
  {
   "cell_type": "code",
   "execution_count": 60,
   "id": "a82cb646",
   "metadata": {},
   "outputs": [],
   "source": [
    "def client_fn(cid: str) -> FlowerClient:\n",
    "    \"\"\"Create a Flower client representing a single organization.\"\"\"\n",
    "    # Load model\n",
    "    cid = int(cid) + 1\n",
    "    net = MyRNN(hid_size=hidden_size, LSTM=use_lstm).to(DEVICE)\n",
    "    d = RegressionData(f'./data/Consumer{cid}.csv')\n",
    "    train_loader = DataLoader(d, batch_size=batch_size, shuffle=True, drop_last=True)\n",
    "\n",
    "    # Create a  single Flower client representing a single organization\n",
    "    return FlowerClient(net, train_loader)\n"
   ]
  },
  {
   "cell_type": "code",
   "execution_count": 61,
   "id": "e833c12f",
   "metadata": {},
   "outputs": [],
   "source": [
    "class SaveModelStrategy(fl.server.strategy.FedAvg):\n",
    "    def aggregate_fit(\n",
    "        self,\n",
    "        server_round: int,\n",
    "        results: List[Tuple[fl.server.client_proxy.ClientProxy, fl.common.FitRes]],\n",
    "        failures: List[Union[Tuple[fl.server.client_proxy.ClientProxy, fl.common.FitRes], BaseException]],\n",
    "    ):\n",
    "        \"\"\"Aggregate model weights using weighted average and store checkpoint\"\"\"\n",
    "        net = MyRNN(hid_size=hidden_size, LSTM=use_lstm).to(DEVICE)\n",
    "\n",
    "        # Call aggregate_fit from base class (FedAvg) to aggregate parameters and metrics\n",
    "        aggregated_parameters, aggregated_metrics = super().aggregate_fit(server_round, results, failures)\n",
    "\n",
    "        if aggregated_parameters is not None:\n",
    "            print(f\"Saving round {server_round} aggregated_parameters...\")\n",
    "\n",
    "            # Convert `Parameters` to `List[np.ndarray]`\n",
    "            aggregated_ndarrays: List[np.ndarray] = fl.common.parameters_to_ndarrays(aggregated_parameters)\n",
    "\n",
    "            # Convert `List[np.ndarray]` to PyTorch`state_dict`\n",
    "            params_dict = zip(net.state_dict().keys(), aggregated_ndarrays)\n",
    "            state_dict = OrderedDict({k: torch.tensor(v) for k, v in params_dict})\n",
    "            net.load_state_dict(state_dict, strict=True)\n",
    "\n",
    "            # Save the model\n",
    "            model_name = 'lstm' if use_lstm else 'rnn'\n",
    "            torch.save(net.state_dict(), f\"regression_model_{model_name}_round_{server_round}.pth\")\n",
    "\n",
    "        return aggregated_parameters, aggregated_metrics"
   ]
  },
  {
   "cell_type": "code",
   "execution_count": 62,
   "id": "4b352852",
   "metadata": {},
   "outputs": [
    {
     "name": "stderr",
     "output_type": "stream",
     "text": [
      "\u001b[2m\u001b[36m(DefaultActor pid=95943)\u001b[0m /opt/homebrew/Cellar/python@3.10/3.10.13/Frameworks/Python.framework/Versions/3.10/lib/python3.10/multiprocessing/resource_tracker.py:224: UserWarning: resource_tracker: There appear to be 1 leaked semaphore objects to clean up at shutdown\n",
      "\u001b[2m\u001b[36m(DefaultActor pid=95943)\u001b[0m   warnings.warn('resource_tracker: There appear to be %d '\n"
     ]
    }
   ],
   "source": [
    "def agg(metrics):\n",
    "    losses = np.mean([m[-1][\"loss\"] for m in metrics])\n",
    "    return {'losses': losses}"
   ]
  },
  {
   "cell_type": "code",
   "execution_count": 63,
   "id": "3c518b2f",
   "metadata": {},
   "outputs": [
    {
     "name": "stderr",
     "output_type": "stream",
     "text": [
      "INFO flwr 2023-11-09 14:03:59,516 | app.py:175 | Starting Flower simulation, config: ServerConfig(num_rounds=25, round_timeout=None)\n",
      "INFO:flwr:Starting Flower simulation, config: ServerConfig(num_rounds=25, round_timeout=None)\n",
      "\u001b[2m\u001b[36m(DefaultActor pid=95942)\u001b[0m /opt/homebrew/Cellar/python@3.10/3.10.13/Frameworks/Python.framework/Versions/3.10/lib/python3.10/multiprocessing/resource_tracker.py:224: UserWarning: resource_tracker: There appear to be 1 leaked semaphore objects to clean up at shutdown\u001b[32m [repeated 7x across cluster]\u001b[0m\n",
      "\u001b[2m\u001b[36m(DefaultActor pid=95942)\u001b[0m   warnings.warn('resource_tracker: There appear to be %d '\u001b[32m [repeated 7x across cluster]\u001b[0m\n",
      "2023-11-09 14:04:03,076\tINFO worker.py:1642 -- Started a local Ray instance.\n",
      "INFO flwr 2023-11-09 14:04:03,585 | app.py:210 | Flower VCE: Ray initialized with resources: {'node:127.0.0.1': 1.0, 'CPU': 8.0, 'object_store_memory': 2147483648.0, 'node:__internal_head__': 1.0, 'memory': 7894845031.0}\n",
      "INFO:flwr:Flower VCE: Ray initialized with resources: {'node:127.0.0.1': 1.0, 'CPU': 8.0, 'object_store_memory': 2147483648.0, 'node:__internal_head__': 1.0, 'memory': 7894845031.0}\n",
      "INFO flwr 2023-11-09 14:04:03,586 | app.py:218 | No `client_resources` specified. Using minimal resources for clients.\n",
      "INFO:flwr:No `client_resources` specified. Using minimal resources for clients.\n",
      "INFO flwr 2023-11-09 14:04:03,586 | app.py:224 | Flower VCE: Resources for each Virtual Client: {'num_cpus': 1, 'num_gpus': 0.0}\n",
      "INFO:flwr:Flower VCE: Resources for each Virtual Client: {'num_cpus': 1, 'num_gpus': 0.0}\n",
      "INFO flwr 2023-11-09 14:04:03,595 | app.py:270 | Flower VCE: Creating VirtualClientEngineActorPool with 8 actors\n",
      "INFO:flwr:Flower VCE: Creating VirtualClientEngineActorPool with 8 actors\n",
      "INFO flwr 2023-11-09 14:04:03,596 | server.py:89 | Initializing global parameters\n",
      "INFO:flwr:Initializing global parameters\n",
      "INFO flwr 2023-11-09 14:04:03,597 | server.py:276 | Requesting initial parameters from one random client\n",
      "INFO:flwr:Requesting initial parameters from one random client\n",
      "INFO flwr 2023-11-09 14:04:05,335 | server.py:280 | Received initial parameters from one random client\n",
      "INFO:flwr:Received initial parameters from one random client\n",
      "INFO flwr 2023-11-09 14:04:05,336 | server.py:91 | Evaluating initial parameters\n",
      "INFO:flwr:Evaluating initial parameters\n",
      "INFO flwr 2023-11-09 14:04:05,336 | server.py:104 | FL starting\n",
      "INFO:flwr:FL starting\n",
      "DEBUG flwr 2023-11-09 14:04:05,336 | server.py:222 | fit_round 1: strategy sampled 10 clients (out of 40)\n",
      "DEBUG:flwr:fit_round 1: strategy sampled 10 clients (out of 40)\n",
      "  0%|          | 0/5 [00:00<?, ?it/s] \n"
     ]
    },
    {
     "name": "stdout",
     "output_type": "stream",
     "text": [
      "\u001b[2m\u001b[36m(DefaultActor pid=96431)\u001b[0m 0.12010789069939744\n"
     ]
    },
    {
     "name": "stderr",
     "output_type": "stream",
     "text": [
      "\u001b[2m\u001b[36m(DefaultActor pid=96431)\u001b[0m \r",
      " 20%|██        | 1/5 [00:05<00:21,  5.49s/it]\n",
      "\u001b[2m\u001b[36m(DefaultActor pid=96425)\u001b[0m \r",
      "  0%|          | 0/5 [00:00<?, ?it/s]\u001b[32m [repeated 7x across cluster]\u001b[0m\n"
     ]
    },
    {
     "name": "stdout",
     "output_type": "stream",
     "text": [
      "\u001b[2m\u001b[36m(DefaultActor pid=96431)\u001b[0m 0.10201510067351839\u001b[32m [repeated 8x across cluster]\u001b[0m\n"
     ]
    },
    {
     "name": "stderr",
     "output_type": "stream",
     "text": [
      "\u001b[2m\u001b[36m(DefaultActor pid=96431)\u001b[0m \r",
      " 40%|████      | 2/5 [00:11<00:16,  5.67s/it]\u001b[32m [repeated 8x across cluster]\u001b[0m\n"
     ]
    },
    {
     "name": "stdout",
     "output_type": "stream",
     "text": [
      "\u001b[2m\u001b[36m(DefaultActor pid=96431)\u001b[0m 0.08901583581146869\u001b[32m [repeated 8x across cluster]\u001b[0m\n"
     ]
    },
    {
     "name": "stderr",
     "output_type": "stream",
     "text": [
      "\u001b[2m\u001b[36m(DefaultActor pid=96431)\u001b[0m \r",
      " 60%|██████    | 3/5 [00:17<00:11,  5.83s/it]\u001b[32m [repeated 8x across cluster]\u001b[0m\n"
     ]
    },
    {
     "name": "stdout",
     "output_type": "stream",
     "text": [
      "\u001b[2m\u001b[36m(DefaultActor pid=96431)\u001b[0m 0.07733091364868662\u001b[32m [repeated 8x across cluster]\u001b[0m\n"
     ]
    },
    {
     "name": "stderr",
     "output_type": "stream",
     "text": [
      " 80%|████████  | 4/5 [00:22<00:05,  5.76s/it]\u001b[32m [repeated 8x across cluster]\u001b[0m\n",
      " 80%|████████  | 4/5 [00:26<00:06,  6.66s/it]\u001b[32m [repeated 6x across cluster]\u001b[0m\n"
     ]
    },
    {
     "name": "stdout",
     "output_type": "stream",
     "text": [
      "\u001b[2m\u001b[36m(DefaultActor pid=96426)\u001b[0m 0.284905034032735\u001b[32m [repeated 6x across cluster]\u001b[0m\n"
     ]
    },
    {
     "name": "stderr",
     "output_type": "stream",
     "text": [
      "\u001b[2m\u001b[36m(DefaultActor pid=96431)\u001b[0m \r",
      "100%|██████████| 5/5 [00:28<00:00,  5.74s/it]\r",
      "100%|██████████| 5/5 [00:28<00:00,  5.73s/it]\n",
      "\u001b[2m\u001b[36m(DefaultActor pid=96431)\u001b[0m \r",
      "  0%|          | 0/5 [00:00<?, ?it/s]\n"
     ]
    },
    {
     "name": "stdout",
     "output_type": "stream",
     "text": [
      "\u001b[2m\u001b[36m(DefaultActor pid=96429)\u001b[0m 0.009231712198181247\u001b[32m [repeated 4x across cluster]\u001b[0m\n"
     ]
    },
    {
     "name": "stderr",
     "output_type": "stream",
     "text": [
      " 80%|████████  | 4/5 [00:27<00:06,  6.72s/it]\n",
      "100%|██████████| 5/5 [00:32<00:00,  6.45s/it]\u001b[32m [repeated 2x across cluster]\u001b[0m\n",
      "  0%|          | 0/5 [00:00<?, ?it/s] \n",
      " 20%|██        | 1/5 [00:05<00:22,  5.73s/it]\n"
     ]
    },
    {
     "name": "stdout",
     "output_type": "stream",
     "text": [
      "\u001b[2m\u001b[36m(DefaultActor pid=96428)\u001b[0m 0.08633427144112912\u001b[32m [repeated 9x across cluster]\u001b[0m\n"
     ]
    },
    {
     "name": "stderr",
     "output_type": "stream",
     "text": [
      "\u001b[2m\u001b[36m(DefaultActor pid=96424)\u001b[0m \r",
      "100%|██████████| 5/5 [00:33<00:00,  6.57s/it]\r",
      "100%|██████████| 5/5 [00:33<00:00,  6.69s/it]\u001b[32m [repeated 5x across cluster]\u001b[0m\n",
      "\u001b[2m\u001b[36m(DefaultActor pid=96428)\u001b[0m \r",
      " 40%|████      | 2/5 [00:09<00:13,  4.49s/it]\u001b[32m [repeated 3x across cluster]\u001b[0m\n"
     ]
    },
    {
     "name": "stdout",
     "output_type": "stream",
     "text": [
      "\u001b[2m\u001b[36m(DefaultActor pid=96431)\u001b[0m 0.14140872995961795\u001b[32m [repeated 3x across cluster]\u001b[0m\n"
     ]
    },
    {
     "name": "stderr",
     "output_type": "stream",
     "text": [
      " 80%|████████  | 4/5 [00:17<00:04,  4.27s/it]\u001b[32m [repeated 3x across cluster]\u001b[0m\n",
      "100%|██████████| 5/5 [00:21<00:00,  4.39s/it]\n",
      "DEBUG flwr 2023-11-09 14:04:57,632 | server.py:236 | fit_round 1 received 10 results and 0 failures\n",
      "DEBUG:flwr:fit_round 1 received 10 results and 0 failures\n",
      "DEBUG flwr 2023-11-09 14:04:57,651 | server.py:173 | evaluate_round 1: strategy sampled 20 clients (out of 40)\n",
      "DEBUG:flwr:evaluate_round 1: strategy sampled 20 clients (out of 40)\n",
      " 80%|████████  | 4/5 [00:17<00:04,  4.13s/it]\n",
      "DEBUG flwr 2023-11-09 14:04:57,802 | server.py:187 | evaluate_round 1 received 20 results and 0 failures\n",
      "DEBUG:flwr:evaluate_round 1 received 20 results and 0 failures\n",
      "WARNING flwr 2023-11-09 14:04:57,802 | fedavg.py:273 | No evaluate_metrics_aggregation_fn provided\n",
      "WARNING:flwr:No evaluate_metrics_aggregation_fn provided\n",
      "DEBUG flwr 2023-11-09 14:04:57,803 | server.py:222 | fit_round 2: strategy sampled 10 clients (out of 40)\n",
      "DEBUG:flwr:fit_round 2: strategy sampled 10 clients (out of 40)\n"
     ]
    },
    {
     "name": "stdout",
     "output_type": "stream",
     "text": [
      "Saving round 1 aggregated_parameters...\n",
      "\u001b[2m\u001b[36m(DefaultActor pid=96428)\u001b[0m 0.0767936452545903\u001b[32m [repeated 3x across cluster]\u001b[0m\n"
     ]
    },
    {
     "name": "stderr",
     "output_type": "stream",
     "text": [
      "\u001b[2m\u001b[36m(DefaultActor pid=96426)\u001b[0m \r",
      "  0%|          | 0/5 [00:00<?, ?it/s]\n"
     ]
    },
    {
     "name": "stdout",
     "output_type": "stream",
     "text": [
      "\u001b[2m\u001b[36m(DefaultActor pid=96431)\u001b[0m 0.09436244509098204\n",
      "\u001b[2m\u001b[36m(DefaultActor pid=96428)\u001b[0m 0.29769765585660934\n"
     ]
    },
    {
     "name": "stderr",
     "output_type": "stream",
     "text": [
      "\u001b[2m\u001b[36m(DefaultActor pid=96431)\u001b[0m \r",
      " 20%|██        | 1/5 [00:05<00:23,  5.75s/it]\n",
      "\u001b[2m\u001b[36m(DefaultActor pid=96428)\u001b[0m \r",
      "100%|██████████| 5/5 [00:21<00:00,  4.07s/it]\r",
      "100%|██████████| 5/5 [00:21<00:00,  4.21s/it]\n",
      "\u001b[2m\u001b[36m(DefaultActor pid=96431)\u001b[0m \r",
      "  0%|          | 0/5 [00:00<?, ?it/s]\u001b[32m [repeated 7x across cluster]\u001b[0m\n"
     ]
    },
    {
     "name": "stdout",
     "output_type": "stream",
     "text": [
      "\u001b[2m\u001b[36m(DefaultActor pid=96431)\u001b[0m 0.06461754619059237\u001b[32m [repeated 7x across cluster]\u001b[0m\n"
     ]
    },
    {
     "name": "stderr",
     "output_type": "stream",
     "text": [
      "\u001b[2m\u001b[36m(DefaultActor pid=96431)\u001b[0m \r",
      " 40%|████      | 2/5 [00:11<00:17,  5.67s/it]\u001b[32m [repeated 8x across cluster]\u001b[0m\n"
     ]
    },
    {
     "name": "stdout",
     "output_type": "stream",
     "text": [
      "\u001b[2m\u001b[36m(DefaultActor pid=96428)\u001b[0m 0.26035513051531534\u001b[32m [repeated 8x across cluster]\u001b[0m\n"
     ]
    },
    {
     "name": "stderr",
     "output_type": "stream",
     "text": [
      "\u001b[2m\u001b[36m(DefaultActor pid=96428)\u001b[0m \r",
      " 60%|██████    | 3/5 [00:17<00:11,  5.70s/it]\u001b[32m [repeated 8x across cluster]\u001b[0m\n"
     ]
    },
    {
     "name": "stdout",
     "output_type": "stream",
     "text": [
      "\u001b[2m\u001b[36m(DefaultActor pid=96431)\u001b[0m 0.06176426892422817\u001b[32m [repeated 8x across cluster]\u001b[0m\n"
     ]
    },
    {
     "name": "stderr",
     "output_type": "stream",
     "text": [
      "\u001b[2m\u001b[36m(DefaultActor pid=96431)\u001b[0m \r",
      " 80%|████████  | 4/5 [00:22<00:05,  5.67s/it]\u001b[32m [repeated 8x across cluster]\u001b[0m\n"
     ]
    },
    {
     "name": "stdout",
     "output_type": "stream",
     "text": [
      "\u001b[2m\u001b[36m(DefaultActor pid=96431)\u001b[0m 0.06127092906866561\u001b[32m [repeated 8x across cluster]\u001b[0m\n"
     ]
    },
    {
     "name": "stderr",
     "output_type": "stream",
     "text": [
      "\u001b[2m\u001b[36m(DefaultActor pid=96431)\u001b[0m \r",
      "100%|██████████| 5/5 [00:28<00:00,  5.68s/it]\r",
      "100%|██████████| 5/5 [00:28<00:00,  5.69s/it]\n",
      "\u001b[2m\u001b[36m(DefaultActor pid=96425)\u001b[0m \r",
      " 80%|████████  | 4/5 [00:26<00:06,  6.56s/it]\u001b[32m [repeated 7x across cluster]\u001b[0m\n",
      "\u001b[2m\u001b[36m(DefaultActor pid=96431)\u001b[0m \r",
      "  0%|          | 0/5 [00:00<?, ?it/s]\n"
     ]
    },
    {
     "name": "stdout",
     "output_type": "stream",
     "text": [
      "\u001b[2m\u001b[36m(DefaultActor pid=96431)\u001b[0m 0.0833245729604228\u001b[32m [repeated 8x across cluster]\u001b[0m\n"
     ]
    },
    {
     "name": "stderr",
     "output_type": "stream",
     "text": [
      "100%|██████████| 5/5 [00:32<00:00,  6.48s/it]\u001b[32m [repeated 7x across cluster]\u001b[0m\n",
      " 20%|██        | 1/5 [00:05<00:20,  5.12s/it]\n",
      "  0%|          | 0/5 [00:00<?, ?it/s] \n",
      " 20%|██        | 1/5 [00:04<00:19,  4.91s/it]\n"
     ]
    },
    {
     "name": "stdout",
     "output_type": "stream",
     "text": [
      "\u001b[2m\u001b[36m(DefaultActor pid=96431)\u001b[0m 0.051976042884317314\u001b[32m [repeated 4x across cluster]\u001b[0m\n"
     ]
    },
    {
     "name": "stderr",
     "output_type": "stream",
     "text": [
      "\u001b[2m\u001b[36m(DefaultActor pid=96431)\u001b[0m \r",
      " 60%|██████    | 3/5 [00:13<00:08,  4.27s/it]\u001b[32m [repeated 3x across cluster]\u001b[0m\n"
     ]
    },
    {
     "name": "stdout",
     "output_type": "stream",
     "text": [
      "\u001b[2m\u001b[36m(DefaultActor pid=96431)\u001b[0m 0.05111144102093848\u001b[32m [repeated 4x across cluster]\u001b[0m\n"
     ]
    },
    {
     "name": "stderr",
     "output_type": "stream",
     "text": [
      "100%|██████████| 5/5 [00:21<00:00,  4.24s/it]\n",
      " 80%|████████  | 4/5 [00:17<00:04,  4.16s/it]\u001b[32m [repeated 3x across cluster]\u001b[0m\n",
      "DEBUG flwr 2023-11-09 14:05:48,289 | server.py:236 | fit_round 2 received 10 results and 0 failures\n",
      "DEBUG:flwr:fit_round 2 received 10 results and 0 failures\n",
      "DEBUG flwr 2023-11-09 14:05:48,316 | server.py:173 | evaluate_round 2: strategy sampled 20 clients (out of 40)\n",
      "DEBUG:flwr:evaluate_round 2: strategy sampled 20 clients (out of 40)\n",
      "DEBUG flwr 2023-11-09 14:05:48,495 | server.py:187 | evaluate_round 2 received 20 results and 0 failures\n",
      "DEBUG:flwr:evaluate_round 2 received 20 results and 0 failures\n",
      "DEBUG flwr 2023-11-09 14:05:48,496 | server.py:222 | fit_round 3: strategy sampled 10 clients (out of 40)\n",
      "DEBUG:flwr:fit_round 3: strategy sampled 10 clients (out of 40)\n"
     ]
    },
    {
     "name": "stdout",
     "output_type": "stream",
     "text": [
      "Saving round 2 aggregated_parameters...\n"
     ]
    },
    {
     "name": "stderr",
     "output_type": "stream",
     "text": [
      "\u001b[2m\u001b[36m(DefaultActor pid=96427)\u001b[0m \r",
      "  0%|          | 0/5 [00:00<?, ?it/s]\n"
     ]
    },
    {
     "name": "stdout",
     "output_type": "stream",
     "text": [
      "\u001b[2m\u001b[36m(DefaultActor pid=96428)\u001b[0m 0.3504079505801201\u001b[32m [repeated 2x across cluster]\u001b[0m\n"
     ]
    },
    {
     "name": "stderr",
     "output_type": "stream",
     "text": [
      "\u001b[2m\u001b[36m(DefaultActor pid=96428)\u001b[0m \r",
      "100%|██████████| 5/5 [00:21<00:00,  4.17s/it]\r",
      "100%|██████████| 5/5 [00:21<00:00,  4.25s/it]\n",
      "\u001b[2m\u001b[36m(DefaultActor pid=96428)\u001b[0m \r",
      " 20%|██        | 1/5 [00:06<00:26,  6.65s/it]\n",
      "\u001b[2m\u001b[36m(DefaultActor pid=96426)\u001b[0m \r",
      "  0%|          | 0/5 [00:00<?, ?it/s]\u001b[32m [repeated 7x across cluster]\u001b[0m\n",
      "\u001b[2m\u001b[36m(DefaultActor pid=96431)\u001b[0m \r",
      " 20%|██        | 1/5 [00:06<00:26,  6.70s/it]\n"
     ]
    },
    {
     "name": "stdout",
     "output_type": "stream",
     "text": [
      "\u001b[2m\u001b[36m(DefaultActor pid=96428)\u001b[0m 0.32828946818004956\u001b[32m [repeated 8x across cluster]\u001b[0m\n"
     ]
    },
    {
     "name": "stderr",
     "output_type": "stream",
     "text": [
      "\u001b[2m\u001b[36m(DefaultActor pid=96428)\u001b[0m \r",
      " 40%|████      | 2/5 [00:13<00:19,  6.48s/it]\u001b[32m [repeated 7x across cluster]\u001b[0m\n"
     ]
    },
    {
     "name": "stdout",
     "output_type": "stream",
     "text": [
      "\u001b[2m\u001b[36m(DefaultActor pid=96431)\u001b[0m 0.06934650818055327\u001b[32m [repeated 8x across cluster]\u001b[0m\n"
     ]
    },
    {
     "name": "stderr",
     "output_type": "stream",
     "text": [
      "\u001b[2m\u001b[36m(DefaultActor pid=96431)\u001b[0m \r",
      " 60%|██████    | 3/5 [00:18<00:12,  6.15s/it]\u001b[32m [repeated 8x across cluster]\u001b[0m\n"
     ]
    },
    {
     "name": "stdout",
     "output_type": "stream",
     "text": [
      "\u001b[2m\u001b[36m(DefaultActor pid=96431)\u001b[0m 0.06954461005939679\u001b[32m [repeated 8x across cluster]\u001b[0m\n"
     ]
    },
    {
     "name": "stderr",
     "output_type": "stream",
     "text": [
      "\u001b[2m\u001b[36m(DefaultActor pid=96431)\u001b[0m \r",
      " 80%|████████  | 4/5 [00:24<00:06,  6.01s/it]\u001b[32m [repeated 8x across cluster]\u001b[0m\n"
     ]
    },
    {
     "name": "stdout",
     "output_type": "stream",
     "text": [
      "\u001b[2m\u001b[36m(DefaultActor pid=96431)\u001b[0m 0.0683164701543071\u001b[32m [repeated 8x across cluster]\u001b[0m\n"
     ]
    },
    {
     "name": "stderr",
     "output_type": "stream",
     "text": [
      "\u001b[2m\u001b[36m(DefaultActor pid=96431)\u001b[0m \r",
      "100%|██████████| 5/5 [00:30<00:00,  5.85s/it]\r",
      "100%|██████████| 5/5 [00:30<00:00,  6.02s/it]\n",
      "\u001b[2m\u001b[36m(DefaultActor pid=96431)\u001b[0m \r",
      "  0%|          | 0/5 [00:00<?, ?it/s]\n",
      "\u001b[2m\u001b[36m(DefaultActor pid=96430)\u001b[0m \r",
      " 80%|████████  | 4/5 [00:28<00:07,  7.02s/it]\u001b[32m [repeated 7x across cluster]\u001b[0m\n"
     ]
    },
    {
     "name": "stdout",
     "output_type": "stream",
     "text": [
      "\u001b[2m\u001b[36m(DefaultActor pid=96430)\u001b[0m 0.2760960239578377\u001b[32m [repeated 7x across cluster]\u001b[0m\n"
     ]
    },
    {
     "name": "stderr",
     "output_type": "stream",
     "text": [
      "\u001b[2m\u001b[36m(DefaultActor pid=96430)\u001b[0m \r",
      "100%|██████████| 5/5 [00:35<00:00,  6.89s/it]\r",
      "100%|██████████| 5/5 [00:35<00:00,  7.06s/it]\u001b[32m [repeated 7x across cluster]\u001b[0m\n",
      "\u001b[2m\u001b[36m(DefaultActor pid=96428)\u001b[0m \r",
      "  0%|          | 0/5 [00:00<?, ?it/s]\n",
      "\u001b[2m\u001b[36m(DefaultActor pid=96431)\u001b[0m \r",
      " 20%|██        | 1/5 [00:05<00:21,  5.28s/it]\n"
     ]
    },
    {
     "name": "stdout",
     "output_type": "stream",
     "text": [
      "\u001b[2m\u001b[36m(DefaultActor pid=96431)\u001b[0m 0.08332391252571886\u001b[32m [repeated 5x across cluster]\u001b[0m\n"
     ]
    },
    {
     "name": "stderr",
     "output_type": "stream",
     "text": [
      "\u001b[2m\u001b[36m(DefaultActor pid=96431)\u001b[0m \r",
      " 60%|██████    | 3/5 [00:13<00:08,  4.27s/it]\u001b[32m [repeated 4x across cluster]\u001b[0m\n"
     ]
    },
    {
     "name": "stdout",
     "output_type": "stream",
     "text": [
      "\u001b[2m\u001b[36m(DefaultActor pid=96431)\u001b[0m 0.08311976704069159\u001b[32m [repeated 4x across cluster]\u001b[0m\n"
     ]
    },
    {
     "name": "stderr",
     "output_type": "stream",
     "text": [
      "100%|██████████| 5/5 [00:21<00:00,  4.26s/it]\n",
      " 80%|████████  | 4/5 [00:17<00:04,  4.19s/it]\u001b[32m [repeated 3x across cluster]\u001b[0m\n",
      "DEBUG flwr 2023-11-09 14:06:40,557 | server.py:236 | fit_round 3 received 10 results and 0 failures\n",
      "DEBUG:flwr:fit_round 3 received 10 results and 0 failures\n",
      "DEBUG flwr 2023-11-09 14:06:40,573 | server.py:173 | evaluate_round 3: strategy sampled 20 clients (out of 40)\n",
      "DEBUG:flwr:evaluate_round 3: strategy sampled 20 clients (out of 40)\n",
      "DEBUG flwr 2023-11-09 14:06:40,720 | server.py:187 | evaluate_round 3 received 20 results and 0 failures\n",
      "DEBUG:flwr:evaluate_round 3 received 20 results and 0 failures\n",
      "DEBUG flwr 2023-11-09 14:06:40,721 | server.py:222 | fit_round 4: strategy sampled 10 clients (out of 40)\n",
      "DEBUG:flwr:fit_round 4: strategy sampled 10 clients (out of 40)\n"
     ]
    },
    {
     "name": "stdout",
     "output_type": "stream",
     "text": [
      "Saving round 3 aggregated_parameters...\n"
     ]
    },
    {
     "name": "stderr",
     "output_type": "stream",
     "text": [
      "\u001b[2m\u001b[36m(DefaultActor pid=96427)\u001b[0m \r",
      "  0%|          | 0/5 [00:00<?, ?it/s]\n"
     ]
    },
    {
     "name": "stdout",
     "output_type": "stream",
     "text": [
      "\u001b[2m\u001b[36m(DefaultActor pid=96428)\u001b[0m 0.15552755377509378\u001b[32m [repeated 2x across cluster]\u001b[0m\n"
     ]
    },
    {
     "name": "stderr",
     "output_type": "stream",
     "text": [
      "\u001b[2m\u001b[36m(DefaultActor pid=96428)\u001b[0m \r",
      "100%|██████████| 5/5 [00:21<00:00,  4.14s/it]\r",
      "100%|██████████| 5/5 [00:21<00:00,  4.28s/it]\n",
      "\u001b[2m\u001b[36m(DefaultActor pid=96428)\u001b[0m \r",
      " 20%|██        | 1/5 [00:05<00:22,  5.67s/it]\n",
      "\u001b[2m\u001b[36m(DefaultActor pid=96429)\u001b[0m \r",
      "  0%|          | 0/5 [00:00<?, ?it/s]\u001b[32m [repeated 7x across cluster]\u001b[0m\n",
      "\u001b[2m\u001b[36m(DefaultActor pid=96431)\u001b[0m \r",
      " 20%|██        | 1/5 [00:05<00:23,  5.87s/it]\n"
     ]
    },
    {
     "name": "stdout",
     "output_type": "stream",
     "text": [
      "\u001b[2m\u001b[36m(DefaultActor pid=96428)\u001b[0m 0.1270258572291244\u001b[32m [repeated 8x across cluster]\u001b[0m\n"
     ]
    },
    {
     "name": "stderr",
     "output_type": "stream",
     "text": [
      "\u001b[2m\u001b[36m(DefaultActor pid=96428)\u001b[0m \r",
      " 40%|████      | 2/5 [00:11<00:16,  5.59s/it]\u001b[32m [repeated 7x across cluster]\u001b[0m\n"
     ]
    },
    {
     "name": "stdout",
     "output_type": "stream",
     "text": [
      "\u001b[2m\u001b[36m(DefaultActor pid=96428)\u001b[0m 0.12651273963803594\u001b[32m [repeated 8x across cluster]\u001b[0m\n"
     ]
    },
    {
     "name": "stderr",
     "output_type": "stream",
     "text": [
      "\u001b[2m\u001b[36m(DefaultActor pid=96428)\u001b[0m \r",
      " 60%|██████    | 3/5 [00:16<00:11,  5.57s/it]\u001b[32m [repeated 8x across cluster]\u001b[0m\n"
     ]
    },
    {
     "name": "stdout",
     "output_type": "stream",
     "text": [
      "\u001b[2m\u001b[36m(DefaultActor pid=96428)\u001b[0m 0.1255928139117631\u001b[32m [repeated 8x across cluster]\u001b[0m\n"
     ]
    },
    {
     "name": "stderr",
     "output_type": "stream",
     "text": [
      "\u001b[2m\u001b[36m(DefaultActor pid=96428)\u001b[0m \r",
      " 80%|████████  | 4/5 [00:22<00:05,  5.62s/it]\u001b[32m [repeated 8x across cluster]\u001b[0m\n"
     ]
    },
    {
     "name": "stdout",
     "output_type": "stream",
     "text": [
      "\u001b[2m\u001b[36m(DefaultActor pid=96428)\u001b[0m 0.12639783441343092\u001b[32m [repeated 8x across cluster]\u001b[0m\n"
     ]
    },
    {
     "name": "stderr",
     "output_type": "stream",
     "text": [
      "\u001b[2m\u001b[36m(DefaultActor pid=96428)\u001b[0m \r",
      "100%|██████████| 5/5 [00:28<00:00,  5.68s/it]\r",
      "100%|██████████| 5/5 [00:28<00:00,  5.65s/it]\n",
      "\u001b[2m\u001b[36m(DefaultActor pid=96428)\u001b[0m \r",
      "  0%|          | 0/5 [00:00<?, ?it/s]\n",
      "\u001b[2m\u001b[36m(DefaultActor pid=96426)\u001b[0m \r",
      " 80%|████████  | 4/5 [00:26<00:06,  6.52s/it]\u001b[32m [repeated 7x across cluster]\u001b[0m\n"
     ]
    },
    {
     "name": "stdout",
     "output_type": "stream",
     "text": [
      "\u001b[2m\u001b[36m(DefaultActor pid=96431)\u001b[0m 0.26040044088255276\u001b[32m [repeated 9x across cluster]\u001b[0m\n"
     ]
    },
    {
     "name": "stderr",
     "output_type": "stream",
     "text": [
      "\u001b[2m\u001b[36m(DefaultActor pid=96426)\u001b[0m \r",
      "100%|██████████| 5/5 [00:32<00:00,  6.59s/it]\r",
      "100%|██████████| 5/5 [00:32<00:00,  6.55s/it]\u001b[32m [repeated 7x across cluster]\u001b[0m\n",
      "\u001b[2m\u001b[36m(DefaultActor pid=96431)\u001b[0m \r",
      "  0%|          | 0/5 [00:00<?, ?it/s]\n",
      "\u001b[2m\u001b[36m(DefaultActor pid=96431)\u001b[0m \r",
      " 20%|██        | 1/5 [00:04<00:19,  4.96s/it]\u001b[32m [repeated 2x across cluster]\u001b[0m\n"
     ]
    },
    {
     "name": "stdout",
     "output_type": "stream",
     "text": [
      "\u001b[2m\u001b[36m(DefaultActor pid=96428)\u001b[0m 0.13983714292672547\u001b[32m [repeated 3x across cluster]\u001b[0m\n"
     ]
    },
    {
     "name": "stderr",
     "output_type": "stream",
     "text": [
      "\u001b[2m\u001b[36m(DefaultActor pid=96428)\u001b[0m \r",
      " 60%|██████    | 3/5 [00:13<00:08,  4.26s/it]\u001b[32m [repeated 3x across cluster]\u001b[0m\n"
     ]
    },
    {
     "name": "stdout",
     "output_type": "stream",
     "text": [
      "\u001b[2m\u001b[36m(DefaultActor pid=96431)\u001b[0m 0.23587573218074712\u001b[32m [repeated 3x across cluster]\u001b[0m\n"
     ]
    },
    {
     "name": "stderr",
     "output_type": "stream",
     "text": [
      " 80%|████████  | 4/5 [00:17<00:04,  4.23s/it]\u001b[32m [repeated 3x across cluster]\u001b[0m\n",
      "100%|██████████| 5/5 [00:21<00:00,  4.25s/it]\n",
      "DEBUG flwr 2023-11-09 14:07:31,550 | server.py:236 | fit_round 4 received 10 results and 0 failures\n",
      "DEBUG:flwr:fit_round 4 received 10 results and 0 failures\n",
      "DEBUG flwr 2023-11-09 14:07:31,566 | server.py:173 | evaluate_round 4: strategy sampled 20 clients (out of 40)\n",
      "DEBUG:flwr:evaluate_round 4: strategy sampled 20 clients (out of 40)\n",
      "DEBUG flwr 2023-11-09 14:07:31,705 | server.py:187 | evaluate_round 4 received 20 results and 0 failures\n",
      "DEBUG:flwr:evaluate_round 4 received 20 results and 0 failures\n",
      "DEBUG flwr 2023-11-09 14:07:31,706 | server.py:222 | fit_round 5: strategy sampled 10 clients (out of 40)\n",
      "DEBUG:flwr:fit_round 5: strategy sampled 10 clients (out of 40)\n"
     ]
    },
    {
     "name": "stdout",
     "output_type": "stream",
     "text": [
      "Saving round 4 aggregated_parameters...\n"
     ]
    },
    {
     "name": "stderr",
     "output_type": "stream",
     "text": [
      "\u001b[2m\u001b[36m(DefaultActor pid=96426)\u001b[0m \r",
      "  0%|          | 0/5 [00:00<?, ?it/s]\n"
     ]
    },
    {
     "name": "stdout",
     "output_type": "stream",
     "text": [
      "\u001b[2m\u001b[36m(DefaultActor pid=96428)\u001b[0m 0.016745648029345004\u001b[32m [repeated 3x across cluster]\u001b[0m\n"
     ]
    },
    {
     "name": "stderr",
     "output_type": "stream",
     "text": [
      "\u001b[2m\u001b[36m(DefaultActor pid=96428)\u001b[0m \r",
      " 20%|██        | 1/5 [00:05<00:22,  5.52s/it]\n",
      "\u001b[2m\u001b[36m(DefaultActor pid=96431)\u001b[0m \r",
      "100%|██████████| 5/5 [00:21<00:00,  4.18s/it]\r",
      "100%|██████████| 5/5 [00:21<00:00,  4.28s/it]\n",
      "\u001b[2m\u001b[36m(DefaultActor pid=96431)\u001b[0m \r",
      "  0%|          | 0/5 [00:00<?, ?it/s]\u001b[32m [repeated 7x across cluster]\u001b[0m\n",
      "\u001b[2m\u001b[36m(DefaultActor pid=96431)\u001b[0m \r",
      " 20%|██        | 1/5 [00:05<00:22,  5.55s/it]\n"
     ]
    },
    {
     "name": "stdout",
     "output_type": "stream",
     "text": [
      "\u001b[2m\u001b[36m(DefaultActor pid=96431)\u001b[0m 0.09284499914131382\u001b[32m [repeated 8x across cluster]\u001b[0m\n"
     ]
    },
    {
     "name": "stderr",
     "output_type": "stream",
     "text": [
      "\u001b[2m\u001b[36m(DefaultActor pid=96431)\u001b[0m \r",
      " 40%|████      | 2/5 [00:11<00:16,  5.51s/it]\u001b[32m [repeated 7x across cluster]\u001b[0m\n"
     ]
    },
    {
     "name": "stdout",
     "output_type": "stream",
     "text": [
      "\u001b[2m\u001b[36m(DefaultActor pid=96431)\u001b[0m 0.09312068416991016\u001b[32m [repeated 8x across cluster]\u001b[0m\n"
     ]
    },
    {
     "name": "stderr",
     "output_type": "stream",
     "text": [
      "\u001b[2m\u001b[36m(DefaultActor pid=96431)\u001b[0m \r",
      " 60%|██████    | 3/5 [00:16<00:11,  5.51s/it]\u001b[32m [repeated 8x across cluster]\u001b[0m\n"
     ]
    },
    {
     "name": "stdout",
     "output_type": "stream",
     "text": [
      "\u001b[2m\u001b[36m(DefaultActor pid=96431)\u001b[0m 0.09186599589884281\u001b[32m [repeated 8x across cluster]\u001b[0m\n"
     ]
    },
    {
     "name": "stderr",
     "output_type": "stream",
     "text": [
      "\u001b[2m\u001b[36m(DefaultActor pid=96431)\u001b[0m \r",
      " 80%|████████  | 4/5 [00:22<00:05,  5.56s/it]\u001b[32m [repeated 8x across cluster]\u001b[0m\n"
     ]
    },
    {
     "name": "stdout",
     "output_type": "stream",
     "text": [
      "\u001b[2m\u001b[36m(DefaultActor pid=96431)\u001b[0m 0.09220666167410937\u001b[32m [repeated 8x across cluster]\u001b[0m\n"
     ]
    },
    {
     "name": "stderr",
     "output_type": "stream",
     "text": [
      "\u001b[2m\u001b[36m(DefaultActor pid=96431)\u001b[0m \r",
      "100%|██████████| 5/5 [00:27<00:00,  5.65s/it]\r",
      "100%|██████████| 5/5 [00:27<00:00,  5.60s/it]\n",
      "\u001b[2m\u001b[36m(DefaultActor pid=96431)\u001b[0m \r",
      "  0%|          | 0/5 [00:00<?, ?it/s]\n",
      "\u001b[2m\u001b[36m(DefaultActor pid=96424)\u001b[0m \r",
      " 80%|████████  | 4/5 [00:26<00:06,  6.51s/it]\u001b[32m [repeated 7x across cluster]\u001b[0m\n"
     ]
    },
    {
     "name": "stdout",
     "output_type": "stream",
     "text": [
      "\u001b[2m\u001b[36m(DefaultActor pid=96431)\u001b[0m 0.14065595783970572\u001b[32m [repeated 8x across cluster]\u001b[0m\n"
     ]
    },
    {
     "name": "stderr",
     "output_type": "stream",
     "text": [
      "\u001b[2m\u001b[36m(DefaultActor pid=96425)\u001b[0m \r",
      "100%|██████████| 5/5 [00:32<00:00,  6.54s/it]\r",
      "100%|██████████| 5/5 [00:32<00:00,  6.52s/it]\u001b[32m [repeated 7x across cluster]\u001b[0m\n",
      "\u001b[2m\u001b[36m(DefaultActor pid=96428)\u001b[0m \r",
      "  0%|          | 0/5 [00:00<?, ?it/s]\n",
      "\u001b[2m\u001b[36m(DefaultActor pid=96431)\u001b[0m \r",
      " 20%|██        | 1/5 [00:05<00:21,  5.45s/it]\n",
      "\u001b[2m\u001b[36m(DefaultActor pid=96428)\u001b[0m \r",
      " 20%|██        | 1/5 [00:05<00:20,  5.23s/it]\n"
     ]
    },
    {
     "name": "stdout",
     "output_type": "stream",
     "text": [
      "\u001b[2m\u001b[36m(DefaultActor pid=96431)\u001b[0m 0.12068745951083573\u001b[32m [repeated 4x across cluster]\u001b[0m\n"
     ]
    },
    {
     "name": "stderr",
     "output_type": "stream",
     "text": [
      " 60%|██████    | 3/5 [00:13<00:08,  4.38s/it]\u001b[32m [repeated 3x across cluster]\u001b[0m\n",
      "DEBUG flwr 2023-11-09 14:08:21,617 | server.py:236 | fit_round 5 received 10 results and 0 failures\n",
      "DEBUG:flwr:fit_round 5 received 10 results and 0 failures\n",
      "DEBUG flwr 2023-11-09 14:08:21,632 | server.py:173 | evaluate_round 5: strategy sampled 20 clients (out of 40)\n",
      "DEBUG:flwr:evaluate_round 5: strategy sampled 20 clients (out of 40)\n",
      "100%|██████████| 5/5 [00:21<00:00,  4.30s/it]\n",
      " 80%|████████  | 4/5 [00:17<00:04,  4.23s/it]\u001b[32m [repeated 3x across cluster]\u001b[0m\n",
      "DEBUG flwr 2023-11-09 14:08:21,775 | server.py:187 | evaluate_round 5 received 20 results and 0 failures\n",
      "DEBUG:flwr:evaluate_round 5 received 20 results and 0 failures\n",
      "DEBUG flwr 2023-11-09 14:08:21,776 | server.py:222 | fit_round 6: strategy sampled 10 clients (out of 40)\n",
      "DEBUG:flwr:fit_round 6: strategy sampled 10 clients (out of 40)\n"
     ]
    },
    {
     "name": "stdout",
     "output_type": "stream",
     "text": [
      "Saving round 5 aggregated_parameters...\n",
      "\u001b[2m\u001b[36m(DefaultActor pid=96428)\u001b[0m 0.0862379851327701\u001b[32m [repeated 4x across cluster]\u001b[0m\n"
     ]
    },
    {
     "name": "stderr",
     "output_type": "stream",
     "text": [
      "\u001b[2m\u001b[36m(DefaultActor pid=96426)\u001b[0m \r",
      "  0%|          | 0/5 [00:00<?, ?it/s]\n"
     ]
    },
    {
     "name": "stdout",
     "output_type": "stream",
     "text": [
      "\u001b[2m\u001b[36m(DefaultActor pid=96428)\u001b[0m 0.0659744789485227\u001b[32m [repeated 2x across cluster]\u001b[0m\n"
     ]
    },
    {
     "name": "stderr",
     "output_type": "stream",
     "text": [
      "\u001b[2m\u001b[36m(DefaultActor pid=96431)\u001b[0m \r",
      "100%|██████████| 5/5 [00:21<00:00,  4.21s/it]\r",
      "100%|██████████| 5/5 [00:21<00:00,  4.36s/it]\n",
      "\u001b[2m\u001b[36m(DefaultActor pid=96428)\u001b[0m \r",
      " 20%|██        | 1/5 [00:05<00:22,  5.59s/it]\n",
      "\u001b[2m\u001b[36m(DefaultActor pid=96431)\u001b[0m \r",
      "  0%|          | 0/5 [00:00<?, ?it/s]\u001b[32m [repeated 7x across cluster]\u001b[0m\n",
      "\u001b[2m\u001b[36m(DefaultActor pid=96431)\u001b[0m \r",
      " 20%|██        | 1/5 [00:05<00:22,  5.60s/it]\n"
     ]
    },
    {
     "name": "stdout",
     "output_type": "stream",
     "text": [
      "\u001b[2m\u001b[36m(DefaultActor pid=96428)\u001b[0m 0.055032395673069084\u001b[32m [repeated 8x across cluster]\u001b[0m\n"
     ]
    },
    {
     "name": "stderr",
     "output_type": "stream",
     "text": [
      "\u001b[2m\u001b[36m(DefaultActor pid=96428)\u001b[0m \r",
      " 40%|████      | 2/5 [00:11<00:17,  5.68s/it]\u001b[32m [repeated 7x across cluster]\u001b[0m\n"
     ]
    },
    {
     "name": "stdout",
     "output_type": "stream",
     "text": [
      "\u001b[2m\u001b[36m(DefaultActor pid=96428)\u001b[0m 0.05507297674193978\u001b[32m [repeated 8x across cluster]\u001b[0m\n"
     ]
    },
    {
     "name": "stderr",
     "output_type": "stream",
     "text": [
      "\u001b[2m\u001b[36m(DefaultActor pid=96428)\u001b[0m \r",
      " 60%|██████    | 3/5 [00:16<00:11,  5.66s/it]\u001b[32m [repeated 8x across cluster]\u001b[0m\n"
     ]
    },
    {
     "name": "stdout",
     "output_type": "stream",
     "text": [
      "\u001b[2m\u001b[36m(DefaultActor pid=96428)\u001b[0m 0.05528639608316801\u001b[32m [repeated 8x across cluster]\u001b[0m\n"
     ]
    },
    {
     "name": "stderr",
     "output_type": "stream",
     "text": [
      "\u001b[2m\u001b[36m(DefaultActor pid=96428)\u001b[0m \r",
      " 80%|████████  | 4/5 [00:22<00:05,  5.68s/it]\u001b[32m [repeated 8x across cluster]\u001b[0m\n"
     ]
    },
    {
     "name": "stdout",
     "output_type": "stream",
     "text": [
      "\u001b[2m\u001b[36m(DefaultActor pid=96428)\u001b[0m 0.05459917074238712\u001b[32m [repeated 8x across cluster]\u001b[0m\n"
     ]
    },
    {
     "name": "stderr",
     "output_type": "stream",
     "text": [
      "\u001b[2m\u001b[36m(DefaultActor pid=96428)\u001b[0m \r",
      "100%|██████████| 5/5 [00:28<00:00,  5.68s/it]\r",
      "100%|██████████| 5/5 [00:28<00:00,  5.67s/it]\n",
      "\u001b[2m\u001b[36m(DefaultActor pid=96428)\u001b[0m \r",
      "  0%|          | 0/5 [00:00<?, ?it/s]\n",
      "\u001b[2m\u001b[36m(DefaultActor pid=96424)\u001b[0m \r",
      " 80%|████████  | 4/5 [00:26<00:06,  6.59s/it]\u001b[32m [repeated 7x across cluster]\u001b[0m\n"
     ]
    },
    {
     "name": "stdout",
     "output_type": "stream",
     "text": [
      "\u001b[2m\u001b[36m(DefaultActor pid=96428)\u001b[0m 0.28210981969128957\u001b[32m [repeated 8x across cluster]\u001b[0m\n"
     ]
    },
    {
     "name": "stderr",
     "output_type": "stream",
     "text": [
      "100%|██████████| 5/5 [00:32<00:00,  6.55s/it]\u001b[32m [repeated 7x across cluster]\u001b[0m\n",
      "  0%|          | 0/5 [00:00<?, ?it/s] \n",
      " 20%|██        | 1/5 [00:05<00:20,  5.13s/it]\n",
      " 20%|██        | 1/5 [00:05<00:20,  5.04s/it]\n"
     ]
    },
    {
     "name": "stdout",
     "output_type": "stream",
     "text": [
      "\u001b[2m\u001b[36m(DefaultActor pid=96428)\u001b[0m 0.26264210688796913\u001b[32m [repeated 4x across cluster]\u001b[0m\n"
     ]
    },
    {
     "name": "stderr",
     "output_type": "stream",
     "text": [
      "\u001b[2m\u001b[36m(DefaultActor pid=96428)\u001b[0m \r",
      " 60%|██████    | 3/5 [00:13<00:08,  4.37s/it]\u001b[32m [repeated 3x across cluster]\u001b[0m\n"
     ]
    },
    {
     "name": "stdout",
     "output_type": "stream",
     "text": [
      "\u001b[2m\u001b[36m(DefaultActor pid=96428)\u001b[0m 0.2616454836997119\u001b[32m [repeated 4x across cluster]\u001b[0m\n"
     ]
    },
    {
     "name": "stderr",
     "output_type": "stream",
     "text": [
      "100%|██████████| 5/5 [00:21<00:00,  4.35s/it]\n",
      " 80%|████████  | 4/5 [00:17<00:04,  4.22s/it]\u001b[32m [repeated 3x across cluster]\u001b[0m\n",
      "DEBUG flwr 2023-11-09 14:09:12,338 | server.py:236 | fit_round 6 received 10 results and 0 failures\n",
      "DEBUG:flwr:fit_round 6 received 10 results and 0 failures\n",
      "DEBUG flwr 2023-11-09 14:09:12,354 | server.py:173 | evaluate_round 6: strategy sampled 20 clients (out of 40)\n",
      "DEBUG:flwr:evaluate_round 6: strategy sampled 20 clients (out of 40)\n",
      "DEBUG flwr 2023-11-09 14:09:12,491 | server.py:187 | evaluate_round 6 received 20 results and 0 failures\n",
      "DEBUG:flwr:evaluate_round 6 received 20 results and 0 failures\n",
      "DEBUG flwr 2023-11-09 14:09:12,492 | server.py:222 | fit_round 7: strategy sampled 10 clients (out of 40)\n",
      "DEBUG:flwr:fit_round 7: strategy sampled 10 clients (out of 40)\n"
     ]
    },
    {
     "name": "stdout",
     "output_type": "stream",
     "text": [
      "Saving round 6 aggregated_parameters...\n"
     ]
    },
    {
     "name": "stderr",
     "output_type": "stream",
     "text": [
      "\u001b[2m\u001b[36m(DefaultActor pid=96427)\u001b[0m \r",
      "  0%|          | 0/5 [00:00<?, ?it/s]\n"
     ]
    },
    {
     "name": "stdout",
     "output_type": "stream",
     "text": [
      "\u001b[2m\u001b[36m(DefaultActor pid=96428)\u001b[0m 0.062245029702105305\u001b[32m [repeated 2x across cluster]\u001b[0m\n"
     ]
    },
    {
     "name": "stderr",
     "output_type": "stream",
     "text": [
      "100%|██████████| 5/5 [00:21<00:00,  4.28s/it]\n",
      " 20%|██        | 1/5 [00:05<00:22,  5.63s/it]\n",
      "  0%|          | 0/5 [00:00<?, ?it/s]\u001b[32m [repeated 7x across cluster]\u001b[0m\n",
      " 20%|██        | 1/5 [00:05<00:23,  5.90s/it]\n"
     ]
    },
    {
     "name": "stdout",
     "output_type": "stream",
     "text": [
      "\u001b[2m\u001b[36m(DefaultActor pid=96428)\u001b[0m 0.05564384909600697\u001b[32m [repeated 8x across cluster]\u001b[0m\n"
     ]
    },
    {
     "name": "stderr",
     "output_type": "stream",
     "text": [
      "\u001b[2m\u001b[36m(DefaultActor pid=96428)\u001b[0m \r",
      " 40%|████      | 2/5 [00:11<00:17,  5.75s/it]\u001b[32m [repeated 7x across cluster]\u001b[0m\n"
     ]
    },
    {
     "name": "stdout",
     "output_type": "stream",
     "text": [
      "\u001b[2m\u001b[36m(DefaultActor pid=96428)\u001b[0m 0.05507365127348087\u001b[32m [repeated 8x across cluster]\u001b[0m\n"
     ]
    },
    {
     "name": "stderr",
     "output_type": "stream",
     "text": [
      "\u001b[2m\u001b[36m(DefaultActor pid=96428)\u001b[0m \r",
      " 60%|██████    | 3/5 [00:16<00:11,  5.65s/it]\u001b[32m [repeated 8x across cluster]\u001b[0m\n"
     ]
    },
    {
     "name": "stdout",
     "output_type": "stream",
     "text": [
      "\u001b[2m\u001b[36m(DefaultActor pid=96428)\u001b[0m 0.05484274046664888\u001b[32m [repeated 8x across cluster]\u001b[0m\n"
     ]
    },
    {
     "name": "stderr",
     "output_type": "stream",
     "text": [
      "\u001b[2m\u001b[36m(DefaultActor pid=96428)\u001b[0m \r",
      " 80%|████████  | 4/5 [00:22<00:05,  5.71s/it]\u001b[32m [repeated 8x across cluster]\u001b[0m\n"
     ]
    },
    {
     "name": "stdout",
     "output_type": "stream",
     "text": [
      "\u001b[2m\u001b[36m(DefaultActor pid=96428)\u001b[0m 0.05498370172625238\u001b[32m [repeated 8x across cluster]\u001b[0m\n"
     ]
    },
    {
     "name": "stderr",
     "output_type": "stream",
     "text": [
      "\u001b[2m\u001b[36m(DefaultActor pid=96428)\u001b[0m \r",
      "100%|██████████| 5/5 [00:28<00:00,  5.65s/it]\r",
      "100%|██████████| 5/5 [00:28<00:00,  5.67s/it]\n",
      "\u001b[2m\u001b[36m(DefaultActor pid=96428)\u001b[0m \r",
      "  0%|          | 0/5 [00:00<?, ?it/s]\n",
      "\u001b[2m\u001b[36m(DefaultActor pid=96427)\u001b[0m \r",
      " 80%|████████  | 4/5 [00:26<00:06,  6.71s/it]\u001b[32m [repeated 7x across cluster]\u001b[0m\n"
     ]
    },
    {
     "name": "stdout",
     "output_type": "stream",
     "text": [
      "\u001b[2m\u001b[36m(DefaultActor pid=96428)\u001b[0m 0.27969530157067557\u001b[32m [repeated 8x across cluster]\u001b[0m\n"
     ]
    },
    {
     "name": "stderr",
     "output_type": "stream",
     "text": [
      "100%|██████████| 5/5 [00:33<00:00,  6.64s/it]\u001b[32m [repeated 7x across cluster]\u001b[0m\n",
      "  0%|          | 0/5 [00:00<?, ?it/s] \n",
      " 20%|██        | 1/5 [00:05<00:21,  5.37s/it]\n",
      " 20%|██        | 1/5 [00:04<00:19,  4.95s/it]\n"
     ]
    },
    {
     "name": "stdout",
     "output_type": "stream",
     "text": [
      "\u001b[2m\u001b[36m(DefaultActor pid=96431)\u001b[0m 0.3608195978132161\u001b[32m [repeated 3x across cluster]\u001b[0m\n"
     ]
    },
    {
     "name": "stderr",
     "output_type": "stream",
     "text": [
      "\u001b[2m\u001b[36m(DefaultActor pid=96428)\u001b[0m \r",
      " 60%|██████    | 3/5 [00:13<00:08,  4.44s/it]\u001b[32m [repeated 3x across cluster]\u001b[0m\n"
     ]
    },
    {
     "name": "stdout",
     "output_type": "stream",
     "text": [
      "\u001b[2m\u001b[36m(DefaultActor pid=96428)\u001b[0m 0.2684687240557237\u001b[32m [repeated 3x across cluster]\u001b[0m\n"
     ]
    },
    {
     "name": "stderr",
     "output_type": "stream",
     "text": [
      " 80%|████████  | 4/5 [00:17<00:04,  4.28s/it]\u001b[32m [repeated 3x across cluster]\u001b[0m\n",
      "100%|██████████| 5/5 [00:22<00:00,  4.42s/it]\n",
      "DEBUG flwr 2023-11-09 14:10:04,057 | server.py:236 | fit_round 7 received 10 results and 0 failures\n",
      "DEBUG:flwr:fit_round 7 received 10 results and 0 failures\n",
      "DEBUG flwr 2023-11-09 14:10:04,072 | server.py:173 | evaluate_round 7: strategy sampled 20 clients (out of 40)\n",
      "DEBUG:flwr:evaluate_round 7: strategy sampled 20 clients (out of 40)\n",
      "DEBUG flwr 2023-11-09 14:10:04,211 | server.py:187 | evaluate_round 7 received 20 results and 0 failures\n",
      "DEBUG:flwr:evaluate_round 7 received 20 results and 0 failures\n",
      "DEBUG flwr 2023-11-09 14:10:04,212 | server.py:222 | fit_round 8: strategy sampled 10 clients (out of 40)\n",
      "DEBUG:flwr:fit_round 8: strategy sampled 10 clients (out of 40)\n"
     ]
    },
    {
     "name": "stdout",
     "output_type": "stream",
     "text": [
      "Saving round 7 aggregated_parameters...\n",
      "\u001b[2m\u001b[36m(DefaultActor pid=96431)\u001b[0m 0.355054857717319\u001b[32m [repeated 3x across cluster]\u001b[0m\n"
     ]
    },
    {
     "name": "stderr",
     "output_type": "stream",
     "text": [
      "\u001b[2m\u001b[36m(DefaultActor pid=96426)\u001b[0m \r",
      "  0%|          | 0/5 [00:00<?, ?it/s]\n"
     ]
    },
    {
     "name": "stdout",
     "output_type": "stream",
     "text": [
      "\u001b[2m\u001b[36m(DefaultActor pid=96428)\u001b[0m 0.20321499031375756\n",
      "\u001b[2m\u001b[36m(DefaultActor pid=96431)\u001b[0m 0.07726061132482508\n"
     ]
    },
    {
     "name": "stderr",
     "output_type": "stream",
     "text": [
      "\u001b[2m\u001b[36m(DefaultActor pid=96428)\u001b[0m \r",
      " 20%|██        | 1/5 [00:05<00:23,  5.88s/it]\n",
      "\u001b[2m\u001b[36m(DefaultActor pid=96431)\u001b[0m \r",
      "100%|██████████| 5/5 [00:21<00:00,  4.24s/it]\r",
      "100%|██████████| 5/5 [00:21<00:00,  4.33s/it]\n",
      "\u001b[2m\u001b[36m(DefaultActor pid=96431)\u001b[0m \r",
      "  0%|          | 0/5 [00:00<?, ?it/s]\u001b[32m [repeated 7x across cluster]\u001b[0m\n",
      "\u001b[2m\u001b[36m(DefaultActor pid=96431)\u001b[0m \r",
      " 20%|██        | 1/5 [00:05<00:23,  5.82s/it]\n"
     ]
    },
    {
     "name": "stdout",
     "output_type": "stream",
     "text": [
      "\u001b[2m\u001b[36m(DefaultActor pid=96431)\u001b[0m 0.06711582928387956\u001b[32m [repeated 7x across cluster]\u001b[0m\n"
     ]
    },
    {
     "name": "stderr",
     "output_type": "stream",
     "text": [
      "\u001b[2m\u001b[36m(DefaultActor pid=96431)\u001b[0m \r",
      " 40%|████      | 2/5 [00:11<00:17,  5.90s/it]\u001b[32m [repeated 7x across cluster]\u001b[0m\n"
     ]
    },
    {
     "name": "stdout",
     "output_type": "stream",
     "text": [
      "\u001b[2m\u001b[36m(DefaultActor pid=96431)\u001b[0m 0.0667317510497841\u001b[32m [repeated 8x across cluster]\u001b[0m\n"
     ]
    },
    {
     "name": "stderr",
     "output_type": "stream",
     "text": [
      "\u001b[2m\u001b[36m(DefaultActor pid=96431)\u001b[0m \r",
      " 60%|██████    | 3/5 [00:17<00:12,  6.02s/it]\u001b[32m [repeated 8x across cluster]\u001b[0m\n"
     ]
    },
    {
     "name": "stdout",
     "output_type": "stream",
     "text": [
      "\u001b[2m\u001b[36m(DefaultActor pid=96431)\u001b[0m 0.0666948605159467\u001b[32m [repeated 8x across cluster]\u001b[0m\n"
     ]
    },
    {
     "name": "stderr",
     "output_type": "stream",
     "text": [
      "\u001b[2m\u001b[36m(DefaultActor pid=96431)\u001b[0m \r",
      " 80%|████████  | 4/5 [00:24<00:06,  6.04s/it]\u001b[32m [repeated 8x across cluster]\u001b[0m\n"
     ]
    },
    {
     "name": "stdout",
     "output_type": "stream",
     "text": [
      "\u001b[2m\u001b[36m(DefaultActor pid=96431)\u001b[0m 0.06624164271422407\u001b[32m [repeated 8x across cluster]\u001b[0m\n"
     ]
    },
    {
     "name": "stderr",
     "output_type": "stream",
     "text": [
      "\u001b[2m\u001b[36m(DefaultActor pid=96431)\u001b[0m \r",
      "100%|██████████| 5/5 [00:30<00:00,  6.09s/it]\r",
      "100%|██████████| 5/5 [00:30<00:00,  6.04s/it]\n",
      "\u001b[2m\u001b[36m(DefaultActor pid=96425)\u001b[0m \r",
      " 80%|████████  | 4/5 [00:27<00:06,  6.95s/it]\u001b[32m [repeated 7x across cluster]\u001b[0m\n",
      "\u001b[2m\u001b[36m(DefaultActor pid=96431)\u001b[0m \r",
      "  0%|          | 0/5 [00:00<?, ?it/s]\n"
     ]
    },
    {
     "name": "stdout",
     "output_type": "stream",
     "text": [
      "\u001b[2m\u001b[36m(DefaultActor pid=96431)\u001b[0m 0.09400551537559791\u001b[32m [repeated 8x across cluster]\u001b[0m\n"
     ]
    },
    {
     "name": "stderr",
     "output_type": "stream",
     "text": [
      "100%|██████████| 5/5 [00:34<00:00,  6.92s/it]\u001b[32m [repeated 7x across cluster]\u001b[0m\n",
      " 20%|██        | 1/5 [00:05<00:22,  5.64s/it]\n",
      "  0%|          | 0/5 [00:00<?, ?it/s] \n",
      " 20%|██        | 1/5 [00:05<00:21,  5.29s/it]\n"
     ]
    },
    {
     "name": "stdout",
     "output_type": "stream",
     "text": [
      "\u001b[2m\u001b[36m(DefaultActor pid=96431)\u001b[0m 0.08401477125219324\u001b[32m [repeated 4x across cluster]\u001b[0m\n"
     ]
    },
    {
     "name": "stderr",
     "output_type": "stream",
     "text": [
      "\u001b[2m\u001b[36m(DefaultActor pid=96431)\u001b[0m \r",
      " 60%|██████    | 3/5 [00:13<00:08,  4.44s/it]\u001b[32m [repeated 3x across cluster]\u001b[0m\n"
     ]
    },
    {
     "name": "stdout",
     "output_type": "stream",
     "text": [
      "\u001b[2m\u001b[36m(DefaultActor pid=96431)\u001b[0m 0.08390585239976645\u001b[32m [repeated 4x across cluster]\u001b[0m\n"
     ]
    },
    {
     "name": "stderr",
     "output_type": "stream",
     "text": [
      "100%|██████████| 5/5 [00:22<00:00,  4.40s/it]\n",
      " 80%|████████  | 4/5 [00:17<00:04,  4.29s/it]\u001b[32m [repeated 3x across cluster]\u001b[0m\n",
      "DEBUG flwr 2023-11-09 14:10:56,957 | server.py:236 | fit_round 8 received 10 results and 0 failures\n",
      "DEBUG:flwr:fit_round 8 received 10 results and 0 failures\n",
      "DEBUG flwr 2023-11-09 14:10:56,974 | server.py:173 | evaluate_round 8: strategy sampled 20 clients (out of 40)\n",
      "DEBUG:flwr:evaluate_round 8: strategy sampled 20 clients (out of 40)\n",
      "DEBUG flwr 2023-11-09 14:10:57,123 | server.py:187 | evaluate_round 8 received 20 results and 0 failures\n",
      "DEBUG:flwr:evaluate_round 8 received 20 results and 0 failures\n",
      "DEBUG flwr 2023-11-09 14:10:57,124 | server.py:222 | fit_round 9: strategy sampled 10 clients (out of 40)\n",
      "DEBUG:flwr:fit_round 9: strategy sampled 10 clients (out of 40)\n",
      "  0%|          | 0/5 [00:00<?, ?it/s] \n"
     ]
    },
    {
     "name": "stdout",
     "output_type": "stream",
     "text": [
      "Saving round 8 aggregated_parameters...\n",
      "\u001b[2m\u001b[36m(DefaultActor pid=96428)\u001b[0m 0.3348534076728604\u001b[32m [repeated 2x across cluster]\u001b[0m\n"
     ]
    },
    {
     "name": "stderr",
     "output_type": "stream",
     "text": [
      "\u001b[2m\u001b[36m(DefaultActor pid=96428)\u001b[0m \r",
      "100%|██████████| 5/5 [00:21<00:00,  4.24s/it]\r",
      "100%|██████████| 5/5 [00:21<00:00,  4.37s/it]\n",
      "\u001b[2m\u001b[36m(DefaultActor pid=96428)\u001b[0m \r",
      " 20%|██        | 1/5 [00:06<00:24,  6.03s/it]\n",
      "\u001b[2m\u001b[36m(DefaultActor pid=96431)\u001b[0m \r",
      "  0%|          | 0/5 [00:00<?, ?it/s]\u001b[32m [repeated 7x across cluster]\u001b[0m\n",
      "\u001b[2m\u001b[36m(DefaultActor pid=96431)\u001b[0m \r",
      " 20%|██        | 1/5 [00:06<00:24,  6.03s/it]\n"
     ]
    },
    {
     "name": "stdout",
     "output_type": "stream",
     "text": [
      "\u001b[2m\u001b[36m(DefaultActor pid=96428)\u001b[0m 0.3216775892810388\u001b[32m [repeated 8x across cluster]\u001b[0m\n"
     ]
    },
    {
     "name": "stderr",
     "output_type": "stream",
     "text": [
      "\u001b[2m\u001b[36m(DefaultActor pid=96428)\u001b[0m \r",
      " 40%|████      | 2/5 [00:11<00:17,  5.97s/it]\u001b[32m [repeated 7x across cluster]\u001b[0m\n"
     ]
    },
    {
     "name": "stdout",
     "output_type": "stream",
     "text": [
      "\u001b[2m\u001b[36m(DefaultActor pid=96428)\u001b[0m 0.32128635387529025\u001b[32m [repeated 8x across cluster]\u001b[0m\n"
     ]
    },
    {
     "name": "stderr",
     "output_type": "stream",
     "text": [
      "\u001b[2m\u001b[36m(DefaultActor pid=96428)\u001b[0m \r",
      " 60%|██████    | 3/5 [00:17<00:11,  5.93s/it]\u001b[32m [repeated 8x across cluster]\u001b[0m\n"
     ]
    },
    {
     "name": "stdout",
     "output_type": "stream",
     "text": [
      "\u001b[2m\u001b[36m(DefaultActor pid=96428)\u001b[0m 0.3222818032584407\u001b[32m [repeated 8x across cluster]\u001b[0m\n"
     ]
    },
    {
     "name": "stderr",
     "output_type": "stream",
     "text": [
      "\u001b[2m\u001b[36m(DefaultActor pid=96428)\u001b[0m \r",
      " 80%|████████  | 4/5 [00:23<00:05,  5.98s/it]\u001b[32m [repeated 8x across cluster]\u001b[0m\n"
     ]
    },
    {
     "name": "stdout",
     "output_type": "stream",
     "text": [
      "\u001b[2m\u001b[36m(DefaultActor pid=96428)\u001b[0m 0.31838267940011894\u001b[32m [repeated 8x across cluster]\u001b[0m\n"
     ]
    },
    {
     "name": "stderr",
     "output_type": "stream",
     "text": [
      "\u001b[2m\u001b[36m(DefaultActor pid=96428)\u001b[0m \r",
      "100%|██████████| 5/5 [00:29<00:00,  5.98s/it]\r",
      "100%|██████████| 5/5 [00:29<00:00,  5.98s/it]\n",
      "\u001b[2m\u001b[36m(DefaultActor pid=96429)\u001b[0m \r",
      " 80%|████████  | 4/5 [00:26<00:06,  6.67s/it]\u001b[32m [repeated 7x across cluster]\u001b[0m\n",
      "\u001b[2m\u001b[36m(DefaultActor pid=96428)\u001b[0m \r",
      "  0%|          | 0/5 [00:00<?, ?it/s]\n"
     ]
    },
    {
     "name": "stdout",
     "output_type": "stream",
     "text": [
      "\u001b[2m\u001b[36m(DefaultActor pid=96428)\u001b[0m 0.04112859582528472\u001b[32m [repeated 8x across cluster]\u001b[0m\n"
     ]
    },
    {
     "name": "stderr",
     "output_type": "stream",
     "text": [
      "100%|██████████| 5/5 [00:33<00:00,  6.62s/it]\u001b[32m [repeated 7x across cluster]\u001b[0m\n",
      " 20%|██        | 1/5 [00:04<00:19,  4.93s/it]\n",
      " 20%|██        | 1/5 [00:05<00:20,  5.06s/it]\n",
      "  0%|          | 0/5 [00:00<?, ?it/s] \n"
     ]
    },
    {
     "name": "stdout",
     "output_type": "stream",
     "text": [
      "\u001b[2m\u001b[36m(DefaultActor pid=96428)\u001b[0m 0.035200812853872776\u001b[32m [repeated 4x across cluster]\u001b[0m\n"
     ]
    },
    {
     "name": "stderr",
     "output_type": "stream",
     "text": [
      "\u001b[2m\u001b[36m(DefaultActor pid=96428)\u001b[0m \r",
      " 60%|██████    | 3/5 [00:13<00:08,  4.30s/it]\u001b[32m [repeated 3x across cluster]\u001b[0m\n"
     ]
    },
    {
     "name": "stdout",
     "output_type": "stream",
     "text": [
      "\u001b[2m\u001b[36m(DefaultActor pid=96428)\u001b[0m 0.035027171866121615\u001b[32m [repeated 4x across cluster]\u001b[0m\n"
     ]
    },
    {
     "name": "stderr",
     "output_type": "stream",
     "text": [
      "100%|██████████| 5/5 [00:21<00:00,  4.28s/it]\n",
      " 80%|████████  | 4/5 [00:17<00:04,  4.27s/it]\u001b[32m [repeated 3x across cluster]\u001b[0m\n",
      "DEBUG flwr 2023-11-09 14:11:49,070 | server.py:236 | fit_round 9 received 10 results and 0 failures\n",
      "DEBUG:flwr:fit_round 9 received 10 results and 0 failures\n",
      "DEBUG flwr 2023-11-09 14:11:49,085 | server.py:173 | evaluate_round 9: strategy sampled 20 clients (out of 40)\n",
      "DEBUG:flwr:evaluate_round 9: strategy sampled 20 clients (out of 40)\n",
      "DEBUG flwr 2023-11-09 14:11:49,231 | server.py:187 | evaluate_round 9 received 20 results and 0 failures\n",
      "DEBUG:flwr:evaluate_round 9 received 20 results and 0 failures\n",
      "DEBUG flwr 2023-11-09 14:11:49,232 | server.py:222 | fit_round 10: strategy sampled 10 clients (out of 40)\n",
      "DEBUG:flwr:fit_round 10: strategy sampled 10 clients (out of 40)\n"
     ]
    },
    {
     "name": "stdout",
     "output_type": "stream",
     "text": [
      "Saving round 9 aggregated_parameters...\n"
     ]
    },
    {
     "name": "stderr",
     "output_type": "stream",
     "text": [
      "\u001b[2m\u001b[36m(DefaultActor pid=96426)\u001b[0m \r",
      "  0%|          | 0/5 [00:00<?, ?it/s]\n"
     ]
    },
    {
     "name": "stdout",
     "output_type": "stream",
     "text": [
      "\u001b[2m\u001b[36m(DefaultActor pid=96428)\u001b[0m 0.23956754126332022\u001b[32m [repeated 2x across cluster]\u001b[0m\n"
     ]
    },
    {
     "name": "stderr",
     "output_type": "stream",
     "text": [
      "100%|██████████| 5/5 [00:21<00:00,  4.33s/it]\n",
      " 20%|██        | 1/5 [00:05<00:23,  5.80s/it]\n",
      "  0%|          | 0/5 [00:00<?, ?it/s]\u001b[32m [repeated 7x across cluster]\u001b[0m\n",
      " 20%|██        | 1/5 [00:06<00:24,  6.02s/it]\n"
     ]
    },
    {
     "name": "stdout",
     "output_type": "stream",
     "text": [
      "\u001b[2m\u001b[36m(DefaultActor pid=96431)\u001b[0m 0.13532140063629908\u001b[32m [repeated 8x across cluster]\u001b[0m\n"
     ]
    },
    {
     "name": "stderr",
     "output_type": "stream",
     "text": [
      "\u001b[2m\u001b[36m(DefaultActor pid=96431)\u001b[0m \r",
      " 40%|████      | 2/5 [00:11<00:17,  5.90s/it]\u001b[32m [repeated 7x across cluster]\u001b[0m\n"
     ]
    },
    {
     "name": "stdout",
     "output_type": "stream",
     "text": [
      "\u001b[2m\u001b[36m(DefaultActor pid=96431)\u001b[0m 0.13498568738048727\u001b[32m [repeated 8x across cluster]\u001b[0m\n"
     ]
    },
    {
     "name": "stderr",
     "output_type": "stream",
     "text": [
      "\u001b[2m\u001b[36m(DefaultActor pid=96431)\u001b[0m \r",
      " 60%|██████    | 3/5 [00:17<00:11,  5.96s/it]\u001b[32m [repeated 8x across cluster]\u001b[0m\n"
     ]
    },
    {
     "name": "stdout",
     "output_type": "stream",
     "text": [
      "\u001b[2m\u001b[36m(DefaultActor pid=96431)\u001b[0m 0.13387227041477506\u001b[32m [repeated 8x across cluster]\u001b[0m\n"
     ]
    },
    {
     "name": "stderr",
     "output_type": "stream",
     "text": [
      "\u001b[2m\u001b[36m(DefaultActor pid=96431)\u001b[0m \r",
      " 80%|████████  | 4/5 [00:23<00:06,  6.01s/it]\u001b[32m [repeated 8x across cluster]\u001b[0m\n"
     ]
    },
    {
     "name": "stdout",
     "output_type": "stream",
     "text": [
      "\u001b[2m\u001b[36m(DefaultActor pid=96431)\u001b[0m 0.13329423278231511\u001b[32m [repeated 8x across cluster]\u001b[0m\n"
     ]
    },
    {
     "name": "stderr",
     "output_type": "stream",
     "text": [
      "\u001b[2m\u001b[36m(DefaultActor pid=96431)\u001b[0m \r",
      "100%|██████████| 5/5 [00:29<00:00,  5.98s/it]\r",
      "100%|██████████| 5/5 [00:29<00:00,  5.98s/it]\n",
      "\u001b[2m\u001b[36m(DefaultActor pid=96427)\u001b[0m \r",
      " 80%|████████  | 4/5 [00:26<00:06,  6.63s/it]\u001b[32m [repeated 7x across cluster]\u001b[0m\n",
      "\u001b[2m\u001b[36m(DefaultActor pid=96431)\u001b[0m \r",
      "  0%|          | 0/5 [00:00<?, ?it/s]\n"
     ]
    },
    {
     "name": "stdout",
     "output_type": "stream",
     "text": [
      "\u001b[2m\u001b[36m(DefaultActor pid=96428)\u001b[0m 0.28441870043223555\u001b[32m [repeated 9x across cluster]\u001b[0m\n"
     ]
    },
    {
     "name": "stderr",
     "output_type": "stream",
     "text": [
      "\u001b[2m\u001b[36m(DefaultActor pid=96429)\u001b[0m \r",
      "100%|██████████| 5/5 [00:33<00:00,  6.72s/it]\r",
      "100%|██████████| 5/5 [00:33<00:00,  6.67s/it]\u001b[32m [repeated 7x across cluster]\u001b[0m\n",
      "\u001b[2m\u001b[36m(DefaultActor pid=96428)\u001b[0m \r",
      " 20%|██        | 1/5 [00:05<00:20,  5.10s/it]\u001b[32m [repeated 2x across cluster]\u001b[0m\n",
      "\u001b[2m\u001b[36m(DefaultActor pid=96428)\u001b[0m \r",
      "  0%|          | 0/5 [00:00<?, ?it/s]\n"
     ]
    },
    {
     "name": "stdout",
     "output_type": "stream",
     "text": [
      "\u001b[2m\u001b[36m(DefaultActor pid=96431)\u001b[0m 0.26770057292147115\u001b[32m [repeated 3x across cluster]\u001b[0m\n"
     ]
    },
    {
     "name": "stderr",
     "output_type": "stream",
     "text": [
      "\u001b[2m\u001b[36m(DefaultActor pid=96431)\u001b[0m \r",
      " 60%|██████    | 3/5 [00:13<00:08,  4.34s/it]\u001b[32m [repeated 3x across cluster]\u001b[0m\n"
     ]
    },
    {
     "name": "stdout",
     "output_type": "stream",
     "text": [
      "\u001b[2m\u001b[36m(DefaultActor pid=96428)\u001b[0m 0.27053425765850325\u001b[32m [repeated 3x across cluster]\u001b[0m\n"
     ]
    },
    {
     "name": "stderr",
     "output_type": "stream",
     "text": [
      " 80%|████████  | 4/5 [00:17<00:04,  4.40s/it]\u001b[32m [repeated 3x across cluster]\u001b[0m\n",
      "100%|██████████| 5/5 [00:21<00:00,  4.33s/it]\n",
      "DEBUG flwr 2023-11-09 14:12:42,100 | server.py:236 | fit_round 10 received 10 results and 0 failures\n",
      "DEBUG:flwr:fit_round 10 received 10 results and 0 failures\n",
      "DEBUG flwr 2023-11-09 14:12:42,114 | server.py:173 | evaluate_round 10: strategy sampled 20 clients (out of 40)\n",
      "DEBUG:flwr:evaluate_round 10: strategy sampled 20 clients (out of 40)\n",
      "DEBUG flwr 2023-11-09 14:12:42,255 | server.py:187 | evaluate_round 10 received 20 results and 0 failures\n",
      "DEBUG:flwr:evaluate_round 10 received 20 results and 0 failures\n",
      "DEBUG flwr 2023-11-09 14:12:42,256 | server.py:222 | fit_round 11: strategy sampled 10 clients (out of 40)\n",
      "DEBUG:flwr:fit_round 11: strategy sampled 10 clients (out of 40)\n"
     ]
    },
    {
     "name": "stdout",
     "output_type": "stream",
     "text": [
      "Saving round 10 aggregated_parameters...\n"
     ]
    },
    {
     "name": "stderr",
     "output_type": "stream",
     "text": [
      "\u001b[2m\u001b[36m(DefaultActor pid=96427)\u001b[0m \r",
      "  0%|          | 0/5 [00:00<?, ?it/s]\n"
     ]
    },
    {
     "name": "stdout",
     "output_type": "stream",
     "text": [
      "\u001b[2m\u001b[36m(DefaultActor pid=96431)\u001b[0m 0.0918604081327265\u001b[32m [repeated 3x across cluster]\u001b[0m\n"
     ]
    },
    {
     "name": "stderr",
     "output_type": "stream",
     "text": [
      "\u001b[2m\u001b[36m(DefaultActor pid=96431)\u001b[0m \r",
      " 20%|██        | 1/5 [00:06<00:24,  6.16s/it]\n",
      "\u001b[2m\u001b[36m(DefaultActor pid=96428)\u001b[0m \r",
      "100%|██████████| 5/5 [00:22<00:00,  4.37s/it]\r",
      "100%|██████████| 5/5 [00:22<00:00,  4.46s/it]\n",
      "\u001b[2m\u001b[36m(DefaultActor pid=96431)\u001b[0m \r",
      "  0%|          | 0/5 [00:00<?, ?it/s]\u001b[32m [repeated 7x across cluster]\u001b[0m\n",
      "\u001b[2m\u001b[36m(DefaultActor pid=96428)\u001b[0m \r",
      " 20%|██        | 1/5 [00:06<00:25,  6.31s/it]\n"
     ]
    },
    {
     "name": "stdout",
     "output_type": "stream",
     "text": [
      "\u001b[2m\u001b[36m(DefaultActor pid=96431)\u001b[0m 0.08794906583021987\u001b[32m [repeated 8x across cluster]\u001b[0m\n"
     ]
    },
    {
     "name": "stderr",
     "output_type": "stream",
     "text": [
      "\u001b[2m\u001b[36m(DefaultActor pid=96431)\u001b[0m \r",
      " 40%|████      | 2/5 [00:12<00:18,  6.04s/it]\u001b[32m [repeated 7x across cluster]\u001b[0m\n"
     ]
    },
    {
     "name": "stdout",
     "output_type": "stream",
     "text": [
      "\u001b[2m\u001b[36m(DefaultActor pid=96431)\u001b[0m 0.08689588731662794\u001b[32m [repeated 8x across cluster]\u001b[0m\n"
     ]
    },
    {
     "name": "stderr",
     "output_type": "stream",
     "text": [
      "\u001b[2m\u001b[36m(DefaultActor pid=96431)\u001b[0m \r",
      " 60%|██████    | 3/5 [00:18<00:12,  6.06s/it]\u001b[32m [repeated 8x across cluster]\u001b[0m\n"
     ]
    },
    {
     "name": "stdout",
     "output_type": "stream",
     "text": [
      "\u001b[2m\u001b[36m(DefaultActor pid=96431)\u001b[0m 0.08734747691249306\u001b[32m [repeated 8x across cluster]\u001b[0m\n"
     ]
    },
    {
     "name": "stderr",
     "output_type": "stream",
     "text": [
      "\u001b[2m\u001b[36m(DefaultActor pid=96431)\u001b[0m \r",
      " 80%|████████  | 4/5 [00:24<00:06,  6.14s/it]\u001b[32m [repeated 8x across cluster]\u001b[0m\n"
     ]
    },
    {
     "name": "stdout",
     "output_type": "stream",
     "text": [
      "\u001b[2m\u001b[36m(DefaultActor pid=96431)\u001b[0m 0.08682516979222948\u001b[32m [repeated 8x across cluster]\u001b[0m\n"
     ]
    },
    {
     "name": "stderr",
     "output_type": "stream",
     "text": [
      "\u001b[2m\u001b[36m(DefaultActor pid=96431)\u001b[0m \r",
      "100%|██████████| 5/5 [00:30<00:00,  6.08s/it]\r",
      "100%|██████████| 5/5 [00:30<00:00,  6.09s/it]\n",
      "\u001b[2m\u001b[36m(DefaultActor pid=96431)\u001b[0m \r",
      "  0%|          | 0/5 [00:00<?, ?it/s]\n",
      "\u001b[2m\u001b[36m(DefaultActor pid=96427)\u001b[0m \r",
      " 80%|████████  | 4/5 [00:27<00:06,  6.70s/it]\u001b[32m [repeated 7x across cluster]\u001b[0m\n"
     ]
    },
    {
     "name": "stdout",
     "output_type": "stream",
     "text": [
      "\u001b[2m\u001b[36m(DefaultActor pid=96431)\u001b[0m 0.06129899447445165\u001b[32m [repeated 8x across cluster]\u001b[0m\n"
     ]
    },
    {
     "name": "stderr",
     "output_type": "stream",
     "text": [
      "100%|██████████| 5/5 [00:33<00:00,  6.77s/it]\u001b[32m [repeated 7x across cluster]\u001b[0m\n",
      "  0%|          | 0/5 [00:00<?, ?it/s] \n",
      " 20%|██        | 1/5 [00:04<00:19,  4.98s/it]\n",
      " 20%|██        | 1/5 [00:05<00:20,  5.08s/it]\n"
     ]
    },
    {
     "name": "stdout",
     "output_type": "stream",
     "text": [
      "\u001b[2m\u001b[36m(DefaultActor pid=96431)\u001b[0m 0.0555506128479134\u001b[32m [repeated 4x across cluster]\u001b[0m\n"
     ]
    },
    {
     "name": "stderr",
     "output_type": "stream",
     "text": [
      "\u001b[2m\u001b[36m(DefaultActor pid=96431)\u001b[0m \r",
      " 60%|██████    | 3/5 [00:13<00:08,  4.32s/it]\u001b[32m [repeated 3x across cluster]\u001b[0m\n"
     ]
    },
    {
     "name": "stdout",
     "output_type": "stream",
     "text": [
      "\u001b[2m\u001b[36m(DefaultActor pid=96428)\u001b[0m 0.1523593096909198\u001b[32m [repeated 3x across cluster]\u001b[0m\n"
     ]
    },
    {
     "name": "stderr",
     "output_type": "stream",
     "text": [
      " 80%|████████  | 4/5 [00:17<00:04,  4.37s/it]\u001b[32m [repeated 3x across cluster]\u001b[0m\n",
      "100%|██████████| 5/5 [00:21<00:00,  4.30s/it]\n",
      "DEBUG flwr 2023-11-09 14:13:35,533 | server.py:236 | fit_round 11 received 10 results and 0 failures\n",
      "DEBUG:flwr:fit_round 11 received 10 results and 0 failures\n",
      "DEBUG flwr 2023-11-09 14:13:35,549 | server.py:173 | evaluate_round 11: strategy sampled 20 clients (out of 40)\n",
      "DEBUG:flwr:evaluate_round 11: strategy sampled 20 clients (out of 40)\n",
      "DEBUG flwr 2023-11-09 14:13:35,689 | server.py:187 | evaluate_round 11 received 20 results and 0 failures\n",
      "DEBUG:flwr:evaluate_round 11 received 20 results and 0 failures\n",
      "DEBUG flwr 2023-11-09 14:13:35,690 | server.py:222 | fit_round 12: strategy sampled 10 clients (out of 40)\n",
      "DEBUG:flwr:fit_round 12: strategy sampled 10 clients (out of 40)\n"
     ]
    },
    {
     "name": "stdout",
     "output_type": "stream",
     "text": [
      "Saving round 11 aggregated_parameters...\n"
     ]
    },
    {
     "name": "stderr",
     "output_type": "stream",
     "text": [
      "\u001b[2m\u001b[36m(DefaultActor pid=96426)\u001b[0m \r",
      "  0%|          | 0/5 [00:00<?, ?it/s]\n"
     ]
    },
    {
     "name": "stdout",
     "output_type": "stream",
     "text": [
      "\u001b[2m\u001b[36m(DefaultActor pid=96428)\u001b[0m 0.09379918255250562\u001b[32m [repeated 3x across cluster]\u001b[0m\n"
     ]
    },
    {
     "name": "stderr",
     "output_type": "stream",
     "text": [
      "\u001b[2m\u001b[36m(DefaultActor pid=96428)\u001b[0m \r",
      " 20%|██        | 1/5 [00:06<00:25,  6.32s/it]\n",
      "\u001b[2m\u001b[36m(DefaultActor pid=96428)\u001b[0m \r",
      "100%|██████████| 5/5 [00:22<00:00,  4.35s/it]\r",
      "100%|██████████| 5/5 [00:22<00:00,  4.43s/it]\n",
      "\u001b[2m\u001b[36m(DefaultActor pid=96431)\u001b[0m \r",
      "  0%|          | 0/5 [00:00<?, ?it/s]\u001b[32m [repeated 7x across cluster]\u001b[0m\n",
      "\u001b[2m\u001b[36m(DefaultActor pid=96429)\u001b[0m \r",
      " 20%|██        | 1/5 [00:06<00:26,  6.56s/it]\n"
     ]
    },
    {
     "name": "stdout",
     "output_type": "stream",
     "text": [
      "\u001b[2m\u001b[36m(DefaultActor pid=96428)\u001b[0m 0.08851615618914366\u001b[32m [repeated 8x across cluster]\u001b[0m\n"
     ]
    },
    {
     "name": "stderr",
     "output_type": "stream",
     "text": [
      "\u001b[2m\u001b[36m(DefaultActor pid=96428)\u001b[0m \r",
      " 40%|████      | 2/5 [00:12<00:18,  6.16s/it]\u001b[32m [repeated 7x across cluster]\u001b[0m\n"
     ]
    },
    {
     "name": "stdout",
     "output_type": "stream",
     "text": [
      "\u001b[2m\u001b[36m(DefaultActor pid=96428)\u001b[0m 0.08686681235717102\u001b[32m [repeated 8x across cluster]\u001b[0m\n"
     ]
    },
    {
     "name": "stderr",
     "output_type": "stream",
     "text": [
      "\u001b[2m\u001b[36m(DefaultActor pid=96428)\u001b[0m \r",
      " 60%|██████    | 3/5 [00:18<00:12,  6.17s/it]\u001b[32m [repeated 8x across cluster]\u001b[0m\n"
     ]
    },
    {
     "name": "stdout",
     "output_type": "stream",
     "text": [
      "\u001b[2m\u001b[36m(DefaultActor pid=96428)\u001b[0m 0.08701492989943786\u001b[32m [repeated 8x across cluster]\u001b[0m\n"
     ]
    },
    {
     "name": "stderr",
     "output_type": "stream",
     "text": [
      "\u001b[2m\u001b[36m(DefaultActor pid=96428)\u001b[0m \r",
      " 80%|████████  | 4/5 [00:25<00:06,  6.28s/it]\u001b[32m [repeated 8x across cluster]\u001b[0m\n"
     ]
    },
    {
     "name": "stdout",
     "output_type": "stream",
     "text": [
      "\u001b[2m\u001b[36m(DefaultActor pid=96428)\u001b[0m 0.08662543547424403\u001b[32m [repeated 8x across cluster]\u001b[0m\n"
     ]
    },
    {
     "name": "stderr",
     "output_type": "stream",
     "text": [
      "\u001b[2m\u001b[36m(DefaultActor pid=96428)\u001b[0m \r",
      "100%|██████████| 5/5 [00:31<00:00,  6.35s/it]\r",
      "100%|██████████| 5/5 [00:31<00:00,  6.29s/it]\n",
      "\u001b[2m\u001b[36m(DefaultActor pid=96428)\u001b[0m \r",
      "  0%|          | 0/5 [00:00<?, ?it/s]\n",
      "\u001b[2m\u001b[36m(DefaultActor pid=96425)\u001b[0m \r",
      " 80%|████████  | 4/5 [00:26<00:06,  6.64s/it]\u001b[32m [repeated 7x across cluster]\u001b[0m\n"
     ]
    },
    {
     "name": "stdout",
     "output_type": "stream",
     "text": [
      "\u001b[2m\u001b[36m(DefaultActor pid=96431)\u001b[0m 0.25590506331487134\u001b[32m [repeated 9x across cluster]\u001b[0m\n"
     ]
    },
    {
     "name": "stderr",
     "output_type": "stream",
     "text": [
      "\u001b[2m\u001b[36m(DefaultActor pid=96425)\u001b[0m \r",
      "100%|██████████| 5/5 [00:33<00:00,  6.77s/it]\r",
      "100%|██████████| 5/5 [00:33<00:00,  6.73s/it]\u001b[32m [repeated 7x across cluster]\u001b[0m\n",
      "\u001b[2m\u001b[36m(DefaultActor pid=96431)\u001b[0m \r",
      "  0%|          | 0/5 [00:00<?, ?it/s]\n",
      "\u001b[2m\u001b[36m(DefaultActor pid=96431)\u001b[0m \r",
      " 20%|██        | 1/5 [00:04<00:18,  4.51s/it]\u001b[32m [repeated 2x across cluster]\u001b[0m\n"
     ]
    },
    {
     "name": "stdout",
     "output_type": "stream",
     "text": [
      "\u001b[2m\u001b[36m(DefaultActor pid=96428)\u001b[0m 0.05382576072588563\u001b[32m [repeated 3x across cluster]\u001b[0m\n"
     ]
    },
    {
     "name": "stderr",
     "output_type": "stream",
     "text": [
      "\u001b[2m\u001b[36m(DefaultActor pid=96428)\u001b[0m \r",
      " 60%|██████    | 3/5 [00:13<00:08,  4.29s/it]\u001b[32m [repeated 3x across cluster]\u001b[0m\n"
     ]
    },
    {
     "name": "stdout",
     "output_type": "stream",
     "text": [
      "\u001b[2m\u001b[36m(DefaultActor pid=96428)\u001b[0m 0.05254028373482553\u001b[32m [repeated 4x across cluster]\u001b[0m\n"
     ]
    },
    {
     "name": "stderr",
     "output_type": "stream",
     "text": [
      "100%|██████████| 5/5 [00:21<00:00,  4.29s/it]\n",
      " 80%|████████  | 4/5 [00:17<00:04,  4.28s/it]\u001b[32m [repeated 3x across cluster]\u001b[0m\n",
      "DEBUG flwr 2023-11-09 14:14:29,395 | server.py:236 | fit_round 12 received 10 results and 0 failures\n",
      "DEBUG:flwr:fit_round 12 received 10 results and 0 failures\n",
      "DEBUG flwr 2023-11-09 14:14:29,412 | server.py:173 | evaluate_round 12: strategy sampled 20 clients (out of 40)\n",
      "DEBUG:flwr:evaluate_round 12: strategy sampled 20 clients (out of 40)\n",
      "DEBUG flwr 2023-11-09 14:14:29,553 | server.py:187 | evaluate_round 12 received 20 results and 0 failures\n",
      "DEBUG:flwr:evaluate_round 12 received 20 results and 0 failures\n",
      "DEBUG flwr 2023-11-09 14:14:29,554 | server.py:222 | fit_round 13: strategy sampled 10 clients (out of 40)\n",
      "DEBUG:flwr:fit_round 13: strategy sampled 10 clients (out of 40)\n",
      "  0%|          | 0/5 [00:00<?, ?it/s] \n"
     ]
    },
    {
     "name": "stdout",
     "output_type": "stream",
     "text": [
      "Saving round 12 aggregated_parameters...\n",
      "\u001b[2m\u001b[36m(DefaultActor pid=96431)\u001b[0m 0.08788132642141798\u001b[32m [repeated 2x across cluster]\u001b[0m\n"
     ]
    },
    {
     "name": "stderr",
     "output_type": "stream",
     "text": [
      "100%|██████████| 5/5 [00:21<00:00,  4.30s/it]\n",
      " 20%|██        | 1/5 [00:06<00:24,  6.09s/it]\n",
      "  0%|          | 0/5 [00:00<?, ?it/s]\u001b[32m [repeated 7x across cluster]\u001b[0m\n",
      " 20%|██        | 1/5 [00:06<00:25,  6.41s/it]\n"
     ]
    },
    {
     "name": "stdout",
     "output_type": "stream",
     "text": [
      "\u001b[2m\u001b[36m(DefaultActor pid=96431)\u001b[0m 0.08170115346597\u001b[32m [repeated 8x across cluster]\u001b[0m\n"
     ]
    },
    {
     "name": "stderr",
     "output_type": "stream",
     "text": [
      "\u001b[2m\u001b[36m(DefaultActor pid=96431)\u001b[0m \r",
      " 40%|████      | 2/5 [00:12<00:18,  6.08s/it]\u001b[32m [repeated 7x across cluster]\u001b[0m\n"
     ]
    },
    {
     "name": "stdout",
     "output_type": "stream",
     "text": [
      "\u001b[2m\u001b[36m(DefaultActor pid=96431)\u001b[0m 0.0811773356558247\u001b[32m [repeated 8x across cluster]\u001b[0m\n"
     ]
    },
    {
     "name": "stderr",
     "output_type": "stream",
     "text": [
      "\u001b[2m\u001b[36m(DefaultActor pid=96431)\u001b[0m \r",
      " 60%|██████    | 3/5 [00:18<00:12,  6.15s/it]\u001b[32m [repeated 8x across cluster]\u001b[0m\n"
     ]
    },
    {
     "name": "stdout",
     "output_type": "stream",
     "text": [
      "\u001b[2m\u001b[36m(DefaultActor pid=96431)\u001b[0m 0.0797344936396588\u001b[32m [repeated 8x across cluster]\u001b[0m\n"
     ]
    },
    {
     "name": "stderr",
     "output_type": "stream",
     "text": [
      "\u001b[2m\u001b[36m(DefaultActor pid=96431)\u001b[0m \r",
      " 80%|████████  | 4/5 [00:24<00:06,  6.14s/it]\u001b[32m [repeated 8x across cluster]\u001b[0m\n"
     ]
    },
    {
     "name": "stdout",
     "output_type": "stream",
     "text": [
      "\u001b[2m\u001b[36m(DefaultActor pid=96431)\u001b[0m 0.08040264367379925\u001b[32m [repeated 8x across cluster]\u001b[0m\n"
     ]
    },
    {
     "name": "stderr",
     "output_type": "stream",
     "text": [
      "\u001b[2m\u001b[36m(DefaultActor pid=96431)\u001b[0m \r",
      "100%|██████████| 5/5 [00:30<00:00,  6.18s/it]\r",
      "100%|██████████| 5/5 [00:30<00:00,  6.15s/it]\n",
      "\u001b[2m\u001b[36m(DefaultActor pid=96431)\u001b[0m \r",
      "  0%|          | 0/5 [00:00<?, ?it/s]\n",
      "\u001b[2m\u001b[36m(DefaultActor pid=96430)\u001b[0m \r",
      " 80%|████████  | 4/5 [00:27<00:06,  6.85s/it]\u001b[32m [repeated 7x across cluster]\u001b[0m\n"
     ]
    },
    {
     "name": "stdout",
     "output_type": "stream",
     "text": [
      "\u001b[2m\u001b[36m(DefaultActor pid=96431)\u001b[0m 0.09344938126477328\u001b[32m [repeated 8x across cluster]\u001b[0m\n"
     ]
    },
    {
     "name": "stderr",
     "output_type": "stream",
     "text": [
      "100%|██████████| 5/5 [00:33<00:00,  6.77s/it]\u001b[32m [repeated 7x across cluster]\u001b[0m\n",
      "  0%|          | 0/5 [00:00<?, ?it/s] \n",
      " 20%|██        | 1/5 [00:05<00:20,  5.10s/it]\n",
      " 20%|██        | 1/5 [00:04<00:18,  4.73s/it]\n"
     ]
    },
    {
     "name": "stdout",
     "output_type": "stream",
     "text": [
      "\u001b[2m\u001b[36m(DefaultActor pid=96431)\u001b[0m 0.09031437227333133\u001b[32m [repeated 4x across cluster]\u001b[0m\n"
     ]
    },
    {
     "name": "stderr",
     "output_type": "stream",
     "text": [
      "\u001b[2m\u001b[36m(DefaultActor pid=96431)\u001b[0m \r",
      " 60%|██████    | 3/5 [00:13<00:08,  4.35s/it]\u001b[32m [repeated 3x across cluster]\u001b[0m\n"
     ]
    },
    {
     "name": "stdout",
     "output_type": "stream",
     "text": [
      "\u001b[2m\u001b[36m(DefaultActor pid=96431)\u001b[0m 0.09138473953035745\u001b[32m [repeated 4x across cluster]\u001b[0m\n"
     ]
    },
    {
     "name": "stderr",
     "output_type": "stream",
     "text": [
      "100%|██████████| 5/5 [00:21<00:00,  4.35s/it]\n",
      " 80%|████████  | 4/5 [00:17<00:04,  4.28s/it]\u001b[32m [repeated 3x across cluster]\u001b[0m\n",
      "DEBUG flwr 2023-11-09 14:15:22,880 | server.py:236 | fit_round 13 received 10 results and 0 failures\n",
      "DEBUG:flwr:fit_round 13 received 10 results and 0 failures\n",
      "DEBUG flwr 2023-11-09 14:15:22,896 | server.py:173 | evaluate_round 13: strategy sampled 20 clients (out of 40)\n",
      "DEBUG:flwr:evaluate_round 13: strategy sampled 20 clients (out of 40)\n",
      "DEBUG flwr 2023-11-09 14:15:23,035 | server.py:187 | evaluate_round 13 received 20 results and 0 failures\n",
      "DEBUG:flwr:evaluate_round 13 received 20 results and 0 failures\n",
      "DEBUG flwr 2023-11-09 14:15:23,036 | server.py:222 | fit_round 14: strategy sampled 10 clients (out of 40)\n",
      "DEBUG:flwr:fit_round 14: strategy sampled 10 clients (out of 40)\n",
      "  0%|          | 0/5 [00:00<?, ?it/s] \n"
     ]
    },
    {
     "name": "stdout",
     "output_type": "stream",
     "text": [
      "Saving round 13 aggregated_parameters...\n",
      "\u001b[2m\u001b[36m(DefaultActor pid=96428)\u001b[0m 0.05187640457668088\u001b[32m [repeated 2x across cluster]\u001b[0m\n"
     ]
    },
    {
     "name": "stderr",
     "output_type": "stream",
     "text": [
      "\u001b[2m\u001b[36m(DefaultActor pid=96428)\u001b[0m \r",
      "100%|██████████| 5/5 [00:21<00:00,  4.25s/it]\r",
      "100%|██████████| 5/5 [00:21<00:00,  4.31s/it]\n",
      "\u001b[2m\u001b[36m(DefaultActor pid=96426)\u001b[0m \r",
      " 20%|██        | 1/5 [00:06<00:25,  6.31s/it]\n",
      "\u001b[2m\u001b[36m(DefaultActor pid=96431)\u001b[0m \r",
      "  0%|          | 0/5 [00:00<?, ?it/s]\u001b[32m [repeated 7x across cluster]\u001b[0m\n",
      "\u001b[2m\u001b[36m(DefaultActor pid=96428)\u001b[0m \r",
      " 20%|██        | 1/5 [00:06<00:24,  6.23s/it]\n"
     ]
    },
    {
     "name": "stdout",
     "output_type": "stream",
     "text": [
      "\u001b[2m\u001b[36m(DefaultActor pid=96428)\u001b[0m 0.046629228883168915\u001b[32m [repeated 8x across cluster]\u001b[0m\n"
     ]
    },
    {
     "name": "stderr",
     "output_type": "stream",
     "text": [
      "\u001b[2m\u001b[36m(DefaultActor pid=96428)\u001b[0m \r",
      " 40%|████      | 2/5 [00:12<00:18,  6.24s/it]\u001b[32m [repeated 7x across cluster]\u001b[0m\n"
     ]
    },
    {
     "name": "stdout",
     "output_type": "stream",
     "text": [
      "\u001b[2m\u001b[36m(DefaultActor pid=96431)\u001b[0m 0.0662985508414832\u001b[32m [repeated 8x across cluster]\u001b[0m\n"
     ]
    },
    {
     "name": "stderr",
     "output_type": "stream",
     "text": [
      "\u001b[2m\u001b[36m(DefaultActor pid=96431)\u001b[0m \r",
      " 60%|██████    | 3/5 [00:18<00:12,  6.13s/it]\u001b[32m [repeated 8x across cluster]\u001b[0m\n"
     ]
    },
    {
     "name": "stdout",
     "output_type": "stream",
     "text": [
      "\u001b[2m\u001b[36m(DefaultActor pid=96431)\u001b[0m 0.06477471728893844\u001b[32m [repeated 8x across cluster]\u001b[0m\n"
     ]
    },
    {
     "name": "stderr",
     "output_type": "stream",
     "text": [
      "\u001b[2m\u001b[36m(DefaultActor pid=96431)\u001b[0m \r",
      " 80%|████████  | 4/5 [00:24<00:06,  6.04s/it]\u001b[32m [repeated 8x across cluster]\u001b[0m\n"
     ]
    },
    {
     "name": "stdout",
     "output_type": "stream",
     "text": [
      "\u001b[2m\u001b[36m(DefaultActor pid=96431)\u001b[0m 0.0644095431251282\u001b[32m [repeated 8x across cluster]\u001b[0m\n"
     ]
    },
    {
     "name": "stderr",
     "output_type": "stream",
     "text": [
      "\u001b[2m\u001b[36m(DefaultActor pid=96431)\u001b[0m \r",
      "100%|██████████| 5/5 [00:30<00:00,  6.08s/it]\r",
      "100%|██████████| 5/5 [00:30<00:00,  6.11s/it]\n",
      "\u001b[2m\u001b[36m(DefaultActor pid=96431)\u001b[0m \r",
      "  0%|          | 0/5 [00:00<?, ?it/s]\n",
      "\u001b[2m\u001b[36m(DefaultActor pid=96429)\u001b[0m \r",
      " 80%|████████  | 4/5 [00:27<00:06,  6.79s/it]\u001b[32m [repeated 7x across cluster]\u001b[0m\n"
     ]
    },
    {
     "name": "stdout",
     "output_type": "stream",
     "text": [
      "\u001b[2m\u001b[36m(DefaultActor pid=96431)\u001b[0m 0.0626647537574172\u001b[32m [repeated 8x across cluster]\u001b[0m\n"
     ]
    },
    {
     "name": "stderr",
     "output_type": "stream",
     "text": [
      "100%|██████████| 5/5 [00:33<00:00,  6.73s/it]\u001b[32m [repeated 7x across cluster]\u001b[0m\n",
      "  0%|          | 0/5 [00:00<?, ?it/s] \n",
      " 20%|██        | 1/5 [00:05<00:20,  5.06s/it]\n",
      " 20%|██        | 1/5 [00:05<00:20,  5.15s/it]\n"
     ]
    },
    {
     "name": "stdout",
     "output_type": "stream",
     "text": [
      "\u001b[2m\u001b[36m(DefaultActor pid=96431)\u001b[0m 0.061059602070599794\u001b[32m [repeated 4x across cluster]\u001b[0m\n"
     ]
    },
    {
     "name": "stderr",
     "output_type": "stream",
     "text": [
      "\u001b[2m\u001b[36m(DefaultActor pid=96431)\u001b[0m \r",
      " 60%|██████    | 3/5 [00:13<00:08,  4.39s/it]\u001b[32m [repeated 3x across cluster]\u001b[0m\n"
     ]
    },
    {
     "name": "stdout",
     "output_type": "stream",
     "text": [
      "\u001b[2m\u001b[36m(DefaultActor pid=96431)\u001b[0m 0.06075819717212157\u001b[32m [repeated 4x across cluster]\u001b[0m\n"
     ]
    },
    {
     "name": "stderr",
     "output_type": "stream",
     "text": [
      "100%|██████████| 5/5 [00:21<00:00,  4.36s/it]\n",
      " 80%|████████  | 4/5 [00:18<00:04,  4.46s/it]\u001b[32m [repeated 3x across cluster]\u001b[0m\n",
      "DEBUG flwr 2023-11-09 14:16:16,490 | server.py:236 | fit_round 14 received 10 results and 0 failures\n",
      "DEBUG:flwr:fit_round 14 received 10 results and 0 failures\n",
      "DEBUG flwr 2023-11-09 14:16:16,506 | server.py:173 | evaluate_round 14: strategy sampled 20 clients (out of 40)\n",
      "DEBUG:flwr:evaluate_round 14: strategy sampled 20 clients (out of 40)\n",
      "DEBUG flwr 2023-11-09 14:16:16,646 | server.py:187 | evaluate_round 14 received 20 results and 0 failures\n",
      "DEBUG:flwr:evaluate_round 14 received 20 results and 0 failures\n",
      "DEBUG flwr 2023-11-09 14:16:16,647 | server.py:222 | fit_round 15: strategy sampled 10 clients (out of 40)\n",
      "DEBUG:flwr:fit_round 15: strategy sampled 10 clients (out of 40)\n"
     ]
    },
    {
     "name": "stdout",
     "output_type": "stream",
     "text": [
      "Saving round 14 aggregated_parameters...\n"
     ]
    },
    {
     "name": "stderr",
     "output_type": "stream",
     "text": [
      "\u001b[2m\u001b[36m(DefaultActor pid=96426)\u001b[0m \r",
      "  0%|          | 0/5 [00:00<?, ?it/s]\n"
     ]
    },
    {
     "name": "stdout",
     "output_type": "stream",
     "text": [
      "\u001b[2m\u001b[36m(DefaultActor pid=96431)\u001b[0m 0.2989510331641544\u001b[32m [repeated 2x across cluster]\u001b[0m\n"
     ]
    },
    {
     "name": "stderr",
     "output_type": "stream",
     "text": [
      "\u001b[2m\u001b[36m(DefaultActor pid=96428)\u001b[0m \r",
      "100%|██████████| 5/5 [00:22<00:00,  4.43s/it]\r",
      "100%|██████████| 5/5 [00:22<00:00,  4.52s/it]\n",
      "\u001b[2m\u001b[36m(DefaultActor pid=96431)\u001b[0m \r",
      " 20%|██        | 1/5 [00:06<00:25,  6.28s/it]\n",
      "\u001b[2m\u001b[36m(DefaultActor pid=96431)\u001b[0m \r",
      "  0%|          | 0/5 [00:00<?, ?it/s]\u001b[32m [repeated 7x across cluster]\u001b[0m\n",
      "\u001b[2m\u001b[36m(DefaultActor pid=96428)\u001b[0m \r",
      " 20%|██        | 1/5 [00:06<00:25,  6.37s/it]\n"
     ]
    },
    {
     "name": "stdout",
     "output_type": "stream",
     "text": [
      "\u001b[2m\u001b[36m(DefaultActor pid=96431)\u001b[0m 0.2915591225028038\u001b[32m [repeated 8x across cluster]\u001b[0m\n"
     ]
    },
    {
     "name": "stderr",
     "output_type": "stream",
     "text": [
      "\u001b[2m\u001b[36m(DefaultActor pid=96431)\u001b[0m \r",
      " 40%|████      | 2/5 [00:12<00:18,  6.25s/it]\u001b[32m [repeated 7x across cluster]\u001b[0m\n"
     ]
    },
    {
     "name": "stdout",
     "output_type": "stream",
     "text": [
      "\u001b[2m\u001b[36m(DefaultActor pid=96431)\u001b[0m 0.2906195081093095\u001b[32m [repeated 8x across cluster]\u001b[0m\n"
     ]
    },
    {
     "name": "stderr",
     "output_type": "stream",
     "text": [
      "\u001b[2m\u001b[36m(DefaultActor pid=96431)\u001b[0m \r",
      " 60%|██████    | 3/5 [00:18<00:12,  6.26s/it]\u001b[32m [repeated 8x across cluster]\u001b[0m\n"
     ]
    },
    {
     "name": "stdout",
     "output_type": "stream",
     "text": [
      "\u001b[2m\u001b[36m(DefaultActor pid=96431)\u001b[0m 0.29237655211578717\u001b[32m [repeated 8x across cluster]\u001b[0m\n"
     ]
    },
    {
     "name": "stderr",
     "output_type": "stream",
     "text": [
      "\u001b[2m\u001b[36m(DefaultActor pid=96431)\u001b[0m \r",
      " 80%|████████  | 4/5 [00:25<00:06,  6.33s/it]\u001b[32m [repeated 8x across cluster]\u001b[0m\n"
     ]
    },
    {
     "name": "stdout",
     "output_type": "stream",
     "text": [
      "\u001b[2m\u001b[36m(DefaultActor pid=96428)\u001b[0m 0.15700266848910938\u001b[32m [repeated 8x across cluster]\u001b[0m\n"
     ]
    },
    {
     "name": "stderr",
     "output_type": "stream",
     "text": [
      "\u001b[2m\u001b[36m(DefaultActor pid=96428)\u001b[0m \r",
      "100%|██████████| 5/5 [00:31<00:00,  6.26s/it]\r",
      "100%|██████████| 5/5 [00:31<00:00,  6.30s/it]\n",
      "\u001b[2m\u001b[36m(DefaultActor pid=96426)\u001b[0m \r",
      " 80%|████████  | 4/5 [00:27<00:06,  6.86s/it]\u001b[32m [repeated 7x across cluster]\u001b[0m\n",
      "\u001b[2m\u001b[36m(DefaultActor pid=96431)\u001b[0m \r",
      "  0%|          | 0/5 [00:00<?, ?it/s]\n"
     ]
    },
    {
     "name": "stdout",
     "output_type": "stream",
     "text": [
      "\u001b[2m\u001b[36m(DefaultActor pid=96428)\u001b[0m 0.2724414396692406\u001b[32m [repeated 9x across cluster]\u001b[0m\n"
     ]
    },
    {
     "name": "stderr",
     "output_type": "stream",
     "text": [
      "\u001b[2m\u001b[36m(DefaultActor pid=96426)\u001b[0m \r",
      "100%|██████████| 5/5 [00:34<00:00,  6.79s/it]\r",
      "100%|██████████| 5/5 [00:34<00:00,  6.83s/it]\u001b[32m [repeated 7x across cluster]\u001b[0m\n",
      "\u001b[2m\u001b[36m(DefaultActor pid=96428)\u001b[0m \r",
      " 20%|██        | 1/5 [00:05<00:20,  5.13s/it]\u001b[32m [repeated 2x across cluster]\u001b[0m\n",
      "\u001b[2m\u001b[36m(DefaultActor pid=96428)\u001b[0m \r",
      "  0%|          | 0/5 [00:00<?, ?it/s]\n"
     ]
    },
    {
     "name": "stdout",
     "output_type": "stream",
     "text": [
      "\u001b[2m\u001b[36m(DefaultActor pid=96431)\u001b[0m 0.09000267613340508\u001b[32m [repeated 3x across cluster]\u001b[0m\n"
     ]
    },
    {
     "name": "stderr",
     "output_type": "stream",
     "text": [
      "\u001b[2m\u001b[36m(DefaultActor pid=96431)\u001b[0m \r",
      " 60%|██████    | 3/5 [00:13<00:08,  4.37s/it]\u001b[32m [repeated 3x across cluster]\u001b[0m\n"
     ]
    },
    {
     "name": "stdout",
     "output_type": "stream",
     "text": [
      "\u001b[2m\u001b[36m(DefaultActor pid=96428)\u001b[0m 0.2675466588274999\u001b[32m [repeated 3x across cluster]\u001b[0m\n"
     ]
    },
    {
     "name": "stderr",
     "output_type": "stream",
     "text": [
      " 80%|████████  | 4/5 [00:18<00:04,  4.48s/it]\u001b[32m [repeated 3x across cluster]\u001b[0m\n",
      "100%|██████████| 5/5 [00:21<00:00,  4.35s/it]\n",
      "DEBUG flwr 2023-11-09 14:17:10,909 | server.py:236 | fit_round 15 received 10 results and 0 failures\n",
      "DEBUG:flwr:fit_round 15 received 10 results and 0 failures\n",
      "DEBUG flwr 2023-11-09 14:17:10,925 | server.py:173 | evaluate_round 15: strategy sampled 20 clients (out of 40)\n",
      "DEBUG:flwr:evaluate_round 15: strategy sampled 20 clients (out of 40)\n",
      "DEBUG flwr 2023-11-09 14:17:11,068 | server.py:187 | evaluate_round 15 received 20 results and 0 failures\n",
      "DEBUG:flwr:evaluate_round 15 received 20 results and 0 failures\n",
      "DEBUG flwr 2023-11-09 14:17:11,069 | server.py:222 | fit_round 16: strategy sampled 10 clients (out of 40)\n",
      "DEBUG:flwr:fit_round 16: strategy sampled 10 clients (out of 40)\n"
     ]
    },
    {
     "name": "stdout",
     "output_type": "stream",
     "text": [
      "Saving round 15 aggregated_parameters...\n"
     ]
    },
    {
     "name": "stderr",
     "output_type": "stream",
     "text": [
      "\u001b[2m\u001b[36m(DefaultActor pid=96426)\u001b[0m \r",
      "  0%|          | 0/5 [00:00<?, ?it/s]\n"
     ]
    },
    {
     "name": "stdout",
     "output_type": "stream",
     "text": [
      "\u001b[2m\u001b[36m(DefaultActor pid=96431)\u001b[0m 0.12293780307200822\u001b[32m [repeated 3x across cluster]\u001b[0m\n"
     ]
    },
    {
     "name": "stderr",
     "output_type": "stream",
     "text": [
      " 20%|██        | 1/5 [00:05<00:23,  5.96s/it]\n",
      "100%|██████████| 5/5 [00:22<00:00,  4.53s/it]\n",
      "  0%|          | 0/5 [00:00<?, ?it/s]\u001b[32m [repeated 7x across cluster]\u001b[0m\n",
      " 20%|██        | 1/5 [00:06<00:24,  6.18s/it]\n"
     ]
    },
    {
     "name": "stdout",
     "output_type": "stream",
     "text": [
      "\u001b[2m\u001b[36m(DefaultActor pid=96431)\u001b[0m 0.11669742417606441\u001b[32m [repeated 8x across cluster]\u001b[0m\n"
     ]
    },
    {
     "name": "stderr",
     "output_type": "stream",
     "text": [
      "\u001b[2m\u001b[36m(DefaultActor pid=96431)\u001b[0m \r",
      " 40%|████      | 2/5 [00:12<00:18,  6.23s/it]\u001b[32m [repeated 7x across cluster]\u001b[0m\n"
     ]
    },
    {
     "name": "stdout",
     "output_type": "stream",
     "text": [
      "\u001b[2m\u001b[36m(DefaultActor pid=96431)\u001b[0m 0.11493754217570479\u001b[32m [repeated 8x across cluster]\u001b[0m\n"
     ]
    },
    {
     "name": "stderr",
     "output_type": "stream",
     "text": [
      "\u001b[2m\u001b[36m(DefaultActor pid=96431)\u001b[0m \r",
      " 60%|██████    | 3/5 [00:18<00:12,  6.25s/it]\u001b[32m [repeated 8x across cluster]\u001b[0m\n"
     ]
    },
    {
     "name": "stdout",
     "output_type": "stream",
     "text": [
      "\u001b[2m\u001b[36m(DefaultActor pid=96431)\u001b[0m 0.11609284190291708\u001b[32m [repeated 8x across cluster]\u001b[0m\n"
     ]
    },
    {
     "name": "stderr",
     "output_type": "stream",
     "text": [
      "\u001b[2m\u001b[36m(DefaultActor pid=96431)\u001b[0m \r",
      " 80%|████████  | 4/5 [00:25<00:06,  6.41s/it]\u001b[32m [repeated 8x across cluster]\u001b[0m\n"
     ]
    },
    {
     "name": "stdout",
     "output_type": "stream",
     "text": [
      "\u001b[2m\u001b[36m(DefaultActor pid=96431)\u001b[0m 0.12060684693807905\u001b[32m [repeated 8x across cluster]\u001b[0m\n"
     ]
    },
    {
     "name": "stderr",
     "output_type": "stream",
     "text": [
      "\u001b[2m\u001b[36m(DefaultActor pid=96431)\u001b[0m \r",
      "100%|██████████| 5/5 [00:31<00:00,  6.30s/it]\r",
      "100%|██████████| 5/5 [00:31<00:00,  6.28s/it]\n",
      "\u001b[2m\u001b[36m(DefaultActor pid=96431)\u001b[0m \r",
      "  0%|          | 0/5 [00:00<?, ?it/s]\n",
      "\u001b[2m\u001b[36m(DefaultActor pid=96426)\u001b[0m \r",
      " 80%|████████  | 4/5 [00:27<00:06,  6.99s/it]\u001b[32m [repeated 7x across cluster]\u001b[0m\n"
     ]
    },
    {
     "name": "stdout",
     "output_type": "stream",
     "text": [
      "\u001b[2m\u001b[36m(DefaultActor pid=96431)\u001b[0m 0.11577987450767648\u001b[32m [repeated 8x across cluster]\u001b[0m\n"
     ]
    },
    {
     "name": "stderr",
     "output_type": "stream",
     "text": [
      "100%|██████████| 5/5 [00:34<00:00,  6.93s/it]\u001b[32m [repeated 7x across cluster]\u001b[0m\n",
      "  0%|          | 0/5 [00:00<?, ?it/s] \n",
      " 20%|██        | 1/5 [00:05<00:20,  5.22s/it]\n",
      " 20%|██        | 1/5 [00:05<00:20,  5.15s/it]\n"
     ]
    },
    {
     "name": "stdout",
     "output_type": "stream",
     "text": [
      "\u001b[2m\u001b[36m(DefaultActor pid=96431)\u001b[0m 0.1131459256126122\u001b[32m [repeated 4x across cluster]\u001b[0m\n"
     ]
    },
    {
     "name": "stderr",
     "output_type": "stream",
     "text": [
      "\u001b[2m\u001b[36m(DefaultActor pid=96431)\u001b[0m \r",
      " 60%|██████    | 3/5 [00:13<00:09,  4.52s/it]\u001b[32m [repeated 3x across cluster]\u001b[0m\n"
     ]
    },
    {
     "name": "stdout",
     "output_type": "stream",
     "text": [
      "\u001b[2m\u001b[36m(DefaultActor pid=96431)\u001b[0m 0.11130072870715098\u001b[32m [repeated 4x across cluster]\u001b[0m\n"
     ]
    },
    {
     "name": "stderr",
     "output_type": "stream",
     "text": [
      "100%|██████████| 5/5 [00:22<00:00,  4.50s/it]\n",
      " 80%|████████  | 4/5 [00:18<00:04,  4.46s/it]\u001b[32m [repeated 3x across cluster]\u001b[0m\n",
      "DEBUG flwr 2023-11-09 14:18:05,510 | server.py:236 | fit_round 16 received 10 results and 0 failures\n",
      "DEBUG:flwr:fit_round 16 received 10 results and 0 failures\n",
      "DEBUG flwr 2023-11-09 14:18:05,525 | server.py:173 | evaluate_round 16: strategy sampled 20 clients (out of 40)\n",
      "DEBUG:flwr:evaluate_round 16: strategy sampled 20 clients (out of 40)\n",
      "DEBUG flwr 2023-11-09 14:18:05,665 | server.py:187 | evaluate_round 16 received 20 results and 0 failures\n",
      "DEBUG:flwr:evaluate_round 16 received 20 results and 0 failures\n",
      "DEBUG flwr 2023-11-09 14:18:05,666 | server.py:222 | fit_round 17: strategy sampled 10 clients (out of 40)\n",
      "DEBUG:flwr:fit_round 17: strategy sampled 10 clients (out of 40)\n",
      "  0%|          | 0/5 [00:00<?, ?it/s] \n"
     ]
    },
    {
     "name": "stdout",
     "output_type": "stream",
     "text": [
      "Saving round 16 aggregated_parameters...\n",
      "\u001b[2m\u001b[36m(DefaultActor pid=96428)\u001b[0m 0.06784114427864552\u001b[32m [repeated 2x across cluster]\u001b[0m\n"
     ]
    },
    {
     "name": "stderr",
     "output_type": "stream",
     "text": [
      "100%|██████████| 5/5 [00:22<00:00,  4.51s/it]\n",
      " 20%|██        | 1/5 [00:05<00:23,  5.96s/it]\n",
      "  0%|          | 0/5 [00:00<?, ?it/s]\u001b[32m [repeated 7x across cluster]\u001b[0m\n",
      " 20%|██        | 1/5 [00:06<00:25,  6.34s/it]\n"
     ]
    },
    {
     "name": "stdout",
     "output_type": "stream",
     "text": [
      "\u001b[2m\u001b[36m(DefaultActor pid=96428)\u001b[0m 0.06394533372738144\u001b[32m [repeated 8x across cluster]\u001b[0m\n"
     ]
    },
    {
     "name": "stderr",
     "output_type": "stream",
     "text": [
      "\u001b[2m\u001b[36m(DefaultActor pid=96428)\u001b[0m \r",
      " 40%|████      | 2/5 [00:12<00:18,  6.05s/it]\u001b[32m [repeated 7x across cluster]\u001b[0m\n"
     ]
    },
    {
     "name": "stdout",
     "output_type": "stream",
     "text": [
      "\u001b[2m\u001b[36m(DefaultActor pid=96428)\u001b[0m 0.06463012835857543\u001b[32m [repeated 8x across cluster]\u001b[0m\n"
     ]
    },
    {
     "name": "stderr",
     "output_type": "stream",
     "text": [
      "\u001b[2m\u001b[36m(DefaultActor pid=96428)\u001b[0m \r",
      " 60%|██████    | 3/5 [00:18<00:12,  6.23s/it]\u001b[32m [repeated 8x across cluster]\u001b[0m\n"
     ]
    },
    {
     "name": "stdout",
     "output_type": "stream",
     "text": [
      "\u001b[2m\u001b[36m(DefaultActor pid=96428)\u001b[0m 0.06398146582598035\u001b[32m [repeated 8x across cluster]\u001b[0m\n"
     ]
    },
    {
     "name": "stderr",
     "output_type": "stream",
     "text": [
      "\u001b[2m\u001b[36m(DefaultActor pid=96428)\u001b[0m \r",
      " 80%|████████  | 4/5 [00:24<00:06,  6.23s/it]\u001b[32m [repeated 8x across cluster]\u001b[0m\n"
     ]
    },
    {
     "name": "stdout",
     "output_type": "stream",
     "text": [
      "\u001b[2m\u001b[36m(DefaultActor pid=96428)\u001b[0m 0.06357054344632408\u001b[32m [repeated 8x across cluster]\u001b[0m\n"
     ]
    },
    {
     "name": "stderr",
     "output_type": "stream",
     "text": [
      "\u001b[2m\u001b[36m(DefaultActor pid=96428)\u001b[0m \r",
      "100%|██████████| 5/5 [00:30<00:00,  6.21s/it]\r",
      "100%|██████████| 5/5 [00:30<00:00,  6.19s/it]\n",
      "\u001b[2m\u001b[36m(DefaultActor pid=96428)\u001b[0m \r",
      "  0%|          | 0/5 [00:00<?, ?it/s]\n",
      "\u001b[2m\u001b[36m(DefaultActor pid=96426)\u001b[0m \r",
      " 80%|████████  | 4/5 [00:27<00:06,  6.86s/it]\u001b[32m [repeated 7x across cluster]\u001b[0m\n"
     ]
    },
    {
     "name": "stdout",
     "output_type": "stream",
     "text": [
      "\u001b[2m\u001b[36m(DefaultActor pid=96428)\u001b[0m 0.009835935996803031\u001b[32m [repeated 8x across cluster]\u001b[0m\n"
     ]
    },
    {
     "name": "stderr",
     "output_type": "stream",
     "text": [
      "100%|██████████| 5/5 [00:34<00:00,  6.83s/it]\u001b[32m [repeated 7x across cluster]\u001b[0m\n",
      "  0%|          | 0/5 [00:00<?, ?it/s] \n",
      " 20%|██        | 1/5 [00:05<00:21,  5.25s/it]\n",
      " 20%|██        | 1/5 [00:05<00:20,  5.21s/it]\n"
     ]
    },
    {
     "name": "stdout",
     "output_type": "stream",
     "text": [
      "\u001b[2m\u001b[36m(DefaultActor pid=96431)\u001b[0m 0.3132288564335216\u001b[32m [repeated 3x across cluster]\u001b[0m\n"
     ]
    },
    {
     "name": "stderr",
     "output_type": "stream",
     "text": [
      "\u001b[2m\u001b[36m(DefaultActor pid=96428)\u001b[0m \r",
      " 60%|██████    | 3/5 [00:13<00:08,  4.39s/it]\u001b[32m [repeated 3x across cluster]\u001b[0m\n"
     ]
    },
    {
     "name": "stdout",
     "output_type": "stream",
     "text": [
      "\u001b[2m\u001b[36m(DefaultActor pid=96428)\u001b[0m 0.00640998047310859\u001b[32m [repeated 3x across cluster]\u001b[0m\n"
     ]
    },
    {
     "name": "stderr",
     "output_type": "stream",
     "text": [
      " 80%|████████  | 4/5 [00:18<00:04,  4.48s/it]\u001b[32m [repeated 3x across cluster]\u001b[0m\n",
      "100%|██████████| 5/5 [00:21<00:00,  4.37s/it]\n",
      "DEBUG flwr 2023-11-09 14:19:00,223 | server.py:236 | fit_round 17 received 10 results and 0 failures\n",
      "DEBUG:flwr:fit_round 17 received 10 results and 0 failures\n",
      "DEBUG flwr 2023-11-09 14:19:00,238 | server.py:173 | evaluate_round 17: strategy sampled 20 clients (out of 40)\n",
      "DEBUG:flwr:evaluate_round 17: strategy sampled 20 clients (out of 40)\n",
      "DEBUG flwr 2023-11-09 14:19:00,379 | server.py:187 | evaluate_round 17 received 20 results and 0 failures\n",
      "DEBUG:flwr:evaluate_round 17 received 20 results and 0 failures\n",
      "DEBUG flwr 2023-11-09 14:19:00,380 | server.py:222 | fit_round 18: strategy sampled 10 clients (out of 40)\n",
      "DEBUG:flwr:fit_round 18: strategy sampled 10 clients (out of 40)\n"
     ]
    },
    {
     "name": "stdout",
     "output_type": "stream",
     "text": [
      "Saving round 17 aggregated_parameters...\n",
      "\u001b[2m\u001b[36m(DefaultActor pid=96431)\u001b[0m 0.3107386146756736\u001b[32m [repeated 3x across cluster]\u001b[0m\n"
     ]
    },
    {
     "name": "stderr",
     "output_type": "stream",
     "text": [
      "\u001b[2m\u001b[36m(DefaultActor pid=96427)\u001b[0m \r",
      "  0%|          | 0/5 [00:00<?, ?it/s]\n"
     ]
    },
    {
     "name": "stdout",
     "output_type": "stream",
     "text": [
      "\u001b[2m\u001b[36m(DefaultActor pid=96431)\u001b[0m 0.06330525485629385\n"
     ]
    },
    {
     "name": "stderr",
     "output_type": "stream",
     "text": [
      "\u001b[2m\u001b[36m(DefaultActor pid=96431)\u001b[0m \r",
      " 20%|██        | 1/5 [00:06<00:24,  6.07s/it]\n",
      "\u001b[2m\u001b[36m(DefaultActor pid=96431)\u001b[0m \r",
      "100%|██████████| 5/5 [00:22<00:00,  4.44s/it]\r",
      "100%|██████████| 5/5 [00:22<00:00,  4.53s/it]\n",
      "\u001b[2m\u001b[36m(DefaultActor pid=96428)\u001b[0m \r",
      "  0%|          | 0/5 [00:00<?, ?it/s]\u001b[32m [repeated 7x across cluster]\u001b[0m\n"
     ]
    },
    {
     "name": "stdout",
     "output_type": "stream",
     "text": [
      "\u001b[2m\u001b[36m(DefaultActor pid=96429)\u001b[0m 0.08481014731594107\n"
     ]
    },
    {
     "name": "stderr",
     "output_type": "stream",
     "text": [
      "\u001b[2m\u001b[36m(DefaultActor pid=96429)\u001b[0m \r",
      " 20%|██        | 1/5 [00:06<00:26,  6.71s/it]\n"
     ]
    },
    {
     "name": "stdout",
     "output_type": "stream",
     "text": [
      "\u001b[2m\u001b[36m(DefaultActor pid=96431)\u001b[0m 0.06167190454222939\u001b[32m [repeated 7x across cluster]\u001b[0m\n"
     ]
    },
    {
     "name": "stderr",
     "output_type": "stream",
     "text": [
      "\u001b[2m\u001b[36m(DefaultActor pid=96431)\u001b[0m \r",
      " 40%|████      | 2/5 [00:12<00:18,  6.24s/it]\u001b[32m [repeated 7x across cluster]\u001b[0m\n"
     ]
    },
    {
     "name": "stdout",
     "output_type": "stream",
     "text": [
      "\u001b[2m\u001b[36m(DefaultActor pid=96431)\u001b[0m 0.05996832920407707\u001b[32m [repeated 8x across cluster]\u001b[0m\n"
     ]
    },
    {
     "name": "stderr",
     "output_type": "stream",
     "text": [
      "\u001b[2m\u001b[36m(DefaultActor pid=96431)\u001b[0m \r",
      " 60%|██████    | 3/5 [00:18<00:12,  6.20s/it]\u001b[32m [repeated 8x across cluster]\u001b[0m\n"
     ]
    },
    {
     "name": "stdout",
     "output_type": "stream",
     "text": [
      "\u001b[2m\u001b[36m(DefaultActor pid=96431)\u001b[0m 0.06031992531974207\u001b[32m [repeated 8x across cluster]\u001b[0m\n"
     ]
    },
    {
     "name": "stderr",
     "output_type": "stream",
     "text": [
      "\u001b[2m\u001b[36m(DefaultActor pid=96431)\u001b[0m \r",
      " 80%|████████  | 4/5 [00:24<00:06,  6.16s/it]\u001b[32m [repeated 8x across cluster]\u001b[0m\n"
     ]
    },
    {
     "name": "stdout",
     "output_type": "stream",
     "text": [
      "\u001b[2m\u001b[36m(DefaultActor pid=96431)\u001b[0m 0.06006029485301538\u001b[32m [repeated 8x across cluster]\u001b[0m\n"
     ]
    },
    {
     "name": "stderr",
     "output_type": "stream",
     "text": [
      "\u001b[2m\u001b[36m(DefaultActor pid=96431)\u001b[0m \r",
      "100%|██████████| 5/5 [00:30<00:00,  6.21s/it]\r",
      "100%|██████████| 5/5 [00:30<00:00,  6.19s/it]\n",
      "\u001b[2m\u001b[36m(DefaultActor pid=96431)\u001b[0m \r",
      "  0%|          | 0/5 [00:00<?, ?it/s]\n",
      "\u001b[2m\u001b[36m(DefaultActor pid=96424)\u001b[0m \r",
      " 80%|████████  | 4/5 [00:27<00:06,  6.82s/it]\u001b[32m [repeated 7x across cluster]\u001b[0m\n"
     ]
    },
    {
     "name": "stdout",
     "output_type": "stream",
     "text": [
      "\u001b[2m\u001b[36m(DefaultActor pid=96431)\u001b[0m 0.15249820121309973\u001b[32m [repeated 8x across cluster]\u001b[0m\n"
     ]
    },
    {
     "name": "stderr",
     "output_type": "stream",
     "text": [
      "100%|██████████| 5/5 [00:34<00:00,  6.89s/it]\u001b[32m [repeated 7x across cluster]\u001b[0m\n",
      "  0%|          | 0/5 [00:00<?, ?it/s] \n",
      " 20%|██        | 1/5 [00:05<00:21,  5.30s/it]\n",
      " 20%|██        | 1/5 [00:04<00:19,  4.95s/it]\n"
     ]
    },
    {
     "name": "stdout",
     "output_type": "stream",
     "text": [
      "\u001b[2m\u001b[36m(DefaultActor pid=96431)\u001b[0m 0.14872879297895866\u001b[32m [repeated 4x across cluster]\u001b[0m\n"
     ]
    },
    {
     "name": "stderr",
     "output_type": "stream",
     "text": [
      "\u001b[2m\u001b[36m(DefaultActor pid=96431)\u001b[0m \r",
      " 60%|██████    | 3/5 [00:14<00:09,  4.57s/it]\u001b[32m [repeated 3x across cluster]\u001b[0m\n"
     ]
    },
    {
     "name": "stdout",
     "output_type": "stream",
     "text": [
      "\u001b[2m\u001b[36m(DefaultActor pid=96431)\u001b[0m 0.1484449922361157\u001b[32m [repeated 4x across cluster]\u001b[0m\n"
     ]
    },
    {
     "name": "stderr",
     "output_type": "stream",
     "text": [
      "100%|██████████| 5/5 [00:22<00:00,  4.55s/it]\n",
      " 80%|████████  | 4/5 [00:17<00:04,  4.40s/it]\u001b[32m [repeated 3x across cluster]\u001b[0m\n",
      "DEBUG flwr 2023-11-09 14:19:54,579 | server.py:236 | fit_round 18 received 10 results and 0 failures\n",
      "DEBUG:flwr:fit_round 18 received 10 results and 0 failures\n",
      "DEBUG flwr 2023-11-09 14:19:54,596 | server.py:173 | evaluate_round 18: strategy sampled 20 clients (out of 40)\n",
      "DEBUG:flwr:evaluate_round 18: strategy sampled 20 clients (out of 40)\n",
      "DEBUG flwr 2023-11-09 14:19:54,738 | server.py:187 | evaluate_round 18 received 20 results and 0 failures\n",
      "DEBUG:flwr:evaluate_round 18 received 20 results and 0 failures\n",
      "DEBUG flwr 2023-11-09 14:19:54,739 | server.py:222 | fit_round 19: strategy sampled 10 clients (out of 40)\n",
      "DEBUG:flwr:fit_round 19: strategy sampled 10 clients (out of 40)\n"
     ]
    },
    {
     "name": "stdout",
     "output_type": "stream",
     "text": [
      "Saving round 18 aggregated_parameters...\n"
     ]
    },
    {
     "name": "stderr",
     "output_type": "stream",
     "text": [
      "\u001b[2m\u001b[36m(DefaultActor pid=96426)\u001b[0m \r",
      "  0%|          | 0/5 [00:00<?, ?it/s]\n"
     ]
    },
    {
     "name": "stdout",
     "output_type": "stream",
     "text": [
      "\u001b[2m\u001b[36m(DefaultActor pid=96428)\u001b[0m 0.13249952261420814\u001b[32m [repeated 2x across cluster]\u001b[0m\n"
     ]
    },
    {
     "name": "stderr",
     "output_type": "stream",
     "text": [
      "\u001b[2m\u001b[36m(DefaultActor pid=96428)\u001b[0m \r",
      "100%|██████████| 5/5 [00:22<00:00,  4.37s/it]\r",
      "100%|██████████| 5/5 [00:22<00:00,  4.44s/it]\n",
      "\u001b[2m\u001b[36m(DefaultActor pid=96428)\u001b[0m \r",
      " 20%|██        | 1/5 [00:06<00:25,  6.43s/it]\n",
      "\u001b[2m\u001b[36m(DefaultActor pid=96431)\u001b[0m \r",
      "  0%|          | 0/5 [00:00<?, ?it/s]\u001b[32m [repeated 7x across cluster]\u001b[0m\n",
      "\u001b[2m\u001b[36m(DefaultActor pid=96431)\u001b[0m \r",
      " 20%|██        | 1/5 [00:06<00:25,  6.48s/it]\n"
     ]
    },
    {
     "name": "stdout",
     "output_type": "stream",
     "text": [
      "\u001b[2m\u001b[36m(DefaultActor pid=96428)\u001b[0m 0.1272145299748941\u001b[32m [repeated 8x across cluster]\u001b[0m\n"
     ]
    },
    {
     "name": "stderr",
     "output_type": "stream",
     "text": [
      "\u001b[2m\u001b[36m(DefaultActor pid=96428)\u001b[0m \r",
      " 40%|████      | 2/5 [00:12<00:19,  6.48s/it]\u001b[32m [repeated 7x across cluster]\u001b[0m\n"
     ]
    },
    {
     "name": "stdout",
     "output_type": "stream",
     "text": [
      "\u001b[2m\u001b[36m(DefaultActor pid=96428)\u001b[0m 0.12867136926136233\u001b[32m [repeated 8x across cluster]\u001b[0m\n"
     ]
    },
    {
     "name": "stderr",
     "output_type": "stream",
     "text": [
      "\u001b[2m\u001b[36m(DefaultActor pid=96428)\u001b[0m \r",
      " 60%|██████    | 3/5 [00:19<00:12,  6.42s/it]\u001b[32m [repeated 8x across cluster]\u001b[0m\n"
     ]
    },
    {
     "name": "stdout",
     "output_type": "stream",
     "text": [
      "\u001b[2m\u001b[36m(DefaultActor pid=96431)\u001b[0m 0.30837405811656604\u001b[32m [repeated 8x across cluster]\u001b[0m\n"
     ]
    },
    {
     "name": "stderr",
     "output_type": "stream",
     "text": [
      "\u001b[2m\u001b[36m(DefaultActor pid=96431)\u001b[0m \r",
      " 80%|████████  | 4/5 [00:25<00:06,  6.39s/it]\u001b[32m [repeated 8x across cluster]\u001b[0m\n"
     ]
    },
    {
     "name": "stdout",
     "output_type": "stream",
     "text": [
      "\u001b[2m\u001b[36m(DefaultActor pid=96431)\u001b[0m 0.3066800104623491\u001b[32m [repeated 8x across cluster]\u001b[0m\n"
     ]
    },
    {
     "name": "stderr",
     "output_type": "stream",
     "text": [
      "\u001b[2m\u001b[36m(DefaultActor pid=96431)\u001b[0m \r",
      "100%|██████████| 5/5 [00:31<00:00,  6.37s/it]\r",
      "100%|██████████| 5/5 [00:31<00:00,  6.40s/it]\n",
      "\u001b[2m\u001b[36m(DefaultActor pid=96431)\u001b[0m \r",
      "  0%|          | 0/5 [00:00<?, ?it/s]\n",
      "\u001b[2m\u001b[36m(DefaultActor pid=96425)\u001b[0m \r",
      " 80%|████████  | 4/5 [00:27<00:06,  6.90s/it]\u001b[32m [repeated 7x across cluster]\u001b[0m\n"
     ]
    },
    {
     "name": "stdout",
     "output_type": "stream",
     "text": [
      "\u001b[2m\u001b[36m(DefaultActor pid=96431)\u001b[0m 0.05240590269254013\u001b[32m [repeated 9x across cluster]\u001b[0m\n"
     ]
    },
    {
     "name": "stderr",
     "output_type": "stream",
     "text": [
      "\u001b[2m\u001b[36m(DefaultActor pid=96425)\u001b[0m \r",
      "100%|██████████| 5/5 [00:34<00:00,  6.99s/it]\r",
      "100%|██████████| 5/5 [00:34<00:00,  6.94s/it]\u001b[32m [repeated 7x across cluster]\u001b[0m\n",
      "\u001b[2m\u001b[36m(DefaultActor pid=96428)\u001b[0m \r",
      "  0%|          | 0/5 [00:00<?, ?it/s]\n",
      "\u001b[2m\u001b[36m(DefaultActor pid=96431)\u001b[0m \r",
      " 20%|██        | 1/5 [00:05<00:20,  5.04s/it]\u001b[32m [repeated 2x across cluster]\u001b[0m\n"
     ]
    },
    {
     "name": "stdout",
     "output_type": "stream",
     "text": [
      "\u001b[2m\u001b[36m(DefaultActor pid=96428)\u001b[0m 0.006085433378095992\u001b[32m [repeated 3x across cluster]\u001b[0m\n"
     ]
    },
    {
     "name": "stderr",
     "output_type": "stream",
     "text": [
      "\u001b[2m\u001b[36m(DefaultActor pid=96428)\u001b[0m \r",
      " 60%|██████    | 3/5 [00:13<00:08,  4.34s/it]\u001b[32m [repeated 3x across cluster]\u001b[0m\n"
     ]
    },
    {
     "name": "stdout",
     "output_type": "stream",
     "text": [
      "\u001b[2m\u001b[36m(DefaultActor pid=96428)\u001b[0m 0.0060477123056030405\u001b[32m [repeated 4x across cluster]\u001b[0m\n"
     ]
    },
    {
     "name": "stderr",
     "output_type": "stream",
     "text": [
      "100%|██████████| 5/5 [00:21<00:00,  4.34s/it]\n",
      " 80%|████████  | 4/5 [00:17<00:04,  4.42s/it]\u001b[32m [repeated 3x across cluster]\u001b[0m\n",
      "DEBUG flwr 2023-11-09 14:20:49,080 | server.py:236 | fit_round 19 received 10 results and 0 failures\n",
      "DEBUG:flwr:fit_round 19 received 10 results and 0 failures\n",
      "DEBUG flwr 2023-11-09 14:20:49,096 | server.py:173 | evaluate_round 19: strategy sampled 20 clients (out of 40)\n",
      "DEBUG:flwr:evaluate_round 19: strategy sampled 20 clients (out of 40)\n",
      "DEBUG flwr 2023-11-09 14:20:49,237 | server.py:187 | evaluate_round 19 received 20 results and 0 failures\n",
      "DEBUG:flwr:evaluate_round 19 received 20 results and 0 failures\n",
      "DEBUG flwr 2023-11-09 14:20:49,237 | server.py:222 | fit_round 20: strategy sampled 10 clients (out of 40)\n",
      "DEBUG:flwr:fit_round 20: strategy sampled 10 clients (out of 40)\n"
     ]
    },
    {
     "name": "stdout",
     "output_type": "stream",
     "text": [
      "Saving round 19 aggregated_parameters...\n"
     ]
    },
    {
     "name": "stderr",
     "output_type": "stream",
     "text": [
      "  0%|          | 0/5 [00:00<?, ?it/s] \n",
      "100%|██████████| 5/5 [00:22<00:00,  4.45s/it]\n",
      " 20%|██        | 1/5 [00:06<00:25,  6.37s/it]\n",
      "  0%|          | 0/5 [00:00<?, ?it/s]\u001b[32m [repeated 7x across cluster]\u001b[0m\n",
      " 20%|██        | 1/5 [00:06<00:26,  6.55s/it]\n"
     ]
    },
    {
     "name": "stdout",
     "output_type": "stream",
     "text": [
      "\u001b[2m\u001b[36m(DefaultActor pid=96424)\u001b[0m 0.048033635767007414\u001b[32m [repeated 2x across cluster]\u001b[0m\n"
     ]
    },
    {
     "name": "stderr",
     "output_type": "stream",
     "text": [
      "\u001b[2m\u001b[36m(DefaultActor pid=96424)\u001b[0m \r",
      " 40%|████      | 2/5 [00:12<00:19,  6.41s/it]\u001b[32m [repeated 7x across cluster]\u001b[0m\n"
     ]
    },
    {
     "name": "stdout",
     "output_type": "stream",
     "text": [
      "\u001b[2m\u001b[36m(DefaultActor pid=96424)\u001b[0m 0.045634569727223025\u001b[32m [repeated 8x across cluster]\u001b[0m\n",
      "\u001b[2m\u001b[36m(DefaultActor pid=96431)\u001b[0m 0.20132675021886826\u001b[32m [repeated 8x across cluster]\u001b[0m\n"
     ]
    },
    {
     "name": "stderr",
     "output_type": "stream",
     "text": [
      "\u001b[2m\u001b[36m(DefaultActor pid=96431)\u001b[0m \r",
      " 60%|██████    | 3/5 [00:19<00:12,  6.46s/it]\u001b[32m [repeated 8x across cluster]\u001b[0m\n"
     ]
    },
    {
     "name": "stdout",
     "output_type": "stream",
     "text": [
      "\u001b[2m\u001b[36m(DefaultActor pid=96431)\u001b[0m 0.201086298647252\u001b[32m [repeated 8x across cluster]\u001b[0m\n"
     ]
    },
    {
     "name": "stderr",
     "output_type": "stream",
     "text": [
      "\u001b[2m\u001b[36m(DefaultActor pid=96425)\u001b[0m \r",
      " 80%|████████  | 4/5 [00:26<00:06,  6.54s/it]\u001b[32m [repeated 8x across cluster]\u001b[0m\n"
     ]
    },
    {
     "name": "stdout",
     "output_type": "stream",
     "text": [
      "\u001b[2m\u001b[36m(DefaultActor pid=96431)\u001b[0m 0.2009354972026565\u001b[32m [repeated 8x across cluster]\u001b[0m\n"
     ]
    },
    {
     "name": "stderr",
     "output_type": "stream",
     "text": [
      "100%|██████████| 5/5 [00:32<00:00,  6.53s/it]\n",
      "  0%|          | 0/5 [00:00<?, ?it/s] \n",
      " 80%|████████  | 4/5 [00:27<00:06,  6.88s/it]\u001b[32m [repeated 7x across cluster]\u001b[0m\n",
      "100%|██████████| 5/5 [00:34<00:00,  6.92s/it]\u001b[32m [repeated 7x across cluster]\u001b[0m\n",
      "  0%|          | 0/5 [00:00<?, ?it/s] \n",
      " 20%|██        | 1/5 [00:05<00:21,  5.37s/it]\u001b[32m [repeated 2x across cluster]\u001b[0m\n"
     ]
    },
    {
     "name": "stdout",
     "output_type": "stream",
     "text": [
      "\u001b[2m\u001b[36m(DefaultActor pid=96425)\u001b[0m 0.15405173819850793\u001b[32m [repeated 9x across cluster]\u001b[0m\n",
      "\u001b[2m\u001b[36m(DefaultActor pid=96431)\u001b[0m 0.11375433477488431\u001b[32m [repeated 3x across cluster]\u001b[0m\n"
     ]
    },
    {
     "name": "stderr",
     "output_type": "stream",
     "text": [
      " 60%|██████    | 3/5 [00:13<00:08,  4.46s/it]\u001b[32m [repeated 3x across cluster]\u001b[0m\n",
      " 80%|████████  | 4/5 [00:20<00:05,  5.04s/it]\u001b[32m [repeated 3x across cluster]\u001b[0m\n"
     ]
    },
    {
     "name": "stdout",
     "output_type": "stream",
     "text": [
      "\u001b[2m\u001b[36m(DefaultActor pid=96425)\u001b[0m 0.14630555852570318\u001b[32m [repeated 3x across cluster]\u001b[0m\n"
     ]
    },
    {
     "name": "stderr",
     "output_type": "stream",
     "text": [
      "100%|██████████| 5/5 [00:22<00:00,  4.44s/it]\n",
      "DEBUG flwr 2023-11-09 14:21:47,368 | server.py:236 | fit_round 20 received 10 results and 0 failures\n",
      "DEBUG:flwr:fit_round 20 received 10 results and 0 failures\n",
      "DEBUG flwr 2023-11-09 14:21:47,382 | server.py:173 | evaluate_round 20: strategy sampled 20 clients (out of 40)\n",
      "DEBUG:flwr:evaluate_round 20: strategy sampled 20 clients (out of 40)\n",
      "DEBUG flwr 2023-11-09 14:21:47,533 | server.py:187 | evaluate_round 20 received 20 results and 0 failures\n",
      "DEBUG:flwr:evaluate_round 20 received 20 results and 0 failures\n",
      "DEBUG flwr 2023-11-09 14:21:47,534 | server.py:222 | fit_round 21: strategy sampled 10 clients (out of 40)\n",
      "DEBUG:flwr:fit_round 21: strategy sampled 10 clients (out of 40)\n",
      "  0%|          | 0/5 [00:00<?, ?it/s] \n"
     ]
    },
    {
     "name": "stdout",
     "output_type": "stream",
     "text": [
      "Saving round 20 aggregated_parameters...\n",
      "\u001b[2m\u001b[36m(DefaultActor pid=96425)\u001b[0m 0.14631569148464638\u001b[32m [repeated 2x across cluster]\u001b[0m\n",
      "\u001b[2m\u001b[36m(DefaultActor pid=96428)\u001b[0m 0.31181855364279315\n"
     ]
    },
    {
     "name": "stderr",
     "output_type": "stream",
     "text": [
      "\u001b[2m\u001b[36m(DefaultActor pid=96428)\u001b[0m \r",
      " 20%|██        | 1/5 [00:06<00:25,  6.30s/it]\n",
      "\u001b[2m\u001b[36m(DefaultActor pid=96425)\u001b[0m \r",
      "100%|██████████| 5/5 [00:25<00:00,  5.00s/it]\r",
      "100%|██████████| 5/5 [00:25<00:00,  5.05s/it]\n",
      "\u001b[2m\u001b[36m(DefaultActor pid=96431)\u001b[0m \r",
      "  0%|          | 0/5 [00:00<?, ?it/s]\u001b[32m [repeated 7x across cluster]\u001b[0m\n"
     ]
    },
    {
     "name": "stdout",
     "output_type": "stream",
     "text": [
      "\u001b[2m\u001b[36m(DefaultActor pid=96425)\u001b[0m 0.22866647656668315\n",
      "\u001b[2m\u001b[36m(DefaultActor pid=96428)\u001b[0m 0.30521777814084833\u001b[32m [repeated 7x across cluster]\u001b[0m\n"
     ]
    },
    {
     "name": "stderr",
     "output_type": "stream",
     "text": [
      "\u001b[2m\u001b[36m(DefaultActor pid=96428)\u001b[0m \r",
      " 40%|████      | 2/5 [00:12<00:18,  6.16s/it]\u001b[32m [repeated 8x across cluster]\u001b[0m\n"
     ]
    },
    {
     "name": "stdout",
     "output_type": "stream",
     "text": [
      "\u001b[2m\u001b[36m(DefaultActor pid=96428)\u001b[0m 0.3062480478124185\u001b[32m [repeated 8x across cluster]\u001b[0m\n"
     ]
    },
    {
     "name": "stderr",
     "output_type": "stream",
     "text": [
      "\u001b[2m\u001b[36m(DefaultActor pid=96428)\u001b[0m \r",
      " 60%|██████    | 3/5 [00:18<00:12,  6.19s/it]\u001b[32m [repeated 8x across cluster]\u001b[0m\n"
     ]
    },
    {
     "name": "stdout",
     "output_type": "stream",
     "text": [
      "\u001b[2m\u001b[36m(DefaultActor pid=96428)\u001b[0m 0.30780924314802344\u001b[32m [repeated 8x across cluster]\u001b[0m\n"
     ]
    },
    {
     "name": "stderr",
     "output_type": "stream",
     "text": [
      "\u001b[2m\u001b[36m(DefaultActor pid=96428)\u001b[0m \r",
      " 80%|████████  | 4/5 [00:24<00:06,  6.22s/it]\u001b[32m [repeated 8x across cluster]\u001b[0m\n"
     ]
    },
    {
     "name": "stdout",
     "output_type": "stream",
     "text": [
      "\u001b[2m\u001b[36m(DefaultActor pid=96428)\u001b[0m 0.3041397153653882\u001b[32m [repeated 8x across cluster]\u001b[0m\n"
     ]
    },
    {
     "name": "stderr",
     "output_type": "stream",
     "text": [
      "\u001b[2m\u001b[36m(DefaultActor pid=96428)\u001b[0m \r",
      "100%|██████████| 5/5 [00:30<00:00,  6.15s/it]\r",
      "100%|██████████| 5/5 [00:30<00:00,  6.17s/it]\n",
      "\u001b[2m\u001b[36m(DefaultActor pid=96428)\u001b[0m \r",
      "  0%|          | 0/5 [00:00<?, ?it/s]\n",
      "\u001b[2m\u001b[36m(DefaultActor pid=96430)\u001b[0m \r",
      " 80%|████████  | 4/5 [00:27<00:06,  6.97s/it]\u001b[32m [repeated 7x across cluster]\u001b[0m\n"
     ]
    },
    {
     "name": "stdout",
     "output_type": "stream",
     "text": [
      "\u001b[2m\u001b[36m(DefaultActor pid=96428)\u001b[0m 0.2744254175234925\u001b[32m [repeated 8x across cluster]\u001b[0m\n"
     ]
    },
    {
     "name": "stderr",
     "output_type": "stream",
     "text": [
      "100%|██████████| 5/5 [00:34<00:00,  6.89s/it]\u001b[32m [repeated 7x across cluster]\u001b[0m\n",
      "  0%|          | 0/5 [00:00<?, ?it/s] \n",
      " 20%|██        | 1/5 [00:05<00:21,  5.28s/it]\n",
      " 20%|██        | 1/5 [00:04<00:19,  4.80s/it]\n"
     ]
    },
    {
     "name": "stdout",
     "output_type": "stream",
     "text": [
      "\u001b[2m\u001b[36m(DefaultActor pid=96431)\u001b[0m 0.2401673360304399\u001b[32m [repeated 3x across cluster]\u001b[0m\n"
     ]
    },
    {
     "name": "stderr",
     "output_type": "stream",
     "text": [
      "\u001b[2m\u001b[36m(DefaultActor pid=96428)\u001b[0m \r",
      " 60%|██████    | 3/5 [00:14<00:09,  4.59s/it]\u001b[32m [repeated 3x across cluster]\u001b[0m\n"
     ]
    },
    {
     "name": "stdout",
     "output_type": "stream",
     "text": [
      "\u001b[2m\u001b[36m(DefaultActor pid=96428)\u001b[0m 0.25838877667080273\u001b[32m [repeated 3x across cluster]\u001b[0m\n"
     ]
    },
    {
     "name": "stderr",
     "output_type": "stream",
     "text": [
      " 80%|████████  | 4/5 [00:18<00:04,  4.45s/it]\u001b[32m [repeated 3x across cluster]\u001b[0m\n",
      "100%|██████████| 5/5 [00:22<00:00,  4.56s/it]\n",
      "DEBUG flwr 2023-11-09 14:22:42,576 | server.py:236 | fit_round 21 received 10 results and 0 failures\n",
      "DEBUG:flwr:fit_round 21 received 10 results and 0 failures\n",
      "DEBUG flwr 2023-11-09 14:22:42,591 | server.py:173 | evaluate_round 21: strategy sampled 20 clients (out of 40)\n",
      "DEBUG:flwr:evaluate_round 21: strategy sampled 20 clients (out of 40)\n",
      "DEBUG flwr 2023-11-09 14:22:42,731 | server.py:187 | evaluate_round 21 received 20 results and 0 failures\n",
      "DEBUG:flwr:evaluate_round 21 received 20 results and 0 failures\n",
      "DEBUG flwr 2023-11-09 14:22:42,732 | server.py:222 | fit_round 22: strategy sampled 10 clients (out of 40)\n",
      "DEBUG:flwr:fit_round 22: strategy sampled 10 clients (out of 40)\n"
     ]
    },
    {
     "name": "stdout",
     "output_type": "stream",
     "text": [
      "Saving round 21 aggregated_parameters...\n",
      "\u001b[2m\u001b[36m(DefaultActor pid=96431)\u001b[0m 0.23688808997923677\u001b[32m [repeated 3x across cluster]\u001b[0m\n"
     ]
    },
    {
     "name": "stderr",
     "output_type": "stream",
     "text": [
      "\u001b[2m\u001b[36m(DefaultActor pid=96426)\u001b[0m \r",
      "  0%|          | 0/5 [00:00<?, ?it/s]\n"
     ]
    },
    {
     "name": "stdout",
     "output_type": "stream",
     "text": [
      "\u001b[2m\u001b[36m(DefaultActor pid=96428)\u001b[0m 0.059721050656993284\n"
     ]
    },
    {
     "name": "stderr",
     "output_type": "stream",
     "text": [
      " 20%|██        | 1/5 [00:05<00:23,  5.92s/it]\n",
      "100%|██████████| 5/5 [00:22<00:00,  4.48s/it]\n",
      "  0%|          | 0/5 [00:00<?, ?it/s]\u001b[32m [repeated 7x across cluster]\u001b[0m\n",
      " 20%|██        | 1/5 [00:06<00:26,  6.55s/it]\n"
     ]
    },
    {
     "name": "stdout",
     "output_type": "stream",
     "text": [
      "\u001b[2m\u001b[36m(DefaultActor pid=96427)\u001b[0m 0.06648015908219597\n",
      "\u001b[2m\u001b[36m(DefaultActor pid=96428)\u001b[0m 0.05775292992422527\u001b[32m [repeated 7x across cluster]\u001b[0m\n"
     ]
    },
    {
     "name": "stderr",
     "output_type": "stream",
     "text": [
      "\u001b[2m\u001b[36m(DefaultActor pid=96428)\u001b[0m \r",
      " 40%|████      | 2/5 [00:11<00:17,  5.90s/it]\u001b[32m [repeated 7x across cluster]\u001b[0m\n"
     ]
    },
    {
     "name": "stdout",
     "output_type": "stream",
     "text": [
      "\u001b[2m\u001b[36m(DefaultActor pid=96428)\u001b[0m 0.0562853060493415\u001b[32m [repeated 8x across cluster]\u001b[0m\n"
     ]
    },
    {
     "name": "stderr",
     "output_type": "stream",
     "text": [
      "\u001b[2m\u001b[36m(DefaultActor pid=96428)\u001b[0m \r",
      " 60%|██████    | 3/5 [00:17<00:11,  5.93s/it]\u001b[32m [repeated 8x across cluster]\u001b[0m\n"
     ]
    },
    {
     "name": "stdout",
     "output_type": "stream",
     "text": [
      "\u001b[2m\u001b[36m(DefaultActor pid=96428)\u001b[0m 0.0547147541814907\u001b[32m [repeated 8x across cluster]\u001b[0m\n"
     ]
    },
    {
     "name": "stderr",
     "output_type": "stream",
     "text": [
      "\u001b[2m\u001b[36m(DefaultActor pid=96428)\u001b[0m \r",
      " 80%|████████  | 4/5 [00:23<00:05,  5.99s/it]\u001b[32m [repeated 8x across cluster]\u001b[0m\n"
     ]
    },
    {
     "name": "stdout",
     "output_type": "stream",
     "text": [
      "\u001b[2m\u001b[36m(DefaultActor pid=96428)\u001b[0m 0.0552583270790902\u001b[32m [repeated 8x across cluster]\u001b[0m\n"
     ]
    },
    {
     "name": "stderr",
     "output_type": "stream",
     "text": [
      "\u001b[2m\u001b[36m(DefaultActor pid=96428)\u001b[0m \r",
      "100%|██████████| 5/5 [00:30<00:00,  6.05s/it]\r",
      "100%|██████████| 5/5 [00:30<00:00,  6.00s/it]\n",
      "\u001b[2m\u001b[36m(DefaultActor pid=96428)\u001b[0m \r",
      "  0%|          | 0/5 [00:00<?, ?it/s]\n",
      "\u001b[2m\u001b[36m(DefaultActor pid=96429)\u001b[0m \r",
      " 80%|████████  | 4/5 [00:27<00:06,  6.93s/it]\u001b[32m [repeated 7x across cluster]\u001b[0m\n"
     ]
    },
    {
     "name": "stdout",
     "output_type": "stream",
     "text": [
      "\u001b[2m\u001b[36m(DefaultActor pid=96428)\u001b[0m 0.11385495147921822\u001b[32m [repeated 8x across cluster]\u001b[0m\n"
     ]
    },
    {
     "name": "stderr",
     "output_type": "stream",
     "text": [
      "100%|██████████| 5/5 [00:34<00:00,  6.90s/it]\u001b[32m [repeated 7x across cluster]\u001b[0m\n",
      "  0%|          | 0/5 [00:00<?, ?it/s] \n",
      " 20%|██        | 1/5 [00:05<00:22,  5.66s/it]\n",
      " 20%|██        | 1/5 [00:04<00:18,  4.58s/it]\n"
     ]
    },
    {
     "name": "stdout",
     "output_type": "stream",
     "text": [
      "\u001b[2m\u001b[36m(DefaultActor pid=96431)\u001b[0m 0.11365777711299332\u001b[32m [repeated 3x across cluster]\u001b[0m\n"
     ]
    },
    {
     "name": "stderr",
     "output_type": "stream",
     "text": [
      "\u001b[2m\u001b[36m(DefaultActor pid=96428)\u001b[0m \r",
      " 60%|██████    | 3/5 [00:14<00:09,  4.70s/it]\u001b[32m [repeated 3x across cluster]\u001b[0m\n"
     ]
    },
    {
     "name": "stdout",
     "output_type": "stream",
     "text": [
      "\u001b[2m\u001b[36m(DefaultActor pid=96428)\u001b[0m 0.10778894918886098\u001b[32m [repeated 3x across cluster]\u001b[0m\n"
     ]
    },
    {
     "name": "stderr",
     "output_type": "stream",
     "text": [
      " 80%|████████  | 4/5 [00:17<00:04,  4.42s/it]\u001b[32m [repeated 3x across cluster]\u001b[0m\n",
      "100%|██████████| 5/5 [00:23<00:00,  4.67s/it]\n",
      "DEBUG flwr 2023-11-09 14:23:38,036 | server.py:236 | fit_round 22 received 10 results and 0 failures\n",
      "DEBUG:flwr:fit_round 22 received 10 results and 0 failures\n",
      "DEBUG flwr 2023-11-09 14:23:38,051 | server.py:173 | evaluate_round 22: strategy sampled 20 clients (out of 40)\n",
      "DEBUG:flwr:evaluate_round 22: strategy sampled 20 clients (out of 40)\n",
      "DEBUG flwr 2023-11-09 14:23:38,194 | server.py:187 | evaluate_round 22 received 20 results and 0 failures\n",
      "DEBUG:flwr:evaluate_round 22 received 20 results and 0 failures\n",
      "DEBUG flwr 2023-11-09 14:23:38,195 | server.py:222 | fit_round 23: strategy sampled 10 clients (out of 40)\n",
      "DEBUG:flwr:fit_round 23: strategy sampled 10 clients (out of 40)\n"
     ]
    },
    {
     "name": "stdout",
     "output_type": "stream",
     "text": [
      "Saving round 22 aggregated_parameters...\n",
      "\u001b[2m\u001b[36m(DefaultActor pid=96431)\u001b[0m 0.11133786917410114\u001b[32m [repeated 3x across cluster]\u001b[0m\n"
     ]
    },
    {
     "name": "stderr",
     "output_type": "stream",
     "text": [
      "\u001b[2m\u001b[36m(DefaultActor pid=96426)\u001b[0m \r",
      "  0%|          | 0/5 [00:00<?, ?it/s]\n"
     ]
    },
    {
     "name": "stdout",
     "output_type": "stream",
     "text": [
      "\u001b[2m\u001b[36m(DefaultActor pid=96428)\u001b[0m 0.10969221744347703\n",
      "\u001b[2m\u001b[36m(DefaultActor pid=96431)\u001b[0m 0.26652874831448903\n"
     ]
    },
    {
     "name": "stderr",
     "output_type": "stream",
     "text": [
      "\u001b[2m\u001b[36m(DefaultActor pid=96428)\u001b[0m \r",
      " 20%|██        | 1/5 [00:06<00:25,  6.31s/it]\n",
      "\u001b[2m\u001b[36m(DefaultActor pid=96431)\u001b[0m \r",
      "100%|██████████| 5/5 [00:22<00:00,  4.42s/it]\r",
      "100%|██████████| 5/5 [00:22<00:00,  4.43s/it]\n",
      "\u001b[2m\u001b[36m(DefaultActor pid=96424)\u001b[0m \r",
      "  0%|          | 0/5 [00:00<?, ?it/s]\u001b[32m [repeated 7x across cluster]\u001b[0m\n",
      "\u001b[2m\u001b[36m(DefaultActor pid=96431)\u001b[0m \r",
      " 20%|██        | 1/5 [00:06<00:25,  6.30s/it]\n"
     ]
    },
    {
     "name": "stdout",
     "output_type": "stream",
     "text": [
      "\u001b[2m\u001b[36m(DefaultActor pid=96428)\u001b[0m 0.11284077988768165\u001b[32m [repeated 7x across cluster]\u001b[0m\n"
     ]
    },
    {
     "name": "stderr",
     "output_type": "stream",
     "text": [
      "\u001b[2m\u001b[36m(DefaultActor pid=96428)\u001b[0m \r",
      " 40%|████      | 2/5 [00:12<00:18,  6.14s/it]\u001b[32m [repeated 7x across cluster]\u001b[0m\n"
     ]
    },
    {
     "name": "stdout",
     "output_type": "stream",
     "text": [
      "\u001b[2m\u001b[36m(DefaultActor pid=96428)\u001b[0m 0.11013487540185452\u001b[32m [repeated 8x across cluster]\u001b[0m\n"
     ]
    },
    {
     "name": "stderr",
     "output_type": "stream",
     "text": [
      "\u001b[2m\u001b[36m(DefaultActor pid=96428)\u001b[0m \r",
      " 60%|██████    | 3/5 [00:18<00:12,  6.12s/it]\u001b[32m [repeated 8x across cluster]\u001b[0m\n"
     ]
    },
    {
     "name": "stdout",
     "output_type": "stream",
     "text": [
      "\u001b[2m\u001b[36m(DefaultActor pid=96428)\u001b[0m 0.10942529251968319\u001b[32m [repeated 8x across cluster]\u001b[0m\n"
     ]
    },
    {
     "name": "stderr",
     "output_type": "stream",
     "text": [
      "\u001b[2m\u001b[36m(DefaultActor pid=96428)\u001b[0m \r",
      " 80%|████████  | 4/5 [00:24<00:06,  6.13s/it]\u001b[32m [repeated 8x across cluster]\u001b[0m\n"
     ]
    },
    {
     "name": "stdout",
     "output_type": "stream",
     "text": [
      "\u001b[2m\u001b[36m(DefaultActor pid=96428)\u001b[0m 0.10680024766109207\u001b[32m [repeated 8x across cluster]\u001b[0m\n"
     ]
    },
    {
     "name": "stderr",
     "output_type": "stream",
     "text": [
      "\u001b[2m\u001b[36m(DefaultActor pid=96428)\u001b[0m \r",
      "100%|██████████| 5/5 [00:31<00:00,  6.38s/it]\r",
      "100%|██████████| 5/5 [00:31<00:00,  6.28s/it]\n",
      "\u001b[2m\u001b[36m(DefaultActor pid=96426)\u001b[0m \r",
      " 80%|████████  | 4/5 [00:28<00:07,  7.16s/it]\u001b[32m [repeated 7x across cluster]\u001b[0m\n",
      "\u001b[2m\u001b[36m(DefaultActor pid=96428)\u001b[0m \r",
      "  0%|          | 0/5 [00:00<?, ?it/s]\n"
     ]
    },
    {
     "name": "stdout",
     "output_type": "stream",
     "text": [
      "\u001b[2m\u001b[36m(DefaultActor pid=96428)\u001b[0m 0.19518083046105775\u001b[32m [repeated 8x across cluster]\u001b[0m\n"
     ]
    },
    {
     "name": "stderr",
     "output_type": "stream",
     "text": [
      "100%|██████████| 5/5 [00:35<00:00,  7.07s/it]\u001b[32m [repeated 7x across cluster]\u001b[0m\n",
      " 20%|██        | 1/5 [00:05<00:21,  5.44s/it]\n",
      "  0%|          | 0/5 [00:00<?, ?it/s] \n",
      " 20%|██        | 1/5 [00:04<00:19,  4.87s/it]\n"
     ]
    },
    {
     "name": "stdout",
     "output_type": "stream",
     "text": [
      "\u001b[2m\u001b[36m(DefaultActor pid=96431)\u001b[0m 0.005976781370753253\u001b[32m [repeated 3x across cluster]\u001b[0m\n"
     ]
    },
    {
     "name": "stderr",
     "output_type": "stream",
     "text": [
      "\u001b[2m\u001b[36m(DefaultActor pid=96428)\u001b[0m \r",
      " 60%|██████    | 3/5 [00:14<00:09,  4.59s/it]\u001b[32m [repeated 3x across cluster]\u001b[0m\n"
     ]
    },
    {
     "name": "stdout",
     "output_type": "stream",
     "text": [
      "\u001b[2m\u001b[36m(DefaultActor pid=96428)\u001b[0m 0.18464249643412503\u001b[32m [repeated 3x across cluster]\u001b[0m\n"
     ]
    },
    {
     "name": "stderr",
     "output_type": "stream",
     "text": [
      "100%|██████████| 5/5 [00:22<00:00,  4.58s/it]\n",
      " 80%|████████  | 4/5 [00:17<00:04,  4.31s/it]\u001b[32m [repeated 3x across cluster]\u001b[0m\n",
      "DEBUG flwr 2023-11-09 14:24:32,846 | server.py:236 | fit_round 23 received 10 results and 0 failures\n",
      "DEBUG:flwr:fit_round 23 received 10 results and 0 failures\n",
      "DEBUG flwr 2023-11-09 14:24:32,862 | server.py:173 | evaluate_round 23: strategy sampled 20 clients (out of 40)\n",
      "DEBUG:flwr:evaluate_round 23: strategy sampled 20 clients (out of 40)\n",
      "DEBUG flwr 2023-11-09 14:24:33,007 | server.py:187 | evaluate_round 23 received 20 results and 0 failures\n",
      "DEBUG:flwr:evaluate_round 23 received 20 results and 0 failures\n",
      "DEBUG flwr 2023-11-09 14:24:33,008 | server.py:222 | fit_round 24: strategy sampled 10 clients (out of 40)\n",
      "DEBUG:flwr:fit_round 24: strategy sampled 10 clients (out of 40)\n"
     ]
    },
    {
     "name": "stdout",
     "output_type": "stream",
     "text": [
      "Saving round 23 aggregated_parameters...\n"
     ]
    },
    {
     "name": "stderr",
     "output_type": "stream",
     "text": [
      "\u001b[2m\u001b[36m(DefaultActor pid=96426)\u001b[0m \r",
      "  0%|          | 0/5 [00:00<?, ?it/s]\n"
     ]
    },
    {
     "name": "stdout",
     "output_type": "stream",
     "text": [
      "\u001b[2m\u001b[36m(DefaultActor pid=96428)\u001b[0m 0.052694226022471084\u001b[32m [repeated 4x across cluster]\u001b[0m\n"
     ]
    },
    {
     "name": "stderr",
     "output_type": "stream",
     "text": [
      "100%|██████████| 5/5 [00:21<00:00,  4.36s/it]\n",
      " 20%|██        | 1/5 [00:06<00:24,  6.14s/it]\n",
      "  0%|          | 0/5 [00:00<?, ?it/s]\u001b[32m [repeated 7x across cluster]\u001b[0m\n",
      " 20%|██        | 1/5 [00:06<00:26,  6.69s/it]\n"
     ]
    },
    {
     "name": "stdout",
     "output_type": "stream",
     "text": [
      "\u001b[2m\u001b[36m(DefaultActor pid=96428)\u001b[0m 0.04924291537397287\u001b[32m [repeated 8x across cluster]\u001b[0m\n"
     ]
    },
    {
     "name": "stderr",
     "output_type": "stream",
     "text": [
      "\u001b[2m\u001b[36m(DefaultActor pid=96428)\u001b[0m \r",
      " 40%|████      | 2/5 [00:12<00:18,  6.13s/it]\u001b[32m [repeated 7x across cluster]\u001b[0m\n"
     ]
    },
    {
     "name": "stdout",
     "output_type": "stream",
     "text": [
      "\u001b[2m\u001b[36m(DefaultActor pid=96428)\u001b[0m 0.04950778114355423\u001b[32m [repeated 8x across cluster]\u001b[0m\n"
     ]
    },
    {
     "name": "stderr",
     "output_type": "stream",
     "text": [
      "\u001b[2m\u001b[36m(DefaultActor pid=96428)\u001b[0m \r",
      " 60%|██████    | 3/5 [00:18<00:12,  6.25s/it]\u001b[32m [repeated 8x across cluster]\u001b[0m\n"
     ]
    },
    {
     "name": "stdout",
     "output_type": "stream",
     "text": [
      "\u001b[2m\u001b[36m(DefaultActor pid=96428)\u001b[0m 0.048261316112157976\u001b[32m [repeated 8x across cluster]\u001b[0m\n"
     ]
    },
    {
     "name": "stderr",
     "output_type": "stream",
     "text": [
      "\u001b[2m\u001b[36m(DefaultActor pid=96428)\u001b[0m \r",
      " 80%|████████  | 4/5 [00:25<00:06,  6.33s/it]\u001b[32m [repeated 8x across cluster]\u001b[0m\n"
     ]
    },
    {
     "name": "stdout",
     "output_type": "stream",
     "text": [
      "\u001b[2m\u001b[36m(DefaultActor pid=96428)\u001b[0m 0.048180534250356934\u001b[32m [repeated 8x across cluster]\u001b[0m\n"
     ]
    },
    {
     "name": "stderr",
     "output_type": "stream",
     "text": [
      "\u001b[2m\u001b[36m(DefaultActor pid=96428)\u001b[0m \r",
      "100%|██████████| 5/5 [00:31<00:00,  6.34s/it]\r",
      "100%|██████████| 5/5 [00:31<00:00,  6.29s/it]\n",
      "\u001b[2m\u001b[36m(DefaultActor pid=96427)\u001b[0m \r",
      " 80%|████████  | 4/5 [00:27<00:06,  6.94s/it]\u001b[32m [repeated 7x across cluster]\u001b[0m\n",
      "\u001b[2m\u001b[36m(DefaultActor pid=96428)\u001b[0m \r",
      "  0%|          | 0/5 [00:00<?, ?it/s]\n"
     ]
    },
    {
     "name": "stdout",
     "output_type": "stream",
     "text": [
      "\u001b[2m\u001b[36m(DefaultActor pid=96428)\u001b[0m 0.22921658883040602\u001b[32m [repeated 8x across cluster]\u001b[0m\n"
     ]
    },
    {
     "name": "stderr",
     "output_type": "stream",
     "text": [
      "100%|██████████| 5/5 [00:34<00:00,  6.90s/it]\u001b[32m [repeated 7x across cluster]\u001b[0m\n",
      " 20%|██        | 1/5 [00:05<00:20,  5.10s/it]\n",
      "  0%|          | 0/5 [00:00<?, ?it/s] \n",
      " 20%|██        | 1/5 [00:04<00:19,  4.95s/it]\n"
     ]
    },
    {
     "name": "stdout",
     "output_type": "stream",
     "text": [
      "\u001b[2m\u001b[36m(DefaultActor pid=96431)\u001b[0m 0.08584616985172033\u001b[32m [repeated 3x across cluster]\u001b[0m\n"
     ]
    },
    {
     "name": "stderr",
     "output_type": "stream",
     "text": [
      "\u001b[2m\u001b[36m(DefaultActor pid=96428)\u001b[0m \r",
      " 60%|██████    | 3/5 [00:14<00:09,  4.63s/it]\u001b[32m [repeated 3x across cluster]\u001b[0m\n"
     ]
    },
    {
     "name": "stdout",
     "output_type": "stream",
     "text": [
      "\u001b[2m\u001b[36m(DefaultActor pid=96428)\u001b[0m 0.22144733945077116\u001b[32m [repeated 3x across cluster]\u001b[0m\n"
     ]
    },
    {
     "name": "stderr",
     "output_type": "stream",
     "text": [
      " 80%|████████  | 4/5 [00:18<00:04,  4.47s/it]\u001b[32m [repeated 3x across cluster]\u001b[0m\n",
      "100%|██████████| 5/5 [00:22<00:00,  4.60s/it]\n",
      "DEBUG flwr 2023-11-09 14:25:28,488 | server.py:236 | fit_round 24 received 10 results and 0 failures\n",
      "DEBUG:flwr:fit_round 24 received 10 results and 0 failures\n",
      "DEBUG flwr 2023-11-09 14:25:28,505 | server.py:173 | evaluate_round 24: strategy sampled 20 clients (out of 40)\n",
      "DEBUG:flwr:evaluate_round 24: strategy sampled 20 clients (out of 40)\n",
      "DEBUG flwr 2023-11-09 14:25:28,649 | server.py:187 | evaluate_round 24 received 20 results and 0 failures\n",
      "DEBUG:flwr:evaluate_round 24 received 20 results and 0 failures\n",
      "DEBUG flwr 2023-11-09 14:25:28,649 | server.py:222 | fit_round 25: strategy sampled 10 clients (out of 40)\n",
      "DEBUG:flwr:fit_round 25: strategy sampled 10 clients (out of 40)\n",
      "  0%|          | 0/5 [00:00<?, ?it/s] \n"
     ]
    },
    {
     "name": "stdout",
     "output_type": "stream",
     "text": [
      "Saving round 24 aggregated_parameters...\n",
      "\u001b[2m\u001b[36m(DefaultActor pid=96431)\u001b[0m 0.08341768985106186\u001b[32m [repeated 3x across cluster]\u001b[0m\n",
      "\u001b[2m\u001b[36m(DefaultActor pid=96428)\u001b[0m 0.1943187231028622\n",
      "\u001b[2m\u001b[36m(DefaultActor pid=96431)\u001b[0m 0.11396345259113745\n"
     ]
    },
    {
     "name": "stderr",
     "output_type": "stream",
     "text": [
      "\u001b[2m\u001b[36m(DefaultActor pid=96428)\u001b[0m \r",
      " 20%|██        | 1/5 [00:06<00:25,  6.41s/it]\n",
      "\u001b[2m\u001b[36m(DefaultActor pid=96431)\u001b[0m \r",
      "100%|██████████| 5/5 [00:22<00:00,  4.45s/it]\r",
      "100%|██████████| 5/5 [00:22<00:00,  4.51s/it]\n",
      "\u001b[2m\u001b[36m(DefaultActor pid=96431)\u001b[0m \r",
      "  0%|          | 0/5 [00:00<?, ?it/s]\u001b[32m [repeated 7x across cluster]\u001b[0m\n",
      "\u001b[2m\u001b[36m(DefaultActor pid=96431)\u001b[0m \r",
      " 20%|██        | 1/5 [00:06<00:26,  6.52s/it]\n"
     ]
    },
    {
     "name": "stdout",
     "output_type": "stream",
     "text": [
      "\u001b[2m\u001b[36m(DefaultActor pid=96428)\u001b[0m 0.18971627628938717\u001b[32m [repeated 7x across cluster]\u001b[0m\n"
     ]
    },
    {
     "name": "stderr",
     "output_type": "stream",
     "text": [
      "\u001b[2m\u001b[36m(DefaultActor pid=96428)\u001b[0m \r",
      " 40%|████      | 2/5 [00:12<00:19,  6.44s/it]\u001b[32m [repeated 7x across cluster]\u001b[0m\n"
     ]
    },
    {
     "name": "stdout",
     "output_type": "stream",
     "text": [
      "\u001b[2m\u001b[36m(DefaultActor pid=96428)\u001b[0m 0.19132054529406808\u001b[32m [repeated 8x across cluster]\u001b[0m\n"
     ]
    },
    {
     "name": "stderr",
     "output_type": "stream",
     "text": [
      "\u001b[2m\u001b[36m(DefaultActor pid=96428)\u001b[0m \r",
      " 60%|██████    | 3/5 [00:19<00:12,  6.48s/it]\u001b[32m [repeated 8x across cluster]\u001b[0m\n"
     ]
    },
    {
     "name": "stdout",
     "output_type": "stream",
     "text": [
      "\u001b[2m\u001b[36m(DefaultActor pid=96428)\u001b[0m 0.18919819762760942\u001b[32m [repeated 8x across cluster]\u001b[0m\n"
     ]
    },
    {
     "name": "stderr",
     "output_type": "stream",
     "text": [
      "\u001b[2m\u001b[36m(DefaultActor pid=96428)\u001b[0m \r",
      " 80%|████████  | 4/5 [00:25<00:06,  6.41s/it]\u001b[32m [repeated 8x across cluster]\u001b[0m\n"
     ]
    },
    {
     "name": "stdout",
     "output_type": "stream",
     "text": [
      "\u001b[2m\u001b[36m(DefaultActor pid=96428)\u001b[0m 0.18935552425682545\u001b[32m [repeated 8x across cluster]\u001b[0m\n"
     ]
    },
    {
     "name": "stderr",
     "output_type": "stream",
     "text": [
      "\u001b[2m\u001b[36m(DefaultActor pid=96428)\u001b[0m \r",
      "100%|██████████| 5/5 [00:32<00:00,  6.50s/it]\r",
      "100%|██████████| 5/5 [00:32<00:00,  6.47s/it]\n",
      "\u001b[2m\u001b[36m(DefaultActor pid=96428)\u001b[0m \r",
      "  0%|          | 0/5 [00:00<?, ?it/s]\n",
      "\u001b[2m\u001b[36m(DefaultActor pid=96429)\u001b[0m \r",
      " 80%|████████  | 4/5 [00:27<00:06,  6.94s/it]\u001b[32m [repeated 7x across cluster]\u001b[0m\n"
     ]
    },
    {
     "name": "stdout",
     "output_type": "stream",
     "text": [
      "\u001b[2m\u001b[36m(DefaultActor pid=96431)\u001b[0m 0.06743090303445404\u001b[32m [repeated 9x across cluster]\u001b[0m\n"
     ]
    },
    {
     "name": "stderr",
     "output_type": "stream",
     "text": [
      "\u001b[2m\u001b[36m(DefaultActor pid=96429)\u001b[0m \r",
      "100%|██████████| 5/5 [00:34<00:00,  6.94s/it]\r",
      "100%|██████████| 5/5 [00:34<00:00,  6.93s/it]\u001b[32m [repeated 7x across cluster]\u001b[0m\n",
      "\u001b[2m\u001b[36m(DefaultActor pid=96431)\u001b[0m \r",
      "  0%|          | 0/5 [00:00<?, ?it/s]\n",
      "\u001b[2m\u001b[36m(DefaultActor pid=96431)\u001b[0m \r",
      " 20%|██        | 1/5 [00:04<00:19,  4.85s/it]\u001b[32m [repeated 2x across cluster]\u001b[0m\n"
     ]
    },
    {
     "name": "stdout",
     "output_type": "stream",
     "text": [
      "\u001b[2m\u001b[36m(DefaultActor pid=96428)\u001b[0m 0.14845913597805935\u001b[32m [repeated 3x across cluster]\u001b[0m\n"
     ]
    },
    {
     "name": "stderr",
     "output_type": "stream",
     "text": [
      " 60%|██████    | 3/5 [00:13<00:09,  4.58s/it]\u001b[32m [repeated 3x across cluster]\u001b[0m\n",
      "100%|██████████| 5/5 [00:22<00:00,  4.44s/it]\n",
      " 80%|████████  | 4/5 [00:18<00:04,  4.54s/it]\u001b[32m [repeated 3x across cluster]\u001b[0m\n",
      "DEBUG flwr 2023-11-09 14:26:24,009 | server.py:236 | fit_round 25 received 10 results and 0 failures\n",
      "DEBUG:flwr:fit_round 25 received 10 results and 0 failures\n",
      "DEBUG flwr 2023-11-09 14:26:24,026 | server.py:173 | evaluate_round 25: strategy sampled 20 clients (out of 40)\n",
      "DEBUG:flwr:evaluate_round 25: strategy sampled 20 clients (out of 40)\n"
     ]
    },
    {
     "name": "stdout",
     "output_type": "stream",
     "text": [
      "\u001b[2m\u001b[36m(DefaultActor pid=96431)\u001b[0m 0.06368930366906253\u001b[32m [repeated 4x across cluster]\u001b[0m\n",
      "Saving round 25 aggregated_parameters...\n"
     ]
    },
    {
     "name": "stderr",
     "output_type": "stream",
     "text": [
      "DEBUG flwr 2023-11-09 14:26:24,169 | server.py:187 | evaluate_round 25 received 20 results and 0 failures\n",
      "DEBUG:flwr:evaluate_round 25 received 20 results and 0 failures\n",
      "INFO flwr 2023-11-09 14:26:24,169 | server.py:153 | FL finished in 1338.832986250054\n",
      "INFO:flwr:FL finished in 1338.832986250054\n",
      "INFO flwr 2023-11-09 14:26:24,170 | app.py:225 | app_fit: losses_distributed [(1, 0.0), (2, 0.0), (3, 0.0), (4, 0.0), (5, 0.0), (6, 0.0), (7, 0.0), (8, 0.0), (9, 0.0), (10, 0.0), (11, 0.0), (12, 0.0), (13, 0.0), (14, 0.0), (15, 0.0), (16, 0.0), (17, 0.0), (18, 0.0), (19, 0.0), (20, 0.0), (21, 0.0), (22, 0.0), (23, 0.0), (24, 0.0), (25, 0.0)]\n",
      "INFO:flwr:app_fit: losses_distributed [(1, 0.0), (2, 0.0), (3, 0.0), (4, 0.0), (5, 0.0), (6, 0.0), (7, 0.0), (8, 0.0), (9, 0.0), (10, 0.0), (11, 0.0), (12, 0.0), (13, 0.0), (14, 0.0), (15, 0.0), (16, 0.0), (17, 0.0), (18, 0.0), (19, 0.0), (20, 0.0), (21, 0.0), (22, 0.0), (23, 0.0), (24, 0.0), (25, 0.0)]\n",
      "INFO flwr 2023-11-09 14:26:24,170 | app.py:226 | app_fit: metrics_distributed_fit {'losses': [(1, 0.18385558311700484), (2, 0.13306300722454167), (3, 0.18707960612987254), (4, 0.1756416044502773), (5, 0.1332411878885151), (6, 0.18359323770823802), (7, 0.16401119462849403), (8, 0.17397836282595314), (9, 0.14435163340615956), (10, 0.14785603061688807), (11, 0.1768319181268188), (12, 0.10755527409904805), (13, 0.1232045372188176), (14, 0.13447888740084388), (15, 0.14051476017402653), (16, 0.21126186863095922), (17, 0.15136685233499686), (18, 0.12095148125409402), (19, 0.12892051180591807), (20, 0.15737083448097108), (21, 0.1833246394500814), (22, 0.1267101006610425), (23, 0.14651312305073422), (24, 0.13216061540466564), (25, 0.12049045435491612)]}\n",
      "INFO:flwr:app_fit: metrics_distributed_fit {'losses': [(1, 0.18385558311700484), (2, 0.13306300722454167), (3, 0.18707960612987254), (4, 0.1756416044502773), (5, 0.1332411878885151), (6, 0.18359323770823802), (7, 0.16401119462849403), (8, 0.17397836282595314), (9, 0.14435163340615956), (10, 0.14785603061688807), (11, 0.1768319181268188), (12, 0.10755527409904805), (13, 0.1232045372188176), (14, 0.13447888740084388), (15, 0.14051476017402653), (16, 0.21126186863095922), (17, 0.15136685233499686), (18, 0.12095148125409402), (19, 0.12892051180591807), (20, 0.15737083448097108), (21, 0.1833246394500814), (22, 0.1267101006610425), (23, 0.14651312305073422), (24, 0.13216061540466564), (25, 0.12049045435491612)]}\n",
      "INFO flwr 2023-11-09 14:26:24,171 | app.py:227 | app_fit: metrics_distributed {}\n",
      "INFO:flwr:app_fit: metrics_distributed {}\n",
      "INFO flwr 2023-11-09 14:26:24,171 | app.py:228 | app_fit: losses_centralized []\n",
      "INFO:flwr:app_fit: losses_centralized []\n",
      "INFO flwr 2023-11-09 14:26:24,171 | app.py:229 | app_fit: metrics_centralized {}\n",
      "INFO:flwr:app_fit: metrics_centralized {}\n",
      "\u001b[2m\u001b[36m(DefaultActor pid=96427)\u001b[0m /opt/homebrew/Cellar/python@3.10/3.10.13/Frameworks/Python.framework/Versions/3.10/lib/python3.10/multiprocessing/resource_tracker.py:224: UserWarning: resource_tracker: There appear to be 1 leaked semaphore objects to clean up at shutdown\n",
      "\u001b[2m\u001b[36m(DefaultActor pid=96427)\u001b[0m   warnings.warn('resource_tracker: There appear to be %d '\n"
     ]
    }
   ],
   "source": [
    "# Create FedAvg strategy\n",
    "strategy = SaveModelStrategy(\n",
    "    fraction_fit=0.25,  # Sample 100% of available clients for training\n",
    "    fraction_evaluate=0.5,  # Sample 50% of available clients for evaluation\n",
    "    min_fit_clients=10,  # Never sample less than 10 clients for training\n",
    "    min_evaluate_clients=5,  # Never sample less than 5 clients for evaluation\n",
    "    min_available_clients=40,  # Wait until all 10 clients are available\n",
    "    fit_metrics_aggregation_fn= agg\n",
    ")\n",
    "\n",
    "# Specify client resources if you need GPU (defaults to 1 CPU and 0 GPU)\n",
    "client_resources = None\n",
    "if DEVICE.type == \"cuda\":\n",
    "    client_resources = {\"num_gpus\": 1}\n",
    "\n",
    "# Start simulation\n",
    "res = fl.simulation.start_simulation(\n",
    "    client_fn=client_fn,\n",
    "    num_clients=40,\n",
    "    config=fl.server.ServerConfig(num_rounds=25),\n",
    "    strategy=strategy,\n",
    "    client_resources=client_resources,\n",
    ")\n"
   ]
  },
  {
   "cell_type": "markdown",
   "id": "6b03156e",
   "metadata": {},
   "source": [
    "# Training performance"
   ]
  },
  {
   "cell_type": "code",
   "execution_count": 64,
   "id": "2dc0a7cd",
   "metadata": {},
   "outputs": [
    {
     "data": {
      "image/png": "[encoded data removed]",
      "text/plain": [
       "<Figure size 640x480 with 1 Axes>"
      ]
     },
     "metadata": {},
     "output_type": "display_data"
    }
   ],
   "source": [
    "model_name = 'lstm' if use_lstm else 'rnn'\n",
    "train_losses = [x[1] for x in res.metrics_distributed_fit['losses']]\n",
    "plt.plot(train_losses, label='Loss')\n",
    "plt.legend()\n",
    "plot_title = f'Training performance, {model_name}'\n",
    "plt.title(plot_title)\n",
    "plt.grid(False)\n",
    "plt.savefig(f\"./regression_training_loss_{model_name}.pdf\", format=\"pdf\", bbox_inches=\"tight\")\n",
    "plt.xlabel('Optimization rounds')\n",
    "plt.ylabel('MSE')\n",
    "plt.show()"
   ]
  },
  {
   "cell_type": "markdown",
   "id": "509c79c1",
   "metadata": {},
   "source": [
    "# Evaluate on test"
   ]
  },
  {
   "cell_type": "code",
   "execution_count": 65,
   "id": "68e3a89f",
   "metadata": {},
   "outputs": [
    {
     "data": {
      "text/plain": [
       "<All keys matched successfully>"
      ]
     },
     "execution_count": 65,
     "metadata": {},
     "output_type": "execute_result"
    }
   ],
   "source": [
    "model_round = 25\n",
    "net = MyRNN(hid_size=hidden_size, LSTM=use_lstm)\n",
    "net.load_state_dict(torch.load(f\"regression_model_{model_name}_round_{model_round}.pth\"), strict=False)"
   ]
  },
  {
   "cell_type": "markdown",
   "id": "368d1e1d",
   "metadata": {},
   "source": [
    "### Evaluate over the whole test dataset"
   ]
  },
  {
   "cell_type": "code",
   "execution_count": 66,
   "id": "7d1fcdc5",
   "metadata": {},
   "outputs": [
    {
     "name": "stderr",
     "output_type": "stream",
     "text": [
      "100%|█████████████████████████████████████████████████████████████████████████████████████████████████████████████████████████████████████████████████████████████████████████████████| 10/10 [00:49<00:00,  4.96s/it]"
     ]
    },
    {
     "name": "stdout",
     "output_type": "stream",
     "text": [
      "Total test MSE: 0.08760503698140383\n"
     ]
    },
    {
     "name": "stderr",
     "output_type": "stream",
     "text": [
      "\n"
     ]
    }
   ],
   "source": [
    "mse = []\n",
    "for i in trange(41, 51):\n",
    "    eval_dataset = RegressionData(f'./data/Consumer{i}.csv')\n",
    "    loss, _ = test(net, eval_dataset)\n",
    "    mse += loss\n",
    "print(f'Total test MSE: {np.mean(mse)}')"
   ]
  },
  {
   "cell_type": "markdown",
   "id": "7da798f5",
   "metadata": {},
   "source": [
    "### Per consumer"
   ]
  },
  {
   "cell_type": "code",
   "execution_count": 67,
   "id": "afab24d4",
   "metadata": {},
   "outputs": [],
   "source": [
    "eval_dataset = RegressionData(f'./data/Consumer49.csv')"
   ]
  },
  {
   "cell_type": "code",
   "execution_count": 68,
   "id": "c8829022",
   "metadata": {},
   "outputs": [],
   "source": [
    "loss, outs = test(net, eval_dataset)"
   ]
  },
  {
   "cell_type": "code",
   "execution_count": 69,
   "id": "4a5a6dd7",
   "metadata": {},
   "outputs": [
    {
     "data": {
      "image/png": "[encoded data removed]",
      "text/plain": [
       "<Figure size 640x480 with 1 Axes>"
      ]
     },
     "metadata": {},
     "output_type": "display_data"
    }
   ],
   "source": [
    "plt.plot(outs[:96], label='Predicted')\n",
    "plt.plot(eval_dataset[0][1][:95, 1], label='True')\n",
    "plt.legend()\n",
    "plt.show()"
   ]
  },
  {
   "cell_type": "markdown",
   "id": "8635841b",
   "metadata": {},
   "source": [
    "# Analysis"
   ]
  },
  {
   "cell_type": "code",
   "execution_count": 167,
   "id": "951634d6",
   "metadata": {},
   "outputs": [
    {
     "data": {
      "image/png": "[encoded data removed]",
      "text/plain": [
       "<Figure size 640x480 with 1 Axes>"
      ]
     },
     "metadata": {},
     "output_type": "display_data"
    }
   ],
   "source": [
    "plt.plot(outs, label='Predicted')\n",
    "plt.legend()\n",
    "plt.show()"
   ]
  },
  {
   "cell_type": "code",
   "execution_count": null,
   "id": "e662e30e",
   "metadata": {},
   "outputs": [],
   "source": []
  }
 ],
 "metadata": {
  "kernelspec": {
   "display_name": "Python 3 (ipykernel)",
   "language": "python",
   "name": "python3"
  },
  "language_info": {
   "codemirror_mode": {
    "name": "ipython",
    "version": 3
   },
   "file_extension": ".py",
   "mimetype": "text/x-python",
   "name": "python",
   "nbconvert_exporter": "python",
   "pygments_lexer": "ipython3",
   "version": "3.10.13"
  }
 },
 "nbformat": 4,
 "nbformat_minor": 5
}
