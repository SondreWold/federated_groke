{
 "cells": [
  {
   "cell_type": "code",
   "execution_count": 1,
   "id": "ef7e1e1a",
   "metadata": {},
   "outputs": [
    {
     "name": "stderr",
     "output_type": "stream",
     "text": [
      "/opt/homebrew/lib/python3.10/site-packages/torchvision/io/image.py:13: UserWarning: Failed to load image Python extension: dlopen(/opt/homebrew/lib/python3.10/site-packages/torchvision/image.so, 0x0006): Symbol not found: __ZN3c106detail19maybe_wrap_dim_slowExxb\n",
      "  Referenced from: <0B637046-A38B-3A5C-80C6-E847C27DCCD5> /opt/homebrew/lib/python3.10/site-packages/torchvision/image.so\n",
      "  Expected in:     <3AE92490-D363-3FD7-8532-CB6F5F795BC8> /opt/homebrew/lib/python3.10/site-packages/torch/lib/libc10.dylib\n",
      "  warn(f\"Failed to load image Python extension: {e}\")\n",
      "/opt/homebrew/lib/python3.10/site-packages/tqdm/auto.py:22: TqdmWarning: IProgress not found. Please update jupyter and ipywidgets. See https://ipywidgets.readthedocs.io/en/stable/user_install.html\n",
      "  from .autonotebook import tqdm as notebook_tqdm\n",
      "2023-11-09 10:39:56,311\tINFO util.py:159 -- Missing packages: ['ipywidgets']. Run `pip install -U ipywidgets`, then restart the notebook server for rich notebook output.\n"
     ]
    }
   ],
   "source": [
    "from torch.utils.data import DataLoader, Dataset\n",
    "import pandas as pd\n",
    "import torch\n",
    "from collections import OrderedDict\n",
    "from typing import List, Tuple\n",
    "import matplotlib.pyplot as plt\n",
    "import numpy as np\n",
    "import torch\n",
    "import torch.nn as nn\n",
    "import torch.nn.functional as F\n",
    "import torchvision\n",
    "import torchvision.transforms as transforms\n",
    "from torch.utils.data import DataLoader, random_split\n",
    "from torchvision.datasets import CIFAR10\n",
    "import flwr as fl\n",
    "from flwr.common import Metrics\n",
    "import random\n",
    "import torch.nn as nn\n",
    "from typing import Union, Optional\n",
    "from sklearn.preprocessing import MinMaxScaler\n",
    "from sklearn.metrics import confusion_matrix\n",
    "from tqdm import tqdm, trange\n",
    "import pickle\n",
    "import seaborn as sns\n",
    "DEVICE = torch.device(\"cpu\")"
   ]
  },
  {
   "cell_type": "code",
   "execution_count": 2,
   "id": "e3d18683",
   "metadata": {},
   "outputs": [],
   "source": [
    "with open('./data/classification_data.pkl', 'rb') as f:\n",
    "            data = pickle.load(f)"
   ]
  },
  {
   "cell_type": "code",
   "execution_count": 3,
   "id": "3746a5ea",
   "metadata": {},
   "outputs": [],
   "source": [
    "l2idx = {l:i for i, l in enumerate(set([y for _, y in data['Consumer1']]))}"
   ]
  },
  {
   "cell_type": "code",
   "execution_count": 4,
   "id": "e01d3e72",
   "metadata": {},
   "outputs": [],
   "source": [
    "class ClassificationData(Dataset):\n",
    "    def __init__(self, data):\n",
    "        self.x = [x for x, _ in data]\n",
    "        self.Y = [y for _, y in data]\n",
    "        self.l2idx = {l:i for i, l in enumerate(sorted(list(set(self.Y))))}\n",
    "        self.idx2l = {i:l for l, i in l2idx.items()}\n",
    "        \n",
    "    def __len__(self):\n",
    "        return len(self.Y)\n",
    "    \n",
    "    def __getitem__(self, i):\n",
    "        return torch.tensor(self.x[i], dtype=torch.float), torch.tensor(self.l2idx[self.Y[i]], dtype=torch.long)"
   ]
  },
  {
   "cell_type": "code",
   "execution_count": 5,
   "id": "1aa50e31",
   "metadata": {},
   "outputs": [],
   "source": [
    "class MultiToOneRNN(nn.Module):\n",
    "    def __init__(self, hidden_size, num_layers=2, output_size=10, LSTM=False, bidirectional=False):\n",
    "        super(MultiToOneRNN, self).__init__()\n",
    "        self.hidden_size = hidden_size\n",
    "        self.LSTM = LSTM\n",
    "        self.num_layers = num_layers\n",
    "        self.bidirectional = bidirectional\n",
    "        self.directions = 1 if not self.bidirectional else 2\n",
    "        if LSTM:\n",
    "            self.rnn = nn.LSTM(input_size=1, hidden_size=self.hidden_size, num_layers=num_layers, batch_first=True, bidirectional=self.bidirectional)\n",
    "        else:\n",
    "            self.rnn = nn.RNN(input_size=1, hidden_size=self.hidden_size, num_layers=num_layers, batch_first=True, bidirectional=self.bidirectional)\n",
    "            \n",
    "        self.fc1 = nn.Linear(self.hidden_size*self.directions, output_size)\n",
    "        #self.fc2 = nn.Linear(self.hidden_size, output_size)\n",
    "        \n",
    "    def forward(self, inputs, hidden_state, cell=None):\n",
    "        if self.LSTM:\n",
    "            output, (hidden_states, cell) = self.rnn(inputs, (hidden_state, cell))\n",
    "        else:\n",
    "            output, hidden_states = self.rnn(inputs, hidden_state)\n",
    "        output = self.fc1(output)\n",
    "        return output, hidden_states, cell"
   ]
  },
  {
   "cell_type": "code",
   "execution_count": 6,
   "id": "8046746a",
   "metadata": {},
   "outputs": [],
   "source": [
    "epochs = 5\n",
    "def train(net, train_loader, lr):\n",
    "    \"\"\"Train the network on the training set.\"\"\"\n",
    "    criterion = torch.nn.CrossEntropyLoss()\n",
    "    optimizer = torch.optim.AdamW(net.parameters(), lr=lr)\n",
    "    num_layers = net.num_layers\n",
    "    batch_size = train_loader.batch_size\n",
    "    val_losses = []\n",
    "    directions = 1 if not net.bidirectional else 2\n",
    "    for epoch in range(epochs):\n",
    "        net.train()\n",
    "        total_loss = 0.0\n",
    "        golds = []\n",
    "        preds = []\n",
    "        for x, Y in tqdm(train_loader):\n",
    "            Y = Y.to(DEVICE)\n",
    "            x = x.to(DEVICE).view(batch_size, -1, 1)\n",
    "            hidden = torch.zeros((num_layers*directions, batch_size, net.hidden_size)).to(DEVICE)\n",
    "            cell = torch.zeros((num_layers*directions, batch_size, net.hidden_size)).to(DEVICE)\n",
    "            outs, hidden, cell = net(x, hidden, cell)\n",
    "            loss = criterion(outs[:, -1], Y)    \n",
    "            loss.backward()\n",
    "            optimizer.step()\n",
    "            total_loss += loss.item()\n",
    "            pred = torch.argmax((F.softmax(outs[:, -1], dim=-1)), dim=-1)\n",
    "            preds += pred.tolist()\n",
    "            golds += Y.tolist()\n",
    "            optimizer.zero_grad()\n",
    "        val_losses.append(total_loss / len(train_loader))\n",
    "        acc = np.mean((np.array(golds) == np.array(preds)))\n",
    "        print(f' Training loss for epoch {epoch}: {total_loss / len(train_loader)}, accuracy: {acc}')\n",
    "       \n",
    "    return val_losses"
   ]
  },
  {
   "cell_type": "markdown",
   "id": "ec0dd6f7",
   "metadata": {},
   "source": [
    "# Non-Federated learning (sanity check on train set )"
   ]
  },
  {
   "cell_type": "code",
   "execution_count": null,
   "id": "0e1d2d34",
   "metadata": {},
   "outputs": [],
   "source": [
    "data_plus = []\n",
    "for consumer in data:\n",
    "    data_plus += data[consumer]"
   ]
  },
  {
   "cell_type": "code",
   "execution_count": null,
   "id": "87a491a4",
   "metadata": {},
   "outputs": [],
   "source": [
    "train_data = ClassificationData(data_plus)"
   ]
  },
  {
   "cell_type": "code",
   "execution_count": null,
   "id": "6bca6502",
   "metadata": {},
   "outputs": [],
   "source": [
    "train_loader = DataLoader(train_data, batch_size=16, shuffle=True, drop_last=True)"
   ]
  },
  {
   "cell_type": "code",
   "execution_count": null,
   "id": "fec25596",
   "metadata": {},
   "outputs": [],
   "source": [
    "model = MultiToOneRNN(64, LSTM=False, bidirectional=True).to(DEVICE)"
   ]
  },
  {
   "cell_type": "code",
   "execution_count": null,
   "id": "56015480",
   "metadata": {},
   "outputs": [],
   "source": [
    "losses = train(model, train_loader)"
   ]
  },
  {
   "cell_type": "code",
   "execution_count": null,
   "id": "dbaec185",
   "metadata": {},
   "outputs": [],
   "source": [
    "plt.plot(losses)"
   ]
  },
  {
   "cell_type": "markdown",
   "id": "bf91e398",
   "metadata": {},
   "source": [
    "# Federated learning"
   ]
  },
  {
   "cell_type": "code",
   "execution_count": 47,
   "id": "2c11e5ba",
   "metadata": {},
   "outputs": [],
   "source": [
    "batch_size = 16\n",
    "hidden_size = 256\n",
    "learning_rate = 3e-4\n",
    "USE_LSTM = True\n",
    "ROUNDS = 25"
   ]
  },
  {
   "cell_type": "code",
   "execution_count": 48,
   "id": "5c39888c",
   "metadata": {},
   "outputs": [],
   "source": [
    "def get_parameters(net) -> List[np.ndarray]:\n",
    "    return [val.cpu().numpy() for _, val in net.state_dict().items()]\n",
    "\n",
    "def set_parameters(net, parameters: List[np.ndarray]):\n",
    "    params_dict = zip(net.state_dict().keys(), parameters)\n",
    "    state_dict = OrderedDict({k: torch.Tensor(v) for k, v in params_dict})\n",
    "    net.load_state_dict(state_dict, strict=True)"
   ]
  },
  {
   "cell_type": "code",
   "execution_count": 49,
   "id": "ebc140fb",
   "metadata": {},
   "outputs": [],
   "source": [
    "class FlowerClient(fl.client.NumPyClient):\n",
    "    def __init__(self, net, dataset):\n",
    "        self.net = net\n",
    "        self.dataset = dataset\n",
    "        self.losses = []\n",
    "\n",
    "    def get_parameters(self, config):\n",
    "        return get_parameters(self.net)\n",
    "\n",
    "    def fit(self, parameters, config):\n",
    "        set_parameters(self.net, parameters)\n",
    "        loss = train(self.net, self.dataset, lr=learning_rate)\n",
    "        self.losses = loss\n",
    "        return get_parameters(self.net), len(self.dataset), {'loss': np.mean(loss)}\n",
    "\n",
    "    def evaluate(self, parameters, config):\n",
    "        set_parameters(self.net, parameters)\n",
    "        return 0.0, 1, {}\n",
    "\n",
    "\n",
    "def client_fn(cid: str) -> FlowerClient:\n",
    "    \"\"\"Create a Flower client representing a single organization.\"\"\"\n",
    "    # Load model\n",
    "    cid = int(cid) + 1\n",
    "    net = MultiToOneRNN(hidden_size=hidden_size, LSTM=USE_LSTM).to(DEVICE)\n",
    "    d = ClassificationData(data[f'Consumer{cid}'])\n",
    "    train_loader = DataLoader(d, batch_size=batch_size, shuffle=True, drop_last=True)\n",
    "\n",
    "    # Create a  single Flower client representing a single organization\n",
    "    return FlowerClient(net, train_loader)\n",
    "\n",
    "\n",
    "class SaveModelStrategy(fl.server.strategy.FedAvg):\n",
    "    def aggregate_fit(\n",
    "        self,\n",
    "        server_round: int,\n",
    "        results: List[Tuple[fl.server.client_proxy.ClientProxy, fl.common.FitRes]],\n",
    "        failures: List[Union[Tuple[fl.server.client_proxy.ClientProxy, fl.common.FitRes], BaseException]],\n",
    "    ):\n",
    "        \"\"\"Aggregate model weights using weighted average and store checkpoint\"\"\"\n",
    "        net = MultiToOneRNN(hidden_size=hidden_size, LSTM=USE_LSTM).to(DEVICE)\n",
    "\n",
    "        # Call aggregate_fit from base class (FedAvg) to aggregate parameters and metrics\n",
    "        aggregated_parameters, aggregated_metrics = super().aggregate_fit(server_round, results, failures)\n",
    "\n",
    "        if aggregated_parameters is not None:\n",
    "            print(f\"Saving round {server_round} aggregated_parameters...\", flush=True)\n",
    "\n",
    "            # Convert `Parameters` to `List[np.ndarray]`\n",
    "            aggregated_ndarrays: List[np.ndarray] = fl.common.parameters_to_ndarrays(aggregated_parameters)\n",
    "\n",
    "            # Convert `List[np.ndarray]` to PyTorch`state_dict`\n",
    "            params_dict = zip(net.state_dict().keys(), aggregated_ndarrays)\n",
    "            state_dict = OrderedDict({k: torch.tensor(v) for k, v in params_dict})\n",
    "            net.load_state_dict(state_dict, strict=True)\n",
    "\n",
    "            # Save the model\n",
    "            model_name = 'lstm' if USE_LSTM else 'rnn'\n",
    "            torch.save(net.state_dict(), f\"classification_model_{model_name}_round_{server_round}.pth\")\n",
    "            print(f\"Saved round {server_round} aggregated_parameters!\", flush=True)\n",
    "\n",
    "\n",
    "        return aggregated_parameters, aggregated_metrics\n",
    "\n",
    "def agg(metrics):\n",
    "    losses = np.mean([m[-1][\"loss\"] for m in metrics])\n",
    "    return {'losses': losses}\n",
    "\n"
   ]
  },
  {
   "cell_type": "code",
   "execution_count": 50,
   "id": "13fdaf32",
   "metadata": {},
   "outputs": [
    {
     "name": "stderr",
     "output_type": "stream",
     "text": [
      "INFO flwr 2023-11-09 11:37:57,014 | app.py:175 | Starting Flower simulation, config: ServerConfig(num_rounds=25, round_timeout=None)\n",
      "INFO:flwr:Starting Flower simulation, config: ServerConfig(num_rounds=25, round_timeout=None)\n",
      "2023-11-09 11:38:00,469\tINFO worker.py:1642 -- Started a local Ray instance.\n",
      "INFO flwr 2023-11-09 11:38:00,987 | app.py:210 | Flower VCE: Ray initialized with resources: {'memory': 8231487079.0, 'node:127.0.0.1': 1.0, 'node:__internal_head__': 1.0, 'CPU': 8.0, 'object_store_memory': 2147483648.0}\n",
      "INFO:flwr:Flower VCE: Ray initialized with resources: {'memory': 8231487079.0, 'node:127.0.0.1': 1.0, 'node:__internal_head__': 1.0, 'CPU': 8.0, 'object_store_memory': 2147483648.0}\n",
      "INFO flwr 2023-11-09 11:38:00,988 | app.py:218 | No `client_resources` specified. Using minimal resources for clients.\n",
      "INFO:flwr:No `client_resources` specified. Using minimal resources for clients.\n",
      "INFO flwr 2023-11-09 11:38:00,988 | app.py:224 | Flower VCE: Resources for each Virtual Client: {'num_cpus': 1, 'num_gpus': 0.0}\n",
      "INFO:flwr:Flower VCE: Resources for each Virtual Client: {'num_cpus': 1, 'num_gpus': 0.0}\n",
      "INFO flwr 2023-11-09 11:38:00,999 | app.py:270 | Flower VCE: Creating VirtualClientEngineActorPool with 8 actors\n",
      "INFO:flwr:Flower VCE: Creating VirtualClientEngineActorPool with 8 actors\n",
      "INFO flwr 2023-11-09 11:38:01,000 | server.py:89 | Initializing global parameters\n",
      "INFO:flwr:Initializing global parameters\n",
      "INFO flwr 2023-11-09 11:38:01,001 | server.py:276 | Requesting initial parameters from one random client\n",
      "INFO:flwr:Requesting initial parameters from one random client\n",
      "INFO flwr 2023-11-09 11:38:03,526 | server.py:280 | Received initial parameters from one random client\n",
      "INFO:flwr:Received initial parameters from one random client\n",
      "INFO flwr 2023-11-09 11:38:03,527 | server.py:91 | Evaluating initial parameters\n",
      "INFO:flwr:Evaluating initial parameters\n",
      "INFO flwr 2023-11-09 11:38:03,527 | server.py:104 | FL starting\n",
      "INFO:flwr:FL starting\n",
      "DEBUG flwr 2023-11-09 11:38:03,528 | server.py:222 | fit_round 1: strategy sampled 10 clients (out of 40)\n",
      "DEBUG:flwr:fit_round 1: strategy sampled 10 clients (out of 40)\n",
      "  0%|          | 0/228 [00:00<?, ?it/s]\n",
      "  1%|          | 2/228 [00:00<00:17, 12.96it/s]\n",
      "  2%|▏         | 4/228 [00:00<00:16, 13.92it/s]\n",
      "  3%|▎         | 6/228 [00:00<00:14, 14.81it/s]\n",
      "  4%|▎         | 8/228 [00:00<00:13, 15.71it/s]\n",
      "  4%|▍         | 10/228 [00:00<00:13, 16.36it/s]\n",
      "  5%|▌         | 12/228 [00:00<00:12, 17.03it/s]\n",
      "  6%|▌         | 14/228 [00:00<00:12, 17.14it/s]\n",
      "  7%|▋         | 16/228 [00:01<00:13, 15.97it/s]\n",
      "  8%|▊         | 18/228 [00:01<00:13, 15.33it/s]\n",
      "  9%|▉         | 20/228 [00:01<00:13, 15.14it/s]\n",
      " 10%|▉         | 22/228 [00:01<00:13, 15.27it/s]\n",
      " 11%|█         | 24/228 [00:01<00:12, 15.83it/s]\n",
      "  0%|          | 0/228 [00:00<?, ?it/s]\u001b[32m [repeated 4x across cluster]\u001b[0m\n",
      " 11%|█▏        | 26/228 [00:02<00:22,  8.86it/s]\u001b[32m [repeated 70x across cluster]\u001b[0m\n",
      "  4%|▎         | 8/228 [00:00<00:26,  8.28it/s]\n",
      "  0%|          | 0/228 [00:00<?, ?it/s]\u001b[32m [repeated 3x across cluster]\u001b[0m\n",
      " 25%|██▌       | 58/228 [00:06<00:19,  8.71it/s]\u001b[32m [repeated 245x across cluster]\u001b[0m\n",
      "  7%|▋         | 15/228 [00:01<00:25,  8.33it/s]\u001b[32m [repeated 4x across cluster]\u001b[0m\n",
      " 43%|████▎     | 97/228 [00:11<00:16,  7.98it/s]\u001b[32m [repeated 305x across cluster]\u001b[0m\n",
      " 41%|████      | 94/228 [00:11<00:16,  8.19it/s]\n",
      " 61%|██████    | 138/228 [00:16<00:10,  8.31it/s]\u001b[32m [repeated 303x across cluster]\u001b[0m\n",
      " 50%|█████     | 114/228 [00:13<00:13,  8.38it/s]\u001b[32m [repeated 4x across cluster]\u001b[0m\n",
      " 92%|█████████▏| 209/228 [00:21<00:02,  9.07it/s]\n",
      " 92%|█████████▏| 210/228 [00:22<00:01,  9.09it/s]\n",
      " 93%|█████████▎| 211/228 [00:22<00:01,  9.16it/s]\n",
      " 93%|█████████▎| 212/228 [00:22<00:01,  8.65it/s]\n",
      " 93%|█████████▎| 213/228 [00:22<00:01,  8.68it/s]\n",
      " 94%|█████████▍| 214/228 [00:22<00:01,  8.53it/s]\n",
      " 94%|█████████▍| 215/228 [00:22<00:01,  8.52it/s]\n",
      " 95%|█████████▍| 216/228 [00:22<00:01,  8.57it/s]\n",
      " 95%|█████████▌| 217/228 [00:22<00:01,  8.55it/s]\n",
      " 96%|█████████▌| 218/228 [00:22<00:01,  8.66it/s]\n",
      " 96%|█████████▌| 219/228 [00:23<00:01,  8.59it/s]\n",
      " 96%|█████████▋| 220/228 [00:23<00:00,  8.26it/s]\n",
      " 97%|█████████▋| 221/228 [00:23<00:00,  8.04it/s]\n",
      " 97%|█████████▋| 222/228 [00:23<00:00,  8.35it/s]\n",
      " 98%|█████████▊| 224/228 [00:23<00:00,  8.46it/s]\n",
      " 99%|█████████▊| 225/228 [00:23<00:00,  8.40it/s]\n",
      " 99%|█████████▉| 226/228 [00:23<00:00,  8.34it/s]\n",
      "100%|█████████▉| 227/228 [00:24<00:00,  8.29it/s]\n",
      "100%|██████████| 228/228 [00:24<00:00,  9.41it/s]\n",
      "  0%|          | 0/228 [00:00<?, ?it/s]\n"
     ]
    },
    {
     "name": "stdout",
     "output_type": "stream",
     "text": [
      "\u001b[2m\u001b[36m(DefaultActor pid=92320)\u001b[0m  Training loss for epoch 0: 2.2949662501351877, accuracy: 0.11321271929824561\n"
     ]
    },
    {
     "name": "stderr",
     "output_type": "stream",
     "text": [
      " 78%|███████▊  | 178/228 [00:21<00:06,  7.96it/s]\u001b[32m [repeated 278x across cluster]\u001b[0m\n",
      " 66%|██████▌   | 150/228 [00:18<00:09,  8.16it/s]\u001b[32m [repeated 4x across cluster]\u001b[0m\n",
      " 99%|█████████▊| 225/228 [00:25<00:00,  8.40it/s]\u001b[32m [repeated 15x across cluster]\u001b[0m\n",
      "  0%|          | 0/228 [00:00<?, ?it/s]\n",
      "  0%|          | 0/228 [00:00<?, ?it/s]\n"
     ]
    },
    {
     "name": "stdout",
     "output_type": "stream",
     "text": [
      "\u001b[2m\u001b[36m(DefaultActor pid=92318)\u001b[0m  Training loss for epoch 0: 2.2526672472033584, accuracy: 0.12746710526315788\u001b[32m [repeated 2x across cluster]\u001b[0m\n"
     ]
    },
    {
     "name": "stderr",
     "output_type": "stream",
     "text": [
      " 13%|█▎        | 29/228 [00:03<00:25,  7.89it/s]\u001b[32m [repeated 265x across cluster]\u001b[0m\n",
      "  7%|▋         | 15/228 [00:01<00:24,  8.77it/s]\u001b[32m [repeated 2x across cluster]\u001b[0m\n",
      " 95%|█████████▌| 217/228 [00:24<00:01,  8.38it/s]\u001b[32m [repeated 72x across cluster]\u001b[0m\n",
      "  0%|          | 0/228 [00:00<?, ?it/s]\u001b[32m [repeated 4x across cluster]\u001b[0m\n",
      "  7%|▋         | 16/228 [00:01<00:26,  7.92it/s]\u001b[32m [repeated 242x across cluster]\u001b[0m\n",
      " 40%|███▉      | 91/228 [00:10<00:16,  8.31it/s]\u001b[32m [repeated 6x across cluster]\u001b[0m\n"
     ]
    },
    {
     "name": "stdout",
     "output_type": "stream",
     "text": [
      "\u001b[2m\u001b[36m(DefaultActor pid=92313)\u001b[0m  Training loss for epoch 0: 2.2572054732264135, accuracy: 0.13349780701754385\u001b[32m [repeated 5x across cluster]\u001b[0m\n"
     ]
    },
    {
     "name": "stderr",
     "output_type": "stream",
     "text": [
      "100%|██████████| 228/228 [00:28<00:00,  7.97it/s]\u001b[32m [repeated 44x across cluster]\u001b[0m\n",
      "  0%|          | 0/228 [00:00<?, ?it/s]\n",
      " 32%|███▏      | 74/228 [00:08<00:19,  7.82it/s]\u001b[32m [repeated 293x across cluster]\u001b[0m\n",
      " 25%|██▍       | 56/228 [00:06<00:20,  8.35it/s]\u001b[32m [repeated 5x across cluster]\u001b[0m\n",
      " 50%|█████     | 114/228 [00:13<00:14,  8.07it/s]\u001b[32m [repeated 298x across cluster]\u001b[0m\n",
      " 51%|█████     | 116/228 [00:14<00:12,  8.95it/s]\u001b[32m [repeated 6x across cluster]\u001b[0m\n",
      " 92%|█████████▏| 209/228 [00:24<00:02,  8.69it/s]\n",
      " 93%|█████████▎| 211/228 [00:24<00:01,  9.31it/s]\n",
      " 93%|█████████▎| 212/228 [00:25<00:01,  9.19it/s]\n",
      " 93%|█████████▎| 213/228 [00:25<00:01,  8.23it/s]\n",
      " 94%|█████████▍| 214/228 [00:25<00:01,  8.03it/s]\n",
      " 95%|█████████▍| 216/228 [00:25<00:01,  8.71it/s]\n",
      " 95%|█████████▌| 217/228 [00:25<00:01,  8.83it/s]\n",
      " 96%|█████████▌| 218/228 [00:25<00:01,  8.52it/s]\n",
      " 96%|█████████▌| 219/228 [00:25<00:01,  8.22it/s]\n",
      " 96%|█████████▋| 220/228 [00:26<00:01,  7.80it/s]\n",
      " 97%|█████████▋| 221/228 [00:26<00:00,  7.98it/s]\n",
      " 88%|████████▊ | 201/228 [00:23<00:03,  8.21it/s]\u001b[32m [repeated 294x across cluster]\u001b[0m\n",
      " 97%|█████████▋| 222/228 [00:26<00:00,  8.19it/s]\n",
      " 98%|█████████▊| 223/228 [00:26<00:00,  8.04it/s]\n",
      " 98%|█████████▊| 224/228 [00:26<00:00,  7.87it/s]\n",
      " 71%|███████   | 161/228 [00:19<00:07,  8.57it/s]\u001b[32m [repeated 8x across cluster]\u001b[0m\n",
      " 99%|█████████▊| 225/228 [00:26<00:00,  8.20it/s]\n",
      " 99%|█████████▉| 226/228 [00:26<00:00,  8.32it/s]\n",
      "100%|█████████▉| 227/228 [00:26<00:00,  8.61it/s]\n",
      "100%|██████████| 228/228 [00:27<00:00,  8.44it/s]\n",
      "  0%|          | 0/228 [00:00<?, ?it/s]\n"
     ]
    },
    {
     "name": "stdout",
     "output_type": "stream",
     "text": [
      "\u001b[2m\u001b[36m(DefaultActor pid=92320)\u001b[0m  Training loss for epoch 1: 2.1788111219280646, accuracy: 0.16282894736842105\n",
      "\u001b[2m\u001b[36m(DefaultActor pid=92319)\u001b[0m  Training loss for epoch 1: 2.3038426888616463, accuracy: 0.09292763157894737\n"
     ]
    },
    {
     "name": "stderr",
     "output_type": "stream",
     "text": [
      "100%|██████████| 228/228 [00:26<00:00,  8.56it/s]\u001b[32m [repeated 19x across cluster]\u001b[0m\n",
      " 86%|████████▋ | 197/228 [00:24<00:03,  7.90it/s]\u001b[32m [repeated 267x across cluster]\u001b[0m\n",
      " 66%|██████▌   | 150/228 [00:18<00:09,  8.11it/s]\u001b[32m [repeated 9x across cluster]\u001b[0m\n",
      "  0%|          | 0/228 [00:00<?, ?it/s]\n",
      "  0%|          | 0/228 [00:00<?, ?it/s]\n",
      " 99%|█████████▉| 226/228 [00:27<00:00,  8.12it/s]\u001b[32m [repeated 63x across cluster]\u001b[0m\n"
     ]
    },
    {
     "name": "stdout",
     "output_type": "stream",
     "text": [
      "\u001b[2m\u001b[36m(DefaultActor pid=92317)\u001b[0m  Training loss for epoch 1: 2.3094406588035716, accuracy: 0.10279605263157894\u001b[32m [repeated 3x across cluster]\u001b[0m\n"
     ]
    },
    {
     "name": "stderr",
     "output_type": "stream",
     "text": [
      "  4%|▍         | 9/228 [00:01<00:30,  7.28it/s]\u001b[32m [repeated 219x across cluster]\u001b[0m\n",
      " 29%|██▉       | 67/228 [00:08<00:19,  8.06it/s]\u001b[32m [repeated 6x across cluster]\u001b[0m\n",
      "  0%|          | 0/228 [00:00<?, ?it/s]\u001b[32m [repeated 4x across cluster]\u001b[0m\n",
      " 95%|█████████▌| 217/228 [00:27<00:01,  8.12it/s]\u001b[32m [repeated 36x across cluster]\u001b[0m\n"
     ]
    },
    {
     "name": "stdout",
     "output_type": "stream",
     "text": [
      "\u001b[2m\u001b[36m(DefaultActor pid=92313)\u001b[0m  Training loss for epoch 1: 2.0240500062181237, accuracy: 0.23739035087719298\u001b[32m [repeated 3x across cluster]\u001b[0m\n"
     ]
    },
    {
     "name": "stderr",
     "output_type": "stream",
     "text": [
      " 22%|██▏       | 50/228 [00:06<00:20,  8.57it/s]\u001b[32m [repeated 280x across cluster]\u001b[0m\n",
      " 16%|█▌        | 36/228 [00:04<00:21,  8.91it/s]\u001b[32m [repeated 4x across cluster]\u001b[0m\n",
      "  0%|          | 0/228 [00:00<?, ?it/s]\n",
      "100%|██████████| 228/228 [00:28<00:00,  8.04it/s]\u001b[32m [repeated 9x across cluster]\u001b[0m\n",
      " 66%|██████▌   | 151/228 [00:16<00:08,  8.77it/s]\u001b[32m [repeated 305x across cluster]\u001b[0m\n",
      " 27%|██▋       | 62/228 [00:07<00:20,  8.29it/s]\u001b[32m [repeated 7x across cluster]\u001b[0m\n",
      " 63%|██████▎   | 144/228 [00:17<00:10,  7.65it/s]\u001b[32m [repeated 310x across cluster]\u001b[0m\n",
      " 60%|██████    | 137/228 [00:15<00:11,  7.88it/s]\u001b[32m [repeated 6x across cluster]\u001b[0m\n",
      " 92%|█████████▏| 209/228 [00:24<00:02,  8.48it/s]\n",
      " 92%|█████████▏| 210/228 [00:25<00:02,  8.19it/s]\n",
      " 93%|█████████▎| 211/228 [00:25<00:02,  8.49it/s]\n",
      " 93%|█████████▎| 212/228 [00:25<00:01,  8.56it/s]\n",
      " 93%|█████████▎| 213/228 [00:25<00:01,  8.43it/s]\n",
      " 94%|█████████▍| 214/228 [00:25<00:01,  8.23it/s]\n",
      " 94%|█████████▍| 215/228 [00:25<00:01,  8.01it/s]\n",
      " 95%|█████████▍| 216/228 [00:25<00:01,  8.29it/s]\n",
      " 95%|█████████▌| 217/228 [00:25<00:01,  8.18it/s]\n",
      "  0%|          | 0/228 [00:00<?, ?it/s]\n"
     ]
    },
    {
     "name": "stdout",
     "output_type": "stream",
     "text": [
      "\u001b[2m\u001b[36m(DefaultActor pid=92320)\u001b[0m  Training loss for epoch 2: 2.0432723368469037, accuracy: 0.21929824561403508\n",
      "\u001b[2m\u001b[36m(DefaultActor pid=92319)\u001b[0m  Training loss for epoch 2: 2.3063814357707373, accuracy: 0.10005482456140351\n"
     ]
    },
    {
     "name": "stderr",
     "output_type": "stream",
     "text": [
      " 77%|███████▋  | 175/228 [00:21<00:07,  7.53it/s]\u001b[32m [repeated 268x across cluster]\u001b[0m\n",
      "  9%|▉         | 20/228 [00:02<00:26,  7.99it/s]\u001b[32m [repeated 6x across cluster]\u001b[0m\n",
      "100%|██████████| 228/228 [00:25<00:00,  8.86it/s]\u001b[32m [repeated 26x across cluster]\u001b[0m\n",
      "  0%|          | 0/228 [00:00<?, ?it/s]\n",
      " 26%|██▌       | 59/228 [00:07<00:23,  7.33it/s]\u001b[32m [repeated 246x across cluster]\u001b[0m\n",
      "  0%|          | 0/228 [00:00<?, ?it/s]\n"
     ]
    },
    {
     "name": "stdout",
     "output_type": "stream",
     "text": [
      "\u001b[2m\u001b[36m(DefaultActor pid=92318)\u001b[0m  Training loss for epoch 2: 1.9991375490238792, accuracy: 0.21765350877192982\n",
      "\u001b[2m\u001b[36m(DefaultActor pid=92316)\u001b[0m  Training loss for epoch 2: 2.172351416788603, accuracy: 0.18887061403508773\n"
     ]
    },
    {
     "name": "stderr",
     "output_type": "stream",
     "text": [
      " 21%|██▏       | 49/228 [00:05<00:20,  8.84it/s]\u001b[32m [repeated 4x across cluster]\u001b[0m\n",
      " 96%|█████████▋| 220/228 [00:26<00:00,  8.36it/s]\u001b[32m [repeated 66x across cluster]\u001b[0m\n",
      "  0%|          | 1/228 [00:00<00:24,  9.33it/s]\n",
      " 13%|█▎        | 30/228 [00:03<00:24,  8.22it/s]\u001b[32m [repeated 269x across cluster]\u001b[0m\n",
      "  0%|          | 0/228 [00:00<?, ?it/s]\u001b[32m [repeated 3x across cluster]\u001b[0m\n",
      " 44%|████▍     | 100/228 [00:11<00:14,  9.08it/s]\u001b[32m [repeated 3x across cluster]\u001b[0m\n",
      "100%|██████████| 228/228 [00:28<00:00,  8.01it/s]\u001b[32m [repeated 30x across cluster]\u001b[0m\n"
     ]
    },
    {
     "name": "stdout",
     "output_type": "stream",
     "text": [
      "\u001b[2m\u001b[36m(DefaultActor pid=92313)\u001b[0m  Training loss for epoch 2: 1.813732871883794, accuracy: 0.34155701754385964\u001b[32m [repeated 4x across cluster]\u001b[0m\n"
     ]
    },
    {
     "name": "stderr",
     "output_type": "stream",
     "text": [
      " 31%|███       | 71/228 [00:08<00:20,  7.79it/s]\u001b[32m [repeated 290x across cluster]\u001b[0m\n",
      "  0%|          | 0/228 [00:00<?, ?it/s]\n",
      " 18%|█▊        | 40/228 [00:05<00:23,  8.09it/s]\u001b[32m [repeated 3x across cluster]\u001b[0m\n",
      "100%|██████████| 228/228 [00:29<00:00,  7.75it/s]\u001b[32m [repeated 19x across cluster]\u001b[0m\n",
      " 49%|████▊     | 111/228 [00:13<00:15,  7.36it/s]\u001b[32m [repeated 303x across cluster]\u001b[0m\n",
      " 49%|████▊     | 111/228 [00:13<00:13,  8.61it/s]\u001b[32m [repeated 6x across cluster]\u001b[0m\n",
      " 92%|█████████▏| 209/228 [00:24<00:01,  9.83it/s]\n",
      " 92%|█████████▏| 210/228 [00:24<00:01,  9.83it/s]\n",
      " 67%|██████▋   | 152/228 [00:18<00:09,  8.44it/s]\u001b[32m [repeated 274x across cluster]\u001b[0m\n",
      "  0%|          | 0/228 [00:00<?, ?it/s]\n"
     ]
    },
    {
     "name": "stdout",
     "output_type": "stream",
     "text": [
      "\u001b[2m\u001b[36m(DefaultActor pid=92319)\u001b[0m  Training loss for epoch 3: 2.29797652625201, accuracy: 0.09978070175438597\n",
      "\u001b[2m\u001b[36m(DefaultActor pid=92320)\u001b[0m  Training loss for epoch 3: 2.157997477472874, accuracy: 0.18146929824561403\n"
     ]
    },
    {
     "name": "stderr",
     "output_type": "stream",
     "text": [
      " 52%|█████▏    | 118/228 [00:14<00:13,  8.20it/s]\u001b[32m [repeated 3x across cluster]\u001b[0m\n",
      "100%|██████████| 228/228 [00:27<00:00,  8.19it/s]\u001b[32m [repeated 34x across cluster]\u001b[0m\n",
      " 84%|████████▍ | 192/228 [00:23<00:04,  7.81it/s]\u001b[32m [repeated 302x across cluster]\u001b[0m\n",
      "  0%|          | 0/228 [00:00<?, ?it/s]\n",
      " 82%|████████▏ | 187/228 [00:22<00:04,  8.82it/s]\u001b[32m [repeated 2x across cluster]\u001b[0m\n",
      "  0%|          | 0/228 [00:00<?, ?it/s]\n"
     ]
    },
    {
     "name": "stdout",
     "output_type": "stream",
     "text": [
      "\u001b[2m\u001b[36m(DefaultActor pid=92314)\u001b[0m  Training loss for epoch 3: 2.255103406153227, accuracy: 0.13815789473684212\n",
      "\u001b[2m\u001b[36m(DefaultActor pid=92316)\u001b[0m  Training loss for epoch 3: 2.05756469515332, accuracy: 0.21984649122807018\n"
     ]
    },
    {
     "name": "stderr",
     "output_type": "stream",
     "text": [
      " 95%|█████████▍| 216/228 [00:26<00:01,  8.37it/s]\u001b[32m [repeated 58x across cluster]\u001b[0m\n",
      " 38%|███▊      | 87/228 [00:10<00:15,  9.05it/s]\u001b[32m [repeated 237x across cluster]\u001b[0m\n",
      " 30%|███       | 69/228 [00:08<00:18,  8.54it/s]\u001b[32m [repeated 2x across cluster]\u001b[0m\n",
      "  0%|          | 0/228 [00:00<?, ?it/s]\u001b[32m [repeated 3x across cluster]\u001b[0m\n"
     ]
    },
    {
     "name": "stdout",
     "output_type": "stream",
     "text": [
      "\u001b[2m\u001b[36m(DefaultActor pid=92315)\u001b[0m  Training loss for epoch 3: 2.2445363208912967, accuracy: 0.14501096491228072\u001b[32m [repeated 3x across cluster]\u001b[0m\n"
     ]
    },
    {
     "name": "stderr",
     "output_type": "stream",
     "text": [
      "100%|██████████| 228/228 [00:28<00:00,  7.98it/s]\u001b[32m [repeated 33x across cluster]\u001b[0m\n",
      " 30%|███       | 69/228 [00:08<00:19,  8.25it/s]\u001b[32m [repeated 293x across cluster]\u001b[0m\n",
      " 90%|█████████ | 206/228 [00:26<00:02,  8.24it/s]\u001b[32m [repeated 3x across cluster]\u001b[0m\n",
      "  0%|          | 0/228 [00:00<?, ?it/s]\n",
      " 99%|█████████▉| 226/228 [00:29<00:00,  8.48it/s]\u001b[32m [repeated 18x across cluster]\u001b[0m\n",
      "  0%|          | 0/228 [00:00<?, ?it/s]\n"
     ]
    },
    {
     "name": "stdout",
     "output_type": "stream",
     "text": [
      "\u001b[2m\u001b[36m(DefaultActor pid=92313)\u001b[0m  Training loss for epoch 3: 2.212585195637586, accuracy: 0.16611842105263158\n"
     ]
    },
    {
     "name": "stderr",
     "output_type": "stream",
     "text": [
      " 38%|███▊      | 86/228 [00:10<00:16,  8.44it/s]\u001b[32m [repeated 277x across cluster]\u001b[0m\n",
      " 39%|███▉      | 90/228 [00:11<00:14,  9.21it/s]\u001b[32m [repeated 7x across cluster]\u001b[0m\n",
      "100%|██████████| 228/228 [00:29<00:00,  7.76it/s]\u001b[32m [repeated 2x across cluster]\u001b[0m\n",
      " 57%|█████▋    | 129/228 [00:16<00:12,  7.94it/s]\u001b[32m [repeated 280x across cluster]\u001b[0m\n",
      " 63%|██████▎   | 144/228 [00:17<00:09,  8.41it/s]\u001b[32m [repeated 6x across cluster]\u001b[0m\n"
     ]
    },
    {
     "name": "stdout",
     "output_type": "stream",
     "text": [
      "\u001b[2m\u001b[36m(DefaultActor pid=92320)\u001b[0m  Training loss for epoch 4: 1.7933921238832307, accuracy: 0.36019736842105265\n"
     ]
    },
    {
     "name": "stderr",
     "output_type": "stream",
     "text": [
      "100%|██████████| 228/228 [00:26<00:00,  8.45it/s]\u001b[32m [repeated 35x across cluster]\u001b[0m\n",
      "  0%|          | 0/228 [00:00<?, ?it/s]\n",
      " 74%|███████▍  | 169/228 [00:21<00:06,  9.01it/s]\u001b[32m [repeated 217x across cluster]\u001b[0m\n",
      " 67%|██████▋   | 153/228 [00:18<00:08,  8.55it/s]\n",
      " 97%|█████████▋| 222/228 [00:26<00:00,  8.67it/s]\u001b[32m [repeated 17x across cluster]\u001b[0m\n"
     ]
    },
    {
     "name": "stdout",
     "output_type": "stream",
     "text": [
      "\u001b[2m\u001b[36m(DefaultActor pid=92314)\u001b[0m  Training loss for epoch 4: 2.310499683806771, accuracy: 0.10087719298245613\u001b[32m [repeated 2x across cluster]\u001b[0m\n"
     ]
    },
    {
     "name": "stderr",
     "output_type": "stream",
     "text": [
      "  0%|          | 0/228 [00:00<?, ?it/s]\n",
      " 23%|██▎       | 52/228 [00:05<00:15, 11.02it/s]\u001b[32m [repeated 239x across cluster]\u001b[0m\n",
      " 93%|█████████▎| 212/228 [00:25<00:01, 11.41it/s]\u001b[32m [repeated 39x across cluster]\u001b[0m\n"
     ]
    },
    {
     "name": "stdout",
     "output_type": "stream",
     "text": [
      "\u001b[2m\u001b[36m(DefaultActor pid=92315)\u001b[0m  Training loss for epoch 4: 2.3088259289139197, accuracy: 0.08552631578947369\u001b[32m [repeated 4x across cluster]\u001b[0m\n"
     ]
    },
    {
     "name": "stderr",
     "output_type": "stream",
     "text": [
      " 46%|████▌     | 105/228 [00:09<00:09, 13.17it/s]\u001b[32m [repeated 101x across cluster]\u001b[0m\n",
      "100%|██████████| 228/228 [00:24<00:00,  9.20it/s]\u001b[32m [repeated 18x across cluster]\u001b[0m\n",
      " 80%|████████  | 183/228 [00:14<00:02, 16.83it/s]\u001b[32m [repeated 85x across cluster]\u001b[0m\n",
      "  0%|          | 0/228 [00:00<?, ?it/s]\n"
     ]
    },
    {
     "name": "stdout",
     "output_type": "stream",
     "text": [
      "\u001b[2m\u001b[36m(DefaultActor pid=92320)\u001b[0m  Training loss for epoch 0: 2.28676185168718, accuracy: 0.12335526315789473\u001b[32m [repeated 2x across cluster]\u001b[0m\n"
     ]
    },
    {
     "name": "stderr",
     "output_type": "stream",
     "text": [
      "100%|██████████| 228/228 [00:17<00:00, 12.96it/s]\u001b[32m [repeated 21x across cluster]\u001b[0m\n",
      " 18%|█▊        | 42/228 [00:02<00:11, 16.47it/s]\u001b[32m [repeated 66x across cluster]\u001b[0m\n",
      "  0%|          | 0/228 [00:00<?, ?it/s]\n",
      " 56%|█████▌    | 128/228 [00:07<00:05, 16.79it/s]\u001b[32m [repeated 85x across cluster]\u001b[0m\n",
      " 92%|█████████▏| 210/228 [00:12<00:01, 16.64it/s]\n",
      " 91%|█████████ | 208/228 [00:12<00:01, 17.05it/s]\u001b[32m [repeated 79x across cluster]\u001b[0m\n",
      " 93%|█████████▎| 212/228 [00:12<00:00, 16.85it/s]\n",
      "  0%|          | 0/228 [00:00<?, ?it/s]\n"
     ]
    },
    {
     "name": "stdout",
     "output_type": "stream",
     "text": [
      "\u001b[2m\u001b[36m(DefaultActor pid=92320)\u001b[0m  Training loss for epoch 1: 2.1247217351930185, accuracy: 0.2069627192982456\u001b[32m [repeated 2x across cluster]\u001b[0m\n"
     ]
    },
    {
     "name": "stderr",
     "output_type": "stream",
     "text": [
      "100%|██████████| 228/228 [00:13<00:00, 16.53it/s]\u001b[32m [repeated 18x across cluster]\u001b[0m\n",
      " 30%|██▉       | 68/228 [00:04<00:09, 17.48it/s]\u001b[32m [repeated 67x across cluster]\u001b[0m\n",
      "  0%|          | 0/228 [00:00<?, ?it/s]\n",
      " 65%|██████▍   | 148/228 [00:08<00:04, 17.29it/s]\u001b[32m [repeated 81x across cluster]\u001b[0m\n",
      " 92%|█████████▏| 210/228 [00:12<00:01, 16.26it/s]\n",
      "  0%|          | 0/228 [00:00<?, ?it/s]\n"
     ]
    },
    {
     "name": "stdout",
     "output_type": "stream",
     "text": [
      "\u001b[2m\u001b[36m(DefaultActor pid=92319)\u001b[0m  Training loss for epoch 2: 2.30703460124501, accuracy: 0.09457236842105263\u001b[32m [repeated 2x across cluster]\u001b[0m\n"
     ]
    },
    {
     "name": "stderr",
     "output_type": "stream",
     "text": [
      "  3%|▎         | 6/228 [00:00<00:13, 16.78it/s]\u001b[32m [repeated 65x across cluster]\u001b[0m\n",
      "100%|██████████| 228/228 [00:13<00:00, 16.38it/s]\u001b[32m [repeated 19x across cluster]\u001b[0m\n",
      "  0%|          | 0/228 [00:00<?, ?it/s]\n",
      " 40%|████      | 92/228 [00:05<00:08, 16.83it/s]\u001b[32m [repeated 85x across cluster]\u001b[0m\n",
      " 78%|███████▊  | 178/228 [00:10<00:02, 16.77it/s]\u001b[32m [repeated 87x across cluster]\u001b[0m\n",
      " 92%|█████████▏| 210/228 [00:12<00:01, 17.33it/s]\n",
      " 93%|█████████▎| 212/228 [00:12<00:00, 17.23it/s]\n",
      "  0%|          | 0/228 [00:00<?, ?it/s]\n"
     ]
    },
    {
     "name": "stdout",
     "output_type": "stream",
     "text": [
      "\u001b[2m\u001b[36m(DefaultActor pid=92319)\u001b[0m  Training loss for epoch 3: 2.3050365479368913, accuracy: 0.10005482456140351\u001b[32m [repeated 2x across cluster]\u001b[0m\n"
     ]
    },
    {
     "name": "stderr",
     "output_type": "stream",
     "text": [
      " 15%|█▍        | 34/228 [00:01<00:11, 17.37it/s]\u001b[32m [repeated 62x across cluster]\u001b[0m\n",
      "100%|██████████| 228/228 [00:13<00:00, 16.53it/s]\u001b[32m [repeated 18x across cluster]\u001b[0m\n",
      "  0%|          | 0/228 [00:00<?, ?it/s]\n",
      " 53%|█████▎    | 120/228 [00:06<00:06, 17.02it/s]\u001b[32m [repeated 85x across cluster]\u001b[0m\n",
      " 88%|████████▊ | 200/228 [00:11<00:01, 16.95it/s]\u001b[32m [repeated 80x across cluster]\u001b[0m\n",
      " 92%|█████████▏| 210/228 [00:12<00:01, 17.03it/s]\n",
      " 93%|█████████▎| 212/228 [00:12<00:00, 17.31it/s]\n",
      " 94%|█████████▍| 214/228 [00:12<00:00, 17.30it/s]\n",
      " 95%|█████████▍| 216/228 [00:12<00:00, 17.82it/s]\n"
     ]
    },
    {
     "name": "stdout",
     "output_type": "stream",
     "text": [
      "\u001b[2m\u001b[36m(DefaultActor pid=92319)\u001b[0m  Training loss for epoch 4: 2.3058155565931084, accuracy: 0.08717105263157894\u001b[32m [repeated 2x across cluster]\u001b[0m\n"
     ]
    },
    {
     "name": "stderr",
     "output_type": "stream",
     "text": [
      "DEBUG flwr 2023-11-09 11:41:34,459 | server.py:236 | fit_round 1 received 10 results and 0 failures\n",
      "DEBUG:flwr:fit_round 1 received 10 results and 0 failures\n"
     ]
    },
    {
     "name": "stdout",
     "output_type": "stream",
     "text": [
      "Saving round 1 aggregated_parameters...\n",
      "Saved round 1 aggregated_parameters!\n"
     ]
    },
    {
     "name": "stderr",
     "output_type": "stream",
     "text": [
      "INFO flwr 2023-11-09 11:41:34,511 | server.py:171 | evaluate_round 1: no clients selected, cancel\n",
      "INFO:flwr:evaluate_round 1: no clients selected, cancel\n",
      "DEBUG flwr 2023-11-09 11:41:34,512 | server.py:222 | fit_round 2: strategy sampled 10 clients (out of 40)\n",
      "DEBUG:flwr:fit_round 2: strategy sampled 10 clients (out of 40)\n",
      "  0%|          | 0/228 [00:00<?, ?it/s]\n",
      "  4%|▍         | 10/228 [00:00<00:15, 14.03it/s]\u001b[32m [repeated 28x across cluster]\u001b[0m\n",
      "100%|██████████| 228/228 [00:13<00:00, 16.49it/s]\u001b[32m [repeated 16x across cluster]\u001b[0m\n",
      "  0%|          | 0/228 [00:00<?, ?it/s]\u001b[32m [repeated 3x across cluster]\u001b[0m\n",
      " 28%|██▊       | 64/228 [00:05<00:17,  9.42it/s]\u001b[32m [repeated 93x across cluster]\u001b[0m\n",
      "  0%|          | 0/228 [00:00<?, ?it/s]\u001b[32m [repeated 2x across cluster]\u001b[0m\n",
      "  1%|          | 2/228 [00:00<00:25,  8.83it/s]\n",
      " 23%|██▎       | 52/228 [00:05<00:23,  7.63it/s]\u001b[32m [repeated 200x across cluster]\u001b[0m\n",
      "  0%|          | 0/228 [00:00<?, ?it/s]\u001b[32m [repeated 2x across cluster]\u001b[0m\n",
      " 35%|███▌      | 80/228 [00:08<00:16,  9.05it/s]\u001b[32m [repeated 5x across cluster]\u001b[0m\n",
      " 35%|███▌      | 80/228 [00:09<00:18,  8.18it/s]\u001b[32m [repeated 263x across cluster]\u001b[0m\n",
      " 26%|██▋       | 60/228 [00:07<00:19,  8.61it/s]\u001b[32m [repeated 4x across cluster]\u001b[0m\n",
      " 57%|█████▋    | 131/228 [00:16<00:11,  8.17it/s]\u001b[32m [repeated 315x across cluster]\u001b[0m\n",
      " 92%|█████████▏| 209/228 [00:22<00:02,  8.72it/s]\n",
      " 92%|█████████▏| 210/228 [00:22<00:02,  8.42it/s]\n",
      " 93%|█████████▎| 211/228 [00:22<00:02,  8.45it/s]\n",
      " 93%|█████████▎| 212/228 [00:22<00:01,  8.58it/s]\n",
      " 93%|█████████▎| 213/228 [00:22<00:01,  8.62it/s]\n",
      " 94%|█████████▍| 215/228 [00:22<00:01,  9.24it/s]\n",
      " 95%|█████████▍| 216/228 [00:22<00:01,  9.13it/s]\n",
      " 95%|█████████▌| 217/228 [00:23<00:01,  8.91it/s]\n",
      " 96%|█████████▌| 218/228 [00:23<00:01,  8.98it/s]\n",
      "  0%|          | 0/228 [00:00<?, ?it/s]\n"
     ]
    },
    {
     "name": "stdout",
     "output_type": "stream",
     "text": [
      "\u001b[2m\u001b[36m(DefaultActor pid=92320)\u001b[0m  Training loss for epoch 0: 1.951993600841154, accuracy: 0.27247807017543857\u001b[32m [repeated 2x across cluster]\u001b[0m\n"
     ]
    },
    {
     "name": "stderr",
     "output_type": "stream",
     "text": [
      " 45%|████▌     | 103/228 [00:12<00:13,  9.13it/s]\u001b[32m [repeated 2x across cluster]\u001b[0m\n",
      " 71%|███████▏  | 163/228 [00:20<00:07,  8.52it/s]\u001b[32m [repeated 287x across cluster]\u001b[0m\n",
      " 94%|█████████▍| 214/228 [00:25<00:01,  7.83it/s]\u001b[32m [repeated 35x across cluster]\u001b[0m\n",
      "  0%|          | 0/228 [00:00<?, ?it/s]\u001b[32m [repeated 2x across cluster]\u001b[0m\n",
      " 15%|█▌        | 35/228 [00:04<00:21,  9.05it/s]\n",
      " 25%|██▍       | 56/228 [00:06<00:18,  9.12it/s]\u001b[32m [repeated 281x across cluster]\u001b[0m\n"
     ]
    },
    {
     "name": "stdout",
     "output_type": "stream",
     "text": [
      "\u001b[2m\u001b[36m(DefaultActor pid=92315)\u001b[0m  Training loss for epoch 0: 1.8682593190879153, accuracy: 0.3144188596491228\u001b[32m [repeated 3x across cluster]\u001b[0m\n"
     ]
    },
    {
     "name": "stderr",
     "output_type": "stream",
     "text": [
      " 94%|█████████▍| 214/228 [00:26<00:01,  7.56it/s]\u001b[32m [repeated 39x across cluster]\u001b[0m\n",
      " 78%|███████▊  | 177/228 [00:20<00:05,  8.70it/s]\n",
      "  0%|          | 0/228 [00:00<?, ?it/s]\u001b[32m [repeated 2x across cluster]\u001b[0m\n",
      "  7%|▋         | 17/228 [00:02<00:26,  7.90it/s]\u001b[32m [repeated 252x across cluster]\u001b[0m\n",
      " 96%|█████████▌| 219/228 [00:25<00:01,  8.98it/s]\u001b[32m [repeated 59x across cluster]\u001b[0m\n",
      " 44%|████▍     | 100/228 [00:11<00:14,  9.07it/s]\u001b[32m [repeated 3x across cluster]\u001b[0m\n"
     ]
    },
    {
     "name": "stdout",
     "output_type": "stream",
     "text": [
      "\u001b[2m\u001b[36m(DefaultActor pid=92314)\u001b[0m  Training loss for epoch 0: 2.146461632168084, accuracy: 0.19407894736842105\u001b[32m [repeated 4x across cluster]\u001b[0m\n"
     ]
    },
    {
     "name": "stderr",
     "output_type": "stream",
     "text": [
      "  0%|          | 0/228 [00:00<?, ?it/s]\u001b[32m [repeated 3x across cluster]\u001b[0m\n",
      " 26%|██▌       | 59/228 [00:08<00:22,  7.63it/s]\u001b[32m [repeated 270x across cluster]\u001b[0m\n",
      "100%|██████████| 228/228 [00:26<00:00,  8.50it/s]\u001b[32m [repeated 9x across cluster]\u001b[0m\n",
      " 45%|████▌     | 103/228 [00:13<00:15,  7.99it/s]\u001b[32m [repeated 5x across cluster]\u001b[0m\n",
      " 43%|████▎     | 99/228 [00:13<00:15,  8.42it/s]\u001b[32m [repeated 307x across cluster]\u001b[0m\n",
      " 53%|█████▎    | 120/228 [00:15<00:12,  8.83it/s]\u001b[32m [repeated 8x across cluster]\u001b[0m\n",
      " 92%|█████████▏| 209/228 [00:24<00:02,  7.35it/s]\n",
      " 92%|█████████▏| 210/228 [00:24<00:02,  7.47it/s]\n",
      " 93%|█████████▎| 212/228 [00:25<00:01,  8.21it/s]\n",
      " 93%|█████████▎| 213/228 [00:25<00:01,  8.47it/s]\n",
      " 94%|█████████▍| 214/228 [00:25<00:01,  8.59it/s]\n",
      " 94%|█████████▍| 215/228 [00:25<00:01,  8.63it/s]\n",
      " 95%|█████████▌| 217/228 [00:25<00:01,  9.19it/s]\n",
      " 96%|█████████▌| 218/228 [00:25<00:01,  9.16it/s]\n",
      " 96%|█████████▌| 219/228 [00:25<00:01,  8.69it/s]\n",
      " 96%|█████████▋| 220/228 [00:26<00:02,  3.75it/s]\n",
      " 97%|█████████▋| 221/228 [00:26<00:02,  3.19it/s]\n",
      " 65%|██████▌   | 149/228 [00:20<00:11,  6.67it/s]\u001b[32m [repeated 224x across cluster]\u001b[0m\n",
      "  0%|          | 0/228 [00:00<?, ?it/s]\n"
     ]
    },
    {
     "name": "stdout",
     "output_type": "stream",
     "text": [
      "\u001b[2m\u001b[36m(DefaultActor pid=92320)\u001b[0m  Training loss for epoch 1: 1.6045426104152412, accuracy: 0.40268640350877194\n"
     ]
    },
    {
     "name": "stderr",
     "output_type": "stream",
     "text": [
      "\u001b[2m\u001b[36m(DefaultActor pid=92320)\u001b[0m \r",
      "  0%|          | 1/228 [00:00<00:28,  7.90it/s]\r",
      "  1%|          | 2/228 [00:00<00:25,  8.81it/s]\u001b[32m [repeated 2x across cluster]\u001b[0m\n"
     ]
    },
    {
     "name": "stdout",
     "output_type": "stream",
     "text": [
      "\u001b[2m\u001b[36m(DefaultActor pid=92319)\u001b[0m  Training loss for epoch 1: 1.9030134960224754, accuracy: 0.26535087719298245\n"
     ]
    },
    {
     "name": "stderr",
     "output_type": "stream",
     "text": [
      "100%|██████████| 228/228 [00:28<00:00,  8.02it/s]\u001b[32m [repeated 26x across cluster]\u001b[0m\n",
      " 75%|███████▍  | 170/228 [00:23<00:07,  7.87it/s]\u001b[32m [repeated 279x across cluster]\u001b[0m\n",
      "  0%|          | 0/228 [00:00<?, ?it/s]\n",
      " 18%|█▊        | 41/228 [00:04<00:22,  8.49it/s]\u001b[32m [repeated 8x across cluster]\u001b[0m\n",
      " 92%|█████████▏| 210/228 [00:28<00:02,  7.27it/s]\u001b[32m [repeated 2x across cluster]\u001b[0m\n",
      " 75%|███████▌  | 172/228 [00:23<00:07,  7.89it/s]\u001b[32m [repeated 11x across cluster]\u001b[0m\n"
     ]
    },
    {
     "name": "stdout",
     "output_type": "stream",
     "text": [
      "\u001b[2m\u001b[36m(DefaultActor pid=92313)\u001b[0m  Training loss for epoch 1: 1.9601717042295557, accuracy: 0.2837171052631579\n"
     ]
    },
    {
     "name": "stderr",
     "output_type": "stream",
     "text": [
      "  0%|          | 0/228 [00:00<?, ?it/s]\n",
      " 32%|███▏      | 72/228 [06:06<00:19,  8.03it/s]\u001b[32m [repeated 4x across cluster]\u001b[0m\n",
      " 99%|█████████▉| 226/228 [06:27<00:00,  8.50it/s]\u001b[32m [repeated 35x across cluster]\u001b[0m\n",
      " 90%|█████████ | 206/228 [06:25<00:02,  8.13it/s]\u001b[32m [repeated 229x across cluster]\u001b[0m\n"
     ]
    },
    {
     "name": "stdout",
     "output_type": "stream",
     "text": [
      "\u001b[2m\u001b[36m(DefaultActor pid=92315)\u001b[0m  Training loss for epoch 1: 1.671312934996789, accuracy: 0.39528508771929827\n"
     ]
    },
    {
     "name": "stderr",
     "output_type": "stream",
     "text": [
      "  0%|          | 0/228 [00:00<?, ?it/s]\u001b[32m [repeated 2x across cluster]\u001b[0m\n",
      " 54%|█████▎    | 122/228 [06:12<00:12,  8.38it/s]\n",
      "  6%|▌         | 14/228 [00:01<00:27,  7.92it/s]\u001b[32m [repeated 8x across cluster]\u001b[0m\n",
      " 98%|█████████▊| 224/228 [06:26<00:00,  8.03it/s]\u001b[32m [repeated 71x across cluster]\u001b[0m\n",
      "  7%|▋         | 17/228 [00:02<00:26,  7.86it/s]\u001b[32m [repeated 219x across cluster]\u001b[0m\n"
     ]
    },
    {
     "name": "stdout",
     "output_type": "stream",
     "text": [
      "\u001b[2m\u001b[36m(DefaultActor pid=92314)\u001b[0m  Training loss for epoch 1: 2.0164551034308316, accuracy: 0.22998903508771928\u001b[32m [repeated 4x across cluster]\u001b[0m\n"
     ]
    },
    {
     "name": "stderr",
     "output_type": "stream",
     "text": [
      "  0%|          | 0/228 [00:00<?, ?it/s]\u001b[32m [repeated 3x across cluster]\u001b[0m\n",
      " 18%|█▊        | 42/228 [00:05<00:20,  9.03it/s]\u001b[32m [repeated 7x across cluster]\u001b[0m\n",
      "100%|██████████| 228/228 [06:27<00:00,  1.70s/it]\u001b[32m [repeated 4x across cluster]\u001b[0m\n",
      " 61%|██████    | 139/228 [06:14<00:10,  8.76it/s]\u001b[32m [repeated 180x across cluster]\u001b[0m\n",
      " 43%|████▎     | 99/228 [07:53<02:17,  1.07s/it]\n",
      " 33%|███▎      | 75/228 [07:49<00:20,  7.62it/s]\u001b[32m [repeated 14x across cluster]\u001b[0m\n",
      " 33%|███▎      | 76/228 [07:50<00:21,  7.16it/s]\u001b[32m [repeated 222x across cluster]\u001b[0m\n",
      " 92%|█████████▏| 209/228 [14:03<00:02,  9.21it/s]\n",
      " 92%|█████████▏| 210/228 [14:03<00:02,  8.97it/s]\n",
      " 16%|█▌        | 37/228 [07:45<08:53,  2.80s/it]\u001b[32m [repeated 2x across cluster]\u001b[0m\n",
      " 93%|█████████▎| 211/228 [14:03<00:01,  8.98it/s]\n",
      " 93%|█████████▎| 212/228 [14:03<00:01,  9.12it/s]\n",
      " 93%|█████████▎| 213/228 [14:03<00:01,  9.34it/s]\n",
      " 94%|█████████▍| 214/228 [14:03<00:01,  9.01it/s]\n",
      " 94%|█████████▍| 215/228 [14:03<00:01,  8.73it/s]\n",
      " 95%|█████████▍| 216/228 [14:04<00:01,  8.75it/s]\n",
      " 95%|█████████▌| 217/228 [14:04<00:01,  8.62it/s]\n",
      " 96%|█████████▌| 219/228 [14:04<00:00,  9.03it/s]\n",
      " 96%|█████████▋| 220/228 [14:04<00:00,  9.09it/s]\n",
      " 97%|█████████▋| 221/228 [14:04<00:00,  9.07it/s]\n",
      " 97%|█████████▋| 222/228 [14:04<00:00,  9.01it/s]\n",
      " 98%|█████████▊| 223/228 [14:04<00:00,  8.88it/s]\n",
      "  0%|          | 0/228 [00:00<?, ?it/s]\n"
     ]
    },
    {
     "name": "stdout",
     "output_type": "stream",
     "text": [
      "\u001b[2m\u001b[36m(DefaultActor pid=92320)\u001b[0m  Training loss for epoch 2: 1.784211669836128, accuracy: 0.31716008771929827\n"
     ]
    },
    {
     "name": "stderr",
     "output_type": "stream",
     "text": [
      " 60%|██████    | 137/228 [07:57<00:11,  8.27it/s]\u001b[32m [repeated 12x across cluster]\u001b[0m\n",
      " 61%|██████    | 139/228 [07:58<00:11,  8.05it/s]\u001b[32m [repeated 277x across cluster]\u001b[0m\n",
      " 99%|█████████▊| 225/228 [14:05<00:00,  7.52it/s]\u001b[32m [repeated 19x across cluster]\u001b[0m\n",
      " 57%|█████▋    | 129/228 [07:56<00:12,  7.79it/s]\n",
      "  6%|▌         | 14/228 [00:02<00:28,  7.51it/s]\u001b[32m [repeated 58x across cluster]\u001b[0m\n",
      " 56%|█████▌    | 127/228 [08:32<12:35,  7.48s/it]\n",
      "  0%|          | 0/228 [00:00<?, ?it/s]\n"
     ]
    },
    {
     "name": "stdout",
     "output_type": "stream",
     "text": [
      "\u001b[2m\u001b[36m(DefaultActor pid=92319)\u001b[0m  Training loss for epoch 2: 1.8575199230721122, accuracy: 0.26398026315789475\n"
     ]
    },
    {
     "name": "stderr",
     "output_type": "stream",
     "text": [
      "100%|██████████| 228/228 [14:41<00:00,  3.87s/it]\u001b[32m [repeated 3x across cluster]\u001b[0m\n",
      " 70%|██████▉   | 159/228 [08:36<00:10,  6.72it/s]\u001b[32m [repeated 245x across cluster]\u001b[0m\n",
      " 67%|██████▋   | 152/228 [08:34<00:08,  8.82it/s]\u001b[32m [repeated 17x across cluster]\u001b[0m\n"
     ]
    },
    {
     "name": "stdout",
     "output_type": "stream",
     "text": [
      "\u001b[2m\u001b[36m(DefaultActor pid=92313)\u001b[0m  Training loss for epoch 2: 2.308592469022985, accuracy: 0.09018640350877193\n"
     ]
    },
    {
     "name": "stderr",
     "output_type": "stream",
     "text": [
      "  0%|          | 0/228 [00:00<?, ?it/s]\n",
      " 98%|█████████▊| 224/228 [08:44<00:00,  7.73it/s]\u001b[32m [repeated 40x across cluster]\u001b[0m\n",
      " 34%|███▍      | 78/228 [00:09<00:17,  8.36it/s]\u001b[32m [repeated 258x across cluster]\u001b[0m\n",
      " 88%|████████▊ | 200/228 [08:41<00:03,  8.29it/s]\u001b[32m [repeated 10x across cluster]\u001b[0m\n"
     ]
    },
    {
     "name": "stdout",
     "output_type": "stream",
     "text": [
      "\u001b[2m\u001b[36m(DefaultActor pid=92315)\u001b[0m  Training loss for epoch 2: 1.4050138543049495, accuracy: 0.5257675438596491\n"
     ]
    },
    {
     "name": "stderr",
     "output_type": "stream",
     "text": [
      "  0%|          | 0/228 [00:00<?, ?it/s]\u001b[32m [repeated 2x across cluster]\u001b[0m\n",
      "100%|██████████| 228/228 [08:43<00:00,  2.30s/it]\u001b[32m [repeated 73x across cluster]\u001b[0m\n",
      "  6%|▌         | 13/228 [00:01<00:26,  8.15it/s]\u001b[32m [repeated 226x across cluster]\u001b[0m\n",
      " 18%|█▊        | 42/228 [00:04<00:21,  8.61it/s]\u001b[32m [repeated 7x across cluster]\u001b[0m\n",
      "  0%|          | 0/228 [00:00<?, ?it/s]\u001b[32m [repeated 3x across cluster]\u001b[0m\n",
      " 24%|██▎       | 54/228 [00:06<00:24,  7.14it/s]\u001b[32m [repeated 308x across cluster]\u001b[0m\n",
      " 77%|███████▋  | 176/228 [00:56<00:05,  8.83it/s]\u001b[32m [repeated 9x across cluster]\u001b[0m\n",
      " 92%|█████████▏| 209/228 [00:59<00:02,  9.15it/s]\n",
      " 92%|█████████▏| 210/228 [00:59<00:02,  8.97it/s]\n",
      " 93%|█████████▎| 211/228 [01:00<00:01,  8.81it/s]\n",
      " 93%|█████████▎| 212/228 [01:00<00:01,  8.73it/s]\n",
      " 93%|█████████▎| 213/228 [01:00<00:01,  8.82it/s]\n",
      " 38%|███▊      | 86/228 [00:10<00:16,  8.48it/s]\u001b[32m [repeated 191x across cluster]\u001b[0m\n",
      " 32%|███▏      | 74/228 [00:08<00:17,  9.04it/s]\u001b[32m [repeated 4x across cluster]\u001b[0m\n",
      " 94%|█████████▍| 214/228 [01:00<00:01,  8.72it/s]\n",
      " 94%|█████████▍| 215/228 [01:45<02:53, 13.32s/it]\n",
      " 95%|█████████▍| 216/228 [01:45<01:54,  9.55s/it]\n",
      " 95%|█████████▌| 217/228 [01:46<01:14,  6.74s/it]\n",
      " 96%|█████████▌| 218/228 [01:46<00:47,  4.77s/it]\n",
      " 96%|█████████▌| 219/228 [01:46<00:30,  3.38s/it]\n",
      " 96%|█████████▋| 220/228 [01:46<00:19,  2.40s/it]\n",
      " 97%|█████████▋| 222/228 [01:46<00:08,  1.34s/it]\n",
      " 98%|█████████▊| 223/228 [01:46<00:05,  1.04s/it]\n",
      " 98%|█████████▊| 224/228 [01:46<00:03,  1.25it/s]\n",
      " 99%|█████████▊| 225/228 [01:46<00:01,  1.62it/s]\n",
      " 99%|█████████▉| 226/228 [01:47<00:00,  2.11it/s]\n",
      "100%|█████████▉| 227/228 [01:47<00:00,  2.71it/s]\n",
      "100%|██████████| 228/228 [01:47<00:00,  2.12it/s]\n",
      "  0%|          | 0/228 [00:00<?, ?it/s]\n"
     ]
    },
    {
     "name": "stdout",
     "output_type": "stream",
     "text": [
      "\u001b[2m\u001b[36m(DefaultActor pid=92320)\u001b[0m  Training loss for epoch 3: 1.910575949309165, accuracy: 0.29577850877192985\u001b[32m [repeated 5x across cluster]\u001b[0m\n"
     ]
    },
    {
     "name": "stderr",
     "output_type": "stream",
     "text": [
      " 50%|████▉     | 113/228 [00:58<00:13,  8.31it/s]\n",
      " 50%|█████     | 115/228 [00:59<00:15,  7.39it/s]\u001b[32m [repeated 203x across cluster]\u001b[0m\n",
      "  9%|▉         | 20/228 [00:02<00:27,  7.61it/s]\u001b[32m [repeated 18x across cluster]\u001b[0m\n",
      "100%|██████████| 228/228 [01:12<00:00,  3.16it/s]\u001b[32m [repeated 16x across cluster]\u001b[0m\n",
      "  0%|          | 0/228 [00:00<?, ?it/s]\n",
      " 68%|██████▊   | 154/228 [01:04<00:09,  7.84it/s]\u001b[32m [repeated 290x across cluster]\u001b[0m\n",
      " 68%|██████▊   | 156/228 [01:03<00:08,  8.40it/s]\u001b[32m [repeated 15x across cluster]\u001b[0m\n",
      " 92%|█████████▏| 209/228 [01:12<00:02,  7.01it/s]\n",
      " 92%|█████████▏| 210/228 [01:12<00:02,  7.24it/s]\n",
      " 93%|█████████▎| 211/228 [01:13<00:02,  7.23it/s]\n",
      " 93%|█████████▎| 212/228 [01:13<00:02,  7.30it/s]\n",
      " 93%|█████████▎| 213/228 [01:13<00:01,  7.63it/s]\n",
      " 94%|█████████▍| 214/228 [01:13<00:01,  7.91it/s]\n",
      " 94%|█████████▍| 215/228 [01:13<00:01,  8.11it/s]\n",
      " 95%|█████████▍| 216/228 [01:13<00:01,  8.32it/s]\n",
      " 95%|█████████▌| 217/228 [01:13<00:01,  8.37it/s]\n",
      " 96%|█████████▌| 218/228 [01:13<00:01,  7.96it/s]\n",
      " 96%|█████████▌| 219/228 [01:14<00:01,  7.94it/s]\n",
      " 96%|█████████▋| 220/228 [01:14<00:01,  7.77it/s]\n",
      " 97%|█████████▋| 221/228 [01:14<00:00,  7.53it/s]\n",
      " 97%|█████████▋| 222/228 [01:14<00:00,  7.70it/s]\n"
     ]
    },
    {
     "name": "stdout",
     "output_type": "stream",
     "text": [
      "\u001b[2m\u001b[36m(DefaultActor pid=92313)\u001b[0m  Training loss for epoch 3: 2.3071666840921368, accuracy: 0.09868421052631579\u001b[32m [repeated 2x across cluster]\u001b[0m\n"
     ]
    },
    {
     "name": "stderr",
     "output_type": "stream",
     "text": [
      "  0%|          | 0/228 [00:00<?, ?it/s]\n",
      " 88%|████████▊ | 200/228 [01:10<00:03,  7.96it/s]\u001b[32m [repeated 246x across cluster]\u001b[0m\n",
      " 86%|████████▋ | 197/228 [01:09<00:03,  8.89it/s]\u001b[32m [repeated 7x across cluster]\u001b[0m\n",
      "  3%|▎         | 7/228 [00:00<00:29,  7.45it/s]\n",
      " 93%|█████████▎| 211/228 [01:10<00:02,  7.00it/s]\u001b[32m [repeated 48x across cluster]\u001b[0m\n",
      "  0%|          | 0/228 [00:00<?, ?it/s]\u001b[32m [repeated 4x across cluster]\u001b[0m\n"
     ]
    },
    {
     "name": "stdout",
     "output_type": "stream",
     "text": [
      "\u001b[2m\u001b[36m(DefaultActor pid=92317)\u001b[0m  Training loss for epoch 3: 1.7004899440104502, accuracy: 0.3919956140350877\u001b[32m [repeated 5x across cluster]\u001b[0m\n"
     ]
    },
    {
     "name": "stderr",
     "output_type": "stream",
     "text": [
      "  4%|▍         | 9/228 [00:01<00:27,  7.91it/s]\u001b[32m [repeated 197x across cluster]\u001b[0m\n",
      " 11%|█▏        | 26/228 [00:03<00:24,  8.10it/s]\u001b[32m [repeated 10x across cluster]\u001b[0m\n",
      "  9%|▉         | 21/228 [00:02<00:23,  8.81it/s]\u001b[32m [repeated 4x across cluster]\u001b[0m\n",
      "100%|██████████| 228/228 [01:15<00:00,  3.04it/s]\u001b[32m [repeated 51x across cluster]\u001b[0m\n",
      "  0%|          | 0/228 [00:00<?, ?it/s]\n",
      "  5%|▌         | 12/228 [00:01<00:30,  7.10it/s]\u001b[32m [repeated 72x across cluster]\u001b[0m\n",
      "  8%|▊         | 19/228 [00:02<00:27,  7.62it/s]\u001b[32m [repeated 5x across cluster]\u001b[0m\n",
      " 20%|██        | 46/228 [04:57<00:26,  6.82it/s]\u001b[32m [repeated 244x across cluster]\u001b[0m\n",
      " 25%|██▌       | 57/228 [04:58<00:22,  7.73it/s]\u001b[32m [repeated 12x across cluster]\u001b[0m\n",
      " 92%|█████████▏| 209/228 [05:17<00:02,  7.48it/s]\n",
      " 92%|█████████▏| 210/228 [05:17<00:02,  7.59it/s]\n",
      " 93%|█████████▎| 211/228 [05:17<00:02,  7.51it/s]\n",
      " 93%|█████████▎| 213/228 [05:18<00:01,  8.29it/s]\n",
      " 94%|█████████▍| 214/228 [05:18<00:01,  8.24it/s]\n",
      " 94%|█████████▍| 215/228 [05:18<00:01,  7.72it/s]\n",
      " 95%|█████████▍| 216/228 [05:18<00:01,  8.22it/s]\n",
      " 95%|█████████▌| 217/228 [05:18<00:01,  7.52it/s]\n",
      " 96%|█████████▌| 218/228 [05:18<00:01,  7.70it/s]\n",
      " 96%|█████████▋| 220/228 [05:19<00:01,  7.00it/s]\n",
      " 97%|█████████▋| 221/228 [05:19<00:00,  7.32it/s]\n",
      " 97%|█████████▋| 222/228 [05:19<00:00,  7.77it/s]\n",
      " 98%|█████████▊| 223/228 [05:20<00:01,  2.92it/s]\n",
      " 34%|███▍      | 77/228 [05:02<00:46,  3.24it/s]\u001b[32m [repeated 243x across cluster]\u001b[0m\n",
      " 43%|████▎     | 99/228 [05:03<00:14,  8.81it/s]\n",
      " 98%|█████████▊| 224/228 [05:20<00:01,  3.52it/s]\n",
      " 91%|█████████ | 207/228 [05:18<00:03,  5.42it/s]\n",
      " 99%|█████████▉| 226/228 [05:20<00:00,  4.64it/s]\n",
      "100%|█████████▉| 227/228 [05:20<00:00,  5.28it/s]\n"
     ]
    },
    {
     "name": "stdout",
     "output_type": "stream",
     "text": [
      "\u001b[2m\u001b[36m(DefaultActor pid=92320)\u001b[0m  Training loss for epoch 4: 1.6532193712498013, accuracy: 0.40734649122807015\n"
     ]
    },
    {
     "name": "stderr",
     "output_type": "stream",
     "text": [
      "\u001b[2m\u001b[36m(DefaultActor pid=92319)\u001b[0m \r",
      " 98%|█████████▊| 223/228 [05:20<00:00,  7.95it/s]\u001b[32m [repeated 15x across cluster]\u001b[0m\n"
     ]
    },
    {
     "name": "stdout",
     "output_type": "stream",
     "text": [
      "\u001b[2m\u001b[36m(DefaultActor pid=92319)\u001b[0m  Training loss for epoch 4: 2.0089414166776756, accuracy: 0.23135964912280702\n"
     ]
    },
    {
     "name": "stderr",
     "output_type": "stream",
     "text": [
      " 50%|█████     | 115/228 [05:07<00:14,  7.77it/s]\u001b[32m [repeated 213x across cluster]\u001b[0m\n",
      " 68%|██████▊   | 155/228 [05:12<00:08,  8.12it/s]\u001b[32m [repeated 6x across cluster]\u001b[0m\n",
      "  0%|          | 0/228 [00:00<?, ?it/s]\n",
      "100%|██████████| 228/228 [05:20<00:00,  1.41s/it]\u001b[32m [repeated 4x across cluster]\u001b[0m\n",
      " 64%|██████▎   | 145/228 [05:12<00:28,  2.91it/s]\u001b[32m [repeated 201x across cluster]\u001b[0m\n",
      " 71%|███████▏  | 163/228 [05:11<00:07,  8.59it/s]\n",
      " 85%|████████▌ | 194/228 [05:17<00:05,  6.54it/s]\n",
      "  0%|          | 0/228 [00:00<?, ?it/s]\n",
      " 92%|█████████▏| 209/228 [05:20<00:02,  7.60it/s]\n",
      " 92%|█████████▏| 210/228 [05:20<00:02,  7.48it/s]\n",
      " 93%|█████████▎| 211/228 [05:20<00:02,  7.48it/s]\n"
     ]
    },
    {
     "name": "stdout",
     "output_type": "stream",
     "text": [
      "\u001b[2m\u001b[36m(DefaultActor pid=92313)\u001b[0m  Training loss for epoch 4: 2.3071808177128172, accuracy: 0.09676535087719298\n",
      "\u001b[2m\u001b[36m(DefaultActor pid=92316)\u001b[0m  Training loss for epoch 4: 2.307270615770106, accuracy: 0.0956688596491228\n"
     ]
    },
    {
     "name": "stderr",
     "output_type": "stream",
     "text": [
      " 80%|███████▉  | 182/228 [05:17<00:05,  9.19it/s]\u001b[32m [repeated 252x across cluster]\u001b[0m\n",
      " 81%|████████  | 185/228 [05:15<00:04,  8.78it/s]\u001b[32m [repeated 4x across cluster]\u001b[0m\n",
      " 97%|█████████▋| 222/228 [05:20<00:00, 11.39it/s]\u001b[32m [repeated 66x across cluster]\u001b[0m\n",
      " 46%|████▋     | 106/228 [00:09<00:07, 16.56it/s]\u001b[32m [repeated 85x across cluster]\u001b[0m\n",
      "100%|██████████| 228/228 [05:21<00:00,  1.41s/it]\u001b[32m [repeated 13x across cluster]\u001b[0m\n",
      " 84%|████████▍ | 192/228 [00:14<00:02, 16.57it/s]\u001b[32m [repeated 80x across cluster]\u001b[0m\n",
      "  0%|          | 0/228 [00:00<?, ?it/s]\n"
     ]
    },
    {
     "name": "stdout",
     "output_type": "stream",
     "text": [
      "\u001b[2m\u001b[36m(DefaultActor pid=92320)\u001b[0m  Training loss for epoch 0: 2.1280022807288588, accuracy: 0.21244517543859648\u001b[32m [repeated 5x across cluster]\u001b[0m\n"
     ]
    },
    {
     "name": "stderr",
     "output_type": "stream",
     "text": [
      "100%|██████████| 228/228 [00:16<00:00, 13.43it/s]\u001b[32m [repeated 21x across cluster]\u001b[0m\n",
      " 22%|██▏       | 50/228 [00:02<00:11, 16.14it/s]\u001b[32m [repeated 71x across cluster]\u001b[0m\n",
      "  0%|          | 0/228 [00:00<?, ?it/s]\n",
      " 59%|█████▉    | 134/228 [00:08<00:05, 16.59it/s]\u001b[32m [repeated 85x across cluster]\u001b[0m\n",
      " 92%|█████████▏| 210/228 [00:12<00:01, 16.80it/s]\n",
      " 93%|█████████▎| 212/228 [00:13<00:02,  6.07it/s]\n",
      " 94%|█████████▍| 214/228 [00:13<00:01,  7.48it/s]\n",
      " 95%|█████████▍| 216/228 [00:13<00:01,  8.68it/s]\n",
      " 96%|█████████▌| 218/228 [00:13<00:00, 10.04it/s]\n",
      " 96%|█████████▋| 220/228 [00:13<00:00, 11.36it/s]\n",
      " 97%|█████████▋| 222/228 [00:14<00:00, 12.48it/s]\n",
      " 98%|█████████▊| 224/228 [00:14<00:00, 13.74it/s]\n",
      " 99%|█████████▉| 226/228 [00:14<00:00, 14.37it/s]\n",
      "100%|██████████| 228/228 [00:14<00:00, 15.87it/s]\n",
      "  0%|          | 0/228 [00:00<?, ?it/s]\n"
     ]
    },
    {
     "name": "stdout",
     "output_type": "stream",
     "text": [
      "\u001b[2m\u001b[36m(DefaultActor pid=92320)\u001b[0m  Training loss for epoch 1: 2.3181032141049704, accuracy: 0.11513157894736842\u001b[32m [repeated 2x across cluster]\u001b[0m\n"
     ]
    },
    {
     "name": "stderr",
     "output_type": "stream",
     "text": [
      " 89%|████████▊ | 202/228 [00:13<00:01, 15.18it/s]\u001b[32m [repeated 60x across cluster]\u001b[0m\n",
      "100%|██████████| 228/228 [00:15<00:00, 14.81it/s]\u001b[32m [repeated 10x across cluster]\u001b[0m\n",
      "  0%|          | 0/228 [00:00<?, ?it/s]\n",
      " 20%|██        | 46/228 [00:02<00:11, 15.70it/s]\u001b[32m [repeated 62x across cluster]\u001b[0m\n",
      " 65%|██████▍   | 148/228 [00:10<00:05, 14.53it/s]\u001b[32m [repeated 69x across cluster]\u001b[0m\n",
      " 92%|█████████▏| 210/228 [00:14<00:01, 16.50it/s]\n",
      " 93%|█████████▎| 212/228 [00:14<00:00, 16.45it/s]\n",
      " 94%|█████████▍| 214/228 [00:14<00:00, 16.61it/s]\n",
      " 95%|█████████▍| 216/228 [00:14<00:00, 16.40it/s]\n",
      " 96%|█████████▌| 218/228 [00:14<00:00, 16.31it/s]\n",
      " 96%|█████████▋| 220/228 [00:15<00:00, 16.61it/s]\n",
      " 97%|█████████▋| 222/228 [00:15<00:00, 16.43it/s]\n",
      " 98%|█████████▊| 224/228 [00:15<00:00, 15.70it/s]\n",
      " 99%|█████████▉| 226/228 [00:15<00:00, 15.78it/s]\n",
      " 86%|████████▌ | 196/228 [00:12<00:01, 16.36it/s]\u001b[32m [repeated 71x across cluster]\u001b[0m\n",
      "100%|██████████| 228/228 [00:15<00:00, 14.64it/s]\n",
      "  0%|          | 0/228 [00:00<?, ?it/s]\n"
     ]
    },
    {
     "name": "stdout",
     "output_type": "stream",
     "text": [
      "\u001b[2m\u001b[36m(DefaultActor pid=92320)\u001b[0m  Training loss for epoch 2: 2.1384065485837165, accuracy: 0.20285087719298245\u001b[32m [repeated 2x across cluster]\u001b[0m\n"
     ]
    },
    {
     "name": "stderr",
     "output_type": "stream",
     "text": [
      "100%|██████████| 228/228 [00:14<00:00, 15.29it/s]\u001b[32m [repeated 10x across cluster]\u001b[0m\n",
      " 22%|██▏       | 50/228 [00:02<00:10, 17.27it/s]\u001b[32m [repeated 71x across cluster]\u001b[0m\n",
      "  0%|          | 0/228 [00:00<?, ?it/s]\n",
      " 73%|███████▎  | 166/228 [00:10<00:03, 16.64it/s]\u001b[32m [repeated 85x across cluster]\u001b[0m\n",
      " 92%|█████████▏| 210/228 [00:12<00:01, 17.05it/s]\n",
      " 93%|█████████▎| 212/228 [00:13<00:01,  8.85it/s]\n",
      " 94%|█████████▍| 214/228 [00:13<00:01,  9.89it/s]\n",
      " 95%|█████████▍| 216/228 [00:13<00:01, 11.11it/s]\n",
      " 96%|█████████▌| 218/228 [00:13<00:00, 12.13it/s]\n",
      " 96%|█████████▋| 220/228 [00:13<00:00, 13.12it/s]\n",
      " 97%|█████████▋| 222/228 [00:13<00:00, 13.87it/s]\n",
      " 98%|█████████▊| 224/228 [00:13<00:00, 14.64it/s]\n",
      " 99%|█████████▉| 226/228 [00:14<00:00, 15.25it/s]\n",
      "100%|██████████| 228/228 [00:14<00:00, 16.05it/s]\n",
      "  0%|          | 0/228 [00:00<?, ?it/s]\n"
     ]
    },
    {
     "name": "stdout",
     "output_type": "stream",
     "text": [
      "\u001b[2m\u001b[36m(DefaultActor pid=92320)\u001b[0m  Training loss for epoch 3: 1.8633345956342262, accuracy: 0.29577850877192985\u001b[32m [repeated 2x across cluster]\u001b[0m\n"
     ]
    },
    {
     "name": "stderr",
     "output_type": "stream",
     "text": [
      "  6%|▌         | 14/228 [00:00<00:13, 16.32it/s]\u001b[32m [repeated 65x across cluster]\u001b[0m\n",
      "100%|██████████| 228/228 [00:14<00:00, 16.13it/s]\u001b[32m [repeated 10x across cluster]\u001b[0m\n",
      "  0%|          | 0/228 [00:00<?, ?it/s]\n",
      " 30%|██▉       | 68/228 [00:04<00:10, 15.94it/s]\u001b[32m [repeated 76x across cluster]\u001b[0m\n",
      " 64%|██████▍   | 146/228 [00:09<00:04, 16.45it/s]\u001b[32m [repeated 78x across cluster]\u001b[0m\n",
      " 92%|█████████▏| 210/228 [00:13<00:01, 16.67it/s]\n",
      " 93%|█████████▎| 212/228 [00:13<00:00, 16.52it/s]\n",
      " 94%|█████████▍| 214/228 [00:13<00:00, 16.50it/s]\n",
      " 95%|█████████▍| 216/228 [00:13<00:00, 16.52it/s]\n",
      " 96%|█████████▌| 218/228 [00:13<00:00, 16.19it/s]\n",
      " 96%|█████████▋| 220/228 [00:13<00:00, 16.50it/s]\n",
      " 97%|█████████▋| 222/228 [00:13<00:00, 16.08it/s]\n",
      " 98%|█████████▊| 224/228 [00:13<00:00, 16.51it/s]\n",
      " 99%|█████████▉| 226/228 [00:13<00:00, 16.70it/s]\n",
      "100%|██████████| 228/228 [00:14<00:00, 16.17it/s]\n"
     ]
    },
    {
     "name": "stdout",
     "output_type": "stream",
     "text": [
      "\u001b[2m\u001b[36m(DefaultActor pid=92320)\u001b[0m  Training loss for epoch 4: 2.1131310823716616, accuracy: 0.21052631578947367\u001b[32m [repeated 2x across cluster]\u001b[0m\n"
     ]
    },
    {
     "name": "stderr",
     "output_type": "stream",
     "text": [
      "DEBUG flwr 2023-11-09 12:05:07,187 | server.py:236 | fit_round 2 received 10 results and 0 failures\n",
      "DEBUG:flwr:fit_round 2 received 10 results and 0 failures\n"
     ]
    },
    {
     "name": "stdout",
     "output_type": "stream",
     "text": [
      "Saving round 2 aggregated_parameters...\n",
      "Saved round 2 aggregated_parameters!\n"
     ]
    },
    {
     "name": "stderr",
     "output_type": "stream",
     "text": [
      "INFO flwr 2023-11-09 12:05:07,238 | server.py:171 | evaluate_round 2: no clients selected, cancel\n",
      "INFO:flwr:evaluate_round 2: no clients selected, cancel\n",
      "DEBUG flwr 2023-11-09 12:05:07,238 | server.py:222 | fit_round 3: strategy sampled 10 clients (out of 40)\n",
      "DEBUG:flwr:fit_round 3: strategy sampled 10 clients (out of 40)\n",
      "  0%|          | 0/228 [00:00<?, ?it/s]\n",
      " 91%|█████████ | 208/228 [00:12<00:01, 17.52it/s]\u001b[32m [repeated 47x across cluster]\u001b[0m\n",
      "100%|██████████| 228/228 [00:13<00:00, 16.30it/s]\u001b[32m [repeated 10x across cluster]\u001b[0m\n",
      "  0%|          | 0/228 [00:00<?, ?it/s]\u001b[32m [repeated 3x across cluster]\u001b[0m\n",
      "  2%|▏         | 4/228 [00:00<00:19, 11.55it/s]\u001b[32m [repeated 64x across cluster]\u001b[0m\n",
      " 41%|████      | 94/228 [00:08<00:14,  9.09it/s]\n",
      "  0%|          | 0/228 [00:00<?, ?it/s]\u001b[32m [repeated 4x across cluster]\u001b[0m\n",
      " 25%|██▍       | 56/228 [00:06<00:21,  8.15it/s]\u001b[32m [repeated 196x across cluster]\u001b[0m\n",
      " 18%|█▊        | 40/228 [00:05<00:27,  6.82it/s]\u001b[32m [repeated 7x across cluster]\u001b[0m\n",
      " 38%|███▊      | 87/228 [00:11<00:17,  8.13it/s]\u001b[32m [repeated 242x across cluster]\u001b[0m\n",
      " 43%|████▎     | 99/228 [00:12<00:16,  7.96it/s]\u001b[32m [repeated 10x across cluster]\u001b[0m\n",
      " 56%|█████▌    | 128/228 [00:16<00:12,  8.27it/s]\u001b[32m [repeated 299x across cluster]\u001b[0m\n",
      " 92%|█████████▏| 209/228 [00:22<00:02,  9.21it/s]\n",
      " 92%|█████████▏| 210/228 [00:22<00:02,  8.94it/s]\n",
      " 93%|█████████▎| 211/228 [00:22<00:01,  9.09it/s]\n",
      " 93%|█████████▎| 213/228 [00:22<00:01,  9.10it/s]\n",
      " 94%|█████████▍| 214/228 [00:22<00:01,  8.93it/s]\n",
      " 94%|█████████▍| 215/228 [00:23<00:01,  8.74it/s]\n",
      " 95%|█████████▍| 216/228 [00:23<00:01,  8.76it/s]\n",
      " 95%|█████████▌| 217/228 [00:23<00:01,  8.57it/s]\n",
      " 86%|████████▌ | 196/228 [00:21<00:03,  8.73it/s]\u001b[32m [repeated 6x across cluster]\u001b[0m\n",
      " 96%|█████████▌| 218/228 [00:23<00:01,  8.78it/s]\n",
      " 96%|█████████▌| 219/228 [00:23<00:01,  8.74it/s]\n",
      " 96%|█████████▋| 220/228 [00:23<00:00,  8.72it/s]\n",
      " 97%|█████████▋| 221/228 [00:23<00:00,  7.96it/s]\n",
      "  0%|          | 0/228 [00:00<?, ?it/s]\n"
     ]
    },
    {
     "name": "stdout",
     "output_type": "stream",
     "text": [
      "\u001b[2m\u001b[36m(DefaultActor pid=92319)\u001b[0m  Training loss for epoch 0: 1.8359068355016541, accuracy: 0.2768640350877193\u001b[32m [repeated 2x across cluster]\u001b[0m\n"
     ]
    },
    {
     "name": "stderr",
     "output_type": "stream",
     "text": [
      " 75%|███████▍  | 170/228 [00:21<00:06,  8.39it/s]\u001b[32m [repeated 286x across cluster]\u001b[0m\n",
      "100%|██████████| 228/228 [00:25<00:00,  9.02it/s]\u001b[32m [repeated 25x across cluster]\u001b[0m\n",
      " 80%|███████▉  | 182/228 [00:23<00:05,  8.72it/s]\u001b[32m [repeated 6x across cluster]\u001b[0m\n",
      "  0%|          | 0/228 [00:00<?, ?it/s]\n",
      " 91%|█████████ | 208/228 [00:24<00:02,  8.95it/s]\u001b[32m [repeated 292x across cluster]\u001b[0m\n",
      "  0%|          | 0/228 [00:00<?, ?it/s]\n"
     ]
    },
    {
     "name": "stdout",
     "output_type": "stream",
     "text": [
      "\u001b[2m\u001b[36m(DefaultActor pid=92317)\u001b[0m  Training loss for epoch 0: 1.7523637225753383, accuracy: 0.33278508771929827\u001b[32m [repeated 2x across cluster]\u001b[0m\n"
     ]
    },
    {
     "name": "stderr",
     "output_type": "stream",
     "text": [
      "100%|██████████| 228/228 [00:26<00:00,  8.55it/s]\u001b[32m [repeated 47x across cluster]\u001b[0m\n",
      "  4%|▎         | 8/228 [00:00<00:23,  9.28it/s]\u001b[32m [repeated 6x across cluster]\u001b[0m\n",
      " 11%|█▏        | 26/228 [00:03<00:23,  8.60it/s]\u001b[32m [repeated 238x across cluster]\u001b[0m\n"
     ]
    },
    {
     "name": "stdout",
     "output_type": "stream",
     "text": [
      "\u001b[2m\u001b[36m(DefaultActor pid=92316)\u001b[0m \n"
     ]
    },
    {
     "name": "stderr",
     "output_type": "stream",
     "text": [
      "  0%|          | 0/228 [00:00<?, ?it/s]\u001b[32m [repeated 4x across cluster]\u001b[0m\n",
      " 95%|█████████▌| 217/228 [00:27<00:01,  8.22it/s]\u001b[32m [repeated 51x across cluster]\u001b[0m\n",
      " 11%|█▏        | 26/228 [00:02<00:22,  8.87it/s]\u001b[32m [repeated 5x across cluster]\u001b[0m\n"
     ]
    },
    {
     "name": "stdout",
     "output_type": "stream",
     "text": [
      "\u001b[2m\u001b[36m(DefaultActor pid=92313)\u001b[0m  Training loss for epoch 0: 1.6377048157809073, accuracy: 0.3900767543859649\u001b[32m [repeated 5x across cluster]\u001b[0m\n"
     ]
    },
    {
     "name": "stderr",
     "output_type": "stream",
     "text": [
      " 27%|██▋       | 61/228 [00:08<00:24,  6.91it/s]\u001b[32m [repeated 240x across cluster]\u001b[0m\n",
      "  0%|          | 0/228 [00:00<?, ?it/s]\n",
      "100%|██████████| 228/228 [00:28<00:00,  7.88it/s]\u001b[32m [repeated 11x across cluster]\u001b[0m\n",
      " 40%|████      | 92/228 [00:11<00:16,  8.37it/s]\u001b[32m [repeated 6x across cluster]\u001b[0m\n",
      " 40%|████      | 92/228 [00:12<00:18,  7.51it/s]\u001b[32m [repeated 304x across cluster]\u001b[0m\n",
      " 81%|████████  | 185/228 [00:22<00:05,  8.31it/s]\u001b[32m [repeated 6x across cluster]\u001b[0m\n",
      " 92%|█████████▏| 209/228 [00:25<00:02,  7.07it/s]\n",
      " 93%|█████████▎| 211/228 [00:25<00:02,  8.13it/s]\n",
      " 93%|█████████▎| 212/228 [00:25<00:01,  8.37it/s]\n",
      " 93%|█████████▎| 213/228 [00:25<00:01,  8.67it/s]\n",
      " 59%|█████▉    | 135/228 [00:18<00:12,  7.34it/s]\u001b[32m [repeated 277x across cluster]\u001b[0m\n",
      " 94%|█████████▍| 214/228 [00:25<00:01,  8.75it/s]\n",
      " 94%|█████████▍| 215/228 [00:26<00:01,  8.50it/s]\n",
      " 95%|█████████▍| 216/228 [00:26<00:01,  8.59it/s]\n",
      " 95%|█████████▌| 217/228 [00:26<00:01,  8.42it/s]\n",
      " 96%|█████████▌| 218/228 [00:26<00:01,  8.76it/s]\n",
      " 96%|█████████▌| 219/228 [00:26<00:01,  8.23it/s]\n",
      " 96%|█████████▋| 220/228 [00:26<00:01,  7.99it/s]\n",
      "  0%|          | 0/228 [00:00<?, ?it/s]\n"
     ]
    },
    {
     "name": "stdout",
     "output_type": "stream",
     "text": [
      "\u001b[2m\u001b[36m(DefaultActor pid=92313)\u001b[0m \n",
      "\u001b[2m\u001b[36m(DefaultActor pid=92319)\u001b[0m  Training loss for epoch 1: 1.7252571611550815, accuracy: 0.3717105263157895\n",
      "\u001b[2m\u001b[36m(DefaultActor pid=92320)\u001b[0m  Training loss for epoch 1: 1.6179794083561814, accuracy: 0.39035087719298245\n"
     ]
    },
    {
     "name": "stderr",
     "output_type": "stream",
     "text": [
      " 88%|████████▊ | 201/228 [00:24<00:03,  8.41it/s]\n",
      " 71%|███████▏  | 163/228 [00:21<00:08,  7.99it/s]\n",
      "100%|██████████| 228/228 [00:27<00:00,  8.31it/s]\u001b[32m [repeated 24x across cluster]\u001b[0m\n",
      " 77%|███████▋  | 175/228 [00:23<00:06,  7.76it/s]\u001b[32m [repeated 272x across cluster]\u001b[0m\n",
      "  0%|          | 0/228 [00:00<?, ?it/s]\n",
      " 21%|██▏       | 49/228 [00:05<00:20,  8.87it/s]\u001b[32m [repeated 9x across cluster]\u001b[0m\n",
      "  0%|          | 0/228 [00:00<?, ?it/s]\n"
     ]
    },
    {
     "name": "stdout",
     "output_type": "stream",
     "text": [
      "\u001b[2m\u001b[36m(DefaultActor pid=92314)\u001b[0m  Training loss for epoch 1: 2.0492386101630697, accuracy: 0.23519736842105263\n"
     ]
    },
    {
     "name": "stderr",
     "output_type": "stream",
     "text": [
      " 94%|█████████▍| 214/228 [00:28<00:01,  8.25it/s]\u001b[32m [repeated 23x across cluster]\u001b[0m\n",
      " 27%|██▋       | 62/228 [00:07<00:18,  8.83it/s]\u001b[32m [repeated 284x across cluster]\u001b[0m\n"
     ]
    },
    {
     "name": "stdout",
     "output_type": "stream",
     "text": [
      "\u001b[2m\u001b[36m(DefaultActor pid=92317)\u001b[0m  Training loss for epoch 1: 1.761532815924862, accuracy: 0.3182565789473684\n"
     ]
    },
    {
     "name": "stderr",
     "output_type": "stream",
     "text": [
      "  4%|▎         | 8/228 [00:00<00:25,  8.72it/s]\u001b[32m [repeated 3x across cluster]\u001b[0m\n",
      "  0%|          | 0/228 [00:00<?, ?it/s]\u001b[32m [repeated 3x across cluster]\u001b[0m\n",
      " 98%|█████████▊| 223/228 [00:28<00:00,  8.61it/s]\u001b[32m [repeated 64x across cluster]\u001b[0m\n",
      " 46%|████▋     | 106/228 [00:12<00:13,  8.74it/s]\u001b[32m [repeated 252x across cluster]\u001b[0m\n"
     ]
    },
    {
     "name": "stdout",
     "output_type": "stream",
     "text": [
      "\u001b[2m\u001b[36m(DefaultActor pid=92313)\u001b[0m \n",
      "\u001b[2m\u001b[36m(DefaultActor pid=92313)\u001b[0m  Training loss for epoch 1: 1.876532834872865, accuracy: 0.30838815789473684\u001b[32m [repeated 4x across cluster]\u001b[0m\n"
     ]
    },
    {
     "name": "stderr",
     "output_type": "stream",
     "text": [
      " 54%|█████▍    | 123/228 [00:14<00:11,  9.12it/s]\u001b[32m [repeated 5x across cluster]\u001b[0m\n",
      "  0%|          | 0/228 [00:00<?, ?it/s]\u001b[32m [repeated 2x across cluster]\u001b[0m\n",
      "100%|██████████| 228/228 [00:29<00:00,  7.69it/s]\u001b[32m [repeated 24x across cluster]\u001b[0m\n",
      " 28%|██▊       | 64/228 [00:08<00:20,  7.83it/s]\u001b[32m [repeated 247x across cluster]\u001b[0m\n",
      " 82%|████████▏ | 186/228 [00:21<00:04,  9.04it/s]\u001b[32m [repeated 12x across cluster]\u001b[0m\n",
      " 47%|████▋     | 107/228 [00:13<00:15,  7.99it/s]\u001b[32m [repeated 299x across cluster]\u001b[0m\n",
      " 92%|█████████▏| 210/228 [00:24<00:02,  8.78it/s]\n",
      " 93%|█████████▎| 211/228 [00:24<00:01,  8.81it/s]\n",
      " 93%|█████████▎| 212/228 [00:24<00:01,  8.90it/s]\n",
      " 93%|█████████▎| 213/228 [00:24<00:01,  8.79it/s]\n",
      " 94%|█████████▍| 214/228 [00:25<00:01,  8.32it/s]\n",
      " 94%|█████████▍| 215/228 [00:25<00:01,  8.11it/s]\n",
      " 95%|█████████▍| 216/228 [00:25<00:01,  8.45it/s]\n",
      " 96%|█████████▌| 218/228 [00:25<00:01,  8.69it/s]\n",
      "  0%|          | 0/228 [00:00<?, ?it/s]\n"
     ]
    },
    {
     "name": "stdout",
     "output_type": "stream",
     "text": [
      "\u001b[2m\u001b[36m(DefaultActor pid=92319)\u001b[0m  Training loss for epoch 2: 1.8321681012187088, accuracy: 0.32648026315789475\n"
     ]
    },
    {
     "name": "stderr",
     "output_type": "stream",
     "text": [
      "\u001b[2m\u001b[36m(DefaultActor pid=92317)\u001b[0m \r",
      " 59%|█████▉    | 135/228 [00:17<00:19,  4.87it/s]\r",
      " 60%|█████▉    | 136/228 [00:17<00:16,  5.71it/s]\u001b[32m [repeated 6x across cluster]\u001b[0m\n"
     ]
    },
    {
     "name": "stdout",
     "output_type": "stream",
     "text": [
      "\u001b[2m\u001b[36m(DefaultActor pid=92320)\u001b[0m  Training loss for epoch 2: 1.9783275038526769, accuracy: 0.28234649122807015\n"
     ]
    },
    {
     "name": "stderr",
     "output_type": "stream",
     "text": [
      " 63%|██████▎   | 144/228 [00:18<00:10,  8.03it/s]\u001b[32m [repeated 239x across cluster]\u001b[0m\n",
      "100%|██████████| 228/228 [00:27<00:00,  8.38it/s]\u001b[32m [repeated 26x across cluster]\u001b[0m\n",
      "  0%|          | 0/228 [00:00<?, ?it/s]\n",
      " 13%|█▎        | 30/228 [00:03<00:22,  8.76it/s]\u001b[32m [repeated 7x across cluster]\u001b[0m\n",
      " 81%|████████  | 184/228 [00:23<00:05,  8.28it/s]\u001b[32m [repeated 306x across cluster]\u001b[0m\n",
      "  0%|          | 0/228 [00:00<?, ?it/s]\n"
     ]
    },
    {
     "name": "stdout",
     "output_type": "stream",
     "text": [
      "\u001b[2m\u001b[36m(DefaultActor pid=92314)\u001b[0m  Training loss for epoch 2: 1.8241195976734161, accuracy: 0.3130482456140351\n"
     ]
    },
    {
     "name": "stderr",
     "output_type": "stream",
     "text": [
      "100%|██████████| 228/228 [00:26<00:00,  8.48it/s]\u001b[32m [repeated 15x across cluster]\u001b[0m\n",
      " 91%|█████████ | 208/228 [00:24<00:02,  8.50it/s]\u001b[32m [repeated 3x across cluster]\u001b[0m\n"
     ]
    },
    {
     "name": "stdout",
     "output_type": "stream",
     "text": [
      "\u001b[2m\u001b[36m(DefaultActor pid=92316)\u001b[0m  Training loss for epoch 2: 1.5675591920551502, accuracy: 0.44709429824561403\n"
     ]
    },
    {
     "name": "stderr",
     "output_type": "stream",
     "text": [
      " 16%|█▌        | 36/228 [00:04<00:22,  8.65it/s]\u001b[32m [repeated 255x across cluster]\u001b[0m\n",
      "  0%|          | 0/228 [00:00<?, ?it/s]\u001b[32m [repeated 3x across cluster]\u001b[0m\n",
      "100%|██████████| 228/228 [00:28<00:00,  7.95it/s]\u001b[32m [repeated 56x across cluster]\u001b[0m\n",
      " 57%|█████▋    | 130/228 [00:14<00:11,  8.75it/s]\u001b[32m [repeated 6x across cluster]\u001b[0m\n",
      " 18%|█▊        | 42/228 [00:04<00:22,  8.18it/s]\u001b[32m [repeated 287x across cluster]\u001b[0m\n",
      "  0%|          | 0/228 [00:00<?, ?it/s]\n",
      " 98%|█████████▊| 223/228 [00:28<00:00,  8.61it/s]\u001b[32m [repeated 34x across cluster]\u001b[0m\n"
     ]
    },
    {
     "name": "stdout",
     "output_type": "stream",
     "text": [
      "\u001b[2m\u001b[36m(DefaultActor pid=92313)\u001b[0m  Training loss for epoch 2: 1.5674410789159305, accuracy: 0.40652412280701755\u001b[32m [repeated 4x across cluster]\u001b[0m\n"
     ]
    },
    {
     "name": "stderr",
     "output_type": "stream",
     "text": [
      "  0%|          | 0/228 [00:00<?, ?it/s]\n",
      " 71%|███████   | 161/228 [00:18<00:14,  4.77it/s]\u001b[32m [repeated 2x across cluster]\u001b[0m\n",
      " 35%|███▍      | 79/228 [00:09<00:18,  8.01it/s]\u001b[32m [repeated 276x across cluster]\u001b[0m\n",
      "100%|██████████| 228/228 [00:29<00:00,  7.83it/s]\u001b[32m [repeated 5x across cluster]\u001b[0m\n",
      " 90%|█████████ | 206/228 [00:23<00:02,  9.39it/s]\u001b[32m [repeated 6x across cluster]\u001b[0m\n",
      " 54%|█████▎    | 122/228 [00:15<00:13,  8.09it/s]\u001b[32m [repeated 283x across cluster]\u001b[0m\n",
      "  0%|          | 0/228 [00:00<?, ?it/s]\n"
     ]
    },
    {
     "name": "stdout",
     "output_type": "stream",
     "text": [
      "\u001b[2m\u001b[36m(DefaultActor pid=92319)\u001b[0m  Training loss for epoch 3: 1.6487521121376438, accuracy: 0.3692434210526316\n"
     ]
    },
    {
     "name": "stderr",
     "output_type": "stream",
     "text": [
      "\u001b[2m\u001b[36m(DefaultActor pid=92320)\u001b[0m \r",
      "100%|█████████▉| 227/228 [00:26<00:00,  8.50it/s]\u001b[32m [repeated 35x across cluster]\u001b[0m\n"
     ]
    },
    {
     "name": "stdout",
     "output_type": "stream",
     "text": [
      "\u001b[2m\u001b[36m(DefaultActor pid=92320)\u001b[0m  Training loss for epoch 3: 1.6788932466716098, accuracy: 0.3656798245614035\n"
     ]
    },
    {
     "name": "stderr",
     "output_type": "stream",
     "text": [
      "  7%|▋         | 16/228 [00:01<00:23,  9.09it/s]\u001b[32m [repeated 5x across cluster]\u001b[0m\n",
      " 68%|██████▊   | 155/228 [00:19<00:09,  8.03it/s]\u001b[32m [repeated 273x across cluster]\u001b[0m\n",
      "  0%|          | 0/228 [00:00<?, ?it/s]\n",
      " 96%|█████████▌| 218/228 [00:25<00:01,  8.81it/s]\u001b[32m [repeated 10x across cluster]\u001b[0m\n",
      "  0%|          | 0/228 [00:00<?, ?it/s]\n"
     ]
    },
    {
     "name": "stdout",
     "output_type": "stream",
     "text": [
      "\u001b[2m\u001b[36m(DefaultActor pid=92314)\u001b[0m  Training loss for epoch 3: 1.6765922752388738, accuracy: 0.37472587719298245\n"
     ]
    },
    {
     "name": "stderr",
     "output_type": "stream",
     "text": [
      " 83%|████████▎ | 189/228 [00:22<00:04,  8.79it/s]\u001b[32m [repeated 3x across cluster]\u001b[0m\n",
      " 87%|████████▋ | 199/228 [00:25<00:03,  8.06it/s]\u001b[32m [repeated 286x across cluster]\u001b[0m\n",
      " 92%|█████████▏| 209/228 [00:26<00:02,  8.10it/s]\u001b[32m [repeated 26x across cluster]\u001b[0m\n"
     ]
    },
    {
     "name": "stdout",
     "output_type": "stream",
     "text": [
      "\u001b[2m\u001b[36m(DefaultActor pid=92316)\u001b[0m  Training loss for epoch 3: 1.6057148421542686, accuracy: 0.4331140350877193\n"
     ]
    },
    {
     "name": "stderr",
     "output_type": "stream",
     "text": [
      "  0%|          | 0/228 [00:00<?, ?it/s]\n",
      "  0%|          | 0/228 [00:00<?, ?it/s]\n",
      " 46%|████▋     | 106/228 [00:12<00:13,  8.95it/s]\n",
      "  6%|▌         | 14/228 [00:01<00:25,  8.35it/s]\u001b[32m [repeated 274x across cluster]\u001b[0m\n",
      "  5%|▌         | 12/228 [00:01<00:24,  8.64it/s]\n",
      " 94%|█████████▍| 214/228 [00:27<00:01,  8.24it/s]\u001b[32m [repeated 44x across cluster]\u001b[0m\n"
     ]
    },
    {
     "name": "stdout",
     "output_type": "stream",
     "text": [
      "\u001b[2m\u001b[36m(DefaultActor pid=92315)\u001b[0m  Training loss for epoch 3: 1.1997003604968388, accuracy: 0.5819627192982456\u001b[32m [repeated 3x across cluster]\u001b[0m\n"
     ]
    },
    {
     "name": "stderr",
     "output_type": "stream",
     "text": [
      "  0%|          | 0/228 [00:00<?, ?it/s]\u001b[32m [repeated 2x across cluster]\u001b[0m\n",
      " 23%|██▎       | 53/228 [00:06<00:21,  8.02it/s]\u001b[32m [repeated 281x across cluster]\u001b[0m\n",
      " 50%|████▉     | 113/228 [00:12<00:13,  8.35it/s]\u001b[32m [repeated 8x across cluster]\u001b[0m\n",
      "100%|██████████| 228/228 [00:29<00:00,  7.82it/s]\u001b[32m [repeated 32x across cluster]\u001b[0m\n",
      "  0%|          | 0/228 [00:00<?, ?it/s]\n",
      " 41%|████      | 93/228 [00:11<00:17,  7.91it/s]\u001b[32m [repeated 274x across cluster]\u001b[0m\n",
      " 23%|██▎       | 52/228 [00:06<00:20,  8.49it/s]\u001b[32m [repeated 2x across cluster]\u001b[0m\n",
      " 93%|█████████▎| 211/228 [00:25<00:02,  8.30it/s]\u001b[32m [repeated 14x across cluster]\u001b[0m\n"
     ]
    },
    {
     "name": "stdout",
     "output_type": "stream",
     "text": [
      "\u001b[2m\u001b[36m(DefaultActor pid=92319)\u001b[0m  Training loss for epoch 4: 1.8694074174814057, accuracy: 0.28152412280701755\u001b[32m [repeated 2x across cluster]\u001b[0m\n"
     ]
    },
    {
     "name": "stderr",
     "output_type": "stream",
     "text": [
      "  0%|          | 0/228 [00:00<?, ?it/s]\n",
      " 60%|█████▉    | 136/228 [00:16<00:09,  9.24it/s]\u001b[32m [repeated 246x across cluster]\u001b[0m\n",
      " 16%|█▌        | 36/228 [00:04<00:22,  8.41it/s]\u001b[32m [repeated 2x across cluster]\u001b[0m\n",
      " 92%|█████████▏| 209/228 [00:24<00:02,  8.64it/s]\u001b[32m [repeated 19x across cluster]\u001b[0m\n"
     ]
    },
    {
     "name": "stdout",
     "output_type": "stream",
     "text": [
      "\u001b[2m\u001b[36m(DefaultActor pid=92314)\u001b[0m  Training loss for epoch 4: 1.5979390447599846, accuracy: 0.42023026315789475\u001b[32m [repeated 2x across cluster]\u001b[0m\n"
     ]
    },
    {
     "name": "stderr",
     "output_type": "stream",
     "text": [
      "  0%|          | 0/228 [00:00<?, ?it/s]\n",
      " 76%|███████▋  | 174/228 [00:21<00:06,  8.92it/s]\u001b[32m [repeated 239x across cluster]\u001b[0m\n",
      "  7%|▋         | 16/228 [00:01<00:23,  8.95it/s]\u001b[32m [repeated 2x across cluster]\u001b[0m\n",
      " 93%|█████████▎| 211/228 [00:25<00:01,  9.70it/s]\u001b[32m [repeated 18x across cluster]\u001b[0m\n",
      " 37%|███▋      | 84/228 [00:09<00:12, 11.16it/s]\u001b[32m [repeated 186x across cluster]\u001b[0m\n",
      " 52%|█████▏    | 119/228 [00:15<00:11,  9.15it/s]\n"
     ]
    },
    {
     "name": "stdout",
     "output_type": "stream",
     "text": [
      "\u001b[2m\u001b[36m(DefaultActor pid=92317)\u001b[0m  Training loss for epoch 4: 1.1850193159883482, accuracy: 0.6271929824561403\u001b[32m [repeated 2x across cluster]\u001b[0m\n"
     ]
    },
    {
     "name": "stderr",
     "output_type": "stream",
     "text": [
      "100%|██████████| 228/228 [00:27<00:00,  8.31it/s]\u001b[32m [repeated 35x across cluster]\u001b[0m\n",
      " 70%|██████▉   | 159/228 [00:15<00:05, 12.93it/s]\u001b[32m [repeated 100x across cluster]\u001b[0m\n",
      "100%|██████████| 228/228 [00:25<00:00,  9.03it/s]\u001b[32m [repeated 20x across cluster]\u001b[0m\n",
      "  0%|          | 0/228 [00:00<?, ?it/s]\n"
     ]
    },
    {
     "name": "stdout",
     "output_type": "stream",
     "text": [
      "\u001b[2m\u001b[36m(DefaultActor pid=92319)\u001b[0m  Training loss for epoch 0: 1.750106545393927, accuracy: 0.32648026315789475\u001b[32m [repeated 4x across cluster]\u001b[0m\n"
     ]
    },
    {
     "name": "stderr",
     "output_type": "stream",
     "text": [
      "  6%|▌         | 14/228 [00:00<00:12, 16.61it/s]\u001b[32m [repeated 63x across cluster]\u001b[0m\n",
      "100%|██████████| 228/228 [00:19<00:00, 11.97it/s]\u001b[32m [repeated 20x across cluster]\u001b[0m\n",
      "  0%|          | 0/228 [00:00<?, ?it/s]\n",
      " 39%|███▉      | 90/228 [00:05<00:08, 16.58it/s]\u001b[32m [repeated 76x across cluster]\u001b[0m\n",
      " 76%|███████▋  | 174/228 [00:10<00:03, 16.45it/s]\u001b[32m [repeated 83x across cluster]\u001b[0m\n",
      " 92%|█████████▏| 210/228 [00:13<00:01, 16.79it/s]\n",
      " 93%|█████████▎| 212/228 [00:13<00:00, 16.93it/s]\n",
      " 94%|█████████▍| 214/228 [00:13<00:00, 17.04it/s]\n",
      " 95%|█████████▍| 216/228 [00:13<00:01,  8.91it/s]\n",
      " 96%|█████████▌| 218/228 [00:13<00:00, 10.23it/s]\n",
      " 96%|█████████▋| 220/228 [00:14<00:00, 11.61it/s]\n",
      "  0%|          | 0/228 [00:00<?, ?it/s]\n"
     ]
    },
    {
     "name": "stdout",
     "output_type": "stream",
     "text": [
      "\u001b[2m\u001b[36m(DefaultActor pid=92319)\u001b[0m  Training loss for epoch 1: 1.7126592361090476, accuracy: 0.3495065789473684\u001b[32m [repeated 2x across cluster]\u001b[0m\n"
     ]
    },
    {
     "name": "stderr",
     "output_type": "stream",
     "text": [
      " 11%|█         | 24/228 [00:01<00:12, 16.18it/s]\u001b[32m [repeated 59x across cluster]\u001b[0m\n",
      "100%|██████████| 228/228 [00:14<00:00, 15.67it/s]\u001b[32m [repeated 14x across cluster]\u001b[0m\n",
      "  0%|          | 0/228 [00:00<?, ?it/s]\n",
      " 46%|████▋     | 106/228 [00:06<00:07, 16.51it/s]\u001b[32m [repeated 82x across cluster]\u001b[0m\n",
      " 83%|████████▎ | 190/228 [00:11<00:02, 17.17it/s]\u001b[32m [repeated 84x across cluster]\u001b[0m\n",
      " 92%|█████████▏| 210/228 [00:12<00:01, 16.50it/s]\n",
      " 93%|█████████▎| 212/228 [00:12<00:00, 16.80it/s]\n",
      " 94%|█████████▍| 214/228 [00:12<00:00, 16.38it/s]\n",
      " 95%|█████████▍| 216/228 [00:13<00:00, 16.52it/s]\n",
      " 96%|█████████▌| 218/228 [00:13<00:00, 16.48it/s]\n",
      " 96%|█████████▋| 220/228 [00:13<00:00, 16.55it/s]\n",
      "  0%|          | 0/228 [00:00<?, ?it/s]\n"
     ]
    },
    {
     "name": "stdout",
     "output_type": "stream",
     "text": [
      "\u001b[2m\u001b[36m(DefaultActor pid=92319)\u001b[0m  Training loss for epoch 2: 1.5970360106020642, accuracy: 0.4081688596491228\u001b[32m [repeated 2x across cluster]\u001b[0m\n"
     ]
    },
    {
     "name": "stderr",
     "output_type": "stream",
     "text": [
      " 20%|██        | 46/228 [00:02<00:10, 16.60it/s]\u001b[32m [repeated 64x across cluster]\u001b[0m\n",
      "100%|██████████| 228/228 [00:13<00:00, 16.55it/s]\u001b[32m [repeated 14x across cluster]\u001b[0m\n",
      "  0%|          | 0/228 [00:00<?, ?it/s]\n",
      " 54%|█████▍    | 124/228 [00:07<00:06, 16.75it/s]\u001b[32m [repeated 79x across cluster]\u001b[0m\n",
      " 91%|█████████ | 208/228 [00:12<00:01, 16.35it/s]\u001b[32m [repeated 84x across cluster]\u001b[0m\n",
      " 92%|█████████▏| 210/228 [00:13<00:01, 16.61it/s]\n",
      " 93%|█████████▎| 212/228 [00:13<00:00, 16.47it/s]\n",
      " 94%|█████████▍| 214/228 [00:13<00:00, 16.60it/s]\n",
      " 95%|█████████▍| 216/228 [00:13<00:00, 16.60it/s]\n",
      "  0%|          | 0/228 [00:00<?, ?it/s]\n"
     ]
    },
    {
     "name": "stdout",
     "output_type": "stream",
     "text": [
      "\u001b[2m\u001b[36m(DefaultActor pid=92319)\u001b[0m  Training loss for epoch 3: 1.6343134448193668, accuracy: 0.3972039473684211\u001b[32m [repeated 2x across cluster]\u001b[0m\n",
      "\u001b[2m\u001b[36m(DefaultActor pid=92320)\u001b[0m \n"
     ]
    },
    {
     "name": "stderr",
     "output_type": "stream",
     "text": [
      " 25%|██▌       | 58/228 [00:03<00:10, 16.79it/s]\u001b[32m [repeated 59x across cluster]\u001b[0m\n",
      "100%|██████████| 228/228 [00:14<00:00, 16.27it/s]\u001b[32m [repeated 16x across cluster]\u001b[0m\n",
      "  0%|          | 0/228 [00:00<?, ?it/s]\n",
      " 63%|██████▎   | 144/228 [00:08<00:04, 17.10it/s]\u001b[32m [repeated 85x across cluster]\u001b[0m\n",
      " 92%|█████████▏| 210/228 [00:12<00:01, 16.52it/s]\n",
      " 93%|█████████▎| 212/228 [00:12<00:00, 16.74it/s]\n",
      " 94%|█████████▍| 214/228 [00:13<00:00, 16.44it/s]\n",
      " 95%|█████████▍| 216/228 [00:13<00:00, 16.38it/s]\n",
      " 96%|█████████▌| 218/228 [00:13<00:00, 16.45it/s]\n"
     ]
    },
    {
     "name": "stdout",
     "output_type": "stream",
     "text": [
      "\u001b[2m\u001b[36m(DefaultActor pid=92319)\u001b[0m  Training loss for epoch 4: 1.888310583537085, accuracy: 0.34018640350877194\u001b[32m [repeated 2x across cluster]\u001b[0m\n"
     ]
    },
    {
     "name": "stderr",
     "output_type": "stream",
     "text": [
      " 91%|█████████ | 208/228 [00:12<00:01, 16.79it/s]\u001b[32m [repeated 69x across cluster]\u001b[0m\n",
      "DEBUG flwr 2023-11-09 12:08:41,463 | server.py:236 | fit_round 3 received 10 results and 0 failures\n",
      "DEBUG:flwr:fit_round 3 received 10 results and 0 failures\n"
     ]
    },
    {
     "name": "stdout",
     "output_type": "stream",
     "text": [
      "Saving round 3 aggregated_parameters...\n",
      "Saved round 3 aggregated_parameters!\n"
     ]
    },
    {
     "name": "stderr",
     "output_type": "stream",
     "text": [
      "INFO flwr 2023-11-09 12:08:41,520 | server.py:171 | evaluate_round 3: no clients selected, cancel\n",
      "INFO:flwr:evaluate_round 3: no clients selected, cancel\n",
      "DEBUG flwr 2023-11-09 12:08:41,521 | server.py:222 | fit_round 4: strategy sampled 10 clients (out of 40)\n",
      "DEBUG:flwr:fit_round 4: strategy sampled 10 clients (out of 40)\n",
      "  0%|          | 0/228 [00:00<?, ?it/s]\n",
      "100%|██████████| 228/228 [00:13<00:00, 16.35it/s]\u001b[32m [repeated 15x across cluster]\u001b[0m\n",
      " 14%|█▍        | 32/228 [00:03<00:18, 10.59it/s]\u001b[32m [repeated 23x across cluster]\u001b[0m\n",
      "  0%|          | 0/228 [00:00<?, ?it/s]\u001b[32m [repeated 3x across cluster]\u001b[0m\n",
      " 14%|█▍        | 33/228 [00:02<00:19, 10.19it/s]\u001b[32m [repeated 121x across cluster]\u001b[0m\n",
      " 45%|████▍     | 102/228 [00:09<00:14,  8.78it/s]\n",
      "  0%|          | 0/228 [00:00<?, ?it/s]\u001b[32m [repeated 3x across cluster]\u001b[0m\n",
      " 15%|█▍        | 34/228 [00:04<00:28,  6.90it/s]\u001b[32m [repeated 221x across cluster]\u001b[0m\n",
      " 45%|████▌     | 103/228 [00:11<00:28,  4.40it/s]\n",
      " 61%|██████▏   | 140/228 [00:14<00:09,  8.82it/s]\n",
      "  0%|          | 0/228 [00:00<?, ?it/s]\n",
      " 33%|███▎      | 75/228 [00:09<00:19,  7.99it/s]\u001b[32m [repeated 317x across cluster]\u001b[0m\n",
      " 26%|██▌       | 59/228 [00:07<00:19,  8.86it/s]\u001b[32m [repeated 5x across cluster]\u001b[0m\n",
      " 92%|█████████▏| 209/228 [00:22<00:02,  8.88it/s]\n",
      " 92%|█████████▏| 210/228 [00:22<00:02,  8.67it/s]\n",
      " 93%|█████████▎| 211/228 [00:22<00:01,  8.75it/s]\n",
      " 93%|█████████▎| 212/228 [00:22<00:01,  8.77it/s]\n",
      " 93%|█████████▎| 213/228 [00:22<00:01,  8.86it/s]\n",
      " 94%|█████████▍| 214/228 [00:22<00:01,  8.85it/s]\n",
      " 94%|█████████▍| 215/228 [00:23<00:01,  8.46it/s]\n",
      " 95%|█████████▍| 216/228 [00:23<00:01,  8.39it/s]\n",
      " 51%|█████     | 116/228 [00:15<00:13,  8.07it/s]\u001b[32m [repeated 314x across cluster]\u001b[0m\n",
      " 96%|█████████▌| 218/228 [00:23<00:01,  9.27it/s]\n",
      " 96%|█████████▋| 220/228 [00:23<00:00,  9.65it/s]\n",
      " 97%|█████████▋| 221/228 [00:23<00:00,  9.40it/s]\n",
      " 97%|█████████▋| 222/228 [00:23<00:00,  9.53it/s]\n",
      " 98%|█████████▊| 224/228 [00:24<00:00,  9.49it/s]\n",
      " 99%|█████████▊| 225/228 [00:24<00:00,  9.21it/s]\n",
      "100%|█████████▉| 227/228 [00:24<00:00,  9.23it/s]\n",
      "100%|██████████| 228/228 [00:24<00:00,  9.32it/s]\n",
      "  0%|          | 0/228 [00:00<?, ?it/s]\n"
     ]
    },
    {
     "name": "stdout",
     "output_type": "stream",
     "text": [
      "\u001b[2m\u001b[36m(DefaultActor pid=92320)\u001b[0m  Training loss for epoch 0: 1.5249018127980984, accuracy: 0.4133771929824561\u001b[32m [repeated 2x across cluster]\u001b[0m\n"
     ]
    },
    {
     "name": "stderr",
     "output_type": "stream",
     "text": [
      " 79%|███████▊  | 179/228 [00:21<00:05,  8.39it/s]\u001b[32m [repeated 3x across cluster]\u001b[0m\n",
      "100%|██████████| 228/228 [00:25<00:00,  8.85it/s]\u001b[32m [repeated 16x across cluster]\u001b[0m\n",
      " 69%|██████▉   | 157/228 [00:20<00:09,  7.62it/s]\u001b[32m [repeated 289x across cluster]\u001b[0m\n",
      "  0%|          | 0/228 [00:00<?, ?it/s]\n",
      "  9%|▉         | 21/228 [00:02<00:22,  9.12it/s]\u001b[32m [repeated 3x across cluster]\u001b[0m\n"
     ]
    },
    {
     "name": "stdout",
     "output_type": "stream",
     "text": [
      "\u001b[2m\u001b[36m(DefaultActor pid=92313)\u001b[0m  Training loss for epoch 0: 1.102442835245216, accuracy: 0.6143092105263158\u001b[32m [repeated 2x across cluster]\u001b[0m\n"
     ]
    },
    {
     "name": "stderr",
     "output_type": "stream",
     "text": [
      "  0%|          | 0/228 [00:00<?, ?it/s]\n",
      "100%|█████████▉| 227/228 [00:27<00:00,  8.78it/s]\u001b[32m [repeated 54x across cluster]\u001b[0m\n",
      " 86%|████████▋ | 197/228 [00:25<00:03,  7.93it/s]\u001b[32m [repeated 251x across cluster]\u001b[0m\n",
      " 85%|████████▌ | 194/228 [00:23<00:03,  8.71it/s]\u001b[32m [repeated 7x across cluster]\u001b[0m\n",
      "  0%|          | 0/228 [00:00<?, ?it/s]\u001b[32m [repeated 2x across cluster]\u001b[0m\n"
     ]
    },
    {
     "name": "stdout",
     "output_type": "stream",
     "text": [
      "\u001b[2m\u001b[36m(DefaultActor pid=92316)\u001b[0m  Training loss for epoch 0: 1.6319317587634974, accuracy: 0.3736293859649123\u001b[32m [repeated 3x across cluster]\u001b[0m\n"
     ]
    },
    {
     "name": "stderr",
     "output_type": "stream",
     "text": [
      " 97%|█████████▋| 222/228 [00:26<00:00,  8.16it/s]\u001b[32m [repeated 53x across cluster]\u001b[0m\n",
      "  4%|▍         | 9/228 [00:01<00:25,  8.45it/s]\u001b[32m [repeated 260x across cluster]\u001b[0m\n",
      " 59%|█████▉    | 135/228 [00:15<00:11,  8.43it/s]\u001b[32m [repeated 6x across cluster]\u001b[0m\n",
      "  0%|          | 0/228 [00:00<?, ?it/s]\u001b[32m [repeated 3x across cluster]\u001b[0m\n",
      "100%|██████████| 228/228 [00:27<00:00,  8.39it/s]\u001b[32m [repeated 6x across cluster]\u001b[0m\n",
      " 39%|███▊      | 88/228 [00:11<00:16,  8.46it/s]\u001b[32m [repeated 283x across cluster]\u001b[0m\n",
      " 30%|███       | 69/228 [00:08<00:17,  8.97it/s]\u001b[32m [repeated 4x across cluster]\u001b[0m\n",
      " 92%|█████████▏| 209/228 [00:24<00:02,  8.66it/s]\n",
      " 45%|████▌     | 103/228 [00:12<00:14,  8.86it/s]\u001b[32m [repeated 320x across cluster]\u001b[0m\n",
      " 93%|█████████▎| 211/228 [00:24<00:01,  8.52it/s]\n",
      " 93%|█████████▎| 212/228 [00:24<00:01,  8.46it/s]\n",
      " 93%|█████████▎| 213/228 [00:24<00:01,  8.41it/s]\n",
      " 94%|█████████▍| 214/228 [00:24<00:01,  8.41it/s]\n",
      " 94%|█████████▍| 215/228 [00:24<00:01,  8.31it/s]\n",
      " 95%|█████████▍| 216/228 [00:24<00:01,  8.54it/s]\n",
      " 95%|█████████▌| 217/228 [00:25<00:01,  8.35it/s]\n",
      " 96%|█████████▌| 218/228 [00:25<00:01,  8.47it/s]\n",
      " 96%|█████████▌| 219/228 [00:25<00:01,  8.66it/s]\n",
      " 38%|███▊      | 87/228 [00:10<00:15,  9.25it/s]\u001b[32m [repeated 5x across cluster]\u001b[0m\n",
      " 96%|█████████▋| 220/228 [00:25<00:00,  8.99it/s]\n",
      " 97%|█████████▋| 221/228 [00:25<00:00,  8.98it/s]\n",
      " 97%|█████████▋| 222/228 [00:25<00:00,  8.78it/s]\n",
      " 98%|█████████▊| 223/228 [00:26<00:01,  4.23it/s]\n",
      " 98%|█████████▊| 224/228 [00:26<00:00,  5.08it/s]\n",
      " 99%|█████████▊| 225/228 [00:26<00:00,  5.74it/s]\n",
      "100%|█████████▉| 227/228 [00:26<00:00,  6.95it/s]\n",
      "100%|██████████| 228/228 [00:26<00:00,  8.54it/s]\n",
      "  0%|          | 0/228 [00:00<?, ?it/s]\n"
     ]
    },
    {
     "name": "stdout",
     "output_type": "stream",
     "text": [
      "\u001b[2m\u001b[36m(DefaultActor pid=92320)\u001b[0m  Training loss for epoch 1: 1.453691204911784, accuracy: 0.43777412280701755\u001b[32m [repeated 3x across cluster]\u001b[0m\n"
     ]
    },
    {
     "name": "stderr",
     "output_type": "stream",
     "text": [
      " 99%|█████████▊| 225/228 [00:26<00:00,  8.82it/s]\u001b[32m [repeated 15x across cluster]\u001b[0m\n",
      " 53%|█████▎    | 121/228 [00:16<00:13,  7.96it/s]\u001b[32m [repeated 246x across cluster]\u001b[0m\n",
      " 58%|█████▊    | 132/228 [00:16<00:11,  8.70it/s]\u001b[32m [repeated 7x across cluster]\u001b[0m\n",
      "  0%|          | 0/228 [00:00<?, ?it/s]\n",
      " 92%|█████████▏| 209/228 [00:26<00:02,  7.99it/s]\u001b[32m [repeated 15x across cluster]\u001b[0m\n",
      " 71%|███████   | 161/228 [00:21<00:08,  7.82it/s]\u001b[32m [repeated 301x across cluster]\u001b[0m\n"
     ]
    },
    {
     "name": "stdout",
     "output_type": "stream",
     "text": [
      "\u001b[2m\u001b[36m(DefaultActor pid=92313)\u001b[0m  Training loss for epoch 1: 0.7330395536203134, accuracy: 0.7538377192982456\u001b[32m [repeated 2x across cluster]\u001b[0m\n"
     ]
    },
    {
     "name": "stderr",
     "output_type": "stream",
     "text": [
      "  0%|          | 0/228 [00:00<?, ?it/s]\n",
      " 87%|████████▋ | 199/228 [00:23<00:03,  9.14it/s]\u001b[32m [repeated 4x across cluster]\u001b[0m\n",
      " 93%|█████████▎| 211/228 [00:25<00:01,  8.80it/s]\u001b[32m [repeated 67x across cluster]\u001b[0m\n",
      " 88%|████████▊ | 201/228 [00:26<00:03,  8.54it/s]\u001b[32m [repeated 247x across cluster]\u001b[0m\n",
      "  0%|          | 0/228 [00:00<?, ?it/s]\u001b[32m [repeated 3x across cluster]\u001b[0m\n",
      " 49%|████▉     | 112/228 [00:12<00:12,  9.09it/s]\u001b[32m [repeated 3x across cluster]\u001b[0m\n"
     ]
    },
    {
     "name": "stdout",
     "output_type": "stream",
     "text": [
      "\u001b[2m\u001b[36m(DefaultActor pid=92314)\u001b[0m  Training loss for epoch 1: 1.1820321767999415, accuracy: 0.5441337719298246\u001b[32m [repeated 4x across cluster]\u001b[0m\n"
     ]
    },
    {
     "name": "stderr",
     "output_type": "stream",
     "text": [
      "100%|██████████| 228/228 [00:29<00:00,  7.72it/s]\u001b[32m [repeated 35x across cluster]\u001b[0m\n",
      "  7%|▋         | 15/228 [00:01<00:25,  8.30it/s]\u001b[32m [repeated 275x across cluster]\u001b[0m\n",
      "  0%|          | 0/228 [00:00<?, ?it/s]\u001b[32m [repeated 2x across cluster]\u001b[0m\n",
      " 21%|██▏       | 49/228 [00:05<00:19,  9.16it/s]\u001b[32m [repeated 4x across cluster]\u001b[0m\n",
      " 23%|██▎       | 52/228 [00:06<00:21,  8.27it/s]\u001b[32m [repeated 290x across cluster]\u001b[0m\n",
      " 48%|████▊     | 110/228 [00:13<00:14,  8.11it/s]\u001b[32m [repeated 4x across cluster]\u001b[0m\n",
      " 92%|█████████▏| 209/228 [00:24<00:02,  8.97it/s]\n",
      " 92%|█████████▏| 210/228 [00:24<00:02,  8.61it/s]\n",
      " 93%|█████████▎| 211/228 [00:24<00:01,  8.70it/s]\n",
      " 93%|█████████▎| 212/228 [00:24<00:01,  8.57it/s]\n",
      " 93%|█████████▎| 213/228 [00:24<00:01,  8.35it/s]\n",
      " 94%|█████████▍| 214/228 [00:25<00:01,  8.63it/s]\n",
      " 94%|█████████▍| 215/228 [00:25<00:01,  8.80it/s]\n",
      " 95%|█████████▍| 216/228 [00:25<00:01,  8.50it/s]\n",
      " 95%|█████████▌| 217/228 [00:25<00:01,  8.74it/s]\n",
      " 96%|█████████▌| 218/228 [00:25<00:01,  8.51it/s]\n",
      " 96%|█████████▌| 219/228 [00:25<00:01,  8.48it/s]\n",
      " 96%|█████████▋| 220/228 [00:25<00:00,  8.22it/s]\n",
      " 97%|█████████▋| 221/228 [00:25<00:00,  8.44it/s]\n",
      " 97%|█████████▋| 222/228 [00:26<00:00,  8.83it/s]\n",
      " 98%|█████████▊| 223/228 [00:26<00:00,  8.70it/s]\n",
      " 98%|█████████▊| 224/228 [00:26<00:00,  8.89it/s]\n",
      " 99%|█████████▉| 226/228 [00:26<00:00,  8.71it/s]\n",
      "100%|█████████▉| 227/228 [00:26<00:00,  8.42it/s]\n",
      "100%|██████████| 228/228 [00:26<00:00,  8.53it/s]\n",
      "  0%|          | 0/228 [00:00<?, ?it/s]\n"
     ]
    },
    {
     "name": "stdout",
     "output_type": "stream",
     "text": [
      "\u001b[2m\u001b[36m(DefaultActor pid=92320)\u001b[0m  Training loss for epoch 2: 1.2667533326567264, accuracy: 0.5054824561403509\u001b[32m [repeated 2x across cluster]\u001b[0m\n"
     ]
    },
    {
     "name": "stderr",
     "output_type": "stream",
     "text": [
      " 41%|████      | 93/228 [00:11<00:17,  7.86it/s]\u001b[32m [repeated 290x across cluster]\u001b[0m\n",
      " 53%|█████▎    | 120/228 [00:14<00:13,  8.11it/s]\u001b[32m [repeated 6x across cluster]\u001b[0m\n",
      " 99%|█████████▉| 226/228 [00:26<00:00,  8.19it/s]\u001b[32m [repeated 18x across cluster]\u001b[0m\n",
      "  0%|          | 0/228 [00:00<?, ?it/s]\n",
      " 57%|█████▋    | 129/228 [00:16<00:11,  8.40it/s]\u001b[32m [repeated 266x across cluster]\u001b[0m\n",
      " 24%|██▎       | 54/228 [00:06<00:19,  8.72it/s]\u001b[32m [repeated 3x across cluster]\u001b[0m\n",
      "100%|██████████| 228/228 [00:27<00:00,  8.44it/s]\u001b[32m [repeated 2x across cluster]\u001b[0m\n"
     ]
    },
    {
     "name": "stdout",
     "output_type": "stream",
     "text": [
      "\u001b[2m\u001b[36m(DefaultActor pid=92313)\u001b[0m  Training loss for epoch 2: 0.6635079479269814, accuracy: 0.7675438596491229\u001b[32m [repeated 2x across cluster]\u001b[0m\n"
     ]
    },
    {
     "name": "stderr",
     "output_type": "stream",
     "text": [
      "  0%|          | 0/228 [00:00<?, ?it/s]\n",
      " 85%|████████▌ | 194/228 [00:23<00:04,  8.48it/s]\u001b[32m [repeated 258x across cluster]\u001b[0m\n",
      " 90%|█████████ | 206/228 [00:24<00:02,  8.72it/s]\u001b[32m [repeated 6x across cluster]\u001b[0m\n",
      " 92%|█████████▏| 210/228 [00:25<00:02,  8.95it/s]\u001b[32m [repeated 79x across cluster]\u001b[0m\n",
      "  0%|          | 0/228 [00:00<?, ?it/s]\u001b[32m [repeated 4x across cluster]\u001b[0m\n",
      "  4%|▍         | 9/228 [00:01<00:28,  7.64it/s]\u001b[32m [repeated 272x across cluster]\u001b[0m\n",
      " 55%|█████▍    | 125/228 [00:14<00:14,  7.00it/s]\u001b[32m [repeated 5x across cluster]\u001b[0m\n",
      " 98%|█████████▊| 224/228 [00:28<00:00,  8.38it/s]\u001b[32m [repeated 33x across cluster]\u001b[0m\n"
     ]
    },
    {
     "name": "stdout",
     "output_type": "stream",
     "text": [
      "\u001b[2m\u001b[36m(DefaultActor pid=92317)\u001b[0m  Training loss for epoch 2: 1.541280842402525, accuracy: 0.44243421052631576\u001b[32m [repeated 5x across cluster]\u001b[0m\n"
     ]
    },
    {
     "name": "stderr",
     "output_type": "stream",
     "text": [
      "  0%|          | 0/228 [00:00<?, ?it/s]\n",
      "  9%|▉         | 20/228 [00:02<00:28,  7.37it/s]\u001b[32m [repeated 274x across cluster]\u001b[0m\n",
      " 36%|███▌      | 82/228 [00:09<00:17,  8.21it/s]\u001b[32m [repeated 9x across cluster]\u001b[0m\n",
      "100%|██████████| 228/228 [00:29<00:00,  7.76it/s]\u001b[32m [repeated 4x across cluster]\u001b[0m\n",
      " 23%|██▎       | 53/228 [00:07<00:20,  8.43it/s]\u001b[32m [repeated 245x across cluster]\u001b[0m\n",
      " 55%|█████▌    | 126/228 [00:16<00:12,  8.09it/s]\u001b[32m [repeated 8x across cluster]\u001b[0m\n",
      " 99%|█████████▉| 226/228 [00:28<00:00,  8.20it/s]\u001b[32m [repeated 15x across cluster]\u001b[0m\n",
      "  0%|          | 0/228 [00:00<?, ?it/s]\n"
     ]
    },
    {
     "name": "stdout",
     "output_type": "stream",
     "text": [
      "\u001b[2m\u001b[36m(DefaultActor pid=92320)\u001b[0m  Training loss for epoch 3: 1.1219985895512397, accuracy: 0.5550986842105263\n",
      "\u001b[2m\u001b[36m(DefaultActor pid=92319)\u001b[0m  Training loss for epoch 3: 1.5587093960820584, accuracy: 0.42872807017543857\n"
     ]
    },
    {
     "name": "stderr",
     "output_type": "stream",
     "text": [
      " 42%|████▏     | 96/228 [00:12<00:16,  7.77it/s]\u001b[32m [repeated 264x across cluster]\u001b[0m\n",
      " 70%|███████   | 160/228 [00:21<00:08,  8.09it/s]\u001b[32m [repeated 10x across cluster]\u001b[0m\n",
      "100%|██████████| 228/228 [00:27<00:00,  8.20it/s]\u001b[32m [repeated 21x across cluster]\u001b[0m\n",
      "  0%|          | 0/228 [00:00<?, ?it/s]\n",
      " 59%|█████▉    | 134/228 [00:17<00:10,  9.07it/s]\u001b[32m [repeated 274x across cluster]\u001b[0m\n",
      " 90%|█████████ | 206/228 [00:25<00:02,  8.88it/s]\u001b[32m [repeated 6x across cluster]\u001b[0m\n",
      " 93%|█████████▎| 212/228 [00:25<00:01,  8.85it/s]\u001b[32m [repeated 4x across cluster]\u001b[0m\n"
     ]
    },
    {
     "name": "stdout",
     "output_type": "stream",
     "text": [
      "\u001b[2m\u001b[36m(DefaultActor pid=92316)\u001b[0m  Training loss for epoch 3: 1.6855727849822295, accuracy: 0.37198464912280704\n"
     ]
    },
    {
     "name": "stderr",
     "output_type": "stream",
     "text": [
      "\u001b[2m\u001b[36m(DefaultActor pid=92316)\u001b[0m \r",
      "  0%|          | 0/228 [00:00<?, ?it/s]\n"
     ]
    },
    {
     "name": "stdout",
     "output_type": "stream",
     "text": [
      "\u001b[2m\u001b[36m(DefaultActor pid=92318)\u001b[0m  Training loss for epoch 3: 1.404630880606802, accuracy: 0.44024122807017546\n"
     ]
    },
    {
     "name": "stderr",
     "output_type": "stream",
     "text": [
      "  1%|▏         | 3/228 [00:00<00:28,  7.90it/s]\u001b[32m [repeated 237x across cluster]\u001b[0m\n",
      " 11%|█         | 24/228 [00:02<00:22,  9.26it/s]\u001b[32m [repeated 5x across cluster]\u001b[0m\n",
      "100%|██████████| 228/228 [00:28<00:00,  8.11it/s]\u001b[32m [repeated 91x across cluster]\u001b[0m\n",
      "  0%|          | 0/228 [00:00<?, ?it/s]\u001b[32m [repeated 4x across cluster]\u001b[0m\n",
      " 12%|█▏        | 27/228 [00:03<00:23,  8.60it/s]\u001b[32m [repeated 287x across cluster]\u001b[0m\n"
     ]
    },
    {
     "name": "stdout",
     "output_type": "stream",
     "text": [
      "\u001b[2m\u001b[36m(DefaultActor pid=92317)\u001b[0m  Training loss for epoch 3: 1.1138017731800414, accuracy: 0.6014254385964912\u001b[32m [repeated 4x across cluster]\u001b[0m\n"
     ]
    },
    {
     "name": "stderr",
     "output_type": "stream",
     "text": [
      " 26%|██▌       | 59/228 [00:06<00:18,  9.11it/s]\n",
      "100%|██████████| 228/228 [00:29<00:00,  7.77it/s]\u001b[32m [repeated 20x across cluster]\u001b[0m\n",
      " 68%|██████▊   | 154/228 [00:17<00:08,  9.18it/s]\n",
      "  0%|          | 0/228 [00:00<?, ?it/s]\n",
      " 12%|█▏        | 28/228 [00:03<00:25,  7.96it/s]\u001b[32m [repeated 295x across cluster]\u001b[0m\n",
      " 92%|█████████▏| 209/228 [00:25<00:02,  7.26it/s]\n",
      " 92%|█████████▏| 210/228 [00:25<00:02,  7.73it/s]\n",
      " 93%|█████████▎| 211/228 [00:25<00:02,  7.60it/s]\n",
      " 50%|█████     | 114/228 [00:13<00:16,  7.10it/s]\u001b[32m [repeated 4x across cluster]\u001b[0m\n",
      " 93%|█████████▎| 212/228 [00:25<00:02,  7.97it/s]\n",
      " 93%|█████████▎| 213/228 [00:25<00:01,  8.11it/s]\n",
      " 94%|█████████▍| 214/228 [00:25<00:01,  7.63it/s]\n",
      " 95%|█████████▍| 216/228 [00:25<00:01,  8.19it/s]\n",
      " 95%|█████████▌| 217/228 [00:26<00:01,  8.20it/s]\n",
      " 96%|█████████▌| 218/228 [00:26<00:01,  8.14it/s]\n",
      " 96%|█████████▌| 219/228 [00:26<00:01,  8.31it/s]\n",
      " 96%|█████████▋| 220/228 [00:26<00:00,  8.62it/s]\n",
      " 97%|█████████▋| 221/228 [00:26<00:00,  8.61it/s]\n",
      " 97%|█████████▋| 222/228 [00:26<00:00,  8.77it/s]\n",
      " 98%|█████████▊| 223/228 [00:26<00:00,  8.56it/s]\n",
      " 98%|█████████▊| 224/228 [00:26<00:00,  8.54it/s]\n",
      " 99%|█████████▉| 226/228 [00:27<00:00,  8.66it/s]\n",
      "100%|█████████▉| 227/228 [00:27<00:00,  8.80it/s]\n"
     ]
    },
    {
     "name": "stdout",
     "output_type": "stream",
     "text": [
      "\u001b[2m\u001b[36m(DefaultActor pid=92320)\u001b[0m  Training loss for epoch 4: 1.0504765544544186, accuracy: 0.5773026315789473\n"
     ]
    },
    {
     "name": "stderr",
     "output_type": "stream",
     "text": [
      "\u001b[2m\u001b[36m(DefaultActor pid=92317)\u001b[0m \r",
      " 29%|██▊       | 65/228 [00:08<00:20,  8.15it/s]\u001b[32m [repeated 260x across cluster]\u001b[0m\n"
     ]
    },
    {
     "name": "stdout",
     "output_type": "stream",
     "text": [
      "\u001b[2m\u001b[36m(DefaultActor pid=92319)\u001b[0m  Training loss for epoch 4: 1.3113210739796621, accuracy: 0.5052083333333334\n"
     ]
    },
    {
     "name": "stderr",
     "output_type": "stream",
     "text": [
      "100%|██████████| 228/228 [00:26<00:00,  8.50it/s]\u001b[32m [repeated 17x across cluster]\u001b[0m\n",
      " 32%|███▏      | 74/228 [00:09<00:17,  8.85it/s]\u001b[32m [repeated 3x across cluster]\u001b[0m\n",
      "  0%|          | 0/228 [00:00<?, ?it/s]\n",
      " 83%|████████▎ | 190/228 [00:21<00:03,  9.60it/s]\u001b[32m [repeated 217x across cluster]\u001b[0m\n",
      " 76%|███████▋  | 174/228 [00:21<00:06,  8.72it/s]\u001b[32m [repeated 3x across cluster]\u001b[0m\n",
      " 92%|█████████▏| 210/228 [00:25<00:02,  7.67it/s]\n",
      "  0%|          | 0/228 [00:00<?, ?it/s]\n",
      " 93%|█████████▎| 211/228 [00:25<00:02,  7.85it/s]\n",
      " 93%|█████████▎| 212/228 [00:25<00:02,  7.77it/s]\n",
      " 93%|█████████▎| 213/228 [00:25<00:01,  7.97it/s]\n",
      " 94%|█████████▍| 214/228 [00:25<00:01,  8.39it/s]\n",
      " 94%|█████████▍| 215/228 [00:25<00:01,  8.55it/s]\n",
      " 95%|█████████▍| 216/228 [00:25<00:01,  8.85it/s]\n",
      " 95%|█████████▌| 217/228 [00:25<00:01,  8.48it/s]\n",
      " 96%|█████████▌| 218/228 [00:26<00:01,  8.70it/s]\n",
      " 96%|█████████▌| 219/228 [00:26<00:01,  8.46it/s]\n",
      " 96%|█████████▋| 220/228 [00:26<00:00,  8.21it/s]\n",
      " 97%|█████████▋| 222/228 [00:26<00:00,  8.80it/s]\n",
      " 61%|██████    | 139/228 [00:18<00:11,  8.02it/s]\u001b[32m [repeated 202x across cluster]\u001b[0m\n",
      " 98%|█████████▊| 223/228 [00:26<00:00,  8.33it/s]\n",
      " 98%|█████████▊| 224/228 [00:26<00:00,  8.62it/s]\n",
      " 99%|█████████▊| 225/228 [00:26<00:00,  8.50it/s]\n",
      " 99%|█████████▉| 226/228 [00:27<00:00,  7.99it/s]\n",
      "100%|█████████▉| 227/228 [00:27<00:00,  8.42it/s]\n"
     ]
    },
    {
     "name": "stdout",
     "output_type": "stream",
     "text": [
      "\u001b[2m\u001b[36m(DefaultActor pid=92316)\u001b[0m  Training loss for epoch 4: 1.7828317736847359, accuracy: 0.32319078947368424\n"
     ]
    },
    {
     "name": "stderr",
     "output_type": "stream",
     "text": [
      "100%|██████████| 228/228 [00:27<00:00,  8.37it/s]\n",
      " 89%|████████▊ | 202/228 [00:24<00:02,  9.12it/s]\u001b[32m [repeated 5x across cluster]\u001b[0m\n"
     ]
    },
    {
     "name": "stdout",
     "output_type": "stream",
     "text": [
      "\u001b[2m\u001b[36m(DefaultActor pid=92318)\u001b[0m  Training loss for epoch 4: 1.3464576583682446, accuracy: 0.4668311403508772\n"
     ]
    },
    {
     "name": "stderr",
     "output_type": "stream",
     "text": [
      "100%|█████████▉| 227/228 [00:26<00:00, 10.98it/s]\u001b[32m [repeated 54x across cluster]\u001b[0m\n",
      " 31%|███       | 70/228 [00:07<00:12, 12.25it/s]\u001b[32m [repeated 135x across cluster]\u001b[0m\n",
      " 99%|█████████▊| 225/228 [00:27<00:00, 13.60it/s]\u001b[32m [repeated 13x across cluster]\u001b[0m\n"
     ]
    },
    {
     "name": "stdout",
     "output_type": "stream",
     "text": [
      "\u001b[2m\u001b[36m(DefaultActor pid=92317)\u001b[0m  Training loss for epoch 4: 1.1109418501718002, accuracy: 0.5970394736842105\u001b[32m [repeated 4x across cluster]\u001b[0m\n"
     ]
    },
    {
     "name": "stderr",
     "output_type": "stream",
     "text": [
      " 56%|█████▌    | 128/228 [00:12<00:06, 16.17it/s]\u001b[32m [repeated 70x across cluster]\u001b[0m\n",
      " 98%|█████████▊| 223/228 [00:20<00:00, 16.56it/s]\u001b[32m [repeated 10x across cluster]\u001b[0m\n",
      "  0%|          | 0/228 [00:00<?, ?it/s]\n",
      "  9%|▉         | 20/228 [00:01<00:12, 16.60it/s]\u001b[32m [repeated 71x across cluster]\u001b[0m\n"
     ]
    },
    {
     "name": "stdout",
     "output_type": "stream",
     "text": [
      "\u001b[2m\u001b[36m(DefaultActor pid=92319)\u001b[0m  Training loss for epoch 0: 1.3598226384635557, accuracy: 0.5161732456140351\u001b[32m [repeated 2x across cluster]\u001b[0m\n"
     ]
    },
    {
     "name": "stderr",
     "output_type": "stream",
     "text": [
      "100%|██████████| 228/228 [00:18<00:00, 12.39it/s]\u001b[32m [repeated 12x across cluster]\u001b[0m\n",
      "  0%|          | 0/228 [00:00<?, ?it/s]\n",
      " 28%|██▊       | 64/228 [00:03<00:09, 16.57it/s]\u001b[32m [repeated 73x across cluster]\u001b[0m\n",
      " 64%|██████▍   | 146/228 [00:08<00:05, 16.13it/s]\u001b[32m [repeated 82x across cluster]\u001b[0m\n",
      " 92%|█████████▏| 210/228 [00:13<00:01, 14.42it/s]\n",
      " 93%|█████████▎| 212/228 [00:13<00:01, 14.90it/s]\n",
      " 94%|█████████▍| 214/228 [00:13<00:00, 15.44it/s]\n",
      " 95%|█████████▍| 216/228 [00:13<00:00, 15.59it/s]\n",
      " 96%|█████████▌| 218/228 [00:13<00:00, 15.85it/s]\n",
      " 96%|█████████▋| 220/228 [00:13<00:00, 15.95it/s]\n",
      " 97%|█████████▋| 222/228 [00:13<00:00, 16.45it/s]\n",
      " 98%|█████████▊| 224/228 [00:14<00:00, 16.21it/s]\n",
      " 99%|█████████▉| 226/228 [00:14<00:00, 16.03it/s]\n",
      "100%|██████████| 228/228 [00:14<00:00, 15.97it/s]\n",
      "  0%|          | 0/228 [00:00<?, ?it/s]\n"
     ]
    },
    {
     "name": "stdout",
     "output_type": "stream",
     "text": [
      "\u001b[2m\u001b[36m(DefaultActor pid=92320)\u001b[0m  Training loss for epoch 1: 1.3609531490426314, accuracy: 0.47341008771929827\n"
     ]
    },
    {
     "name": "stderr",
     "output_type": "stream",
     "text": [
      "\u001b[2m\u001b[36m(DefaultActor pid=92320)\u001b[0m \r",
      " 15%|█▍        | 34/228 [00:02<00:11, 16.44it/s]\u001b[32m [repeated 60x across cluster]\u001b[0m\n"
     ]
    },
    {
     "name": "stdout",
     "output_type": "stream",
     "text": [
      "\u001b[2m\u001b[36m(DefaultActor pid=92319)\u001b[0m  Training loss for epoch 1: 1.1008807174992143, accuracy: 0.6091008771929824\n"
     ]
    },
    {
     "name": "stderr",
     "output_type": "stream",
     "text": [
      "100%|██████████| 228/228 [00:14<00:00, 15.88it/s]\u001b[32m [repeated 10x across cluster]\u001b[0m\n",
      "  0%|          | 0/228 [00:00<?, ?it/s]\n",
      " 53%|█████▎    | 120/228 [00:07<00:06, 16.70it/s]\u001b[32m [repeated 81x across cluster]\u001b[0m\n",
      " 68%|██████▊   | 156/228 [00:09<00:04, 16.42it/s]\u001b[32m [repeated 78x across cluster]\u001b[0m\n",
      " 92%|█████████▏| 210/228 [00:13<00:01, 16.90it/s]\n",
      " 93%|█████████▎| 212/228 [00:13<00:00, 16.76it/s]\n",
      " 94%|█████████▍| 214/228 [00:13<00:00, 16.61it/s]\n",
      " 95%|█████████▍| 216/228 [00:13<00:00, 16.76it/s]\n",
      " 96%|█████████▌| 218/228 [00:13<00:00, 16.72it/s]\n",
      " 96%|█████████▋| 220/228 [00:13<00:00, 16.42it/s]\n",
      " 97%|█████████▋| 222/228 [00:13<00:00, 16.45it/s]\n",
      " 98%|█████████▊| 224/228 [00:13<00:00, 16.52it/s]\n",
      " 99%|█████████▉| 226/228 [00:13<00:00, 16.51it/s]\n",
      "100%|██████████| 228/228 [00:14<00:00, 16.16it/s]\n",
      "  0%|          | 0/228 [00:00<?, ?it/s]\n"
     ]
    },
    {
     "name": "stdout",
     "output_type": "stream",
     "text": [
      "\u001b[2m\u001b[36m(DefaultActor pid=92320)\u001b[0m  Training loss for epoch 2: 1.3489654644539482, accuracy: 0.5010964912280702\n",
      "\u001b[2m\u001b[36m(DefaultActor pid=92319)\u001b[0m  Training loss for epoch 2: 1.0167897521403797, accuracy: 0.6115679824561403\n"
     ]
    },
    {
     "name": "stderr",
     "output_type": "stream",
     "text": [
      "  4%|▍         | 10/228 [00:00<00:13, 16.29it/s]\u001b[32m [repeated 64x across cluster]\u001b[0m\n",
      "100%|██████████| 228/228 [00:14<00:00, 15.98it/s]\u001b[32m [repeated 10x across cluster]\u001b[0m\n",
      "  0%|          | 0/228 [00:00<?, ?it/s]\n",
      " 41%|████      | 94/228 [00:05<00:08, 16.37it/s]\u001b[32m [repeated 84x across cluster]\u001b[0m\n",
      " 92%|█████████▏| 210/228 [00:12<00:01, 16.49it/s]\n",
      " 93%|█████████▎| 212/228 [00:12<00:00, 16.47it/s]\n",
      " 94%|█████████▍| 214/228 [00:12<00:00, 16.54it/s]\n",
      " 95%|█████████▍| 216/228 [00:13<00:00, 16.63it/s]\n",
      " 96%|█████████▌| 218/228 [00:13<00:00, 16.24it/s]\n",
      " 96%|█████████▋| 220/228 [00:13<00:00, 16.46it/s]\n",
      " 97%|█████████▋| 222/228 [00:13<00:00, 16.28it/s]\n",
      " 78%|███████▊  | 178/228 [00:10<00:03, 16.21it/s]\u001b[32m [repeated 77x across cluster]\u001b[0m\n",
      " 98%|█████████▊| 224/228 [00:13<00:00, 16.20it/s]\n",
      " 99%|█████████▉| 226/228 [00:13<00:00, 16.04it/s]\n",
      "100%|██████████| 228/228 [00:13<00:00, 16.58it/s]\n",
      "  0%|          | 0/228 [00:00<?, ?it/s]\n"
     ]
    },
    {
     "name": "stdout",
     "output_type": "stream",
     "text": [
      "\u001b[2m\u001b[36m(DefaultActor pid=92320)\u001b[0m  Training loss for epoch 3: 1.3469058416391675, accuracy: 0.4849232456140351\n",
      "\u001b[2m\u001b[36m(DefaultActor pid=92319)\u001b[0m  Training loss for epoch 3: 1.117669999338033, accuracy: 0.5797697368421053\n"
     ]
    },
    {
     "name": "stderr",
     "output_type": "stream",
     "text": [
      "100%|██████████| 228/228 [00:14<00:00, 15.88it/s]\u001b[32m [repeated 10x across cluster]\u001b[0m\n",
      " 11%|█▏        | 26/228 [00:01<00:12, 16.44it/s]\u001b[32m [repeated 64x across cluster]\u001b[0m\n",
      "  0%|          | 0/228 [00:00<?, ?it/s]\n",
      " 47%|████▋     | 108/228 [00:06<00:07, 15.06it/s]\u001b[32m [repeated 83x across cluster]\u001b[0m\n",
      " 92%|█████████▏| 209/228 [00:13<00:01, 16.50it/s]\n",
      " 93%|█████████▎| 211/228 [00:13<00:01, 16.81it/s]\n",
      " 93%|█████████▎| 213/228 [00:13<00:00, 16.57it/s]\n",
      " 94%|█████████▍| 215/228 [00:13<00:00, 16.36it/s]\n",
      " 95%|█████████▌| 217/228 [00:13<00:00, 16.35it/s]\n",
      " 96%|█████████▌| 219/228 [00:13<00:00, 16.36it/s]\n",
      " 97%|█████████▋| 221/228 [00:14<00:00, 16.44it/s]\n",
      " 98%|█████████▊| 223/228 [00:14<00:00, 16.69it/s]\n",
      " 99%|█████████▊| 225/228 [00:14<00:00, 16.47it/s]\n",
      "100%|█████████▉| 227/228 [00:14<00:00, 16.65it/s]\n",
      "100%|██████████| 228/228 [00:14<00:00, 15.72it/s]\n"
     ]
    },
    {
     "name": "stdout",
     "output_type": "stream",
     "text": [
      "\u001b[2m\u001b[36m(DefaultActor pid=92320)\u001b[0m  Training loss for epoch 4: 1.3004219066678433, accuracy: 0.5052083333333334\n"
     ]
    },
    {
     "name": "stderr",
     "output_type": "stream",
     "text": [
      " 82%|████████▏ | 186/228 [00:11<00:02, 17.16it/s]\u001b[32m [repeated 65x across cluster]\u001b[0m\n",
      "DEBUG flwr 2023-11-09 12:12:21,013 | server.py:236 | fit_round 4 received 10 results and 0 failures\n",
      "DEBUG:flwr:fit_round 4 received 10 results and 0 failures\n"
     ]
    },
    {
     "name": "stdout",
     "output_type": "stream",
     "text": [
      "Saving round 4 aggregated_parameters...\n",
      "Saved round 4 aggregated_parameters!\n"
     ]
    },
    {
     "name": "stderr",
     "output_type": "stream",
     "text": [
      "INFO flwr 2023-11-09 12:12:21,075 | server.py:171 | evaluate_round 4: no clients selected, cancel\n",
      "INFO:flwr:evaluate_round 4: no clients selected, cancel\n",
      "DEBUG flwr 2023-11-09 12:12:21,075 | server.py:222 | fit_round 5: strategy sampled 10 clients (out of 40)\n",
      "DEBUG:flwr:fit_round 5: strategy sampled 10 clients (out of 40)\n"
     ]
    },
    {
     "name": "stdout",
     "output_type": "stream",
     "text": [
      "\u001b[2m\u001b[36m(DefaultActor pid=92319)\u001b[0m  Training loss for epoch 4: 1.0236428666271662, accuracy: 0.6071820175438597\n"
     ]
    },
    {
     "name": "stderr",
     "output_type": "stream",
     "text": [
      "  0%|          | 0/228 [00:00<?, ?it/s]\n",
      "100%|██████████| 228/228 [00:14<00:00, 16.09it/s]\u001b[32m [repeated 10x across cluster]\u001b[0m\n",
      "  8%|▊         | 18/228 [00:01<00:14, 14.87it/s]\u001b[32m [repeated 21x across cluster]\u001b[0m\n",
      "  0%|          | 0/228 [00:00<?, ?it/s]\u001b[32m [repeated 3x across cluster]\u001b[0m\n",
      " 11%|█         | 24/228 [00:02<00:21,  9.55it/s]\u001b[32m [repeated 82x across cluster]\u001b[0m\n",
      " 40%|███▉      | 91/228 [00:08<00:16,  8.48it/s]\n",
      " 41%|████      | 94/228 [00:08<00:16,  8.31it/s]\n",
      "  0%|          | 0/228 [00:00<?, ?it/s]\u001b[32m [repeated 4x across cluster]\u001b[0m\n",
      " 29%|██▉       | 67/228 [00:07<00:18,  8.69it/s]\u001b[32m [repeated 251x across cluster]\u001b[0m\n",
      " 11%|█▏        | 26/228 [00:03<00:23,  8.51it/s]\n",
      " 15%|█▍        | 34/228 [00:04<00:21,  8.83it/s]\n",
      " 43%|████▎     | 98/228 [00:12<00:14,  8.99it/s]\u001b[32m [repeated 244x across cluster]\u001b[0m\n",
      " 34%|███▍      | 77/228 [00:09<00:17,  8.87it/s]\u001b[32m [repeated 7x across cluster]\u001b[0m\n",
      " 62%|██████▏   | 141/228 [00:17<00:09,  8.87it/s]\u001b[32m [repeated 311x across cluster]\u001b[0m\n",
      " 92%|█████████▏| 209/228 [00:21<00:02,  9.28it/s]\n",
      " 93%|█████████▎| 211/228 [00:21<00:01, 10.06it/s]\n",
      " 93%|█████████▎| 212/228 [00:22<00:01,  9.51it/s]\n",
      " 93%|█████████▎| 213/228 [00:22<00:01,  9.39it/s]\n",
      " 94%|█████████▍| 214/228 [00:22<00:01,  9.54it/s]\n",
      " 94%|█████████▍| 215/228 [00:22<00:01,  9.36it/s]\n",
      " 95%|█████████▍| 216/228 [00:22<00:01,  9.45it/s]\n",
      " 95%|█████████▌| 217/228 [00:22<00:01,  8.95it/s]\n",
      " 96%|█████████▌| 218/228 [00:22<00:01,  9.01it/s]\n",
      " 96%|█████████▌| 219/228 [00:22<00:00,  9.20it/s]\n",
      " 96%|█████████▋| 220/228 [00:22<00:00,  9.24it/s]\n",
      " 97%|█████████▋| 221/228 [00:23<00:00,  9.34it/s]\n",
      " 97%|█████████▋| 222/228 [00:23<00:00,  8.63it/s]\n",
      " 98%|█████████▊| 224/228 [00:23<00:00,  9.18it/s]\n",
      " 99%|█████████▉| 226/228 [00:23<00:00,  9.76it/s]\n",
      "100%|█████████▉| 227/228 [00:23<00:00,  9.74it/s]\n",
      "100%|██████████| 228/228 [00:23<00:00,  9.59it/s]\n",
      "  0%|          | 0/228 [00:00<?, ?it/s]\n"
     ]
    },
    {
     "name": "stdout",
     "output_type": "stream",
     "text": [
      "\u001b[2m\u001b[36m(DefaultActor pid=92319)\u001b[0m  Training loss for epoch 0: 1.3559783610858416, accuracy: 0.4649122807017544\n"
     ]
    },
    {
     "name": "stderr",
     "output_type": "stream",
     "text": [
      "\u001b[2m\u001b[36m(DefaultActor pid=92316)\u001b[0m \r",
      " 52%|█████▏    | 118/228 [00:14<00:12,  8.84it/s]\r",
      " 52%|█████▏    | 119/228 [00:14<00:11,  9.16it/s]\u001b[32m [repeated 10x across cluster]\u001b[0m\n"
     ]
    },
    {
     "name": "stdout",
     "output_type": "stream",
     "text": [
      "\u001b[2m\u001b[36m(DefaultActor pid=92320)\u001b[0m  Training loss for epoch 0: 1.364856389792342, accuracy: 0.46271929824561403\n"
     ]
    },
    {
     "name": "stderr",
     "output_type": "stream",
     "text": [
      " 62%|██████▏   | 142/228 [00:18<00:10,  8.40it/s]\u001b[32m [repeated 274x across cluster]\u001b[0m\n",
      "100%|██████████| 228/228 [00:25<00:00,  8.99it/s]\u001b[32m [repeated 19x across cluster]\u001b[0m\n",
      "  0%|          | 0/228 [00:00<?, ?it/s]\n",
      " 85%|████████▌ | 194/228 [00:24<00:04,  8.24it/s]\u001b[32m [repeated 5x across cluster]\u001b[0m\n",
      " 80%|███████▉  | 182/228 [00:21<00:05,  9.03it/s]\u001b[32m [repeated 279x across cluster]\u001b[0m\n"
     ]
    },
    {
     "name": "stdout",
     "output_type": "stream",
     "text": [
      "\u001b[2m\u001b[36m(DefaultActor pid=92317)\u001b[0m  Training loss for epoch 0: 1.0524483325711467, accuracy: 0.615953947368421\n"
     ]
    },
    {
     "name": "stderr",
     "output_type": "stream",
     "text": [
      "\u001b[2m\u001b[36m(DefaultActor pid=92317)\u001b[0m \r",
      "  0%|          | 0/228 [00:00<?, ?it/s]\n",
      "\u001b[2m\u001b[36m(DefaultActor pid=92317)\u001b[0m \r",
      "100%|██████████| 228/228 [00:27<00:00,  8.62it/s]\r",
      "100%|██████████| 228/228 [00:27<00:00,  8.16it/s]\u001b[32m [repeated 23x across cluster]\u001b[0m\n"
     ]
    },
    {
     "name": "stdout",
     "output_type": "stream",
     "text": [
      "\u001b[2m\u001b[36m(DefaultActor pid=92314)\u001b[0m  Training loss for epoch 0: 1.1338561373321634, accuracy: 0.5556469298245614\n"
     ]
    },
    {
     "name": "stderr",
     "output_type": "stream",
     "text": [
      " 87%|████████▋ | 199/228 [00:25<00:03,  8.13it/s]\u001b[32m [repeated 4x across cluster]\u001b[0m\n",
      " 11%|█         | 25/228 [00:02<00:22,  9.10it/s]\u001b[32m [repeated 232x across cluster]\u001b[0m\n",
      "  0%|          | 0/228 [00:00<?, ?it/s]\u001b[32m [repeated 4x across cluster]\u001b[0m\n",
      "100%|█████████▉| 227/228 [00:28<00:00,  8.29it/s]\u001b[32m [repeated 85x across cluster]\u001b[0m\n",
      "  7%|▋         | 17/228 [00:01<00:22,  9.24it/s]\u001b[32m [repeated 3x across cluster]\u001b[0m\n",
      " 32%|███▏      | 74/228 [00:09<00:19,  7.91it/s]\u001b[32m [repeated 263x across cluster]\u001b[0m\n",
      "  0%|          | 0/228 [00:00<?, ?it/s]\n",
      "100%|██████████| 228/228 [00:28<00:00,  7.94it/s]\n",
      " 57%|█████▋    | 129/228 [00:15<00:11,  8.97it/s]\u001b[32m [repeated 6x across cluster]\u001b[0m\n",
      " 50%|█████     | 115/228 [00:14<00:13,  8.14it/s]\u001b[32m [repeated 312x across cluster]\u001b[0m\n",
      " 92%|█████████▏| 209/228 [00:24<00:02,  8.44it/s]\n",
      " 92%|█████████▏| 210/228 [00:24<00:02,  8.79it/s]\n",
      " 93%|█████████▎| 211/228 [00:24<00:01,  8.68it/s]\n",
      " 93%|█████████▎| 212/228 [00:24<00:01,  8.46it/s]\n",
      " 93%|█████████▎| 213/228 [00:24<00:01,  8.49it/s]\n",
      " 94%|█████████▍| 214/228 [00:24<00:01,  8.54it/s]\n",
      " 95%|█████████▍| 216/228 [00:24<00:01,  9.08it/s]\n",
      " 95%|█████████▌| 217/228 [00:25<00:01,  9.02it/s]\n",
      " 96%|█████████▌| 218/228 [00:25<00:02,  4.71it/s]\n",
      " 96%|█████████▌| 219/228 [00:25<00:01,  5.42it/s]\n",
      " 97%|█████████▋| 221/228 [00:25<00:01,  6.66it/s]\n",
      " 39%|███▉      | 90/228 [00:11<00:16,  8.21it/s]\u001b[32m [repeated 4x across cluster]\u001b[0m\n",
      " 97%|█████████▋| 222/228 [00:26<00:00,  6.84it/s]\n",
      " 98%|█████████▊| 223/228 [00:26<00:00,  7.41it/s]\n",
      " 98%|█████████▊| 224/228 [00:26<00:00,  7.73it/s]\n",
      " 99%|█████████▊| 225/228 [00:26<00:00,  7.89it/s]\n",
      " 99%|█████████▉| 226/228 [00:26<00:00,  8.10it/s]\n",
      "100%|█████████▉| 227/228 [00:26<00:00,  8.45it/s]\n",
      "100%|██████████| 228/228 [00:26<00:00,  8.53it/s]\n",
      "  0%|          | 0/228 [00:00<?, ?it/s]\n"
     ]
    },
    {
     "name": "stdout",
     "output_type": "stream",
     "text": [
      "\u001b[2m\u001b[36m(DefaultActor pid=92319)\u001b[0m  Training loss for epoch 1: 1.2228800518470897, accuracy: 0.5046600877192983\u001b[32m [repeated 5x across cluster]\u001b[0m\n"
     ]
    },
    {
     "name": "stderr",
     "output_type": "stream",
     "text": [
      " 91%|█████████ | 208/228 [00:25<00:02,  7.39it/s]\u001b[32m [repeated 270x across cluster]\u001b[0m\n",
      " 96%|█████████▌| 219/228 [00:26<00:01,  8.79it/s]\u001b[32m [repeated 11x across cluster]\u001b[0m\n",
      " 53%|█████▎    | 120/228 [00:15<00:12,  8.55it/s]\u001b[32m [repeated 2x across cluster]\u001b[0m\n",
      "  0%|          | 0/228 [00:00<?, ?it/s]\n",
      " 68%|██████▊   | 156/228 [00:19<00:09,  7.54it/s]\u001b[32m [repeated 295x across cluster]\u001b[0m\n",
      "100%|██████████| 228/228 [00:27<00:00,  8.24it/s]\u001b[32m [repeated 9x across cluster]\u001b[0m\n",
      " 19%|█▉        | 44/228 [00:05<00:20,  8.86it/s]\u001b[32m [repeated 2x across cluster]\u001b[0m\n",
      "  0%|          | 0/228 [00:00<?, ?it/s]\n"
     ]
    },
    {
     "name": "stdout",
     "output_type": "stream",
     "text": [
      "\u001b[2m\u001b[36m(DefaultActor pid=92317)\u001b[0m  Training loss for epoch 1: 1.1288750984689646, accuracy: 0.581140350877193\u001b[32m [repeated 2x across cluster]\u001b[0m\n"
     ]
    },
    {
     "name": "stderr",
     "output_type": "stream",
     "text": [
      "  4%|▎         | 8/228 [00:00<00:27,  8.10it/s]\u001b[32m [repeated 258x across cluster]\u001b[0m\n",
      "100%|█████████▉| 227/228 [00:26<00:00,  8.37it/s]\u001b[32m [repeated 76x across cluster]\u001b[0m\n",
      "  4%|▍         | 10/228 [00:01<00:24,  8.83it/s]\u001b[32m [repeated 3x across cluster]\u001b[0m\n",
      "  0%|          | 0/228 [00:00<?, ?it/s]\u001b[32m [repeated 5x across cluster]\u001b[0m\n",
      "  5%|▍         | 11/228 [00:01<00:24,  9.03it/s]\u001b[32m [repeated 255x across cluster]\u001b[0m\n",
      "100%|██████████| 228/228 [00:28<00:00,  7.99it/s]\u001b[32m [repeated 40x across cluster]\u001b[0m\n",
      " 57%|█████▋    | 129/228 [00:14<00:10,  9.31it/s]\u001b[32m [repeated 2x across cluster]\u001b[0m\n",
      " 38%|███▊      | 86/228 [00:11<00:16,  8.49it/s]\u001b[32m [repeated 278x across cluster]\u001b[0m\n",
      " 92%|█████████▏| 209/228 [00:24<00:02,  8.45it/s]\n",
      " 92%|█████████▏| 210/228 [00:24<00:02,  8.62it/s]\n",
      " 36%|███▌      | 82/228 [00:10<00:17,  8.47it/s]\u001b[32m [repeated 8x across cluster]\u001b[0m\n",
      " 93%|█████████▎| 211/228 [00:24<00:01,  8.82it/s]\n",
      " 93%|█████████▎| 212/228 [00:24<00:01,  9.12it/s]\n",
      " 93%|█████████▎| 213/228 [00:24<00:01,  9.25it/s]\n",
      " 94%|█████████▍| 214/228 [00:24<00:01,  8.67it/s]\n",
      " 94%|█████████▍| 215/228 [00:25<00:01,  7.59it/s]\n",
      " 95%|█████████▍| 216/228 [00:25<00:01,  7.84it/s]\n",
      " 96%|█████████▌| 218/228 [00:25<00:01,  8.38it/s]\n",
      " 96%|█████████▋| 220/228 [00:25<00:00,  9.13it/s]\n",
      " 97%|█████████▋| 221/228 [00:25<00:00,  8.86it/s]\n",
      " 97%|█████████▋| 222/228 [00:25<00:00,  8.81it/s]\n",
      " 98%|█████████▊| 223/228 [00:25<00:00,  8.99it/s]\n",
      " 98%|█████████▊| 224/228 [00:26<00:00,  9.00it/s]\n",
      " 99%|█████████▊| 225/228 [00:26<00:00,  8.89it/s]\n",
      " 99%|█████████▉| 226/228 [00:26<00:00,  8.77it/s]\n",
      "100%|█████████▉| 227/228 [00:26<00:00,  8.97it/s]\n",
      " 56%|█████▌    | 128/228 [00:16<00:12,  7.93it/s]\u001b[32m [repeated 296x across cluster]\u001b[0m\n",
      "100%|██████████| 228/228 [00:26<00:00,  8.62it/s]\n",
      "  0%|          | 0/228 [00:00<?, ?it/s]\n"
     ]
    },
    {
     "name": "stdout",
     "output_type": "stream",
     "text": [
      "\u001b[2m\u001b[36m(DefaultActor pid=92319)\u001b[0m  Training loss for epoch 2: 1.2028051044857293, accuracy: 0.5134320175438597\u001b[32m [repeated 6x across cluster]\u001b[0m\n"
     ]
    },
    {
     "name": "stderr",
     "output_type": "stream",
     "text": [
      " 94%|█████████▍| 215/228 [00:25<00:02,  5.06it/s]\u001b[32m [repeated 6x across cluster]\u001b[0m\n",
      " 66%|██████▌   | 151/228 [00:18<00:13,  5.55it/s]\u001b[32m [repeated 4x across cluster]\u001b[0m\n",
      " 56%|█████▌    | 127/228 [00:16<00:11,  8.83it/s]\u001b[32m [repeated 264x across cluster]\u001b[0m\n",
      "  0%|          | 0/228 [00:00<?, ?it/s]\n",
      "100%|██████████| 228/228 [00:27<00:00,  8.35it/s]\u001b[32m [repeated 12x across cluster]\u001b[0m\n",
      " 26%|██▌       | 59/228 [00:07<00:19,  8.81it/s]\u001b[32m [repeated 4x across cluster]\u001b[0m\n",
      " 89%|████████▉ | 204/228 [00:26<00:03,  7.74it/s]\u001b[32m [repeated 282x across cluster]\u001b[0m\n",
      "  0%|          | 0/228 [00:00<?, ?it/s]\n"
     ]
    },
    {
     "name": "stdout",
     "output_type": "stream",
     "text": [
      "\u001b[2m\u001b[36m(DefaultActor pid=92314)\u001b[0m  Training loss for epoch 2: 0.9624086409284357, accuracy: 0.6165021929824561\u001b[32m [repeated 2x across cluster]\u001b[0m\n"
     ]
    },
    {
     "name": "stderr",
     "output_type": "stream",
     "text": [
      "100%|█████████▉| 227/228 [00:28<00:00,  7.79it/s]\u001b[32m [repeated 52x across cluster]\u001b[0m\n",
      " 32%|███▏      | 72/228 [00:08<00:18,  8.41it/s]\u001b[32m [repeated 4x across cluster]\u001b[0m\n",
      "  7%|▋         | 17/228 [00:02<00:26,  8.04it/s]\u001b[32m [repeated 239x across cluster]\u001b[0m\n",
      "  0%|          | 0/228 [00:00<?, ?it/s]\u001b[32m [repeated 3x across cluster]\u001b[0m\n"
     ]
    },
    {
     "name": "stdout",
     "output_type": "stream",
     "text": [
      "\u001b[2m\u001b[36m(DefaultActor pid=92318)\u001b[0m  Training loss for epoch 2: 1.4464734732581859, accuracy: 0.4550438596491228\u001b[32m [repeated 4x across cluster]\u001b[0m\n"
     ]
    },
    {
     "name": "stderr",
     "output_type": "stream",
     "text": [
      " 98%|█████████▊| 223/228 [00:29<00:00,  7.82it/s]\u001b[32m [repeated 56x across cluster]\u001b[0m\n",
      " 18%|█▊        | 42/228 [00:05<00:20,  8.88it/s]\u001b[32m [repeated 5x across cluster]\u001b[0m\n",
      " 25%|██▌       | 57/228 [00:07<00:22,  7.53it/s]\u001b[32m [repeated 254x across cluster]\u001b[0m\n",
      "  0%|          | 0/228 [00:00<?, ?it/s]\u001b[32m [repeated 2x across cluster]\u001b[0m\n",
      "100%|██████████| 228/228 [00:30<00:00,  7.60it/s]\u001b[32m [repeated 5x across cluster]\u001b[0m\n",
      " 36%|███▌      | 82/228 [00:09<00:27,  5.40it/s]\u001b[32m [repeated 5x across cluster]\u001b[0m\n",
      " 41%|████      | 93/228 [00:12<00:15,  8.55it/s]\u001b[32m [repeated 269x across cluster]\u001b[0m\n"
     ]
    },
    {
     "name": "stdout",
     "output_type": "stream",
     "text": [
      "\u001b[2m\u001b[36m(DefaultActor pid=92319)\u001b[0m  Training loss for epoch 3: 1.1922636199415775, accuracy: 0.515625\u001b[32m [repeated 2x across cluster]\u001b[0m\n"
     ]
    },
    {
     "name": "stderr",
     "output_type": "stream",
     "text": [
      "  0%|          | 0/228 [00:00<?, ?it/s]\n",
      "100%|██████████| 228/228 [00:27<00:00,  8.28it/s]\u001b[32m [repeated 19x across cluster]\u001b[0m\n",
      " 54%|█████▍    | 124/228 [00:15<00:11,  8.71it/s]\u001b[32m [repeated 8x across cluster]\u001b[0m\n",
      " 59%|█████▉    | 134/228 [00:17<00:11,  8.21it/s]\u001b[32m [repeated 280x across cluster]\u001b[0m\n",
      "  0%|          | 0/228 [00:00<?, ?it/s]\n",
      "100%|██████████| 228/228 [00:27<00:00,  8.34it/s]\u001b[32m [repeated 18x across cluster]\u001b[0m\n",
      " 74%|███████▍  | 169/228 [00:20<00:07,  7.47it/s]\u001b[32m [repeated 10x across cluster]\u001b[0m\n",
      " 75%|███████▌  | 171/228 [00:22<00:06,  8.35it/s]\u001b[32m [repeated 255x across cluster]\u001b[0m\n",
      " 92%|█████████▏| 209/228 [00:24<00:02,  8.92it/s]\n",
      " 23%|██▎       | 53/228 [00:06<00:21,  8.07it/s]\u001b[32m [repeated 5x across cluster]\u001b[0m\n",
      " 29%|██▉       | 67/228 [00:08<00:19,  8.37it/s]\u001b[32m [repeated 269x across cluster]\u001b[0m\n"
     ]
    },
    {
     "name": "stdout",
     "output_type": "stream",
     "text": [
      "\u001b[2m\u001b[36m(DefaultActor pid=92316)\u001b[0m  Training loss for epoch 3: 2.2351479786529875, accuracy: 0.13267543859649122\u001b[32m [repeated 2x across cluster]\u001b[0m\n"
     ]
    },
    {
     "name": "stderr",
     "output_type": "stream",
     "text": [
      "  0%|          | 0/228 [00:00<?, ?it/s]\n",
      "100%|██████████| 228/228 [00:29<00:00,  7.68it/s]\u001b[32m [repeated 57x across cluster]\u001b[0m\n",
      " 10%|▉         | 22/228 [00:02<00:24,  8.34it/s]\u001b[32m [repeated 10x across cluster]\u001b[0m\n",
      "  9%|▉         | 21/228 [00:02<00:25,  8.06it/s]\u001b[32m [repeated 244x across cluster]\u001b[0m\n",
      "  0%|          | 0/228 [00:00<?, ?it/s]\u001b[32m [repeated 2x across cluster]\u001b[0m\n"
     ]
    },
    {
     "name": "stdout",
     "output_type": "stream",
     "text": [
      "\u001b[2m\u001b[36m(DefaultActor pid=92315)\u001b[0m  Training loss for epoch 3: 1.0801744236235034, accuracy: 0.6334978070175439\u001b[32m [repeated 3x across cluster]\u001b[0m\n"
     ]
    },
    {
     "name": "stderr",
     "output_type": "stream",
     "text": [
      " 98%|█████████▊| 224/228 [00:29<00:00,  7.60it/s]\u001b[32m [repeated 55x across cluster]\u001b[0m\n",
      " 29%|██▊       | 65/228 [00:07<00:20,  8.10it/s]\u001b[32m [repeated 6x across cluster]\u001b[0m\n",
      " 27%|██▋       | 61/228 [00:07<00:21,  7.72it/s]\u001b[32m [repeated 259x across cluster]\u001b[0m\n",
      "  0%|          | 0/228 [00:00<?, ?it/s]\u001b[32m [repeated 3x across cluster]\u001b[0m\n",
      "100%|██████████| 228/228 [00:30<00:00,  7.54it/s]\u001b[32m [repeated 4x across cluster]\u001b[0m\n",
      " 41%|████      | 94/228 [00:11<00:16,  8.02it/s]\u001b[32m [repeated 9x across cluster]\u001b[0m\n",
      " 41%|████      | 94/228 [00:12<00:17,  7.66it/s]\u001b[32m [repeated 243x across cluster]\u001b[0m\n"
     ]
    },
    {
     "name": "stdout",
     "output_type": "stream",
     "text": [
      "\u001b[2m\u001b[36m(DefaultActor pid=92319)\u001b[0m  Training loss for epoch 4: 1.17974669133362, accuracy: 0.5194627192982456\u001b[32m [repeated 3x across cluster]\u001b[0m\n"
     ]
    },
    {
     "name": "stderr",
     "output_type": "stream",
     "text": [
      " 92%|█████████▏| 210/228 [00:26<00:02,  7.92it/s]\u001b[32m [repeated 21x across cluster]\u001b[0m\n",
      " 88%|████████▊ | 200/228 [00:25<00:03,  8.98it/s]\u001b[32m [repeated 2x across cluster]\u001b[0m\n",
      "  0%|          | 0/228 [00:00<?, ?it/s]\n",
      " 59%|█████▉    | 134/228 [00:17<00:12,  7.79it/s]\u001b[32m [repeated 260x across cluster]\u001b[0m\n",
      "100%|██████████| 228/228 [00:28<00:00,  7.93it/s]\u001b[32m [repeated 17x across cluster]\u001b[0m\n",
      " 11%|█         | 24/228 [00:02<00:22,  9.01it/s]\u001b[32m [repeated 3x across cluster]\u001b[0m\n",
      "  0%|          | 0/228 [00:00<?, ?it/s]\n",
      " 72%|███████▏  | 165/228 [00:22<00:07,  8.44it/s]\u001b[32m [repeated 224x across cluster]\u001b[0m\n",
      " 95%|█████████▌| 217/228 [00:27<00:01,  8.45it/s]\u001b[32m [repeated 18x across cluster]\u001b[0m\n",
      " 15%|█▌        | 35/228 [00:03<00:20,  9.21it/s]\u001b[32m [repeated 6x across cluster]\u001b[0m\n"
     ]
    },
    {
     "name": "stdout",
     "output_type": "stream",
     "text": [
      "\u001b[2m\u001b[36m(DefaultActor pid=92316)\u001b[0m  Training loss for epoch 4: 2.2540406323315803, accuracy: 0.1356907894736842\u001b[32m [repeated 2x across cluster]\u001b[0m\n"
     ]
    },
    {
     "name": "stderr",
     "output_type": "stream",
     "text": [
      " 27%|██▋       | 62/228 [00:06<00:14, 11.09it/s]\u001b[32m [repeated 248x across cluster]\u001b[0m\n",
      " 93%|█████████▎| 211/228 [00:27<00:01, 10.79it/s]\u001b[32m [repeated 28x across cluster]\u001b[0m\n"
     ]
    },
    {
     "name": "stdout",
     "output_type": "stream",
     "text": [
      "\u001b[2m\u001b[36m(DefaultActor pid=92315)\u001b[0m  Training loss for epoch 4: 1.3868492509712254, accuracy: 0.46710526315789475\u001b[32m [repeated 3x across cluster]\u001b[0m\n"
     ]
    },
    {
     "name": "stderr",
     "output_type": "stream",
     "text": [
      " 69%|██████▉   | 157/228 [00:17<00:05, 13.02it/s]\u001b[32m [repeated 120x across cluster]\u001b[0m\n",
      "100%|██████████| 228/228 [00:28<00:00,  8.13it/s]\u001b[32m [repeated 29x across cluster]\u001b[0m\n",
      "  0%|          | 0/228 [00:00<?, ?it/s]\n"
     ]
    },
    {
     "name": "stdout",
     "output_type": "stream",
     "text": [
      "\u001b[2m\u001b[36m(DefaultActor pid=92319)\u001b[0m  Training loss for epoch 0: 1.2984573809724105, accuracy: 0.5356359649122807\u001b[32m [repeated 3x across cluster]\u001b[0m\n"
     ]
    },
    {
     "name": "stderr",
     "output_type": "stream",
     "text": [
      "  4%|▍         | 10/228 [00:00<00:13, 16.52it/s]\u001b[32m [repeated 72x across cluster]\u001b[0m\n",
      "100%|██████████| 228/228 [00:18<00:00, 12.60it/s]\u001b[32m [repeated 21x across cluster]\u001b[0m\n",
      "  0%|          | 0/228 [00:00<?, ?it/s]\n",
      " 37%|███▋      | 84/228 [00:05<00:08, 16.32it/s]\u001b[32m [repeated 63x across cluster]\u001b[0m\n",
      " 73%|███████▎  | 166/228 [00:10<00:03, 15.96it/s]\u001b[32m [repeated 84x across cluster]\u001b[0m\n",
      " 92%|█████████▏| 210/228 [00:13<00:01, 15.52it/s]\n",
      " 93%|█████████▎| 212/228 [00:14<00:01, 15.78it/s]\n",
      " 94%|█████████▍| 214/228 [00:14<00:00, 15.60it/s]\n",
      " 95%|█████████▍| 216/228 [00:14<00:00, 15.75it/s]\n",
      " 96%|█████████▌| 218/228 [00:14<00:00, 15.80it/s]\n",
      " 96%|█████████▋| 220/228 [00:14<00:00, 16.07it/s]\n",
      " 97%|█████████▋| 222/228 [00:14<00:00, 16.06it/s]\n",
      " 98%|█████████▊| 224/228 [00:14<00:00, 16.12it/s]\n",
      " 99%|█████████▉| 226/228 [00:14<00:00, 15.84it/s]\n",
      "100%|██████████| 228/228 [00:15<00:00, 15.15it/s]\n",
      "  0%|          | 0/228 [00:00<?, ?it/s]\n"
     ]
    },
    {
     "name": "stdout",
     "output_type": "stream",
     "text": [
      "\u001b[2m\u001b[36m(DefaultActor pid=92319)\u001b[0m  Training loss for epoch 1: 0.9505070840057573, accuracy: 0.6491228070175439\u001b[32m [repeated 2x across cluster]\u001b[0m\n"
     ]
    },
    {
     "name": "stderr",
     "output_type": "stream",
     "text": [
      "  5%|▌         | 12/228 [00:00<00:13, 16.56it/s]\u001b[32m [repeated 62x across cluster]\u001b[0m\n",
      "100%|██████████| 228/228 [00:14<00:00, 15.41it/s]\u001b[32m [repeated 10x across cluster]\u001b[0m\n",
      "  0%|          | 0/228 [00:00<?, ?it/s]\n",
      " 42%|████▏     | 96/228 [00:05<00:08, 16.50it/s]\u001b[32m [repeated 78x across cluster]\u001b[0m\n",
      " 78%|███████▊  | 178/228 [00:10<00:03, 16.53it/s]\u001b[32m [repeated 83x across cluster]\u001b[0m\n",
      " 92%|█████████▏| 210/228 [00:12<00:01, 16.54it/s]\n",
      " 93%|█████████▎| 212/228 [00:12<00:00, 16.67it/s]\n",
      " 94%|█████████▍| 214/228 [00:13<00:00, 16.54it/s]\n",
      " 95%|█████████▍| 216/228 [00:13<00:00, 16.40it/s]\n",
      " 96%|█████████▌| 218/228 [00:13<00:00, 16.33it/s]\n",
      " 96%|█████████▋| 220/228 [00:13<00:00, 16.39it/s]\n",
      " 97%|█████████▋| 222/228 [00:13<00:00, 16.31it/s]\n",
      " 98%|█████████▊| 224/228 [00:13<00:00, 16.48it/s]\n",
      " 99%|█████████▉| 226/228 [00:13<00:00, 16.18it/s]\n",
      "100%|██████████| 228/228 [00:13<00:00, 16.37it/s]\n",
      "  0%|          | 0/228 [00:00<?, ?it/s]\n"
     ]
    },
    {
     "name": "stdout",
     "output_type": "stream",
     "text": [
      "\u001b[2m\u001b[36m(DefaultActor pid=92319)\u001b[0m  Training loss for epoch 2: 0.9119867882446239, accuracy: 0.6620065789473685\u001b[32m [repeated 2x across cluster]\u001b[0m\n"
     ]
    },
    {
     "name": "stderr",
     "output_type": "stream",
     "text": [
      " 14%|█▍        | 32/228 [00:01<00:12, 16.28it/s]\u001b[32m [repeated 63x across cluster]\u001b[0m\n",
      "100%|██████████| 228/228 [00:13<00:00, 16.79it/s]\u001b[32m [repeated 10x across cluster]\u001b[0m\n",
      "  0%|          | 0/228 [00:00<?, ?it/s]\n",
      " 48%|████▊     | 110/228 [00:07<00:07, 16.44it/s]\u001b[32m [repeated 79x across cluster]\u001b[0m\n",
      " 85%|████████▌ | 194/228 [00:12<00:02, 16.26it/s]\u001b[32m [repeated 84x across cluster]\u001b[0m\n",
      " 92%|█████████▏| 210/228 [00:13<00:01, 16.45it/s]\n",
      " 93%|█████████▎| 212/228 [00:13<00:01,  9.56it/s]\n",
      " 94%|█████████▍| 214/228 [00:13<00:01, 10.53it/s]\n",
      " 95%|█████████▍| 216/228 [00:13<00:01, 11.77it/s]\n",
      " 96%|█████████▌| 218/228 [00:13<00:00, 12.95it/s]\n",
      " 96%|█████████▋| 220/228 [00:14<00:00, 14.01it/s]\n",
      " 97%|█████████▋| 222/228 [00:14<00:00, 14.64it/s]\n",
      " 98%|█████████▊| 224/228 [00:14<00:00, 15.17it/s]\n",
      " 99%|█████████▉| 226/228 [00:14<00:00, 15.64it/s]\n",
      "100%|██████████| 228/228 [00:14<00:00, 15.72it/s]\n",
      "  0%|          | 0/228 [00:00<?, ?it/s]\n"
     ]
    },
    {
     "name": "stdout",
     "output_type": "stream",
     "text": [
      "\u001b[2m\u001b[36m(DefaultActor pid=92319)\u001b[0m  Training loss for epoch 3: 0.8690685198495263, accuracy: 0.6814692982456141\u001b[32m [repeated 2x across cluster]\u001b[0m\n"
     ]
    },
    {
     "name": "stderr",
     "output_type": "stream",
     "text": [
      " 19%|█▉        | 44/228 [00:02<00:11, 16.42it/s]\u001b[32m [repeated 59x across cluster]\u001b[0m\n",
      "100%|██████████| 228/228 [00:14<00:00, 15.83it/s]\u001b[32m [repeated 10x across cluster]\u001b[0m\n",
      "  0%|          | 0/228 [00:00<?, ?it/s]\n",
      " 56%|█████▌    | 128/228 [00:07<00:06, 16.04it/s]\u001b[32m [repeated 85x across cluster]\u001b[0m\n",
      " 92%|█████████▏| 210/228 [00:12<00:01, 16.71it/s]\n",
      " 88%|████████▊ | 200/228 [00:11<00:01, 16.98it/s]\u001b[32m [repeated 83x across cluster]\u001b[0m\n",
      " 93%|█████████▎| 212/228 [00:12<00:00, 16.79it/s]\n",
      " 94%|█████████▍| 214/228 [00:13<00:00, 16.67it/s]\n",
      " 95%|█████████▍| 216/228 [00:13<00:00, 16.77it/s]\n",
      " 96%|█████████▌| 218/228 [00:13<00:00, 16.97it/s]\n",
      " 96%|█████████▋| 220/228 [00:13<00:00, 17.03it/s]\n"
     ]
    },
    {
     "name": "stdout",
     "output_type": "stream",
     "text": [
      "\u001b[2m\u001b[36m(DefaultActor pid=92319)\u001b[0m  Training loss for epoch 4: 1.1231568087088435, accuracy: 0.6069078947368421\u001b[32m [repeated 2x across cluster]\u001b[0m\n"
     ]
    },
    {
     "name": "stderr",
     "output_type": "stream",
     "text": [
      "DEBUG flwr 2023-11-09 12:15:57,706 | server.py:236 | fit_round 5 received 10 results and 0 failures\n",
      "DEBUG:flwr:fit_round 5 received 10 results and 0 failures\n"
     ]
    },
    {
     "name": "stdout",
     "output_type": "stream",
     "text": [
      "Saving round 5 aggregated_parameters...\n",
      "Saved round 5 aggregated_parameters!\n"
     ]
    },
    {
     "name": "stderr",
     "output_type": "stream",
     "text": [
      "INFO flwr 2023-11-09 12:15:57,769 | server.py:171 | evaluate_round 5: no clients selected, cancel\n",
      "INFO:flwr:evaluate_round 5: no clients selected, cancel\n",
      "DEBUG flwr 2023-11-09 12:15:57,770 | server.py:222 | fit_round 6: strategy sampled 10 clients (out of 40)\n",
      "DEBUG:flwr:fit_round 6: strategy sampled 10 clients (out of 40)\n",
      "  0%|          | 0/228 [00:00<?, ?it/s]\n",
      "100%|██████████| 228/228 [00:13<00:00, 16.82it/s]\u001b[32m [repeated 14x across cluster]\u001b[0m\n",
      "  4%|▍         | 10/228 [00:00<00:14, 15.07it/s]\u001b[32m [repeated 21x across cluster]\u001b[0m\n",
      "  0%|          | 0/228 [00:00<?, ?it/s]\u001b[32m [repeated 3x across cluster]\u001b[0m\n",
      " 14%|█▍        | 33/228 [00:02<00:17, 10.94it/s]\u001b[32m [repeated 86x across cluster]\u001b[0m\n",
      "  1%|          | 2/228 [00:00<00:26,  8.68it/s]\n",
      "  0%|          | 0/228 [00:00<?, ?it/s]\u001b[32m [repeated 3x across cluster]\u001b[0m\n",
      " 13%|█▎        | 30/228 [00:03<00:23,  8.48it/s]\u001b[32m [repeated 223x across cluster]\u001b[0m\n",
      " 60%|██████    | 137/228 [00:14<00:11,  7.83it/s]\n",
      "  0%|          | 0/228 [00:00<?, ?it/s]\n",
      " 63%|██████▎   | 143/228 [00:15<00:10,  8.29it/s]\n",
      " 49%|████▊     | 111/228 [00:12<00:14,  8.27it/s]\u001b[32m [repeated 249x across cluster]\u001b[0m\n",
      " 72%|███████▏  | 165/228 [00:19<00:07,  8.78it/s]\u001b[32m [repeated 5x across cluster]\u001b[0m\n",
      " 68%|██████▊   | 156/228 [00:19<00:09,  7.57it/s]\u001b[32m [repeated 300x across cluster]\u001b[0m\n",
      " 92%|█████████▏| 209/228 [00:23<00:02,  7.86it/s]\n",
      " 92%|█████████▏| 210/228 [00:23<00:02,  8.22it/s]\n",
      " 93%|█████████▎| 211/228 [00:23<00:02,  8.08it/s]\n",
      " 93%|█████████▎| 212/228 [00:23<00:01,  8.33it/s]\n",
      " 94%|█████████▍| 214/228 [00:23<00:01,  9.16it/s]\n",
      " 94%|█████████▍| 215/228 [00:23<00:01,  9.16it/s]\n",
      " 95%|█████████▍| 216/228 [00:23<00:01,  8.72it/s]\n",
      " 95%|█████████▌| 217/228 [00:24<00:01,  8.43it/s]\n",
      " 96%|█████████▌| 218/228 [00:24<00:01,  8.39it/s]\n",
      " 96%|█████████▌| 219/228 [00:24<00:01,  8.11it/s]\n",
      " 96%|█████████▋| 220/228 [00:24<00:00,  8.28it/s]\n",
      " 97%|█████████▋| 221/228 [00:24<00:00,  8.55it/s]\n",
      " 97%|█████████▋| 222/228 [00:24<00:00,  8.63it/s]\n",
      " 98%|█████████▊| 223/228 [00:24<00:00,  8.37it/s]\n",
      " 98%|█████████▊| 224/228 [00:24<00:00,  8.31it/s]\n",
      " 99%|█████████▊| 225/228 [00:25<00:00,  8.24it/s]\n",
      " 99%|█████████▉| 226/228 [00:25<00:00,  8.61it/s]\n",
      "100%|█████████▉| 227/228 [00:25<00:00,  8.67it/s]\n",
      " 58%|█████▊    | 133/228 [00:17<00:12,  7.74it/s]\u001b[32m [repeated 8x across cluster]\u001b[0m\n",
      "100%|██████████| 228/228 [00:25<00:00,  8.99it/s]\n",
      "  0%|          | 0/228 [00:00<?, ?it/s]\n"
     ]
    },
    {
     "name": "stdout",
     "output_type": "stream",
     "text": [
      "\u001b[2m\u001b[36m(DefaultActor pid=92320)\u001b[0m  Training loss for epoch 0: 0.9801907553745989, accuracy: 0.6181469298245614\u001b[32m [repeated 2x across cluster]\u001b[0m\n"
     ]
    },
    {
     "name": "stderr",
     "output_type": "stream",
     "text": [
      " 62%|██████▏   | 141/228 [00:18<00:10,  8.03it/s]\u001b[32m [repeated 276x across cluster]\u001b[0m\n",
      "100%|██████████| 228/228 [00:26<00:00,  8.48it/s]\u001b[32m [repeated 19x across cluster]\u001b[0m\n",
      " 86%|████████▌ | 195/228 [00:23<00:04,  8.22it/s]\n",
      "  0%|          | 0/228 [00:00<?, ?it/s]\n",
      " 76%|███████▌  | 173/228 [00:21<00:06,  8.44it/s]\n",
      "  0%|          | 0/228 [00:00<?, ?it/s]\n"
     ]
    },
    {
     "name": "stdout",
     "output_type": "stream",
     "text": [
      "\u001b[2m\u001b[36m(DefaultActor pid=92318)\u001b[0m  Training loss for epoch 0: 1.4268547275610137, accuracy: 0.4479166666666667\u001b[32m [repeated 2x across cluster]\u001b[0m\n"
     ]
    },
    {
     "name": "stderr",
     "output_type": "stream",
     "text": [
      " 79%|███████▉  | 181/228 [00:23<00:05,  7.99it/s]\u001b[32m [repeated 269x across cluster]\u001b[0m\n",
      "100%|██████████| 228/228 [00:29<00:00,  7.70it/s]\u001b[32m [repeated 40x across cluster]\u001b[0m\n",
      " 86%|████████▋ | 197/228 [00:24<00:03,  8.25it/s]\u001b[32m [repeated 3x across cluster]\u001b[0m\n",
      "  0%|          | 0/228 [00:00<?, ?it/s]\n",
      "  0%|          | 0/228 [00:00<?, ?it/s]\n",
      " 44%|████▍     | 100/228 [00:11<00:15,  8.06it/s]\u001b[32m [repeated 266x across cluster]\u001b[0m\n"
     ]
    },
    {
     "name": "stdout",
     "output_type": "stream",
     "text": [
      "\u001b[2m\u001b[36m(DefaultActor pid=92315)\u001b[0m  Training loss for epoch 0: 1.1500133916474224, accuracy: 0.5526315789473685\u001b[32m [repeated 2x across cluster]\u001b[0m\n"
     ]
    },
    {
     "name": "stderr",
     "output_type": "stream",
     "text": [
      "100%|█████████▉| 227/228 [00:30<00:00,  8.13it/s]\u001b[32m [repeated 65x across cluster]\u001b[0m\n",
      "  4%|▍         | 9/228 [00:01<00:26,  8.42it/s]\u001b[32m [repeated 3x across cluster]\u001b[0m\n",
      "  0%|          | 0/228 [00:00<?, ?it/s]\u001b[32m [repeated 3x across cluster]\u001b[0m\n",
      " 11%|█         | 25/228 [00:03<00:25,  8.05it/s]\u001b[32m [repeated 218x across cluster]\u001b[0m\n",
      "100%|██████████| 228/228 [00:29<00:00,  7.70it/s]\u001b[32m [repeated 14x across cluster]\u001b[0m\n",
      " 21%|██        | 47/228 [00:05<00:20,  8.79it/s]\u001b[32m [repeated 10x across cluster]\u001b[0m\n",
      " 54%|█████▍    | 123/228 [00:15<00:12,  8.28it/s]\u001b[32m [repeated 311x across cluster]\u001b[0m\n",
      " 92%|█████████▏| 210/228 [00:26<00:02,  8.98it/s]\n",
      " 43%|████▎     | 99/228 [00:13<00:14,  9.19it/s]\u001b[32m [repeated 4x across cluster]\u001b[0m\n",
      " 93%|█████████▎| 211/228 [00:26<00:01,  8.63it/s]\n",
      " 93%|█████████▎| 212/228 [00:26<00:01,  8.70it/s]\n",
      " 93%|█████████▎| 213/228 [00:26<00:01,  8.58it/s]\n",
      " 94%|█████████▍| 214/228 [00:26<00:01,  8.53it/s]\n",
      " 94%|█████████▍| 215/228 [00:26<00:01,  8.29it/s]\n",
      " 95%|█████████▍| 216/228 [00:26<00:01,  8.33it/s]\n",
      " 95%|█████████▌| 217/228 [00:27<00:01,  8.54it/s]\n",
      " 45%|████▍     | 102/228 [00:14<00:15,  8.25it/s]\u001b[32m [repeated 276x across cluster]\u001b[0m\n",
      " 96%|█████████▌| 218/228 [00:27<00:01,  8.56it/s]\n",
      " 96%|█████████▌| 219/228 [00:27<00:01,  8.71it/s]\n",
      " 96%|█████████▋| 220/228 [00:27<00:00,  8.57it/s]\n",
      " 97%|█████████▋| 221/228 [00:27<00:00,  8.70it/s]\n",
      " 97%|█████████▋| 222/228 [00:27<00:00,  9.02it/s]\n",
      " 98%|█████████▊| 223/228 [00:27<00:00,  8.91it/s]\n",
      " 99%|█████████▊| 225/228 [00:27<00:00,  9.47it/s]\n",
      " 99%|█████████▉| 226/228 [00:28<00:00,  9.11it/s]\n",
      "100%|█████████▉| 227/228 [00:28<00:00,  8.72it/s]\n",
      "100%|██████████| 228/228 [00:28<00:00,  8.05it/s]\n",
      "  0%|          | 0/228 [00:00<?, ?it/s]\n"
     ]
    },
    {
     "name": "stdout",
     "output_type": "stream",
     "text": [
      "\u001b[2m\u001b[36m(DefaultActor pid=92320)\u001b[0m  Training loss for epoch 1: 1.0850448637155063, accuracy: 0.5995065789473685\u001b[32m [repeated 4x across cluster]\u001b[0m\n"
     ]
    },
    {
     "name": "stderr",
     "output_type": "stream",
     "text": [
      "100%|██████████| 228/228 [00:28<00:00,  8.07it/s]\u001b[32m [repeated 20x across cluster]\u001b[0m\n",
      " 61%|██████    | 139/228 [00:18<00:10,  8.42it/s]\u001b[32m [repeated 4x across cluster]\u001b[0m\n",
      " 62%|██████▏   | 142/228 [00:19<00:10,  8.00it/s]\u001b[32m [repeated 278x across cluster]\u001b[0m\n",
      "  0%|          | 0/228 [00:00<?, ?it/s]\n",
      "  0%|          | 0/228 [00:00<?, ?it/s]\n"
     ]
    },
    {
     "name": "stdout",
     "output_type": "stream",
     "text": [
      "\u001b[2m\u001b[36m(DefaultActor pid=92318)\u001b[0m  Training loss for epoch 1: 1.1817397075264078, accuracy: 0.5254934210526315\u001b[32m [repeated 2x across cluster]\u001b[0m\n"
     ]
    },
    {
     "name": "stderr",
     "output_type": "stream",
     "text": [
      " 98%|█████████▊| 223/228 [00:29<00:00,  7.58it/s]\u001b[32m [repeated 34x across cluster]\u001b[0m\n",
      " 71%|███████   | 162/228 [00:20<00:07,  8.39it/s]\u001b[32m [repeated 10x across cluster]\u001b[0m\n",
      "  7%|▋         | 15/228 [00:01<00:29,  7.18it/s]\u001b[32m [repeated 259x across cluster]\u001b[0m\n",
      "  0%|          | 0/228 [00:00<?, ?it/s]\n",
      " 99%|█████████▊| 225/228 [00:29<00:00,  8.11it/s]\u001b[32m [repeated 43x across cluster]\u001b[0m\n",
      " 48%|████▊     | 109/228 [00:12<00:13,  8.55it/s]\u001b[32m [repeated 12x across cluster]\u001b[0m\n",
      "  0%|          | 0/228 [00:00<?, ?it/s]\n"
     ]
    },
    {
     "name": "stdout",
     "output_type": "stream",
     "text": [
      "\u001b[2m\u001b[36m(DefaultActor pid=92315)\u001b[0m  Training loss for epoch 1: 1.6024147614575268, accuracy: 0.4144736842105263\u001b[32m [repeated 2x across cluster]\u001b[0m\n"
     ]
    },
    {
     "name": "stderr",
     "output_type": "stream",
     "text": [
      "  0%|          | 1/228 [00:00<00:25,  8.95it/s]\u001b[32m [repeated 233x across cluster]\u001b[0m\n",
      "100%|██████████| 228/228 [00:28<00:00,  8.12it/s]\u001b[32m [repeated 40x across cluster]\u001b[0m\n",
      " 29%|██▉       | 66/228 [00:09<00:21,  7.50it/s]\u001b[32m [repeated 5x across cluster]\u001b[0m\n",
      "  0%|          | 0/228 [00:00<?, ?it/s]\u001b[32m [repeated 3x across cluster]\u001b[0m\n",
      " 12%|█▏        | 27/228 [00:04<00:25,  7.82it/s]\u001b[32m [repeated 239x across cluster]\u001b[0m\n",
      " 77%|███████▋  | 176/228 [00:21<00:06,  8.51it/s]\u001b[32m [repeated 4x across cluster]\u001b[0m\n",
      " 29%|██▉       | 66/228 [00:09<00:19,  8.11it/s]\u001b[32m [repeated 311x across cluster]\u001b[0m\n",
      " 92%|█████████▏| 209/228 [00:26<00:02,  6.39it/s]\n",
      " 92%|█████████▏| 210/228 [00:26<00:02,  6.94it/s]\n",
      " 93%|█████████▎| 211/228 [00:26<00:02,  7.33it/s]\n",
      " 93%|█████████▎| 213/228 [00:26<00:01,  7.91it/s]\n",
      " 94%|█████████▍| 214/228 [00:26<00:01,  8.08it/s]\n",
      " 94%|█████████▍| 215/228 [00:26<00:01,  8.13it/s]\n",
      " 95%|█████████▍| 216/228 [00:27<00:01,  8.04it/s]\n",
      " 95%|█████████▌| 217/228 [00:27<00:01,  8.13it/s]\n",
      " 96%|█████████▌| 218/228 [00:27<00:01,  8.36it/s]\n",
      " 96%|█████████▌| 219/228 [00:27<00:01,  8.26it/s]\n",
      " 96%|█████████▋| 220/228 [00:27<00:00,  8.61it/s]\n",
      " 97%|█████████▋| 222/228 [00:27<00:00,  8.65it/s]\n",
      " 98%|█████████▊| 223/228 [00:27<00:00,  8.80it/s]\n",
      " 98%|█████████▊| 224/228 [00:27<00:00,  8.82it/s]\n",
      " 99%|█████████▊| 225/228 [00:28<00:00,  8.43it/s]\n",
      " 62%|██████▏   | 142/228 [00:19<00:10,  8.26it/s]\u001b[32m [repeated 2x across cluster]\u001b[0m\n",
      " 99%|█████████▉| 226/228 [00:28<00:00,  8.43it/s]\n",
      "100%|█████████▉| 227/228 [00:28<00:00,  8.28it/s]\n",
      "100%|██████████| 228/228 [00:28<00:00,  8.00it/s]\n",
      "  0%|          | 0/228 [00:00<?, ?it/s]\n"
     ]
    },
    {
     "name": "stdout",
     "output_type": "stream",
     "text": [
      "\u001b[2m\u001b[36m(DefaultActor pid=92320)\u001b[0m  Training loss for epoch 2: 0.9681668363903698, accuracy: 0.6258223684210527\u001b[32m [repeated 4x across cluster]\u001b[0m\n"
     ]
    },
    {
     "name": "stderr",
     "output_type": "stream",
     "text": [
      " 44%|████▍     | 101/228 [00:14<00:14,  8.48it/s]\u001b[32m [repeated 257x across cluster]\u001b[0m\n",
      "100%|██████████| 228/228 [00:28<00:00,  7.93it/s]\u001b[32m [repeated 19x across cluster]\u001b[0m\n",
      " 61%|██████    | 138/228 [00:18<00:10,  8.82it/s]\u001b[32m [repeated 6x across cluster]\u001b[0m\n",
      "  0%|          | 0/228 [00:00<?, ?it/s]\n",
      " 62%|██████▏   | 142/228 [00:19<00:10,  8.00it/s]\u001b[32m [repeated 290x across cluster]\u001b[0m\n",
      "  0%|          | 0/228 [00:00<?, ?it/s]\n",
      " 92%|█████████▏| 209/228 [00:27<00:02,  8.22it/s]\u001b[32m [repeated 21x across cluster]\u001b[0m\n"
     ]
    },
    {
     "name": "stdout",
     "output_type": "stream",
     "text": [
      "\u001b[2m\u001b[36m(DefaultActor pid=92318)\u001b[0m  Training loss for epoch 2: 1.1674785731654418, accuracy: 0.5479714912280702\u001b[32m [repeated 2x across cluster]\u001b[0m\n"
     ]
    },
    {
     "name": "stderr",
     "output_type": "stream",
     "text": [
      " 83%|████████▎ | 190/228 [00:24<00:04,  8.28it/s]\u001b[32m [repeated 8x across cluster]\u001b[0m\n",
      " 81%|████████  | 184/228 [00:24<00:05,  8.12it/s]\u001b[32m [repeated 281x across cluster]\u001b[0m\n",
      "  0%|          | 0/228 [00:00<?, ?it/s]\n",
      " 96%|█████████▌| 218/228 [00:27<00:01,  8.95it/s]\u001b[32m [repeated 37x across cluster]\u001b[0m\n"
     ]
    },
    {
     "name": "stdout",
     "output_type": "stream",
     "text": [
      "\u001b[2m\u001b[36m(DefaultActor pid=92314)\u001b[0m  Training loss for epoch 2: 0.8209264253576597, accuracy: 0.7143640350877193\u001b[32m [repeated 2x across cluster]\u001b[0m\n"
     ]
    },
    {
     "name": "stderr",
     "output_type": "stream",
     "text": [
      "  0%|          | 0/228 [00:00<?, ?it/s]\n",
      " 16%|█▌        | 36/228 [00:04<00:23,  8.26it/s]\u001b[32m [repeated 4x across cluster]\u001b[0m\n",
      "  6%|▌         | 14/228 [00:01<00:24,  8.69it/s]\u001b[32m [repeated 236x across cluster]\u001b[0m\n",
      " 48%|████▊     | 109/228 [00:13<00:15,  7.46it/s]\n",
      " 21%|██        | 47/228 [00:05<00:25,  7.09it/s]\n",
      "100%|██████████| 228/228 [00:30<00:00,  7.60it/s]\u001b[32m [repeated 56x across cluster]\u001b[0m\n",
      "  0%|          | 0/228 [00:00<?, ?it/s]\u001b[32m [repeated 3x across cluster]\u001b[0m\n",
      "  7%|▋         | 17/228 [00:02<00:37,  5.61it/s]\u001b[32m [repeated 4x across cluster]\u001b[0m\n",
      " 14%|█▍        | 32/228 [00:04<00:24,  8.00it/s]\u001b[32m [repeated 261x across cluster]\u001b[0m\n",
      "  7%|▋         | 17/228 [00:02<00:30,  6.89it/s]\u001b[32m [repeated 3x across cluster]\u001b[0m\n",
      "  7%|▋         | 15/228 [00:01<00:31,  6.75it/s]\n",
      " 79%|███████▉  | 181/228 [00:22<00:05,  8.64it/s]\u001b[32m [repeated 10x across cluster]\u001b[0m\n",
      " 92%|█████████▏| 210/228 [00:25<00:01,  9.20it/s]\n",
      " 93%|█████████▎| 212/228 [00:25<00:01,  9.31it/s]\n",
      " 93%|█████████▎| 213/228 [00:25<00:01,  9.14it/s]\n",
      " 94%|█████████▍| 214/228 [00:25<00:01,  9.17it/s]\n",
      " 94%|█████████▍| 215/228 [00:25<00:01,  8.73it/s]\n",
      " 32%|███▏      | 73/228 [00:09<00:19,  7.96it/s]\u001b[32m [repeated 293x across cluster]\u001b[0m\n",
      " 95%|█████████▍| 216/228 [00:26<00:01,  8.85it/s]\n",
      " 95%|█████████▌| 217/228 [00:26<00:01,  8.42it/s]\n",
      " 96%|█████████▌| 218/228 [00:26<00:01,  8.53it/s]\n",
      " 96%|█████████▌| 219/228 [00:26<00:01,  8.81it/s]\n",
      " 96%|█████████▋| 220/228 [00:26<00:00,  9.09it/s]\n",
      " 97%|█████████▋| 221/228 [00:26<00:00,  9.16it/s]\n",
      " 97%|█████████▋| 222/228 [00:27<00:01,  3.96it/s]\n",
      " 98%|█████████▊| 223/228 [00:27<00:01,  4.70it/s]\n",
      " 98%|█████████▊| 224/228 [00:27<00:00,  5.08it/s]\n",
      " 99%|█████████▊| 225/228 [00:27<00:00,  5.89it/s]\n",
      "100%|█████████▉| 227/228 [00:27<00:00,  6.98it/s]\n",
      "100%|██████████| 228/228 [00:27<00:00,  8.17it/s]\n",
      "  0%|          | 0/228 [00:00<?, ?it/s]\n"
     ]
    },
    {
     "name": "stdout",
     "output_type": "stream",
     "text": [
      "\u001b[2m\u001b[36m(DefaultActor pid=92320)\u001b[0m  Training loss for epoch 3: 0.9067544494020311, accuracy: 0.647203947368421\u001b[32m [repeated 4x across cluster]\u001b[0m\n"
     ]
    },
    {
     "name": "stderr",
     "output_type": "stream",
     "text": [
      " 51%|█████▏    | 117/228 [00:15<00:12,  8.55it/s]\u001b[32m [repeated 5x across cluster]\u001b[0m\n",
      " 97%|█████████▋| 222/228 [00:27<00:00,  8.90it/s]\u001b[32m [repeated 13x across cluster]\u001b[0m\n",
      " 81%|████████  | 185/228 [00:23<00:05,  8.25it/s]\u001b[32m [repeated 248x across cluster]\u001b[0m\n",
      "  0%|          | 0/228 [00:00<?, ?it/s]\n",
      " 28%|██▊       | 64/228 [00:07<00:18,  9.00it/s]\u001b[32m [repeated 9x across cluster]\u001b[0m\n",
      " 97%|█████████▋| 222/228 [00:27<00:00,  8.81it/s]\u001b[32m [repeated 17x across cluster]\u001b[0m\n",
      " 66%|██████▌   | 151/228 [00:19<00:09,  8.25it/s]\u001b[32m [repeated 285x across cluster]\u001b[0m\n",
      "  0%|          | 0/228 [00:00<?, ?it/s]\n"
     ]
    },
    {
     "name": "stdout",
     "output_type": "stream",
     "text": [
      "\u001b[2m\u001b[36m(DefaultActor pid=92318)\u001b[0m  Training loss for epoch 3: 1.128714647732283, accuracy: 0.5512609649122807\u001b[32m [repeated 2x across cluster]\u001b[0m\n"
     ]
    },
    {
     "name": "stderr",
     "output_type": "stream",
     "text": [
      " 88%|████████▊ | 200/228 [00:25<00:03,  8.38it/s]\u001b[32m [repeated 6x across cluster]\u001b[0m\n",
      " 94%|█████████▍| 214/228 [00:26<00:01,  8.77it/s]\u001b[32m [repeated 32x across cluster]\u001b[0m\n",
      " 85%|████████▍ | 193/228 [00:24<00:04,  8.25it/s]\u001b[32m [repeated 282x across cluster]\u001b[0m\n",
      "  0%|          | 0/228 [00:00<?, ?it/s]\n",
      "  0%|          | 0/228 [00:00<?, ?it/s]\n"
     ]
    },
    {
     "name": "stdout",
     "output_type": "stream",
     "text": [
      "\u001b[2m\u001b[36m(DefaultActor pid=92314)\u001b[0m  Training loss for epoch 3: 1.2325065735923617, accuracy: 0.6154057017543859\u001b[32m [repeated 2x across cluster]\u001b[0m\n"
     ]
    },
    {
     "name": "stderr",
     "output_type": "stream",
     "text": [
      " 58%|█████▊    | 133/228 [00:15<00:11,  8.29it/s]\n",
      " 99%|█████████▉| 226/228 [00:29<00:00,  8.03it/s]\u001b[32m [repeated 71x across cluster]\u001b[0m\n",
      "  1%|▏         | 3/228 [00:00<00:27,  8.07it/s]\u001b[32m [repeated 245x across cluster]\u001b[0m\n",
      " 12%|█▏        | 27/228 [00:03<00:23,  8.55it/s]\n",
      "  0%|          | 0/228 [00:00<?, ?it/s]\u001b[32m [repeated 3x across cluster]\u001b[0m\n",
      "100%|██████████| 228/228 [00:29<00:00,  7.72it/s]\u001b[32m [repeated 2x across cluster]\u001b[0m\n",
      " 32%|███▏      | 73/228 [00:08<00:17,  8.87it/s]\u001b[32m [repeated 268x across cluster]\u001b[0m\n",
      " 18%|█▊        | 41/228 [00:05<00:22,  8.19it/s]\u001b[32m [repeated 5x across cluster]\u001b[0m\n"
     ]
    },
    {
     "name": "stdout",
     "output_type": "stream",
     "text": [
      "\u001b[2m\u001b[36m(DefaultActor pid=92320)\u001b[0m  Training loss for epoch 4: 0.8618716517822784, accuracy: 0.6614583333333334\u001b[32m [repeated 4x across cluster]\u001b[0m\n"
     ]
    },
    {
     "name": "stderr",
     "output_type": "stream",
     "text": [
      "100%|██████████| 228/228 [00:26<00:00,  8.62it/s]\u001b[32m [repeated 17x across cluster]\u001b[0m\n",
      " 36%|███▋      | 83/228 [00:10<00:16,  8.89it/s]\u001b[32m [repeated 274x across cluster]\u001b[0m\n",
      " 44%|████▍     | 100/228 [00:12<00:13,  9.30it/s]\u001b[32m [repeated 2x across cluster]\u001b[0m\n",
      "  0%|          | 0/228 [00:00<?, ?it/s]\n",
      "100%|██████████| 228/228 [00:27<00:00,  8.31it/s]\u001b[32m [repeated 15x across cluster]\u001b[0m\n",
      " 55%|█████▍    | 125/228 [00:15<00:11,  9.17it/s]\u001b[32m [repeated 214x across cluster]\u001b[0m\n",
      " 59%|█████▉    | 135/228 [00:17<00:09,  9.39it/s]\u001b[32m [repeated 2x across cluster]\u001b[0m\n",
      "  0%|          | 0/228 [00:00<?, ?it/s]\n"
     ]
    },
    {
     "name": "stdout",
     "output_type": "stream",
     "text": [
      "\u001b[2m\u001b[36m(DefaultActor pid=92318)\u001b[0m  Training loss for epoch 4: 1.135393666855076, accuracy: 0.5523574561403509\u001b[32m [repeated 2x across cluster]\u001b[0m\n"
     ]
    },
    {
     "name": "stderr",
     "output_type": "stream",
     "text": [
      "100%|██████████| 228/228 [00:27<00:00,  8.19it/s]\u001b[32m [repeated 20x across cluster]\u001b[0m\n",
      " 74%|███████▍  | 169/228 [00:20<00:06,  9.15it/s]\u001b[32m [repeated 244x across cluster]\u001b[0m\n",
      " 24%|██▍       | 55/228 [00:05<00:17, 10.01it/s]\u001b[32m [repeated 3x across cluster]\u001b[0m\n"
     ]
    },
    {
     "name": "stdout",
     "output_type": "stream",
     "text": [
      "\u001b[2m\u001b[36m(DefaultActor pid=92313)\u001b[0m  Training loss for epoch 4: 1.1353742531255673, accuracy: 0.6022478070175439\n",
      "\u001b[2m\u001b[36m(DefaultActor pid=92314)\u001b[0m  Training loss for epoch 4: 1.3017115266176693, accuracy: 0.5671600877192983\n"
     ]
    },
    {
     "name": "stderr",
     "output_type": "stream",
     "text": [
      " 95%|█████████▌| 217/228 [00:27<00:00, 11.71it/s]\u001b[32m [repeated 51x across cluster]\u001b[0m\n",
      " 53%|█████▎    | 121/228 [00:12<00:08, 13.05it/s]\u001b[32m [repeated 113x across cluster]\u001b[0m\n",
      " 87%|████████▋ | 199/228 [00:25<00:03,  8.78it/s]\u001b[32m [repeated 2x across cluster]\u001b[0m\n",
      "100%|██████████| 228/228 [00:26<00:00,  8.50it/s]\u001b[32m [repeated 15x across cluster]\u001b[0m\n",
      " 73%|███████▎  | 167/228 [00:14<00:03, 16.75it/s]\u001b[32m [repeated 81x across cluster]\u001b[0m\n",
      "  0%|          | 0/228 [00:00<?, ?it/s]\n"
     ]
    },
    {
     "name": "stdout",
     "output_type": "stream",
     "text": [
      "\u001b[2m\u001b[36m(DefaultActor pid=92320)\u001b[0m  Training loss for epoch 0: 1.31769241497182, accuracy: 0.4786184210526316\u001b[32m [repeated 4x across cluster]\u001b[0m\n"
     ]
    },
    {
     "name": "stderr",
     "output_type": "stream",
     "text": [
      "100%|██████████| 228/228 [00:17<00:00, 12.94it/s]\u001b[32m [repeated 21x across cluster]\u001b[0m\n",
      " 11%|█         | 24/228 [00:01<00:11, 17.10it/s]\u001b[32m [repeated 65x across cluster]\u001b[0m\n",
      "  0%|          | 0/228 [00:00<?, ?it/s]\n",
      " 48%|████▊     | 110/228 [00:06<00:06, 17.09it/s]\u001b[32m [repeated 85x across cluster]\u001b[0m\n",
      " 92%|█████████▏| 210/228 [00:12<00:01, 17.21it/s]\n",
      " 93%|█████████▎| 212/228 [00:12<00:00, 17.46it/s]\n",
      " 94%|█████████▍| 214/228 [00:12<00:00, 17.49it/s]\n",
      " 95%|█████████▍| 216/228 [00:12<00:00, 17.56it/s]\n",
      " 96%|█████████▌| 218/228 [00:13<00:00, 17.21it/s]\n",
      " 96%|█████████▋| 220/228 [00:13<00:00, 17.27it/s]\n",
      " 97%|█████████▋| 222/228 [00:13<00:00, 17.32it/s]\n",
      " 98%|█████████▊| 224/228 [00:13<00:00, 17.32it/s]\n",
      " 99%|█████████▉| 226/228 [00:13<00:00, 17.33it/s]\n",
      "100%|██████████| 228/228 [00:13<00:00, 16.75it/s]\n",
      "  0%|          | 0/228 [00:00<?, ?it/s]\n",
      " 83%|████████▎ | 190/228 [00:11<00:02, 17.20it/s]\u001b[32m [repeated 72x across cluster]\u001b[0m\n"
     ]
    },
    {
     "name": "stdout",
     "output_type": "stream",
     "text": [
      "\u001b[2m\u001b[36m(DefaultActor pid=92320)\u001b[0m  Training loss for epoch 1: 1.2562787890957112, accuracy: 0.4917763157894737\u001b[32m [repeated 2x across cluster]\u001b[0m\n"
     ]
    },
    {
     "name": "stderr",
     "output_type": "stream",
     "text": [
      "100%|██████████| 228/228 [00:14<00:00, 16.09it/s]\u001b[32m [repeated 10x across cluster]\u001b[0m\n",
      "  0%|          | 0/228 [00:00<?, ?it/s]\n",
      " 19%|█▉        | 44/228 [00:02<00:10, 17.20it/s]\u001b[32m [repeated 73x across cluster]\u001b[0m\n",
      " 55%|█████▌    | 126/228 [00:07<00:11,  9.12it/s]\u001b[32m [repeated 82x across cluster]\u001b[0m\n",
      " 92%|█████████▏| 209/228 [00:13<00:01, 16.78it/s]\n",
      " 93%|█████████▎| 211/228 [00:13<00:00, 17.04it/s]\n",
      " 93%|█████████▎| 213/228 [00:13<00:00, 17.08it/s]\n",
      " 94%|█████████▍| 215/228 [00:13<00:00, 16.96it/s]\n",
      " 95%|█████████▌| 217/228 [00:13<00:00, 16.63it/s]\n",
      " 96%|█████████▌| 219/228 [00:13<00:00, 16.70it/s]\n",
      " 97%|█████████▋| 221/228 [00:13<00:00, 16.81it/s]\n",
      " 98%|█████████▊| 223/228 [00:13<00:00, 16.72it/s]\n",
      " 99%|█████████▊| 225/228 [00:14<00:00, 16.77it/s]\n",
      "100%|█████████▉| 227/228 [00:14<00:00, 16.85it/s]\n",
      "100%|██████████| 228/228 [00:14<00:00, 15.97it/s]\n",
      "  0%|          | 0/228 [00:00<?, ?it/s]\n"
     ]
    },
    {
     "name": "stdout",
     "output_type": "stream",
     "text": [
      "\u001b[2m\u001b[36m(DefaultActor pid=92320)\u001b[0m  Training loss for epoch 2: 1.2386678169693863, accuracy: 0.4917763157894737\u001b[32m [repeated 2x across cluster]\u001b[0m\n"
     ]
    },
    {
     "name": "stderr",
     "output_type": "stream",
     "text": [
      "  9%|▉         | 20/228 [00:01<00:12, 17.07it/s]\u001b[32m [repeated 72x across cluster]\u001b[0m\n",
      "100%|██████████| 228/228 [00:13<00:00, 16.34it/s]\u001b[32m [repeated 10x across cluster]\u001b[0m\n",
      "  0%|          | 0/228 [00:00<?, ?it/s]\n",
      " 30%|██▉       | 68/228 [00:04<00:09, 16.99it/s]\u001b[32m [repeated 78x across cluster]\u001b[0m\n",
      " 68%|██████▊   | 154/228 [00:09<00:04, 16.91it/s]\u001b[32m [repeated 86x across cluster]\u001b[0m\n",
      " 92%|█████████▏| 210/228 [00:12<00:01, 16.61it/s]\n",
      " 93%|█████████▎| 212/228 [00:12<00:00, 16.89it/s]\n",
      " 94%|█████████▍| 214/228 [00:12<00:00, 16.64it/s]\n",
      " 95%|█████████▍| 216/228 [00:12<00:00, 17.10it/s]\n",
      " 96%|█████████▌| 218/228 [00:12<00:00, 17.22it/s]\n",
      " 96%|█████████▋| 220/228 [00:12<00:00, 17.23it/s]\n",
      " 97%|█████████▋| 222/228 [00:13<00:00, 17.22it/s]\n",
      " 98%|█████████▊| 224/228 [00:13<00:00, 17.55it/s]\n",
      " 99%|█████████▉| 226/228 [00:13<00:00, 17.53it/s]\n",
      "100%|██████████| 228/228 [00:13<00:00, 17.00it/s]\n",
      "  0%|          | 0/228 [00:00<?, ?it/s]\n"
     ]
    },
    {
     "name": "stdout",
     "output_type": "stream",
     "text": [
      "\u001b[2m\u001b[36m(DefaultActor pid=92320)\u001b[0m  Training loss for epoch 3: 1.1858535223362738, accuracy: 0.5049342105263158\u001b[32m [repeated 2x across cluster]\u001b[0m\n"
     ]
    },
    {
     "name": "stderr",
     "output_type": "stream",
     "text": [
      "  2%|▏         | 4/228 [00:00<00:13, 16.89it/s]\u001b[32m [repeated 59x across cluster]\u001b[0m\n",
      "100%|██████████| 228/228 [00:13<00:00, 16.50it/s]\u001b[32m [repeated 11x across cluster]\u001b[0m\n",
      "  0%|          | 0/228 [00:00<?, ?it/s]\n",
      " 39%|███▉      | 90/228 [00:05<00:08, 16.69it/s]\u001b[32m [repeated 85x across cluster]\u001b[0m\n",
      " 92%|█████████▏| 210/228 [00:13<00:01, 12.50it/s]\n",
      " 93%|█████████▎| 212/228 [00:13<00:01, 13.42it/s]\n",
      " 75%|███████▍  | 170/228 [00:10<00:04, 13.22it/s]\u001b[32m [repeated 79x across cluster]\u001b[0m\n",
      " 94%|█████████▍| 214/228 [00:13<00:00, 14.14it/s]\n",
      " 95%|█████████▍| 216/228 [00:13<00:00, 14.98it/s]\n",
      " 96%|█████████▌| 218/228 [00:13<00:00, 15.58it/s]\n",
      " 96%|█████████▋| 220/228 [00:13<00:00, 16.05it/s]\n",
      " 97%|█████████▋| 222/228 [00:13<00:00, 16.22it/s]\n",
      " 98%|█████████▊| 224/228 [00:13<00:00, 16.44it/s]\n",
      " 99%|█████████▉| 226/228 [00:13<00:00, 16.73it/s]\n",
      "100%|██████████| 228/228 [00:14<00:00, 16.17it/s]\n"
     ]
    },
    {
     "name": "stdout",
     "output_type": "stream",
     "text": [
      "\u001b[2m\u001b[36m(DefaultActor pid=92320)\u001b[0m  Training loss for epoch 4: 1.1863029306395012, accuracy: 0.5123355263157895\u001b[32m [repeated 2x across cluster]\u001b[0m\n"
     ]
    },
    {
     "name": "stderr",
     "output_type": "stream",
     "text": [
      "DEBUG flwr 2023-11-09 12:19:37,557 | server.py:236 | fit_round 6 received 10 results and 0 failures\n",
      "DEBUG:flwr:fit_round 6 received 10 results and 0 failures\n"
     ]
    },
    {
     "name": "stdout",
     "output_type": "stream",
     "text": [
      "Saving round 6 aggregated_parameters...\n",
      "Saved round 6 aggregated_parameters!\n"
     ]
    },
    {
     "name": "stderr",
     "output_type": "stream",
     "text": [
      "INFO flwr 2023-11-09 12:19:37,613 | server.py:171 | evaluate_round 6: no clients selected, cancel\n",
      "INFO:flwr:evaluate_round 6: no clients selected, cancel\n",
      "DEBUG flwr 2023-11-09 12:19:37,614 | server.py:222 | fit_round 7: strategy sampled 10 clients (out of 40)\n",
      "DEBUG:flwr:fit_round 7: strategy sampled 10 clients (out of 40)\n",
      "  0%|          | 0/228 [00:00<?, ?it/s]\n",
      "100%|██████████| 228/228 [00:13<00:00, 16.64it/s]\u001b[32m [repeated 10x across cluster]\u001b[0m\n",
      "  3%|▎         | 6/228 [00:00<00:14, 15.58it/s]\u001b[32m [repeated 22x across cluster]\u001b[0m\n",
      "  0%|          | 0/228 [00:00<?, ?it/s]\u001b[32m [repeated 2x across cluster]\u001b[0m\n",
      "  4%|▎         | 8/228 [00:01<00:58,  3.76it/s]\u001b[32m [repeated 63x across cluster]\u001b[0m\n",
      " 53%|█████▎    | 120/228 [00:10<00:11,  9.35it/s]\n",
      "  0%|          | 0/228 [00:00<?, ?it/s]\u001b[32m [repeated 5x across cluster]\u001b[0m\n",
      " 23%|██▎       | 52/228 [00:06<00:20,  8.67it/s]\u001b[32m [repeated 194x across cluster]\u001b[0m\n",
      " 14%|█▍        | 32/228 [00:03<00:22,  8.81it/s]\u001b[32m [repeated 6x across cluster]\u001b[0m\n",
      " 38%|███▊      | 86/228 [00:11<00:56,  2.52it/s]\u001b[32m [repeated 251x across cluster]\u001b[0m\n",
      " 41%|████      | 94/228 [00:12<00:15,  8.76it/s]\u001b[32m [repeated 3x across cluster]\u001b[0m\n",
      " 55%|█████▌    | 126/228 [00:16<00:12,  8.05it/s]\u001b[32m [repeated 311x across cluster]\u001b[0m\n",
      " 92%|█████████▏| 209/228 [00:21<00:02,  8.91it/s]\n",
      " 92%|█████████▏| 210/228 [00:21<00:02,  8.73it/s]\n",
      " 93%|█████████▎| 211/228 [00:21<00:01,  8.72it/s]\n",
      " 93%|█████████▎| 212/228 [00:21<00:01,  8.74it/s]\n",
      " 94%|█████████▍| 214/228 [00:22<00:01,  8.72it/s]\n",
      " 94%|█████████▍| 215/228 [00:22<00:01,  9.03it/s]\n",
      " 95%|█████████▍| 216/228 [00:22<00:01,  9.21it/s]\n",
      " 95%|█████████▌| 217/228 [00:22<00:01,  9.09it/s]\n",
      " 96%|█████████▌| 218/228 [00:22<00:01,  9.08it/s]\n",
      " 96%|█████████▌| 219/228 [00:22<00:00,  9.32it/s]\n",
      " 96%|█████████▋| 220/228 [00:22<00:00,  9.40it/s]\n",
      " 97%|█████████▋| 221/228 [00:22<00:00,  9.44it/s]\n",
      " 97%|█████████▋| 222/228 [00:23<00:00,  8.53it/s]\n",
      " 98%|█████████▊| 224/228 [00:23<00:00,  9.49it/s]\n",
      " 99%|█████████▊| 225/228 [00:23<00:00,  9.22it/s]\n",
      " 99%|█████████▉| 226/228 [00:23<00:00,  9.28it/s]\n",
      "100%|█████████▉| 227/228 [00:23<00:00,  9.25it/s]\n",
      "  0%|          | 0/228 [00:00<?, ?it/s]\n"
     ]
    },
    {
     "name": "stdout",
     "output_type": "stream",
     "text": [
      "\u001b[2m\u001b[36m(DefaultActor pid=92319)\u001b[0m  Training loss for epoch 0: 0.8744333478573122, accuracy: 0.6754385964912281\u001b[32m [repeated 2x across cluster]\u001b[0m\n"
     ]
    },
    {
     "name": "stderr",
     "output_type": "stream",
     "text": [
      " 47%|████▋     | 107/228 [00:13<00:13,  8.69it/s]\u001b[32m [repeated 2x across cluster]\u001b[0m\n",
      " 74%|███████▍  | 169/228 [00:21<00:07,  7.88it/s]\u001b[32m [repeated 284x across cluster]\u001b[0m\n",
      "100%|██████████| 228/228 [00:24<00:00,  9.17it/s]\u001b[32m [repeated 18x across cluster]\u001b[0m\n",
      "  0%|          | 0/228 [00:00<?, ?it/s]\n",
      " 12%|█▏        | 28/228 [00:03<00:21,  9.14it/s]\u001b[32m [repeated 5x across cluster]\u001b[0m\n",
      " 82%|████████▏ | 186/228 [00:23<00:05,  8.36it/s]\u001b[32m [repeated 307x across cluster]\u001b[0m\n",
      " 95%|█████████▌| 217/228 [00:27<00:01,  7.92it/s]\u001b[32m [repeated 13x across cluster]\u001b[0m\n",
      "  0%|          | 0/228 [00:00<?, ?it/s]\n"
     ]
    },
    {
     "name": "stdout",
     "output_type": "stream",
     "text": [
      "\u001b[2m\u001b[36m(DefaultActor pid=92317)\u001b[0m  Training loss for epoch 0: 0.7652497205295061, accuracy: 0.7025767543859649\u001b[32m [repeated 2x across cluster]\u001b[0m\n"
     ]
    },
    {
     "name": "stderr",
     "output_type": "stream",
     "text": [
      " 90%|████████▉ | 205/228 [00:26<00:02,  8.25it/s]\u001b[32m [repeated 7x across cluster]\u001b[0m\n",
      "  0%|          | 1/228 [00:00<00:27,  8.12it/s]\n",
      " 10%|█         | 23/228 [00:02<00:26,  7.86it/s]\u001b[32m [repeated 239x across cluster]\u001b[0m\n",
      " 94%|█████████▍| 214/228 [00:27<00:01,  7.83it/s]\u001b[32m [repeated 73x across cluster]\u001b[0m\n",
      "  0%|          | 0/228 [00:00<?, ?it/s]\u001b[32m [repeated 2x across cluster]\u001b[0m\n"
     ]
    },
    {
     "name": "stdout",
     "output_type": "stream",
     "text": [
      "\u001b[2m\u001b[36m(DefaultActor pid=92318)\u001b[0m  Training loss for epoch 0: 1.6339037745145328, accuracy: 0.34841008771929827\u001b[32m [repeated 4x across cluster]\u001b[0m\n"
     ]
    },
    {
     "name": "stderr",
     "output_type": "stream",
     "text": [
      " 16%|█▌        | 37/228 [00:05<00:29,  6.51it/s]\u001b[32m [repeated 2x across cluster]\u001b[0m\n",
      " 25%|██▌       | 58/228 [00:07<00:24,  6.98it/s]\u001b[32m [repeated 228x across cluster]\u001b[0m\n",
      "100%|██████████| 228/228 [00:29<00:00,  7.73it/s]\u001b[32m [repeated 26x across cluster]\u001b[0m\n",
      "  0%|          | 0/228 [00:00<?, ?it/s]\u001b[32m [repeated 2x across cluster]\u001b[0m\n",
      " 37%|███▋      | 84/228 [00:11<00:17,  8.17it/s]\u001b[32m [repeated 8x across cluster]\u001b[0m\n",
      " 43%|████▎     | 99/228 [00:12<00:15,  8.45it/s]\u001b[32m [repeated 316x across cluster]\u001b[0m\n",
      " 92%|█████████▏| 210/228 [00:24<00:02,  8.98it/s]\n",
      " 93%|█████████▎| 211/228 [00:24<00:01,  9.00it/s]\n",
      " 93%|█████████▎| 212/228 [00:24<00:01,  9.10it/s]\n",
      " 93%|█████████▎| 213/228 [00:24<00:01,  9.00it/s]\n",
      " 94%|█████████▍| 215/228 [00:25<00:01,  9.05it/s]\n",
      " 95%|█████████▍| 216/228 [00:25<00:01,  8.72it/s]\n",
      " 95%|█████████▌| 217/228 [00:25<00:01,  8.84it/s]\n",
      " 96%|█████████▌| 218/228 [00:25<00:01,  8.82it/s]\n",
      " 96%|█████████▌| 219/228 [00:25<00:01,  8.96it/s]\n",
      " 97%|█████████▋| 221/228 [00:26<00:01,  5.12it/s]\n",
      " 97%|█████████▋| 222/228 [00:26<00:01,  5.38it/s]\n",
      " 98%|█████████▊| 223/228 [00:26<00:00,  5.79it/s]\n",
      " 98%|█████████▊| 224/228 [00:26<00:00,  6.40it/s]\n",
      " 99%|█████████▊| 225/228 [00:26<00:00,  6.89it/s]\n",
      " 99%|█████████▉| 226/228 [00:26<00:00,  7.33it/s]\n",
      "100%|█████████▉| 227/228 [00:26<00:00,  7.81it/s]\n",
      "  0%|          | 0/228 [00:00<?, ?it/s]\n"
     ]
    },
    {
     "name": "stdout",
     "output_type": "stream",
     "text": [
      "\u001b[2m\u001b[36m(DefaultActor pid=92319)\u001b[0m  Training loss for epoch 1: 0.7470436025606958, accuracy: 0.7327302631578947\u001b[32m [repeated 2x across cluster]\u001b[0m\n"
     ]
    },
    {
     "name": "stderr",
     "output_type": "stream",
     "text": [
      " 56%|█████▌    | 127/228 [00:15<00:10,  9.19it/s]\u001b[32m [repeated 3x across cluster]\u001b[0m\n",
      " 43%|████▎     | 99/228 [00:13<00:16,  7.73it/s]\u001b[32m [repeated 273x across cluster]\u001b[0m\n",
      "100%|██████████| 228/228 [00:27<00:00,  8.41it/s]\u001b[32m [repeated 20x across cluster]\u001b[0m\n",
      "  0%|          | 0/228 [00:00<?, ?it/s]\n",
      " 68%|██████▊   | 156/228 [00:19<00:08,  8.69it/s]\u001b[32m [repeated 8x across cluster]\u001b[0m\n",
      " 79%|███████▊  | 179/228 [00:23<00:05,  8.19it/s]\u001b[32m [repeated 296x across cluster]\u001b[0m\n",
      " 92%|█████████▏| 209/228 [00:25<00:02,  8.94it/s]\n",
      " 92%|█████████▏| 210/228 [00:25<00:02,  8.69it/s]\n",
      " 93%|█████████▎| 211/228 [00:25<00:01,  8.56it/s]\n",
      " 93%|█████████▎| 212/228 [00:25<00:01,  8.73it/s]\n",
      " 93%|█████████▎| 213/228 [00:25<00:01,  8.60it/s]\n",
      " 94%|█████████▍| 214/228 [00:25<00:01,  8.48it/s]\n",
      " 94%|█████████▍| 215/228 [00:25<00:01,  8.70it/s]\n",
      " 95%|█████████▍| 216/228 [00:25<00:01,  8.47it/s]\n",
      " 95%|█████████▌| 217/228 [00:26<00:01,  8.71it/s]\n",
      " 96%|█████████▌| 218/228 [00:26<00:01,  8.68it/s]\n",
      " 96%|█████████▌| 219/228 [00:26<00:01,  8.40it/s]\n",
      " 96%|█████████▋| 220/228 [00:26<00:00,  8.25it/s]\n",
      " 97%|█████████▋| 221/228 [00:26<00:00,  8.31it/s]\n"
     ]
    },
    {
     "name": "stdout",
     "output_type": "stream",
     "text": [
      "\u001b[2m\u001b[36m(DefaultActor pid=92316)\u001b[0m  Training loss for epoch 1: 1.2287815166147131, accuracy: 0.5268640350877193\u001b[32m [repeated 2x across cluster]\u001b[0m\n"
     ]
    },
    {
     "name": "stderr",
     "output_type": "stream",
     "text": [
      "  0%|          | 0/228 [00:00<?, ?it/s]\n",
      " 29%|██▉       | 67/228 [00:07<00:18,  8.54it/s]\u001b[32m [repeated 9x across cluster]\u001b[0m\n",
      " 80%|████████  | 183/228 [00:23<00:05,  8.00it/s]\u001b[32m [repeated 279x across cluster]\u001b[0m\n",
      " 99%|█████████▉| 226/228 [00:27<00:00,  9.39it/s]\u001b[32m [repeated 53x across cluster]\u001b[0m\n",
      "  0%|          | 0/228 [00:00<?, ?it/s]\u001b[32m [repeated 3x across cluster]\u001b[0m\n",
      " 47%|████▋     | 108/228 [00:12<00:13,  9.22it/s]\u001b[32m [repeated 3x across cluster]\u001b[0m\n",
      " 14%|█▍        | 33/228 [00:04<00:24,  7.98it/s]\u001b[32m [repeated 239x across cluster]\u001b[0m\n"
     ]
    },
    {
     "name": "stdout",
     "output_type": "stream",
     "text": [
      "\u001b[2m\u001b[36m(DefaultActor pid=92318)\u001b[0m  Training loss for epoch 1: 1.8872951627300496, accuracy: 0.3020833333333333\u001b[32m [repeated 4x across cluster]\u001b[0m\n"
     ]
    },
    {
     "name": "stderr",
     "output_type": "stream",
     "text": [
      "100%|██████████| 228/228 [00:29<00:00,  7.83it/s]\u001b[32m [repeated 43x across cluster]\u001b[0m\n",
      "  0%|          | 0/228 [00:00<?, ?it/s]\u001b[32m [repeated 2x across cluster]\u001b[0m\n",
      "  7%|▋         | 15/228 [00:01<00:25,  8.24it/s]\u001b[32m [repeated 4x across cluster]\u001b[0m\n",
      " 30%|███       | 69/228 [00:09<00:19,  8.20it/s]\u001b[32m [repeated 266x across cluster]\u001b[0m\n",
      " 92%|█████████▏| 210/228 [00:24<00:01,  9.15it/s]\n",
      " 93%|█████████▎| 211/228 [00:24<00:02,  7.70it/s]\n",
      " 93%|█████████▎| 212/228 [00:24<00:02,  7.92it/s]\n",
      " 93%|█████████▎| 213/228 [00:24<00:01,  8.33it/s]\n",
      " 94%|█████████▍| 214/228 [00:24<00:01,  8.33it/s]\n",
      " 95%|█████████▍| 216/228 [00:24<00:01,  9.35it/s]\n",
      " 95%|█████████▌| 217/228 [00:25<00:01,  8.97it/s]\n",
      " 96%|█████████▌| 218/228 [00:25<00:01,  8.74it/s]\n",
      " 96%|█████████▌| 219/228 [00:25<00:01,  8.79it/s]\n",
      " 96%|█████████▋| 220/228 [00:25<00:00,  8.74it/s]\n",
      " 27%|██▋       | 62/228 [00:08<00:19,  8.55it/s]\u001b[32m [repeated 8x across cluster]\u001b[0m\n",
      " 97%|█████████▋| 221/228 [00:25<00:00,  8.44it/s]\n",
      " 48%|████▊     | 110/228 [00:14<00:15,  7.85it/s]\u001b[32m [repeated 294x across cluster]\u001b[0m\n",
      " 97%|█████████▋| 222/228 [00:25<00:00,  8.53it/s]\n",
      " 98%|█████████▊| 223/228 [00:25<00:00,  8.64it/s]\n",
      " 98%|█████████▊| 224/228 [00:25<00:00,  8.84it/s]\n",
      " 99%|█████████▊| 225/228 [00:25<00:00,  8.78it/s]\n",
      " 99%|█████████▉| 226/228 [00:26<00:00,  8.51it/s]\n",
      "100%|██████████| 228/228 [00:26<00:00,  8.67it/s]\n",
      "  0%|          | 0/228 [00:00<?, ?it/s]\n"
     ]
    },
    {
     "name": "stdout",
     "output_type": "stream",
     "text": [
      "\u001b[2m\u001b[36m(DefaultActor pid=92319)\u001b[0m  Training loss for epoch 2: 1.3292496064514445, accuracy: 0.4750548245614035\u001b[32m [repeated 2x across cluster]\u001b[0m\n"
     ]
    },
    {
     "name": "stderr",
     "output_type": "stream",
     "text": [
      "100%|██████████| 228/228 [00:26<00:00,  8.64it/s]\u001b[32m [repeated 15x across cluster]\u001b[0m\n",
      " 61%|██████▏   | 140/228 [00:17<00:11,  7.71it/s]\u001b[32m [repeated 8x across cluster]\u001b[0m\n",
      " 50%|█████     | 115/228 [00:14<00:14,  7.75it/s]\u001b[32m [repeated 245x across cluster]\u001b[0m\n",
      "  0%|          | 0/228 [00:00<?, ?it/s]\n",
      " 92%|█████████▏| 209/228 [00:24<00:02,  9.15it/s]\n",
      " 92%|█████████▏| 210/228 [00:25<00:01,  9.04it/s]\n",
      " 93%|█████████▎| 211/228 [00:25<00:01,  8.75it/s]\n",
      " 93%|█████████▎| 212/228 [00:25<00:01,  8.66it/s]\n",
      " 93%|█████████▎| 213/228 [00:25<00:01,  8.93it/s]\n",
      " 94%|█████████▍| 214/228 [00:25<00:01,  8.82it/s]\n",
      " 89%|████████▉ | 204/228 [00:24<00:02,  9.16it/s]\u001b[32m [repeated 4x across cluster]\u001b[0m\n",
      " 34%|███▍      | 78/228 [00:09<00:16,  9.19it/s]\u001b[32m [repeated 291x across cluster]\u001b[0m\n",
      " 95%|█████████▍| 216/228 [00:25<00:01,  8.60it/s]\n",
      " 96%|█████████▌| 218/228 [00:26<00:01,  8.26it/s]\n",
      " 96%|█████████▌| 219/228 [00:26<00:01,  8.67it/s]\n",
      " 96%|█████████▋| 220/228 [00:26<00:00,  8.49it/s]\n",
      " 97%|█████████▋| 221/228 [00:26<00:00,  8.32it/s]\n",
      " 97%|█████████▋| 222/228 [00:26<00:00,  8.64it/s]\n",
      " 98%|█████████▊| 224/228 [00:26<00:00,  8.67it/s]\n",
      " 30%|██▉       | 68/228 [00:08<00:18,  8.43it/s]\n",
      " 99%|█████████▊| 225/228 [00:26<00:00,  8.17it/s]\n",
      " 99%|█████████▉| 226/228 [00:27<00:00,  7.84it/s]\n",
      "100%|██████████| 228/228 [00:27<00:00,  8.38it/s]\n",
      "  0%|          | 0/228 [00:00<?, ?it/s]\n"
     ]
    },
    {
     "name": "stdout",
     "output_type": "stream",
     "text": [
      "\u001b[2m\u001b[36m(DefaultActor pid=92316)\u001b[0m  Training loss for epoch 2: 1.0784930843010283, accuracy: 0.5726425438596491\u001b[32m [repeated 2x across cluster]\u001b[0m\n"
     ]
    },
    {
     "name": "stderr",
     "output_type": "stream",
     "text": [
      " 96%|█████████▌| 219/228 [00:28<00:01,  7.85it/s]\u001b[32m [repeated 23x across cluster]\u001b[0m\n",
      " 42%|████▏     | 96/228 [00:11<00:14,  9.21it/s]\u001b[32m [repeated 20x across cluster]\u001b[0m\n",
      " 86%|████████▌ | 196/228 [00:24<00:03,  8.35it/s]\u001b[32m [repeated 226x across cluster]\u001b[0m\n",
      "  0%|          | 0/228 [00:00<?, ?it/s]\u001b[32m [repeated 2x across cluster]\u001b[0m\n"
     ]
    },
    {
     "name": "stdout",
     "output_type": "stream",
     "text": [
      "\u001b[2m\u001b[36m(DefaultActor pid=92315)\u001b[0m  Training loss for epoch 2: 1.1564864277055389, accuracy: 0.575109649122807\u001b[32m [repeated 3x across cluster]\u001b[0m\n"
     ]
    },
    {
     "name": "stderr",
     "output_type": "stream",
     "text": [
      " 96%|█████████▌| 219/228 [00:28<00:01,  8.36it/s]\u001b[32m [repeated 64x across cluster]\u001b[0m\n",
      " 56%|█████▌    | 128/228 [00:15<00:11,  8.86it/s]\u001b[32m [repeated 4x across cluster]\u001b[0m\n",
      " 17%|█▋        | 39/228 [00:04<00:23,  8.18it/s]\u001b[32m [repeated 253x across cluster]\u001b[0m\n",
      "  0%|          | 0/228 [00:00<?, ?it/s]\u001b[32m [repeated 3x across cluster]\u001b[0m\n",
      "100%|██████████| 228/228 [00:29<00:00,  7.81it/s]\u001b[32m [repeated 9x across cluster]\u001b[0m\n",
      " 28%|██▊       | 64/228 [00:07<00:19,  8.33it/s]\u001b[32m [repeated 5x across cluster]\u001b[0m\n",
      " 32%|███▏      | 74/228 [00:09<00:19,  7.93it/s]\u001b[32m [repeated 267x across cluster]\u001b[0m\n",
      "  0%|          | 0/228 [00:00<?, ?it/s]\n"
     ]
    },
    {
     "name": "stdout",
     "output_type": "stream",
     "text": [
      "\u001b[2m\u001b[36m(DefaultActor pid=92319)\u001b[0m  Training loss for epoch 3: 1.2442566229586016, accuracy: 0.4909539473684211\u001b[32m [repeated 3x across cluster]\u001b[0m\n"
     ]
    },
    {
     "name": "stderr",
     "output_type": "stream",
     "text": [
      " 98%|█████████▊| 223/228 [00:26<00:00,  9.12it/s]\u001b[32m [repeated 29x across cluster]\u001b[0m\n",
      " 32%|███▏      | 73/228 [00:09<00:18,  8.32it/s]\u001b[32m [repeated 6x across cluster]\u001b[0m\n",
      " 50%|█████     | 115/228 [00:15<00:14,  7.77it/s]\u001b[32m [repeated 273x across cluster]\u001b[0m\n",
      "  0%|          | 0/228 [00:00<?, ?it/s]\n",
      "100%|██████████| 228/228 [00:26<00:00,  8.51it/s]\u001b[32m [repeated 3x across cluster]\u001b[0m\n",
      " 69%|██████▉   | 157/228 [00:19<00:09,  7.29it/s]\u001b[32m [repeated 5x across cluster]\u001b[0m\n",
      " 66%|██████▌   | 151/228 [00:20<00:09,  7.78it/s]\u001b[32m [repeated 275x across cluster]\u001b[0m\n"
     ]
    },
    {
     "name": "stdout",
     "output_type": "stream",
     "text": [
      "\u001b[2m\u001b[36m(DefaultActor pid=92316)\u001b[0m  Training loss for epoch 3: 1.1376598151890855, accuracy: 0.5575657894736842\u001b[32m [repeated 2x across cluster]\u001b[0m\n"
     ]
    },
    {
     "name": "stderr",
     "output_type": "stream",
     "text": [
      "  0%|          | 0/228 [00:00<?, ?it/s]\n",
      "100%|██████████| 228/228 [00:27<00:00,  8.25it/s]\u001b[32m [repeated 20x across cluster]\u001b[0m\n",
      " 87%|████████▋ | 198/228 [00:24<00:03,  9.43it/s]\u001b[32m [repeated 6x across cluster]\u001b[0m\n",
      " 84%|████████▍ | 192/228 [00:25<00:04,  8.59it/s]\u001b[32m [repeated 284x across cluster]\u001b[0m\n",
      "  0%|          | 0/228 [00:00<?, ?it/s]\n",
      " 98%|█████████▊| 224/228 [00:29<00:00,  7.79it/s]\u001b[32m [repeated 35x across cluster]\u001b[0m\n",
      "  0%|          | 0/228 [00:00<?, ?it/s]\n"
     ]
    },
    {
     "name": "stdout",
     "output_type": "stream",
     "text": [
      "\u001b[2m\u001b[36m(DefaultActor pid=92317)\u001b[0m  Training loss for epoch 3: 1.1628862437710428, accuracy: 0.571546052631579\u001b[32m [repeated 2x across cluster]\u001b[0m\n"
     ]
    },
    {
     "name": "stderr",
     "output_type": "stream",
     "text": [
      "  5%|▌         | 12/228 [00:01<00:25,  8.58it/s]\u001b[32m [repeated 3x across cluster]\u001b[0m\n",
      "  2%|▏         | 4/228 [00:00<00:29,  7.56it/s]\u001b[32m [repeated 270x across cluster]\u001b[0m\n",
      " 99%|█████████▊| 225/228 [00:29<00:00,  8.24it/s]\u001b[32m [repeated 61x across cluster]\u001b[0m\n",
      "  0%|          | 0/228 [00:00<?, ?it/s]\u001b[32m [repeated 3x across cluster]\u001b[0m\n",
      " 74%|███████▎  | 168/228 [00:19<00:06,  9.03it/s]\u001b[32m [repeated 2x across cluster]\u001b[0m\n",
      " 20%|██        | 46/228 [00:05<00:21,  8.34it/s]\u001b[32m [repeated 261x across cluster]\u001b[0m\n"
     ]
    },
    {
     "name": "stdout",
     "output_type": "stream",
     "text": [
      "\u001b[2m\u001b[36m(DefaultActor pid=92319)\u001b[0m  Training loss for epoch 4: 1.0267776527948547, accuracy: 0.6167763157894737\u001b[32m [repeated 4x across cluster]\u001b[0m\n"
     ]
    },
    {
     "name": "stderr",
     "output_type": "stream",
     "text": [
      " 95%|█████████▍| 216/228 [00:24<00:01,  8.12it/s]\u001b[32m [repeated 27x across cluster]\u001b[0m\n",
      " 91%|█████████ | 207/228 [00:23<00:02,  9.01it/s]\u001b[32m [repeated 6x across cluster]\u001b[0m\n",
      " 36%|███▌      | 82/228 [00:10<00:18,  7.85it/s]\u001b[32m [repeated 235x across cluster]\u001b[0m\n",
      "  0%|          | 0/228 [00:00<?, ?it/s]\n",
      "100%|██████████| 228/228 [00:26<00:00,  8.72it/s]\u001b[32m [repeated 10x across cluster]\u001b[0m\n",
      "  9%|▉         | 21/228 [00:02<00:22,  9.10it/s]\u001b[32m [repeated 2x across cluster]\u001b[0m\n",
      " 54%|█████▍    | 124/228 [00:15<00:13,  7.98it/s]\u001b[32m [repeated 270x across cluster]\u001b[0m\n",
      "  0%|          | 0/228 [00:00<?, ?it/s]\n",
      " 93%|█████████▎| 213/228 [00:25<00:02,  5.33it/s]\u001b[32m [repeated 5x across cluster]\u001b[0m\n",
      " 79%|███████▉  | 180/228 [00:22<00:06,  7.57it/s]\u001b[32m [repeated 10x across cluster]\u001b[0m\n",
      " 29%|██▉       | 67/228 [00:08<00:20,  7.96it/s]\u001b[32m [repeated 226x across cluster]\u001b[0m\n"
     ]
    },
    {
     "name": "stdout",
     "output_type": "stream",
     "text": [
      "\u001b[2m\u001b[36m(DefaultActor pid=92316)\u001b[0m  Training loss for epoch 4: 1.1772253372167285, accuracy: 0.5405701754385965\u001b[32m [repeated 2x across cluster]\u001b[0m\n"
     ]
    },
    {
     "name": "stderr",
     "output_type": "stream",
     "text": [
      " 97%|█████████▋| 221/228 [00:27<00:00,  9.47it/s]\u001b[32m [repeated 22x across cluster]\u001b[0m\n",
      " 78%|███████▊  | 177/228 [00:22<00:05,  9.73it/s]\u001b[32m [repeated 9x across cluster]\u001b[0m\n",
      " 81%|████████  | 185/228 [00:23<00:04, 10.11it/s]\u001b[32m [repeated 216x across cluster]\u001b[0m\n"
     ]
    },
    {
     "name": "stdout",
     "output_type": "stream",
     "text": [
      "\u001b[2m\u001b[36m(DefaultActor pid=92317)\u001b[0m  Training loss for epoch 4: 0.8275229293003417, accuracy: 0.7003837719298246\u001b[32m [repeated 2x across cluster]\u001b[0m\n"
     ]
    },
    {
     "name": "stderr",
     "output_type": "stream",
     "text": [
      " 99%|█████████▊| 225/228 [00:27<00:00, 11.30it/s]\u001b[32m [repeated 39x across cluster]\u001b[0m\n",
      " 69%|██████▉   | 158/228 [00:20<00:08,  8.20it/s]\n",
      " 78%|███████▊  | 177/228 [00:18<00:04, 12.44it/s]\u001b[32m [repeated 116x across cluster]\u001b[0m\n",
      "  0%|          | 0/228 [00:00<?, ?it/s]\n"
     ]
    },
    {
     "name": "stdout",
     "output_type": "stream",
     "text": [
      "\u001b[2m\u001b[36m(DefaultActor pid=92319)\u001b[0m  Training loss for epoch 0: 1.2477593947398036, accuracy: 0.5104166666666666\u001b[32m [repeated 4x across cluster]\u001b[0m\n"
     ]
    },
    {
     "name": "stderr",
     "output_type": "stream",
     "text": [
      "100%|██████████| 228/228 [00:21<00:00, 10.74it/s]\u001b[32m [repeated 34x across cluster]\u001b[0m\n",
      " 13%|█▎        | 30/228 [00:01<00:11, 16.90it/s]\u001b[32m [repeated 60x across cluster]\u001b[0m\n",
      "  0%|          | 0/228 [00:00<?, ?it/s]\n",
      " 45%|████▍     | 102/228 [00:06<00:07, 17.37it/s]\u001b[32m [repeated 73x across cluster]\u001b[0m\n",
      " 82%|████████▏ | 186/228 [00:11<00:02, 16.35it/s]\u001b[32m [repeated 84x across cluster]\u001b[0m\n",
      " 92%|█████████▏| 210/228 [00:13<00:01, 16.70it/s]\n",
      " 93%|█████████▎| 212/228 [00:13<00:00, 17.00it/s]\n",
      " 94%|█████████▍| 214/228 [00:13<00:00, 16.78it/s]\n",
      " 95%|█████████▍| 216/228 [00:13<00:00, 16.64it/s]\n",
      " 96%|█████████▌| 218/228 [00:13<00:00, 16.96it/s]\n",
      " 96%|█████████▋| 220/228 [00:13<00:00, 16.66it/s]\n",
      "  0%|          | 0/228 [00:00<?, ?it/s]\n"
     ]
    },
    {
     "name": "stdout",
     "output_type": "stream",
     "text": [
      "\u001b[2m\u001b[36m(DefaultActor pid=92319)\u001b[0m  Training loss for epoch 1: 1.4499823490255757, accuracy: 0.43969298245614036\u001b[32m [repeated 2x across cluster]\u001b[0m\n"
     ]
    },
    {
     "name": "stderr",
     "output_type": "stream",
     "text": [
      " 16%|█▌        | 36/228 [00:02<00:11, 16.75it/s]\u001b[32m [repeated 59x across cluster]\u001b[0m\n",
      "100%|██████████| 228/228 [00:14<00:00, 15.65it/s]\u001b[32m [repeated 14x across cluster]\u001b[0m\n",
      "  0%|          | 0/228 [00:00<?, ?it/s]\n",
      " 53%|█████▎    | 120/228 [00:07<00:06, 16.26it/s]\u001b[32m [repeated 84x across cluster]\u001b[0m\n",
      " 89%|████████▉ | 204/228 [00:12<00:01, 17.17it/s]\u001b[32m [repeated 86x across cluster]\u001b[0m\n",
      " 92%|█████████▏| 210/228 [00:12<00:01, 16.67it/s]\n",
      " 93%|█████████▎| 212/228 [00:12<00:00, 16.77it/s]\n",
      " 94%|█████████▍| 214/228 [00:12<00:00, 16.81it/s]\n",
      "  0%|          | 0/228 [00:00<?, ?it/s]\n"
     ]
    },
    {
     "name": "stdout",
     "output_type": "stream",
     "text": [
      "\u001b[2m\u001b[36m(DefaultActor pid=92319)\u001b[0m  Training loss for epoch 2: 1.3475768861540578, accuracy: 0.46847587719298245\u001b[32m [repeated 2x across cluster]\u001b[0m\n"
     ]
    },
    {
     "name": "stderr",
     "output_type": "stream",
     "text": [
      " 25%|██▌       | 58/228 [00:03<00:10, 16.57it/s]\u001b[32m [repeated 63x across cluster]\u001b[0m\n",
      "100%|██████████| 228/228 [00:13<00:00, 16.87it/s]\u001b[32m [repeated 17x across cluster]\u001b[0m\n",
      "  0%|          | 0/228 [00:00<?, ?it/s]\n",
      " 39%|███▊      | 88/228 [00:05<00:08, 17.25it/s]\n",
      " 61%|██████    | 138/228 [00:08<00:05, 16.52it/s]\u001b[32m [repeated 78x across cluster]\u001b[0m\n",
      " 92%|█████████▏| 210/228 [00:13<00:01, 16.14it/s]\n",
      " 91%|█████████ | 208/228 [00:12<00:01, 16.91it/s]\u001b[32m [repeated 72x across cluster]\u001b[0m\n",
      "  0%|          | 0/228 [00:00<?, ?it/s]\n"
     ]
    },
    {
     "name": "stdout",
     "output_type": "stream",
     "text": [
      "\u001b[2m\u001b[36m(DefaultActor pid=92319)\u001b[0m  Training loss for epoch 3: 1.2330261173478343, accuracy: 0.5057565789473685\u001b[32m [repeated 2x across cluster]\u001b[0m\n"
     ]
    },
    {
     "name": "stderr",
     "output_type": "stream",
     "text": [
      "100%|██████████| 228/228 [00:13<00:00, 16.48it/s]\u001b[32m [repeated 19x across cluster]\u001b[0m\n",
      " 31%|███       | 70/228 [00:04<00:09, 16.75it/s]\u001b[32m [repeated 69x across cluster]\u001b[0m\n",
      "  0%|          | 0/228 [00:00<?, ?it/s]\n",
      " 68%|██████▊   | 154/228 [00:09<00:04, 16.89it/s]\u001b[32m [repeated 85x across cluster]\u001b[0m\n",
      " 92%|█████████▏| 210/228 [00:12<00:01, 17.35it/s]\n",
      " 93%|█████████▎| 212/228 [00:12<00:00, 17.19it/s]\n",
      "DEBUG flwr 2023-11-09 12:23:11,201 | server.py:236 | fit_round 7 received 10 results and 0 failures\n",
      "DEBUG:flwr:fit_round 7 received 10 results and 0 failures\n"
     ]
    },
    {
     "name": "stdout",
     "output_type": "stream",
     "text": [
      "\u001b[2m\u001b[36m(DefaultActor pid=92320)\u001b[0m  Training loss for epoch 4: 1.6237302649962275, accuracy: 0.44764254385964913\u001b[32m [repeated 2x across cluster]\u001b[0m\n",
      "Saving round 7 aggregated_parameters...\n",
      "Saved round 7 aggregated_parameters!\n"
     ]
    },
    {
     "name": "stderr",
     "output_type": "stream",
     "text": [
      "INFO flwr 2023-11-09 12:23:11,256 | server.py:171 | evaluate_round 7: no clients selected, cancel\n",
      "INFO:flwr:evaluate_round 7: no clients selected, cancel\n",
      "DEBUG flwr 2023-11-09 12:23:11,256 | server.py:222 | fit_round 8: strategy sampled 10 clients (out of 40)\n",
      "DEBUG:flwr:fit_round 8: strategy sampled 10 clients (out of 40)\n",
      "  0%|          | 0/228 [00:00<?, ?it/s]\n",
      " 91%|█████████ | 208/228 [00:12<00:01, 17.06it/s]\u001b[32m [repeated 54x across cluster]\u001b[0m\n",
      "100%|██████████| 228/228 [00:14<00:00, 16.25it/s]\u001b[32m [repeated 18x across cluster]\u001b[0m\n",
      "  0%|          | 0/228 [00:00<?, ?it/s]\u001b[32m [repeated 3x across cluster]\u001b[0m\n",
      " 26%|██▋       | 60/228 [00:05<00:13, 12.68it/s]\u001b[32m [repeated 68x across cluster]\u001b[0m\n",
      "  5%|▌         | 12/228 [00:01<00:22,  9.53it/s]\n",
      "  0%|          | 0/228 [00:00<?, ?it/s]\u001b[32m [repeated 3x across cluster]\u001b[0m\n",
      "  7%|▋         | 15/228 [00:01<00:28,  7.53it/s]\u001b[32m [repeated 153x across cluster]\u001b[0m\n",
      " 10%|▉         | 22/228 [00:02<00:23,  8.79it/s]\u001b[32m [repeated 9x across cluster]\u001b[0m\n",
      "  0%|          | 0/228 [00:00<?, ?it/s]\n",
      " 25%|██▌       | 58/228 [00:08<00:22,  7.57it/s]\u001b[32m [repeated 227x across cluster]\u001b[0m\n",
      " 24%|██▍       | 55/228 [00:07<00:20,  8.39it/s]\u001b[32m [repeated 7x across cluster]\u001b[0m\n",
      " 38%|███▊      | 86/228 [00:11<00:18,  7.76it/s]\u001b[32m [repeated 306x across cluster]\u001b[0m\n",
      " 92%|█████████▏| 209/228 [00:21<00:02,  8.57it/s]\n",
      " 92%|█████████▏| 210/228 [00:22<00:02,  8.90it/s]\n",
      " 93%|█████████▎| 212/228 [00:22<00:01,  9.09it/s]\n",
      " 93%|█████████▎| 213/228 [00:22<00:01,  8.99it/s]\n",
      " 94%|█████████▍| 214/228 [00:22<00:01,  7.94it/s]\n",
      " 94%|█████████▍| 215/228 [00:22<00:01,  8.17it/s]\n",
      " 95%|█████████▍| 216/228 [00:22<00:01,  8.53it/s]\n",
      " 95%|█████████▌| 217/228 [00:22<00:01,  8.74it/s]\n",
      " 96%|█████████▌| 218/228 [00:23<00:01,  8.71it/s]\n",
      " 96%|█████████▌| 219/228 [00:23<00:01,  8.36it/s]\n",
      " 96%|█████████▋| 220/228 [00:23<00:00,  8.69it/s]\n",
      " 97%|█████████▋| 221/228 [00:23<00:00,  8.71it/s]\n",
      " 98%|█████████▊| 223/228 [00:23<00:00,  9.19it/s]\n",
      " 69%|██████▉   | 158/228 [00:19<00:08,  8.52it/s]\u001b[32m [repeated 5x across cluster]\u001b[0m\n",
      " 98%|█████████▊| 224/228 [00:23<00:00,  9.04it/s]\n",
      " 99%|█████████▉| 226/228 [00:23<00:00,  9.19it/s]\n",
      "100%|█████████▉| 227/228 [00:24<00:00,  9.17it/s]\n",
      "100%|██████████| 228/228 [00:24<00:00,  9.44it/s]\n",
      "  0%|          | 0/228 [00:00<?, ?it/s]\n"
     ]
    },
    {
     "name": "stdout",
     "output_type": "stream",
     "text": [
      "\u001b[2m\u001b[36m(DefaultActor pid=92319)\u001b[0m  Training loss for epoch 0: 1.5410995635024287, accuracy: 0.4213267543859649\u001b[32m [repeated 2x across cluster]\u001b[0m\n"
     ]
    },
    {
     "name": "stderr",
     "output_type": "stream",
     "text": [
      " 56%|█████▌    | 127/228 [00:17<00:12,  8.30it/s]\u001b[32m [repeated 276x across cluster]\u001b[0m\n",
      "100%|██████████| 228/228 [00:25<00:00,  9.01it/s]\u001b[32m [repeated 17x across cluster]\u001b[0m\n",
      " 62%|██████▏   | 142/228 [00:17<00:09,  8.77it/s]\u001b[32m [repeated 11x across cluster]\u001b[0m\n",
      "  0%|          | 0/228 [00:00<?, ?it/s]\n",
      " 73%|███████▎  | 167/228 [00:22<00:07,  8.31it/s]\u001b[32m [repeated 273x across cluster]\u001b[0m\n"
     ]
    },
    {
     "name": "stdout",
     "output_type": "stream",
     "text": [
      "\u001b[2m\u001b[36m(DefaultActor pid=92313)\u001b[0m  Training loss for epoch 0: 1.118739226669596, accuracy: 0.5792214912280702\u001b[32m [repeated 2x across cluster]\u001b[0m\n"
     ]
    },
    {
     "name": "stderr",
     "output_type": "stream",
     "text": [
      "  0%|          | 0/228 [00:00<?, ?it/s]\n",
      " 99%|█████████▉| 226/228 [00:27<00:00,  8.16it/s]\u001b[32m [repeated 37x across cluster]\u001b[0m\n",
      " 82%|████████▏ | 187/228 [00:23<00:04,  8.53it/s]\u001b[32m [repeated 6x across cluster]\u001b[0m\n",
      " 91%|█████████ | 207/228 [00:27<00:02,  8.23it/s]\u001b[32m [repeated 269x across cluster]\u001b[0m\n",
      "  0%|          | 0/228 [00:00<?, ?it/s]\u001b[32m [repeated 2x across cluster]\u001b[0m\n",
      " 97%|█████████▋| 222/228 [00:28<00:00,  7.83it/s]\u001b[32m [repeated 58x across cluster]\u001b[0m\n"
     ]
    },
    {
     "name": "stdout",
     "output_type": "stream",
     "text": [
      "\u001b[2m\u001b[36m(DefaultActor pid=92314)\u001b[0m  Training loss for epoch 0: 1.2144536911918407, accuracy: 0.5027412280701754\u001b[32m [repeated 3x across cluster]\u001b[0m\n"
     ]
    },
    {
     "name": "stderr",
     "output_type": "stream",
     "text": [
      "  4%|▍         | 9/228 [00:01<00:25,  8.71it/s]\u001b[32m [repeated 8x across cluster]\u001b[0m\n",
      " 57%|█████▋    | 131/228 [00:16<00:24,  3.89it/s]\u001b[32m [repeated 181x across cluster]\u001b[0m\n",
      "  0%|          | 0/228 [00:00<?, ?it/s]\u001b[32m [repeated 3x across cluster]\u001b[0m\n",
      "100%|██████████| 228/228 [00:27<00:00,  8.23it/s]\u001b[32m [repeated 22x across cluster]\u001b[0m\n",
      " 42%|████▏     | 96/228 [00:13<00:16,  7.87it/s]\u001b[32m [repeated 12x across cluster]\u001b[0m\n",
      " 32%|███▏      | 72/228 [00:09<00:18,  8.49it/s]\u001b[32m [repeated 287x across cluster]\u001b[0m\n",
      " 57%|█████▋    | 130/228 [00:17<00:11,  8.63it/s]\u001b[32m [repeated 10x across cluster]\u001b[0m\n",
      " 37%|███▋      | 84/228 [00:12<00:26,  5.34it/s]\u001b[32m [repeated 235x across cluster]\u001b[0m\n",
      " 92%|█████████▏| 210/228 [00:26<00:03,  5.55it/s]\n",
      " 93%|█████████▎| 211/228 [00:26<00:02,  6.12it/s]\n",
      " 93%|█████████▎| 212/228 [00:26<00:02,  6.29it/s]\n",
      " 94%|█████████▍| 214/228 [00:27<00:01,  7.38it/s]\n",
      " 94%|█████████▍| 215/228 [00:27<00:01,  7.62it/s]\n",
      " 95%|█████████▍| 216/228 [00:27<00:01,  7.89it/s]\n",
      " 95%|█████████▌| 217/228 [00:27<00:01,  8.08it/s]\n",
      " 96%|█████████▌| 218/228 [00:27<00:01,  8.46it/s]\n",
      " 96%|█████████▌| 219/228 [00:27<00:01,  8.66it/s]\n",
      " 96%|█████████▋| 220/228 [00:27<00:00,  8.66it/s]\n",
      " 97%|█████████▋| 222/228 [00:27<00:00,  8.77it/s]\n",
      " 98%|█████████▊| 223/228 [00:28<00:00,  8.71it/s]\n",
      " 99%|█████████▊| 225/228 [00:28<00:00,  8.66it/s]\n",
      " 99%|█████████▉| 226/228 [00:28<00:00,  8.88it/s]\n",
      "  0%|          | 0/228 [00:00<?, ?it/s]\n"
     ]
    },
    {
     "name": "stdout",
     "output_type": "stream",
     "text": [
      "\u001b[2m\u001b[36m(DefaultActor pid=92319)\u001b[0m  Training loss for epoch 1: 1.2932123314393194, accuracy: 0.4758771929824561\u001b[32m [repeated 3x across cluster]\u001b[0m\n"
     ]
    },
    {
     "name": "stderr",
     "output_type": "stream",
     "text": [
      " 71%|███████   | 162/228 [00:22<00:07,  8.46it/s]\u001b[32m [repeated 8x across cluster]\u001b[0m\n",
      " 55%|█████▍    | 125/228 [00:17<00:13,  7.83it/s]\u001b[32m [repeated 267x across cluster]\u001b[0m\n",
      "100%|██████████| 228/228 [00:28<00:00,  8.09it/s]\u001b[32m [repeated 18x across cluster]\u001b[0m\n",
      "  0%|          | 0/228 [00:00<?, ?it/s]\n",
      " 69%|██████▉   | 158/228 [00:20<00:08,  8.41it/s]\u001b[32m [repeated 5x across cluster]\u001b[0m\n",
      " 72%|███████▏  | 165/228 [00:22<00:08,  7.80it/s]\u001b[32m [repeated 304x across cluster]\u001b[0m\n",
      " 96%|█████████▋| 220/228 [00:29<00:01,  7.93it/s]\u001b[32m [repeated 13x across cluster]\u001b[0m\n"
     ]
    },
    {
     "name": "stdout",
     "output_type": "stream",
     "text": [
      "\u001b[2m\u001b[36m(DefaultActor pid=92313)\u001b[0m  Training loss for epoch 1: 0.9795520028524232, accuracy: 0.6175986842105263\u001b[32m [repeated 2x across cluster]\u001b[0m\n"
     ]
    },
    {
     "name": "stderr",
     "output_type": "stream",
     "text": [
      "  0%|          | 0/228 [00:00<?, ?it/s]\n",
      " 45%|████▍     | 102/228 [00:11<00:13,  9.64it/s]\u001b[32m [repeated 7x across cluster]\u001b[0m\n",
      " 90%|█████████ | 206/228 [00:27<00:02,  7.73it/s]\u001b[32m [repeated 245x across cluster]\u001b[0m\n",
      "100%|██████████| 228/228 [00:30<00:00,  7.58it/s]\u001b[32m [repeated 58x across cluster]\u001b[0m\n",
      "  0%|          | 0/228 [00:00<?, ?it/s]\u001b[32m [repeated 3x across cluster]\u001b[0m\n"
     ]
    },
    {
     "name": "stdout",
     "output_type": "stream",
     "text": [
      "\u001b[2m\u001b[36m(DefaultActor pid=92316)\u001b[0m  Training loss for epoch 1: 0.7171326968492123, accuracy: 0.7234100877192983\u001b[32m [repeated 4x across cluster]\u001b[0m\n"
     ]
    },
    {
     "name": "stderr",
     "output_type": "stream",
     "text": [
      "  9%|▉         | 20/228 [00:02<00:41,  5.05it/s]\u001b[32m [repeated 8x across cluster]\u001b[0m\n",
      " 26%|██▋       | 60/228 [00:07<00:20,  8.04it/s]\u001b[32m [repeated 243x across cluster]\u001b[0m\n",
      "100%|██████████| 228/228 [00:30<00:00,  7.47it/s]\u001b[32m [repeated 41x across cluster]\u001b[0m\n",
      "  0%|          | 0/228 [00:00<?, ?it/s]\u001b[32m [repeated 2x across cluster]\u001b[0m\n",
      " 76%|███████▌  | 173/228 [00:20<00:06,  8.95it/s]\u001b[32m [repeated 6x across cluster]\u001b[0m\n",
      " 25%|██▍       | 56/228 [00:07<00:21,  8.12it/s]\u001b[32m [repeated 299x across cluster]\u001b[0m\n",
      " 92%|█████████▏| 209/228 [00:24<00:02,  8.82it/s]\n",
      " 92%|█████████▏| 210/228 [00:24<00:02,  8.71it/s]\n",
      " 93%|█████████▎| 211/228 [00:24<00:01,  8.83it/s]\n",
      " 93%|█████████▎| 212/228 [00:24<00:01,  8.61it/s]\n",
      " 93%|█████████▎| 213/228 [00:24<00:01,  8.82it/s]\n",
      " 94%|█████████▍| 214/228 [00:24<00:01,  8.53it/s]\n",
      " 94%|█████████▍| 215/228 [00:24<00:01,  8.56it/s]\n",
      " 95%|█████████▍| 216/228 [00:24<00:01,  8.69it/s]\n",
      " 95%|█████████▌| 217/228 [00:25<00:01,  8.66it/s]\n",
      " 96%|█████████▌| 219/228 [00:25<00:00,  9.12it/s]\n",
      " 97%|█████████▋| 221/228 [00:25<00:00,  7.90it/s]\n",
      " 97%|█████████▋| 222/228 [00:25<00:00,  7.73it/s]\n",
      " 98%|█████████▊| 223/228 [00:25<00:00,  7.89it/s]\n",
      " 98%|█████████▊| 224/228 [00:25<00:00,  8.04it/s]\n",
      " 99%|█████████▊| 225/228 [00:26<00:00,  8.43it/s]\n",
      "  0%|          | 0/228 [00:00<?, ?it/s]\n"
     ]
    },
    {
     "name": "stdout",
     "output_type": "stream",
     "text": [
      "\u001b[2m\u001b[36m(DefaultActor pid=92319)\u001b[0m  Training loss for epoch 2: 1.2404057658032368, accuracy: 0.4895833333333333\u001b[32m [repeated 2x across cluster]\u001b[0m\n"
     ]
    },
    {
     "name": "stderr",
     "output_type": "stream",
     "text": [
      "  1%|          | 2/228 [00:00<00:26,  8.67it/s]\u001b[32m [repeated 12x across cluster]\u001b[0m\n",
      " 41%|████      | 93/228 [00:12<00:16,  8.03it/s]\u001b[32m [repeated 251x across cluster]\u001b[0m\n",
      "100%|██████████| 228/228 [00:26<00:00,  8.50it/s]\u001b[32m [repeated 21x across cluster]\u001b[0m\n",
      "  0%|          | 0/228 [00:00<?, ?it/s]\n",
      " 18%|█▊        | 40/228 [00:04<00:21,  8.92it/s]\u001b[32m [repeated 8x across cluster]\u001b[0m\n",
      " 59%|█████▉    | 134/228 [00:17<00:11,  7.98it/s]\u001b[32m [repeated 298x across cluster]\u001b[0m\n",
      " 92%|█████████▏| 210/228 [00:26<00:02,  7.92it/s]\n",
      " 93%|█████████▎| 211/228 [00:26<00:02,  8.19it/s]\n",
      " 93%|█████████▎| 212/228 [00:26<00:01,  8.33it/s]\n",
      " 93%|█████████▎| 213/228 [00:26<00:01,  8.42it/s]\n",
      " 94%|█████████▍| 214/228 [00:27<00:01,  8.55it/s]\n",
      " 94%|█████████▍| 215/228 [00:27<00:01,  8.12it/s]\n",
      " 95%|█████████▌| 217/228 [00:27<00:01,  8.30it/s]\n",
      " 96%|█████████▌| 218/228 [00:27<00:01,  8.16it/s]\n",
      " 78%|███████▊  | 178/228 [00:21<00:05,  8.83it/s]\u001b[32m [repeated 12x across cluster]\u001b[0m\n",
      "  0%|          | 0/228 [00:00<?, ?it/s]\n"
     ]
    },
    {
     "name": "stdout",
     "output_type": "stream",
     "text": [
      "\u001b[2m\u001b[36m(DefaultActor pid=92313)\u001b[0m  Training loss for epoch 2: 0.9638537057397658, accuracy: 0.6165021929824561\u001b[32m [repeated 2x across cluster]\u001b[0m\n"
     ]
    },
    {
     "name": "stderr",
     "output_type": "stream",
     "text": [
      " 77%|███████▋  | 175/228 [00:22<00:06,  8.21it/s]\u001b[32m [repeated 264x across cluster]\u001b[0m\n",
      " 96%|█████████▋| 220/228 [00:26<00:00,  8.45it/s]\u001b[32m [repeated 52x across cluster]\u001b[0m\n",
      " 50%|████▉     | 113/228 [00:13<00:13,  8.83it/s]\u001b[32m [repeated 14x across cluster]\u001b[0m\n",
      "  0%|          | 0/228 [00:00<?, ?it/s]\u001b[32m [repeated 4x across cluster]\u001b[0m\n",
      " 19%|█▉        | 43/228 [00:05<00:22,  8.26it/s]\u001b[32m [repeated 230x across cluster]\u001b[0m\n"
     ]
    },
    {
     "name": "stdout",
     "output_type": "stream",
     "text": [
      "\u001b[2m\u001b[36m(DefaultActor pid=92317)\u001b[0m  Training loss for epoch 2: 1.517970757134128, accuracy: 0.4682017543859649\u001b[32m [repeated 5x across cluster]\u001b[0m\n"
     ]
    },
    {
     "name": "stderr",
     "output_type": "stream",
     "text": [
      "100%|██████████| 228/228 [00:29<00:00,  7.82it/s]\u001b[32m [repeated 51x across cluster]\u001b[0m\n",
      " 78%|███████▊  | 177/228 [00:20<00:06,  7.86it/s]\u001b[32m [repeated 14x across cluster]\u001b[0m\n",
      "  0%|          | 0/228 [00:00<?, ?it/s]\n",
      " 10%|█         | 23/228 [00:03<00:26,  7.81it/s]\u001b[32m [repeated 256x across cluster]\u001b[0m\n",
      " 92%|█████████▏| 210/228 [00:24<00:01,  9.58it/s]\n",
      " 93%|█████████▎| 211/228 [00:24<00:01,  9.03it/s]\n",
      " 93%|█████████▎| 212/228 [00:24<00:01,  8.96it/s]\n",
      " 93%|█████████▎| 213/228 [00:24<00:01,  8.94it/s]\n",
      " 94%|█████████▍| 214/228 [00:24<00:01,  8.86it/s]\n",
      " 94%|█████████▍| 215/228 [00:24<00:01,  8.65it/s]\n",
      " 95%|█████████▍| 216/228 [00:24<00:01,  8.52it/s]\n",
      " 96%|█████████▌| 218/228 [00:25<00:01,  9.01it/s]\n",
      " 96%|█████████▋| 220/228 [00:25<00:00,  9.04it/s]\n",
      " 97%|█████████▋| 221/228 [00:25<00:00,  8.86it/s]\n",
      " 89%|████████▉ | 203/228 [00:23<00:02,  8.75it/s]\u001b[32m [repeated 4x across cluster]\u001b[0m\n",
      " 98%|█████████▊| 223/228 [00:25<00:00,  9.37it/s]\n",
      " 98%|█████████▊| 224/228 [00:25<00:00,  9.28it/s]\n",
      " 99%|█████████▊| 225/228 [00:25<00:00,  8.74it/s]\n",
      " 99%|█████████▉| 226/228 [00:26<00:00,  8.88it/s]\n",
      "100%|█████████▉| 227/228 [00:26<00:00,  8.65it/s]\n",
      "  0%|          | 0/228 [00:00<?, ?it/s]\n"
     ]
    },
    {
     "name": "stdout",
     "output_type": "stream",
     "text": [
      "\u001b[2m\u001b[36m(DefaultActor pid=92319)\u001b[0m  Training loss for epoch 3: 1.3760716149158645, accuracy: 0.45614035087719296\n"
     ]
    },
    {
     "name": "stderr",
     "output_type": "stream",
     "text": [
      "\u001b[2m\u001b[36m(DefaultActor pid=92319)\u001b[0m \r",
      "  1%|          | 2/228 [00:00<00:25,  8.79it/s]\u001b[32m [repeated 294x across cluster]\u001b[0m\n"
     ]
    },
    {
     "name": "stdout",
     "output_type": "stream",
     "text": [
      "\u001b[2m\u001b[36m(DefaultActor pid=92320)\u001b[0m  Training loss for epoch 3: 1.1478712153539323, accuracy: 0.5315241228070176\n"
     ]
    },
    {
     "name": "stderr",
     "output_type": "stream",
     "text": [
      "100%|██████████| 228/228 [00:26<00:00,  8.64it/s]\u001b[32m [repeated 18x across cluster]\u001b[0m\n",
      " 61%|██████▏   | 140/228 [00:17<00:10,  8.10it/s]\u001b[32m [repeated 8x across cluster]\u001b[0m\n",
      "  0%|          | 0/228 [00:00<?, ?it/s]\n",
      " 43%|████▎     | 98/228 [00:13<00:17,  7.25it/s]\u001b[32m [repeated 239x across cluster]\u001b[0m\n",
      " 80%|████████  | 183/228 [00:24<00:05,  8.50it/s]\u001b[32m [repeated 9x across cluster]\u001b[0m\n",
      " 38%|███▊      | 86/228 [00:10<00:16,  8.38it/s]\u001b[32m [repeated 296x across cluster]\u001b[0m\n",
      " 92%|█████████▏| 210/228 [00:27<00:01,  9.46it/s]\n",
      " 93%|█████████▎| 211/228 [00:27<00:01,  9.34it/s]\n",
      " 93%|█████████▎| 212/228 [00:27<00:01,  9.15it/s]\n"
     ]
    },
    {
     "name": "stdout",
     "output_type": "stream",
     "text": [
      "\u001b[2m\u001b[36m(DefaultActor pid=92313)\u001b[0m  Training loss for epoch 3: 0.9668839169960273, accuracy: 0.6156798245614035\n"
     ]
    },
    {
     "name": "stderr",
     "output_type": "stream",
     "text": [
      "\u001b[2m\u001b[36m(DefaultActor pid=92313)\u001b[0m \r",
      "  0%|          | 0/228 [00:00<?, ?it/s]\n",
      "\u001b[2m\u001b[36m(DefaultActor pid=92319)\u001b[0m \r",
      " 51%|█████▏    | 117/228 [00:13<00:12,  8.88it/s]\r",
      " 52%|█████▏    | 118/228 [00:14<00:12,  9.06it/s]\u001b[32m [repeated 8x across cluster]\u001b[0m\n"
     ]
    },
    {
     "name": "stdout",
     "output_type": "stream",
     "text": [
      "\u001b[2m\u001b[36m(DefaultActor pid=92315)\u001b[0m  Training loss for epoch 3: 1.0135362641068928, accuracy: 0.5995065789473685\n"
     ]
    },
    {
     "name": "stderr",
     "output_type": "stream",
     "text": [
      " 79%|███████▉  | 180/228 [00:23<00:06,  7.68it/s]\u001b[32m [repeated 248x across cluster]\u001b[0m\n",
      "100%|██████████| 228/228 [00:27<00:00,  8.20it/s]\u001b[32m [repeated 80x across cluster]\u001b[0m\n",
      "  0%|          | 0/228 [00:00<?, ?it/s]\u001b[32m [repeated 4x across cluster]\u001b[0m\n",
      " 16%|█▌        | 37/228 [00:04<00:23,  8.06it/s]\u001b[32m [repeated 9x across cluster]\u001b[0m\n",
      " 15%|█▍        | 34/228 [00:03<00:23,  8.37it/s]\u001b[32m [repeated 254x across cluster]\u001b[0m\n"
     ]
    },
    {
     "name": "stdout",
     "output_type": "stream",
     "text": [
      "\u001b[2m\u001b[36m(DefaultActor pid=92317)\u001b[0m  Training loss for epoch 3: 0.8193907434480232, accuracy: 0.6866776315789473\u001b[32m [repeated 4x across cluster]\u001b[0m\n"
     ]
    },
    {
     "name": "stderr",
     "output_type": "stream",
     "text": [
      "100%|██████████| 228/228 [00:29<00:00,  7.74it/s]\u001b[32m [repeated 27x across cluster]\u001b[0m\n",
      "  0%|          | 0/228 [00:00<?, ?it/s]\n",
      " 26%|██▋       | 60/228 [00:07<00:22,  7.53it/s]\u001b[32m [repeated 9x across cluster]\u001b[0m\n",
      " 14%|█▎        | 31/228 [00:04<00:26,  7.30it/s]\u001b[32m [repeated 260x across cluster]\u001b[0m\n"
     ]
    },
    {
     "name": "stdout",
     "output_type": "stream",
     "text": [
      "\u001b[2m\u001b[36m(DefaultActor pid=92319)\u001b[0m  Training loss for epoch 4: 2.2052586533521352, accuracy: 0.23163377192982457\n"
     ]
    },
    {
     "name": "stderr",
     "output_type": "stream",
     "text": [
      "\u001b[2m\u001b[36m(DefaultActor pid=92320)\u001b[0m \r",
      " 93%|█████████▎| 211/228 [00:25<00:01,  9.01it/s]\u001b[32m [repeated 21x across cluster]\u001b[0m\n"
     ]
    },
    {
     "name": "stdout",
     "output_type": "stream",
     "text": [
      "\u001b[2m\u001b[36m(DefaultActor pid=92320)\u001b[0m  Training loss for epoch 4: 1.1369854881052386, accuracy: 0.5296052631578947\n"
     ]
    },
    {
     "name": "stderr",
     "output_type": "stream",
     "text": [
      " 42%|████▏     | 95/228 [00:11<00:15,  8.84it/s]\u001b[32m [repeated 5x across cluster]\u001b[0m\n",
      " 58%|█████▊    | 133/228 [00:16<00:10,  8.72it/s]\u001b[32m [repeated 218x across cluster]\u001b[0m\n",
      "  0%|          | 0/228 [00:00<?, ?it/s]\n",
      "100%|██████████| 228/228 [00:26<00:00,  8.46it/s]\u001b[32m [repeated 14x across cluster]\u001b[0m\n",
      " 67%|██████▋   | 153/228 [00:18<00:07,  9.60it/s]\u001b[32m [repeated 2x across cluster]\u001b[0m\n",
      " 50%|█████     | 115/228 [00:14<00:14,  7.95it/s]\u001b[32m [repeated 243x across cluster]\u001b[0m\n",
      "  0%|          | 0/228 [00:00<?, ?it/s]\n",
      " 86%|████████▌ | 195/228 [00:22<00:03,  8.83it/s]\u001b[32m [repeated 13x across cluster]\u001b[0m\n",
      " 92%|█████████▏| 209/228 [00:26<00:03,  5.72it/s]\n",
      " 92%|█████████▏| 210/228 [00:26<00:03,  5.72it/s]\n",
      " 88%|████████▊ | 201/228 [00:23<00:05,  5.14it/s]\u001b[32m [repeated 280x across cluster]\u001b[0m\n"
     ]
    },
    {
     "name": "stdout",
     "output_type": "stream",
     "text": [
      "\u001b[2m\u001b[36m(DefaultActor pid=92313)\u001b[0m  Training loss for epoch 4: 1.387032013713268, accuracy: 0.5356359649122807\n",
      "\u001b[2m\u001b[36m(DefaultActor pid=92315)\u001b[0m  Training loss for epoch 4: 0.9970109483651948, accuracy: 0.5932017543859649\n"
     ]
    },
    {
     "name": "stderr",
     "output_type": "stream",
     "text": [
      " 23%|██▎       | 53/228 [00:06<00:22,  7.64it/s]\u001b[32m [repeated 4x across cluster]\u001b[0m\n",
      " 93%|█████████▎| 213/228 [00:27<00:01,  9.82it/s]\u001b[32m [repeated 73x across cluster]\u001b[0m\n",
      " 86%|████████▌ | 195/228 [00:24<00:02, 11.20it/s]\u001b[32m [repeated 116x across cluster]\u001b[0m\n"
     ]
    },
    {
     "name": "stdout",
     "output_type": "stream",
     "text": [
      "\u001b[2m\u001b[36m(DefaultActor pid=92317)\u001b[0m  Training loss for epoch 4: 0.778365052321501, accuracy: 0.7003837719298246\u001b[32m [repeated 4x across cluster]\u001b[0m\n"
     ]
    },
    {
     "name": "stderr",
     "output_type": "stream",
     "text": [
      "100%|██████████| 228/228 [00:27<00:00,  8.32it/s]\u001b[32m [repeated 19x across cluster]\u001b[0m\n",
      " 84%|████████▍ | 192/228 [00:19<00:02, 16.96it/s]\u001b[32m [repeated 80x across cluster]\u001b[0m\n",
      "  0%|          | 0/228 [00:00<?, ?it/s]\n"
     ]
    },
    {
     "name": "stdout",
     "output_type": "stream",
     "text": [
      "\u001b[2m\u001b[36m(DefaultActor pid=92320)\u001b[0m  Training loss for epoch 0: 0.7214874591220889, accuracy: 0.7302631578947368\u001b[32m [repeated 2x across cluster]\u001b[0m\n"
     ]
    },
    {
     "name": "stderr",
     "output_type": "stream",
     "text": [
      "100%|██████████| 228/228 [00:20<00:00, 11.37it/s]\u001b[32m [repeated 20x across cluster]\u001b[0m\n",
      " 21%|██        | 48/228 [00:02<00:11, 16.22it/s]\u001b[32m [repeated 62x across cluster]\u001b[0m\n",
      "  0%|          | 0/228 [00:00<?, ?it/s]\n",
      " 58%|█████▊    | 132/228 [00:07<00:05, 16.54it/s]\u001b[32m [repeated 84x across cluster]\u001b[0m\n",
      " 91%|█████████ | 208/228 [00:13<00:01, 16.48it/s]\u001b[32m [repeated 75x across cluster]\u001b[0m\n",
      " 92%|█████████▏| 210/228 [00:13<00:01, 16.87it/s]\n",
      " 93%|█████████▎| 212/228 [00:13<00:00, 16.82it/s]\n",
      " 94%|█████████▍| 214/228 [00:13<00:00, 16.73it/s]\n",
      " 95%|█████████▍| 216/228 [00:13<00:00, 17.05it/s]\n",
      " 96%|█████████▌| 218/228 [00:13<00:00, 16.66it/s]\n",
      " 96%|█████████▋| 220/228 [00:13<00:00, 16.54it/s]\n",
      " 97%|█████████▋| 222/228 [00:13<00:00, 16.37it/s]\n",
      " 98%|█████████▊| 224/228 [00:14<00:00, 16.44it/s]\n",
      " 99%|█████████▉| 226/228 [00:14<00:00, 16.57it/s]\n",
      "100%|██████████| 228/228 [00:14<00:00, 15.96it/s]\n",
      "  0%|          | 0/228 [00:00<?, ?it/s]\n"
     ]
    },
    {
     "name": "stdout",
     "output_type": "stream",
     "text": [
      "\u001b[2m\u001b[36m(DefaultActor pid=92319)\u001b[0m  Training loss for epoch 1: 0.9226702177210858, accuracy: 0.6387061403508771\n",
      "\u001b[2m\u001b[36m(DefaultActor pid=92320)\u001b[0m  Training loss for epoch 1: 0.7697992882315527, accuracy: 0.7154605263157895\n"
     ]
    },
    {
     "name": "stderr",
     "output_type": "stream",
     "text": [
      " 28%|██▊       | 64/228 [00:03<00:09, 16.71it/s]\u001b[32m [repeated 63x across cluster]\u001b[0m\n",
      "100%|██████████| 228/228 [00:14<00:00, 15.72it/s]\u001b[32m [repeated 10x across cluster]\u001b[0m\n",
      "  0%|          | 0/228 [00:00<?, ?it/s]\n",
      " 59%|█████▉    | 134/228 [00:08<00:05, 17.18it/s]\u001b[32m [repeated 70x across cluster]\u001b[0m\n",
      " 92%|█████████▏| 210/228 [00:13<00:01, 16.51it/s]\n",
      " 93%|█████████▎| 212/228 [00:13<00:00, 16.21it/s]\n",
      " 94%|█████████▍| 214/228 [00:13<00:00, 15.99it/s]\n",
      " 95%|█████████▍| 216/228 [00:13<00:00, 16.31it/s]\n",
      " 96%|█████████▌| 218/228 [00:13<00:00, 16.22it/s]\n",
      " 82%|████████▏ | 186/228 [00:11<00:02, 16.24it/s]\u001b[32m [repeated 80x across cluster]\u001b[0m\n",
      " 96%|█████████▋| 220/228 [00:14<00:00, 16.26it/s]\n",
      " 97%|█████████▋| 222/228 [00:14<00:00, 16.26it/s]\n",
      " 98%|█████████▊| 224/228 [00:14<00:00, 16.51it/s]\n",
      " 99%|█████████▉| 226/228 [00:14<00:00, 16.60it/s]\n",
      "100%|██████████| 228/228 [00:14<00:00, 15.72it/s]\n",
      "  0%|          | 0/228 [00:00<?, ?it/s]\n"
     ]
    },
    {
     "name": "stdout",
     "output_type": "stream",
     "text": [
      "\u001b[2m\u001b[36m(DefaultActor pid=92319)\u001b[0m  Training loss for epoch 2: 0.9247562503605559, accuracy: 0.6389802631578947\n",
      "\u001b[2m\u001b[36m(DefaultActor pid=92320)\u001b[0m  Training loss for epoch 2: 1.1029193394801073, accuracy: 0.5509868421052632\n"
     ]
    },
    {
     "name": "stderr",
     "output_type": "stream",
     "text": [
      "100%|██████████| 228/228 [00:14<00:00, 15.74it/s]\u001b[32m [repeated 10x across cluster]\u001b[0m\n",
      " 32%|███▏      | 74/228 [00:04<00:08, 17.41it/s]\u001b[32m [repeated 69x across cluster]\u001b[0m\n",
      "  0%|          | 0/228 [00:00<?, ?it/s]\n",
      " 69%|██████▉   | 158/228 [00:09<00:04, 16.68it/s]\u001b[32m [repeated 84x across cluster]\u001b[0m\n",
      " 92%|█████████▏| 210/228 [00:12<00:01, 15.57it/s]\n",
      " 93%|█████████▎| 212/228 [00:12<00:00, 16.12it/s]\n",
      " 94%|█████████▍| 214/228 [00:13<00:00, 16.50it/s]\n",
      " 95%|█████████▍| 216/228 [00:13<00:00, 16.86it/s]\n",
      " 96%|█████████▌| 218/228 [00:13<00:00, 16.72it/s]\n",
      " 96%|█████████▋| 220/228 [00:13<00:00, 16.63it/s]\n",
      " 97%|█████████▋| 222/228 [00:13<00:00, 16.48it/s]\n",
      " 98%|█████████▊| 224/228 [00:13<00:00, 16.83it/s]\n",
      " 99%|█████████▉| 226/228 [00:13<00:00, 17.26it/s]\n",
      "100%|██████████| 228/228 [00:13<00:00, 16.37it/s]\n",
      "  0%|          | 0/228 [00:00<?, ?it/s]\n"
     ]
    },
    {
     "name": "stdout",
     "output_type": "stream",
     "text": [
      "\u001b[2m\u001b[36m(DefaultActor pid=92319)\u001b[0m  Training loss for epoch 3: 0.8917183247313165, accuracy: 0.6463815789473685\n"
     ]
    },
    {
     "name": "stderr",
     "output_type": "stream",
     "text": [
      "\u001b[2m\u001b[36m(DefaultActor pid=92319)\u001b[0m \r",
      "  4%|▍         | 10/228 [00:00<00:13, 15.99it/s]\u001b[32m [repeated 70x across cluster]\u001b[0m\n"
     ]
    },
    {
     "name": "stdout",
     "output_type": "stream",
     "text": [
      "\u001b[2m\u001b[36m(DefaultActor pid=92320)\u001b[0m  Training loss for epoch 3: 1.0166052653078448, accuracy: 0.5616776315789473\n"
     ]
    },
    {
     "name": "stderr",
     "output_type": "stream",
     "text": [
      "100%|██████████| 228/228 [00:13<00:00, 16.42it/s]\u001b[32m [repeated 10x across cluster]\u001b[0m\n",
      "  0%|          | 0/228 [00:00<?, ?it/s]\n",
      " 40%|████      | 92/228 [00:05<00:08, 16.44it/s]\u001b[32m [repeated 72x across cluster]\u001b[0m\n",
      " 74%|███████▎  | 168/228 [00:10<00:03, 16.49it/s]\u001b[32m [repeated 76x across cluster]\u001b[0m\n",
      " 92%|█████████▏| 210/228 [00:13<00:01, 16.41it/s]\n",
      " 93%|█████████▎| 212/228 [00:13<00:00, 16.38it/s]\n",
      " 94%|█████████▍| 214/228 [00:13<00:00, 16.54it/s]\n",
      " 95%|█████████▍| 216/228 [00:13<00:00, 16.59it/s]\n",
      " 96%|█████████▌| 218/228 [00:13<00:00, 16.63it/s]\n",
      " 96%|█████████▋| 220/228 [00:13<00:00, 16.67it/s]\n",
      " 97%|█████████▋| 222/228 [00:13<00:00, 16.47it/s]\n",
      " 98%|█████████▊| 224/228 [00:14<00:00, 16.53it/s]\n",
      " 99%|█████████▉| 226/228 [00:14<00:00, 16.65it/s]\n",
      "100%|██████████| 228/228 [00:14<00:00, 15.93it/s]\n"
     ]
    },
    {
     "name": "stdout",
     "output_type": "stream",
     "text": [
      "\u001b[2m\u001b[36m(DefaultActor pid=92319)\u001b[0m  Training loss for epoch 4: 0.9754470532531279, accuracy: 0.6365131578947368\n"
     ]
    },
    {
     "name": "stderr",
     "output_type": "stream",
     "text": [
      " 91%|█████████ | 208/228 [00:13<00:01, 17.17it/s]\u001b[32m [repeated 56x across cluster]\u001b[0m\n",
      "DEBUG flwr 2023-11-09 12:26:50,615 | server.py:236 | fit_round 8 received 10 results and 0 failures\n",
      "DEBUG:flwr:fit_round 8 received 10 results and 0 failures\n"
     ]
    },
    {
     "name": "stdout",
     "output_type": "stream",
     "text": [
      "Saving round 8 aggregated_parameters...\n",
      "Saved round 8 aggregated_parameters!\n"
     ]
    },
    {
     "name": "stderr",
     "output_type": "stream",
     "text": [
      "INFO flwr 2023-11-09 12:26:50,656 | server.py:171 | evaluate_round 8: no clients selected, cancel\n",
      "INFO:flwr:evaluate_round 8: no clients selected, cancel\n",
      "DEBUG flwr 2023-11-09 12:26:50,657 | server.py:222 | fit_round 9: strategy sampled 10 clients (out of 40)\n",
      "DEBUG:flwr:fit_round 9: strategy sampled 10 clients (out of 40)\n"
     ]
    },
    {
     "name": "stdout",
     "output_type": "stream",
     "text": [
      "\u001b[2m\u001b[36m(DefaultActor pid=92320)\u001b[0m  Training loss for epoch 4: 1.004965743736217, accuracy: 0.5723684210526315\n"
     ]
    },
    {
     "name": "stderr",
     "output_type": "stream",
     "text": [
      "  0%|          | 0/228 [00:00<?, ?it/s]\n",
      "100%|██████████| 228/228 [00:14<00:00, 16.00it/s]\u001b[32m [repeated 10x across cluster]\u001b[0m\n",
      " 20%|██        | 46/228 [00:03<00:11, 15.50it/s]\u001b[32m [repeated 39x across cluster]\u001b[0m\n",
      "  0%|          | 0/228 [00:00<?, ?it/s]\u001b[32m [repeated 3x across cluster]\u001b[0m\n",
      " 15%|█▍        | 34/228 [00:03<00:20,  9.49it/s]\n",
      " 19%|█▉        | 44/228 [00:04<00:24,  7.56it/s]\u001b[32m [repeated 132x across cluster]\u001b[0m\n",
      "  0%|          | 0/228 [00:00<?, ?it/s]\u001b[32m [repeated 4x across cluster]\u001b[0m\n",
      " 19%|█▉        | 44/228 [00:05<00:21,  8.72it/s]\u001b[32m [repeated 10x across cluster]\u001b[0m\n",
      " 29%|██▉       | 67/228 [00:08<00:28,  5.68it/s]\u001b[32m [repeated 216x across cluster]\u001b[0m\n",
      " 66%|██████▌   | 151/228 [00:16<00:09,  8.17it/s]\u001b[32m [repeated 7x across cluster]\u001b[0m\n",
      " 49%|████▊     | 111/228 [00:13<00:14,  8.31it/s]\u001b[32m [repeated 304x across cluster]\u001b[0m\n",
      " 92%|█████████▏| 209/228 [00:21<00:02,  8.41it/s]\n",
      " 92%|█████████▏| 210/228 [00:21<00:02,  8.42it/s]\n",
      " 93%|█████████▎| 212/228 [00:22<00:01,  9.20it/s]\n",
      " 83%|████████▎ | 189/228 [00:20<00:04,  8.98it/s]\u001b[32m [repeated 12x across cluster]\u001b[0m\n",
      " 93%|█████████▎| 213/228 [00:22<00:01,  9.22it/s]\n",
      " 94%|█████████▍| 215/228 [00:22<00:01,  9.20it/s]\n",
      " 95%|█████████▍| 216/228 [00:22<00:01,  9.05it/s]\n",
      " 95%|█████████▌| 217/228 [00:22<00:01,  8.94it/s]\n",
      " 96%|█████████▌| 218/228 [00:22<00:01,  8.91it/s]\n",
      " 96%|█████████▌| 219/228 [00:22<00:01,  8.73it/s]\n",
      " 96%|█████████▋| 220/228 [00:23<00:00,  8.94it/s]\n",
      " 97%|█████████▋| 221/228 [00:23<00:00,  8.73it/s]\n",
      " 97%|█████████▋| 222/228 [00:23<00:00,  8.91it/s]\n",
      " 98%|█████████▊| 223/228 [00:23<00:00,  8.76it/s]\n",
      " 99%|█████████▊| 225/228 [00:23<00:00,  8.94it/s]\n",
      " 67%|██████▋   | 152/228 [00:19<00:08,  8.48it/s]\u001b[32m [repeated 285x across cluster]\u001b[0m\n",
      "  0%|          | 0/228 [00:00<?, ?it/s]\n"
     ]
    },
    {
     "name": "stdout",
     "output_type": "stream",
     "text": [
      "\u001b[2m\u001b[36m(DefaultActor pid=92320)\u001b[0m  Training loss for epoch 0: 1.0217646096359219, accuracy: 0.6214364035087719\n",
      "\u001b[2m\u001b[36m(DefaultActor pid=92320)\u001b[0m \n",
      "\u001b[2m\u001b[36m(DefaultActor pid=92319)\u001b[0m  Training loss for epoch 0: 0.693695779955178, accuracy: 0.7297149122807017\n"
     ]
    },
    {
     "name": "stderr",
     "output_type": "stream",
     "text": [
      "100%|██████████| 228/228 [00:24<00:00,  9.14it/s]\u001b[32m [repeated 19x across cluster]\u001b[0m\n",
      " 67%|██████▋   | 153/228 [00:19<00:08,  9.01it/s]\u001b[32m [repeated 5x across cluster]\u001b[0m\n",
      " 85%|████████▍ | 193/228 [00:25<00:04,  8.40it/s]\u001b[32m [repeated 290x across cluster]\u001b[0m\n",
      "  0%|          | 0/228 [00:00<?, ?it/s]\n",
      " 92%|█████████▏| 210/228 [00:26<00:02,  8.70it/s]\u001b[32m [repeated 27x across cluster]\u001b[0m\n",
      " 80%|███████▉  | 182/228 [00:23<00:05,  8.04it/s]\u001b[32m [repeated 11x across cluster]\u001b[0m\n",
      "  0%|          | 0/228 [00:00<?, ?it/s]\n"
     ]
    },
    {
     "name": "stdout",
     "output_type": "stream",
     "text": [
      "\u001b[2m\u001b[36m(DefaultActor pid=92318)\u001b[0m  Training loss for epoch 0: 1.633357321484047, accuracy: 0.3530701754385965\n",
      "\u001b[2m\u001b[36m(DefaultActor pid=92317)\u001b[0m  Training loss for epoch 0: 0.812300229020286, accuracy: 0.6798245614035088\n"
     ]
    },
    {
     "name": "stderr",
     "output_type": "stream",
     "text": [
      " 79%|███████▊  | 179/228 [00:23<00:06,  7.50it/s]\u001b[32m [repeated 224x across cluster]\u001b[0m\n",
      " 96%|█████████▋| 220/228 [00:28<00:01,  7.98it/s]\u001b[32m [repeated 63x across cluster]\u001b[0m\n",
      " 14%|█▎        | 31/228 [00:03<00:24,  7.97it/s]\u001b[32m [repeated 7x across cluster]\u001b[0m\n",
      "  0%|          | 0/228 [00:00<?, ?it/s]\u001b[32m [repeated 3x across cluster]\u001b[0m\n",
      " 19%|█▉        | 44/228 [00:05<00:23,  7.73it/s]\u001b[32m [repeated 263x across cluster]\u001b[0m\n"
     ]
    },
    {
     "name": "stdout",
     "output_type": "stream",
     "text": [
      "\u001b[2m\u001b[36m(DefaultActor pid=92313)\u001b[0m  Training loss for epoch 0: 0.7079782862412302, accuracy: 0.712171052631579\u001b[32m [repeated 4x across cluster]\u001b[0m\n"
     ]
    },
    {
     "name": "stderr",
     "output_type": "stream",
     "text": [
      "100%|██████████| 228/228 [00:30<00:00,  7.44it/s]\u001b[32m [repeated 28x across cluster]\u001b[0m\n",
      " 69%|██████▉   | 157/228 [00:18<00:08,  8.86it/s]\u001b[32m [repeated 7x across cluster]\u001b[0m\n",
      "  0%|          | 0/228 [00:00<?, ?it/s]\u001b[32m [repeated 2x across cluster]\u001b[0m\n",
      " 35%|███▌      | 80/228 [00:10<00:18,  7.88it/s]\u001b[32m [repeated 260x across cluster]\u001b[0m\n",
      " 41%|████      | 93/228 [00:11<00:14,  9.41it/s]\u001b[32m [repeated 6x across cluster]\u001b[0m\n",
      " 92%|█████████▏| 209/228 [00:23<00:02,  8.87it/s]\n",
      " 92%|█████████▏| 210/228 [00:24<00:02,  8.87it/s]\n",
      " 93%|█████████▎| 211/228 [00:24<00:01,  8.75it/s]\n",
      " 93%|█████████▎| 212/228 [00:24<00:01,  8.93it/s]\n",
      " 93%|█████████▎| 213/228 [00:24<00:01,  9.06it/s]\n",
      " 94%|█████████▍| 215/228 [00:24<00:01,  9.32it/s]\n",
      " 95%|█████████▍| 216/228 [00:24<00:01,  9.01it/s]\n",
      " 96%|█████████▌| 218/228 [00:24<00:01,  8.86it/s]\n",
      " 96%|█████████▌| 219/228 [00:25<00:01,  8.97it/s]\n",
      " 96%|█████████▋| 220/228 [00:25<00:00,  9.03it/s]\n",
      " 86%|████████▌ | 196/228 [00:23<00:03,  8.96it/s]\u001b[32m [repeated 299x across cluster]\u001b[0m\n",
      " 97%|█████████▋| 221/228 [00:25<00:01,  5.07it/s]\n",
      " 97%|█████████▋| 222/228 [00:25<00:01,  5.82it/s]\n",
      " 98%|█████████▊| 223/228 [00:25<00:00,  6.19it/s]\n",
      " 98%|█████████▊| 224/228 [00:25<00:00,  6.72it/s]\n",
      " 99%|█████████▉| 226/228 [00:26<00:00,  7.41it/s]\n",
      "100%|█████████▉| 227/228 [00:26<00:00,  7.77it/s]\n",
      "100%|██████████| 228/228 [00:26<00:00,  8.64it/s]\n",
      "  0%|          | 0/228 [00:00<?, ?it/s]\n"
     ]
    },
    {
     "name": "stdout",
     "output_type": "stream",
     "text": [
      "\u001b[2m\u001b[36m(DefaultActor pid=92320)\u001b[0m  Training loss for epoch 1: 0.8408695273754889, accuracy: 0.6800986842105263\n"
     ]
    },
    {
     "name": "stderr",
     "output_type": "stream",
     "text": [
      "  3%|▎         | 6/228 [00:00<00:23,  9.41it/s]\u001b[32m [repeated 4x across cluster]\u001b[0m\n",
      " 98%|█████████▊| 224/228 [00:26<00:00,  8.53it/s]\u001b[32m [repeated 15x across cluster]\u001b[0m\n"
     ]
    },
    {
     "name": "stdout",
     "output_type": "stream",
     "text": [
      "\u001b[2m\u001b[36m(DefaultActor pid=92319)\u001b[0m  Training loss for epoch 1: 0.628931635892705, accuracy: 0.753015350877193\n"
     ]
    },
    {
     "name": "stderr",
     "output_type": "stream",
     "text": [
      " 70%|███████   | 160/228 [00:21<00:08,  7.76it/s]\u001b[32m [repeated 276x across cluster]\u001b[0m\n",
      "  0%|          | 0/228 [00:00<?, ?it/s]\n",
      " 79%|███████▉  | 180/228 [00:22<00:05,  8.75it/s]\u001b[32m [repeated 8x across cluster]\u001b[0m\n",
      " 95%|█████████▍| 216/228 [00:25<00:01,  9.02it/s]\u001b[32m [repeated 11x across cluster]\u001b[0m\n",
      "  0%|          | 0/228 [00:00<?, ?it/s]\n",
      " 88%|████████▊ | 200/228 [00:26<00:03,  7.85it/s]\u001b[32m [repeated 280x across cluster]\u001b[0m\n"
     ]
    },
    {
     "name": "stdout",
     "output_type": "stream",
     "text": [
      "\u001b[2m\u001b[36m(DefaultActor pid=92318)\u001b[0m  Training loss for epoch 1: 1.5893111649835319, accuracy: 0.35389254385964913\n",
      "\u001b[2m\u001b[36m(DefaultActor pid=92316)\u001b[0m  Training loss for epoch 1: 0.6350270631935513, accuracy: 0.7483552631578947\n"
     ]
    },
    {
     "name": "stderr",
     "output_type": "stream",
     "text": [
      " 48%|████▊     | 109/228 [00:12<00:13,  8.88it/s]\u001b[32m [repeated 13x across cluster]\u001b[0m\n",
      "100%|█████████▉| 227/228 [00:27<00:00,  8.37it/s]\u001b[32m [repeated 68x across cluster]\u001b[0m\n",
      "  0%|          | 0/228 [00:00<?, ?it/s]\u001b[32m [repeated 3x across cluster]\u001b[0m\n",
      "  5%|▌         | 12/228 [00:01<00:27,  7.75it/s]\u001b[32m [repeated 248x across cluster]\u001b[0m\n",
      " 33%|███▎      | 75/228 [00:08<00:16,  9.22it/s]\u001b[32m [repeated 7x across cluster]\u001b[0m\n",
      " 94%|█████████▍| 215/228 [00:27<00:01,  7.65it/s]\u001b[32m [repeated 27x across cluster]\u001b[0m\n",
      "  0%|          | 0/228 [00:00<?, ?it/s]\n",
      " 39%|███▊      | 88/228 [00:10<00:30,  4.67it/s]\u001b[32m [repeated 250x across cluster]\u001b[0m\n"
     ]
    },
    {
     "name": "stdout",
     "output_type": "stream",
     "text": [
      "\u001b[2m\u001b[36m(DefaultActor pid=92313)\u001b[0m  Training loss for epoch 1: 0.6722086794151548, accuracy: 0.7269736842105263\u001b[32m [repeated 4x across cluster]\u001b[0m\n"
     ]
    },
    {
     "name": "stderr",
     "output_type": "stream",
     "text": [
      "  0%|          | 0/228 [00:00<?, ?it/s]\n",
      "  9%|▉         | 20/228 [00:02<00:24,  8.47it/s]\u001b[32m [repeated 5x across cluster]\u001b[0m\n",
      "100%|██████████| 228/228 [00:29<00:00,  7.74it/s]\u001b[32m [repeated 12x across cluster]\u001b[0m\n",
      " 39%|███▉      | 89/228 [00:11<00:16,  8.48it/s]\u001b[32m [repeated 295x across cluster]\u001b[0m\n",
      "  0%|          | 1/228 [00:00<00:24,  9.20it/s]\n"
     ]
    },
    {
     "name": "stdout",
     "output_type": "stream",
     "text": [
      "\u001b[2m\u001b[36m(DefaultActor pid=92320)\u001b[0m  Training loss for epoch 2: 0.7995195411014975, accuracy: 0.694078947368421\n"
     ]
    },
    {
     "name": "stderr",
     "output_type": "stream",
     "text": [
      "  5%|▍         | 11/228 [00:01<00:22,  9.47it/s]\u001b[32m [repeated 4x across cluster]\u001b[0m\n",
      " 92%|█████████▏| 210/228 [00:24<00:02,  8.99it/s]\u001b[32m [repeated 17x across cluster]\u001b[0m\n",
      " 55%|█████▌    | 126/228 [00:16<00:24,  4.16it/s]\u001b[32m [repeated 264x across cluster]\u001b[0m\n",
      "  0%|          | 0/228 [00:00<?, ?it/s]\n"
     ]
    },
    {
     "name": "stdout",
     "output_type": "stream",
     "text": [
      "\u001b[2m\u001b[36m(DefaultActor pid=92319)\u001b[0m  Training loss for epoch 2: 0.5943959586060884, accuracy: 0.7669956140350878\n"
     ]
    },
    {
     "name": "stderr",
     "output_type": "stream",
     "text": [
      " 53%|█████▎    | 121/228 [00:15<00:12,  8.54it/s]\u001b[32m [repeated 8x across cluster]\u001b[0m\n",
      "100%|██████████| 228/228 [00:27<00:00,  8.40it/s]\u001b[32m [repeated 15x across cluster]\u001b[0m\n",
      " 73%|███████▎  | 167/228 [00:21<00:06,  8.83it/s]\u001b[32m [repeated 288x across cluster]\u001b[0m\n",
      "  0%|          | 0/228 [00:00<?, ?it/s]\n"
     ]
    },
    {
     "name": "stdout",
     "output_type": "stream",
     "text": [
      "\u001b[2m\u001b[36m(DefaultActor pid=92318)\u001b[0m  Training loss for epoch 2: 1.584635654300974, accuracy: 0.34484649122807015\n"
     ]
    },
    {
     "name": "stderr",
     "output_type": "stream",
     "text": [
      " 45%|████▍     | 102/228 [00:11<00:13,  9.04it/s]\u001b[32m [repeated 18x across cluster]\u001b[0m\n",
      " 93%|█████████▎| 213/228 [00:26<00:01,  8.71it/s]\u001b[32m [repeated 21x across cluster]\u001b[0m\n",
      " 53%|█████▎    | 120/228 [00:13<00:11,  9.28it/s]\u001b[32m [repeated 256x across cluster]\u001b[0m\n"
     ]
    },
    {
     "name": "stdout",
     "output_type": "stream",
     "text": [
      "\u001b[2m\u001b[36m(DefaultActor pid=92316)\u001b[0m  Training loss for epoch 2: 0.6259028440374031, accuracy: 0.7541118421052632\n"
     ]
    },
    {
     "name": "stderr",
     "output_type": "stream",
     "text": [
      "  0%|          | 0/228 [00:00<?, ?it/s]\u001b[32m [repeated 2x across cluster]\u001b[0m\n",
      " 64%|██████▍   | 147/228 [00:16<00:09,  8.98it/s]\u001b[32m [repeated 6x across cluster]\u001b[0m\n",
      "100%|██████████| 228/228 [00:29<00:00,  7.77it/s]\u001b[32m [repeated 52x across cluster]\u001b[0m\n",
      "  9%|▉         | 21/228 [00:02<00:24,  8.28it/s]\u001b[32m [repeated 273x across cluster]\u001b[0m\n"
     ]
    },
    {
     "name": "stdout",
     "output_type": "stream",
     "text": [
      "\u001b[2m\u001b[36m(DefaultActor pid=92315)\u001b[0m  Training loss for epoch 2: 1.1306370237940235, accuracy: 0.5564692982456141\u001b[32m [repeated 3x across cluster]\u001b[0m\n"
     ]
    },
    {
     "name": "stderr",
     "output_type": "stream",
     "text": [
      "  0%|          | 0/228 [00:00<?, ?it/s]\u001b[32m [repeated 2x across cluster]\u001b[0m\n",
      " 29%|██▊       | 65/228 [00:07<00:19,  8.26it/s]\u001b[32m [repeated 12x across cluster]\u001b[0m\n",
      " 97%|█████████▋| 221/228 [00:28<00:00,  7.83it/s]\u001b[32m [repeated 30x across cluster]\u001b[0m\n",
      " 25%|██▌       | 57/228 [00:07<00:34,  4.99it/s]\u001b[32m [repeated 246x across cluster]\u001b[0m\n",
      "  0%|          | 0/228 [00:00<?, ?it/s]\n",
      "  0%|          | 0/228 [00:00<?, ?it/s]\n"
     ]
    },
    {
     "name": "stdout",
     "output_type": "stream",
     "text": [
      "\u001b[2m\u001b[36m(DefaultActor pid=92320)\u001b[0m  Training loss for epoch 3: 0.766768565303401, accuracy: 0.7039473684210527\u001b[32m [repeated 2x across cluster]\u001b[0m\n"
     ]
    },
    {
     "name": "stderr",
     "output_type": "stream",
     "text": [
      " 44%|████▍     | 101/228 [00:12<00:14,  8.87it/s]\u001b[32m [repeated 5x across cluster]\u001b[0m\n",
      "100%|██████████| 228/228 [00:26<00:00,  8.69it/s]\u001b[32m [repeated 23x across cluster]\u001b[0m\n",
      " 43%|████▎     | 98/228 [00:12<00:15,  8.20it/s]\u001b[32m [repeated 295x across cluster]\u001b[0m\n",
      "  0%|          | 0/228 [00:00<?, ?it/s]\n",
      " 59%|█████▉    | 134/228 [00:15<00:10,  8.75it/s]\u001b[32m [repeated 7x across cluster]\u001b[0m\n",
      "100%|██████████| 228/228 [00:27<00:00,  8.44it/s]\u001b[32m [repeated 19x across cluster]\u001b[0m\n",
      " 59%|█████▉    | 134/228 [00:17<00:19,  4.87it/s]\u001b[32m [repeated 264x across cluster]\u001b[0m\n",
      "  0%|          | 0/228 [00:00<?, ?it/s]\n"
     ]
    },
    {
     "name": "stdout",
     "output_type": "stream",
     "text": [
      "\u001b[2m\u001b[36m(DefaultActor pid=92318)\u001b[0m  Training loss for epoch 3: 1.5890978969502867, accuracy: 0.34841008771929827\u001b[32m [repeated 2x across cluster]\u001b[0m\n"
     ]
    },
    {
     "name": "stderr",
     "output_type": "stream",
     "text": [
      " 77%|███████▋  | 176/228 [00:21<00:06,  8.07it/s]\n",
      "100%|██████████| 228/228 [00:26<00:00,  8.54it/s]\u001b[32m [repeated 18x across cluster]\u001b[0m\n",
      " 83%|████████▎ | 190/228 [00:23<00:04,  8.38it/s]\n",
      " 77%|███████▋  | 175/228 [00:22<00:06,  7.83it/s]\u001b[32m [repeated 291x across cluster]\u001b[0m\n"
     ]
    },
    {
     "name": "stdout",
     "output_type": "stream",
     "text": [
      "\u001b[2m\u001b[36m(DefaultActor pid=92316)\u001b[0m  Training loss for epoch 3: 0.6061795093772704, accuracy: 0.765625\n"
     ]
    },
    {
     "name": "stderr",
     "output_type": "stream",
     "text": [
      "\u001b[2m\u001b[36m(DefaultActor pid=92316)\u001b[0m \r",
      "  0%|          | 0/228 [00:00<?, ?it/s]\n"
     ]
    },
    {
     "name": "stdout",
     "output_type": "stream",
     "text": [
      "\u001b[2m\u001b[36m(DefaultActor pid=92314)\u001b[0m  Training loss for epoch 3: 0.936832862987853, accuracy: 0.6378837719298246\n"
     ]
    },
    {
     "name": "stderr",
     "output_type": "stream",
     "text": [
      "100%|██████████| 228/228 [00:27<00:00,  8.30it/s]\u001b[32m [repeated 36x across cluster]\u001b[0m\n",
      " 21%|██▏       | 49/228 [00:05<00:19,  9.07it/s]\u001b[32m [repeated 7x across cluster]\u001b[0m\n",
      " 29%|██▉       | 67/228 [00:07<00:18,  8.91it/s]\u001b[32m [repeated 258x across cluster]\u001b[0m\n",
      "  0%|          | 0/228 [00:00<?, ?it/s]\u001b[32m [repeated 2x across cluster]\u001b[0m\n",
      " 95%|█████████▌| 217/228 [00:27<00:01,  8.26it/s]\u001b[32m [repeated 29x across cluster]\u001b[0m\n",
      " 81%|████████  | 184/228 [00:20<00:04,  9.38it/s]\u001b[32m [repeated 7x across cluster]\u001b[0m\n"
     ]
    },
    {
     "name": "stdout",
     "output_type": "stream",
     "text": [
      "\u001b[2m\u001b[36m(DefaultActor pid=92315)\u001b[0m  Training loss for epoch 3: 1.1681582678044051, accuracy: 0.5578399122807017\u001b[32m [repeated 2x across cluster]\u001b[0m\n"
     ]
    },
    {
     "name": "stderr",
     "output_type": "stream",
     "text": [
      " 12%|█▏        | 28/228 [00:03<00:25,  7.84it/s]\u001b[32m [repeated 271x across cluster]\u001b[0m\n",
      "  0%|          | 0/228 [00:00<?, ?it/s]\n",
      " 99%|█████████▉| 226/228 [00:29<00:00,  7.65it/s]\u001b[32m [repeated 45x across cluster]\u001b[0m\n",
      " 33%|███▎      | 76/228 [00:08<00:17,  8.79it/s]\u001b[32m [repeated 7x across cluster]\u001b[0m\n",
      "  0%|          | 0/228 [00:00<?, ?it/s]\n",
      " 28%|██▊       | 63/228 [00:08<00:37,  4.39it/s]\u001b[32m [repeated 220x across cluster]\u001b[0m\n",
      " 94%|█████████▍| 215/228 [00:26<00:01,  8.79it/s]\u001b[32m [repeated 9x across cluster]\u001b[0m\n",
      " 78%|███████▊  | 178/228 [00:20<00:05,  9.32it/s]\u001b[32m [repeated 8x across cluster]\u001b[0m\n",
      "  0%|          | 0/228 [00:00<?, ?it/s]\n"
     ]
    },
    {
     "name": "stdout",
     "output_type": "stream",
     "text": [
      "\u001b[2m\u001b[36m(DefaultActor pid=92319)\u001b[0m  Training loss for epoch 4: 0.8217146174426664, accuracy: 0.690515350877193\u001b[32m [repeated 3x across cluster]\u001b[0m\n"
     ]
    },
    {
     "name": "stderr",
     "output_type": "stream",
     "text": [
      " 46%|████▌     | 105/228 [00:13<00:15,  8.03it/s]\u001b[32m [repeated 276x across cluster]\u001b[0m\n",
      "  0%|          | 0/228 [00:00<?, ?it/s]\n",
      " 98%|█████████▊| 224/228 [00:26<00:00,  8.49it/s]\u001b[32m [repeated 27x across cluster]\u001b[0m\n",
      " 75%|███████▍  | 170/228 [00:20<00:06,  9.20it/s]\u001b[32m [repeated 8x across cluster]\u001b[0m\n",
      "  7%|▋         | 16/228 [00:02<01:09,  3.06it/s]\u001b[32m [repeated 212x across cluster]\u001b[0m\n",
      " 94%|█████████▍| 214/228 [00:25<00:01,  9.40it/s]\u001b[32m [repeated 10x across cluster]\u001b[0m\n",
      " 61%|██████    | 138/228 [00:17<00:09,  9.38it/s]\u001b[32m [repeated 8x across cluster]\u001b[0m\n"
     ]
    },
    {
     "name": "stdout",
     "output_type": "stream",
     "text": [
      "\u001b[2m\u001b[36m(DefaultActor pid=92316)\u001b[0m  Training loss for epoch 4: 0.8415242693664735, accuracy: 0.6927083333333334\u001b[32m [repeated 2x across cluster]\u001b[0m\n"
     ]
    },
    {
     "name": "stderr",
     "output_type": "stream",
     "text": [
      " 81%|████████  | 184/228 [00:23<00:04, 10.48it/s]\u001b[32m [repeated 208x across cluster]\u001b[0m\n",
      " 96%|█████████▋| 220/228 [00:26<00:00, 10.83it/s]\u001b[32m [repeated 25x across cluster]\u001b[0m\n",
      " 66%|██████▌   | 150/228 [00:19<00:08,  9.58it/s]\n",
      " 56%|█████▌    | 127/228 [00:12<00:08, 11.23it/s]\u001b[32m [repeated 127x across cluster]\u001b[0m\n"
     ]
    },
    {
     "name": "stdout",
     "output_type": "stream",
     "text": [
      "\u001b[2m\u001b[36m(DefaultActor pid=92315)\u001b[0m  Training loss for epoch 4: 1.2033998338799727, accuracy: 0.5397478070175439\u001b[32m [repeated 3x across cluster]\u001b[0m\n"
     ]
    },
    {
     "name": "stderr",
     "output_type": "stream",
     "text": [
      " 99%|█████████▉| 226/228 [00:22<00:00, 13.93it/s]\u001b[32m [repeated 29x across cluster]\u001b[0m\n",
      "  0%|          | 0/228 [00:00<?, ?it/s]\n",
      " 11%|█▏        | 26/228 [00:01<00:12, 16.57it/s]\u001b[32m [repeated 73x across cluster]\u001b[0m\n"
     ]
    },
    {
     "name": "stdout",
     "output_type": "stream",
     "text": [
      "\u001b[2m\u001b[36m(DefaultActor pid=92319)\u001b[0m  Training loss for epoch 0: 0.9882801139825269, accuracy: 0.6025219298245614\u001b[32m [repeated 3x across cluster]\u001b[0m\n"
     ]
    },
    {
     "name": "stderr",
     "output_type": "stream",
     "text": [
      "100%|██████████| 228/228 [00:19<00:00, 11.55it/s]\u001b[32m [repeated 15x across cluster]\u001b[0m\n",
      "  0%|          | 0/228 [00:00<?, ?it/s]\n",
      " 20%|██        | 46/228 [00:03<00:12, 14.25it/s]\u001b[32m [repeated 65x across cluster]\u001b[0m\n",
      " 56%|█████▌    | 128/228 [00:08<00:05, 16.98it/s]\u001b[32m [repeated 82x across cluster]\u001b[0m\n",
      " 92%|█████████▏| 210/228 [00:13<00:01, 16.79it/s]\n",
      " 93%|█████████▎| 212/228 [00:13<00:00, 16.83it/s]\n",
      " 94%|█████████▍| 214/228 [00:13<00:00, 17.05it/s]\n",
      " 95%|█████████▍| 216/228 [00:13<00:00, 17.10it/s]\n",
      " 96%|█████████▌| 218/228 [00:13<00:00, 16.84it/s]\n",
      " 96%|█████████▋| 220/228 [00:13<00:00, 16.93it/s]\n",
      " 97%|█████████▋| 222/228 [00:13<00:00, 16.86it/s]\n",
      " 98%|█████████▊| 224/228 [00:14<00:00, 16.80it/s]\n",
      " 99%|█████████▉| 226/228 [00:14<00:00, 16.81it/s]\n",
      "100%|██████████| 228/228 [00:14<00:00, 15.94it/s]\n",
      "  0%|          | 0/228 [00:00<?, ?it/s]\n"
     ]
    },
    {
     "name": "stdout",
     "output_type": "stream",
     "text": [
      "\u001b[2m\u001b[36m(DefaultActor pid=92320)\u001b[0m  Training loss for epoch 1: 1.0766716323662222, accuracy: 0.5745614035087719\n"
     ]
    },
    {
     "name": "stderr",
     "output_type": "stream",
     "text": [
      "\u001b[2m\u001b[36m(DefaultActor pid=92319)\u001b[0m \r",
      " 89%|████████▉ | 204/228 [00:13<00:01, 14.70it/s]\u001b[32m [repeated 67x across cluster]\u001b[0m\n"
     ]
    },
    {
     "name": "stdout",
     "output_type": "stream",
     "text": [
      "\u001b[2m\u001b[36m(DefaultActor pid=92319)\u001b[0m  Training loss for epoch 1: 0.9064647896509421, accuracy: 0.6178728070175439\n"
     ]
    },
    {
     "name": "stderr",
     "output_type": "stream",
     "text": [
      "100%|██████████| 228/228 [00:14<00:00, 15.48it/s]\u001b[32m [repeated 10x across cluster]\u001b[0m\n",
      "  0%|          | 0/228 [00:00<?, ?it/s]\n",
      " 26%|██▋       | 60/228 [00:03<00:10, 16.16it/s]\u001b[32m [repeated 73x across cluster]\u001b[0m\n",
      " 62%|██████▏   | 142/228 [00:08<00:05, 16.54it/s]\u001b[32m [repeated 82x across cluster]\u001b[0m\n",
      " 92%|█████████▏| 210/228 [00:13<00:01, 16.71it/s]\n",
      " 93%|█████████▎| 212/228 [00:13<00:00, 16.78it/s]\n",
      " 94%|█████████▍| 214/228 [00:13<00:00, 16.41it/s]\n",
      " 95%|█████████▍| 216/228 [00:13<00:00, 16.43it/s]\n",
      " 96%|█████████▌| 218/228 [00:13<00:00, 16.21it/s]\n",
      " 96%|█████████▋| 220/228 [00:13<00:00, 16.05it/s]\n",
      " 97%|█████████▋| 222/228 [00:14<00:00, 15.98it/s]\n",
      " 98%|█████████▊| 224/228 [00:14<00:00, 16.12it/s]\n",
      " 99%|█████████▉| 226/228 [00:14<00:00, 16.32it/s]\n",
      "100%|██████████| 228/228 [00:14<00:00, 15.87it/s]\n",
      "  0%|          | 0/228 [00:00<?, ?it/s]\n"
     ]
    },
    {
     "name": "stdout",
     "output_type": "stream",
     "text": [
      "\u001b[2m\u001b[36m(DefaultActor pid=92320)\u001b[0m  Training loss for epoch 2: 1.0207504977782567, accuracy: 0.5877192982456141\n"
     ]
    },
    {
     "name": "stderr",
     "output_type": "stream",
     "text": [
      "\u001b[2m\u001b[36m(DefaultActor pid=92320)\u001b[0m \r",
      " 22%|██▏       | 50/228 [00:03<00:10, 16.52it/s]\u001b[32m [repeated 64x across cluster]\u001b[0m\n"
     ]
    },
    {
     "name": "stdout",
     "output_type": "stream",
     "text": [
      "\u001b[2m\u001b[36m(DefaultActor pid=92319)\u001b[0m  Training loss for epoch 2: 0.9006077614531183, accuracy: 0.6329495614035088\n"
     ]
    },
    {
     "name": "stderr",
     "output_type": "stream",
     "text": [
      "100%|██████████| 228/228 [00:13<00:00, 16.45it/s]\u001b[32m [repeated 10x across cluster]\u001b[0m\n",
      "  0%|          | 0/228 [00:00<?, ?it/s]\n",
      " 58%|█████▊    | 132/228 [00:08<00:06, 15.96it/s]\u001b[32m [repeated 79x across cluster]\u001b[0m\n",
      " 92%|█████████▏| 210/228 [00:12<00:01, 16.96it/s]\n",
      " 93%|█████████▎| 212/228 [00:13<00:00, 17.01it/s]\n",
      " 94%|█████████▍| 214/228 [00:13<00:00, 16.64it/s]\n",
      " 95%|█████████▍| 216/228 [00:13<00:00, 16.71it/s]\n",
      " 96%|█████████▌| 218/228 [00:13<00:00, 16.83it/s]\n",
      " 70%|███████   | 160/228 [00:09<00:04, 16.73it/s]\u001b[32m [repeated 80x across cluster]\u001b[0m\n",
      " 96%|█████████▋| 220/228 [00:13<00:00, 16.68it/s]\n",
      " 97%|█████████▋| 222/228 [00:13<00:00, 16.85it/s]\n",
      " 98%|█████████▊| 224/228 [00:13<00:00, 16.66it/s]\n",
      " 99%|█████████▉| 226/228 [00:13<00:00, 16.41it/s]\n",
      "100%|██████████| 228/228 [00:13<00:00, 16.31it/s]\n",
      "  0%|          | 0/228 [00:00<?, ?it/s]\n"
     ]
    },
    {
     "name": "stdout",
     "output_type": "stream",
     "text": [
      "\u001b[2m\u001b[36m(DefaultActor pid=92320)\u001b[0m  Training loss for epoch 3: 0.9943934796672118, accuracy: 0.5945723684210527\n",
      "\u001b[2m\u001b[36m(DefaultActor pid=92319)\u001b[0m  Training loss for epoch 3: 0.9081305449730471, accuracy: 0.631578947368421\n"
     ]
    },
    {
     "name": "stderr",
     "output_type": "stream",
     "text": [
      "100%|██████████| 228/228 [00:14<00:00, 15.90it/s]\u001b[32m [repeated 10x across cluster]\u001b[0m\n",
      "  5%|▌         | 12/228 [00:00<00:13, 16.45it/s]\u001b[32m [repeated 63x across cluster]\u001b[0m\n",
      "  0%|          | 0/228 [00:00<?, ?it/s]\n",
      " 41%|████      | 94/228 [00:05<00:08, 16.53it/s]\u001b[32m [repeated 83x across cluster]\u001b[0m\n",
      " 92%|█████████▏| 210/228 [00:12<00:01, 17.12it/s]\n",
      " 93%|█████████▎| 212/228 [00:13<00:00, 16.85it/s]\n",
      " 94%|█████████▍| 214/228 [00:13<00:00, 16.69it/s]\n",
      " 95%|█████████▍| 216/228 [00:13<00:00, 16.78it/s]\n",
      " 96%|█████████▌| 218/228 [00:13<00:00, 16.75it/s]\n",
      " 96%|█████████▋| 220/228 [00:13<00:00, 16.52it/s]\n",
      " 97%|█████████▋| 222/228 [00:13<00:00, 16.70it/s]\n",
      " 98%|█████████▊| 224/228 [00:13<00:00, 16.77it/s]\n",
      " 99%|█████████▉| 226/228 [00:13<00:00, 16.71it/s]\n",
      "100%|██████████| 228/228 [00:14<00:00, 16.19it/s]\n"
     ]
    },
    {
     "name": "stdout",
     "output_type": "stream",
     "text": [
      "\u001b[2m\u001b[36m(DefaultActor pid=92320)\u001b[0m  Training loss for epoch 4: 0.9625220221647045, accuracy: 0.6052631578947368\n"
     ]
    },
    {
     "name": "stderr",
     "output_type": "stream",
     "text": [
      " 78%|███████▊  | 178/228 [00:10<00:02, 17.11it/s]\u001b[32m [repeated 71x across cluster]\u001b[0m\n",
      "DEBUG flwr 2023-11-09 12:30:25,826 | server.py:236 | fit_round 9 received 10 results and 0 failures\n",
      "DEBUG:flwr:fit_round 9 received 10 results and 0 failures\n"
     ]
    },
    {
     "name": "stdout",
     "output_type": "stream",
     "text": [
      "Saving round 9 aggregated_parameters...\n",
      "\u001b[2m\u001b[36m(DefaultActor pid=92319)\u001b[0m  Training loss for epoch 4: 0.8893656704509467, accuracy: 0.640625\n",
      "Saved round 9 aggregated_parameters!\n"
     ]
    },
    {
     "name": "stderr",
     "output_type": "stream",
     "text": [
      "INFO flwr 2023-11-09 12:30:25,883 | server.py:171 | evaluate_round 9: no clients selected, cancel\n",
      "INFO:flwr:evaluate_round 9: no clients selected, cancel\n",
      "DEBUG flwr 2023-11-09 12:30:25,884 | server.py:222 | fit_round 10: strategy sampled 10 clients (out of 40)\n",
      "DEBUG:flwr:fit_round 10: strategy sampled 10 clients (out of 40)\n",
      "  0%|          | 0/228 [00:00<?, ?it/s]\n",
      "100%|██████████| 228/228 [00:13<00:00, 16.72it/s]\u001b[32m [repeated 10x across cluster]\u001b[0m\n",
      "  4%|▍         | 10/228 [00:00<00:13, 15.62it/s]\u001b[32m [repeated 20x across cluster]\u001b[0m\n",
      "  0%|          | 0/228 [00:00<?, ?it/s]\u001b[32m [repeated 4x across cluster]\u001b[0m\n",
      "  4%|▎         | 8/228 [00:00<00:20, 10.53it/s]\u001b[32m [repeated 79x across cluster]\u001b[0m\n",
      "  1%|          | 2/228 [00:00<00:26,  8.63it/s]\n",
      "  0%|          | 0/228 [00:00<?, ?it/s]\u001b[32m [repeated 2x across cluster]\u001b[0m\n",
      " 24%|██▍       | 55/228 [00:05<00:21,  7.87it/s]\u001b[32m [repeated 194x across cluster]\u001b[0m\n",
      " 11%|█         | 24/228 [00:03<00:22,  8.87it/s]\u001b[32m [repeated 4x across cluster]\u001b[0m\n",
      "  0%|          | 0/228 [00:00<?, ?it/s]\n",
      " 22%|██▏       | 50/228 [00:06<00:20,  8.49it/s]\u001b[32m [repeated 241x across cluster]\u001b[0m\n",
      " 31%|███       | 71/228 [00:09<00:18,  8.55it/s]\u001b[32m [repeated 5x across cluster]\u001b[0m\n",
      " 56%|█████▌    | 127/228 [00:15<00:12,  8.14it/s]\u001b[32m [repeated 308x across cluster]\u001b[0m\n",
      " 92%|█████████▏| 209/228 [00:21<00:02,  9.20it/s]\n",
      " 92%|█████████▏| 210/228 [00:22<00:01,  9.12it/s]\n",
      " 93%|█████████▎| 211/228 [00:22<00:01,  9.17it/s]\n",
      " 93%|█████████▎| 213/228 [00:22<00:01,  9.14it/s]\n",
      " 94%|█████████▍| 214/228 [00:22<00:01,  8.73it/s]\n",
      " 95%|█████████▍| 216/228 [00:22<00:01,  9.51it/s]\n",
      " 95%|█████████▌| 217/228 [00:22<00:01,  9.46it/s]\n",
      " 96%|█████████▌| 218/228 [00:22<00:01,  9.51it/s]\n",
      " 96%|█████████▋| 220/228 [00:23<00:00,  9.35it/s]\n",
      " 97%|█████████▋| 221/228 [00:23<00:00,  9.02it/s]\n",
      " 97%|█████████▋| 222/228 [00:23<00:00,  8.80it/s]\n",
      " 98%|█████████▊| 223/228 [00:23<00:00,  8.83it/s]\n",
      " 98%|█████████▊| 224/228 [00:23<00:00,  8.48it/s]\n",
      " 99%|█████████▊| 225/228 [00:23<00:00,  8.78it/s]\n",
      " 99%|█████████▉| 226/228 [00:23<00:00,  8.58it/s]\n",
      "100%|█████████▉| 227/228 [00:24<00:00,  8.29it/s]\n",
      "  0%|          | 0/228 [00:00<?, ?it/s]\n"
     ]
    },
    {
     "name": "stdout",
     "output_type": "stream",
     "text": [
      "\u001b[2m\u001b[36m(DefaultActor pid=92319)\u001b[0m  Training loss for epoch 0: 0.9639224599589381, accuracy: 0.6186951754385965\n"
     ]
    },
    {
     "name": "stderr",
     "output_type": "stream",
     "text": [
      " 54%|█████▍    | 124/228 [00:15<00:11,  9.13it/s]\u001b[32m [repeated 5x across cluster]\u001b[0m\n",
      " 74%|███████▍  | 169/228 [00:20<00:06,  8.85it/s]\u001b[32m [repeated 274x across cluster]\u001b[0m\n"
     ]
    },
    {
     "name": "stdout",
     "output_type": "stream",
     "text": [
      "\u001b[2m\u001b[36m(DefaultActor pid=92320)\u001b[0m  Training loss for epoch 0: 0.9226352041750624, accuracy: 0.6466557017543859\n"
     ]
    },
    {
     "name": "stderr",
     "output_type": "stream",
     "text": [
      "100%|██████████| 228/228 [00:25<00:00,  9.07it/s]\u001b[32m [repeated 18x across cluster]\u001b[0m\n",
      "  0%|          | 0/228 [00:00<?, ?it/s]\n",
      " 13%|█▎        | 30/228 [00:03<00:22,  8.98it/s]\u001b[32m [repeated 9x across cluster]\u001b[0m\n",
      "  0%|          | 0/228 [00:00<?, ?it/s]\n",
      " 18%|█▊        | 42/228 [00:04<00:21,  8.69it/s]\u001b[32m [repeated 277x across cluster]\u001b[0m\n",
      " 95%|█████████▍| 216/228 [00:26<00:01,  7.53it/s]\u001b[32m [repeated 45x across cluster]\u001b[0m\n"
     ]
    },
    {
     "name": "stdout",
     "output_type": "stream",
     "text": [
      "\u001b[2m\u001b[36m(DefaultActor pid=92315)\u001b[0m  Training loss for epoch 0: 0.6626896996769989, accuracy: 0.7415021929824561\u001b[32m [repeated 2x across cluster]\u001b[0m\n"
     ]
    },
    {
     "name": "stderr",
     "output_type": "stream",
     "text": [
      " 22%|██▏       | 50/228 [00:05<00:19,  9.03it/s]\u001b[32m [repeated 3x across cluster]\u001b[0m\n",
      "  0%|          | 0/228 [00:00<?, ?it/s]\u001b[32m [repeated 2x across cluster]\u001b[0m\n",
      "  9%|▉         | 20/228 [00:02<00:26,  7.84it/s]\u001b[32m [repeated 246x across cluster]\u001b[0m\n",
      " 94%|█████████▍| 215/228 [00:26<00:01,  8.37it/s]\u001b[32m [repeated 55x across cluster]\u001b[0m\n"
     ]
    },
    {
     "name": "stdout",
     "output_type": "stream",
     "text": [
      "\u001b[2m\u001b[36m(DefaultActor pid=92318)\u001b[0m  Training loss for epoch 0: 1.0172465468446414, accuracy: 0.5773026315789473\u001b[32m [repeated 4x across cluster]\u001b[0m\n"
     ]
    },
    {
     "name": "stderr",
     "output_type": "stream",
     "text": [
      " 29%|██▉       | 67/228 [00:08<00:18,  8.67it/s]\u001b[32m [repeated 9x across cluster]\u001b[0m\n",
      "  0%|          | 0/228 [00:00<?, ?it/s]\u001b[32m [repeated 3x across cluster]\u001b[0m\n",
      " 25%|██▍       | 56/228 [00:07<00:28,  6.06it/s]\u001b[32m [repeated 232x across cluster]\u001b[0m\n",
      "100%|██████████| 228/228 [00:27<00:00,  8.23it/s]\u001b[32m [repeated 13x across cluster]\u001b[0m\n",
      " 59%|█████▉    | 135/228 [00:15<00:11,  7.77it/s]\u001b[32m [repeated 4x across cluster]\u001b[0m\n",
      " 42%|████▏     | 95/228 [00:12<00:16,  8.12it/s]\u001b[32m [repeated 301x across cluster]\u001b[0m\n",
      " 92%|█████████▏| 210/228 [00:24<00:02,  8.16it/s]\n",
      " 93%|█████████▎| 211/228 [00:24<00:01,  8.53it/s]\n",
      " 93%|█████████▎| 213/228 [00:24<00:01,  8.47it/s]\n",
      " 94%|█████████▍| 214/228 [00:24<00:01,  8.67it/s]\n",
      " 94%|█████████▍| 215/228 [00:24<00:01,  8.62it/s]\n",
      " 95%|█████████▌| 217/228 [00:25<00:01,  8.73it/s]\n",
      " 96%|█████████▌| 218/228 [00:25<00:01,  8.51it/s]\n",
      " 96%|█████████▌| 219/228 [00:25<00:01,  8.85it/s]\n",
      " 96%|█████████▋| 220/228 [00:25<00:00,  8.84it/s]\n",
      " 87%|████████▋ | 198/228 [00:23<00:03,  7.99it/s]\u001b[32m [repeated 5x across cluster]\u001b[0m\n",
      " 97%|█████████▋| 221/228 [00:25<00:00,  8.80it/s]\n",
      " 97%|█████████▋| 222/228 [00:25<00:00,  8.99it/s]\n",
      " 98%|█████████▊| 223/228 [00:25<00:00,  9.09it/s]\n",
      " 98%|█████████▊| 224/228 [00:26<00:01,  3.62it/s]\n",
      " 99%|█████████▊| 225/228 [00:26<00:00,  4.40it/s]\n",
      " 99%|█████████▉| 226/228 [00:26<00:00,  5.27it/s]\n",
      "100%|█████████▉| 227/228 [00:26<00:00,  5.81it/s]\n",
      "100%|██████████| 228/228 [00:27<00:00,  8.44it/s]\n",
      "  0%|          | 0/228 [00:00<?, ?it/s]\n",
      " 56%|█████▌    | 128/228 [00:17<00:15,  6.42it/s]\u001b[32m [repeated 239x across cluster]\u001b[0m\n"
     ]
    },
    {
     "name": "stdout",
     "output_type": "stream",
     "text": [
      "\u001b[2m\u001b[36m(DefaultActor pid=92319)\u001b[0m  Training loss for epoch 1: 0.9142062526784445, accuracy: 0.6403508771929824\n"
     ]
    },
    {
     "name": "stderr",
     "output_type": "stream",
     "text": [
      "\u001b[2m\u001b[36m(DefaultActor pid=92320)\u001b[0m \r",
      "  0%|          | 0/228 [00:00<?, ?it/s]\r",
      "  0%|          | 1/228 [00:00<00:25,  8.77it/s]\n",
      "\u001b[2m\u001b[36m(DefaultActor pid=92320)\u001b[0m \r",
      "100%|██████████| 228/228 [00:27<00:00,  8.38it/s]\u001b[32m [repeated 19x across cluster]\u001b[0m\n"
     ]
    },
    {
     "name": "stdout",
     "output_type": "stream",
     "text": [
      "\u001b[2m\u001b[36m(DefaultActor pid=92320)\u001b[0m  Training loss for epoch 1: 0.86569901987126, accuracy: 0.6644736842105263\n"
     ]
    },
    {
     "name": "stderr",
     "output_type": "stream",
     "text": [
      "  4%|▍         | 9/228 [00:01<00:25,  8.53it/s]\u001b[32m [repeated 7x across cluster]\u001b[0m\n",
      " 74%|███████▍  | 169/228 [00:22<00:06,  8.44it/s]\u001b[32m [repeated 287x across cluster]\u001b[0m\n",
      " 92%|█████████▏| 210/228 [00:27<00:02,  8.26it/s]\u001b[32m [repeated 2x across cluster]\u001b[0m\n",
      " 86%|████████▌ | 195/228 [00:26<00:03,  8.46it/s]\u001b[32m [repeated 9x across cluster]\u001b[0m\n"
     ]
    },
    {
     "name": "stdout",
     "output_type": "stream",
     "text": [
      "\u001b[2m\u001b[36m(DefaultActor pid=92313)\u001b[0m  Training loss for epoch 1: 0.9554364942667777, accuracy: 0.6060855263157895\n"
     ]
    },
    {
     "name": "stderr",
     "output_type": "stream",
     "text": [
      "  0%|          | 0/228 [00:00<?, ?it/s]\n",
      " 39%|███▉      | 90/228 [00:10<00:15,  8.74it/s]\u001b[32m [repeated 262x across cluster]\u001b[0m\n"
     ]
    },
    {
     "name": "stdout",
     "output_type": "stream",
     "text": [
      "\u001b[2m\u001b[36m(DefaultActor pid=92315)\u001b[0m  Training loss for epoch 1: 0.6773130249950969, accuracy: 0.7436951754385965\n"
     ]
    },
    {
     "name": "stderr",
     "output_type": "stream",
     "text": [
      "100%|██████████| 228/228 [00:30<00:00,  7.52it/s]\u001b[32m [repeated 76x across cluster]\u001b[0m\n",
      " 43%|████▎     | 97/228 [00:10<00:14,  8.81it/s]\u001b[32m [repeated 9x across cluster]\u001b[0m\n",
      "  0%|          | 0/228 [00:00<?, ?it/s]\u001b[32m [repeated 4x across cluster]\u001b[0m\n",
      "  9%|▉         | 21/228 [00:02<00:26,  7.91it/s]\u001b[32m [repeated 231x across cluster]\u001b[0m\n"
     ]
    },
    {
     "name": "stdout",
     "output_type": "stream",
     "text": [
      "\u001b[2m\u001b[36m(DefaultActor pid=92318)\u001b[0m  Training loss for epoch 1: 0.992935783899667, accuracy: 0.5827850877192983\u001b[32m [repeated 4x across cluster]\u001b[0m\n"
     ]
    },
    {
     "name": "stderr",
     "output_type": "stream",
     "text": [
      "100%|██████████| 228/228 [00:28<00:00,  8.03it/s]\u001b[32m [repeated 32x across cluster]\u001b[0m\n",
      " 28%|██▊       | 64/228 [00:07<00:19,  8.25it/s]\u001b[32m [repeated 8x across cluster]\u001b[0m\n",
      "  0%|          | 0/228 [00:00<?, ?it/s]\n",
      " 25%|██▌       | 58/228 [00:07<00:23,  7.34it/s]\u001b[32m [repeated 273x across cluster]\u001b[0m\n",
      " 92%|█████████▏| 209/228 [00:23<00:02,  9.07it/s]\n",
      " 92%|█████████▏| 210/228 [00:23<00:01,  9.19it/s]\n",
      " 30%|██▉       | 68/228 [00:08<00:18,  8.75it/s]\u001b[32m [repeated 8x across cluster]\u001b[0m\n",
      " 93%|█████████▎| 211/228 [00:24<00:01,  8.76it/s]\n",
      " 93%|█████████▎| 212/228 [00:24<00:01,  8.74it/s]\n",
      " 93%|█████████▎| 213/228 [00:24<00:01,  8.47it/s]\n",
      " 94%|█████████▍| 214/228 [00:24<00:01,  8.52it/s]\n",
      " 94%|█████████▍| 215/228 [00:24<00:01,  8.09it/s]\n",
      " 95%|█████████▍| 216/228 [00:24<00:01,  7.82it/s]\n",
      " 95%|█████████▌| 217/228 [00:24<00:01,  7.94it/s]\n",
      " 96%|█████████▌| 218/228 [00:24<00:01,  8.17it/s]\n",
      " 96%|█████████▌| 219/228 [00:25<00:01,  8.39it/s]\n",
      " 96%|█████████▋| 220/228 [00:25<00:00,  8.03it/s]\n",
      " 43%|████▎     | 98/228 [00:12<00:15,  8.32it/s]\u001b[32m [repeated 291x across cluster]\u001b[0m\n",
      " 97%|█████████▋| 221/228 [00:25<00:00,  7.81it/s]\n",
      " 97%|█████████▋| 222/228 [00:25<00:00,  7.92it/s]\n",
      " 98%|█████████▊| 223/228 [00:25<00:00,  7.99it/s]\n",
      " 98%|█████████▊| 224/228 [00:25<00:00,  7.85it/s]\n",
      " 99%|█████████▊| 225/228 [00:25<00:00,  7.48it/s]\n",
      " 99%|█████████▉| 226/228 [00:26<00:00,  8.01it/s]\n",
      "100%|█████████▉| 227/228 [00:26<00:00,  8.29it/s]\n",
      "100%|██████████| 228/228 [00:26<00:00,  8.70it/s]\n",
      "  0%|          | 0/228 [00:00<?, ?it/s]\n"
     ]
    },
    {
     "name": "stdout",
     "output_type": "stream",
     "text": [
      "\u001b[2m\u001b[36m(DefaultActor pid=92319)\u001b[0m  Training loss for epoch 2: 0.9142861137526077, accuracy: 0.6466557017543859\n",
      "\u001b[2m\u001b[36m(DefaultActor pid=92320)\u001b[0m  Training loss for epoch 2: 0.8411463474887505, accuracy: 0.6776315789473685\n"
     ]
    },
    {
     "name": "stderr",
     "output_type": "stream",
     "text": [
      "100%|██████████| 228/228 [00:26<00:00,  8.77it/s]\u001b[32m [repeated 16x across cluster]\u001b[0m\n",
      " 51%|█████     | 116/228 [00:14<00:13,  8.28it/s]\u001b[32m [repeated 4x across cluster]\u001b[0m\n",
      " 14%|█▍        | 33/228 [00:04<00:23,  8.28it/s]\u001b[32m [repeated 251x across cluster]\u001b[0m\n",
      "  0%|          | 0/228 [00:00<?, ?it/s]\n",
      " 75%|███████▍  | 170/228 [00:20<00:06,  8.36it/s]\u001b[32m [repeated 11x across cluster]\u001b[0m\n",
      " 76%|███████▋  | 174/228 [00:22<00:06,  8.43it/s]\u001b[32m [repeated 307x across cluster]\u001b[0m\n",
      " 92%|█████████▏| 209/228 [00:26<00:02,  7.15it/s]\n",
      " 92%|█████████▏| 210/228 [00:26<00:02,  7.29it/s]\n",
      " 93%|█████████▎| 211/228 [00:27<00:02,  7.50it/s]\n",
      " 93%|█████████▎| 212/228 [00:27<00:02,  7.80it/s]\n",
      " 93%|█████████▎| 213/228 [00:27<00:01,  8.05it/s]\n",
      " 94%|█████████▍| 214/228 [00:27<00:01,  8.24it/s]\n",
      " 94%|█████████▍| 215/228 [00:27<00:01,  7.72it/s]\n",
      " 95%|█████████▍| 216/228 [00:27<00:01,  7.95it/s]\n"
     ]
    },
    {
     "name": "stdout",
     "output_type": "stream",
     "text": [
      "\u001b[2m\u001b[36m(DefaultActor pid=92313)\u001b[0m  Training loss for epoch 2: 0.978370844272145, accuracy: 0.6022478070175439\n"
     ]
    },
    {
     "name": "stderr",
     "output_type": "stream",
     "text": [
      "  0%|          | 0/228 [00:00<?, ?it/s]\n",
      " 41%|████      | 93/228 [00:11<00:15,  8.96it/s]\u001b[32m [repeated 7x across cluster]\u001b[0m\n"
     ]
    },
    {
     "name": "stdout",
     "output_type": "stream",
     "text": [
      "\u001b[2m\u001b[36m(DefaultActor pid=92315)\u001b[0m  Training loss for epoch 2: 0.6554603815863007, accuracy: 0.7568530701754386\n"
     ]
    },
    {
     "name": "stderr",
     "output_type": "stream",
     "text": [
      " 53%|█████▎    | 121/228 [00:14<00:11,  9.18it/s]\u001b[32m [repeated 238x across cluster]\u001b[0m\n",
      " 98%|█████████▊| 224/228 [00:28<00:00,  8.25it/s]\u001b[32m [repeated 81x across cluster]\u001b[0m\n",
      "  0%|          | 0/228 [00:00<?, ?it/s]\u001b[32m [repeated 5x across cluster]\u001b[0m\n",
      " 67%|██████▋   | 153/228 [00:17<00:08,  9.27it/s]\u001b[32m [repeated 9x across cluster]\u001b[0m\n",
      " 12%|█▏        | 27/228 [00:03<00:25,  7.78it/s]\u001b[32m [repeated 263x across cluster]\u001b[0m\n",
      "100%|██████████| 228/228 [00:27<00:00,  8.29it/s]\u001b[32m [repeated 23x across cluster]\u001b[0m\n",
      " 33%|███▎      | 76/228 [00:09<00:30,  5.03it/s]\u001b[32m [repeated 8x across cluster]\u001b[0m\n",
      " 28%|██▊       | 64/228 [00:08<00:21,  7.50it/s]\u001b[32m [repeated 275x across cluster]\u001b[0m\n",
      " 95%|█████████▌| 217/228 [00:25<00:01,  8.66it/s]\u001b[32m [repeated 7x across cluster]\u001b[0m\n",
      "  0%|          | 0/228 [00:00<?, ?it/s]\n"
     ]
    },
    {
     "name": "stdout",
     "output_type": "stream",
     "text": [
      "\u001b[2m\u001b[36m(DefaultActor pid=92319)\u001b[0m  Training loss for epoch 3: 0.887783596390172, accuracy: 0.6606359649122807\u001b[32m [repeated 5x across cluster]\u001b[0m\n"
     ]
    },
    {
     "name": "stderr",
     "output_type": "stream",
     "text": [
      " 50%|█████     | 114/228 [00:13<00:13,  8.48it/s]\u001b[32m [repeated 7x across cluster]\u001b[0m\n",
      " 55%|█████▍    | 125/228 [00:14<00:12,  8.56it/s]\u001b[32m [repeated 272x across cluster]\u001b[0m\n",
      "100%|██████████| 228/228 [00:26<00:00,  8.58it/s]\u001b[32m [repeated 24x across cluster]\u001b[0m\n",
      "  0%|          | 0/228 [00:00<?, ?it/s]\n",
      " 14%|█▍        | 32/228 [00:03<00:22,  8.84it/s]\u001b[32m [repeated 7x across cluster]\u001b[0m\n",
      " 61%|██████    | 139/228 [00:18<00:11,  7.42it/s]\u001b[32m [repeated 277x across cluster]\u001b[0m\n",
      " 42%|████▏     | 95/228 [00:11<00:13,  9.58it/s]\u001b[32m [repeated 8x across cluster]\u001b[0m\n",
      " 92%|█████████▏| 209/228 [00:26<00:02,  8.11it/s]\n",
      " 92%|█████████▏| 210/228 [00:26<00:02,  8.07it/s]\n",
      " 93%|█████████▎| 211/228 [00:26<00:02,  7.96it/s]\n",
      " 79%|███████▊  | 179/228 [00:23<00:06,  7.33it/s]\u001b[32m [repeated 314x across cluster]\u001b[0m\n",
      " 93%|█████████▎| 212/228 [00:27<00:01,  8.07it/s]\n",
      " 93%|█████████▎| 213/228 [00:27<00:01,  8.20it/s]\n"
     ]
    },
    {
     "name": "stdout",
     "output_type": "stream",
     "text": [
      "\u001b[2m\u001b[36m(DefaultActor pid=92313)\u001b[0m  Training loss for epoch 3: 0.9573662218294645, accuracy: 0.6121162280701754\u001b[32m [repeated 2x across cluster]\u001b[0m\n"
     ]
    },
    {
     "name": "stderr",
     "output_type": "stream",
     "text": [
      "  0%|          | 0/228 [00:00<?, ?it/s]\n",
      " 51%|█████     | 116/228 [00:13<00:12,  9.07it/s]\u001b[32m [repeated 4x across cluster]\u001b[0m\n",
      " 96%|█████████▌| 218/228 [00:28<00:01,  7.67it/s]\u001b[32m [repeated 90x across cluster]\u001b[0m\n",
      " 59%|█████▉    | 134/228 [00:15<00:10,  8.65it/s]\u001b[32m [repeated 212x across cluster]\u001b[0m\n",
      "  0%|          | 0/228 [00:00<?, ?it/s]\u001b[32m [repeated 5x across cluster]\u001b[0m\n",
      " 23%|██▎       | 52/228 [00:06<00:19,  9.09it/s]\u001b[32m [repeated 8x across cluster]\u001b[0m\n",
      "100%|██████████| 228/228 [00:29<00:00,  7.67it/s]\u001b[32m [repeated 19x across cluster]\u001b[0m\n",
      " 14%|█▍        | 33/228 [00:04<00:24,  7.91it/s]\u001b[32m [repeated 291x across cluster]\u001b[0m\n"
     ]
    },
    {
     "name": "stdout",
     "output_type": "stream",
     "text": [
      "\u001b[2m\u001b[36m(DefaultActor pid=92319)\u001b[0m  Training loss for epoch 4: 0.8849817028171137, accuracy: 0.6584429824561403\u001b[32m [repeated 6x across cluster]\u001b[0m\n"
     ]
    },
    {
     "name": "stderr",
     "output_type": "stream",
     "text": [
      " 29%|██▉       | 66/228 [00:07<00:17,  9.03it/s]\u001b[32m [repeated 2x across cluster]\u001b[0m\n",
      " 94%|█████████▍| 215/228 [00:25<00:01,  7.89it/s]\u001b[32m [repeated 22x across cluster]\u001b[0m\n",
      " 30%|██▉       | 68/228 [00:09<00:20,  7.98it/s]\u001b[32m [repeated 247x across cluster]\u001b[0m\n",
      "  0%|          | 0/228 [00:00<?, ?it/s]\n",
      " 48%|████▊     | 110/228 [00:13<00:13,  8.94it/s]\u001b[32m [repeated 3x across cluster]\u001b[0m\n",
      "100%|██████████| 228/228 [00:26<00:00,  8.54it/s]\u001b[32m [repeated 8x across cluster]\u001b[0m\n",
      " 68%|██████▊   | 156/228 [00:17<00:07,  9.53it/s]\u001b[32m [repeated 212x across cluster]\u001b[0m\n",
      "  0%|          | 0/228 [00:00<?, ?it/s]\n",
      " 65%|██████▌   | 149/228 [00:17<00:08,  8.85it/s]\u001b[32m [repeated 8x across cluster]\u001b[0m\n",
      " 64%|██████▍   | 146/228 [00:19<00:11,  7.24it/s]\u001b[32m [repeated 235x across cluster]\u001b[0m\n",
      " 92%|█████████▏| 209/228 [00:24<00:02,  8.98it/s]\n",
      " 92%|█████████▏| 210/228 [00:24<00:01,  9.17it/s]\n",
      " 93%|█████████▎| 211/228 [00:25<00:02,  8.49it/s]\n",
      " 93%|█████████▎| 212/228 [00:25<00:01,  8.44it/s]\n",
      " 93%|█████████▎| 213/228 [00:25<00:01,  8.15it/s]\n",
      " 94%|█████████▍| 214/228 [00:25<00:01,  8.30it/s]\n",
      " 94%|█████████▍| 215/228 [00:25<00:01,  8.13it/s]\n",
      " 95%|█████████▍| 216/228 [00:25<00:01,  7.77it/s]\n",
      " 95%|█████████▌| 217/228 [00:25<00:01,  7.98it/s]\n",
      " 96%|█████████▌| 218/228 [00:25<00:01,  8.47it/s]\n",
      " 96%|█████████▌| 219/228 [00:25<00:01,  8.57it/s]\n",
      " 96%|█████████▋| 220/228 [00:26<00:00,  8.64it/s]\n",
      " 39%|███▊      | 88/228 [00:10<00:15,  8.94it/s]\u001b[32m [repeated 9x across cluster]\u001b[0m\n"
     ]
    },
    {
     "name": "stdout",
     "output_type": "stream",
     "text": [
      "\u001b[2m\u001b[36m(DefaultActor pid=92316)\u001b[0m  Training loss for epoch 4: 0.7090710985817408, accuracy: 0.7261513157894737\u001b[32m [repeated 2x across cluster]\u001b[0m\n"
     ]
    },
    {
     "name": "stderr",
     "output_type": "stream",
     "text": [
      " 82%|████████▏ | 188/228 [00:24<00:04,  9.50it/s]\u001b[32m [repeated 247x across cluster]\u001b[0m\n",
      " 97%|█████████▋| 222/228 [00:26<00:00, 12.18it/s]\u001b[32m [repeated 61x across cluster]\u001b[0m\n",
      " 30%|██▉       | 68/228 [00:08<00:16,  9.96it/s]\n",
      " 74%|███████▍  | 169/228 [00:17<00:03, 15.95it/s]\u001b[32m [repeated 86x across cluster]\u001b[0m\n",
      "100%|██████████| 228/228 [00:27<00:00,  8.19it/s]\u001b[32m [repeated 13x across cluster]\u001b[0m\n",
      "  0%|          | 0/228 [00:00<?, ?it/s]\n"
     ]
    },
    {
     "name": "stdout",
     "output_type": "stream",
     "text": [
      "\u001b[2m\u001b[36m(DefaultActor pid=92319)\u001b[0m  Training loss for epoch 0: 0.7472257864449108, accuracy: 0.7135416666666666\u001b[32m [repeated 6x across cluster]\u001b[0m\n"
     ]
    },
    {
     "name": "stderr",
     "output_type": "stream",
     "text": [
      "  9%|▉         | 20/228 [00:01<00:13, 15.70it/s]\u001b[32m [repeated 66x across cluster]\u001b[0m\n",
      "100%|██████████| 228/228 [00:19<00:00, 11.73it/s]\u001b[32m [repeated 21x across cluster]\u001b[0m\n",
      "  0%|          | 0/228 [00:00<?, ?it/s]\n",
      " 45%|████▍     | 102/228 [00:06<00:08, 15.40it/s]\u001b[32m [repeated 75x across cluster]\u001b[0m\n",
      " 81%|████████  | 184/228 [00:11<00:02, 16.37it/s]\u001b[32m [repeated 83x across cluster]\u001b[0m\n",
      " 92%|█████████▏| 210/228 [00:13<00:01, 15.95it/s]\n",
      " 93%|█████████▎| 212/228 [00:13<00:00, 16.13it/s]\n",
      " 94%|█████████▍| 214/228 [00:13<00:00, 15.97it/s]\n",
      " 95%|█████████▍| 216/228 [00:13<00:00, 16.16it/s]\n",
      " 96%|█████████▌| 218/228 [00:14<00:00, 16.18it/s]\n",
      " 96%|█████████▋| 220/228 [00:14<00:00, 16.36it/s]\n",
      " 97%|█████████▋| 222/228 [00:14<00:00, 16.50it/s]\n",
      " 98%|█████████▊| 224/228 [00:14<00:00, 16.50it/s]\n",
      " 99%|█████████▉| 226/228 [00:14<00:00, 16.67it/s]\n",
      "100%|██████████| 228/228 [00:14<00:00, 15.53it/s]\n",
      "  0%|          | 0/228 [00:00<?, ?it/s]\n"
     ]
    },
    {
     "name": "stdout",
     "output_type": "stream",
     "text": [
      "\u001b[2m\u001b[36m(DefaultActor pid=92319)\u001b[0m  Training loss for epoch 1: 0.670918886337364, accuracy: 0.7357456140350878\u001b[32m [repeated 2x across cluster]\u001b[0m\n"
     ]
    },
    {
     "name": "stderr",
     "output_type": "stream",
     "text": [
      " 13%|█▎        | 30/228 [00:01<00:12, 16.21it/s]\u001b[32m [repeated 55x across cluster]\u001b[0m\n",
      "100%|██████████| 228/228 [00:14<00:00, 15.70it/s]\u001b[32m [repeated 10x across cluster]\u001b[0m\n",
      "  0%|          | 0/228 [00:00<?, ?it/s]\n",
      " 50%|█████     | 114/228 [00:06<00:06, 16.38it/s]\u001b[32m [repeated 82x across cluster]\u001b[0m\n",
      " 82%|████████▏ | 188/228 [00:11<00:02, 16.69it/s]\u001b[32m [repeated 74x across cluster]\u001b[0m\n",
      " 92%|█████████▏| 210/228 [00:13<00:01, 15.74it/s]\n",
      " 93%|█████████▎| 212/228 [00:13<00:00, 16.00it/s]\n",
      " 94%|█████████▍| 214/228 [00:13<00:00, 15.89it/s]\n",
      " 95%|█████████▍| 216/228 [00:13<00:00, 16.27it/s]\n",
      " 96%|█████████▌| 218/228 [00:13<00:00, 16.32it/s]\n",
      " 96%|█████████▋| 220/228 [00:13<00:00, 16.49it/s]\n",
      " 97%|█████████▋| 222/228 [00:14<00:00, 16.43it/s]\n",
      " 98%|█████████▊| 224/228 [00:14<00:00, 16.74it/s]\n",
      " 99%|█████████▉| 226/228 [00:14<00:00, 16.57it/s]\n",
      "100%|██████████| 228/228 [00:14<00:00, 15.79it/s]\n",
      "  0%|          | 0/228 [00:00<?, ?it/s]\n"
     ]
    },
    {
     "name": "stdout",
     "output_type": "stream",
     "text": [
      "\u001b[2m\u001b[36m(DefaultActor pid=92319)\u001b[0m  Training loss for epoch 2: 0.6120357875499809, accuracy: 0.7552083333333334\u001b[32m [repeated 2x across cluster]\u001b[0m\n"
     ]
    },
    {
     "name": "stderr",
     "output_type": "stream",
     "text": [
      " 18%|█▊        | 42/228 [00:02<00:11, 16.67it/s]\u001b[32m [repeated 62x across cluster]\u001b[0m\n",
      "100%|██████████| 228/228 [00:14<00:00, 15.69it/s]\u001b[32m [repeated 10x across cluster]\u001b[0m\n",
      "  0%|          | 0/228 [00:00<?, ?it/s]\n",
      " 54%|█████▍    | 124/228 [00:07<00:06, 16.67it/s]\u001b[32m [repeated 82x across cluster]\u001b[0m\n",
      " 89%|████████▉ | 204/228 [00:12<00:01, 16.33it/s]\u001b[32m [repeated 79x across cluster]\u001b[0m\n",
      " 92%|█████████▏| 210/228 [00:13<00:01, 12.16it/s]\n",
      " 93%|█████████▎| 212/228 [00:13<00:01, 13.29it/s]\n",
      " 94%|█████████▍| 214/228 [00:13<00:00, 14.00it/s]\n",
      " 95%|█████████▍| 216/228 [00:13<00:00, 14.54it/s]\n",
      " 96%|█████████▌| 218/228 [00:13<00:00, 14.76it/s]\n",
      " 96%|█████████▋| 220/228 [00:13<00:00, 15.01it/s]\n",
      " 97%|█████████▋| 222/228 [00:13<00:00, 15.33it/s]\n",
      " 98%|█████████▊| 224/228 [00:14<00:00, 15.40it/s]\n",
      " 99%|█████████▉| 226/228 [00:14<00:00, 15.72it/s]\n",
      "100%|██████████| 228/228 [00:14<00:00, 15.87it/s]\n",
      "  0%|          | 0/228 [00:00<?, ?it/s]\n"
     ]
    },
    {
     "name": "stdout",
     "output_type": "stream",
     "text": [
      "\u001b[2m\u001b[36m(DefaultActor pid=92319)\u001b[0m  Training loss for epoch 3: 0.6119498203982386, accuracy: 0.7560307017543859\u001b[32m [repeated 2x across cluster]\u001b[0m\n"
     ]
    },
    {
     "name": "stderr",
     "output_type": "stream",
     "text": [
      " 25%|██▍       | 56/228 [00:03<00:10, 15.91it/s]\u001b[32m [repeated 60x across cluster]\u001b[0m\n",
      "100%|██████████| 228/228 [00:14<00:00, 15.84it/s]\u001b[32m [repeated 10x across cluster]\u001b[0m\n",
      "  0%|          | 0/228 [00:00<?, ?it/s]\n",
      " 59%|█████▉    | 134/228 [00:08<00:05, 15.88it/s]\u001b[32m [repeated 78x across cluster]\u001b[0m\n",
      " 92%|█████████▏| 210/228 [00:13<00:01, 16.19it/s]\n",
      " 93%|█████████▎| 212/228 [00:13<00:00, 16.21it/s]\n",
      " 94%|█████████▍| 214/228 [00:13<00:00, 16.05it/s]\n",
      " 78%|███████▊  | 178/228 [00:11<00:03, 16.54it/s]\u001b[32m [repeated 77x across cluster]\u001b[0m\n",
      " 95%|█████████▍| 216/228 [00:13<00:00, 15.87it/s]\n",
      " 96%|█████████▌| 218/228 [00:13<00:00, 15.95it/s]\n",
      " 96%|█████████▋| 220/228 [00:13<00:00, 15.96it/s]\n",
      " 97%|█████████▋| 222/228 [00:13<00:00, 15.99it/s]\n",
      " 98%|█████████▊| 224/228 [00:14<00:00, 16.00it/s]\n",
      " 99%|█████████▉| 226/228 [00:14<00:00, 15.73it/s]\n",
      "100%|██████████| 228/228 [00:14<00:00, 15.88it/s]\n"
     ]
    },
    {
     "name": "stdout",
     "output_type": "stream",
     "text": [
      "\u001b[2m\u001b[36m(DefaultActor pid=92319)\u001b[0m  Training loss for epoch 4: 0.6436311151636275, accuracy: 0.7587719298245614\u001b[32m [repeated 2x across cluster]\u001b[0m\n"
     ]
    },
    {
     "name": "stderr",
     "output_type": "stream",
     "text": [
      "DEBUG flwr 2023-11-09 12:34:03,173 | server.py:236 | fit_round 10 received 10 results and 0 failures\n",
      "DEBUG:flwr:fit_round 10 received 10 results and 0 failures\n"
     ]
    },
    {
     "name": "stdout",
     "output_type": "stream",
     "text": [
      "Saving round 10 aggregated_parameters...\n",
      "Saved round 10 aggregated_parameters!\n"
     ]
    },
    {
     "name": "stderr",
     "output_type": "stream",
     "text": [
      "INFO flwr 2023-11-09 12:34:03,230 | server.py:171 | evaluate_round 10: no clients selected, cancel\n",
      "INFO:flwr:evaluate_round 10: no clients selected, cancel\n",
      "DEBUG flwr 2023-11-09 12:34:03,230 | server.py:222 | fit_round 11: strategy sampled 10 clients (out of 40)\n",
      "DEBUG:flwr:fit_round 11: strategy sampled 10 clients (out of 40)\n",
      "  0%|          | 0/228 [00:00<?, ?it/s]\n",
      "100%|██████████| 228/228 [00:14<00:00, 15.91it/s]\u001b[32m [repeated 10x across cluster]\u001b[0m\n",
      "  4%|▍         | 10/228 [00:00<00:15, 13.92it/s]\u001b[32m [repeated 20x across cluster]\u001b[0m\n",
      "  0%|          | 0/228 [00:00<?, ?it/s]\u001b[32m [repeated 3x across cluster]\u001b[0m\n",
      "  8%|▊         | 19/228 [00:01<00:19, 10.52it/s]\u001b[32m [repeated 68x across cluster]\u001b[0m\n",
      " 18%|█▊        | 41/228 [00:04<00:21,  8.81it/s]\n",
      "  0%|          | 0/228 [00:00<?, ?it/s]\u001b[32m [repeated 4x across cluster]\u001b[0m\n",
      " 27%|██▋       | 62/228 [00:06<00:21,  7.82it/s]\u001b[32m [repeated 221x across cluster]\u001b[0m\n",
      " 12%|█▏        | 27/228 [00:04<00:23,  8.40it/s]\u001b[32m [repeated 5x across cluster]\u001b[0m\n",
      " 40%|████      | 92/228 [00:11<00:17,  7.88it/s]\u001b[32m [repeated 247x across cluster]\u001b[0m\n",
      " 64%|██████▍   | 147/228 [00:16<00:11,  7.15it/s]\n",
      " 28%|██▊       | 63/228 [00:08<00:19,  8.40it/s]\n",
      " 76%|███████▋  | 174/228 [00:18<00:07,  7.39it/s]\u001b[32m [repeated 19x across cluster]\u001b[0m\n",
      " 57%|█████▋    | 130/228 [00:17<00:13,  7.38it/s]\u001b[32m [repeated 205x across cluster]\u001b[0m\n",
      " 50%|█████     | 115/228 [00:14<00:15,  7.19it/s]\u001b[32m [repeated 13x across cluster]\u001b[0m\n",
      " 92%|█████████▏| 209/228 [00:23<00:02,  8.59it/s]\n",
      " 92%|█████████▏| 210/228 [00:23<00:02,  8.70it/s]\n",
      " 93%|█████████▎| 211/228 [00:23<00:01,  8.66it/s]\n",
      " 93%|█████████▎| 212/228 [00:23<00:01,  8.83it/s]\n",
      " 93%|█████████▎| 213/228 [00:23<00:01,  9.09it/s]\n",
      " 94%|█████████▍| 214/228 [00:23<00:01,  9.07it/s]\n",
      " 94%|█████████▍| 215/228 [00:23<00:01,  8.92it/s]\n",
      " 95%|█████████▍| 216/228 [00:23<00:01,  8.71it/s]\n",
      " 95%|█████████▌| 217/228 [00:24<00:01,  8.90it/s]\n",
      " 96%|█████████▌| 218/228 [00:24<00:01,  9.09it/s]\n",
      " 88%|████████▊ | 200/228 [00:22<00:03,  8.64it/s]\u001b[32m [repeated 9x across cluster]\u001b[0m\n",
      " 96%|█████████▌| 219/228 [00:24<00:00,  9.04it/s]\n",
      " 96%|█████████▋| 220/228 [00:24<00:00,  8.57it/s]\n",
      " 97%|█████████▋| 221/228 [00:24<00:00,  8.56it/s]\n",
      "  0%|          | 0/228 [00:00<?, ?it/s]\n"
     ]
    },
    {
     "name": "stdout",
     "output_type": "stream",
     "text": [
      "\u001b[2m\u001b[36m(DefaultActor pid=92320)\u001b[0m  Training loss for epoch 0: 0.9852795314631964, accuracy: 0.6165021929824561\u001b[32m [repeated 2x across cluster]\u001b[0m\n"
     ]
    },
    {
     "name": "stderr",
     "output_type": "stream",
     "text": [
      " 75%|███████▌  | 171/228 [00:22<00:06,  8.87it/s]\u001b[32m [repeated 284x across cluster]\u001b[0m\n",
      "100%|██████████| 228/228 [00:25<00:00,  8.83it/s]\u001b[32m [repeated 23x across cluster]\u001b[0m\n",
      " 68%|██████▊   | 156/228 [00:20<00:08,  8.13it/s]\u001b[32m [repeated 8x across cluster]\u001b[0m\n",
      "  0%|          | 0/228 [00:00<?, ?it/s]\n",
      " 22%|██▏       | 51/228 [00:05<00:20,  8.79it/s]\u001b[32m [repeated 290x across cluster]\u001b[0m\n",
      "  0%|          | 0/228 [00:00<?, ?it/s]\n"
     ]
    },
    {
     "name": "stdout",
     "output_type": "stream",
     "text": [
      "\u001b[2m\u001b[36m(DefaultActor pid=92314)\u001b[0m  Training loss for epoch 0: 0.9011731994779486, accuracy: 0.618421052631579\u001b[32m [repeated 2x across cluster]\u001b[0m\n"
     ]
    },
    {
     "name": "stderr",
     "output_type": "stream",
     "text": [
      "100%|██████████| 228/228 [00:29<00:00,  7.77it/s]\u001b[32m [repeated 49x across cluster]\u001b[0m\n",
      " 34%|███▍      | 78/228 [00:08<00:16,  9.28it/s]\u001b[32m [repeated 13x across cluster]\u001b[0m\n",
      " 36%|███▌      | 81/228 [00:09<00:16,  9.09it/s]\u001b[32m [repeated 229x across cluster]\u001b[0m\n",
      "  0%|          | 0/228 [00:00<?, ?it/s]\u001b[32m [repeated 4x across cluster]\u001b[0m\n"
     ]
    },
    {
     "name": "stdout",
     "output_type": "stream",
     "text": [
      "\u001b[2m\u001b[36m(DefaultActor pid=92313)\u001b[0m  Training loss for epoch 0: 0.7240636274872119, accuracy: 0.7376644736842105\u001b[32m [repeated 5x across cluster]\u001b[0m\n"
     ]
    },
    {
     "name": "stderr",
     "output_type": "stream",
     "text": [
      "100%|██████████| 228/228 [00:29<00:00,  7.65it/s]\u001b[32m [repeated 65x across cluster]\u001b[0m\n",
      "  5%|▌         | 12/228 [00:01<00:26,  8.01it/s]\u001b[32m [repeated 11x across cluster]\u001b[0m\n",
      " 24%|██▎       | 54/228 [00:07<00:23,  7.48it/s]\u001b[32m [repeated 199x across cluster]\u001b[0m\n",
      "  0%|          | 0/228 [00:00<?, ?it/s]\n",
      " 38%|███▊      | 86/228 [00:11<00:17,  8.32it/s]\u001b[32m [repeated 9x across cluster]\u001b[0m\n",
      " 42%|████▏     | 95/228 [00:12<00:16,  8.07it/s]\u001b[32m [repeated 309x across cluster]\u001b[0m\n",
      " 36%|███▋      | 83/228 [00:11<00:23,  6.10it/s]\u001b[32m [repeated 7x across cluster]\u001b[0m\n",
      " 92%|█████████▏| 209/228 [00:25<00:02,  8.37it/s]\n",
      " 93%|█████████▎| 211/228 [00:25<00:01,  8.66it/s]\n",
      " 93%|█████████▎| 212/228 [00:25<00:01,  8.69it/s]\n",
      " 93%|█████████▎| 213/228 [00:25<00:01,  8.41it/s]\n",
      " 94%|█████████▍| 214/228 [00:25<00:01,  7.97it/s]\n",
      " 94%|█████████▍| 215/228 [00:25<00:01,  8.28it/s]\n",
      " 58%|█████▊    | 133/228 [00:17<00:11,  8.52it/s]\u001b[32m [repeated 267x across cluster]\u001b[0m\n",
      " 95%|█████████▍| 216/228 [00:25<00:01,  8.61it/s]\n",
      " 95%|█████████▌| 217/228 [00:26<00:01,  8.51it/s]\n",
      " 96%|█████████▌| 218/228 [00:26<00:01,  8.68it/s]\n",
      " 96%|█████████▌| 219/228 [00:26<00:01,  8.49it/s]\n",
      " 96%|█████████▋| 220/228 [00:26<00:00,  8.41it/s]\n",
      " 97%|█████████▋| 221/228 [00:26<00:00,  8.82it/s]\n",
      " 97%|█████████▋| 222/228 [00:26<00:00,  8.85it/s]\n",
      "  0%|          | 0/228 [00:00<?, ?it/s]\n"
     ]
    },
    {
     "name": "stdout",
     "output_type": "stream",
     "text": [
      "\u001b[2m\u001b[36m(DefaultActor pid=92320)\u001b[0m  Training loss for epoch 1: 1.1804038371171868, accuracy: 0.5693530701754386\n",
      "\u001b[2m\u001b[36m(DefaultActor pid=92319)\u001b[0m  Training loss for epoch 1: 0.716993340078676, accuracy: 0.7297149122807017\n"
     ]
    },
    {
     "name": "stderr",
     "output_type": "stream",
     "text": [
      " 78%|███████▊  | 177/228 [00:21<00:05,  9.21it/s]\u001b[32m [repeated 10x across cluster]\u001b[0m\n",
      "100%|██████████| 228/228 [00:27<00:00,  8.28it/s]\u001b[32m [repeated 21x across cluster]\u001b[0m\n",
      " 77%|███████▋  | 175/228 [00:23<00:06,  7.93it/s]\u001b[32m [repeated 280x across cluster]\u001b[0m\n",
      "  0%|          | 0/228 [00:00<?, ?it/s]\n",
      " 71%|███████   | 162/228 [00:20<00:07,  8.71it/s]\u001b[32m [repeated 5x across cluster]\u001b[0m\n",
      "  0%|          | 0/228 [00:00<?, ?it/s]\n",
      " 93%|█████████▎| 211/228 [00:27<00:01,  8.54it/s]\u001b[32m [repeated 24x across cluster]\u001b[0m\n"
     ]
    },
    {
     "name": "stdout",
     "output_type": "stream",
     "text": [
      "\u001b[2m\u001b[36m(DefaultActor pid=92314)\u001b[0m  Training loss for epoch 1: 0.9610870307997653, accuracy: 0.6104714912280702\n"
     ]
    },
    {
     "name": "stderr",
     "output_type": "stream",
     "text": [
      "\u001b[2m\u001b[36m(DefaultActor pid=92319)\u001b[0m \r",
      " 27%|██▋       | 61/228 [00:07<00:19,  8.60it/s]\u001b[32m [repeated 274x across cluster]\u001b[0m\n"
     ]
    },
    {
     "name": "stdout",
     "output_type": "stream",
     "text": [
      "\u001b[2m\u001b[36m(DefaultActor pid=92318)\u001b[0m  Training loss for epoch 1: 1.5655575948849059, accuracy: 0.35855263157894735\n"
     ]
    },
    {
     "name": "stderr",
     "output_type": "stream",
     "text": [
      " 91%|█████████ | 208/228 [00:26<00:02,  8.87it/s]\u001b[32m [repeated 3x across cluster]\u001b[0m\n",
      "  0%|          | 0/228 [00:00<?, ?it/s]\u001b[32m [repeated 2x across cluster]\u001b[0m\n",
      " 97%|█████████▋| 222/228 [00:27<00:00,  7.52it/s]\u001b[32m [repeated 51x across cluster]\u001b[0m\n",
      " 16%|█▌        | 36/228 [00:04<00:21,  8.87it/s]\u001b[32m [repeated 246x across cluster]\u001b[0m\n"
     ]
    },
    {
     "name": "stdout",
     "output_type": "stream",
     "text": [
      "\u001b[2m\u001b[36m(DefaultActor pid=92313)\u001b[0m  Training loss for epoch 1: 0.6795948221625989, accuracy: 0.7609649122807017\u001b[32m [repeated 4x across cluster]\u001b[0m\n"
     ]
    },
    {
     "name": "stderr",
     "output_type": "stream",
     "text": [
      " 29%|██▉       | 67/228 [00:07<00:17,  9.05it/s]\u001b[32m [repeated 8x across cluster]\u001b[0m\n",
      "  0%|          | 0/228 [00:00<?, ?it/s]\u001b[32m [repeated 3x across cluster]\u001b[0m\n",
      "100%|██████████| 228/228 [00:29<00:00,  7.68it/s]\u001b[32m [repeated 31x across cluster]\u001b[0m\n",
      " 32%|███▏      | 74/228 [00:08<00:17,  8.58it/s]\u001b[32m [repeated 255x across cluster]\u001b[0m\n",
      " 46%|████▋     | 106/228 [00:12<00:13,  9.06it/s]\u001b[32m [repeated 7x across cluster]\u001b[0m\n",
      " 44%|████▍     | 101/228 [00:13<00:16,  7.60it/s]\u001b[32m [repeated 303x across cluster]\u001b[0m\n",
      " 92%|█████████▏| 209/228 [00:24<00:02,  8.78it/s]\n",
      " 92%|█████████▏| 210/228 [00:24<00:02,  8.55it/s]\n",
      " 93%|█████████▎| 211/228 [00:24<00:01,  8.66it/s]\n",
      " 93%|█████████▎| 212/228 [00:25<00:01,  8.97it/s]\n",
      " 93%|█████████▎| 213/228 [00:25<00:01,  8.46it/s]\n",
      " 94%|█████████▍| 214/228 [00:25<00:01,  8.70it/s]\n",
      " 95%|█████████▍| 216/228 [00:25<00:01,  9.16it/s]\n",
      " 95%|█████████▌| 217/228 [00:25<00:01,  8.82it/s]\n",
      " 96%|█████████▌| 218/228 [00:25<00:01,  9.04it/s]\n",
      " 96%|█████████▌| 219/228 [00:25<00:01,  8.91it/s]\n",
      " 97%|█████████▋| 221/228 [00:26<00:00,  9.23it/s]\n",
      "  0%|          | 0/228 [00:00<?, ?it/s]\n",
      " 58%|█████▊    | 132/228 [00:15<00:10,  8.97it/s]\u001b[32m [repeated 2x across cluster]\u001b[0m\n"
     ]
    },
    {
     "name": "stdout",
     "output_type": "stream",
     "text": [
      "\u001b[2m\u001b[36m(DefaultActor pid=92320)\u001b[0m  Training loss for epoch 2: 1.076480962989623, accuracy: 0.5764802631578947\n"
     ]
    },
    {
     "name": "stderr",
     "output_type": "stream",
     "text": [
      "\u001b[2m\u001b[36m(DefaultActor pid=92317)\u001b[0m \r",
      " 60%|██████    | 137/228 [00:18<00:11,  8.01it/s]\u001b[32m [repeated 254x across cluster]\u001b[0m\n"
     ]
    },
    {
     "name": "stdout",
     "output_type": "stream",
     "text": [
      "\u001b[2m\u001b[36m(DefaultActor pid=92319)\u001b[0m  Training loss for epoch 2: 0.7284906603918787, accuracy: 0.7308114035087719\n"
     ]
    },
    {
     "name": "stderr",
     "output_type": "stream",
     "text": [
      "100%|██████████| 228/228 [00:27<00:00,  8.39it/s]\u001b[32m [repeated 22x across cluster]\u001b[0m\n",
      "  0%|          | 0/228 [00:00<?, ?it/s]\n",
      " 86%|████████▌ | 195/228 [00:23<00:03,  8.71it/s]\u001b[32m [repeated 7x across cluster]\u001b[0m\n",
      " 78%|███████▊  | 177/228 [00:23<00:07,  7.06it/s]\u001b[32m [repeated 310x across cluster]\u001b[0m\n",
      " 93%|█████████▎| 211/228 [00:25<00:01,  8.92it/s]\u001b[32m [repeated 16x across cluster]\u001b[0m\n"
     ]
    },
    {
     "name": "stdout",
     "output_type": "stream",
     "text": [
      "\u001b[2m\u001b[36m(DefaultActor pid=92314)\u001b[0m  Training loss for epoch 2: 1.390227113376584, accuracy: 0.5191885964912281\n"
     ]
    },
    {
     "name": "stderr",
     "output_type": "stream",
     "text": [
      "\u001b[2m\u001b[36m(DefaultActor pid=92314)\u001b[0m \r",
      "  0%|          | 0/228 [00:00<?, ?it/s]\n"
     ]
    },
    {
     "name": "stdout",
     "output_type": "stream",
     "text": [
      "\u001b[2m\u001b[36m(DefaultActor pid=92318)\u001b[0m  Training loss for epoch 2: 1.5559009120129703, accuracy: 0.35773026315789475\n"
     ]
    },
    {
     "name": "stderr",
     "output_type": "stream",
     "text": [
      " 28%|██▊       | 64/228 [00:07<00:18,  8.78it/s]\u001b[32m [repeated 5x across cluster]\u001b[0m\n",
      " 43%|████▎     | 99/228 [00:11<00:13,  9.33it/s]\u001b[32m [repeated 271x across cluster]\u001b[0m\n",
      " 98%|█████████▊| 224/228 [00:29<00:00,  7.95it/s]\u001b[32m [repeated 42x across cluster]\u001b[0m\n",
      "  0%|          | 0/228 [00:00<?, ?it/s]\n",
      "  0%|          | 0/228 [00:00<?, ?it/s]\n",
      " 57%|█████▋    | 130/228 [00:15<00:10,  9.06it/s]\u001b[32m [repeated 8x across cluster]\u001b[0m\n"
     ]
    },
    {
     "name": "stdout",
     "output_type": "stream",
     "text": [
      "\u001b[2m\u001b[36m(DefaultActor pid=92315)\u001b[0m  Training loss for epoch 2: 0.6400101060015068, accuracy: 0.7749451754385965\u001b[32m [repeated 3x across cluster]\u001b[0m\n"
     ]
    },
    {
     "name": "stderr",
     "output_type": "stream",
     "text": [
      " 13%|█▎        | 29/228 [00:03<00:24,  8.01it/s]\u001b[32m [repeated 239x across cluster]\u001b[0m\n",
      "100%|██████████| 228/228 [00:29<00:00,  7.76it/s]\u001b[32m [repeated 55x across cluster]\u001b[0m\n",
      "  0%|          | 0/228 [00:00<?, ?it/s]\u001b[32m [repeated 3x across cluster]\u001b[0m\n",
      " 43%|████▎     | 99/228 [00:12<00:16,  7.78it/s]\u001b[32m [repeated 7x across cluster]\u001b[0m\n",
      " 29%|██▉       | 66/228 [00:08<00:19,  8.12it/s]\u001b[32m [repeated 282x across cluster]\u001b[0m\n",
      " 92%|█████████▏| 209/228 [00:24<00:02,  9.17it/s]\n",
      " 92%|█████████▏| 210/228 [00:24<00:01,  9.34it/s]\n",
      " 93%|█████████▎| 212/228 [00:24<00:01,  9.24it/s]\n",
      " 93%|█████████▎| 213/228 [00:24<00:01,  9.05it/s]\n",
      " 94%|█████████▍| 214/228 [00:25<00:01,  9.12it/s]\n",
      " 94%|█████████▍| 215/228 [00:25<00:01,  8.94it/s]\n",
      " 95%|█████████▍| 216/228 [00:25<00:01,  8.84it/s]\n",
      " 60%|█████▉    | 136/228 [00:16<00:09,  9.24it/s]\u001b[32m [repeated 10x across cluster]\u001b[0m\n",
      " 96%|█████████▌| 218/228 [00:25<00:01,  9.11it/s]\n",
      " 96%|█████████▌| 219/228 [00:25<00:00,  9.15it/s]\n",
      "  0%|          | 0/228 [00:00<?, ?it/s]\n",
      " 46%|████▋     | 106/228 [00:13<00:15,  7.93it/s]\u001b[32m [repeated 272x across cluster]\u001b[0m\n"
     ]
    },
    {
     "name": "stdout",
     "output_type": "stream",
     "text": [
      "\u001b[2m\u001b[36m(DefaultActor pid=92320)\u001b[0m  Training loss for epoch 3: 1.0243907255823153, accuracy: 0.6006030701754386\u001b[32m [repeated 2x across cluster]\u001b[0m\n"
     ]
    },
    {
     "name": "stderr",
     "output_type": "stream",
     "text": [
      "100%|██████████| 228/228 [00:26<00:00,  8.61it/s]\u001b[32m [repeated 27x across cluster]\u001b[0m\n",
      " 43%|████▎     | 97/228 [00:12<00:15,  8.19it/s]\u001b[32m [repeated 7x across cluster]\u001b[0m\n",
      "  0%|          | 0/228 [00:00<?, ?it/s]\n",
      " 62%|██████▏   | 142/228 [00:18<00:10,  8.28it/s]\u001b[32m [repeated 265x across cluster]\u001b[0m\n",
      " 96%|█████████▌| 219/228 [00:26<00:01,  8.80it/s]\u001b[32m [repeated 11x across cluster]\u001b[0m\n",
      " 29%|██▉       | 67/228 [00:08<00:16,  9.60it/s]\u001b[32m [repeated 8x across cluster]\u001b[0m\n",
      "  0%|          | 0/228 [00:00<?, ?it/s]\n"
     ]
    },
    {
     "name": "stdout",
     "output_type": "stream",
     "text": [
      "\u001b[2m\u001b[36m(DefaultActor pid=92314)\u001b[0m  Training loss for epoch 3: 1.0281497412606289, accuracy: 0.6019736842105263\u001b[32m [repeated 2x across cluster]\u001b[0m\n"
     ]
    },
    {
     "name": "stderr",
     "output_type": "stream",
     "text": [
      " 80%|████████  | 183/228 [00:23<00:05,  8.05it/s]\u001b[32m [repeated 271x across cluster]\u001b[0m\n",
      " 92%|█████████▏| 209/228 [00:25<00:02,  8.42it/s]\u001b[32m [repeated 26x across cluster]\u001b[0m\n",
      " 18%|█▊        | 40/228 [00:04<00:22,  8.36it/s]\u001b[32m [repeated 7x across cluster]\u001b[0m\n",
      "  0%|          | 0/228 [00:00<?, ?it/s]\n"
     ]
    },
    {
     "name": "stdout",
     "output_type": "stream",
     "text": [
      "\u001b[2m\u001b[36m(DefaultActor pid=92316)\u001b[0m  Training loss for epoch 3: 0.6103597414728842, accuracy: 0.7741228070175439\u001b[32m [repeated 2x across cluster]\u001b[0m\n"
     ]
    },
    {
     "name": "stderr",
     "output_type": "stream",
     "text": [
      "  0%|          | 0/228 [00:00<?, ?it/s]\n",
      " 86%|████████▋ | 197/228 [00:25<00:03,  7.78it/s]\u001b[32m [repeated 270x across cluster]\u001b[0m\n",
      " 96%|█████████▋| 220/228 [00:28<00:00,  8.18it/s]\u001b[32m [repeated 51x across cluster]\u001b[0m\n",
      " 29%|██▊       | 65/228 [00:07<00:18,  8.78it/s]\u001b[32m [repeated 8x across cluster]\u001b[0m\n",
      "  0%|          | 0/228 [00:00<?, ?it/s]\u001b[32m [repeated 3x across cluster]\u001b[0m\n",
      " 16%|█▌        | 37/228 [00:04<00:23,  8.29it/s]\u001b[32m [repeated 266x across cluster]\u001b[0m\n",
      "100%|██████████| 228/228 [00:29<00:00,  7.70it/s]\u001b[32m [repeated 24x across cluster]\u001b[0m\n",
      " 54%|█████▍    | 124/228 [00:15<00:12,  8.17it/s]\u001b[32m [repeated 6x across cluster]\u001b[0m\n",
      " 32%|███▏      | 72/228 [00:09<00:20,  7.65it/s]\u001b[32m [repeated 268x across cluster]\u001b[0m\n"
     ]
    },
    {
     "name": "stdout",
     "output_type": "stream",
     "text": [
      "\u001b[2m\u001b[36m(DefaultActor pid=92320)\u001b[0m  Training loss for epoch 4: 0.9818501948264607, accuracy: 0.6069078947368421\u001b[32m [repeated 4x across cluster]\u001b[0m\n"
     ]
    },
    {
     "name": "stderr",
     "output_type": "stream",
     "text": [
      " 98%|█████████▊| 224/228 [00:26<00:00,  8.80it/s]\u001b[32m [repeated 28x across cluster]\u001b[0m\n",
      " 49%|████▊     | 111/228 [00:13<00:12,  9.15it/s]\u001b[32m [repeated 5x across cluster]\u001b[0m\n",
      "  0%|          | 0/228 [00:00<?, ?it/s]\n",
      " 50%|████▉     | 113/228 [00:14<00:15,  7.26it/s]\u001b[32m [repeated 235x across cluster]\u001b[0m\n",
      "100%|██████████| 228/228 [00:27<00:00,  8.36it/s]\u001b[32m [repeated 4x across cluster]\u001b[0m\n",
      " 65%|██████▍   | 148/228 [00:19<00:13,  6.15it/s]\u001b[32m [repeated 8x across cluster]\u001b[0m\n",
      "  0%|          | 0/228 [00:00<?, ?it/s]\n",
      " 63%|██████▎   | 144/228 [00:19<00:10,  7.86it/s]\u001b[32m [repeated 219x across cluster]\u001b[0m\n"
     ]
    },
    {
     "name": "stdout",
     "output_type": "stream",
     "text": [
      "\u001b[2m\u001b[36m(DefaultActor pid=92314)\u001b[0m  Training loss for epoch 4: 1.0673746009144867, accuracy: 0.5783991228070176\u001b[32m [repeated 2x across cluster]\u001b[0m\n"
     ]
    },
    {
     "name": "stderr",
     "output_type": "stream",
     "text": [
      "100%|██████████| 228/228 [00:27<00:00,  8.27it/s]\u001b[32m [repeated 34x across cluster]\u001b[0m\n",
      " 59%|█████▉    | 135/228 [00:18<00:10,  9.17it/s]\u001b[32m [repeated 6x across cluster]\u001b[0m\n",
      " 84%|████████▍ | 191/228 [00:24<00:03,  9.86it/s]\u001b[32m [repeated 188x across cluster]\u001b[0m\n"
     ]
    },
    {
     "name": "stdout",
     "output_type": "stream",
     "text": [
      "\u001b[2m\u001b[36m(DefaultActor pid=92316)\u001b[0m  Training loss for epoch 4: 0.5891131759996999, accuracy: 0.7845394736842105\u001b[32m [repeated 2x across cluster]\u001b[0m\n"
     ]
    },
    {
     "name": "stderr",
     "output_type": "stream",
     "text": [
      " 98%|█████████▊| 223/228 [00:27<00:00, 11.08it/s]\u001b[32m [repeated 18x across cluster]\u001b[0m\n",
      " 59%|█████▉    | 135/228 [00:13<00:06, 13.30it/s]\u001b[32m [repeated 118x across cluster]\u001b[0m\n",
      "100%|██████████| 228/228 [00:26<00:00,  8.51it/s]\u001b[32m [repeated 24x across cluster]\u001b[0m\n",
      "  0%|          | 0/228 [00:00<?, ?it/s]\n"
     ]
    },
    {
     "name": "stdout",
     "output_type": "stream",
     "text": [
      "\u001b[2m\u001b[36m(DefaultActor pid=92320)\u001b[0m  Training loss for epoch 0: 1.018111463440092, accuracy: 0.6030701754385965\u001b[32m [repeated 4x across cluster]\u001b[0m\n"
     ]
    },
    {
     "name": "stderr",
     "output_type": "stream",
     "text": [
      "  1%|          | 2/228 [00:00<00:13, 17.01it/s]\u001b[32m [repeated 66x across cluster]\u001b[0m\n",
      "100%|██████████| 228/228 [00:19<00:00, 11.64it/s]\u001b[32m [repeated 21x across cluster]\u001b[0m\n",
      "  0%|          | 0/228 [00:00<?, ?it/s]\n",
      " 26%|██▋       | 60/228 [00:04<00:10, 16.02it/s]\u001b[32m [repeated 68x across cluster]\u001b[0m\n",
      " 71%|███████   | 162/228 [00:10<00:04, 16.49it/s]\u001b[32m [repeated 83x across cluster]\u001b[0m\n",
      " 92%|█████████▏| 210/228 [00:13<00:01, 15.55it/s]\n",
      " 93%|█████████▎| 212/228 [00:13<00:00, 16.09it/s]\n",
      " 94%|█████████▍| 214/228 [00:13<00:00, 16.26it/s]\n",
      " 95%|█████████▍| 216/228 [00:14<00:00, 16.36it/s]\n",
      " 96%|█████████▌| 218/228 [00:14<00:00, 16.47it/s]\n",
      " 96%|█████████▋| 220/228 [00:14<00:00, 16.55it/s]\n",
      " 97%|█████████▋| 222/228 [00:14<00:00, 16.56it/s]\n",
      " 98%|█████████▊| 224/228 [00:14<00:00, 16.33it/s]\n",
      " 99%|█████████▉| 226/228 [00:14<00:00, 16.10it/s]\n",
      "  0%|          | 0/228 [00:00<?, ?it/s]\n"
     ]
    },
    {
     "name": "stdout",
     "output_type": "stream",
     "text": [
      "\u001b[2m\u001b[36m(DefaultActor pid=92320)\u001b[0m  Training loss for epoch 1: 0.9351987966842819, accuracy: 0.6192434210526315\u001b[32m [repeated 2x across cluster]\u001b[0m\n"
     ]
    },
    {
     "name": "stderr",
     "output_type": "stream",
     "text": [
      "  3%|▎         | 6/228 [00:00<00:16, 13.63it/s]\u001b[32m [repeated 59x across cluster]\u001b[0m\n",
      "100%|██████████| 228/228 [00:15<00:00, 15.13it/s]\u001b[32m [repeated 11x across cluster]\u001b[0m\n",
      "  0%|          | 0/228 [00:00<?, ?it/s]\n",
      " 32%|███▏      | 74/228 [00:04<00:08, 17.54it/s]\u001b[32m [repeated 80x across cluster]\u001b[0m\n",
      " 69%|██████▉   | 158/228 [00:09<00:04, 16.88it/s]\u001b[32m [repeated 85x across cluster]\u001b[0m\n",
      " 92%|█████████▏| 210/228 [00:12<00:01, 17.05it/s]\n",
      " 93%|█████████▎| 212/228 [00:12<00:00, 17.13it/s]\n",
      " 94%|█████████▍| 214/228 [00:12<00:00, 16.69it/s]\n",
      " 95%|█████████▍| 216/228 [00:12<00:00, 15.99it/s]\n",
      " 96%|█████████▌| 218/228 [00:13<00:00, 16.40it/s]\n",
      " 96%|█████████▋| 220/228 [00:13<00:00, 16.79it/s]\n",
      " 97%|█████████▋| 222/228 [00:13<00:00, 16.71it/s]\n",
      " 98%|█████████▊| 224/228 [00:13<00:00, 16.63it/s]\n",
      " 99%|█████████▉| 226/228 [00:13<00:00, 16.89it/s]\n",
      "100%|██████████| 228/228 [00:13<00:00, 16.77it/s]\n",
      "  0%|          | 0/228 [00:00<?, ?it/s]\n"
     ]
    },
    {
     "name": "stdout",
     "output_type": "stream",
     "text": [
      "\u001b[2m\u001b[36m(DefaultActor pid=92320)\u001b[0m  Training loss for epoch 2: 0.9219172599545696, accuracy: 0.634046052631579\u001b[32m [repeated 2x across cluster]\u001b[0m\n"
     ]
    },
    {
     "name": "stderr",
     "output_type": "stream",
     "text": [
      "  6%|▌         | 14/228 [00:00<00:12, 16.67it/s]\u001b[32m [repeated 65x across cluster]\u001b[0m\n",
      "100%|██████████| 228/228 [00:13<00:00, 16.67it/s]\u001b[32m [repeated 10x across cluster]\u001b[0m\n",
      "  0%|          | 0/228 [00:00<?, ?it/s]\n",
      " 50%|█████     | 114/228 [00:07<00:06, 16.48it/s]\u001b[32m [repeated 76x across cluster]\u001b[0m\n",
      " 75%|███████▌  | 172/228 [00:10<00:03, 16.38it/s]\u001b[32m [repeated 83x across cluster]\u001b[0m\n",
      " 92%|█████████▏| 210/228 [00:13<00:01, 16.39it/s]\n",
      " 93%|█████████▎| 212/228 [00:13<00:00, 16.62it/s]\n",
      " 94%|█████████▍| 214/228 [00:13<00:00, 16.71it/s]\n",
      " 95%|█████████▍| 216/228 [00:13<00:00, 16.83it/s]\n",
      " 96%|█████████▌| 218/228 [00:13<00:00, 16.84it/s]\n",
      " 96%|█████████▋| 220/228 [00:13<00:00, 16.59it/s]\n",
      " 97%|█████████▋| 222/228 [00:14<00:00,  8.91it/s]\n",
      " 98%|█████████▊| 224/228 [00:14<00:00, 10.42it/s]\n",
      " 99%|█████████▉| 226/228 [00:14<00:00, 11.74it/s]\n",
      "100%|██████████| 228/228 [00:14<00:00, 15.74it/s]\n",
      "  0%|          | 0/228 [00:00<?, ?it/s]\n"
     ]
    },
    {
     "name": "stdout",
     "output_type": "stream",
     "text": [
      "\u001b[2m\u001b[36m(DefaultActor pid=92320)\u001b[0m  Training loss for epoch 3: 0.928508364186998, accuracy: 0.6291118421052632\u001b[32m [repeated 2x across cluster]\u001b[0m\n"
     ]
    },
    {
     "name": "stderr",
     "output_type": "stream",
     "text": [
      " 21%|██        | 48/228 [00:02<00:10, 16.51it/s]\u001b[32m [repeated 59x across cluster]\u001b[0m\n",
      "100%|██████████| 228/228 [00:14<00:00, 15.60it/s]\u001b[32m [repeated 10x across cluster]\u001b[0m\n",
      "  0%|          | 0/228 [00:00<?, ?it/s]\n",
      " 46%|████▋     | 106/228 [00:06<00:07, 16.44it/s]\u001b[32m [repeated 84x across cluster]\u001b[0m\n",
      " 92%|█████████▏| 210/228 [00:12<00:01, 16.84it/s]\n",
      " 93%|█████████▎| 212/228 [00:12<00:00, 17.09it/s]\n",
      " 94%|█████████▍| 214/228 [00:12<00:00, 17.11it/s]\n",
      " 95%|█████████▍| 216/228 [00:12<00:00, 16.99it/s]\n",
      " 96%|█████████▌| 218/228 [00:12<00:00, 16.97it/s]\n",
      " 84%|████████▍ | 192/228 [00:11<00:02, 16.68it/s]\u001b[32m [repeated 81x across cluster]\u001b[0m\n",
      " 96%|█████████▋| 220/228 [00:13<00:00, 16.98it/s]\n",
      " 97%|█████████▋| 222/228 [00:13<00:00, 16.72it/s]\n",
      " 98%|█████████▊| 224/228 [00:13<00:00, 16.79it/s]\n",
      " 99%|█████████▉| 226/228 [00:13<00:00, 16.71it/s]\n",
      "100%|██████████| 228/228 [00:13<00:00, 16.85it/s]\n"
     ]
    },
    {
     "name": "stdout",
     "output_type": "stream",
     "text": [
      "\u001b[2m\u001b[36m(DefaultActor pid=92320)\u001b[0m  Training loss for epoch 4: 0.939954838208985, accuracy: 0.6230811403508771\u001b[32m [repeated 2x across cluster]\u001b[0m\n"
     ]
    },
    {
     "name": "stderr",
     "output_type": "stream",
     "text": [
      "DEBUG flwr 2023-11-09 12:37:39,591 | server.py:236 | fit_round 11 received 10 results and 0 failures\n",
      "DEBUG:flwr:fit_round 11 received 10 results and 0 failures\n"
     ]
    },
    {
     "name": "stdout",
     "output_type": "stream",
     "text": [
      "Saving round 11 aggregated_parameters...\n",
      "Saved round 11 aggregated_parameters!\n"
     ]
    },
    {
     "name": "stderr",
     "output_type": "stream",
     "text": [
      "INFO flwr 2023-11-09 12:37:39,660 | server.py:171 | evaluate_round 11: no clients selected, cancel\n",
      "INFO:flwr:evaluate_round 11: no clients selected, cancel\n",
      "DEBUG flwr 2023-11-09 12:37:39,660 | server.py:222 | fit_round 12: strategy sampled 10 clients (out of 40)\n",
      "DEBUG:flwr:fit_round 12: strategy sampled 10 clients (out of 40)\n",
      "  0%|          | 0/228 [00:00<?, ?it/s]\n",
      "100%|██████████| 228/228 [00:13<00:00, 16.82it/s]\u001b[32m [repeated 10x across cluster]\u001b[0m\n",
      "  8%|▊         | 18/228 [00:01<00:14, 14.67it/s]\u001b[32m [repeated 17x across cluster]\u001b[0m\n",
      "  0%|          | 0/228 [00:00<?, ?it/s]\u001b[32m [repeated 3x across cluster]\u001b[0m\n",
      "  4%|▎         | 8/228 [00:00<00:20, 10.72it/s]\u001b[32m [repeated 88x across cluster]\u001b[0m\n",
      "  0%|          | 0/228 [00:00<?, ?it/s]\u001b[32m [repeated 3x across cluster]\u001b[0m\n",
      " 42%|████▏     | 96/228 [00:09<00:14,  9.25it/s]\n",
      " 23%|██▎       | 52/228 [00:05<00:26,  6.69it/s]\u001b[32m [repeated 180x across cluster]\u001b[0m\n",
      "  0%|          | 0/228 [00:00<?, ?it/s]\n",
      " 56%|█████▌    | 127/228 [00:13<00:12,  8.05it/s]\u001b[32m [repeated 11x across cluster]\u001b[0m\n",
      " 37%|███▋      | 84/228 [00:10<00:18,  7.79it/s]\u001b[32m [repeated 241x across cluster]\u001b[0m\n",
      " 39%|███▊      | 88/228 [00:11<00:15,  8.83it/s]\u001b[32m [repeated 7x across cluster]\u001b[0m\n",
      " 54%|█████▍    | 124/228 [00:15<00:13,  7.70it/s]\u001b[32m [repeated 305x across cluster]\u001b[0m\n",
      " 92%|█████████▏| 210/228 [00:22<00:01,  9.35it/s]\n",
      " 93%|█████████▎| 211/228 [00:22<00:01,  9.29it/s]\n",
      " 93%|█████████▎| 212/228 [00:22<00:01,  9.23it/s]\n",
      " 93%|█████████▎| 213/228 [00:22<00:01,  9.15it/s]\n",
      " 94%|█████████▍| 214/228 [00:22<00:01,  8.46it/s]\n",
      " 94%|█████████▍| 215/228 [00:22<00:01,  8.80it/s]\n",
      " 95%|█████████▍| 216/228 [00:22<00:01,  9.07it/s]\n",
      " 95%|█████████▌| 217/228 [00:22<00:01,  9.27it/s]\n",
      " 96%|█████████▌| 218/228 [00:23<00:01,  8.90it/s]\n",
      " 96%|█████████▌| 219/228 [00:23<00:01,  8.48it/s]\n",
      " 96%|█████████▋| 220/228 [00:23<00:00,  8.75it/s]\n",
      " 97%|█████████▋| 221/228 [00:23<00:00,  8.64it/s]\n",
      " 97%|█████████▋| 222/228 [00:23<00:00,  8.99it/s]\n",
      " 98%|█████████▊| 223/228 [00:23<00:00,  8.27it/s]\n",
      " 99%|█████████▊| 225/228 [00:23<00:00,  8.96it/s]\n",
      " 99%|█████████▉| 226/228 [00:24<00:00,  8.69it/s]\n",
      "100%|█████████▉| 227/228 [00:24<00:00,  8.78it/s]\n",
      "100%|██████████| 228/228 [00:24<00:00,  9.41it/s]\n",
      "  0%|          | 0/228 [00:00<?, ?it/s]\n"
     ]
    },
    {
     "name": "stdout",
     "output_type": "stream",
     "text": [
      "\u001b[2m\u001b[36m(DefaultActor pid=92319)\u001b[0m  Training loss for epoch 0: 1.1014987964902008, accuracy: 0.5649671052631579\u001b[32m [repeated 2x across cluster]\u001b[0m\n"
     ]
    },
    {
     "name": "stderr",
     "output_type": "stream",
     "text": [
      " 58%|█████▊    | 133/228 [00:16<00:10,  8.85it/s]\u001b[32m [repeated 12x across cluster]\u001b[0m\n",
      " 71%|███████   | 162/228 [00:21<00:08,  7.44it/s]\u001b[32m [repeated 256x across cluster]\u001b[0m\n",
      "100%|██████████| 228/228 [00:25<00:00,  8.90it/s]\u001b[32m [repeated 15x across cluster]\u001b[0m\n",
      "  0%|          | 0/228 [00:00<?, ?it/s]\n"
     ]
    },
    {
     "name": "stdout",
     "output_type": "stream",
     "text": [
      "\u001b[2m\u001b[36m(DefaultActor pid=92313)\u001b[0m  Training loss for epoch 0: 1.0395642257573312, accuracy: 0.5912828947368421\u001b[32m [repeated 2x across cluster]\u001b[0m\n"
     ]
    },
    {
     "name": "stderr",
     "output_type": "stream",
     "text": [
      "  0%|          | 0/228 [00:00<?, ?it/s]\n",
      " 65%|██████▌   | 149/228 [00:18<00:09,  8.25it/s]\u001b[32m [repeated 10x across cluster]\u001b[0m\n",
      " 89%|████████▊ | 202/228 [00:26<00:03,  8.22it/s]\u001b[32m [repeated 281x across cluster]\u001b[0m\n",
      " 96%|█████████▌| 218/228 [00:27<00:01,  7.55it/s]\u001b[32m [repeated 30x across cluster]\u001b[0m\n",
      "  0%|          | 0/228 [00:00<?, ?it/s]\u001b[32m [repeated 2x across cluster]\u001b[0m\n",
      " 84%|████████▍ | 192/228 [00:23<00:04,  8.21it/s]\u001b[32m [repeated 7x across cluster]\u001b[0m\n"
     ]
    },
    {
     "name": "stdout",
     "output_type": "stream",
     "text": [
      "\u001b[2m\u001b[36m(DefaultActor pid=92316)\u001b[0m  Training loss for epoch 0: 0.9292671571959529, accuracy: 0.6326754385964912\u001b[32m [repeated 3x across cluster]\u001b[0m\n"
     ]
    },
    {
     "name": "stderr",
     "output_type": "stream",
     "text": [
      " 91%|█████████ | 207/228 [00:26<00:02,  8.23it/s]\u001b[32m [repeated 255x across cluster]\u001b[0m\n",
      " 93%|█████████▎| 212/228 [00:27<00:01,  8.29it/s]\u001b[32m [repeated 51x across cluster]\u001b[0m\n",
      "  0%|          | 0/228 [00:00<?, ?it/s]\u001b[32m [repeated 3x across cluster]\u001b[0m\n",
      " 13%|█▎        | 29/228 [00:03<00:22,  8.83it/s]\u001b[32m [repeated 4x across cluster]\u001b[0m\n",
      " 65%|██████▍   | 148/228 [00:17<00:10,  7.55it/s]\u001b[32m [repeated 239x across cluster]\u001b[0m\n",
      "100%|██████████| 228/228 [00:28<00:00,  8.06it/s]\u001b[32m [repeated 32x across cluster]\u001b[0m\n",
      " 17%|█▋        | 39/228 [00:05<00:22,  8.46it/s]\u001b[32m [repeated 7x across cluster]\u001b[0m\n",
      " 40%|███▉      | 91/228 [00:11<00:17,  8.06it/s]\u001b[32m [repeated 301x across cluster]\u001b[0m\n",
      " 92%|█████████▏| 209/228 [00:24<00:02,  9.28it/s]\n",
      " 93%|█████████▎| 211/228 [00:24<00:01,  8.99it/s]\n",
      " 93%|█████████▎| 212/228 [00:24<00:01,  9.12it/s]\n",
      " 93%|█████████▎| 213/228 [00:24<00:01,  8.73it/s]\n",
      " 94%|█████████▍| 214/228 [00:25<00:01,  8.70it/s]\n",
      " 94%|█████████▍| 215/228 [00:25<00:01,  8.71it/s]\n",
      " 95%|█████████▍| 216/228 [00:25<00:01,  8.69it/s]\n",
      " 96%|█████████▌| 218/228 [00:25<00:01,  9.05it/s]\n",
      " 96%|█████████▌| 219/228 [00:25<00:01,  8.55it/s]\n",
      " 96%|█████████▋| 220/228 [00:25<00:00,  8.46it/s]\n",
      " 97%|█████████▋| 221/228 [00:25<00:00,  8.34it/s]\n",
      " 97%|█████████▋| 222/228 [00:25<00:00,  8.53it/s]\n",
      " 98%|█████████▊| 223/228 [00:26<00:01,  4.01it/s]\n",
      " 80%|████████  | 183/228 [00:22<00:05,  7.97it/s]\u001b[32m [repeated 9x across cluster]\u001b[0m\n",
      " 98%|█████████▊| 224/228 [00:26<00:00,  4.76it/s]\n",
      " 99%|█████████▊| 225/228 [00:26<00:00,  5.51it/s]\n",
      " 99%|█████████▉| 226/228 [00:26<00:00,  6.12it/s]\n",
      "100%|█████████▉| 227/228 [00:27<00:00,  6.74it/s]\n",
      "100%|██████████| 228/228 [00:27<00:00,  8.39it/s]\n",
      "  0%|          | 0/228 [00:00<?, ?it/s]\n"
     ]
    },
    {
     "name": "stdout",
     "output_type": "stream",
     "text": [
      "\u001b[2m\u001b[36m(DefaultActor pid=92319)\u001b[0m  Training loss for epoch 1: 1.052511245665843, accuracy: 0.5855263157894737\u001b[32m [repeated 3x across cluster]\u001b[0m\n"
     ]
    },
    {
     "name": "stderr",
     "output_type": "stream",
     "text": [
      " 41%|████      | 93/228 [00:12<00:19,  6.77it/s]\u001b[32m [repeated 249x across cluster]\u001b[0m\n",
      " 94%|█████████▍| 215/228 [00:26<00:01,  8.03it/s]\u001b[32m [repeated 7x across cluster]\u001b[0m\n",
      "  0%|          | 1/228 [00:00<00:23,  9.48it/s]\n",
      " 37%|███▋      | 84/228 [00:11<00:30,  4.66it/s]\n",
      " 54%|█████▍    | 123/228 [00:16<00:13,  8.02it/s]\n",
      " 71%|███████   | 162/228 [00:21<00:08,  7.70it/s]\u001b[32m [repeated 278x across cluster]\u001b[0m\n",
      " 96%|█████████▌| 219/228 [00:28<00:01,  7.67it/s]\u001b[32m [repeated 24x across cluster]\u001b[0m\n"
     ]
    },
    {
     "name": "stdout",
     "output_type": "stream",
     "text": [
      "\u001b[2m\u001b[36m(DefaultActor pid=92313)\u001b[0m  Training loss for epoch 1: 1.0170533816542542, accuracy: 0.5995065789473685\u001b[32m [repeated 2x across cluster]\u001b[0m\n"
     ]
    },
    {
     "name": "stderr",
     "output_type": "stream",
     "text": [
      "  0%|          | 0/228 [00:00<?, ?it/s]\n",
      " 64%|██████▍   | 147/228 [00:19<00:10,  8.05it/s]\u001b[32m [repeated 4x across cluster]\u001b[0m\n",
      " 87%|████████▋ | 198/228 [00:27<00:04,  6.81it/s]\u001b[32m [repeated 267x across cluster]\u001b[0m\n",
      " 93%|█████████▎| 211/228 [00:29<00:02,  7.44it/s]\u001b[32m [repeated 37x across cluster]\u001b[0m\n"
     ]
    },
    {
     "name": "stdout",
     "output_type": "stream",
     "text": [
      "\u001b[2m\u001b[36m(DefaultActor pid=92316)\u001b[0m  Training loss for epoch 1: 0.8890751996322682, accuracy: 0.6480263157894737\u001b[32m [repeated 2x across cluster]\u001b[0m\n"
     ]
    },
    {
     "name": "stderr",
     "output_type": "stream",
     "text": [
      "  0%|          | 0/228 [00:00<?, ?it/s]\n",
      "  0%|          | 0/228 [00:00<?, ?it/s]\n",
      " 72%|███████▏  | 165/228 [00:21<00:08,  7.68it/s]\n",
      " 90%|█████████ | 206/228 [00:27<00:02,  8.13it/s]\u001b[32m [repeated 240x across cluster]\u001b[0m\n",
      " 14%|█▍        | 32/228 [00:04<00:23,  8.23it/s]\n",
      " 97%|█████████▋| 221/228 [00:29<00:00,  7.01it/s]\u001b[32m [repeated 55x across cluster]\u001b[0m\n",
      "  0%|          | 0/228 [00:00<?, ?it/s]\u001b[32m [repeated 2x across cluster]\u001b[0m\n"
     ]
    },
    {
     "name": "stdout",
     "output_type": "stream",
     "text": [
      "\u001b[2m\u001b[36m(DefaultActor pid=92314)\u001b[0m  Training loss for epoch 1: 0.6468122566216871, accuracy: 0.7733004385964912\u001b[32m [repeated 3x across cluster]\u001b[0m\n"
     ]
    },
    {
     "name": "stderr",
     "output_type": "stream",
     "text": [
      " 18%|█▊        | 41/228 [00:05<00:24,  7.69it/s]\u001b[32m [repeated 224x across cluster]\u001b[0m\n",
      "  9%|▉         | 21/228 [00:03<00:25,  8.24it/s]\u001b[32m [repeated 8x across cluster]\u001b[0m\n",
      "100%|██████████| 228/228 [00:30<00:00,  7.46it/s]\u001b[32m [repeated 13x across cluster]\u001b[0m\n",
      "  0%|          | 0/228 [00:00<?, ?it/s]\n",
      " 35%|███▍      | 79/228 [00:10<00:20,  7.43it/s]\u001b[32m [repeated 289x across cluster]\u001b[0m\n",
      " 44%|████▍     | 100/228 [00:12<00:14,  8.67it/s]\u001b[32m [repeated 11x across cluster]\u001b[0m\n",
      " 93%|█████████▎| 213/228 [00:27<00:01,  8.56it/s]\u001b[32m [repeated 5x across cluster]\u001b[0m\n",
      "  0%|          | 0/228 [00:00<?, ?it/s]\n"
     ]
    },
    {
     "name": "stdout",
     "output_type": "stream",
     "text": [
      "\u001b[2m\u001b[36m(DefaultActor pid=92319)\u001b[0m  Training loss for epoch 2: 1.018460634899767, accuracy: 0.5964912280701754\n"
     ]
    },
    {
     "name": "stderr",
     "output_type": "stream",
     "text": [
      " 49%|████▊     | 111/228 [00:16<00:18,  6.26it/s]\u001b[32m [repeated 250x across cluster]\u001b[0m\n",
      " 72%|███████▏  | 165/228 [00:23<00:07,  8.39it/s]\u001b[32m [repeated 5x across cluster]\u001b[0m\n",
      " 96%|█████████▌| 218/228 [00:28<00:01,  8.88it/s]\u001b[32m [repeated 24x across cluster]\u001b[0m\n"
     ]
    },
    {
     "name": "stdout",
     "output_type": "stream",
     "text": [
      "\u001b[2m\u001b[36m(DefaultActor pid=92320)\u001b[0m  Training loss for epoch 2: 0.903671760438827, accuracy: 0.6842105263157895\n"
     ]
    },
    {
     "name": "stderr",
     "output_type": "stream",
     "text": [
      "  0%|          | 0/228 [00:00<?, ?it/s]\n",
      " 65%|██████▍   | 148/228 [00:21<00:09,  8.08it/s]\u001b[32m [repeated 285x across cluster]\u001b[0m\n",
      " 11%|█         | 25/228 [00:03<00:24,  8.45it/s]\u001b[32m [repeated 9x across cluster]\u001b[0m\n",
      "100%|██████████| 228/228 [00:29<00:00,  7.67it/s]\u001b[32m [repeated 8x across cluster]\u001b[0m\n"
     ]
    },
    {
     "name": "stdout",
     "output_type": "stream",
     "text": [
      "\u001b[2m\u001b[36m(DefaultActor pid=92313)\u001b[0m  Training loss for epoch 2: 1.1772203487262392, accuracy: 0.5460526315789473\n"
     ]
    },
    {
     "name": "stderr",
     "output_type": "stream",
     "text": [
      "  0%|          | 0/228 [00:00<?, ?it/s]\n",
      " 80%|████████  | 183/228 [00:26<00:06,  7.32it/s]\u001b[32m [repeated 257x across cluster]\u001b[0m\n",
      " 29%|██▉       | 66/228 [00:08<00:21,  7.67it/s]\u001b[32m [repeated 4x across cluster]\u001b[0m\n",
      " 94%|█████████▍| 215/228 [00:29<00:01,  7.54it/s]\u001b[32m [repeated 45x across cluster]\u001b[0m\n"
     ]
    },
    {
     "name": "stdout",
     "output_type": "stream",
     "text": [
      "\u001b[2m\u001b[36m(DefaultActor pid=92316)\u001b[0m  Training loss for epoch 2: 0.8902654377253432, accuracy: 0.6502192982456141\n"
     ]
    },
    {
     "name": "stderr",
     "output_type": "stream",
     "text": [
      "  0%|          | 0/228 [00:00<?, ?it/s]\u001b[32m [repeated 2x across cluster]\u001b[0m\n",
      " 90%|████████▉ | 205/228 [00:27<00:02,  8.25it/s]\u001b[32m [repeated 252x across cluster]\u001b[0m\n",
      " 40%|███▉      | 91/228 [00:11<00:16,  8.47it/s]\u001b[32m [repeated 5x across cluster]\u001b[0m\n",
      " 96%|█████████▋| 220/228 [00:29<00:01,  7.33it/s]\u001b[32m [repeated 55x across cluster]\u001b[0m\n"
     ]
    },
    {
     "name": "stdout",
     "output_type": "stream",
     "text": [
      "\u001b[2m\u001b[36m(DefaultActor pid=92314)\u001b[0m  Training loss for epoch 2: 0.620143094083719, accuracy: 0.7897478070175439\u001b[32m [repeated 3x across cluster]\u001b[0m\n"
     ]
    },
    {
     "name": "stderr",
     "output_type": "stream",
     "text": [
      "  0%|          | 0/228 [00:00<?, ?it/s]\u001b[32m [repeated 3x across cluster]\u001b[0m\n",
      " 10%|█         | 23/228 [00:03<00:29,  6.91it/s]\u001b[32m [repeated 205x across cluster]\u001b[0m\n",
      "  3%|▎         | 6/228 [00:01<00:35,  6.24it/s]\u001b[32m [repeated 4x across cluster]\u001b[0m\n",
      "100%|██████████| 228/228 [00:31<00:00,  7.27it/s]\u001b[32m [repeated 18x across cluster]\u001b[0m\n",
      " 76%|███████▌  | 173/228 [00:22<00:08,  6.73it/s]\u001b[32m [repeated 298x across cluster]\u001b[0m\n",
      " 39%|███▊      | 88/228 [00:11<00:18,  7.72it/s]\n",
      " 49%|████▉     | 112/228 [00:15<00:12,  8.98it/s]\n",
      " 98%|█████████▊| 223/228 [00:28<00:00,  8.47it/s]\u001b[32m [repeated 14x across cluster]\u001b[0m\n",
      "  0%|          | 0/228 [00:00<?, ?it/s]\n"
     ]
    },
    {
     "name": "stdout",
     "output_type": "stream",
     "text": [
      "\u001b[2m\u001b[36m(DefaultActor pid=92319)\u001b[0m  Training loss for epoch 3: 1.0302445106861884, accuracy: 0.5923793859649122\u001b[32m [repeated 2x across cluster]\u001b[0m\n"
     ]
    },
    {
     "name": "stderr",
     "output_type": "stream",
     "text": [
      " 40%|███▉      | 91/228 [00:13<00:21,  6.46it/s]\u001b[32m [repeated 230x across cluster]\u001b[0m\n",
      " 12%|█▏        | 27/228 [00:03<00:23,  8.56it/s]\u001b[32m [repeated 8x across cluster]\u001b[0m\n",
      " 96%|█████████▌| 218/228 [00:29<00:01,  8.15it/s]\u001b[32m [repeated 14x across cluster]\u001b[0m\n",
      "  0%|          | 1/228 [00:00<00:27,  8.35it/s]\n"
     ]
    },
    {
     "name": "stdout",
     "output_type": "stream",
     "text": [
      "\u001b[2m\u001b[36m(DefaultActor pid=92320)\u001b[0m  Training loss for epoch 3: 0.9406328105874229, accuracy: 0.6499451754385965\n"
     ]
    },
    {
     "name": "stderr",
     "output_type": "stream",
     "text": [
      " 56%|█████▌    | 128/228 [00:18<00:13,  7.65it/s]\u001b[32m [repeated 262x across cluster]\u001b[0m\n",
      " 13%|█▎        | 29/228 [00:03<00:25,  7.88it/s]\u001b[32m [repeated 14x across cluster]\u001b[0m\n",
      "100%|██████████| 228/228 [00:30<00:00,  7.49it/s]\u001b[32m [repeated 9x across cluster]\u001b[0m\n",
      " 73%|███████▎  | 167/228 [00:23<00:07,  7.85it/s]\u001b[32m [repeated 280x across cluster]\u001b[0m\n"
     ]
    },
    {
     "name": "stdout",
     "output_type": "stream",
     "text": [
      "\u001b[2m\u001b[36m(DefaultActor pid=92316)\u001b[0m  Training loss for epoch 3: 0.8611385342583322, accuracy: 0.6609100877192983\n"
     ]
    },
    {
     "name": "stderr",
     "output_type": "stream",
     "text": [
      "  0%|          | 0/228 [00:00<?, ?it/s]\n",
      " 30%|███       | 69/228 [00:08<00:19,  8.15it/s]\u001b[32m [repeated 8x across cluster]\u001b[0m\n",
      "100%|██████████| 228/228 [00:31<00:00,  7.14it/s]\u001b[32m [repeated 38x across cluster]\u001b[0m\n",
      " 91%|█████████ | 207/228 [00:28<00:02,  8.24it/s]\u001b[32m [repeated 253x across cluster]\u001b[0m\n",
      "  0%|          | 0/228 [00:00<?, ?it/s]\u001b[32m [repeated 2x across cluster]\u001b[0m\n",
      " 90%|████████▉ | 205/228 [00:28<00:03,  7.34it/s]\u001b[32m [repeated 9x across cluster]\u001b[0m\n",
      " 97%|█████████▋| 222/228 [00:31<00:00,  7.14it/s]\u001b[32m [repeated 43x across cluster]\u001b[0m\n"
     ]
    },
    {
     "name": "stdout",
     "output_type": "stream",
     "text": [
      "\u001b[2m\u001b[36m(DefaultActor pid=92317)\u001b[0m  Training loss for epoch 3: 1.0698662602849174, accuracy: 0.6351425438596491\u001b[32m [repeated 3x across cluster]\u001b[0m\n"
     ]
    },
    {
     "name": "stderr",
     "output_type": "stream",
     "text": [
      "  5%|▍         | 11/228 [00:01<00:30,  7.18it/s]\u001b[32m [repeated 193x across cluster]\u001b[0m\n",
      "  0%|          | 0/228 [00:00<?, ?it/s]\u001b[32m [repeated 3x across cluster]\u001b[0m\n",
      "  6%|▌         | 13/228 [00:01<00:28,  7.45it/s]\u001b[32m [repeated 5x across cluster]\u001b[0m\n",
      "100%|██████████| 228/228 [00:31<00:00,  7.28it/s]\u001b[32m [repeated 35x across cluster]\u001b[0m\n",
      " 18%|█▊        | 41/228 [00:05<00:21,  8.64it/s]\u001b[32m [repeated 286x across cluster]\u001b[0m\n"
     ]
    },
    {
     "name": "stdout",
     "output_type": "stream",
     "text": [
      "\u001b[2m\u001b[36m(DefaultActor pid=92319)\u001b[0m  Training loss for epoch 4: 2.071142280572339, accuracy: 0.21162280701754385\u001b[32m [repeated 3x across cluster]\u001b[0m\n"
     ]
    },
    {
     "name": "stderr",
     "output_type": "stream",
     "text": [
      " 51%|█████     | 116/228 [00:15<00:12,  8.95it/s]\u001b[32m [repeated 2x across cluster]\u001b[0m\n",
      "100%|██████████| 228/228 [00:28<00:00,  7.92it/s]\u001b[32m [repeated 17x across cluster]\u001b[0m\n",
      " 35%|███▍      | 79/228 [00:11<00:22,  6.69it/s]\u001b[32m [repeated 231x across cluster]\u001b[0m\n",
      "  0%|          | 0/228 [00:00<?, ?it/s]\n",
      " 98%|█████████▊| 224/228 [00:29<00:00,  8.34it/s]\u001b[32m [repeated 14x across cluster]\u001b[0m\n"
     ]
    },
    {
     "name": "stdout",
     "output_type": "stream",
     "text": [
      "\u001b[2m\u001b[36m(DefaultActor pid=92320)\u001b[0m  Training loss for epoch 4: 0.9834805485841475, accuracy: 0.6836622807017544\n"
     ]
    },
    {
     "name": "stderr",
     "output_type": "stream",
     "text": [
      " 50%|█████     | 115/228 [00:15<00:13,  8.42it/s]\n",
      " 50%|█████     | 115/228 [00:16<00:15,  7.48it/s]\u001b[32m [repeated 248x across cluster]\u001b[0m\n",
      "  0%|          | 0/228 [00:00<?, ?it/s]\n",
      "100%|██████████| 228/228 [00:29<00:00,  7.69it/s]\u001b[32m [repeated 3x across cluster]\u001b[0m\n",
      " 64%|██████▍   | 147/228 [00:20<00:10,  7.56it/s]\u001b[32m [repeated 2x across cluster]\u001b[0m\n",
      " 64%|██████▍   | 147/228 [00:20<00:10,  7.73it/s]\u001b[32m [repeated 229x across cluster]\u001b[0m\n",
      "100%|█████████▉| 227/228 [00:30<00:00,  6.20it/s]\u001b[32m [repeated 25x across cluster]\u001b[0m\n"
     ]
    },
    {
     "name": "stdout",
     "output_type": "stream",
     "text": [
      "\u001b[2m\u001b[36m(DefaultActor pid=92316)\u001b[0m  Training loss for epoch 4: 0.9013498965324017, accuracy: 0.649671052631579\n"
     ]
    },
    {
     "name": "stderr",
     "output_type": "stream",
     "text": [
      " 41%|████      | 93/228 [00:12<00:15,  8.90it/s]\u001b[32m [repeated 3x across cluster]\u001b[0m\n",
      " 81%|████████  | 185/228 [00:26<00:05,  8.38it/s]\u001b[32m [repeated 215x across cluster]\u001b[0m\n",
      " 93%|█████████▎| 212/228 [00:28<00:01, 10.28it/s]\u001b[32m [repeated 30x across cluster]\u001b[0m\n"
     ]
    },
    {
     "name": "stdout",
     "output_type": "stream",
     "text": [
      "\u001b[2m\u001b[36m(DefaultActor pid=92314)\u001b[0m  Training loss for epoch 4: 0.5801246913901547, accuracy: 0.8122258771929824\u001b[32m [repeated 3x across cluster]\u001b[0m\n"
     ]
    },
    {
     "name": "stderr",
     "output_type": "stream",
     "text": [
      " 84%|████████▍ | 191/228 [00:27<00:04,  9.14it/s]\u001b[32m [repeated 3x across cluster]\u001b[0m\n",
      " 76%|███████▌  | 173/228 [00:19<00:03, 15.69it/s]\u001b[32m [repeated 103x across cluster]\u001b[0m\n",
      "100%|██████████| 228/228 [00:31<00:00,  7.31it/s]\u001b[32m [repeated 29x across cluster]\u001b[0m\n",
      "  0%|          | 0/228 [00:00<?, ?it/s]\n"
     ]
    },
    {
     "name": "stdout",
     "output_type": "stream",
     "text": [
      "\u001b[2m\u001b[36m(DefaultActor pid=92319)\u001b[0m  Training loss for epoch 0: 0.9439385746393287, accuracy: 0.6356907894736842\u001b[32m [repeated 3x across cluster]\u001b[0m\n"
     ]
    },
    {
     "name": "stderr",
     "output_type": "stream",
     "text": [
      " 11%|█▏        | 26/228 [00:01<00:12, 15.91it/s]\u001b[32m [repeated 70x across cluster]\u001b[0m\n",
      "100%|██████████| 228/228 [00:20<00:00, 11.36it/s]\u001b[32m [repeated 21x across cluster]\u001b[0m\n",
      "  0%|          | 0/228 [00:00<?, ?it/s]\n",
      " 46%|████▋     | 106/228 [00:06<00:07, 15.84it/s]\u001b[32m [repeated 69x across cluster]\u001b[0m\n",
      " 82%|████████▏ | 186/228 [00:11<00:02, 15.93it/s]\u001b[32m [repeated 79x across cluster]\u001b[0m\n",
      " 92%|█████████▏| 210/228 [00:13<00:01, 14.74it/s]\n",
      " 93%|█████████▎| 212/228 [00:13<00:01, 15.04it/s]\n",
      " 94%|█████████▍| 214/228 [00:14<00:00, 15.16it/s]\n",
      " 95%|█████████▍| 216/228 [00:14<00:00, 15.46it/s]\n",
      " 96%|█████████▌| 218/228 [00:14<00:00, 15.54it/s]\n",
      " 96%|█████████▋| 220/228 [00:14<00:00, 15.43it/s]\n",
      " 97%|█████████▋| 222/228 [00:14<00:00, 14.74it/s]\n",
      " 98%|█████████▊| 224/228 [00:14<00:00, 15.13it/s]\n",
      " 99%|█████████▉| 226/228 [00:14<00:00, 15.41it/s]\n",
      "100%|██████████| 228/228 [00:14<00:00, 15.26it/s]\n",
      "  0%|          | 0/228 [00:00<?, ?it/s]\n"
     ]
    },
    {
     "name": "stdout",
     "output_type": "stream",
     "text": [
      "\u001b[2m\u001b[36m(DefaultActor pid=92319)\u001b[0m  Training loss for epoch 1: 0.9401444553544647, accuracy: 0.631578947368421\u001b[32m [repeated 2x across cluster]\u001b[0m\n"
     ]
    },
    {
     "name": "stderr",
     "output_type": "stream",
     "text": [
      " 13%|█▎        | 30/228 [00:01<00:12, 16.07it/s]\u001b[32m [repeated 62x across cluster]\u001b[0m\n",
      "100%|██████████| 228/228 [00:15<00:00, 15.19it/s]\u001b[32m [repeated 10x across cluster]\u001b[0m\n",
      "  0%|          | 0/228 [00:00<?, ?it/s]\n",
      " 48%|████▊     | 110/228 [00:06<00:07, 16.32it/s]\u001b[32m [repeated 70x across cluster]\u001b[0m\n",
      " 82%|████████▏ | 186/228 [00:11<00:02, 16.02it/s]\u001b[32m [repeated 74x across cluster]\u001b[0m\n",
      " 92%|█████████▏| 210/228 [00:13<00:01, 15.95it/s]\n",
      " 93%|█████████▎| 212/228 [00:13<00:00, 16.06it/s]\n",
      " 94%|█████████▍| 214/228 [00:13<00:00, 15.93it/s]\n",
      " 95%|█████████▍| 216/228 [00:13<00:00, 16.05it/s]\n",
      " 96%|█████████▌| 218/228 [00:13<00:00, 16.00it/s]\n",
      " 96%|█████████▋| 220/228 [00:14<00:00, 15.71it/s]\n",
      " 97%|█████████▋| 222/228 [00:14<00:00, 15.68it/s]\n",
      " 98%|█████████▊| 224/228 [00:14<00:00, 15.67it/s]\n",
      " 99%|█████████▉| 226/228 [00:14<00:00, 15.62it/s]\n",
      "100%|██████████| 228/228 [00:14<00:00, 15.66it/s]\n",
      "  0%|          | 0/228 [00:00<?, ?it/s]\n"
     ]
    },
    {
     "name": "stdout",
     "output_type": "stream",
     "text": [
      "\u001b[2m\u001b[36m(DefaultActor pid=92319)\u001b[0m  Training loss for epoch 2: 0.9007351126587182, accuracy: 0.6493969298245614\u001b[32m [repeated 2x across cluster]\u001b[0m\n"
     ]
    },
    {
     "name": "stderr",
     "output_type": "stream",
     "text": [
      " 91%|█████████ | 208/228 [00:13<00:01, 15.69it/s]\u001b[32m [repeated 70x across cluster]\u001b[0m\n",
      "100%|██████████| 228/228 [00:14<00:00, 15.39it/s]\u001b[32m [repeated 10x across cluster]\u001b[0m\n",
      "  0%|          | 0/228 [00:00<?, ?it/s]\n",
      " 26%|██▋       | 60/228 [00:03<00:11, 15.10it/s]\u001b[32m [repeated 70x across cluster]\u001b[0m\n",
      " 86%|████████▌ | 196/228 [00:12<00:02, 15.43it/s]\u001b[32m [repeated 78x across cluster]\u001b[0m\n",
      " 92%|█████████▏| 210/228 [00:13<00:01, 13.47it/s]\n",
      " 93%|█████████▎| 212/228 [00:13<00:01, 14.00it/s]\n",
      " 94%|█████████▍| 214/228 [00:13<00:00, 14.27it/s]\n",
      " 95%|█████████▍| 216/228 [00:14<00:00, 14.60it/s]\n",
      " 96%|█████████▌| 218/228 [00:14<00:00, 14.94it/s]\n",
      " 96%|█████████▋| 220/228 [00:14<00:00, 15.50it/s]\n",
      " 97%|█████████▋| 222/228 [00:14<00:00, 15.63it/s]\n",
      " 98%|█████████▊| 224/228 [00:14<00:00, 15.80it/s]\n",
      " 99%|█████████▉| 226/228 [00:14<00:00, 15.65it/s]\n",
      "100%|██████████| 228/228 [00:14<00:00, 15.35it/s]\n",
      "  0%|          | 0/228 [00:00<?, ?it/s]\n"
     ]
    },
    {
     "name": "stdout",
     "output_type": "stream",
     "text": [
      "\u001b[2m\u001b[36m(DefaultActor pid=92319)\u001b[0m  Training loss for epoch 3: 0.9013416220744451, accuracy: 0.649671052631579\u001b[32m [repeated 2x across cluster]\u001b[0m\n"
     ]
    },
    {
     "name": "stderr",
     "output_type": "stream",
     "text": [
      " 91%|█████████ | 208/228 [00:13<00:01, 15.50it/s]\u001b[32m [repeated 62x across cluster]\u001b[0m\n",
      "100%|██████████| 228/228 [00:15<00:00, 15.18it/s]\u001b[32m [repeated 10x across cluster]\u001b[0m\n",
      "  0%|          | 0/228 [00:00<?, ?it/s]\n",
      " 54%|█████▎    | 122/228 [00:07<00:06, 15.97it/s]\u001b[32m [repeated 71x across cluster]\u001b[0m\n",
      " 86%|████████▌ | 196/228 [00:12<00:02, 15.90it/s]\u001b[32m [repeated 73x across cluster]\u001b[0m\n",
      " 92%|█████████▏| 210/228 [00:13<00:01, 15.67it/s]\n",
      " 93%|█████████▎| 212/228 [00:13<00:00, 16.06it/s]\n",
      " 94%|█████████▍| 214/228 [00:13<00:00, 16.14it/s]\n",
      " 95%|█████████▍| 216/228 [00:13<00:00, 16.36it/s]\n",
      " 96%|█████████▌| 218/228 [00:14<00:00, 16.36it/s]\n",
      " 96%|█████████▋| 220/228 [00:14<00:00, 16.22it/s]\n",
      " 97%|█████████▋| 222/228 [00:14<00:00, 16.28it/s]\n",
      " 98%|█████████▊| 224/228 [00:14<00:00, 15.88it/s]\n",
      " 99%|█████████▉| 226/228 [00:14<00:00, 15.95it/s]\n",
      "100%|██████████| 228/228 [00:14<00:00, 15.47it/s]\n"
     ]
    },
    {
     "name": "stdout",
     "output_type": "stream",
     "text": [
      "\u001b[2m\u001b[36m(DefaultActor pid=92319)\u001b[0m  Training loss for epoch 4: 0.905966234181011, accuracy: 0.647203947368421\u001b[32m [repeated 2x across cluster]\u001b[0m\n"
     ]
    },
    {
     "name": "stderr",
     "output_type": "stream",
     "text": [
      " 91%|█████████ | 208/228 [00:13<00:01, 16.05it/s]\u001b[32m [repeated 44x across cluster]\u001b[0m\n",
      "DEBUG flwr 2023-11-09 12:41:30,713 | server.py:236 | fit_round 12 received 10 results and 0 failures\n",
      "DEBUG:flwr:fit_round 12 received 10 results and 0 failures\n"
     ]
    },
    {
     "name": "stdout",
     "output_type": "stream",
     "text": [
      "Saving round 12 aggregated_parameters...\n",
      "Saved round 12 aggregated_parameters!\n"
     ]
    },
    {
     "name": "stderr",
     "output_type": "stream",
     "text": [
      "INFO flwr 2023-11-09 12:41:30,776 | server.py:171 | evaluate_round 12: no clients selected, cancel\n",
      "INFO:flwr:evaluate_round 12: no clients selected, cancel\n",
      "DEBUG flwr 2023-11-09 12:41:30,777 | server.py:222 | fit_round 13: strategy sampled 10 clients (out of 40)\n",
      "DEBUG:flwr:fit_round 13: strategy sampled 10 clients (out of 40)\n",
      "  0%|          | 0/228 [00:00<?, ?it/s]\n",
      "100%|██████████| 228/228 [00:14<00:00, 15.41it/s]\u001b[32m [repeated 10x across cluster]\u001b[0m\n",
      "  7%|▋         | 16/228 [00:01<00:17, 12.26it/s]\u001b[32m [repeated 23x across cluster]\u001b[0m\n",
      "  0%|          | 0/228 [00:00<?, ?it/s]\u001b[32m [repeated 3x across cluster]\u001b[0m\n",
      "  6%|▌         | 13/228 [00:01<00:24,  8.87it/s]\n",
      " 15%|█▌        | 35/228 [00:03<00:23,  8.23it/s]\u001b[32m [repeated 114x across cluster]\u001b[0m\n",
      "  0%|          | 0/228 [00:00<?, ?it/s]\u001b[32m [repeated 3x across cluster]\u001b[0m\n",
      "  8%|▊         | 18/228 [00:02<00:28,  7.45it/s]\n",
      " 21%|██        | 48/228 [00:07<01:43,  1.74it/s]\u001b[32m [repeated 188x across cluster]\u001b[0m\n",
      " 46%|████▌     | 105/228 [00:12<00:20,  6.14it/s]\n",
      "  0%|          | 0/228 [00:00<?, ?it/s]\n",
      " 35%|███▌      | 80/228 [00:11<00:19,  7.76it/s]\u001b[32m [repeated 286x across cluster]\u001b[0m\n",
      " 70%|██████▉   | 159/228 [00:17<00:08,  8.48it/s]\u001b[32m [repeated 4x across cluster]\u001b[0m\n",
      " 60%|█████▉    | 136/228 [00:18<00:12,  7.28it/s]\u001b[32m [repeated 282x across cluster]\u001b[0m\n",
      " 76%|███████▌  | 173/228 [00:21<00:06,  8.26it/s]\u001b[32m [repeated 6x across cluster]\u001b[0m\n",
      " 92%|█████████▏| 210/228 [00:23<00:02,  8.18it/s]\n",
      " 93%|█████████▎| 211/228 [00:24<00:02,  7.80it/s]\n",
      " 93%|█████████▎| 212/228 [00:24<00:01,  8.35it/s]\n",
      " 93%|█████████▎| 213/228 [00:24<00:01,  8.30it/s]\n",
      " 94%|█████████▍| 214/228 [00:24<00:01,  8.03it/s]\n",
      " 94%|█████████▍| 215/228 [00:24<00:01,  7.96it/s]\n",
      " 95%|█████████▍| 216/228 [00:24<00:01,  8.02it/s]\n",
      " 95%|█████████▌| 217/228 [00:24<00:01,  8.15it/s]\n",
      " 96%|█████████▌| 218/228 [00:24<00:01,  8.42it/s]\n",
      " 96%|█████████▌| 219/228 [00:25<00:01,  7.80it/s]\n",
      " 96%|█████████▋| 220/228 [00:25<00:00,  8.11it/s]\n",
      " 97%|█████████▋| 221/228 [00:25<00:00,  8.39it/s]\n",
      " 97%|█████████▋| 222/228 [00:25<00:00,  8.80it/s]\n",
      " 98%|█████████▊| 224/228 [00:25<00:00,  9.02it/s]\n",
      " 99%|█████████▊| 225/228 [00:25<00:00,  8.94it/s]\n",
      " 99%|█████████▉| 226/228 [00:25<00:00,  8.82it/s]\n",
      "100%|█████████▉| 227/228 [00:25<00:00,  8.42it/s]\n",
      "100%|██████████| 228/228 [00:26<00:00,  8.74it/s]\n",
      "  0%|          | 0/228 [00:00<?, ?it/s]\n"
     ]
    },
    {
     "name": "stdout",
     "output_type": "stream",
     "text": [
      "\u001b[2m\u001b[36m(DefaultActor pid=92320)\u001b[0m  Training loss for epoch 0: 0.9123430041628972, accuracy: 0.637609649122807\u001b[32m [repeated 2x across cluster]\u001b[0m\n"
     ]
    },
    {
     "name": "stderr",
     "output_type": "stream",
     "text": [
      " 76%|███████▌  | 173/228 [00:23<00:07,  7.80it/s]\u001b[32m [repeated 268x across cluster]\u001b[0m\n",
      " 68%|██████▊   | 154/228 [00:21<00:08,  8.30it/s]\u001b[32m [repeated 3x across cluster]\u001b[0m\n",
      " 99%|█████████▉| 226/228 [00:27<00:00,  8.17it/s]\u001b[32m [repeated 18x across cluster]\u001b[0m\n",
      "  0%|          | 0/228 [00:00<?, ?it/s]\n",
      " 85%|████████▌ | 194/228 [00:26<00:04,  8.02it/s]\u001b[32m [repeated 286x across cluster]\u001b[0m\n",
      " 71%|███████   | 161/228 [00:23<00:08,  7.96it/s]\u001b[32m [repeated 4x across cluster]\u001b[0m\n",
      " 95%|█████████▌| 217/228 [00:29<00:01,  7.18it/s]\u001b[32m [repeated 11x across cluster]\u001b[0m\n",
      "  0%|          | 0/228 [00:00<?, ?it/s]\n"
     ]
    },
    {
     "name": "stdout",
     "output_type": "stream",
     "text": [
      "\u001b[2m\u001b[36m(DefaultActor pid=92317)\u001b[0m  Training loss for epoch 0: 0.7643769870332459, accuracy: 0.7239583333333334\u001b[32m [repeated 2x across cluster]\u001b[0m\n"
     ]
    },
    {
     "name": "stderr",
     "output_type": "stream",
     "text": [
      "  8%|▊         | 18/228 [00:02<00:28,  7.31it/s]\u001b[32m [repeated 232x across cluster]\u001b[0m\n",
      " 93%|█████████▎| 213/228 [00:28<00:01,  8.46it/s]\u001b[32m [repeated 74x across cluster]\u001b[0m\n",
      "  6%|▌         | 13/228 [00:01<00:26,  8.26it/s]\n",
      "  0%|          | 0/228 [00:00<?, ?it/s]\u001b[32m [repeated 2x across cluster]\u001b[0m\n"
     ]
    },
    {
     "name": "stdout",
     "output_type": "stream",
     "text": [
      "\u001b[2m\u001b[36m(DefaultActor pid=92315)\u001b[0m  Training loss for epoch 0: 0.5759493218440759, accuracy: 0.7768640350877193\u001b[32m [repeated 3x across cluster]\u001b[0m\n"
     ]
    },
    {
     "name": "stderr",
     "output_type": "stream",
     "text": [
      " 21%|██▏       | 49/228 [00:07<00:27,  6.60it/s]\u001b[32m [repeated 201x across cluster]\u001b[0m\n",
      "100%|██████████| 228/228 [00:30<00:00,  7.38it/s]\u001b[32m [repeated 34x across cluster]\u001b[0m\n",
      " 20%|█▉        | 45/228 [00:06<00:22,  7.98it/s]\u001b[32m [repeated 3x across cluster]\u001b[0m\n",
      "  0%|          | 0/228 [00:00<?, ?it/s]\u001b[32m [repeated 3x across cluster]\u001b[0m\n",
      " 38%|███▊      | 87/228 [00:12<00:18,  7.82it/s]\u001b[32m [repeated 284x across cluster]\u001b[0m\n",
      " 31%|███       | 70/228 [00:10<00:20,  7.86it/s]\u001b[32m [repeated 7x across cluster]\u001b[0m\n",
      " 54%|█████▎    | 122/228 [00:17<00:14,  7.55it/s]\u001b[32m [repeated 270x across cluster]\u001b[0m\n",
      " 92%|█████████▏| 209/228 [00:27<00:02,  7.19it/s]\n",
      " 92%|█████████▏| 210/228 [00:27<00:02,  7.38it/s]\n",
      " 93%|█████████▎| 211/228 [00:28<00:02,  7.47it/s]\n",
      " 44%|████▍     | 101/228 [00:14<00:15,  8.38it/s]\u001b[32m [repeated 5x across cluster]\u001b[0m\n",
      " 93%|█████████▎| 212/228 [00:28<00:02,  7.16it/s]\n",
      " 93%|█████████▎| 213/228 [00:28<00:02,  7.10it/s]\n",
      " 94%|█████████▍| 214/228 [00:28<00:02,  5.64it/s]\n",
      " 94%|█████████▍| 215/228 [00:28<00:02,  5.57it/s]\n",
      " 95%|█████████▍| 216/228 [00:28<00:01,  6.08it/s]\n",
      " 95%|█████████▌| 217/228 [00:29<00:01,  6.50it/s]\n",
      " 96%|█████████▌| 218/228 [00:29<00:01,  6.92it/s]\n",
      " 96%|█████████▌| 219/228 [00:29<00:01,  7.24it/s]\n",
      " 97%|█████████▋| 221/228 [00:29<00:00,  8.15it/s]\n",
      " 97%|█████████▋| 222/228 [00:29<00:00,  7.95it/s]\n",
      " 98%|█████████▊| 223/228 [00:29<00:00,  7.03it/s]\n",
      " 98%|█████████▊| 224/228 [00:30<00:00,  6.89it/s]\n",
      " 99%|█████████▉| 226/228 [00:30<00:00,  7.76it/s]\n",
      "100%|█████████▉| 227/228 [00:30<00:00,  7.88it/s]\n",
      "100%|██████████| 228/228 [00:30<00:00,  7.48it/s]\n",
      "  0%|          | 0/228 [00:00<?, ?it/s]\n"
     ]
    },
    {
     "name": "stdout",
     "output_type": "stream",
     "text": [
      "\u001b[2m\u001b[36m(DefaultActor pid=92320)\u001b[0m  Training loss for epoch 1: 0.9180627207745585, accuracy: 0.6389802631578947\u001b[32m [repeated 3x across cluster]\u001b[0m\n"
     ]
    },
    {
     "name": "stderr",
     "output_type": "stream",
     "text": [
      " 66%|██████▌   | 151/228 [00:21<00:09,  8.00it/s]\u001b[32m [repeated 262x across cluster]\u001b[0m\n",
      " 98%|█████████▊| 223/228 [00:29<00:00,  7.03it/s]\u001b[32m [repeated 15x across cluster]\u001b[0m\n",
      " 68%|██████▊   | 154/228 [00:21<00:08,  8.26it/s]\u001b[32m [repeated 3x across cluster]\u001b[0m\n",
      "  0%|          | 0/228 [00:00<?, ?it/s]\n",
      " 84%|████████▍ | 191/228 [00:26<00:04,  7.90it/s]\u001b[32m [repeated 292x across cluster]\u001b[0m\n",
      "100%|██████████| 228/228 [00:30<00:00,  7.49it/s]\u001b[32m [repeated 5x across cluster]\u001b[0m\n",
      " 15%|█▌        | 35/228 [00:04<00:22,  8.63it/s]\u001b[32m [repeated 4x across cluster]\u001b[0m\n"
     ]
    },
    {
     "name": "stdout",
     "output_type": "stream",
     "text": [
      "\u001b[2m\u001b[36m(DefaultActor pid=92317)\u001b[0m  Training loss for epoch 1: 0.6834555257830703, accuracy: 0.7494517543859649\u001b[32m [repeated 2x across cluster]\u001b[0m\n"
     ]
    },
    {
     "name": "stderr",
     "output_type": "stream",
     "text": [
      "  0%|          | 0/228 [00:00<?, ?it/s]\n",
      "  2%|▏         | 5/228 [00:00<00:29,  7.44it/s]\u001b[32m [repeated 231x across cluster]\u001b[0m\n",
      " 92%|█████████▏| 209/228 [00:26<00:02,  8.32it/s]\u001b[32m [repeated 60x across cluster]\u001b[0m\n",
      " 89%|████████▉ | 204/228 [00:26<00:02,  8.68it/s]\u001b[32m [repeated 4x across cluster]\u001b[0m\n",
      "  0%|          | 0/228 [00:00<?, ?it/s]\u001b[32m [repeated 3x across cluster]\u001b[0m\n",
      " 15%|█▌        | 35/228 [00:05<00:26,  7.18it/s]\u001b[32m [repeated 195x across cluster]\u001b[0m\n"
     ]
    },
    {
     "name": "stdout",
     "output_type": "stream",
     "text": [
      "\u001b[2m\u001b[36m(DefaultActor pid=92315)\u001b[0m  Training loss for epoch 1: 0.5400853438727689, accuracy: 0.7949561403508771\u001b[32m [repeated 4x across cluster]\u001b[0m\n"
     ]
    },
    {
     "name": "stderr",
     "output_type": "stream",
     "text": [
      " 99%|█████████▉| 226/228 [00:32<00:00,  6.61it/s]\u001b[32m [repeated 56x across cluster]\u001b[0m\n",
      " 59%|█████▉    | 135/228 [00:17<00:10,  8.54it/s]\u001b[32m [repeated 2x across cluster]\u001b[0m\n",
      "  0%|          | 0/228 [00:00<?, ?it/s]\u001b[32m [repeated 2x across cluster]\u001b[0m\n",
      " 31%|███       | 70/228 [00:10<00:23,  6.61it/s]\u001b[32m [repeated 288x across cluster]\u001b[0m\n",
      "100%|██████████| 228/228 [00:32<00:00,  7.02it/s]\u001b[32m [repeated 2x across cluster]\u001b[0m\n",
      " 19%|█▉        | 43/228 [00:05<00:23,  8.00it/s]\u001b[32m [repeated 2x across cluster]\u001b[0m\n",
      " 46%|████▌     | 104/228 [00:15<00:16,  7.73it/s]\u001b[32m [repeated 262x across cluster]\u001b[0m\n",
      " 92%|█████████▏| 210/228 [00:27<00:03,  5.45it/s]\u001b[32m [repeated 2x across cluster]\u001b[0m\n",
      " 32%|███▏      | 72/228 [00:10<00:19,  8.00it/s]\u001b[32m [repeated 6x across cluster]\u001b[0m\n",
      "  0%|          | 0/228 [00:00<?, ?it/s]\n"
     ]
    },
    {
     "name": "stdout",
     "output_type": "stream",
     "text": [
      "\u001b[2m\u001b[36m(DefaultActor pid=92320)\u001b[0m  Training loss for epoch 2: 0.906391658673161, accuracy: 0.6260964912280702\u001b[32m [repeated 2x across cluster]\u001b[0m\n"
     ]
    },
    {
     "name": "stderr",
     "output_type": "stream",
     "text": [
      " 61%|██████    | 139/228 [00:20<00:11,  7.65it/s]\u001b[32m [repeated 265x across cluster]\u001b[0m\n",
      " 96%|█████████▋| 220/228 [00:29<00:00,  8.31it/s]\u001b[32m [repeated 27x across cluster]\u001b[0m\n",
      "  9%|▉         | 21/228 [00:02<00:23,  8.73it/s]\u001b[32m [repeated 2x across cluster]\u001b[0m\n",
      "  0%|          | 0/228 [00:00<?, ?it/s]\n",
      " 73%|███████▎  | 166/228 [00:21<00:07,  7.78it/s]\u001b[32m [repeated 278x across cluster]\u001b[0m\n",
      "100%|██████████| 228/228 [00:30<00:00,  7.36it/s]\u001b[32m [repeated 8x across cluster]\u001b[0m\n",
      " 13%|█▎        | 29/228 [00:03<00:25,  7.74it/s]\u001b[32m [repeated 8x across cluster]\u001b[0m\n",
      " 45%|████▍     | 102/228 [00:12<00:15,  8.19it/s]\u001b[32m [repeated 271x across cluster]\u001b[0m\n",
      " 96%|█████████▌| 219/228 [00:31<00:01,  7.49it/s]\u001b[32m [repeated 43x across cluster]\u001b[0m\n",
      " 78%|███████▊  | 177/228 [00:24<00:06,  7.59it/s]\u001b[32m [repeated 3x across cluster]\u001b[0m\n",
      "  0%|          | 0/228 [00:00<?, ?it/s]\n"
     ]
    },
    {
     "name": "stdout",
     "output_type": "stream",
     "text": [
      "\u001b[2m\u001b[36m(DefaultActor pid=92314)\u001b[0m  Training loss for epoch 2: 0.8287440966487977, accuracy: 0.6663925438596491\u001b[32m [repeated 2x across cluster]\u001b[0m\n"
     ]
    },
    {
     "name": "stderr",
     "output_type": "stream",
     "text": [
      "  8%|▊         | 19/228 [00:02<00:27,  7.62it/s]\u001b[32m [repeated 198x across cluster]\u001b[0m\n",
      " 96%|█████████▋| 220/228 [00:30<00:01,  7.71it/s]\u001b[32m [repeated 50x across cluster]\u001b[0m\n",
      " 15%|█▍        | 34/228 [00:04<00:23,  8.24it/s]\u001b[32m [repeated 7x across cluster]\u001b[0m\n",
      "  0%|          | 0/228 [00:00<?, ?it/s]\u001b[32m [repeated 3x across cluster]\u001b[0m\n"
     ]
    },
    {
     "name": "stdout",
     "output_type": "stream",
     "text": [
      "\u001b[2m\u001b[36m(DefaultActor pid=92315)\u001b[0m  Training loss for epoch 2: 0.5448858070661101, accuracy: 0.8001644736842105\u001b[32m [repeated 4x across cluster]\u001b[0m\n"
     ]
    },
    {
     "name": "stderr",
     "output_type": "stream",
     "text": [
      " 24%|██▎       | 54/228 [00:07<00:22,  7.68it/s]\u001b[32m [repeated 253x across cluster]\u001b[0m\n",
      "100%|██████████| 228/228 [00:32<00:00,  7.03it/s]\u001b[32m [repeated 24x across cluster]\u001b[0m\n",
      " 84%|████████▍ | 192/228 [00:23<00:04,  8.48it/s]\u001b[32m [repeated 4x across cluster]\u001b[0m\n",
      "  0%|          | 0/228 [00:00<?, ?it/s]\u001b[32m [repeated 2x across cluster]\u001b[0m\n",
      " 38%|███▊      | 87/228 [00:12<00:17,  7.88it/s]\u001b[32m [repeated 248x across cluster]\u001b[0m\n",
      " 98%|█████████▊| 224/228 [00:28<00:00,  8.82it/s]\u001b[32m [repeated 14x across cluster]\u001b[0m\n"
     ]
    },
    {
     "name": "stdout",
     "output_type": "stream",
     "text": [
      "\u001b[2m\u001b[36m(DefaultActor pid=92320)\u001b[0m  Training loss for epoch 3: 0.8988753848692828, accuracy: 0.6381578947368421\u001b[32m [repeated 2x across cluster]\u001b[0m\n"
     ]
    },
    {
     "name": "stderr",
     "output_type": "stream",
     "text": [
      " 37%|███▋      | 85/228 [00:11<00:20,  7.13it/s]\u001b[32m [repeated 3x across cluster]\u001b[0m\n",
      "  0%|          | 0/228 [00:00<?, ?it/s]\n",
      " 55%|█████▍    | 125/228 [00:17<00:13,  7.49it/s]\u001b[32m [repeated 271x across cluster]\u001b[0m\n",
      " 97%|█████████▋| 221/228 [00:28<00:00,  8.17it/s]\u001b[32m [repeated 17x across cluster]\u001b[0m\n",
      " 15%|█▌        | 35/228 [00:04<00:21,  8.84it/s]\u001b[32m [repeated 7x across cluster]\u001b[0m\n",
      "  0%|          | 0/228 [00:00<?, ?it/s]\n"
     ]
    },
    {
     "name": "stdout",
     "output_type": "stream",
     "text": [
      "\u001b[2m\u001b[36m(DefaultActor pid=92319)\u001b[0m  Training loss for epoch 3: 0.8606327659728235, accuracy: 0.6669407894736842\n"
     ]
    },
    {
     "name": "stderr",
     "output_type": "stream",
     "text": [
      " 72%|███████▏  | 164/228 [00:22<00:08,  7.62it/s]\u001b[32m [repeated 276x across cluster]\u001b[0m\n",
      "100%|██████████| 228/228 [00:29<00:00,  7.65it/s]\u001b[32m [repeated 7x across cluster]\u001b[0m\n",
      " 74%|███████▍  | 169/228 [00:22<00:07,  8.02it/s]\u001b[32m [repeated 7x across cluster]\u001b[0m\n",
      " 51%|█████     | 116/228 [00:13<00:13,  8.48it/s]\u001b[32m [repeated 290x across cluster]\u001b[0m\n",
      " 94%|█████████▍| 215/228 [00:28<00:01,  8.32it/s]\u001b[32m [repeated 29x across cluster]\u001b[0m\n",
      "  0%|          | 0/228 [00:00<?, ?it/s]\n"
     ]
    },
    {
     "name": "stdout",
     "output_type": "stream",
     "text": [
      "\u001b[2m\u001b[36m(DefaultActor pid=92314)\u001b[0m  Training loss for epoch 3: 0.8240597879416064, accuracy: 0.6732456140350878\n"
     ]
    },
    {
     "name": "stderr",
     "output_type": "stream",
     "text": [
      " 53%|█████▎    | 121/228 [00:14<00:11,  9.11it/s]\u001b[32m [repeated 5x across cluster]\u001b[0m\n",
      "  4%|▍         | 9/228 [00:01<00:32,  6.70it/s]\u001b[32m [repeated 195x across cluster]\u001b[0m\n",
      " 92%|█████████▏| 209/228 [00:29<00:02,  7.93it/s]\u001b[32m [repeated 50x across cluster]\u001b[0m\n",
      "  0%|          | 0/228 [00:00<?, ?it/s]\u001b[32m [repeated 3x across cluster]\u001b[0m\n",
      " 74%|███████▍  | 169/228 [00:20<00:07,  8.35it/s]\u001b[32m [repeated 11x across cluster]\u001b[0m\n"
     ]
    },
    {
     "name": "stdout",
     "output_type": "stream",
     "text": [
      "\u001b[2m\u001b[36m(DefaultActor pid=92315)\u001b[0m  Training loss for epoch 3: 0.5035607502060501, accuracy: 0.8185307017543859\u001b[32m [repeated 4x across cluster]\u001b[0m\n"
     ]
    },
    {
     "name": "stderr",
     "output_type": "stream",
     "text": [
      "  7%|▋         | 15/228 [00:01<00:26,  7.89it/s]\u001b[32m [repeated 254x across cluster]\u001b[0m\n",
      "100%|██████████| 228/228 [00:31<00:00,  7.24it/s]\u001b[32m [repeated 37x across cluster]\u001b[0m\n",
      "  0%|          | 0/228 [00:00<?, ?it/s]\u001b[32m [repeated 2x across cluster]\u001b[0m\n",
      " 33%|███▎      | 76/228 [00:09<00:17,  8.59it/s]\u001b[32m [repeated 10x across cluster]\u001b[0m\n"
     ]
    },
    {
     "name": "stdout",
     "output_type": "stream",
     "text": [
      "\u001b[2m\u001b[36m(DefaultActor pid=92320)\u001b[0m  Training loss for epoch 4: 0.9022546847138488, accuracy: 0.6425438596491229\u001b[32m [repeated 2x across cluster]\u001b[0m\n"
     ]
    },
    {
     "name": "stderr",
     "output_type": "stream",
     "text": [
      " 36%|███▌      | 81/228 [00:11<00:21,  6.77it/s]\u001b[32m [repeated 227x across cluster]\u001b[0m\n",
      "100%|██████████| 228/228 [00:28<00:00,  8.08it/s]\u001b[32m [repeated 17x across cluster]\u001b[0m\n",
      " 18%|█▊        | 42/228 [00:05<00:24,  7.67it/s]\u001b[32m [repeated 8x across cluster]\u001b[0m\n",
      "  0%|          | 0/228 [00:00<?, ?it/s]\n",
      " 52%|█████▏    | 119/228 [00:16<00:14,  7.70it/s]\u001b[32m [repeated 269x across cluster]\u001b[0m\n",
      " 99%|█████████▊| 225/228 [00:29<00:00,  8.15it/s]\u001b[32m [repeated 16x across cluster]\u001b[0m\n"
     ]
    },
    {
     "name": "stdout",
     "output_type": "stream",
     "text": [
      "\u001b[2m\u001b[36m(DefaultActor pid=92319)\u001b[0m  Training loss for epoch 4: 0.8006117622319021, accuracy: 0.6913377192982456\n"
     ]
    },
    {
     "name": "stderr",
     "output_type": "stream",
     "text": [
      " 57%|█████▋    | 129/228 [00:17<00:12,  7.79it/s]\u001b[32m [repeated 8x across cluster]\u001b[0m\n",
      "  0%|          | 0/228 [00:00<?, ?it/s]\n",
      " 68%|██████▊   | 154/228 [00:21<00:11,  6.45it/s]\u001b[32m [repeated 260x across cluster]\u001b[0m\n",
      "100%|██████████| 228/228 [00:29<00:00,  7.65it/s]\u001b[32m [repeated 3x across cluster]\u001b[0m\n",
      " 80%|███████▉  | 182/228 [00:22<00:05,  8.20it/s]\u001b[32m [repeated 3x across cluster]\u001b[0m\n",
      " 85%|████████▌ | 194/228 [00:26<00:04,  7.99it/s]\u001b[32m [repeated 293x across cluster]\u001b[0m\n"
     ]
    },
    {
     "name": "stdout",
     "output_type": "stream",
     "text": [
      "\u001b[2m\u001b[36m(DefaultActor pid=92316)\u001b[0m  Training loss for epoch 4: 0.8926846296118017, accuracy: 0.6521381578947368\n"
     ]
    },
    {
     "name": "stderr",
     "output_type": "stream",
     "text": [
      " 93%|█████████▎| 211/228 [00:28<00:02,  7.65it/s]\u001b[32m [repeated 36x across cluster]\u001b[0m\n",
      " 47%|████▋     | 108/228 [00:13<00:13,  8.57it/s]\u001b[32m [repeated 2x across cluster]\u001b[0m\n",
      " 42%|████▏     | 95/228 [00:11<00:11, 11.20it/s]\u001b[32m [repeated 132x across cluster]\u001b[0m\n",
      " 94%|█████████▍| 215/228 [00:28<00:01, 10.92it/s]\u001b[32m [repeated 34x across cluster]\u001b[0m\n",
      " 89%|████████▉ | 204/228 [00:28<00:04,  5.96it/s]\n"
     ]
    },
    {
     "name": "stdout",
     "output_type": "stream",
     "text": [
      "\u001b[2m\u001b[36m(DefaultActor pid=92315)\u001b[0m  Training loss for epoch 4: 0.4970815313097678, accuracy: 0.821546052631579\u001b[32m [repeated 4x across cluster]\u001b[0m\n"
     ]
    },
    {
     "name": "stderr",
     "output_type": "stream",
     "text": [
      " 71%|███████   | 161/228 [00:16<00:04, 13.73it/s]\u001b[32m [repeated 75x across cluster]\u001b[0m\n",
      " 98%|█████████▊| 224/228 [00:24<00:00,  7.37it/s]\u001b[32m [repeated 26x across cluster]\u001b[0m\n",
      "  0%|          | 0/228 [00:00<?, ?it/s]\n"
     ]
    },
    {
     "name": "stdout",
     "output_type": "stream",
     "text": [
      "\u001b[2m\u001b[36m(DefaultActor pid=92319)\u001b[0m  Training loss for epoch 0: 0.6520095041446519, accuracy: 0.7513706140350878\u001b[32m [repeated 3x across cluster]\u001b[0m\n"
     ]
    },
    {
     "name": "stderr",
     "output_type": "stream",
     "text": [
      "  2%|▏         | 4/228 [00:00<00:14, 15.73it/s]\u001b[32m [repeated 52x across cluster]\u001b[0m\n",
      "100%|██████████| 228/228 [00:21<00:00, 10.54it/s]\u001b[32m [repeated 12x across cluster]\u001b[0m\n",
      "  0%|          | 0/228 [00:00<?, ?it/s]\n",
      " 37%|███▋      | 84/228 [00:05<00:09, 15.91it/s]\u001b[32m [repeated 78x across cluster]\u001b[0m\n",
      " 92%|█████████▏| 210/228 [00:13<00:01, 15.26it/s]\n",
      " 91%|█████████ | 208/228 [00:13<00:01, 15.30it/s]\u001b[32m [repeated 78x across cluster]\u001b[0m\n",
      " 93%|█████████▎| 212/228 [00:13<00:01, 15.40it/s]\n",
      " 94%|█████████▍| 214/228 [00:13<00:00, 15.21it/s]\n",
      " 95%|█████████▍| 216/228 [00:13<00:00, 15.40it/s]\n",
      " 96%|█████████▌| 218/228 [00:14<00:00, 15.52it/s]\n",
      " 96%|█████████▋| 220/228 [00:14<00:00, 15.60it/s]\n",
      " 97%|█████████▋| 222/228 [00:14<00:00, 15.76it/s]\n",
      " 98%|█████████▊| 224/228 [00:14<00:00, 15.65it/s]\n",
      " 99%|█████████▉| 226/228 [00:14<00:00, 15.73it/s]\n",
      "100%|██████████| 228/228 [00:14<00:00, 15.48it/s]\n",
      "  0%|          | 0/228 [00:00<?, ?it/s]\n"
     ]
    },
    {
     "name": "stdout",
     "output_type": "stream",
     "text": [
      "\u001b[2m\u001b[36m(DefaultActor pid=92320)\u001b[0m  Training loss for epoch 1: 0.5475735408172273, accuracy: 0.8064692982456141\n",
      "\u001b[2m\u001b[36m(DefaultActor pid=92319)\u001b[0m  Training loss for epoch 1: 0.627958764501831, accuracy: 0.7606907894736842\n"
     ]
    },
    {
     "name": "stderr",
     "output_type": "stream",
     "text": [
      "100%|██████████| 228/228 [00:14<00:00, 15.76it/s]\u001b[32m [repeated 10x across cluster]\u001b[0m\n",
      "  7%|▋         | 16/228 [00:01<00:13, 16.00it/s]\u001b[32m [repeated 60x across cluster]\u001b[0m\n",
      "  0%|          | 0/228 [00:00<?, ?it/s]\n",
      " 39%|███▊      | 88/228 [00:06<00:08, 15.61it/s]\u001b[32m [repeated 71x across cluster]\u001b[0m\n",
      " 74%|███████▎  | 168/228 [00:11<00:03, 15.55it/s]\u001b[32m [repeated 79x across cluster]\u001b[0m\n",
      " 92%|█████████▏| 210/228 [00:14<00:01, 15.31it/s]\n",
      " 93%|█████████▎| 212/228 [00:14<00:01, 15.30it/s]\n",
      " 94%|█████████▍| 214/228 [00:14<00:00, 15.78it/s]\n",
      " 95%|█████████▍| 216/228 [00:14<00:01,  8.71it/s]\n",
      " 96%|█████████▌| 218/228 [00:15<00:01,  9.91it/s]\n",
      " 96%|█████████▋| 220/228 [00:15<00:00, 11.05it/s]\n",
      " 97%|█████████▋| 222/228 [00:15<00:00, 12.10it/s]\n",
      " 98%|█████████▊| 224/228 [00:15<00:00, 12.77it/s]\n",
      " 99%|█████████▉| 226/228 [00:15<00:00, 13.46it/s]\n",
      "100%|██████████| 228/228 [00:15<00:00, 14.46it/s]\n",
      "  0%|          | 0/228 [00:00<?, ?it/s]\n"
     ]
    },
    {
     "name": "stdout",
     "output_type": "stream",
     "text": [
      "\u001b[2m\u001b[36m(DefaultActor pid=92320)\u001b[0m  Training loss for epoch 2: 0.4859754041882983, accuracy: 0.8358004385964912\n",
      "\u001b[2m\u001b[36m(DefaultActor pid=92319)\u001b[0m  Training loss for epoch 2: 0.6348096674079435, accuracy: 0.765625\n"
     ]
    },
    {
     "name": "stderr",
     "output_type": "stream",
     "text": [
      "  6%|▌         | 14/228 [00:00<00:13, 15.96it/s]\u001b[32m [repeated 53x across cluster]\u001b[0m\n",
      "100%|██████████| 228/228 [00:15<00:00, 14.87it/s]\u001b[32m [repeated 10x across cluster]\u001b[0m\n",
      "  0%|          | 0/228 [00:00<?, ?it/s]\n",
      " 41%|████      | 94/228 [00:05<00:08, 15.71it/s]\u001b[32m [repeated 80x across cluster]\u001b[0m\n",
      " 75%|███████▌  | 172/228 [00:10<00:03, 15.32it/s]\u001b[32m [repeated 77x across cluster]\u001b[0m\n",
      " 92%|█████████▏| 210/228 [00:13<00:01, 15.31it/s]\n",
      " 93%|█████████▎| 212/228 [00:13<00:01, 15.62it/s]\n",
      " 94%|█████████▍| 214/228 [00:13<00:00, 15.40it/s]\n",
      " 95%|█████████▍| 216/228 [00:13<00:00, 15.35it/s]\n",
      " 96%|█████████▌| 218/228 [00:14<00:00, 15.36it/s]\n",
      " 96%|█████████▋| 220/228 [00:14<00:00, 15.37it/s]\n",
      " 97%|█████████▋| 222/228 [00:14<00:00, 15.38it/s]\n",
      " 98%|█████████▊| 224/228 [00:14<00:00, 15.36it/s]\n",
      " 99%|█████████▉| 226/228 [00:14<00:00, 15.42it/s]\n",
      "100%|██████████| 228/228 [00:14<00:00, 15.47it/s]\n",
      "  0%|          | 0/228 [00:00<?, ?it/s]\n"
     ]
    },
    {
     "name": "stdout",
     "output_type": "stream",
     "text": [
      "\u001b[2m\u001b[36m(DefaultActor pid=92320)\u001b[0m  Training loss for epoch 3: 0.5033619145683029, accuracy: 0.8319627192982456\n",
      "\u001b[2m\u001b[36m(DefaultActor pid=92319)\u001b[0m  Training loss for epoch 3: 0.710727577016019, accuracy: 0.7417763157894737\n"
     ]
    },
    {
     "name": "stderr",
     "output_type": "stream",
     "text": [
      " 10%|▉         | 22/228 [00:01<00:12, 16.03it/s]\u001b[32m [repeated 58x across cluster]\u001b[0m\n",
      "100%|██████████| 228/228 [00:14<00:00, 15.68it/s]\u001b[32m [repeated 10x across cluster]\u001b[0m\n",
      "  0%|          | 0/228 [00:00<?, ?it/s]\n",
      " 42%|████▏     | 96/228 [00:06<00:08, 16.11it/s]\u001b[32m [repeated 74x across cluster]\u001b[0m\n",
      " 76%|███████▋  | 174/228 [00:11<00:03, 16.25it/s]\u001b[32m [repeated 77x across cluster]\u001b[0m\n",
      " 92%|█████████▏| 210/228 [00:13<00:01, 15.08it/s]\n",
      " 93%|█████████▎| 212/228 [00:14<00:01, 15.17it/s]\n",
      " 94%|█████████▍| 214/228 [00:14<00:01,  8.81it/s]\n",
      " 95%|█████████▍| 216/228 [00:14<00:01,  9.98it/s]\n",
      " 96%|█████████▌| 218/228 [00:14<00:00, 11.18it/s]\n",
      " 96%|█████████▋| 220/228 [00:14<00:00, 12.00it/s]\n",
      " 97%|█████████▋| 222/228 [00:15<00:00, 12.88it/s]\n",
      " 98%|█████████▊| 224/228 [00:15<00:00, 13.45it/s]\n",
      " 99%|█████████▉| 226/228 [00:15<00:00, 13.91it/s]\n",
      "100%|██████████| 228/228 [00:15<00:00, 14.74it/s]\n"
     ]
    },
    {
     "name": "stdout",
     "output_type": "stream",
     "text": [
      "\u001b[2m\u001b[36m(DefaultActor pid=92320)\u001b[0m  Training loss for epoch 4: 0.4691494680418257, accuracy: 0.8453947368421053\n"
     ]
    },
    {
     "name": "stderr",
     "output_type": "stream",
     "text": [
      "DEBUG flwr 2023-11-09 12:45:25,900 | server.py:236 | fit_round 13 received 10 results and 0 failures\n",
      "DEBUG:flwr:fit_round 13 received 10 results and 0 failures\n"
     ]
    },
    {
     "name": "stdout",
     "output_type": "stream",
     "text": [
      "Saving round 13 aggregated_parameters...\n",
      "Saved round 13 aggregated_parameters!\n"
     ]
    },
    {
     "name": "stderr",
     "output_type": "stream",
     "text": [
      "INFO flwr 2023-11-09 12:45:25,969 | server.py:171 | evaluate_round 13: no clients selected, cancel\n",
      "INFO:flwr:evaluate_round 13: no clients selected, cancel\n",
      "DEBUG flwr 2023-11-09 12:45:25,970 | server.py:222 | fit_round 14: strategy sampled 10 clients (out of 40)\n",
      "DEBUG:flwr:fit_round 14: strategy sampled 10 clients (out of 40)\n"
     ]
    },
    {
     "name": "stdout",
     "output_type": "stream",
     "text": [
      "\u001b[2m\u001b[36m(DefaultActor pid=92319)\u001b[0m  Training loss for epoch 4: 0.6289335429799139, accuracy: 0.7697368421052632\n"
     ]
    },
    {
     "name": "stderr",
     "output_type": "stream",
     "text": [
      "  0%|          | 0/228 [00:00<?, ?it/s]\n",
      " 91%|█████████ | 208/228 [00:13<00:01, 15.87it/s]\u001b[32m [repeated 18x across cluster]\u001b[0m\n",
      "100%|██████████| 228/228 [00:15<00:00, 15.04it/s]\u001b[32m [repeated 10x across cluster]\u001b[0m\n",
      "  0%|          | 0/228 [00:00<?, ?it/s]\u001b[32m [repeated 2x across cluster]\u001b[0m\n",
      " 30%|██▉       | 68/228 [00:06<00:39,  4.09it/s]\u001b[32m [repeated 73x across cluster]\u001b[0m\n",
      "  3%|▎         | 7/228 [00:00<00:23,  9.54it/s]\n",
      "  0%|          | 0/228 [00:00<?, ?it/s]\u001b[32m [repeated 3x across cluster]\u001b[0m\n",
      " 14%|█▍        | 32/228 [00:03<00:22,  8.80it/s]\u001b[32m [repeated 173x across cluster]\u001b[0m\n",
      " 48%|████▊     | 110/228 [00:11<00:14,  8.17it/s]\n",
      "  1%|▏         | 3/228 [00:00<00:28,  7.79it/s]\n",
      "  0%|          | 0/228 [00:00<?, ?it/s]\u001b[32m [repeated 2x across cluster]\u001b[0m\n",
      " 26%|██▌       | 59/228 [00:09<01:34,  1.78it/s]\u001b[32m [repeated 206x across cluster]\u001b[0m\n",
      " 14%|█▍        | 33/228 [00:05<00:24,  7.96it/s]\u001b[32m [repeated 2x across cluster]\u001b[0m\n",
      " 41%|████      | 93/228 [00:14<00:19,  7.06it/s]\u001b[32m [repeated 272x across cluster]\u001b[0m\n",
      " 25%|██▌       | 57/228 [00:08<00:21,  7.94it/s]\u001b[32m [repeated 6x across cluster]\u001b[0m\n",
      " 92%|█████████▏| 209/228 [00:24<00:02,  7.92it/s]\n",
      " 92%|█████████▏| 210/228 [00:24<00:02,  8.01it/s]\n",
      " 93%|█████████▎| 211/228 [00:24<00:02,  8.02it/s]\n",
      " 93%|█████████▎| 212/228 [00:24<00:02,  7.22it/s]\n",
      " 93%|█████████▎| 213/228 [00:24<00:02,  7.19it/s]\n",
      " 94%|█████████▍| 214/228 [00:24<00:01,  7.71it/s]\n",
      " 94%|█████████▍| 215/228 [00:25<00:01,  7.47it/s]\n",
      " 95%|█████████▍| 216/228 [00:25<00:01,  7.72it/s]\n",
      " 95%|█████████▌| 217/228 [00:25<00:01,  7.65it/s]\n",
      " 96%|█████████▌| 218/228 [00:25<00:01,  7.61it/s]\n",
      " 96%|█████████▌| 219/228 [00:25<00:01,  8.03it/s]\n",
      " 96%|█████████▋| 220/228 [00:25<00:00,  8.03it/s]\n",
      " 97%|█████████▋| 222/228 [00:25<00:00,  8.41it/s]\n",
      " 98%|█████████▊| 223/228 [00:26<00:00,  8.27it/s]\n",
      " 57%|█████▋    | 131/228 [00:19<00:13,  7.36it/s]\u001b[32m [repeated 261x across cluster]\u001b[0m\n",
      "  0%|          | 0/228 [00:00<?, ?it/s]\n"
     ]
    },
    {
     "name": "stdout",
     "output_type": "stream",
     "text": [
      "\u001b[2m\u001b[36m(DefaultActor pid=92319)\u001b[0m  Training loss for epoch 0: 0.6291230711105623, accuracy: 0.7911184210526315\n",
      "\u001b[2m\u001b[36m(DefaultActor pid=92320)\u001b[0m  Training loss for epoch 0: 0.535817683658056, accuracy: 0.8015350877192983\n"
     ]
    },
    {
     "name": "stderr",
     "output_type": "stream",
     "text": [
      " 57%|█████▋    | 130/228 [00:19<00:13,  7.16it/s]\u001b[32m [repeated 5x across cluster]\u001b[0m\n",
      "100%|██████████| 228/228 [00:27<00:00,  8.32it/s]\u001b[32m [repeated 24x across cluster]\u001b[0m\n",
      " 73%|███████▎  | 167/228 [00:24<00:09,  6.77it/s]\u001b[32m [repeated 273x across cluster]\u001b[0m\n",
      "  0%|          | 0/228 [00:00<?, ?it/s]\n"
     ]
    },
    {
     "name": "stdout",
     "output_type": "stream",
     "text": [
      "\u001b[2m\u001b[36m(DefaultActor pid=92313)\u001b[0m  Training loss for epoch 0: 0.6053295394634468, accuracy: 0.8086622807017544\n"
     ]
    },
    {
     "name": "stderr",
     "output_type": "stream",
     "text": [
      "  0%|          | 0/228 [00:00<?, ?it/s]\n",
      " 16%|█▌        | 37/228 [00:04<00:21,  8.75it/s]\n",
      "100%|██████████| 228/228 [00:31<00:00,  7.15it/s]\u001b[32m [repeated 20x across cluster]\u001b[0m\n",
      " 34%|███▍      | 78/228 [00:09<00:16,  9.05it/s]\u001b[32m [repeated 282x across cluster]\u001b[0m\n",
      " 39%|███▊      | 88/228 [00:10<00:15,  8.80it/s]\n",
      "  0%|          | 0/228 [00:00<?, ?it/s]\n"
     ]
    },
    {
     "name": "stdout",
     "output_type": "stream",
     "text": [
      "\u001b[2m\u001b[36m(DefaultActor pid=92315)\u001b[0m  Training loss for epoch 0: 0.6656909852958562, accuracy: 0.7519188596491229\n"
     ]
    },
    {
     "name": "stderr",
     "output_type": "stream",
     "text": [
      " 98%|█████████▊| 224/228 [00:32<00:00,  5.43it/s]\u001b[32m [repeated 50x across cluster]\u001b[0m\n",
      "  4%|▍         | 10/228 [00:01<00:30,  7.20it/s]\u001b[32m [repeated 218x across cluster]\u001b[0m\n",
      " 79%|███████▉  | 181/228 [00:24<00:05,  8.46it/s]\n",
      " 56%|█████▌    | 128/228 [00:16<00:11,  8.44it/s]\n",
      "  0%|          | 0/228 [00:00<?, ?it/s]\u001b[32m [repeated 2x across cluster]\u001b[0m\n",
      " 99%|█████████▊| 225/228 [00:32<00:00,  5.04it/s]\u001b[32m [repeated 39x across cluster]\u001b[0m\n"
     ]
    },
    {
     "name": "stdout",
     "output_type": "stream",
     "text": [
      "\u001b[2m\u001b[36m(DefaultActor pid=92314)\u001b[0m  Training loss for epoch 0: 0.7926348010568243, accuracy: 0.7017543859649122\u001b[32m [repeated 3x across cluster]\u001b[0m\n"
     ]
    },
    {
     "name": "stderr",
     "output_type": "stream",
     "text": [
      " 18%|█▊        | 40/228 [00:06<00:24,  7.57it/s]\u001b[32m [repeated 207x across cluster]\u001b[0m\n",
      "  9%|▉         | 21/228 [00:02<00:27,  7.49it/s]\u001b[32m [repeated 6x across cluster]\u001b[0m\n",
      "  0%|          | 0/228 [00:00<?, ?it/s]\u001b[32m [repeated 2x across cluster]\u001b[0m\n",
      "100%|██████████| 228/228 [00:31<00:00,  7.28it/s]\u001b[32m [repeated 9x across cluster]\u001b[0m\n",
      " 21%|██▏       | 49/228 [00:06<00:20,  8.54it/s]\u001b[32m [repeated 275x across cluster]\u001b[0m\n",
      " 25%|██▌       | 58/228 [00:07<00:20,  8.31it/s]\u001b[32m [repeated 8x across cluster]\u001b[0m\n",
      " 93%|█████████▎| 212/228 [00:27<00:02,  7.45it/s]\u001b[32m [repeated 3x across cluster]\u001b[0m\n",
      " 47%|████▋     | 108/228 [00:16<00:17,  6.98it/s]\u001b[32m [repeated 240x across cluster]\u001b[0m\n",
      "  0%|          | 0/228 [00:00<?, ?it/s]\n"
     ]
    },
    {
     "name": "stdout",
     "output_type": "stream",
     "text": [
      "\u001b[2m\u001b[36m(DefaultActor pid=92319)\u001b[0m  Training loss for epoch 1: 0.5616766709768981, accuracy: 0.8166118421052632\u001b[32m [repeated 2x across cluster]\u001b[0m\n"
     ]
    },
    {
     "name": "stderr",
     "output_type": "stream",
     "text": [
      "\u001b[2m\u001b[36m(DefaultActor pid=92319)\u001b[0m \r",
      "  3%|▎         | 7/228 [00:00<00:30,  7.24it/s]\r",
      "  4%|▎         | 8/228 [00:01<00:28,  7.81it/s]\u001b[32m [repeated 3x across cluster]\u001b[0m\n"
     ]
    },
    {
     "name": "stdout",
     "output_type": "stream",
     "text": [
      "\u001b[2m\u001b[36m(DefaultActor pid=92320)\u001b[0m \n"
     ]
    },
    {
     "name": "stderr",
     "output_type": "stream",
     "text": [
      "100%|██████████| 228/228 [00:30<00:00,  7.57it/s]\u001b[32m [repeated 36x across cluster]\u001b[0m\n",
      " 64%|██████▍   | 146/228 [00:21<00:10,  7.48it/s]\u001b[32m [repeated 267x across cluster]\u001b[0m\n",
      "  0%|          | 0/228 [00:00<?, ?it/s]\n",
      " 10%|▉         | 22/228 [00:02<00:24,  8.54it/s]\u001b[32m [repeated 5x across cluster]\u001b[0m\n",
      " 92%|█████████▏| 209/228 [00:31<00:02,  7.54it/s]\n",
      " 92%|█████████▏| 210/228 [00:31<00:02,  7.26it/s]\n",
      " 93%|█████████▎| 211/228 [00:31<00:02,  7.34it/s]\n",
      " 93%|█████████▎| 212/228 [00:31<00:02,  7.13it/s]\n",
      " 93%|█████████▎| 213/228 [00:31<00:02,  7.11it/s]\n",
      " 94%|█████████▍| 214/228 [00:31<00:01,  7.11it/s]\n",
      " 94%|█████████▍| 215/228 [00:32<00:01,  6.98it/s]\n",
      " 95%|█████████▍| 216/228 [00:32<00:01,  7.51it/s]\n",
      " 95%|█████████▌| 217/228 [00:32<00:01,  7.54it/s]\n",
      " 96%|█████████▌| 218/228 [00:32<00:01,  7.63it/s]\n",
      " 71%|███████   | 162/228 [00:21<00:07,  8.31it/s]\u001b[32m [repeated 284x across cluster]\u001b[0m\n",
      " 96%|█████████▌| 219/228 [00:32<00:01,  7.14it/s]\n",
      " 96%|█████████▋| 220/228 [00:32<00:01,  7.39it/s]\n",
      " 97%|█████████▋| 221/228 [00:32<00:00,  7.21it/s]\n",
      " 97%|█████████▋| 222/228 [00:33<00:00,  7.41it/s]\n",
      " 98%|█████████▊| 223/228 [00:33<00:00,  7.47it/s]\n",
      " 98%|█████████▊| 224/228 [00:33<00:00,  7.51it/s]\n",
      " 99%|█████████▊| 225/228 [00:33<00:00,  7.56it/s]\n",
      " 99%|█████████▉| 226/228 [00:33<00:00,  7.51it/s]\n",
      "100%|█████████▉| 227/228 [00:33<00:00,  7.45it/s]\n",
      " 30%|███       | 69/228 [00:08<00:18,  8.69it/s]\u001b[32m [repeated 6x across cluster]\u001b[0m\n",
      "100%|██████████| 228/228 [00:33<00:00,  6.74it/s]\n",
      "  0%|          | 0/228 [00:00<?, ?it/s]\n"
     ]
    },
    {
     "name": "stdout",
     "output_type": "stream",
     "text": [
      "\u001b[2m\u001b[36m(DefaultActor pid=92313)\u001b[0m  Training loss for epoch 1: 0.4957639598532727, accuracy: 0.8478618421052632\u001b[32m [repeated 2x across cluster]\u001b[0m\n",
      "\u001b[2m\u001b[36m(DefaultActor pid=92313)\u001b[0m \n"
     ]
    },
    {
     "name": "stderr",
     "output_type": "stream",
     "text": [
      " 93%|█████████▎| 212/228 [00:30<00:01,  8.06it/s]\u001b[32m [repeated 22x across cluster]\u001b[0m\n",
      " 52%|█████▏    | 119/228 [00:15<00:13,  8.30it/s]\u001b[32m [repeated 227x across cluster]\u001b[0m\n",
      " 48%|████▊     | 110/228 [00:13<00:13,  8.66it/s]\u001b[32m [repeated 13x across cluster]\u001b[0m\n",
      "  0%|          | 0/228 [00:00<?, ?it/s]\u001b[32m [repeated 3x across cluster]\u001b[0m\n",
      " 99%|█████████▉| 226/228 [00:30<00:00,  7.50it/s]\u001b[32m [repeated 72x across cluster]\u001b[0m\n"
     ]
    },
    {
     "name": "stdout",
     "output_type": "stream",
     "text": [
      "\u001b[2m\u001b[36m(DefaultActor pid=92316)\u001b[0m  Training loss for epoch 1: 0.6746088761770934, accuracy: 0.7480811403508771\u001b[32m [repeated 4x across cluster]\u001b[0m\n"
     ]
    },
    {
     "name": "stderr",
     "output_type": "stream",
     "text": [
      " 12%|█▏        | 27/228 [00:04<00:27,  7.38it/s]\u001b[32m [repeated 210x across cluster]\u001b[0m\n",
      " 16%|█▌        | 36/228 [00:05<00:24,  8.00it/s]\u001b[32m [repeated 2x across cluster]\u001b[0m\n",
      "  0%|          | 0/228 [00:00<?, ?it/s]\u001b[32m [repeated 2x across cluster]\u001b[0m\n",
      "100%|██████████| 228/228 [00:30<00:00,  7.37it/s]\u001b[32m [repeated 3x across cluster]\u001b[0m\n",
      " 26%|██▋       | 60/228 [00:09<00:27,  6.03it/s]\u001b[32m [repeated 285x across cluster]\u001b[0m\n",
      " 83%|████████▎ | 189/228 [00:24<00:04,  8.67it/s]\u001b[32m [repeated 4x across cluster]\u001b[0m\n",
      " 97%|█████████▋| 222/228 [00:29<00:00,  8.34it/s]\u001b[32m [repeated 13x across cluster]\u001b[0m\n",
      "  0%|          | 0/228 [00:00<?, ?it/s]\n"
     ]
    },
    {
     "name": "stdout",
     "output_type": "stream",
     "text": [
      "\u001b[2m\u001b[36m(DefaultActor pid=92319)\u001b[0m  Training loss for epoch 2: 0.5431283236595622, accuracy: 0.8264802631578947\u001b[32m [repeated 2x across cluster]\u001b[0m\n"
     ]
    },
    {
     "name": "stderr",
     "output_type": "stream",
     "text": [
      "  2%|▏         | 5/228 [00:00<00:23,  9.34it/s]\u001b[32m [repeated 232x across cluster]\u001b[0m\n",
      " 40%|████      | 92/228 [00:12<00:15,  8.57it/s]\u001b[32m [repeated 10x across cluster]\u001b[0m\n",
      "100%|██████████| 228/228 [00:29<00:00,  7.70it/s]\u001b[32m [repeated 25x across cluster]\u001b[0m\n",
      "  0%|          | 0/228 [00:00<?, ?it/s]\n",
      " 58%|█████▊    | 133/228 [00:19<00:12,  7.68it/s]\u001b[32m [repeated 282x across cluster]\u001b[0m\n",
      " 59%|█████▉    | 135/228 [00:17<00:12,  7.53it/s]\u001b[32m [repeated 9x across cluster]\u001b[0m\n",
      " 75%|███████▌  | 171/228 [00:24<00:07,  7.66it/s]\u001b[32m [repeated 296x across cluster]\u001b[0m\n",
      " 92%|█████████▏| 209/228 [00:30<00:02,  7.19it/s]\n",
      " 92%|█████████▏| 210/228 [00:30<00:02,  7.20it/s]\n",
      " 93%|█████████▎| 211/228 [00:30<00:02,  7.13it/s]\n",
      " 93%|█████████▎| 212/228 [00:30<00:02,  7.09it/s]\n",
      " 34%|███▍      | 78/228 [00:09<00:17,  8.57it/s]\u001b[32m [repeated 5x across cluster]\u001b[0m\n",
      " 93%|█████████▎| 213/228 [00:30<00:02,  7.34it/s]\n",
      " 94%|█████████▍| 214/228 [00:30<00:02,  6.97it/s]\n",
      " 94%|█████████▍| 215/228 [00:30<00:01,  7.23it/s]\n",
      " 95%|█████████▍| 216/228 [00:30<00:01,  7.48it/s]\n",
      " 95%|█████████▌| 217/228 [00:31<00:01,  7.38it/s]\n",
      " 96%|█████████▌| 218/228 [00:31<00:01,  7.19it/s]\n",
      " 96%|█████████▌| 219/228 [00:31<00:01,  7.19it/s]\n",
      " 96%|█████████▋| 220/228 [00:31<00:01,  7.28it/s]\n",
      " 97%|█████████▋| 221/228 [00:31<00:00,  7.14it/s]\n"
     ]
    },
    {
     "name": "stdout",
     "output_type": "stream",
     "text": [
      "\u001b[2m\u001b[36m(DefaultActor pid=92313)\u001b[0m  Training loss for epoch 2: 0.5496100796746057, accuracy: 0.8201754385964912\u001b[32m [repeated 2x across cluster]\u001b[0m\n"
     ]
    },
    {
     "name": "stderr",
     "output_type": "stream",
     "text": [
      "  0%|          | 1/228 [00:00<00:24,  9.42it/s]\n",
      " 47%|████▋     | 107/228 [00:13<00:17,  6.92it/s]\u001b[32m [repeated 257x across cluster]\u001b[0m\n",
      "  0%|          | 0/228 [00:00<?, ?it/s]\n",
      " 95%|█████████▍| 216/228 [00:27<00:01,  8.79it/s]\u001b[32m [repeated 52x across cluster]\u001b[0m\n",
      "  7%|▋         | 17/228 [00:02<00:27,  7.79it/s]\u001b[32m [repeated 3x across cluster]\u001b[0m\n",
      "  5%|▌         | 12/228 [00:01<00:28,  7.49it/s]\u001b[32m [repeated 172x across cluster]\u001b[0m\n",
      "  0%|          | 0/228 [00:00<?, ?it/s]\u001b[32m [repeated 4x across cluster]\u001b[0m\n",
      "100%|██████████| 228/228 [00:29<00:00,  7.60it/s]\u001b[32m [repeated 52x across cluster]\u001b[0m\n",
      "  9%|▉         | 21/228 [00:02<00:23,  8.74it/s]\u001b[32m [repeated 14x across cluster]\u001b[0m\n",
      " 34%|███▍      | 77/228 [00:09<00:17,  8.69it/s]\u001b[32m [repeated 290x across cluster]\u001b[0m\n",
      " 96%|█████████▋| 220/228 [00:26<00:00,  8.96it/s]\u001b[32m [repeated 10x across cluster]\u001b[0m\n",
      " 37%|███▋      | 84/228 [00:10<00:17,  8.28it/s]\u001b[32m [repeated 12x across cluster]\u001b[0m\n",
      "  0%|          | 0/228 [00:00<?, ?it/s]\n"
     ]
    },
    {
     "name": "stdout",
     "output_type": "stream",
     "text": [
      "\u001b[2m\u001b[36m(DefaultActor pid=92319)\u001b[0m  Training loss for epoch 3: 0.5088017756086692, accuracy: 0.846765350877193\u001b[32m [repeated 6x across cluster]\u001b[0m\n"
     ]
    },
    {
     "name": "stderr",
     "output_type": "stream",
     "text": [
      " 50%|█████     | 115/228 [00:14<00:13,  8.22it/s]\u001b[32m [repeated 223x across cluster]\u001b[0m\n",
      "100%|██████████| 228/228 [00:28<00:00,  7.89it/s]\u001b[32m [repeated 25x across cluster]\u001b[0m\n",
      " 45%|████▌     | 103/228 [00:12<00:14,  8.50it/s]\u001b[32m [repeated 15x across cluster]\u001b[0m\n",
      "  0%|          | 0/228 [00:00<?, ?it/s]\n",
      " 57%|█████▋    | 129/228 [00:16<00:12,  7.98it/s]\u001b[32m [repeated 288x across cluster]\u001b[0m\n",
      " 63%|██████▎   | 144/228 [00:17<00:10,  8.08it/s]\u001b[32m [repeated 16x across cluster]\u001b[0m\n",
      " 74%|███████▍  | 169/228 [00:21<00:07,  8.09it/s]\u001b[32m [repeated 283x across cluster]\u001b[0m\n",
      " 92%|█████████▏| 209/228 [00:26<00:02,  7.75it/s]\n",
      " 92%|█████████▏| 210/228 [00:26<00:02,  7.97it/s]\n",
      " 93%|█████████▎| 211/228 [00:26<00:02,  8.35it/s]\n",
      " 93%|█████████▎| 212/228 [00:26<00:01,  8.46it/s]\n",
      " 43%|████▎     | 99/228 [00:11<00:14,  8.76it/s]\u001b[32m [repeated 12x across cluster]\u001b[0m\n",
      " 93%|█████████▎| 213/228 [00:26<00:01,  8.31it/s]\n",
      " 94%|█████████▍| 214/228 [00:26<00:01,  8.00it/s]\n",
      " 94%|█████████▍| 215/228 [00:26<00:01,  8.15it/s]\n",
      " 95%|█████████▍| 216/228 [00:26<00:01,  8.46it/s]\n",
      " 95%|█████████▌| 217/228 [00:27<00:01,  7.97it/s]\n",
      "  0%|          | 0/228 [00:00<?, ?it/s]\n"
     ]
    },
    {
     "name": "stdout",
     "output_type": "stream",
     "text": [
      "\u001b[2m\u001b[36m(DefaultActor pid=92318)\u001b[0m  Training loss for epoch 3: 0.9444918976279727, accuracy: 0.6170504385964912\u001b[32m [repeated 2x across cluster]\u001b[0m\n",
      "\u001b[2m\u001b[36m(DefaultActor pid=92316)\u001b[0m \n"
     ]
    },
    {
     "name": "stderr",
     "output_type": "stream",
     "text": [
      " 91%|█████████ | 208/228 [00:26<00:02,  7.54it/s]\u001b[32m [repeated 226x across cluster]\u001b[0m\n",
      " 99%|█████████▊| 225/228 [00:27<00:00,  8.73it/s]\u001b[32m [repeated 80x across cluster]\u001b[0m\n",
      "  2%|▏         | 5/228 [00:00<00:25,  8.71it/s]\u001b[32m [repeated 9x across cluster]\u001b[0m\n",
      "  0%|          | 0/228 [00:00<?, ?it/s]\u001b[32m [repeated 5x across cluster]\u001b[0m\n",
      "  7%|▋         | 16/228 [00:02<00:26,  7.88it/s]\u001b[32m [repeated 219x across cluster]\u001b[0m\n",
      "100%|██████████| 228/228 [00:29<00:00,  7.68it/s]\u001b[32m [repeated 28x across cluster]\u001b[0m\n",
      " 90%|████████▉ | 205/228 [00:24<00:02,  9.15it/s]\u001b[32m [repeated 10x across cluster]\u001b[0m\n"
     ]
    },
    {
     "name": "stdout",
     "output_type": "stream",
     "text": [
      "\u001b[2m\u001b[36m(DefaultActor pid=92319)\u001b[0m  Training loss for epoch 4: 0.5118411940832933, accuracy: 0.8418311403508771\u001b[32m [repeated 6x across cluster]\u001b[0m\n"
     ]
    },
    {
     "name": "stderr",
     "output_type": "stream",
     "text": [
      " 25%|██▌       | 58/228 [00:07<00:21,  8.00it/s]\u001b[32m [repeated 271x across cluster]\u001b[0m\n",
      " 96%|█████████▋| 220/228 [00:25<00:00,  8.78it/s]\u001b[32m [repeated 27x across cluster]\u001b[0m\n",
      " 90%|█████████ | 206/228 [00:24<00:02,  9.05it/s]\u001b[32m [repeated 6x across cluster]\u001b[0m\n",
      "  0%|          | 0/228 [00:00<?, ?it/s]\n",
      " 41%|████      | 94/228 [00:12<00:14,  9.00it/s]\u001b[32m [repeated 207x across cluster]\u001b[0m\n",
      "100%|██████████| 228/228 [00:27<00:00,  8.32it/s]\u001b[32m [repeated 6x across cluster]\u001b[0m\n",
      " 62%|██████▏   | 141/228 [00:17<00:09,  8.90it/s]\u001b[32m [repeated 8x across cluster]\u001b[0m\n",
      "  0%|          | 0/228 [00:00<?, ?it/s]\n",
      " 77%|███████▋  | 176/228 [00:21<00:06,  7.81it/s]\u001b[32m [repeated 282x across cluster]\u001b[0m\n",
      " 15%|█▌        | 35/228 [00:04<00:21,  8.82it/s]\u001b[32m [repeated 8x across cluster]\u001b[0m\n",
      " 92%|█████████▏| 209/228 [00:26<00:02,  7.57it/s]\n",
      " 73%|███████▎  | 166/228 [00:22<00:08,  7.73it/s]\u001b[32m [repeated 239x across cluster]\u001b[0m\n",
      " 92%|█████████▏| 210/228 [00:26<00:02,  7.54it/s]\n",
      " 93%|█████████▎| 211/228 [00:26<00:02,  7.69it/s]\n",
      " 93%|█████████▎| 212/228 [00:27<00:02,  7.48it/s]\n",
      " 93%|█████████▎| 213/228 [00:27<00:01,  7.66it/s]\n",
      " 94%|█████████▍| 214/228 [00:27<00:01,  8.02it/s]\n",
      " 94%|█████████▍| 215/228 [00:27<00:01,  7.94it/s]\n",
      " 32%|███▏      | 73/228 [00:09<00:17,  8.63it/s]\u001b[32m [repeated 14x across cluster]\u001b[0m\n"
     ]
    },
    {
     "name": "stdout",
     "output_type": "stream",
     "text": [
      "\u001b[2m\u001b[36m(DefaultActor pid=92318)\u001b[0m  Training loss for epoch 4: 0.9106296695638121, accuracy: 0.6206140350877193\u001b[32m [repeated 2x across cluster]\u001b[0m\n"
     ]
    },
    {
     "name": "stderr",
     "output_type": "stream",
     "text": [
      "100%|██████████| 228/228 [00:30<00:00,  7.45it/s]\u001b[32m [repeated 65x across cluster]\u001b[0m\n",
      " 91%|█████████ | 207/228 [00:27<00:02, 10.01it/s]\u001b[32m [repeated 187x across cluster]\u001b[0m\n",
      " 91%|█████████ | 207/228 [00:25<00:02,  8.41it/s]\n",
      " 94%|█████████▍| 214/228 [00:21<00:00, 16.34it/s]\u001b[32m [repeated 24x across cluster]\u001b[0m\n",
      " 79%|███████▉  | 180/228 [00:18<00:03, 15.65it/s]\u001b[32m [repeated 69x across cluster]\u001b[0m\n",
      "  0%|          | 0/228 [00:00<?, ?it/s]\n"
     ]
    },
    {
     "name": "stdout",
     "output_type": "stream",
     "text": [
      "\u001b[2m\u001b[36m(DefaultActor pid=92319)\u001b[0m  Training loss for epoch 0: 1.0895832912963734, accuracy: 0.6011513157894737\u001b[32m [repeated 6x across cluster]\u001b[0m\n"
     ]
    },
    {
     "name": "stderr",
     "output_type": "stream",
     "text": [
      "100%|██████████| 228/228 [00:21<00:00, 10.62it/s]\u001b[32m [repeated 17x across cluster]\u001b[0m\n",
      " 13%|█▎        | 30/228 [00:01<00:12, 15.39it/s]\u001b[32m [repeated 64x across cluster]\u001b[0m\n",
      "  0%|          | 0/228 [00:00<?, ?it/s]\n",
      " 67%|██████▋   | 152/228 [00:09<00:04, 15.80it/s]\u001b[32m [repeated 80x across cluster]\u001b[0m\n",
      " 92%|█████████▏| 210/228 [00:13<00:01, 16.18it/s]\n",
      " 93%|█████████▎| 212/228 [00:13<00:01, 15.93it/s]\n",
      " 94%|█████████▍| 214/228 [00:13<00:00, 15.83it/s]\n",
      " 95%|█████████▍| 216/228 [00:14<00:00, 15.96it/s]\n",
      " 96%|█████████▌| 218/228 [00:14<00:00, 16.18it/s]\n",
      " 96%|█████████▋| 220/228 [00:14<00:00, 16.16it/s]\n",
      " 97%|█████████▋| 222/228 [00:14<00:00, 15.99it/s]\n",
      " 98%|█████████▊| 224/228 [00:14<00:00, 15.82it/s]\n",
      " 78%|███████▊  | 178/228 [00:12<00:03, 15.45it/s]\u001b[32m [repeated 63x across cluster]\u001b[0m\n",
      " 99%|█████████▉| 226/228 [00:14<00:00, 16.32it/s]\n",
      "100%|██████████| 228/228 [00:14<00:00, 15.46it/s]\n",
      "  0%|          | 0/228 [00:00<?, ?it/s]\n"
     ]
    },
    {
     "name": "stdout",
     "output_type": "stream",
     "text": [
      "\u001b[2m\u001b[36m(DefaultActor pid=92319)\u001b[0m  Training loss for epoch 1: 0.9852527535536832, accuracy: 0.6107456140350878\u001b[32m [repeated 2x across cluster]\u001b[0m\n"
     ]
    },
    {
     "name": "stderr",
     "output_type": "stream",
     "text": [
      "100%|██████████| 228/228 [00:15<00:00, 14.98it/s]\u001b[32m [repeated 11x across cluster]\u001b[0m\n",
      " 33%|███▎      | 76/228 [00:04<00:09, 16.50it/s]\u001b[32m [repeated 67x across cluster]\u001b[0m\n",
      "  0%|          | 0/228 [00:00<?, ?it/s]\n",
      " 65%|██████▍   | 148/228 [00:09<00:05, 15.91it/s]\u001b[32m [repeated 72x across cluster]\u001b[0m\n",
      " 92%|█████████▏| 210/228 [00:13<00:01, 15.51it/s]\n",
      " 93%|█████████▎| 212/228 [00:13<00:01, 15.38it/s]\n",
      " 94%|█████████▍| 214/228 [00:13<00:00, 15.80it/s]\n",
      " 95%|█████████▍| 216/228 [00:14<00:00, 16.04it/s]\n",
      " 96%|█████████▌| 218/228 [00:14<00:00, 15.92it/s]\n",
      " 96%|█████████▋| 220/228 [00:14<00:00, 16.56it/s]\n",
      " 97%|█████████▋| 222/228 [00:14<00:00, 16.37it/s]\n",
      " 98%|█████████▊| 224/228 [00:14<00:00, 16.46it/s]\n",
      " 99%|█████████▉| 226/228 [00:14<00:00, 16.37it/s]\n",
      "100%|██████████| 228/228 [00:14<00:00, 15.36it/s]\n",
      "  0%|          | 0/228 [00:00<?, ?it/s]\n",
      " 78%|███████▊  | 178/228 [00:11<00:03, 15.67it/s]\u001b[32m [repeated 69x across cluster]\u001b[0m\n"
     ]
    },
    {
     "name": "stdout",
     "output_type": "stream",
     "text": [
      "\u001b[2m\u001b[36m(DefaultActor pid=92319)\u001b[0m  Training loss for epoch 2: 1.0203922419694431, accuracy: 0.6060855263157895\u001b[32m [repeated 2x across cluster]\u001b[0m\n"
     ]
    },
    {
     "name": "stderr",
     "output_type": "stream",
     "text": [
      "100%|██████████| 228/228 [00:15<00:00, 15.11it/s]\u001b[32m [repeated 10x across cluster]\u001b[0m\n",
      "  0%|          | 0/228 [00:00<?, ?it/s]\n",
      " 36%|███▌      | 82/228 [00:05<00:09, 15.71it/s]\u001b[32m [repeated 71x across cluster]\u001b[0m\n",
      " 71%|███████   | 162/228 [00:10<00:04, 15.60it/s]\u001b[32m [repeated 79x across cluster]\u001b[0m\n",
      " 92%|█████████▏| 210/228 [00:13<00:01, 15.66it/s]\n",
      " 93%|█████████▎| 212/228 [00:13<00:01, 15.46it/s]\n",
      " 94%|█████████▍| 214/228 [00:13<00:00, 15.56it/s]\n",
      " 95%|█████████▍| 216/228 [00:14<00:00, 15.51it/s]\n",
      " 96%|█████████▌| 218/228 [00:14<00:00, 15.56it/s]\n",
      " 96%|█████████▋| 220/228 [00:14<00:00, 15.70it/s]\n",
      " 97%|█████████▋| 222/228 [00:14<00:00, 15.63it/s]\n",
      " 98%|█████████▊| 224/228 [00:14<00:00, 15.91it/s]\n",
      " 99%|█████████▉| 226/228 [00:14<00:00, 15.82it/s]\n",
      "100%|██████████| 228/228 [00:14<00:00, 15.34it/s]\n",
      "  0%|          | 0/228 [00:00<?, ?it/s]\n"
     ]
    },
    {
     "name": "stdout",
     "output_type": "stream",
     "text": [
      "\u001b[2m\u001b[36m(DefaultActor pid=92319)\u001b[0m  Training loss for epoch 3: 0.9596071200151193, accuracy: 0.6181469298245614\u001b[32m [repeated 2x across cluster]\u001b[0m\n"
     ]
    },
    {
     "name": "stderr",
     "output_type": "stream",
     "text": [
      "  3%|▎         | 6/228 [00:00<00:14, 15.19it/s]\u001b[32m [repeated 61x across cluster]\u001b[0m\n",
      "100%|██████████| 228/228 [00:15<00:00, 15.03it/s]\u001b[32m [repeated 10x across cluster]\u001b[0m\n",
      "  0%|          | 0/228 [00:00<?, ?it/s]\n",
      " 38%|███▊      | 86/228 [00:05<00:08, 15.80it/s]\u001b[32m [repeated 69x across cluster]\u001b[0m\n",
      " 71%|███████   | 162/228 [00:10<00:04, 16.43it/s]\u001b[32m [repeated 74x across cluster]\u001b[0m\n",
      " 92%|█████████▏| 210/228 [00:13<00:01, 15.59it/s]\n",
      " 93%|█████████▎| 212/228 [00:13<00:01, 15.78it/s]\n",
      " 94%|█████████▍| 214/228 [00:13<00:00, 16.02it/s]\n",
      " 95%|█████████▍| 216/228 [00:13<00:00, 16.04it/s]\n",
      " 96%|█████████▌| 218/228 [00:13<00:00, 16.03it/s]\n",
      " 96%|█████████▋| 220/228 [00:14<00:00, 15.91it/s]\n",
      " 97%|█████████▋| 222/228 [00:14<00:00, 16.16it/s]\n",
      " 98%|█████████▊| 224/228 [00:14<00:00, 16.49it/s]\n",
      " 99%|█████████▉| 226/228 [00:14<00:00, 16.64it/s]\n",
      "100%|██████████| 228/228 [00:14<00:00, 15.69it/s]\n"
     ]
    },
    {
     "name": "stdout",
     "output_type": "stream",
     "text": [
      "\u001b[2m\u001b[36m(DefaultActor pid=92319)\u001b[0m  Training loss for epoch 4: 1.9828958239471703, accuracy: 0.3061951754385965\u001b[32m [repeated 2x across cluster]\u001b[0m\n"
     ]
    },
    {
     "name": "stderr",
     "output_type": "stream",
     "text": [
      " 80%|███████▉  | 182/228 [00:12<00:02, 16.23it/s]\u001b[32m [repeated 64x across cluster]\u001b[0m\n",
      "DEBUG flwr 2023-11-09 12:49:18,586 | server.py:236 | fit_round 14 received 10 results and 0 failures\n",
      "DEBUG:flwr:fit_round 14 received 10 results and 0 failures\n"
     ]
    },
    {
     "name": "stdout",
     "output_type": "stream",
     "text": [
      "Saving round 14 aggregated_parameters...\n",
      "Saved round 14 aggregated_parameters!\n"
     ]
    },
    {
     "name": "stderr",
     "output_type": "stream",
     "text": [
      "INFO flwr 2023-11-09 12:49:18,643 | server.py:171 | evaluate_round 14: no clients selected, cancel\n",
      "INFO:flwr:evaluate_round 14: no clients selected, cancel\n",
      "DEBUG flwr 2023-11-09 12:49:18,643 | server.py:222 | fit_round 15: strategy sampled 10 clients (out of 40)\n",
      "DEBUG:flwr:fit_round 15: strategy sampled 10 clients (out of 40)\n",
      "  0%|          | 0/228 [00:00<?, ?it/s]\n",
      "100%|██████████| 228/228 [00:14<00:00, 15.36it/s]\u001b[32m [repeated 10x across cluster]\u001b[0m\n",
      "  4%|▎         | 8/228 [00:00<00:15, 14.27it/s]\u001b[32m [repeated 17x across cluster]\u001b[0m\n",
      "  0%|          | 0/228 [00:00<?, ?it/s]\u001b[32m [repeated 3x across cluster]\u001b[0m\n",
      "  7%|▋         | 17/228 [00:01<00:19, 11.00it/s]\u001b[32m [repeated 65x across cluster]\u001b[0m\n",
      "  0%|          | 1/228 [00:00<00:25,  9.00it/s]\n",
      "  6%|▌         | 13/228 [00:01<00:24,  8.86it/s]\n",
      "  0%|          | 0/228 [00:00<?, ?it/s]\u001b[32m [repeated 3x across cluster]\u001b[0m\n",
      " 22%|██▏       | 51/228 [00:05<00:22,  7.96it/s]\u001b[32m [repeated 217x across cluster]\u001b[0m\n",
      " 30%|██▉       | 68/228 [00:09<00:37,  4.30it/s]\u001b[32m [repeated 11x across cluster]\u001b[0m\n",
      " 36%|███▌      | 81/228 [00:10<00:18,  7.95it/s]\u001b[32m [repeated 224x across cluster]\u001b[0m\n",
      " 37%|███▋      | 85/228 [00:11<00:16,  8.56it/s]\u001b[32m [repeated 14x across cluster]\u001b[0m\n",
      " 52%|█████▏    | 119/228 [00:16<00:13,  8.13it/s]\u001b[32m [repeated 274x across cluster]\u001b[0m\n",
      " 92%|█████████▏| 209/228 [00:23<00:02,  9.24it/s]\n",
      " 92%|█████████▏| 210/228 [00:23<00:01,  9.03it/s]\n",
      " 93%|█████████▎| 211/228 [00:23<00:01,  9.06it/s]\n",
      " 93%|█████████▎| 212/228 [00:23<00:01,  8.86it/s]\n",
      " 57%|█████▋    | 129/228 [00:16<00:11,  8.76it/s]\u001b[32m [repeated 7x across cluster]\u001b[0m\n",
      " 94%|█████████▍| 214/228 [00:23<00:01,  9.06it/s]\n",
      " 94%|█████████▍| 215/228 [00:23<00:01,  9.05it/s]\n",
      " 95%|█████████▍| 216/228 [00:24<00:01,  8.96it/s]\n",
      " 96%|█████████▌| 218/228 [00:24<00:01,  8.97it/s]\n",
      " 96%|█████████▋| 220/228 [00:24<00:00,  8.85it/s]\n",
      " 97%|█████████▋| 222/228 [00:24<00:00,  8.84it/s]\n",
      " 98%|█████████▊| 223/228 [00:24<00:00,  8.65it/s]\n",
      " 98%|█████████▊| 224/228 [00:24<00:00,  8.75it/s]\n",
      "  0%|          | 0/228 [00:00<?, ?it/s]\n"
     ]
    },
    {
     "name": "stdout",
     "output_type": "stream",
     "text": [
      "\u001b[2m\u001b[36m(DefaultActor pid=92320)\u001b[0m  Training loss for epoch 0: 0.8477435962934243, accuracy: 0.6680372807017544\u001b[32m [repeated 2x across cluster]\u001b[0m\n"
     ]
    },
    {
     "name": "stderr",
     "output_type": "stream",
     "text": [
      " 69%|██████▉   | 158/228 [00:21<00:09,  7.52it/s]\u001b[32m [repeated 288x across cluster]\u001b[0m\n",
      "100%|██████████| 228/228 [00:26<00:00,  8.64it/s]\u001b[32m [repeated 22x across cluster]\u001b[0m\n",
      " 78%|███████▊  | 178/228 [00:23<00:06,  8.24it/s]\u001b[32m [repeated 8x across cluster]\u001b[0m\n",
      "  0%|          | 0/228 [00:00<?, ?it/s]\n",
      " 86%|████████▋ | 197/228 [00:26<00:04,  7.63it/s]\u001b[32m [repeated 284x across cluster]\u001b[0m\n",
      " 94%|█████████▍| 215/228 [00:28<00:01,  7.81it/s]\u001b[32m [repeated 24x across cluster]\u001b[0m\n",
      " 22%|██▏       | 50/228 [00:05<00:20,  8.83it/s]\u001b[32m [repeated 13x across cluster]\u001b[0m\n",
      "  0%|          | 0/228 [00:00<?, ?it/s]\n"
     ]
    },
    {
     "name": "stdout",
     "output_type": "stream",
     "text": [
      "\u001b[2m\u001b[36m(DefaultActor pid=92315)\u001b[0m  Training loss for epoch 0: 0.4728835969509786, accuracy: 0.8464912280701754\u001b[32m [repeated 2x across cluster]\u001b[0m\n"
     ]
    },
    {
     "name": "stderr",
     "output_type": "stream",
     "text": [
      "  0%|          | 1/228 [00:00<00:23,  9.77it/s]\n",
      "  4%|▎         | 8/228 [00:01<00:28,  7.69it/s]\u001b[32m [repeated 206x across cluster]\u001b[0m\n",
      "100%|██████████| 228/228 [00:27<00:00,  8.21it/s]\u001b[32m [repeated 87x across cluster]\u001b[0m\n",
      " 12%|█▏        | 28/228 [00:03<00:20,  9.62it/s]\u001b[32m [repeated 5x across cluster]\u001b[0m\n",
      "  0%|          | 0/228 [00:00<?, ?it/s]\u001b[32m [repeated 4x across cluster]\u001b[0m\n",
      " 20%|██        | 46/228 [00:06<00:25,  7.06it/s]\u001b[32m [repeated 229x across cluster]\u001b[0m\n",
      " 27%|██▋       | 61/228 [00:08<00:18,  9.16it/s]\u001b[32m [repeated 8x across cluster]\u001b[0m\n",
      " 38%|███▊      | 87/228 [00:11<00:16,  8.67it/s]\u001b[32m [repeated 296x across cluster]\u001b[0m\n",
      " 47%|████▋     | 107/228 [00:13<00:14,  8.32it/s]\u001b[32m [repeated 12x across cluster]\u001b[0m\n",
      " 51%|█████     | 116/228 [00:16<00:16,  6.73it/s]\u001b[32m [repeated 260x across cluster]\u001b[0m\n",
      " 92%|█████████▏| 209/228 [00:25<00:02,  7.57it/s]\n",
      " 92%|█████████▏| 210/228 [00:25<00:02,  7.81it/s]\n",
      " 93%|█████████▎| 213/228 [00:26<00:01,  8.28it/s]\n",
      " 94%|█████████▍| 214/228 [00:26<00:01,  8.54it/s]\n",
      " 94%|█████████▍| 215/228 [00:26<00:01,  8.30it/s]\n",
      " 95%|█████████▍| 216/228 [00:26<00:01,  8.23it/s]\n",
      " 95%|█████████▌| 217/228 [00:26<00:01,  8.13it/s]\n",
      " 96%|█████████▌| 218/228 [00:27<00:01,  6.30it/s]\n",
      " 96%|█████████▌| 219/228 [00:27<00:01,  6.38it/s]\n",
      " 96%|█████████▋| 220/228 [00:27<00:01,  7.00it/s]\n",
      " 97%|█████████▋| 221/228 [00:27<00:01,  6.99it/s]\n",
      " 97%|█████████▋| 222/228 [00:27<00:00,  6.98it/s]\n",
      " 98%|█████████▊| 223/228 [00:27<00:00,  7.23it/s]\n",
      " 98%|█████████▊| 224/228 [00:27<00:00,  7.28it/s]\n",
      " 99%|█████████▊| 225/228 [00:27<00:00,  7.71it/s]\n",
      " 99%|█████████▉| 226/228 [00:28<00:00,  7.68it/s]\n",
      "100%|█████████▉| 227/228 [00:28<00:00,  7.96it/s]\n",
      "100%|██████████| 228/228 [00:28<00:00,  8.04it/s]\n",
      "  0%|          | 0/228 [00:00<?, ?it/s]\n"
     ]
    },
    {
     "name": "stdout",
     "output_type": "stream",
     "text": [
      "\u001b[2m\u001b[36m(DefaultActor pid=92320)\u001b[0m  Training loss for epoch 1: 0.8351665973140482, accuracy: 0.674890350877193\u001b[32m [repeated 6x across cluster]\u001b[0m\n"
     ]
    },
    {
     "name": "stderr",
     "output_type": "stream",
     "text": [
      " 61%|██████    | 139/228 [00:17<00:10,  8.17it/s]\u001b[32m [repeated 4x across cluster]\u001b[0m\n",
      " 66%|██████▌   | 151/228 [00:21<00:10,  7.58it/s]\u001b[32m [repeated 256x across cluster]\u001b[0m\n",
      "100%|██████████| 228/228 [00:28<00:00,  7.89it/s]\u001b[32m [repeated 19x across cluster]\u001b[0m\n",
      "  0%|          | 0/228 [00:00<?, ?it/s]\n",
      " 11%|█▏        | 26/228 [00:03<00:24,  8.33it/s]\n",
      " 87%|████████▋ | 198/228 [00:25<00:03,  8.54it/s]\n",
      " 82%|████████▏ | 187/228 [00:26<00:05,  7.37it/s]\u001b[32m [repeated 283x across cluster]\u001b[0m\n",
      " 89%|████████▊ | 202/228 [00:26<00:03,  8.43it/s]\n",
      " 92%|█████████▏| 209/228 [00:26<00:02,  7.97it/s]\n"
     ]
    },
    {
     "name": "stdout",
     "output_type": "stream",
     "text": [
      "\u001b[2m\u001b[36m(DefaultActor pid=92316)\u001b[0m  Training loss for epoch 1: 0.668091969662591, accuracy: 0.7672697368421053\u001b[32m [repeated 2x across cluster]\u001b[0m\n"
     ]
    },
    {
     "name": "stderr",
     "output_type": "stream",
     "text": [
      "  0%|          | 0/228 [00:00<?, ?it/s]\n",
      " 91%|█████████ | 208/228 [00:27<00:02,  8.57it/s]\u001b[32m [repeated 12x across cluster]\u001b[0m\n",
      "  6%|▌         | 14/228 [00:01<00:26,  8.21it/s]\u001b[32m [repeated 192x across cluster]\u001b[0m\n",
      " 97%|█████████▋| 221/228 [00:30<00:01,  6.78it/s]\u001b[32m [repeated 103x across cluster]\u001b[0m\n",
      "  0%|          | 0/228 [00:00<?, ?it/s]\u001b[32m [repeated 5x across cluster]\u001b[0m\n",
      " 55%|█████▌    | 126/228 [00:16<00:15,  6.60it/s]\u001b[32m [repeated 10x across cluster]\u001b[0m\n",
      " 14%|█▎        | 31/228 [00:04<00:26,  7.41it/s]\u001b[32m [repeated 222x across cluster]\u001b[0m\n",
      "100%|██████████| 228/228 [00:31<00:00,  7.22it/s]\u001b[32m [repeated 7x across cluster]\u001b[0m\n",
      " 36%|███▌      | 82/228 [00:10<00:16,  8.66it/s]\u001b[32m [repeated 9x across cluster]\u001b[0m\n",
      " 30%|██▉       | 68/228 [00:09<00:21,  7.28it/s]\u001b[32m [repeated 294x across cluster]\u001b[0m\n",
      " 92%|█████████▏| 209/228 [00:27<00:02,  7.88it/s]\n",
      " 53%|█████▎    | 120/228 [00:16<00:14,  7.22it/s]\u001b[32m [repeated 6x across cluster]\u001b[0m\n",
      " 92%|█████████▏| 210/228 [00:27<00:02,  7.85it/s]\n",
      " 93%|█████████▎| 211/228 [00:27<00:02,  8.08it/s]\n",
      " 46%|████▌     | 104/228 [00:14<00:15,  7.94it/s]\u001b[32m [repeated 250x across cluster]\u001b[0m\n",
      " 93%|█████████▎| 212/228 [00:27<00:02,  7.54it/s]\n",
      " 94%|█████████▍| 214/228 [00:27<00:01,  8.33it/s]\n",
      " 94%|█████████▍| 215/228 [00:27<00:01,  8.35it/s]\n",
      " 95%|█████████▍| 216/228 [00:27<00:01,  8.17it/s]\n",
      " 95%|█████████▌| 217/228 [00:28<00:01,  8.24it/s]\n",
      " 96%|█████████▌| 219/228 [00:28<00:01,  8.97it/s]\n",
      " 97%|█████████▋| 221/228 [00:28<00:00,  8.67it/s]\n",
      " 97%|█████████▋| 222/228 [00:28<00:00,  8.44it/s]\n",
      " 98%|█████████▊| 223/228 [00:28<00:00,  8.49it/s]\n",
      " 98%|█████████▊| 224/228 [00:28<00:00,  8.30it/s]\n",
      " 99%|█████████▊| 225/228 [00:28<00:00,  8.26it/s]\n",
      "100%|█████████▉| 227/228 [00:29<00:00,  8.83it/s]\n",
      "100%|██████████| 228/228 [00:29<00:00,  7.79it/s]\n",
      "  0%|          | 0/228 [00:00<?, ?it/s]\n"
     ]
    },
    {
     "name": "stdout",
     "output_type": "stream",
     "text": [
      "\u001b[2m\u001b[36m(DefaultActor pid=92320)\u001b[0m  Training loss for epoch 2: 0.8063884402314822, accuracy: 0.6891447368421053\u001b[32m [repeated 6x across cluster]\u001b[0m\n"
     ]
    },
    {
     "name": "stderr",
     "output_type": "stream",
     "text": [
      " 97%|█████████▋| 222/228 [00:29<00:00,  8.43it/s]\u001b[32m [repeated 13x across cluster]\u001b[0m\n",
      " 61%|██████▏   | 140/228 [00:18<00:13,  6.73it/s]\n",
      " 72%|███████▏  | 165/228 [00:21<00:08,  7.60it/s]\u001b[32m [repeated 13x across cluster]\u001b[0m\n",
      " 63%|██████▎   | 143/228 [00:19<00:12,  6.60it/s]\u001b[32m [repeated 229x across cluster]\u001b[0m\n",
      "  0%|          | 0/228 [00:00<?, ?it/s]\n",
      "100%|██████████| 228/228 [00:30<00:00,  7.51it/s]\u001b[32m [repeated 6x across cluster]\u001b[0m\n",
      " 10%|█         | 23/228 [00:02<00:28,  7.10it/s]\u001b[32m [repeated 3x across cluster]\u001b[0m\n",
      " 89%|████████▉ | 203/228 [00:26<00:02,  8.65it/s]\u001b[32m [repeated 12x across cluster]\u001b[0m\n",
      " 75%|███████▌  | 172/228 [00:24<00:07,  7.69it/s]\u001b[32m [repeated 276x across cluster]\u001b[0m\n"
     ]
    },
    {
     "name": "stdout",
     "output_type": "stream",
     "text": [
      "\u001b[2m\u001b[36m(DefaultActor pid=92316)\u001b[0m  Training loss for epoch 2: 0.6911584014693896, accuracy: 0.762609649122807\u001b[32m [repeated 2x across cluster]\u001b[0m\n"
     ]
    },
    {
     "name": "stderr",
     "output_type": "stream",
     "text": [
      "  0%|          | 0/228 [00:00<?, ?it/s]\n",
      "  0%|          | 1/228 [00:00<00:24,  9.12it/s]\n",
      " 96%|█████████▌| 219/228 [00:28<00:01,  7.49it/s]\u001b[32m [repeated 44x across cluster]\u001b[0m\n",
      " 75%|███████▌  | 172/228 [00:24<00:07,  7.77it/s]\u001b[32m [repeated 4x across cluster]\u001b[0m\n",
      " 34%|███▍      | 77/228 [00:09<00:19,  7.67it/s]\u001b[32m [repeated 242x across cluster]\u001b[0m\n",
      "  0%|          | 0/228 [00:00<?, ?it/s]\n",
      "  0%|          | 0/228 [00:00<?, ?it/s]\n"
     ]
    },
    {
     "name": "stdout",
     "output_type": "stream",
     "text": [
      "\u001b[2m\u001b[36m(DefaultActor pid=92315)\u001b[0m  Training loss for epoch 2: 0.41244437204053, accuracy: 0.8678728070175439\u001b[32m [repeated 3x across cluster]\u001b[0m\n"
     ]
    },
    {
     "name": "stderr",
     "output_type": "stream",
     "text": [
      " 99%|█████████▉| 226/228 [00:32<00:00,  6.83it/s]\u001b[32m [repeated 66x across cluster]\u001b[0m\n",
      " 20%|██        | 46/228 [00:06<00:28,  6.40it/s]\u001b[32m [repeated 2x across cluster]\u001b[0m\n",
      " 23%|██▎       | 52/228 [00:07<00:22,  7.94it/s]\u001b[32m [repeated 190x across cluster]\u001b[0m\n",
      "  0%|          | 0/228 [00:00<?, ?it/s]\u001b[32m [repeated 2x across cluster]\u001b[0m\n",
      "100%|██████████| 228/228 [00:33<00:00,  6.86it/s]\u001b[32m [repeated 2x across cluster]\u001b[0m\n",
      " 37%|███▋      | 85/228 [00:11<00:15,  8.95it/s]\u001b[32m [repeated 8x across cluster]\u001b[0m\n",
      " 23%|██▎       | 52/228 [00:07<00:23,  7.63it/s]\u001b[32m [repeated 298x across cluster]\u001b[0m\n",
      " 96%|█████████▌| 219/228 [00:27<00:01,  8.69it/s]\u001b[32m [repeated 10x across cluster]\u001b[0m\n",
      " 81%|████████  | 185/228 [00:24<00:05,  7.41it/s]\u001b[32m [repeated 6x across cluster]\u001b[0m\n",
      " 38%|███▊      | 87/228 [00:12<00:18,  7.78it/s]\u001b[32m [repeated 254x across cluster]\u001b[0m\n",
      "  0%|          | 0/228 [00:00<?, ?it/s]\n"
     ]
    },
    {
     "name": "stdout",
     "output_type": "stream",
     "text": [
      "\u001b[2m\u001b[36m(DefaultActor pid=92320)\u001b[0m  Training loss for epoch 3: 0.8354777935565564, accuracy: 0.6757127192982456\u001b[32m [repeated 3x across cluster]\u001b[0m\n"
     ]
    },
    {
     "name": "stderr",
     "output_type": "stream",
     "text": [
      "100%|██████████| 228/228 [00:29<00:00,  7.75it/s]\u001b[32m [repeated 25x across cluster]\u001b[0m\n",
      " 14%|█▍        | 32/228 [00:03<00:22,  8.63it/s]\u001b[32m [repeated 14x across cluster]\u001b[0m\n",
      " 56%|█████▌    | 127/228 [00:17<00:13,  7.39it/s]\u001b[32m [repeated 269x across cluster]\u001b[0m\n",
      "  0%|          | 0/228 [00:00<?, ?it/s]\n",
      " 96%|█████████▌| 219/228 [00:27<00:00,  9.55it/s]\u001b[32m [repeated 17x across cluster]\u001b[0m\n",
      " 32%|███▏      | 73/228 [00:08<00:17,  8.97it/s]\u001b[32m [repeated 11x across cluster]\u001b[0m\n",
      " 73%|███████▎  | 166/228 [00:22<00:07,  7.92it/s]\u001b[32m [repeated 271x across cluster]\u001b[0m\n",
      "  0%|          | 1/228 [00:00<00:26,  8.62it/s]\n",
      "  0%|          | 0/228 [00:00<?, ?it/s]\n"
     ]
    },
    {
     "name": "stdout",
     "output_type": "stream",
     "text": [
      "\u001b[2m\u001b[36m(DefaultActor pid=92314)\u001b[0m  Training loss for epoch 3: 1.6485180786827154, accuracy: 0.3481359649122807\u001b[32m [repeated 2x across cluster]\u001b[0m\n"
     ]
    },
    {
     "name": "stderr",
     "output_type": "stream",
     "text": [
      "100%|██████████| 228/228 [00:28<00:00,  8.00it/s]\u001b[32m [repeated 36x across cluster]\u001b[0m\n",
      " 16%|█▌        | 36/228 [00:04<00:20,  9.15it/s]\u001b[32m [repeated 13x across cluster]\u001b[0m\n",
      "  5%|▍         | 11/228 [00:01<00:28,  7.68it/s]\u001b[32m [repeated 274x across cluster]\u001b[0m\n",
      "  0%|          | 0/228 [00:00<?, ?it/s]\n",
      "  0%|          | 0/228 [00:00<?, ?it/s]\n"
     ]
    },
    {
     "name": "stdout",
     "output_type": "stream",
     "text": [
      "\u001b[2m\u001b[36m(DefaultActor pid=92317)\u001b[0m  Training loss for epoch 3: 0.8335913479851004, accuracy: 0.6803728070175439\u001b[32m [repeated 3x across cluster]\u001b[0m\n"
     ]
    },
    {
     "name": "stderr",
     "output_type": "stream",
     "text": [
      " 98%|█████████▊| 223/228 [00:30<00:00,  7.53it/s]\u001b[32m [repeated 53x across cluster]\u001b[0m\n",
      " 55%|█████▍    | 125/228 [00:15<00:11,  8.90it/s]\u001b[32m [repeated 9x across cluster]\u001b[0m\n",
      "  6%|▌         | 13/228 [00:01<00:27,  7.89it/s]\u001b[32m [repeated 208x across cluster]\u001b[0m\n",
      "  0%|          | 0/228 [00:00<?, ?it/s]\u001b[32m [repeated 2x across cluster]\u001b[0m\n",
      "100%|██████████| 228/228 [00:30<00:00,  7.44it/s]\u001b[32m [repeated 5x across cluster]\u001b[0m\n",
      " 51%|█████     | 116/228 [00:13<00:12,  9.12it/s]\u001b[32m [repeated 10x across cluster]\u001b[0m\n",
      " 24%|██▎       | 54/228 [00:06<00:21,  7.98it/s]\u001b[32m [repeated 299x across cluster]\u001b[0m\n"
     ]
    },
    {
     "name": "stdout",
     "output_type": "stream",
     "text": [
      "\u001b[2m\u001b[36m(DefaultActor pid=92320)\u001b[0m  Training loss for epoch 4: 0.8051973214013535, accuracy: 0.6864035087719298\u001b[32m [repeated 3x across cluster]\u001b[0m\n"
     ]
    },
    {
     "name": "stderr",
     "output_type": "stream",
     "text": [
      "100%|██████████| 228/228 [00:26<00:00,  8.51it/s]\u001b[32m [repeated 19x across cluster]\u001b[0m\n",
      "  0%|          | 0/228 [00:00<?, ?it/s]\n",
      " 66%|██████▌   | 151/228 [00:18<00:10,  7.51it/s]\u001b[32m [repeated 8x across cluster]\u001b[0m\n",
      " 57%|█████▋    | 129/228 [00:16<00:12,  8.10it/s]\u001b[32m [repeated 238x across cluster]\u001b[0m\n"
     ]
    },
    {
     "name": "stdout",
     "output_type": "stream",
     "text": [
      "\u001b[2m\u001b[36m(DefaultActor pid=92319)\u001b[0m  Training loss for epoch 4: 0.8559721944232782, accuracy: 0.6647478070175439\n"
     ]
    },
    {
     "name": "stderr",
     "output_type": "stream",
     "text": [
      "100%|██████████| 228/228 [00:28<00:00,  8.11it/s]\u001b[32m [repeated 18x across cluster]\u001b[0m\n",
      "  0%|          | 0/228 [00:00<?, ?it/s]\n",
      " 89%|████████▉ | 203/228 [00:24<00:02,  8.72it/s]\u001b[32m [repeated 8x across cluster]\u001b[0m\n",
      " 57%|█████▋    | 130/228 [00:16<00:12,  8.12it/s]\u001b[32m [repeated 272x across cluster]\u001b[0m\n"
     ]
    },
    {
     "name": "stdout",
     "output_type": "stream",
     "text": [
      "\u001b[2m\u001b[36m(DefaultActor pid=92316)\u001b[0m  Training loss for epoch 4: 0.6348630130421697, accuracy: 0.7735745614035088\n"
     ]
    },
    {
     "name": "stderr",
     "output_type": "stream",
     "text": [
      " 93%|█████████▎| 213/228 [00:25<00:01, 11.06it/s]\u001b[32m [repeated 36x across cluster]\u001b[0m\n",
      " 15%|█▍        | 34/228 [00:03<00:20,  9.59it/s]\u001b[32m [repeated 5x across cluster]\u001b[0m\n",
      " 77%|███████▋  | 175/228 [00:21<00:05,  9.58it/s]\u001b[32m [repeated 201x across cluster]\u001b[0m\n",
      " 96%|█████████▌| 219/228 [00:26<00:00, 10.90it/s]\u001b[32m [repeated 21x across cluster]\u001b[0m\n"
     ]
    },
    {
     "name": "stdout",
     "output_type": "stream",
     "text": [
      "\u001b[2m\u001b[36m(DefaultActor pid=92317)\u001b[0m  Training loss for epoch 4: 0.8433745553749695, accuracy: 0.6795504385964912\u001b[32m [repeated 3x across cluster]\u001b[0m\n"
     ]
    },
    {
     "name": "stderr",
     "output_type": "stream",
     "text": [
      " 50%|█████     | 115/228 [00:10<00:08, 12.91it/s]\u001b[32m [repeated 121x across cluster]\u001b[0m\n",
      "100%|██████████| 228/228 [00:26<00:00,  8.65it/s]\u001b[32m [repeated 19x across cluster]\u001b[0m\n",
      " 79%|███████▉  | 181/228 [00:15<00:02, 16.15it/s]\u001b[32m [repeated 60x across cluster]\u001b[0m\n",
      "  0%|          | 0/228 [00:00<?, ?it/s]\n"
     ]
    },
    {
     "name": "stdout",
     "output_type": "stream",
     "text": [
      "\u001b[2m\u001b[36m(DefaultActor pid=92320)\u001b[0m  Training loss for epoch 0: 0.4999876419703166, accuracy: 0.8519736842105263\u001b[32m [repeated 3x across cluster]\u001b[0m\n"
     ]
    },
    {
     "name": "stderr",
     "output_type": "stream",
     "text": [
      "100%|██████████| 228/228 [00:18<00:00, 12.17it/s]\u001b[32m [repeated 20x across cluster]\u001b[0m\n",
      " 15%|█▍        | 34/228 [00:02<00:13, 14.32it/s]\u001b[32m [repeated 65x across cluster]\u001b[0m\n",
      "  0%|          | 0/228 [00:00<?, ?it/s]\n",
      " 48%|████▊     | 110/228 [00:07<00:07, 16.34it/s]\u001b[32m [repeated 76x across cluster]\u001b[0m\n",
      " 92%|█████████▏| 210/228 [00:13<00:01, 16.15it/s]\n",
      " 93%|█████████▎| 212/228 [00:13<00:00, 16.13it/s]\n",
      " 94%|█████████▍| 214/228 [00:13<00:00, 15.96it/s]\n",
      " 95%|█████████▍| 216/228 [00:13<00:00, 15.96it/s]\n",
      " 96%|█████████▌| 218/228 [00:13<00:00, 16.10it/s]\n",
      " 96%|█████████▋| 220/228 [00:14<00:00, 16.17it/s]\n",
      " 97%|█████████▋| 222/228 [00:14<00:00, 15.94it/s]\n",
      " 98%|█████████▊| 224/228 [00:14<00:00, 15.87it/s]\n",
      " 99%|█████████▉| 226/228 [00:14<00:00, 15.86it/s]\n",
      " 84%|████████▍ | 192/228 [00:12<00:02, 16.22it/s]\u001b[32m [repeated 72x across cluster]\u001b[0m\n",
      "100%|██████████| 228/228 [00:14<00:00, 15.60it/s]\n",
      "  0%|          | 0/228 [00:00<?, ?it/s]\n"
     ]
    },
    {
     "name": "stdout",
     "output_type": "stream",
     "text": [
      "\u001b[2m\u001b[36m(DefaultActor pid=92320)\u001b[0m  Training loss for epoch 1: 0.5153480904144153, accuracy: 0.8327850877192983\u001b[32m [repeated 2x across cluster]\u001b[0m\n"
     ]
    },
    {
     "name": "stderr",
     "output_type": "stream",
     "text": [
      "100%|██████████| 228/228 [00:14<00:00, 15.80it/s]\u001b[32m [repeated 10x across cluster]\u001b[0m\n",
      " 35%|███▌      | 80/228 [00:05<00:09, 16.04it/s]\u001b[32m [repeated 71x across cluster]\u001b[0m\n",
      "  0%|          | 0/228 [00:00<?, ?it/s]\n",
      " 57%|█████▋    | 130/228 [00:07<00:05, 16.34it/s]\u001b[32m [repeated 82x across cluster]\u001b[0m\n",
      " 92%|█████████▏| 210/228 [00:13<00:01, 15.84it/s]\n",
      " 93%|█████████▎| 212/228 [00:13<00:01, 15.55it/s]\n",
      " 94%|█████████▍| 214/228 [00:13<00:00, 15.82it/s]\n",
      " 95%|█████████▍| 216/228 [00:13<00:00, 16.04it/s]\n",
      " 96%|█████████▌| 218/228 [00:14<00:00, 16.13it/s]\n",
      " 96%|█████████▋| 220/228 [00:14<00:00, 16.12it/s]\n",
      " 97%|█████████▋| 222/228 [00:14<00:00, 16.20it/s]\n",
      " 98%|█████████▊| 224/228 [00:14<00:00, 16.17it/s]\n",
      " 99%|█████████▉| 226/228 [00:14<00:00, 16.11it/s]\n",
      "100%|██████████| 228/228 [00:14<00:00, 15.51it/s]\n",
      "  0%|          | 0/228 [00:00<?, ?it/s]\n"
     ]
    },
    {
     "name": "stdout",
     "output_type": "stream",
     "text": [
      "\u001b[2m\u001b[36m(DefaultActor pid=92320)\u001b[0m  Training loss for epoch 2: 0.47272482805215477, accuracy: 0.8478618421052632\u001b[32m [repeated 2x across cluster]\u001b[0m\n"
     ]
    },
    {
     "name": "stderr",
     "output_type": "stream",
     "text": [
      " 90%|█████████ | 206/228 [00:12<00:01, 16.67it/s]\u001b[32m [repeated 65x across cluster]\u001b[0m\n",
      "100%|██████████| 228/228 [00:14<00:00, 15.95it/s]\u001b[32m [repeated 10x across cluster]\u001b[0m\n",
      "  0%|          | 0/228 [00:00<?, ?it/s]\n",
      " 26%|██▋       | 60/228 [00:03<00:10, 16.17it/s]\u001b[32m [repeated 71x across cluster]\u001b[0m\n",
      " 61%|██████    | 138/228 [00:08<00:05, 16.59it/s]\u001b[32m [repeated 77x across cluster]\u001b[0m\n",
      " 92%|█████████▏| 210/228 [00:13<00:01, 16.33it/s]\n",
      " 93%|█████████▎| 212/228 [00:13<00:00, 16.33it/s]\n",
      " 94%|█████████▍| 214/228 [00:13<00:00, 16.14it/s]\n",
      " 95%|█████████▍| 216/228 [00:13<00:00, 16.02it/s]\n",
      " 96%|█████████▌| 218/228 [00:13<00:00, 16.08it/s]\n",
      " 96%|█████████▋| 220/228 [00:14<00:00, 16.19it/s]\n",
      " 97%|█████████▋| 222/228 [00:14<00:00, 16.11it/s]\n",
      " 98%|█████████▊| 224/228 [00:14<00:00, 16.33it/s]\n",
      " 99%|█████████▉| 226/228 [00:14<00:00, 16.27it/s]\n",
      "100%|██████████| 228/228 [00:14<00:00, 15.63it/s]\n",
      "  0%|          | 0/228 [00:00<?, ?it/s]\n"
     ]
    },
    {
     "name": "stdout",
     "output_type": "stream",
     "text": [
      "\u001b[2m\u001b[36m(DefaultActor pid=92320)\u001b[0m  Training loss for epoch 3: 0.42843625170031663, accuracy: 0.8675986842105263\u001b[32m [repeated 2x across cluster]\u001b[0m\n"
     ]
    },
    {
     "name": "stderr",
     "output_type": "stream",
     "text": [
      "  6%|▌         | 14/228 [00:00<00:13, 16.26it/s]\u001b[32m [repeated 65x across cluster]\u001b[0m\n",
      "100%|██████████| 228/228 [00:14<00:00, 16.03it/s]\u001b[32m [repeated 10x across cluster]\u001b[0m\n",
      "  0%|          | 0/228 [00:00<?, ?it/s]\n",
      " 34%|███▍      | 78/228 [00:04<00:09, 15.88it/s]\u001b[32m [repeated 80x across cluster]\u001b[0m\n",
      " 71%|███████   | 162/228 [00:09<00:04, 16.34it/s]\u001b[32m [repeated 83x across cluster]\u001b[0m\n",
      " 92%|█████████▏| 210/228 [00:13<00:01, 13.75it/s]\n",
      " 93%|█████████▎| 212/228 [00:13<00:01, 14.41it/s]\n",
      " 94%|█████████▍| 214/228 [00:13<00:00, 14.84it/s]\n",
      " 95%|█████████▍| 216/228 [00:13<00:00, 15.14it/s]\n",
      " 96%|█████████▌| 218/228 [00:13<00:00, 15.39it/s]\n",
      " 96%|█████████▋| 220/228 [00:14<00:00, 15.52it/s]\n",
      " 97%|█████████▋| 222/228 [00:14<00:00, 15.53it/s]\n",
      " 98%|█████████▊| 224/228 [00:14<00:00, 15.74it/s]\n",
      " 99%|█████████▉| 226/228 [00:14<00:00, 15.77it/s]\n"
     ]
    },
    {
     "name": "stdout",
     "output_type": "stream",
     "text": [
      "\u001b[2m\u001b[36m(DefaultActor pid=92320)\u001b[0m  Training loss for epoch 4: 0.5475437073853978, accuracy: 0.815515350877193\u001b[32m [repeated 2x across cluster]\u001b[0m\n"
     ]
    },
    {
     "name": "stderr",
     "output_type": "stream",
     "text": [
      "DEBUG flwr 2023-11-09 12:53:02,443 | server.py:236 | fit_round 15 received 10 results and 0 failures\n",
      "DEBUG:flwr:fit_round 15 received 10 results and 0 failures\n"
     ]
    },
    {
     "name": "stdout",
     "output_type": "stream",
     "text": [
      "Saving round 15 aggregated_parameters...\n",
      "Saved round 15 aggregated_parameters!\n"
     ]
    },
    {
     "name": "stderr",
     "output_type": "stream",
     "text": [
      "INFO flwr 2023-11-09 12:53:02,495 | server.py:171 | evaluate_round 15: no clients selected, cancel\n",
      "INFO:flwr:evaluate_round 15: no clients selected, cancel\n",
      "DEBUG flwr 2023-11-09 12:53:02,496 | server.py:222 | fit_round 16: strategy sampled 10 clients (out of 40)\n",
      "DEBUG:flwr:fit_round 16: strategy sampled 10 clients (out of 40)\n",
      "  0%|          | 0/228 [00:00<?, ?it/s]\n",
      " 91%|█████████ | 208/228 [00:12<00:01, 15.85it/s]\u001b[32m [repeated 38x across cluster]\u001b[0m\n",
      "100%|██████████| 228/228 [00:14<00:00, 16.17it/s]\u001b[32m [repeated 11x across cluster]\u001b[0m\n",
      "  0%|          | 0/228 [00:00<?, ?it/s]\u001b[32m [repeated 2x across cluster]\u001b[0m\n",
      " 32%|███▏      | 74/228 [00:05<00:11, 13.06it/s]\u001b[32m [repeated 78x across cluster]\u001b[0m\n",
      "  0%|          | 0/228 [00:00<?, ?it/s]\u001b[32m [repeated 3x across cluster]\u001b[0m\n",
      " 11%|█         | 25/228 [00:02<00:21,  9.49it/s]\u001b[32m [repeated 124x across cluster]\u001b[0m\n",
      " 15%|█▍        | 34/228 [00:03<00:19,  9.76it/s]\n",
      " 19%|█▉        | 44/228 [00:04<00:21,  8.49it/s]\n",
      "  0%|          | 0/228 [00:00<?, ?it/s]\u001b[32m [repeated 2x across cluster]\u001b[0m\n",
      " 30%|██▉       | 68/228 [00:07<00:20,  7.75it/s]\u001b[32m [repeated 231x across cluster]\u001b[0m\n",
      " 48%|████▊     | 110/228 [00:12<00:14,  7.95it/s]\u001b[32m [repeated 7x across cluster]\u001b[0m\n",
      " 87%|████████▋ | 198/228 [00:20<00:03,  8.92it/s]\u001b[32m [repeated 237x across cluster]\u001b[0m\n",
      " 89%|████████▉ | 203/228 [00:20<00:02,  8.98it/s]\u001b[32m [repeated 7x across cluster]\u001b[0m\n",
      " 92%|█████████▏| 209/228 [00:21<00:02,  8.44it/s]\n",
      " 92%|█████████▏| 210/228 [00:21<00:02,  8.71it/s]\n",
      " 93%|█████████▎| 211/228 [00:21<00:01,  8.50it/s]\n",
      " 93%|█████████▎| 212/228 [00:21<00:01,  8.88it/s]\n",
      " 93%|█████████▎| 213/228 [00:21<00:01,  9.07it/s]\n",
      " 94%|█████████▍| 214/228 [00:22<00:01,  8.56it/s]\n",
      " 94%|█████████▍| 215/228 [00:22<00:01,  8.05it/s]\n",
      " 95%|█████████▌| 217/228 [00:22<00:01,  8.63it/s]\n",
      " 96%|█████████▌| 218/228 [00:22<00:01,  8.60it/s]\n",
      " 96%|█████████▌| 219/228 [00:22<00:01,  8.43it/s]\n",
      " 96%|█████████▋| 220/228 [00:22<00:00,  8.56it/s]\n",
      " 97%|█████████▋| 221/228 [00:22<00:00,  8.60it/s]\n",
      " 97%|█████████▋| 222/228 [00:22<00:00,  8.91it/s]\n",
      " 98%|█████████▊| 223/228 [00:23<00:00,  8.86it/s]\n",
      " 98%|█████████▊| 224/228 [00:23<00:00,  8.64it/s]\n",
      " 99%|█████████▊| 225/228 [00:23<00:00,  8.53it/s]\n",
      " 99%|█████████▉| 226/228 [00:23<00:00,  8.20it/s]\n",
      "100%|█████████▉| 227/228 [00:23<00:00,  7.96it/s]\n",
      "100%|██████████| 228/228 [00:23<00:00,  9.62it/s]\n",
      "  0%|          | 0/228 [00:00<?, ?it/s]\n"
     ]
    },
    {
     "name": "stdout",
     "output_type": "stream",
     "text": [
      "\u001b[2m\u001b[36m(DefaultActor pid=92319)\u001b[0m  Training loss for epoch 0: 0.6731333292105741, accuracy: 0.7467105263157895\u001b[32m [repeated 2x across cluster]\u001b[0m\n"
     ]
    },
    {
     "name": "stderr",
     "output_type": "stream",
     "text": [
      " 60%|█████▉    | 136/228 [00:17<00:11,  7.95it/s]\u001b[32m [repeated 273x across cluster]\u001b[0m\n",
      "  9%|▉         | 20/228 [00:02<00:22,  9.09it/s]\u001b[32m [repeated 10x across cluster]\u001b[0m\n",
      "100%|██████████| 228/228 [00:25<00:00,  9.07it/s]\u001b[32m [repeated 19x across cluster]\u001b[0m\n",
      "  0%|          | 0/228 [00:00<?, ?it/s]\n",
      " 77%|███████▋  | 175/228 [00:23<00:07,  7.35it/s]\u001b[32m [repeated 296x across cluster]\u001b[0m\n"
     ]
    },
    {
     "name": "stdout",
     "output_type": "stream",
     "text": [
      "\u001b[2m\u001b[36m(DefaultActor pid=92313)\u001b[0m  Training loss for epoch 0: 0.5346012410233941, accuracy: 0.8349780701754386\u001b[32m [repeated 2x across cluster]\u001b[0m\n"
     ]
    },
    {
     "name": "stderr",
     "output_type": "stream",
     "text": [
      "  0%|          | 0/228 [00:00<?, ?it/s]\n",
      " 29%|██▉       | 66/228 [00:07<00:17,  9.05it/s]\u001b[32m [repeated 7x across cluster]\u001b[0m\n",
      "100%|██████████| 228/228 [00:28<00:00,  7.88it/s]\u001b[32m [repeated 19x across cluster]\u001b[0m\n",
      " 83%|████████▎ | 189/228 [00:23<00:04,  8.41it/s]\u001b[32m [repeated 256x across cluster]\u001b[0m\n",
      "  0%|          | 0/228 [00:00<?, ?it/s]\u001b[32m [repeated 2x across cluster]\u001b[0m\n",
      " 80%|███████▉  | 182/228 [00:22<00:05,  8.20it/s]\u001b[32m [repeated 7x across cluster]\u001b[0m\n",
      " 98%|█████████▊| 223/228 [00:29<00:00,  7.74it/s]\u001b[32m [repeated 54x across cluster]\u001b[0m\n"
     ]
    },
    {
     "name": "stdout",
     "output_type": "stream",
     "text": [
      "\u001b[2m\u001b[36m(DefaultActor pid=92317)\u001b[0m  Training loss for epoch 0: 0.42464276318225946, accuracy: 0.8681469298245614\u001b[32m [repeated 3x across cluster]\u001b[0m\n"
     ]
    },
    {
     "name": "stderr",
     "output_type": "stream",
     "text": [
      "  2%|▏         | 4/228 [00:00<00:27,  8.21it/s]\u001b[32m [repeated 263x across cluster]\u001b[0m\n",
      "  0%|          | 0/228 [00:00<?, ?it/s]\u001b[32m [repeated 3x across cluster]\u001b[0m\n",
      " 57%|█████▋    | 129/228 [00:14<00:11,  8.78it/s]\u001b[32m [repeated 7x across cluster]\u001b[0m\n",
      "100%|██████████| 228/228 [00:27<00:00,  8.32it/s]\u001b[32m [repeated 43x across cluster]\u001b[0m\n",
      " 26%|██▌       | 59/228 [00:08<00:22,  7.57it/s]\u001b[32m [repeated 240x across cluster]\u001b[0m\n",
      " 73%|███████▎  | 167/228 [00:20<00:07,  8.35it/s]\u001b[32m [repeated 15x across cluster]\u001b[0m\n",
      " 92%|█████████▏| 209/228 [00:25<00:02,  8.10it/s]\n",
      " 93%|█████████▎| 211/228 [00:25<00:02,  8.34it/s]\n",
      " 93%|█████████▎| 212/228 [00:25<00:01,  8.57it/s]\n",
      " 93%|█████████▎| 213/228 [00:25<00:01,  8.47it/s]\n",
      " 94%|█████████▍| 214/228 [00:25<00:01,  8.62it/s]\n",
      " 94%|█████████▍| 215/228 [00:25<00:01,  8.47it/s]\n",
      " 95%|█████████▍| 216/228 [00:26<00:01,  8.36it/s]\n",
      " 95%|█████████▌| 217/228 [00:26<00:01,  8.16it/s]\n",
      " 96%|█████████▌| 218/228 [00:26<00:01,  8.40it/s]\n",
      " 96%|█████████▌| 219/228 [00:26<00:01,  8.69it/s]\n",
      " 96%|█████████▋| 220/228 [00:26<00:00,  8.86it/s]\n",
      " 43%|████▎     | 97/228 [00:13<00:16,  7.81it/s]\u001b[32m [repeated 269x across cluster]\u001b[0m\n",
      " 97%|█████████▋| 222/228 [00:26<00:00,  8.89it/s]\n",
      " 98%|█████████▊| 224/228 [00:26<00:00,  9.31it/s]\n",
      " 99%|█████████▊| 225/228 [00:27<00:00,  8.79it/s]\n",
      " 99%|█████████▉| 226/228 [00:27<00:00,  8.77it/s]\n",
      "100%|█████████▉| 227/228 [00:27<00:00,  8.89it/s]\n",
      "100%|██████████| 228/228 [00:27<00:00,  8.30it/s]\n",
      "  0%|          | 0/228 [00:00<?, ?it/s]\n"
     ]
    },
    {
     "name": "stdout",
     "output_type": "stream",
     "text": [
      "\u001b[2m\u001b[36m(DefaultActor pid=92319)\u001b[0m  Training loss for epoch 1: 0.6825666841315595, accuracy: 0.7491776315789473\u001b[32m [repeated 3x across cluster]\u001b[0m\n"
     ]
    },
    {
     "name": "stderr",
     "output_type": "stream",
     "text": [
      " 53%|█████▎    | 121/228 [00:14<00:11,  9.35it/s]\u001b[32m [repeated 16x across cluster]\u001b[0m\n",
      "100%|█████████▉| 227/228 [00:27<00:00,  7.57it/s]\u001b[32m [repeated 18x across cluster]\u001b[0m\n",
      " 59%|█████▉    | 134/228 [00:18<00:12,  7.54it/s]\u001b[32m [repeated 252x across cluster]\u001b[0m\n",
      "  0%|          | 0/228 [00:00<?, ?it/s]\n",
      "  9%|▉         | 20/228 [00:02<00:24,  8.50it/s]\u001b[32m [repeated 11x across cluster]\u001b[0m\n",
      "100%|██████████| 228/228 [00:27<00:00,  8.21it/s]\n",
      " 92%|█████████▏| 209/228 [00:27<00:02,  7.96it/s]\n",
      " 92%|█████████▏| 210/228 [00:28<00:02,  7.99it/s]\n",
      " 93%|█████████▎| 211/228 [00:28<00:02,  8.04it/s]\n",
      " 93%|█████████▎| 212/228 [00:28<00:02,  7.76it/s]\n",
      " 93%|█████████▎| 213/228 [00:28<00:01,  7.55it/s]\n",
      " 94%|█████████▍| 214/228 [00:28<00:01,  7.63it/s]\n",
      " 94%|█████████▍| 215/228 [00:28<00:01,  7.83it/s]\n",
      " 95%|█████████▍| 216/228 [00:28<00:01,  7.70it/s]\n",
      " 95%|█████████▌| 217/228 [00:28<00:01,  7.82it/s]\n",
      " 96%|█████████▌| 218/228 [00:29<00:01,  7.97it/s]\n",
      " 96%|█████████▌| 219/228 [00:29<00:01,  7.92it/s]\n",
      " 96%|█████████▋| 220/228 [00:29<00:01,  7.67it/s]\n",
      " 75%|███████▌  | 172/228 [00:23<00:07,  7.39it/s]\u001b[32m [repeated 284x across cluster]\u001b[0m\n",
      " 97%|█████████▋| 221/228 [00:29<00:00,  7.71it/s]\n",
      " 97%|█████████▋| 222/228 [00:29<00:00,  7.78it/s]\n",
      " 98%|█████████▊| 223/228 [00:29<00:00,  7.47it/s]\n",
      " 98%|█████████▊| 224/228 [00:29<00:00,  7.68it/s]\n",
      " 99%|█████████▊| 225/228 [00:29<00:00,  7.71it/s]\n",
      " 99%|█████████▉| 226/228 [00:30<00:00,  7.90it/s]\n",
      "100%|█████████▉| 227/228 [00:30<00:00,  7.94it/s]\n",
      "100%|██████████| 228/228 [00:30<00:00,  7.52it/s]\n",
      "  0%|          | 0/228 [00:00<?, ?it/s]\n"
     ]
    },
    {
     "name": "stdout",
     "output_type": "stream",
     "text": [
      "\u001b[2m\u001b[36m(DefaultActor pid=92313)\u001b[0m  Training loss for epoch 1: 0.4931980746945268, accuracy: 0.8516995614035088\u001b[32m [repeated 2x across cluster]\u001b[0m\n"
     ]
    },
    {
     "name": "stderr",
     "output_type": "stream",
     "text": [
      " 31%|███       | 71/228 [00:08<00:17,  9.15it/s]\u001b[32m [repeated 7x across cluster]\u001b[0m\n",
      "100%|██████████| 228/228 [00:27<00:00,  8.16it/s]\u001b[32m [repeated 38x across cluster]\u001b[0m\n",
      " 42%|████▏     | 96/228 [00:11<00:15,  8.38it/s]\u001b[32m [repeated 262x across cluster]\u001b[0m\n",
      "  0%|          | 0/228 [00:00<?, ?it/s]\u001b[32m [repeated 2x across cluster]\u001b[0m\n",
      " 46%|████▌     | 105/228 [00:12<00:14,  8.47it/s]\u001b[32m [repeated 7x across cluster]\u001b[0m\n"
     ]
    },
    {
     "name": "stdout",
     "output_type": "stream",
     "text": [
      "\u001b[2m\u001b[36m(DefaultActor pid=92314)\u001b[0m  Training loss for epoch 1: 0.691334948989383, accuracy: 0.7404057017543859\u001b[32m [repeated 3x across cluster]\u001b[0m\n"
     ]
    },
    {
     "name": "stderr",
     "output_type": "stream",
     "text": [
      "100%|██████████| 228/228 [00:27<00:00,  8.21it/s]\u001b[32m [repeated 58x across cluster]\u001b[0m\n",
      " 26%|██▌       | 59/228 [00:06<00:19,  8.75it/s]\u001b[32m [repeated 251x across cluster]\u001b[0m\n",
      "  0%|          | 0/228 [00:00<?, ?it/s]\u001b[32m [repeated 3x across cluster]\u001b[0m\n",
      " 28%|██▊       | 63/228 [00:07<00:18,  9.10it/s]\u001b[32m [repeated 8x across cluster]\u001b[0m\n",
      " 24%|██▍       | 55/228 [00:07<00:23,  7.38it/s]\u001b[32m [repeated 260x across cluster]\u001b[0m\n",
      " 92%|█████████▏| 209/228 [00:25<00:02,  8.52it/s]\n",
      " 93%|█████████▎| 211/228 [00:25<00:01,  8.62it/s]\n",
      " 93%|█████████▎| 212/228 [00:25<00:01,  8.69it/s]\n",
      " 32%|███▏      | 72/228 [00:09<00:17,  9.01it/s]\u001b[32m [repeated 11x across cluster]\u001b[0m\n",
      " 93%|█████████▎| 213/228 [00:25<00:01,  8.23it/s]\n",
      " 94%|█████████▍| 214/228 [00:26<00:01,  7.98it/s]\n",
      " 94%|█████████▍| 215/228 [00:26<00:01,  8.09it/s]\n",
      " 95%|█████████▍| 216/228 [00:26<00:01,  7.50it/s]\n",
      " 95%|█████████▌| 217/228 [00:26<00:01,  7.84it/s]\n",
      " 96%|█████████▌| 218/228 [00:26<00:01,  8.33it/s]\n",
      " 96%|█████████▌| 219/228 [00:26<00:01,  7.85it/s]\n",
      " 96%|█████████▋| 220/228 [00:26<00:01,  7.95it/s]\n",
      " 97%|█████████▋| 221/228 [00:26<00:00,  7.53it/s]\n",
      " 97%|█████████▋| 222/228 [00:27<00:00,  7.75it/s]\n",
      " 98%|█████████▊| 223/228 [00:27<00:00,  8.26it/s]\n",
      " 98%|█████████▊| 224/228 [00:27<00:00,  8.68it/s]\n",
      " 99%|█████████▊| 225/228 [00:27<00:00,  8.46it/s]\n",
      " 99%|█████████▉| 226/228 [00:27<00:00,  8.68it/s]\n",
      "100%|█████████▉| 227/228 [00:27<00:00,  8.28it/s]\n",
      "100%|██████████| 228/228 [00:27<00:00,  8.20it/s]\n",
      "  0%|          | 0/228 [00:00<?, ?it/s]\n"
     ]
    },
    {
     "name": "stdout",
     "output_type": "stream",
     "text": [
      "\u001b[2m\u001b[36m(DefaultActor pid=92319)\u001b[0m  Training loss for epoch 2: 0.7278823083952853, accuracy: 0.7280701754385965\u001b[32m [repeated 3x across cluster]\u001b[0m\n"
     ]
    },
    {
     "name": "stderr",
     "output_type": "stream",
     "text": [
      " 42%|████▏     | 95/228 [00:12<00:15,  8.67it/s]\u001b[32m [repeated 273x across cluster]\u001b[0m\n",
      " 99%|█████████▉| 226/228 [00:27<00:00,  8.48it/s]\u001b[32m [repeated 13x across cluster]\u001b[0m\n",
      " 44%|████▍     | 100/228 [00:12<00:14,  8.57it/s]\u001b[32m [repeated 8x across cluster]\u001b[0m\n",
      "  0%|          | 0/228 [00:00<?, ?it/s]\n",
      " 57%|█████▋    | 131/228 [00:18<00:12,  7.97it/s]\u001b[32m [repeated 261x across cluster]\u001b[0m\n",
      "100%|██████████| 228/228 [00:27<00:00,  8.21it/s]\u001b[32m [repeated 2x across cluster]\u001b[0m\n",
      " 66%|██████▌   | 150/228 [00:18<00:09,  8.25it/s]\u001b[32m [repeated 11x across cluster]\u001b[0m\n",
      " 82%|████████▏ | 187/228 [00:23<00:04,  8.77it/s]\u001b[32m [repeated 264x across cluster]\u001b[0m\n",
      " 94%|█████████▍| 215/228 [00:27<00:01,  7.12it/s]\u001b[32m [repeated 40x across cluster]\u001b[0m\n",
      "  0%|          | 0/228 [00:00<?, ?it/s]\n"
     ]
    },
    {
     "name": "stdout",
     "output_type": "stream",
     "text": [
      "\u001b[2m\u001b[36m(DefaultActor pid=92318)\u001b[0m  Training loss for epoch 2: 0.974666961713841, accuracy: 0.6167763157894737\u001b[32m [repeated 2x across cluster]\u001b[0m\n"
     ]
    },
    {
     "name": "stderr",
     "output_type": "stream",
     "text": [
      " 86%|████████▌ | 196/228 [00:24<00:03,  8.52it/s]\u001b[32m [repeated 14x across cluster]\u001b[0m\n",
      " 91%|█████████ | 208/228 [00:28<00:02,  7.78it/s]\u001b[32m [repeated 227x across cluster]\u001b[0m\n",
      " 93%|█████████▎| 213/228 [00:28<00:01,  7.51it/s]\u001b[32m [repeated 57x across cluster]\u001b[0m\n",
      "  0%|          | 0/228 [00:00<?, ?it/s]\u001b[32m [repeated 4x across cluster]\u001b[0m\n",
      " 64%|██████▎   | 145/228 [00:17<00:09,  8.88it/s]\u001b[32m [repeated 9x across cluster]\u001b[0m\n"
     ]
    },
    {
     "name": "stdout",
     "output_type": "stream",
     "text": [
      "\u001b[2m\u001b[36m(DefaultActor pid=92317)\u001b[0m  Training loss for epoch 2: 0.4639627942978813, accuracy: 0.8462171052631579\u001b[32m [repeated 5x across cluster]\u001b[0m\n"
     ]
    },
    {
     "name": "stderr",
     "output_type": "stream",
     "text": [
      "  8%|▊         | 19/228 [00:02<00:26,  7.95it/s]\u001b[32m [repeated 284x across cluster]\u001b[0m\n",
      "100%|██████████| 228/228 [00:30<00:00,  7.40it/s]\u001b[32m [repeated 15x across cluster]\u001b[0m\n",
      "  0%|          | 0/228 [00:00<?, ?it/s]\n",
      " 21%|██▏       | 49/228 [00:05<00:21,  8.41it/s]\u001b[32m [repeated 6x across cluster]\u001b[0m\n",
      " 24%|██▍       | 55/228 [00:07<00:21,  8.01it/s]\u001b[32m [repeated 260x across cluster]\u001b[0m\n",
      "  0%|          | 0/228 [00:00<?, ?it/s]\n"
     ]
    },
    {
     "name": "stdout",
     "output_type": "stream",
     "text": [
      "\u001b[2m\u001b[36m(DefaultActor pid=92319)\u001b[0m  Training loss for epoch 3: 0.6761158130932272, accuracy: 0.7401315789473685\n"
     ]
    },
    {
     "name": "stderr",
     "output_type": "stream",
     "text": [
      "100%|██████████| 228/228 [00:27<00:00,  8.21it/s]\u001b[32m [repeated 17x across cluster]\u001b[0m\n",
      " 38%|███▊      | 87/228 [00:10<00:15,  8.97it/s]\u001b[32m [repeated 9x across cluster]\u001b[0m\n"
     ]
    },
    {
     "name": "stdout",
     "output_type": "stream",
     "text": [
      "\u001b[2m\u001b[36m(DefaultActor pid=92320)\u001b[0m  Training loss for epoch 3: 0.4497452322393656, accuracy: 0.84375\n"
     ]
    },
    {
     "name": "stderr",
     "output_type": "stream",
     "text": [
      " 61%|██████▏   | 140/228 [00:18<00:10,  8.07it/s]\u001b[32m [repeated 288x across cluster]\u001b[0m\n",
      "  0%|          | 0/228 [00:00<?, ?it/s]\n",
      "100%|██████████| 228/228 [00:28<00:00,  8.08it/s]\u001b[32m [repeated 20x across cluster]\u001b[0m\n",
      "  8%|▊         | 19/228 [00:02<00:24,  8.47it/s]\u001b[32m [repeated 6x across cluster]\u001b[0m\n",
      " 57%|█████▋    | 130/228 [00:17<00:12,  8.00it/s]\u001b[32m [repeated 267x across cluster]\u001b[0m\n",
      " 75%|███████▌  | 171/228 [00:21<00:06,  8.71it/s]\u001b[32m [repeated 16x across cluster]\u001b[0m\n",
      " 92%|█████████▏| 209/228 [00:25<00:02,  8.11it/s]\n",
      " 92%|█████████▏| 210/228 [00:25<00:02,  8.23it/s]\n",
      " 93%|█████████▎| 211/228 [00:25<00:02,  8.48it/s]\n",
      " 93%|█████████▎| 213/228 [00:26<00:01,  8.96it/s]\n",
      " 94%|█████████▍| 214/228 [00:26<00:01,  9.00it/s]\n",
      " 94%|█████████▍| 215/228 [00:26<00:01,  8.72it/s]\n",
      " 95%|█████████▍| 216/228 [00:26<00:01,  8.69it/s]\n",
      " 95%|█████████▌| 217/228 [00:26<00:01,  8.55it/s]\n",
      " 96%|█████████▌| 218/228 [00:26<00:01,  8.36it/s]\n",
      " 96%|█████████▌| 219/228 [00:26<00:01,  8.47it/s]\n",
      " 96%|█████████▋| 220/228 [00:26<00:00,  8.67it/s]\n",
      " 97%|█████████▋| 221/228 [00:27<00:00,  8.64it/s]\n",
      " 97%|█████████▋| 222/228 [00:27<00:00,  8.61it/s]\n",
      " 98%|█████████▊| 223/228 [00:27<00:00,  8.88it/s]\n",
      " 98%|█████████▊| 224/228 [00:27<00:00,  8.63it/s]\n",
      " 99%|█████████▊| 225/228 [00:27<00:00,  8.34it/s]\n",
      "  0%|          | 0/228 [00:00<?, ?it/s]\n"
     ]
    },
    {
     "name": "stdout",
     "output_type": "stream",
     "text": [
      "\u001b[2m\u001b[36m(DefaultActor pid=92318)\u001b[0m  Training loss for epoch 3: 0.9538107458175275, accuracy: 0.6230811403508771\n"
     ]
    },
    {
     "name": "stderr",
     "output_type": "stream",
     "text": [
      "\u001b[2m\u001b[36m(DefaultActor pid=92317)\u001b[0m \r",
      " 75%|███████▍  | 170/228 [00:22<00:07,  7.95it/s]\u001b[32m [repeated 256x across cluster]\u001b[0m\n"
     ]
    },
    {
     "name": "stdout",
     "output_type": "stream",
     "text": [
      "\u001b[2m\u001b[36m(DefaultActor pid=92313)\u001b[0m  Training loss for epoch 3: 0.5405092729876438, accuracy: 0.8327850877192983\n"
     ]
    },
    {
     "name": "stderr",
     "output_type": "stream",
     "text": [
      " 41%|████      | 93/228 [00:11<00:15,  8.84it/s]\u001b[32m [repeated 7x across cluster]\u001b[0m\n",
      " 95%|█████████▍| 216/228 [00:26<00:01,  8.40it/s]\u001b[32m [repeated 56x across cluster]\u001b[0m\n",
      "  0%|          | 1/228 [00:00<00:25,  8.94it/s]\n",
      "  0%|          | 0/228 [00:00<?, ?it/s]\u001b[32m [repeated 3x across cluster]\u001b[0m\n",
      " 10%|█         | 23/228 [00:02<00:22,  9.05it/s]\u001b[32m [repeated 253x across cluster]\u001b[0m\n",
      " 60%|█████▉    | 136/228 [00:16<00:10,  8.45it/s]\u001b[32m [repeated 9x across cluster]\u001b[0m\n",
      " 95%|█████████▌| 217/228 [00:28<00:01,  7.82it/s]\u001b[32m [repeated 31x across cluster]\u001b[0m\n"
     ]
    },
    {
     "name": "stdout",
     "output_type": "stream",
     "text": [
      "\u001b[2m\u001b[36m(DefaultActor pid=92317)\u001b[0m  Training loss for epoch 3: 0.4192824073037819, accuracy: 0.8686951754385965\u001b[32m [repeated 4x across cluster]\u001b[0m\n"
     ]
    },
    {
     "name": "stderr",
     "output_type": "stream",
     "text": [
      "  0%|          | 0/228 [00:00<?, ?it/s]\n",
      "  8%|▊         | 19/228 [00:02<00:26,  7.78it/s]\u001b[32m [repeated 286x across cluster]\u001b[0m\n",
      " 88%|████████▊ | 201/228 [00:23<00:03,  8.87it/s]\u001b[32m [repeated 7x across cluster]\u001b[0m\n",
      " 95%|█████████▌| 217/228 [00:25<00:01,  8.46it/s]\u001b[32m [repeated 19x across cluster]\u001b[0m\n"
     ]
    },
    {
     "name": "stdout",
     "output_type": "stream",
     "text": [
      "\u001b[2m\u001b[36m(DefaultActor pid=92319)\u001b[0m  Training loss for epoch 4: 0.6750443675146814, accuracy: 0.7335526315789473\n",
      "\u001b[2m\u001b[36m(DefaultActor pid=92319)\u001b[0m \n"
     ]
    },
    {
     "name": "stderr",
     "output_type": "stream",
     "text": [
      " 25%|██▍       | 56/228 [00:07<00:19,  8.75it/s]\u001b[32m [repeated 238x across cluster]\u001b[0m\n",
      " 28%|██▊       | 64/228 [00:08<00:17,  9.15it/s]\u001b[32m [repeated 5x across cluster]\u001b[0m\n"
     ]
    },
    {
     "name": "stdout",
     "output_type": "stream",
     "text": [
      "\u001b[2m\u001b[36m(DefaultActor pid=92320)\u001b[0m  Training loss for epoch 4: 0.47495154306096465, accuracy: 0.8349780701754386\n"
     ]
    },
    {
     "name": "stderr",
     "output_type": "stream",
     "text": [
      "100%|██████████| 228/228 [00:28<00:00,  8.13it/s]\u001b[32m [repeated 27x across cluster]\u001b[0m\n",
      "  0%|          | 0/228 [00:00<?, ?it/s]\n",
      " 43%|████▎     | 98/228 [00:12<00:16,  7.70it/s]\u001b[32m [repeated 219x across cluster]\u001b[0m\n",
      " 68%|██████▊   | 155/228 [00:19<00:08,  8.39it/s]\u001b[32m [repeated 9x across cluster]\u001b[0m\n",
      "  0%|          | 0/228 [00:00<?, ?it/s]\n",
      " 92%|█████████▏| 209/228 [00:25<00:02,  8.41it/s]\n",
      " 92%|█████████▏| 210/228 [00:25<00:02,  8.59it/s]\n",
      " 93%|█████████▎| 211/228 [00:25<00:01,  8.52it/s]\n",
      " 93%|█████████▎| 212/228 [00:26<00:01,  8.54it/s]\n",
      " 93%|█████████▎| 213/228 [00:26<00:01,  8.58it/s]\n",
      " 94%|█████████▍| 214/228 [00:26<00:01,  8.55it/s]\n",
      " 94%|█████████▍| 215/228 [00:26<00:01,  8.56it/s]\n",
      " 95%|█████████▍| 216/228 [00:26<00:01,  8.79it/s]\n",
      " 95%|█████████▌| 217/228 [00:26<00:01,  8.49it/s]\n",
      " 96%|█████████▌| 218/228 [00:26<00:01,  7.45it/s]\n",
      " 56%|█████▌    | 127/228 [00:17<00:15,  6.33it/s]\u001b[32m [repeated 223x across cluster]\u001b[0m\n",
      " 96%|█████████▌| 219/228 [00:26<00:01,  6.49it/s]\n",
      " 96%|█████████▋| 220/228 [00:27<00:01,  6.25it/s]\n",
      " 97%|█████████▋| 221/228 [00:27<00:01,  6.82it/s]\n",
      " 97%|█████████▋| 222/228 [00:27<00:00,  7.13it/s]\n",
      " 98%|█████████▊| 223/228 [00:27<00:00,  7.12it/s]\n",
      " 98%|█████████▊| 224/228 [00:27<00:00,  5.92it/s]\n",
      " 74%|███████▍  | 169/228 [00:21<00:08,  6.95it/s]\n",
      " 87%|████████▋ | 199/228 [00:24<00:04,  5.92it/s]\n",
      " 99%|█████████▊| 225/228 [00:28<00:00,  4.47it/s]\n",
      " 99%|█████████▉| 226/228 [00:28<00:00,  4.58it/s]\n",
      "100%|█████████▉| 227/228 [00:28<00:00,  5.02it/s]\n"
     ]
    },
    {
     "name": "stdout",
     "output_type": "stream",
     "text": [
      "\u001b[2m\u001b[36m(DefaultActor pid=92318)\u001b[0m  Training loss for epoch 4: 0.9820789822883773, accuracy: 0.6148574561403509\n"
     ]
    },
    {
     "name": "stderr",
     "output_type": "stream",
     "text": [
      "100%|██████████| 228/228 [00:28<00:00,  7.96it/s]\n",
      " 96%|█████████▌| 218/228 [00:27<00:01,  7.55it/s]\u001b[32m [repeated 13x across cluster]\u001b[0m\n"
     ]
    },
    {
     "name": "stdout",
     "output_type": "stream",
     "text": [
      "\u001b[2m\u001b[36m(DefaultActor pid=92316)\u001b[0m  Training loss for epoch 4: 0.5372549644753075, accuracy: 0.7982456140350878\n"
     ]
    },
    {
     "name": "stderr",
     "output_type": "stream",
     "text": [
      " 71%|███████   | 162/228 [00:22<00:07,  8.43it/s]\u001b[32m [repeated 183x across cluster]\u001b[0m\n",
      " 89%|████████▊ | 202/228 [00:27<00:03,  7.90it/s]\u001b[32m [repeated 4x across cluster]\u001b[0m\n",
      "100%|██████████| 228/228 [00:29<00:00,  7.63it/s]\u001b[32m [repeated 54x across cluster]\u001b[0m\n",
      " 71%|███████▏  | 163/228 [00:18<00:05, 11.82it/s]\u001b[32m [repeated 91x across cluster]\u001b[0m\n"
     ]
    },
    {
     "name": "stdout",
     "output_type": "stream",
     "text": [
      "\u001b[2m\u001b[36m(DefaultActor pid=92317)\u001b[0m  Training loss for epoch 4: 0.4492218257990061, accuracy: 0.8714364035087719\u001b[32m [repeated 4x across cluster]\u001b[0m\n"
     ]
    },
    {
     "name": "stderr",
     "output_type": "stream",
     "text": [
      " 97%|█████████▋| 221/228 [00:21<00:00, 16.61it/s]\u001b[32m [repeated 18x across cluster]\u001b[0m\n",
      "  0%|          | 0/228 [00:00<?, ?it/s]\n",
      "  6%|▌         | 14/228 [00:00<00:12, 16.66it/s]\u001b[32m [repeated 67x across cluster]\u001b[0m\n"
     ]
    },
    {
     "name": "stdout",
     "output_type": "stream",
     "text": [
      "\u001b[2m\u001b[36m(DefaultActor pid=92320)\u001b[0m  Training loss for epoch 0: 0.6644228271355754, accuracy: 0.7601425438596491\u001b[32m [repeated 2x across cluster]\u001b[0m\n"
     ]
    },
    {
     "name": "stderr",
     "output_type": "stream",
     "text": [
      "100%|██████████| 228/228 [00:21<00:00, 10.74it/s]\u001b[32m [repeated 13x across cluster]\u001b[0m\n",
      "  0%|          | 0/228 [00:00<?, ?it/s]\n",
      " 42%|████▏     | 96/228 [00:05<00:08, 16.16it/s]\u001b[32m [repeated 70x across cluster]\u001b[0m\n",
      " 74%|███████▎  | 168/228 [00:10<00:07,  8.39it/s]\u001b[32m [repeated 70x across cluster]\u001b[0m\n",
      " 92%|█████████▏| 210/228 [00:13<00:01, 16.60it/s]\n",
      " 93%|█████████▎| 212/228 [00:13<00:00, 16.53it/s]\n",
      " 94%|█████████▍| 214/228 [00:13<00:00, 16.67it/s]\n",
      " 95%|█████████▍| 216/228 [00:13<00:00, 16.01it/s]\n",
      " 96%|█████████▌| 218/228 [00:13<00:00, 15.97it/s]\n",
      " 96%|█████████▋| 220/228 [00:14<00:00, 16.09it/s]\n",
      " 97%|█████████▋| 222/228 [00:14<00:00, 16.22it/s]\n",
      " 98%|█████████▊| 224/228 [00:14<00:00, 16.25it/s]\n",
      " 99%|█████████▉| 226/228 [00:14<00:00, 16.14it/s]\n",
      "100%|██████████| 228/228 [00:14<00:00, 15.63it/s]\n",
      "  0%|          | 0/228 [00:00<?, ?it/s]\n"
     ]
    },
    {
     "name": "stdout",
     "output_type": "stream",
     "text": [
      "\u001b[2m\u001b[36m(DefaultActor pid=92319)\u001b[0m  Training loss for epoch 1: 1.6174805517259396, accuracy: 0.35389254385964913\n"
     ]
    },
    {
     "name": "stderr",
     "output_type": "stream",
     "text": [
      "\u001b[2m\u001b[36m(DefaultActor pid=92319)\u001b[0m \r",
      " 11%|█         | 24/228 [00:01<00:12, 16.11it/s]\u001b[32m [repeated 71x across cluster]\u001b[0m\n"
     ]
    },
    {
     "name": "stdout",
     "output_type": "stream",
     "text": [
      "\u001b[2m\u001b[36m(DefaultActor pid=92320)\u001b[0m  Training loss for epoch 1: 0.6047522804062617, accuracy: 0.7785087719298246\n"
     ]
    },
    {
     "name": "stderr",
     "output_type": "stream",
     "text": [
      "100%|██████████| 228/228 [00:15<00:00, 14.72it/s]\u001b[32m [repeated 10x across cluster]\u001b[0m\n",
      "  0%|          | 0/228 [00:00<?, ?it/s]\n",
      " 44%|████▍     | 100/228 [00:06<00:10, 12.13it/s]\u001b[32m [repeated 64x across cluster]\u001b[0m\n",
      " 80%|███████▉  | 182/228 [00:11<00:02, 16.10it/s]\u001b[32m [repeated 79x across cluster]\u001b[0m\n",
      " 92%|█████████▏| 210/228 [00:13<00:01, 16.02it/s]\n",
      " 93%|█████████▎| 212/228 [00:13<00:00, 16.34it/s]\n",
      " 94%|█████████▍| 214/228 [00:13<00:00, 16.02it/s]\n",
      " 95%|█████████▍| 216/228 [00:13<00:00, 16.11it/s]\n",
      " 96%|█████████▌| 218/228 [00:13<00:00, 16.27it/s]\n",
      " 96%|█████████▋| 220/228 [00:13<00:00, 16.36it/s]\n",
      " 97%|█████████▋| 222/228 [00:14<00:00, 16.43it/s]\n",
      " 98%|█████████▊| 224/228 [00:14<00:00, 16.32it/s]\n",
      " 99%|█████████▉| 226/228 [00:14<00:00, 16.23it/s]\n",
      "100%|██████████| 228/228 [00:14<00:00, 15.85it/s]\n",
      "  0%|          | 0/228 [00:00<?, ?it/s]\n"
     ]
    },
    {
     "name": "stdout",
     "output_type": "stream",
     "text": [
      "\u001b[2m\u001b[36m(DefaultActor pid=92319)\u001b[0m  Training loss for epoch 2: 1.6211990374222136, accuracy: 0.3541666666666667\n"
     ]
    },
    {
     "name": "stderr",
     "output_type": "stream",
     "text": [
      " 16%|█▌        | 36/228 [00:02<00:11, 16.26it/s]\u001b[32m [repeated 70x across cluster]\u001b[0m\n",
      " 98%|█████████▊| 224/228 [00:14<00:00, 15.42it/s]\u001b[32m [repeated 8x across cluster]\u001b[0m\n"
     ]
    },
    {
     "name": "stdout",
     "output_type": "stream",
     "text": [
      "\u001b[2m\u001b[36m(DefaultActor pid=92320)\u001b[0m  Training loss for epoch 2: 0.6334958498023058, accuracy: 0.7645285087719298\n"
     ]
    },
    {
     "name": "stderr",
     "output_type": "stream",
     "text": [
      "  0%|          | 0/228 [00:00<?, ?it/s]\n",
      " 52%|█████▏    | 118/228 [00:07<00:07, 15.69it/s]\u001b[32m [repeated 70x across cluster]\u001b[0m\n",
      "100%|██████████| 228/228 [00:15<00:00, 14.95it/s]\u001b[32m [repeated 2x across cluster]\u001b[0m\n",
      " 86%|████████▌ | 196/228 [00:12<00:02, 14.85it/s]\u001b[32m [repeated 75x across cluster]\u001b[0m\n",
      " 98%|█████████▊| 224/228 [00:14<00:00, 16.31it/s]\u001b[32m [repeated 8x across cluster]\u001b[0m\n",
      "  0%|          | 0/228 [00:00<?, ?it/s]\n"
     ]
    },
    {
     "name": "stdout",
     "output_type": "stream",
     "text": [
      "\u001b[2m\u001b[36m(DefaultActor pid=92319)\u001b[0m  Training loss for epoch 3: 1.560831645863098, accuracy: 0.3536184210526316\n"
     ]
    },
    {
     "name": "stderr",
     "output_type": "stream",
     "text": [
      " 22%|██▏       | 50/228 [00:03<00:11, 16.06it/s]\u001b[32m [repeated 70x across cluster]\u001b[0m\n",
      " 97%|█████████▋| 222/228 [00:14<00:00, 15.36it/s]\u001b[32m [repeated 9x across cluster]\u001b[0m\n",
      "  0%|          | 0/228 [00:00<?, ?it/s]\n"
     ]
    },
    {
     "name": "stdout",
     "output_type": "stream",
     "text": [
      "\u001b[2m\u001b[36m(DefaultActor pid=92320)\u001b[0m  Training loss for epoch 3: 0.6399059897582782, accuracy: 0.7620614035087719\n"
     ]
    },
    {
     "name": "stderr",
     "output_type": "stream",
     "text": [
      " 55%|█████▌    | 126/228 [00:08<00:06, 15.04it/s]\u001b[32m [repeated 63x across cluster]\u001b[0m\n",
      "100%|██████████| 228/228 [00:15<00:00, 14.92it/s]\u001b[32m [repeated 3x across cluster]\u001b[0m\n",
      " 91%|█████████ | 208/228 [00:13<00:01, 16.49it/s]\u001b[32m [repeated 81x across cluster]\u001b[0m\n"
     ]
    },
    {
     "name": "stdout",
     "output_type": "stream",
     "text": [
      "\u001b[2m\u001b[36m(DefaultActor pid=92319)\u001b[0m  Training loss for epoch 4: 1.5691553884953784, accuracy: 0.36019736842105265\n"
     ]
    },
    {
     "name": "stderr",
     "output_type": "stream",
     "text": [
      "100%|██████████| 228/228 [00:14<00:00, 15.85it/s]\u001b[32m [repeated 10x across cluster]\u001b[0m\n",
      " 89%|████████▊ | 202/228 [00:13<00:01, 16.10it/s]\u001b[32m [repeated 42x across cluster]\u001b[0m\n",
      " 99%|█████████▉| 226/228 [00:14<00:00, 15.74it/s]\u001b[32m [repeated 9x across cluster]\u001b[0m\n",
      "DEBUG flwr 2023-11-09 12:56:48,550 | server.py:236 | fit_round 16 received 10 results and 0 failures\n",
      "DEBUG:flwr:fit_round 16 received 10 results and 0 failures\n"
     ]
    },
    {
     "name": "stdout",
     "output_type": "stream",
     "text": [
      "\u001b[2m\u001b[36m(DefaultActor pid=92320)\u001b[0m  Training loss for epoch 4: 0.6173299033390848, accuracy: 0.7658991228070176\n",
      "Saving round 16 aggregated_parameters...\n",
      "Saved round 16 aggregated_parameters!\n"
     ]
    },
    {
     "name": "stderr",
     "output_type": "stream",
     "text": [
      "INFO flwr 2023-11-09 12:56:48,622 | server.py:171 | evaluate_round 16: no clients selected, cancel\n",
      "INFO:flwr:evaluate_round 16: no clients selected, cancel\n",
      "DEBUG flwr 2023-11-09 12:56:48,623 | server.py:222 | fit_round 17: strategy sampled 10 clients (out of 40)\n",
      "DEBUG:flwr:fit_round 17: strategy sampled 10 clients (out of 40)\n",
      "  0%|          | 0/228 [00:00<?, ?it/s]\n",
      "  3%|▎         | 6/228 [00:01<00:36,  6.14it/s]\u001b[32m [repeated 14x across cluster]\u001b[0m\n",
      "100%|██████████| 228/228 [00:14<00:00, 15.28it/s]\n",
      "  0%|          | 0/228 [00:00<?, ?it/s]\u001b[32m [repeated 3x across cluster]\u001b[0m\n",
      " 33%|███▎      | 75/228 [00:06<00:16,  9.51it/s]\n",
      " 12%|█▏        | 28/228 [00:02<00:25,  7.73it/s]\u001b[32m [repeated 92x across cluster]\u001b[0m\n",
      "  0%|          | 0/228 [00:00<?, ?it/s]\u001b[32m [repeated 3x across cluster]\u001b[0m\n",
      "  6%|▌         | 13/228 [00:01<00:28,  7.58it/s]\u001b[32m [repeated 3x across cluster]\u001b[0m\n",
      "  4%|▎         | 8/228 [00:01<01:19,  2.77it/s]\u001b[32m [repeated 197x across cluster]\u001b[0m\n",
      "  0%|          | 0/228 [00:00<?, ?it/s]\n",
      " 28%|██▊       | 64/228 [00:09<00:19,  8.62it/s]\u001b[32m [repeated 3x across cluster]\u001b[0m\n",
      " 37%|███▋      | 85/228 [00:13<00:21,  6.72it/s]\u001b[32m [repeated 265x across cluster]\u001b[0m\n",
      " 50%|█████     | 115/228 [00:15<00:13,  8.13it/s]\u001b[32m [repeated 2x across cluster]\u001b[0m\n",
      " 54%|█████▎    | 122/228 [00:18<00:14,  7.24it/s]\u001b[32m [repeated 293x across cluster]\u001b[0m\n",
      " 92%|█████████▏| 209/228 [00:25<00:02,  8.23it/s]\n",
      " 92%|█████████▏| 210/228 [00:25<00:02,  7.98it/s]\n",
      " 93%|█████████▎| 211/228 [00:25<00:02,  7.86it/s]\n",
      " 93%|█████████▎| 212/228 [00:25<00:02,  7.79it/s]\n",
      " 93%|█████████▎| 213/228 [00:25<00:01,  8.01it/s]\n",
      " 94%|█████████▍| 214/228 [00:25<00:01,  8.05it/s]\n",
      " 94%|█████████▍| 215/228 [00:25<00:01,  8.14it/s]\n",
      " 95%|█████████▍| 216/228 [00:25<00:01,  8.37it/s]\n",
      " 95%|█████████▌| 217/228 [00:26<00:01,  7.97it/s]\n",
      " 96%|█████████▌| 218/228 [00:26<00:01,  8.03it/s]\n",
      " 96%|█████████▌| 219/228 [00:26<00:01,  7.80it/s]\n",
      " 96%|█████████▋| 220/228 [00:26<00:00,  8.10it/s]\n",
      " 97%|█████████▋| 221/228 [00:26<00:00,  8.02it/s]\n",
      " 97%|█████████▋| 222/228 [00:26<00:00,  7.67it/s]\n",
      " 98%|█████████▊| 223/228 [00:26<00:00,  7.84it/s]\n",
      " 98%|█████████▊| 224/228 [00:26<00:00,  7.98it/s]\n",
      " 84%|████████▍ | 192/228 [00:22<00:04,  8.21it/s]\u001b[32m [repeated 2x across cluster]\u001b[0m\n",
      " 70%|██████▉   | 159/228 [00:23<00:10,  6.64it/s]\u001b[32m [repeated 276x across cluster]\u001b[0m\n",
      " 99%|█████████▊| 225/228 [00:27<00:00,  7.79it/s]\n",
      " 99%|█████████▉| 226/228 [00:27<00:00,  7.80it/s]\n",
      "100%|█████████▉| 227/228 [00:27<00:00,  8.02it/s]\n",
      "  0%|          | 0/228 [00:00<?, ?it/s]\n"
     ]
    },
    {
     "name": "stdout",
     "output_type": "stream",
     "text": [
      "\u001b[2m\u001b[36m(DefaultActor pid=92320)\u001b[0m  Training loss for epoch 0: 0.4904507301388341, accuracy: 0.8489583333333334\n",
      "\u001b[2m\u001b[36m(DefaultActor pid=92319)\u001b[0m  Training loss for epoch 0: 0.6519144255210433, accuracy: 0.7524671052631579\n"
     ]
    },
    {
     "name": "stderr",
     "output_type": "stream",
     "text": [
      "100%|██████████| 228/228 [00:28<00:00,  7.92it/s]\u001b[32m [repeated 20x across cluster]\u001b[0m\n",
      " 80%|████████  | 183/228 [00:24<00:05,  8.63it/s]\u001b[32m [repeated 4x across cluster]\u001b[0m\n",
      " 86%|████████▌ | 196/228 [00:28<00:04,  7.16it/s]\u001b[32m [repeated 278x across cluster]\u001b[0m\n",
      "  0%|          | 0/228 [00:00<?, ?it/s]\n",
      " 95%|█████████▍| 216/228 [00:31<00:01,  7.16it/s]\u001b[32m [repeated 19x across cluster]\u001b[0m\n",
      "  0%|          | 0/228 [00:00<?, ?it/s]\n"
     ]
    },
    {
     "name": "stdout",
     "output_type": "stream",
     "text": [
      "\u001b[2m\u001b[36m(DefaultActor pid=92314)\u001b[0m  Training loss for epoch 0: 1.5909436596067328, accuracy: 0.3549890350877193\n",
      "\u001b[2m\u001b[36m(DefaultActor pid=92317)\u001b[0m  Training loss for epoch 0: 0.4594128732161041, accuracy: 0.8349780701754386\n"
     ]
    },
    {
     "name": "stderr",
     "output_type": "stream",
     "text": [
      " 31%|███       | 71/228 [00:08<00:19,  8.20it/s]\u001b[32m [repeated 5x across cluster]\u001b[0m\n",
      "  2%|▏         | 5/228 [00:00<00:29,  7.50it/s]\u001b[32m [repeated 240x across cluster]\u001b[0m\n",
      " 96%|█████████▋| 220/228 [00:32<00:03,  2.57it/s]\u001b[32m [repeated 69x across cluster]\u001b[0m\n",
      "  0%|          | 0/228 [00:00<?, ?it/s]\u001b[32m [repeated 3x across cluster]\u001b[0m\n"
     ]
    },
    {
     "name": "stdout",
     "output_type": "stream",
     "text": [
      "\u001b[2m\u001b[36m(DefaultActor pid=92313)\u001b[0m \n"
     ]
    },
    {
     "name": "stderr",
     "output_type": "stream",
     "text": [
      "\u001b[2m\u001b[36m(DefaultActor pid=92314)\u001b[0m \r",
      " 19%|█▉        | 44/228 [00:06<00:22,  8.25it/s]\r",
      " 20%|█▉        | 45/228 [00:06<00:21,  8.43it/s]\u001b[32m [repeated 7x across cluster]\u001b[0m\n",
      "\u001b[2m\u001b[36m(DefaultActor pid=92317)\u001b[0m \r",
      " 16%|█▌        | 37/228 [00:05<00:26,  7.16it/s]\u001b[32m [repeated 180x across cluster]\u001b[0m\n"
     ]
    },
    {
     "name": "stdout",
     "output_type": "stream",
     "text": [
      "\u001b[2m\u001b[36m(DefaultActor pid=92318)\u001b[0m  Training loss for epoch 0: 0.9612551734112856, accuracy: 0.6439144736842105\u001b[32m [repeated 4x across cluster]\u001b[0m\n"
     ]
    },
    {
     "name": "stderr",
     "output_type": "stream",
     "text": [
      "100%|██████████| 228/228 [00:32<00:00,  7.09it/s]\u001b[32m [repeated 24x across cluster]\u001b[0m\n",
      "  0%|          | 0/228 [00:00<?, ?it/s]\u001b[32m [repeated 2x across cluster]\u001b[0m\n",
      " 64%|██████▍   | 147/228 [00:19<00:09,  8.32it/s]\u001b[32m [repeated 12x across cluster]\u001b[0m\n",
      " 32%|███▏      | 73/228 [00:10<00:21,  7.05it/s]\u001b[32m [repeated 283x across cluster]\u001b[0m\n",
      " 79%|███████▉  | 180/228 [00:24<00:06,  7.67it/s]\u001b[32m [repeated 3x across cluster]\u001b[0m\n",
      " 55%|█████▍    | 125/228 [00:16<00:13,  7.53it/s]\u001b[32m [repeated 274x across cluster]\u001b[0m\n",
      " 92%|█████████▏| 209/228 [00:27<00:02,  8.13it/s]\n",
      " 92%|█████████▏| 210/228 [00:28<00:02,  8.06it/s]\n",
      " 93%|█████████▎| 211/228 [00:28<00:02,  8.27it/s]\n",
      " 93%|█████████▎| 212/228 [00:28<00:02,  7.96it/s]\n",
      " 93%|█████████▎| 213/228 [00:28<00:01,  7.74it/s]\n",
      " 94%|█████████▍| 214/228 [00:28<00:01,  8.26it/s]\n",
      " 94%|█████████▍| 215/228 [00:28<00:01,  8.05it/s]\n",
      " 95%|█████████▍| 216/228 [00:28<00:01,  7.65it/s]\n",
      " 95%|█████████▌| 217/228 [00:28<00:01,  7.92it/s]\n",
      " 96%|█████████▌| 218/228 [00:29<00:01,  8.06it/s]\n",
      " 96%|█████████▌| 219/228 [00:29<00:01,  8.04it/s]\n",
      " 96%|█████████▋| 220/228 [00:29<00:00,  8.46it/s]\n",
      " 97%|█████████▋| 221/228 [00:29<00:00,  8.28it/s]\n",
      " 97%|█████████▋| 222/228 [00:29<00:00,  8.50it/s]\n",
      " 98%|█████████▊| 224/228 [00:29<00:00,  8.52it/s]\n",
      " 99%|█████████▊| 225/228 [00:29<00:00,  8.24it/s]\n",
      " 71%|███████   | 162/228 [00:21<00:07,  8.47it/s]\u001b[32m [repeated 7x across cluster]\u001b[0m\n",
      " 62%|██████▏   | 142/228 [00:20<00:12,  7.07it/s]\u001b[32m [repeated 266x across cluster]\u001b[0m\n",
      " 99%|█████████▉| 226/228 [00:30<00:00,  8.31it/s]\n",
      "100%|█████████▉| 227/228 [00:30<00:00,  8.28it/s]\n",
      "  0%|          | 0/228 [00:00<?, ?it/s]\n"
     ]
    },
    {
     "name": "stdout",
     "output_type": "stream",
     "text": [
      "\u001b[2m\u001b[36m(DefaultActor pid=92320)\u001b[0m  Training loss for epoch 1: 0.49179986499968853, accuracy: 0.8516995614035088\n",
      "\u001b[2m\u001b[36m(DefaultActor pid=92319)\u001b[0m  Training loss for epoch 1: 0.6386917270720005, accuracy: 0.7579495614035088\n"
     ]
    },
    {
     "name": "stderr",
     "output_type": "stream",
     "text": [
      "100%|██████████| 228/228 [00:30<00:00,  7.53it/s]\u001b[32m [repeated 19x across cluster]\u001b[0m\n",
      " 75%|███████▌  | 171/228 [00:24<00:07,  7.30it/s]\u001b[32m [repeated 9x across cluster]\u001b[0m\n",
      " 79%|███████▊  | 179/228 [00:25<00:07,  6.75it/s]\u001b[32m [repeated 262x across cluster]\u001b[0m\n",
      "  0%|          | 0/228 [00:00<?, ?it/s]\n",
      "100%|█████████▉| 227/228 [00:29<00:00,  6.98it/s]\u001b[32m [repeated 17x across cluster]\u001b[0m\n",
      "  0%|          | 0/228 [00:00<?, ?it/s]\n"
     ]
    },
    {
     "name": "stdout",
     "output_type": "stream",
     "text": [
      "\u001b[2m\u001b[36m(DefaultActor pid=92314)\u001b[0m  Training loss for epoch 1: 1.54972404450701, accuracy: 0.3574561403508772\n"
     ]
    },
    {
     "name": "stderr",
     "output_type": "stream",
     "text": [
      "\u001b[2m\u001b[36m(DefaultActor pid=92314)\u001b[0m \r",
      "  4%|▍         | 10/228 [00:01<00:27,  7.81it/s]\r",
      "  5%|▍         | 11/228 [00:01<00:27,  8.03it/s]\u001b[32m [repeated 5x across cluster]\u001b[0m\n",
      "\u001b[2m\u001b[36m(DefaultActor pid=92314)\u001b[0m \r",
      "  7%|▋         | 15/228 [00:01<00:27,  7.78it/s]\u001b[32m [repeated 248x across cluster]\u001b[0m\n"
     ]
    },
    {
     "name": "stdout",
     "output_type": "stream",
     "text": [
      "\u001b[2m\u001b[36m(DefaultActor pid=92316)\u001b[0m  Training loss for epoch 1: 0.6154179623383179, accuracy: 0.7700109649122807\n"
     ]
    },
    {
     "name": "stderr",
     "output_type": "stream",
     "text": [
      " 96%|█████████▌| 218/228 [00:32<00:02,  3.56it/s]\u001b[32m [repeated 51x across cluster]\u001b[0m\n",
      "  0%|          | 0/228 [00:00<?, ?it/s]\u001b[32m [repeated 2x across cluster]\u001b[0m\n",
      " 47%|████▋     | 107/228 [00:14<00:15,  7.99it/s]\u001b[32m [repeated 7x across cluster]\u001b[0m\n",
      "  7%|▋         | 16/228 [00:02<00:28,  7.49it/s]\u001b[32m [repeated 175x across cluster]\u001b[0m\n"
     ]
    },
    {
     "name": "stdout",
     "output_type": "stream",
     "text": [
      "\u001b[2m\u001b[36m(DefaultActor pid=92313)\u001b[0m  Training loss for epoch 1: 0.7419384476124194, accuracy: 0.7228618421052632\u001b[32m [repeated 4x across cluster]\u001b[0m\n"
     ]
    },
    {
     "name": "stderr",
     "output_type": "stream",
     "text": [
      "100%|██████████| 228/228 [00:33<00:00,  6.88it/s]\u001b[32m [repeated 50x across cluster]\u001b[0m\n",
      "  0%|          | 0/228 [00:00<?, ?it/s]\u001b[32m [repeated 3x across cluster]\u001b[0m\n",
      " 16%|█▌        | 37/228 [00:05<00:24,  7.89it/s]\u001b[32m [repeated 7x across cluster]\u001b[0m\n",
      " 23%|██▎       | 53/228 [00:07<00:24,  7.07it/s]\u001b[32m [repeated 274x across cluster]\u001b[0m\n",
      " 51%|█████     | 116/228 [00:15<00:14,  7.93it/s]\u001b[32m [repeated 2x across cluster]\u001b[0m\n",
      " 25%|██▍       | 56/228 [00:08<00:24,  6.91it/s]\u001b[32m [repeated 260x across cluster]\u001b[0m\n",
      " 92%|█████████▏| 209/228 [00:28<00:03,  6.26it/s]\n",
      " 92%|█████████▏| 210/228 [00:28<00:02,  6.85it/s]\n",
      " 93%|█████████▎| 211/228 [00:28<00:02,  7.13it/s]\n",
      " 93%|█████████▎| 212/228 [00:28<00:02,  7.31it/s]\n",
      " 93%|█████████▎| 213/228 [00:28<00:01,  7.50it/s]\n",
      " 94%|█████████▍| 214/228 [00:29<00:02,  6.64it/s]\n",
      " 94%|█████████▍| 215/228 [00:29<00:01,  6.85it/s]\n",
      " 95%|█████████▍| 216/228 [00:29<00:01,  7.19it/s]\n",
      " 95%|█████████▌| 217/228 [00:29<00:01,  7.21it/s]\n",
      " 96%|█████████▌| 218/228 [00:29<00:01,  7.38it/s]\n",
      " 96%|█████████▌| 219/228 [00:29<00:01,  7.80it/s]\n",
      " 96%|█████████▋| 220/228 [00:29<00:00,  8.06it/s]\n",
      " 53%|█████▎    | 121/228 [00:17<00:15,  6.81it/s]\u001b[32m [repeated 279x across cluster]\u001b[0m\n",
      " 97%|█████████▋| 221/228 [00:30<00:01,  6.90it/s]\n",
      " 90%|█████████ | 206/228 [00:28<00:02,  8.38it/s]\n",
      " 97%|█████████▋| 222/228 [00:30<00:00,  7.19it/s]\n",
      " 98%|█████████▊| 223/228 [00:30<00:00,  7.05it/s]\n",
      " 98%|█████████▊| 224/228 [00:30<00:00,  7.66it/s]\n",
      "  0%|          | 0/228 [00:00<?, ?it/s]\n"
     ]
    },
    {
     "name": "stdout",
     "output_type": "stream",
     "text": [
      "\u001b[2m\u001b[36m(DefaultActor pid=92320)\u001b[0m  Training loss for epoch 2: 0.458891055432328, accuracy: 0.8582785087719298\n",
      "\u001b[2m\u001b[36m(DefaultActor pid=92319)\u001b[0m  Training loss for epoch 2: 0.8905386831284615, accuracy: 0.7050438596491229\n"
     ]
    },
    {
     "name": "stderr",
     "output_type": "stream",
     "text": [
      "100%|██████████| 228/228 [00:30<00:00,  7.37it/s]\u001b[32m [repeated 23x across cluster]\u001b[0m\n",
      " 68%|██████▊   | 156/228 [00:22<00:11,  6.49it/s]\u001b[32m [repeated 252x across cluster]\u001b[0m\n",
      " 83%|████████▎ | 190/228 [00:25<00:04,  8.16it/s]\u001b[32m [repeated 7x across cluster]\u001b[0m\n",
      "  0%|          | 0/228 [00:00<?, ?it/s]\n",
      "  0%|          | 0/228 [00:00<?, ?it/s]\n",
      "100%|██████████| 228/228 [00:30<00:00,  7.56it/s]\u001b[32m [repeated 17x across cluster]\u001b[0m\n",
      " 84%|████████▍ | 192/228 [00:27<00:05,  7.08it/s]\u001b[32m [repeated 264x across cluster]\u001b[0m\n",
      " 85%|████████▌ | 194/228 [00:26<00:04,  8.06it/s]\u001b[32m [repeated 2x across cluster]\u001b[0m\n"
     ]
    },
    {
     "name": "stdout",
     "output_type": "stream",
     "text": [
      "\u001b[2m\u001b[36m(DefaultActor pid=92316)\u001b[0m  Training loss for epoch 2: 0.5850148010149336, accuracy: 0.787828947368421\u001b[32m [repeated 2x across cluster]\u001b[0m\n",
      "\u001b[2m\u001b[36m(DefaultActor pid=92316)\u001b[0m \n"
     ]
    },
    {
     "name": "stderr",
     "output_type": "stream",
     "text": [
      "  0%|          | 0/228 [00:00<?, ?it/s]\n",
      " 93%|█████████▎| 213/228 [00:30<00:02,  6.67it/s]\u001b[32m [repeated 23x across cluster]\u001b[0m\n",
      " 47%|████▋     | 107/228 [00:14<00:14,  8.23it/s]\u001b[32m [repeated 213x across cluster]\u001b[0m\n",
      " 33%|███▎      | 76/228 [00:11<00:18,  8.09it/s]\u001b[32m [repeated 8x across cluster]\u001b[0m\n",
      "  0%|          | 0/228 [00:00<?, ?it/s]\n",
      " 96%|█████████▋| 220/228 [00:31<00:01,  7.78it/s]\u001b[32m [repeated 66x across cluster]\u001b[0m\n"
     ]
    },
    {
     "name": "stdout",
     "output_type": "stream",
     "text": [
      "\u001b[2m\u001b[36m(DefaultActor pid=92313)\u001b[0m  Training loss for epoch 2: 0.705568168573735, accuracy: 0.7321820175438597\u001b[32m [repeated 4x across cluster]\u001b[0m\n"
     ]
    },
    {
     "name": "stderr",
     "output_type": "stream",
     "text": [
      " 40%|████      | 92/228 [00:12<00:16,  8.26it/s]\u001b[32m [repeated 240x across cluster]\u001b[0m\n",
      " 38%|███▊      | 86/228 [00:11<00:16,  8.36it/s]\u001b[32m [repeated 8x across cluster]\u001b[0m\n",
      "  0%|          | 0/228 [00:00<?, ?it/s]\u001b[32m [repeated 3x across cluster]\u001b[0m\n",
      "100%|██████████| 228/228 [00:33<00:00,  6.90it/s]\u001b[32m [repeated 8x across cluster]\u001b[0m\n",
      " 27%|██▋       | 62/228 [00:09<00:23,  7.10it/s]\u001b[32m [repeated 256x across cluster]\u001b[0m\n",
      " 73%|███████▎  | 166/228 [00:22<00:09,  6.86it/s]\u001b[32m [repeated 2x across cluster]\u001b[0m\n",
      " 93%|█████████▎| 211/228 [00:27<00:02,  8.21it/s]\u001b[32m [repeated 2x across cluster]\u001b[0m\n",
      " 43%|████▎     | 99/228 [00:14<00:17,  7.26it/s]\u001b[32m [repeated 282x across cluster]\u001b[0m\n",
      " 80%|████████  | 183/228 [00:25<00:05,  8.17it/s]\u001b[32m [repeated 7x across cluster]\u001b[0m\n",
      "  0%|          | 0/228 [00:00<?, ?it/s]\n"
     ]
    },
    {
     "name": "stdout",
     "output_type": "stream",
     "text": [
      "\u001b[2m\u001b[36m(DefaultActor pid=92320)\u001b[0m  Training loss for epoch 3: 0.4885235967016534, accuracy: 0.8445723684210527\n"
     ]
    },
    {
     "name": "stderr",
     "output_type": "stream",
     "text": [
      "\u001b[2m\u001b[36m(DefaultActor pid=92319)\u001b[0m \r",
      " 99%|█████████▊| 225/228 [00:30<00:00,  7.63it/s]\u001b[32m [repeated 33x across cluster]\u001b[0m\n"
     ]
    },
    {
     "name": "stdout",
     "output_type": "stream",
     "text": [
      "\u001b[2m\u001b[36m(DefaultActor pid=92319)\u001b[0m  Training loss for epoch 3: 0.6498050474676124, accuracy: 0.7563048245614035\n"
     ]
    },
    {
     "name": "stderr",
     "output_type": "stream",
     "text": [
      " 60%|█████▉    | 136/228 [00:19<00:12,  7.49it/s]\u001b[32m [repeated 272x across cluster]\u001b[0m\n",
      " 86%|████████▋ | 197/228 [00:25<00:03,  8.48it/s]\u001b[32m [repeated 5x across cluster]\u001b[0m\n",
      "  0%|          | 0/228 [00:00<?, ?it/s]\n",
      "  0%|          | 0/228 [00:00<?, ?it/s]\n",
      "100%|██████████| 228/228 [00:29<00:00,  7.71it/s]\u001b[32m [repeated 19x across cluster]\u001b[0m\n",
      " 75%|███████▌  | 171/228 [00:24<00:07,  7.43it/s]\u001b[32m [repeated 263x across cluster]\u001b[0m\n",
      "  8%|▊         | 18/228 [00:02<00:26,  8.05it/s]\u001b[32m [repeated 5x across cluster]\u001b[0m\n"
     ]
    },
    {
     "name": "stdout",
     "output_type": "stream",
     "text": [
      "\u001b[2m\u001b[36m(DefaultActor pid=92316)\u001b[0m  Training loss for epoch 3: 0.5745412843922774, accuracy: 0.7886513157894737\u001b[32m [repeated 2x across cluster]\u001b[0m\n"
     ]
    },
    {
     "name": "stderr",
     "output_type": "stream",
     "text": [
      "  0%|          | 0/228 [00:00<?, ?it/s]\n",
      "100%|██████████| 228/228 [00:29<00:00,  7.68it/s]\u001b[32m [repeated 18x across cluster]\u001b[0m\n",
      " 90%|████████▉ | 205/228 [00:29<00:03,  7.50it/s]\u001b[32m [repeated 248x across cluster]\u001b[0m\n",
      " 10%|█         | 23/228 [00:03<00:24,  8.28it/s]\u001b[32m [repeated 6x across cluster]\u001b[0m\n",
      "  0%|          | 0/228 [00:00<?, ?it/s]\n"
     ]
    },
    {
     "name": "stdout",
     "output_type": "stream",
     "text": [
      "\u001b[2m\u001b[36m(DefaultActor pid=92317)\u001b[0m  Training loss for epoch 3: 0.45934939072385694, accuracy: 0.8360745614035088\u001b[32m [repeated 2x across cluster]\u001b[0m\n"
     ]
    },
    {
     "name": "stderr",
     "output_type": "stream",
     "text": [
      " 98%|█████████▊| 224/228 [00:31<00:00,  6.75it/s]\u001b[32m [repeated 56x across cluster]\u001b[0m\n",
      " 11%|█         | 24/228 [00:03<00:29,  6.94it/s]\u001b[32m [repeated 234x across cluster]\u001b[0m\n",
      " 39%|███▉      | 89/228 [00:11<00:16,  8.50it/s]\u001b[32m [repeated 2x across cluster]\u001b[0m\n",
      "  0%|          | 0/228 [00:00<?, ?it/s]\u001b[32m [repeated 2x across cluster]\u001b[0m\n",
      "100%|██████████| 228/228 [00:33<00:00,  6.83it/s]\u001b[32m [repeated 24x across cluster]\u001b[0m\n",
      " 26%|██▋       | 60/228 [00:08<00:20,  8.35it/s]\u001b[32m [repeated 246x across cluster]\u001b[0m\n",
      " 31%|███       | 70/228 [00:08<00:19,  8.01it/s]\n",
      "  0%|          | 0/228 [00:00<?, ?it/s]\n",
      " 53%|█████▎    | 120/228 [00:15<00:13,  8.16it/s]\n",
      " 93%|█████████▎| 213/228 [00:27<00:01,  7.88it/s]\u001b[32m [repeated 5x across cluster]\u001b[0m\n",
      " 37%|███▋      | 84/228 [00:12<00:16,  8.71it/s]\u001b[32m [repeated 274x across cluster]\u001b[0m\n"
     ]
    },
    {
     "name": "stdout",
     "output_type": "stream",
     "text": [
      "\u001b[2m\u001b[36m(DefaultActor pid=92320)\u001b[0m  Training loss for epoch 4: 0.4965287778003697, accuracy: 0.8442982456140351\u001b[32m [repeated 3x across cluster]\u001b[0m\n"
     ]
    },
    {
     "name": "stderr",
     "output_type": "stream",
     "text": [
      " 63%|██████▎   | 144/228 [00:18<00:10,  7.90it/s]\u001b[32m [repeated 8x across cluster]\u001b[0m\n",
      "  0%|          | 0/228 [00:00<?, ?it/s]\n",
      " 93%|█████████▎| 212/228 [00:29<00:02,  6.65it/s]\u001b[32m [repeated 18x across cluster]\u001b[0m\n",
      " 52%|█████▏    | 119/228 [00:17<00:16,  6.77it/s]\u001b[32m [repeated 245x across cluster]\u001b[0m\n"
     ]
    },
    {
     "name": "stdout",
     "output_type": "stream",
     "text": [
      "\u001b[2m\u001b[36m(DefaultActor pid=92319)\u001b[0m  Training loss for epoch 4: 0.6930573355864015, accuracy: 0.7467105263157895\n",
      "\u001b[2m\u001b[36m(DefaultActor pid=92314)\u001b[0m  Training loss for epoch 4: 1.5434887215756534, accuracy: 0.3626644736842105\n"
     ]
    },
    {
     "name": "stderr",
     "output_type": "stream",
     "text": [
      "  9%|▉         | 20/228 [00:02<00:26,  7.75it/s]\n",
      "  0%|          | 1/228 [00:00<00:25,  9.05it/s]\n",
      " 93%|█████████▎| 211/228 [00:26<00:01,  8.78it/s]\u001b[32m [repeated 36x across cluster]\u001b[0m\n",
      " 69%|██████▉   | 157/228 [00:22<00:08,  7.91it/s]\u001b[32m [repeated 227x across cluster]\u001b[0m\n",
      " 62%|██████▏   | 142/228 [00:19<00:15,  5.67it/s]\n",
      "100%|██████████| 228/228 [00:28<00:00,  7.95it/s]\u001b[32m [repeated 14x across cluster]\u001b[0m\n",
      " 85%|████████▍ | 193/228 [00:27<00:03,  8.82it/s]\u001b[32m [repeated 177x across cluster]\u001b[0m\n"
     ]
    },
    {
     "name": "stdout",
     "output_type": "stream",
     "text": [
      "\u001b[2m\u001b[36m(DefaultActor pid=92318)\u001b[0m  Training loss for epoch 4: 0.8232357255591635, accuracy: 0.6776315789473685\u001b[32m [repeated 2x across cluster]\u001b[0m\n"
     ]
    },
    {
     "name": "stderr",
     "output_type": "stream",
     "text": [
      " 86%|████████▋ | 197/228 [00:27<00:03,  9.02it/s]\u001b[32m [repeated 4x across cluster]\u001b[0m\n",
      "100%|██████████| 228/228 [00:30<00:00,  7.42it/s]\u001b[32m [repeated 26x across cluster]\u001b[0m\n",
      " 51%|█████     | 116/228 [00:12<00:08, 13.19it/s]\u001b[32m [repeated 110x across cluster]\u001b[0m\n"
     ]
    },
    {
     "name": "stdout",
     "output_type": "stream",
     "text": [
      "\u001b[2m\u001b[36m(DefaultActor pid=92313)\u001b[0m  Training loss for epoch 4: 0.7247875650462351, accuracy: 0.7302631578947368\u001b[32m [repeated 3x across cluster]\u001b[0m\n"
     ]
    },
    {
     "name": "stderr",
     "output_type": "stream",
     "text": [
      "100%|██████████| 228/228 [00:28<00:00,  7.89it/s]\u001b[32m [repeated 19x across cluster]\u001b[0m\n",
      " 82%|████████▏ | 188/228 [00:17<00:02, 15.73it/s]\u001b[32m [repeated 62x across cluster]\u001b[0m\n",
      "  0%|          | 0/228 [00:00<?, ?it/s]\n"
     ]
    },
    {
     "name": "stdout",
     "output_type": "stream",
     "text": [
      "\u001b[2m\u001b[36m(DefaultActor pid=92319)\u001b[0m  Training loss for epoch 0: 0.8603838235139847, accuracy: 0.6633771929824561\u001b[32m [repeated 2x across cluster]\u001b[0m\n"
     ]
    },
    {
     "name": "stderr",
     "output_type": "stream",
     "text": [
      "100%|██████████| 228/228 [00:19<00:00, 11.46it/s]\u001b[32m [repeated 20x across cluster]\u001b[0m\n",
      " 18%|█▊        | 40/228 [00:02<00:11, 15.75it/s]\u001b[32m [repeated 68x across cluster]\u001b[0m\n",
      "  0%|          | 0/228 [00:00<?, ?it/s]\n",
      " 53%|█████▎    | 120/228 [00:07<00:06, 15.74it/s]\u001b[32m [repeated 79x across cluster]\u001b[0m\n",
      " 92%|█████████▏| 210/228 [00:13<00:01, 14.54it/s]\n",
      " 93%|█████████▎| 212/228 [00:13<00:01, 15.07it/s]\n",
      " 94%|█████████▍| 214/228 [00:14<00:01, 13.97it/s]\n",
      " 95%|█████████▍| 216/228 [00:14<00:00, 14.54it/s]\n",
      " 96%|█████████▌| 218/228 [00:14<00:00, 14.67it/s]\n",
      " 96%|█████████▋| 220/228 [00:14<00:00, 15.20it/s]\n",
      " 97%|█████████▋| 222/228 [00:14<00:00, 15.49it/s]\n",
      " 98%|█████████▊| 224/228 [00:14<00:00, 15.34it/s]\n",
      " 99%|█████████▉| 226/228 [00:14<00:00, 15.66it/s]\n",
      "100%|██████████| 228/228 [00:14<00:00, 15.31it/s]\n",
      "  0%|          | 0/228 [00:00<?, ?it/s]\n"
     ]
    },
    {
     "name": "stdout",
     "output_type": "stream",
     "text": [
      "\u001b[2m\u001b[36m(DefaultActor pid=92320)\u001b[0m  Training loss for epoch 1: 0.39932279053487274, accuracy: 0.868421052631579\n"
     ]
    },
    {
     "name": "stderr",
     "output_type": "stream",
     "text": [
      "\u001b[2m\u001b[36m(DefaultActor pid=92320)\u001b[0m \r",
      "  2%|▏         | 4/228 [00:00<00:14, 15.91it/s]\u001b[32m [repeated 67x across cluster]\u001b[0m\n"
     ]
    },
    {
     "name": "stdout",
     "output_type": "stream",
     "text": [
      "\u001b[2m\u001b[36m(DefaultActor pid=92319)\u001b[0m  Training loss for epoch 1: 0.9118785198058998, accuracy: 0.6444627192982456\n"
     ]
    },
    {
     "name": "stderr",
     "output_type": "stream",
     "text": [
      "100%|██████████| 228/228 [00:15<00:00, 14.99it/s]\u001b[32m [repeated 10x across cluster]\u001b[0m\n",
      "  0%|          | 0/228 [00:00<?, ?it/s]\n",
      " 18%|█▊        | 40/228 [00:02<00:11, 15.94it/s]\u001b[32m [repeated 60x across cluster]\u001b[0m\n",
      " 52%|█████▏    | 118/228 [00:07<00:07, 15.66it/s]\u001b[32m [repeated 78x across cluster]\u001b[0m\n",
      " 92%|█████████▏| 210/228 [00:14<00:01, 15.35it/s]\n",
      " 93%|█████████▎| 212/228 [00:14<00:01, 15.19it/s]\n",
      " 94%|█████████▍| 214/228 [00:14<00:00, 15.24it/s]\n",
      " 95%|█████████▍| 216/228 [00:14<00:00, 15.08it/s]\n",
      " 96%|█████████▌| 218/228 [00:15<00:00, 15.45it/s]\n",
      " 96%|█████████▋| 220/228 [00:15<00:00, 15.40it/s]\n",
      " 97%|█████████▋| 222/228 [00:15<00:00, 15.44it/s]\n",
      " 83%|████████▎ | 190/228 [00:12<00:02, 15.41it/s]\u001b[32m [repeated 65x across cluster]\u001b[0m\n",
      " 98%|█████████▊| 224/228 [00:15<00:00, 15.43it/s]\n",
      " 99%|█████████▉| 226/228 [00:15<00:00, 15.37it/s]\n",
      "100%|██████████| 228/228 [00:15<00:00, 14.47it/s]\n",
      "  0%|          | 0/228 [00:00<?, ?it/s]\n"
     ]
    },
    {
     "name": "stdout",
     "output_type": "stream",
     "text": [
      "\u001b[2m\u001b[36m(DefaultActor pid=92320)\u001b[0m  Training loss for epoch 2: 0.3800870412633869, accuracy: 0.8675986842105263\n",
      "\u001b[2m\u001b[36m(DefaultActor pid=92319)\u001b[0m  Training loss for epoch 2: 0.8728904112389213, accuracy: 0.6631030701754386\n"
     ]
    },
    {
     "name": "stderr",
     "output_type": "stream",
     "text": [
      "100%|██████████| 228/228 [00:15<00:00, 15.18it/s]\u001b[32m [repeated 10x across cluster]\u001b[0m\n",
      " 18%|█▊        | 42/228 [00:02<00:11, 15.51it/s]\u001b[32m [repeated 65x across cluster]\u001b[0m\n",
      "  0%|          | 0/228 [00:00<?, ?it/s]\n",
      " 53%|█████▎    | 120/228 [00:07<00:06, 15.54it/s]\u001b[32m [repeated 78x across cluster]\u001b[0m\n",
      " 92%|█████████▏| 210/228 [00:13<00:01, 14.99it/s]\n",
      " 93%|█████████▎| 212/228 [00:13<00:01, 15.25it/s]\n",
      " 94%|█████████▍| 214/228 [00:14<00:00, 15.15it/s]\n",
      " 95%|█████████▍| 216/228 [00:14<00:00, 14.93it/s]\n",
      " 96%|█████████▌| 218/228 [00:14<00:00, 15.02it/s]\n",
      " 96%|█████████▋| 220/228 [00:14<00:00, 14.84it/s]\n",
      " 97%|█████████▋| 222/228 [00:14<00:00, 15.01it/s]\n",
      " 98%|█████████▊| 224/228 [00:14<00:00, 15.01it/s]\n",
      " 88%|████████▊ | 200/228 [00:12<00:01, 15.52it/s]\u001b[32m [repeated 70x across cluster]\u001b[0m\n",
      " 99%|█████████▉| 226/228 [00:14<00:00, 14.77it/s]\n",
      "100%|██████████| 228/228 [00:14<00:00, 15.25it/s]\n",
      "  0%|          | 0/228 [00:00<?, ?it/s]\n"
     ]
    },
    {
     "name": "stdout",
     "output_type": "stream",
     "text": [
      "\u001b[2m\u001b[36m(DefaultActor pid=92320)\u001b[0m  Training loss for epoch 3: 0.3364066303250167, accuracy: 0.890625\n",
      "\u001b[2m\u001b[36m(DefaultActor pid=92319)\u001b[0m  Training loss for epoch 3: 0.9034509083680939, accuracy: 0.6502192982456141\n"
     ]
    },
    {
     "name": "stderr",
     "output_type": "stream",
     "text": [
      "100%|██████████| 228/228 [00:14<00:00, 15.34it/s]\u001b[32m [repeated 10x across cluster]\u001b[0m\n",
      " 19%|█▉        | 44/228 [00:02<00:11, 15.62it/s]\u001b[32m [repeated 61x across cluster]\u001b[0m\n",
      "  0%|          | 0/228 [00:00<?, ?it/s]\n",
      " 54%|█████▍    | 124/228 [00:07<00:06, 15.83it/s]\u001b[32m [repeated 78x across cluster]\u001b[0m\n",
      " 92%|█████████▏| 209/228 [00:14<00:01, 15.31it/s]\n",
      " 93%|█████████▎| 211/228 [00:14<00:01, 15.52it/s]\n",
      " 93%|█████████▎| 213/228 [00:14<00:00, 15.48it/s]\n",
      " 94%|█████████▍| 215/228 [00:14<00:00, 15.45it/s]\n",
      " 95%|█████████▌| 217/228 [00:14<00:00, 15.43it/s]\n",
      " 88%|████████▊ | 200/228 [00:12<00:01, 16.11it/s]\u001b[32m [repeated 69x across cluster]\u001b[0m\n",
      " 96%|█████████▌| 219/228 [00:14<00:00, 15.31it/s]\n",
      " 97%|█████████▋| 221/228 [00:15<00:00, 15.25it/s]\n",
      " 98%|█████████▊| 223/228 [00:15<00:00, 15.10it/s]\n",
      " 99%|█████████▊| 225/228 [00:15<00:00, 15.33it/s]\n",
      "100%|█████████▉| 227/228 [00:15<00:00, 15.34it/s]\n",
      "100%|██████████| 228/228 [00:15<00:00, 14.66it/s]\n"
     ]
    },
    {
     "name": "stdout",
     "output_type": "stream",
     "text": [
      "\u001b[2m\u001b[36m(DefaultActor pid=92320)\u001b[0m  Training loss for epoch 4: 0.3996878489035002, accuracy: 0.8651315789473685\n"
     ]
    },
    {
     "name": "stderr",
     "output_type": "stream",
     "text": [
      "DEBUG flwr 2023-11-09 13:00:46,267 | server.py:236 | fit_round 17 received 10 results and 0 failures\n",
      "DEBUG:flwr:fit_round 17 received 10 results and 0 failures\n"
     ]
    },
    {
     "name": "stdout",
     "output_type": "stream",
     "text": [
      "Saving round 17 aggregated_parameters...\n",
      "Saved round 17 aggregated_parameters!\n"
     ]
    },
    {
     "name": "stderr",
     "output_type": "stream",
     "text": [
      "INFO flwr 2023-11-09 13:00:46,340 | server.py:171 | evaluate_round 17: no clients selected, cancel\n",
      "INFO:flwr:evaluate_round 17: no clients selected, cancel\n",
      "DEBUG flwr 2023-11-09 13:00:46,341 | server.py:222 | fit_round 18: strategy sampled 10 clients (out of 40)\n",
      "DEBUG:flwr:fit_round 18: strategy sampled 10 clients (out of 40)\n"
     ]
    },
    {
     "name": "stdout",
     "output_type": "stream",
     "text": [
      "\u001b[2m\u001b[36m(DefaultActor pid=92319)\u001b[0m  Training loss for epoch 4: 1.403775871322866, accuracy: 0.46792763157894735\n"
     ]
    },
    {
     "name": "stderr",
     "output_type": "stream",
     "text": [
      "  0%|          | 0/228 [00:00<?, ?it/s]\n",
      "100%|██████████| 228/228 [00:14<00:00, 15.50it/s]\u001b[32m [repeated 10x across cluster]\u001b[0m\n",
      " 11%|█         | 24/228 [00:01<00:13, 15.46it/s]\u001b[32m [repeated 19x across cluster]\u001b[0m\n",
      "  0%|          | 0/228 [00:00<?, ?it/s]\u001b[32m [repeated 3x across cluster]\u001b[0m\n",
      "  9%|▉         | 21/228 [00:02<00:21,  9.42it/s]\u001b[32m [repeated 78x across cluster]\u001b[0m\n",
      "  0%|          | 0/228 [00:00<?, ?it/s]\u001b[32m [repeated 2x across cluster]\u001b[0m\n",
      "  3%|▎         | 7/228 [00:00<00:24,  9.11it/s]\n",
      " 14%|█▎        | 31/228 [00:03<00:28,  6.83it/s]\u001b[32m [repeated 178x across cluster]\u001b[0m\n",
      "  0%|          | 0/228 [00:00<?, ?it/s]\u001b[32m [repeated 2x across cluster]\u001b[0m\n",
      "  7%|▋         | 15/228 [00:02<00:25,  8.33it/s]\u001b[32m [repeated 3x across cluster]\u001b[0m\n",
      " 26%|██▌       | 59/228 [00:09<00:22,  7.58it/s]\u001b[32m [repeated 222x across cluster]\u001b[0m\n",
      " 24%|██▍       | 55/228 [00:07<00:19,  9.04it/s]\u001b[32m [repeated 9x across cluster]\u001b[0m\n",
      " 43%|████▎     | 98/228 [00:14<00:15,  8.58it/s]\u001b[32m [repeated 283x across cluster]\u001b[0m\n",
      " 92%|█████████▏| 209/228 [00:23<00:02,  7.68it/s]\n",
      " 92%|█████████▏| 210/228 [00:23<00:02,  7.52it/s]\n",
      " 93%|█████████▎| 212/228 [00:24<00:01,  8.21it/s]\n",
      " 93%|█████████▎| 213/228 [00:24<00:01,  8.19it/s]\n",
      " 94%|█████████▍| 214/228 [00:24<00:01,  8.38it/s]\n",
      " 94%|█████████▍| 215/228 [00:24<00:01,  8.18it/s]\n",
      " 95%|█████████▌| 217/228 [00:24<00:01,  9.16it/s]\n",
      " 96%|█████████▌| 218/228 [00:24<00:01,  8.34it/s]\n",
      " 96%|█████████▌| 219/228 [00:24<00:01,  8.51it/s]\n",
      " 96%|█████████▋| 220/228 [00:25<00:00,  8.54it/s]\n",
      " 97%|█████████▋| 221/228 [00:25<00:00,  8.65it/s]\n",
      " 98%|█████████▊| 223/228 [00:25<00:00,  8.78it/s]\n",
      " 98%|█████████▊| 224/228 [00:25<00:00,  8.51it/s]\n",
      " 99%|█████████▉| 226/228 [00:25<00:00,  9.05it/s]\n",
      "100%|█████████▉| 227/228 [00:25<00:00,  8.85it/s]\n",
      "100%|██████████| 228/228 [00:25<00:00,  8.77it/s]\n",
      "  0%|          | 0/228 [00:00<?, ?it/s]\n"
     ]
    },
    {
     "name": "stdout",
     "output_type": "stream",
     "text": [
      "\u001b[2m\u001b[36m(DefaultActor pid=92319)\u001b[0m  Training loss for epoch 0: 0.9997213783494213, accuracy: 0.5836074561403509\n"
     ]
    },
    {
     "name": "stderr",
     "output_type": "stream",
     "text": [
      " 89%|████████▉ | 204/228 [00:24<00:02,  8.93it/s]\u001b[32m [repeated 7x across cluster]\u001b[0m\n",
      " 61%|██████    | 138/228 [00:19<00:11,  7.70it/s]\u001b[32m [repeated 269x across cluster]\u001b[0m\n"
     ]
    },
    {
     "name": "stdout",
     "output_type": "stream",
     "text": [
      "\u001b[2m\u001b[36m(DefaultActor pid=92320)\u001b[0m  Training loss for epoch 0: 0.4908278431874095, accuracy: 0.8497807017543859\n"
     ]
    },
    {
     "name": "stderr",
     "output_type": "stream",
     "text": [
      "100%|██████████| 228/228 [00:27<00:00,  8.33it/s]\u001b[32m [repeated 17x across cluster]\u001b[0m\n",
      "  0%|          | 0/228 [00:00<?, ?it/s]\n",
      "  9%|▉         | 21/228 [00:02<00:23,  8.80it/s]\u001b[32m [repeated 4x across cluster]\u001b[0m\n",
      " 79%|███████▉  | 180/228 [00:24<00:05,  8.09it/s]\u001b[32m [repeated 279x across cluster]\u001b[0m\n",
      "  0%|          | 0/228 [00:00<?, ?it/s]\n",
      " 99%|█████████▊| 225/228 [00:29<00:00,  8.46it/s]\u001b[32m [repeated 37x across cluster]\u001b[0m\n"
     ]
    },
    {
     "name": "stdout",
     "output_type": "stream",
     "text": [
      "\u001b[2m\u001b[36m(DefaultActor pid=92315)\u001b[0m  Training loss for epoch 0: 0.4480610250969205, accuracy: 0.8377192982456141\u001b[32m [repeated 2x across cluster]\u001b[0m\n"
     ]
    },
    {
     "name": "stderr",
     "output_type": "stream",
     "text": [
      " 36%|███▌      | 82/228 [00:09<00:16,  8.59it/s]\u001b[32m [repeated 5x across cluster]\u001b[0m\n",
      " 88%|████████▊ | 200/228 [00:24<00:03,  8.91it/s]\u001b[32m [repeated 260x across cluster]\u001b[0m\n",
      "  0%|          | 0/228 [00:00<?, ?it/s]\n",
      "  0%|          | 0/228 [00:00<?, ?it/s]\n",
      " 95%|█████████▌| 217/228 [00:26<00:01,  8.81it/s]\u001b[32m [repeated 66x across cluster]\u001b[0m\n"
     ]
    },
    {
     "name": "stdout",
     "output_type": "stream",
     "text": [
      "\u001b[2m\u001b[36m(DefaultActor pid=92314)\u001b[0m  Training loss for epoch 0: 1.5926563431296432, accuracy: 0.36101973684210525\u001b[32m [repeated 4x across cluster]\u001b[0m\n"
     ]
    },
    {
     "name": "stderr",
     "output_type": "stream",
     "text": [
      " 22%|██▏       | 51/228 [00:06<00:21,  8.40it/s]\u001b[32m [repeated 5x across cluster]\u001b[0m\n",
      " 13%|█▎        | 29/228 [00:04<01:25,  2.33it/s]\u001b[32m [repeated 217x across cluster]\u001b[0m\n",
      "  0%|          | 0/228 [00:00<?, ?it/s]\u001b[32m [repeated 3x across cluster]\u001b[0m\n",
      "100%|██████████| 228/228 [00:27<00:00,  8.25it/s]\u001b[32m [repeated 9x across cluster]\u001b[0m\n",
      " 73%|███████▎  | 166/228 [00:20<00:06,  9.11it/s]\u001b[32m [repeated 4x across cluster]\u001b[0m\n",
      " 31%|███       | 70/228 [00:09<00:18,  8.53it/s]\u001b[32m [repeated 308x across cluster]\u001b[0m\n",
      " 92%|█████████▏| 209/228 [00:24<00:02,  9.27it/s]\n",
      " 93%|█████████▎| 211/228 [00:25<00:01,  9.57it/s]\n",
      " 93%|█████████▎| 212/228 [00:25<00:01,  9.31it/s]\n",
      " 94%|█████████▍| 214/228 [00:25<00:01,  9.78it/s]\n",
      " 94%|█████████▍| 215/228 [00:25<00:02,  5.08it/s]\n",
      " 57%|█████▋    | 131/228 [00:16<00:11,  8.58it/s]\u001b[32m [repeated 5x across cluster]\u001b[0m\n",
      " 95%|█████████▍| 216/228 [00:25<00:02,  5.64it/s]\n",
      " 96%|█████████▌| 218/228 [00:26<00:01,  6.73it/s]\n",
      " 96%|█████████▌| 219/228 [00:26<00:01,  7.14it/s]\n",
      " 47%|████▋     | 108/228 [00:14<00:17,  6.96it/s]\u001b[32m [repeated 274x across cluster]\u001b[0m\n",
      " 96%|█████████▋| 220/228 [00:26<00:01,  7.70it/s]\n",
      " 97%|█████████▋| 221/228 [00:26<00:00,  8.08it/s]\n",
      " 98%|█████████▊| 223/228 [00:26<00:00,  8.62it/s]\n",
      " 98%|█████████▊| 224/228 [00:26<00:00,  8.35it/s]\n",
      " 99%|█████████▉| 226/228 [00:27<00:00,  9.05it/s]\n",
      "100%|█████████▉| 227/228 [00:27<00:00,  8.91it/s]\n",
      "100%|██████████| 228/228 [00:27<00:00,  8.35it/s]\n",
      "  0%|          | 0/228 [00:00<?, ?it/s]\n"
     ]
    },
    {
     "name": "stdout",
     "output_type": "stream",
     "text": [
      "\u001b[2m\u001b[36m(DefaultActor pid=92319)\u001b[0m  Training loss for epoch 1: 0.9694915551104044, accuracy: 0.5970394736842105\n"
     ]
    },
    {
     "name": "stderr",
     "output_type": "stream",
     "text": [
      "\u001b[2m\u001b[36m(DefaultActor pid=92320)\u001b[0m \r",
      " 99%|█████████▉| 226/228 [00:27<00:00,  9.58it/s]\u001b[32m [repeated 15x across cluster]\u001b[0m\n",
      "\u001b[2m\u001b[36m(DefaultActor pid=92320)\u001b[0m \r",
      "  0%|          | 0/228 [00:00<?, ?it/s]\r",
      "  0%|          | 1/228 [00:00<00:22,  9.99it/s]\n"
     ]
    },
    {
     "name": "stdout",
     "output_type": "stream",
     "text": [
      "\u001b[2m\u001b[36m(DefaultActor pid=92320)\u001b[0m  Training loss for epoch 1: 0.47269000294373226, accuracy: 0.8536184210526315\n"
     ]
    },
    {
     "name": "stderr",
     "output_type": "stream",
     "text": [
      " 14%|█▍        | 33/228 [00:03<00:21,  9.22it/s]\u001b[32m [repeated 4x across cluster]\u001b[0m\n",
      " 66%|██████▌   | 150/228 [00:19<00:09,  8.26it/s]\u001b[32m [repeated 283x across cluster]\u001b[0m\n",
      " 93%|█████████▎| 213/228 [00:28<00:01,  8.33it/s]\u001b[32m [repeated 7x across cluster]\u001b[0m\n",
      " 79%|███████▉  | 181/228 [00:21<00:05,  9.06it/s]\u001b[32m [repeated 9x across cluster]\u001b[0m\n",
      " 84%|████████▍ | 192/228 [00:24<00:04,  8.15it/s]\u001b[32m [repeated 277x across cluster]\u001b[0m\n",
      "  0%|          | 0/228 [00:00<?, ?it/s]\n"
     ]
    },
    {
     "name": "stdout",
     "output_type": "stream",
     "text": [
      "\u001b[2m\u001b[36m(DefaultActor pid=92313)\u001b[0m  Training loss for epoch 1: 0.6412409613268417, accuracy: 0.7708333333333334\n",
      "\u001b[2m\u001b[36m(DefaultActor pid=92315)\u001b[0m  Training loss for epoch 1: 0.4513711377880291, accuracy: 0.8390899122807017\n",
      "\u001b[2m\u001b[36m(DefaultActor pid=92316)\u001b[0m \n"
     ]
    },
    {
     "name": "stderr",
     "output_type": "stream",
     "text": [
      " 95%|█████████▌| 217/228 [00:28<00:01,  7.94it/s]\u001b[32m [repeated 77x across cluster]\u001b[0m\n",
      " 38%|███▊      | 86/228 [00:10<00:17,  8.13it/s]\u001b[32m [repeated 4x across cluster]\u001b[0m\n",
      "  4%|▍         | 10/228 [00:01<00:28,  7.66it/s]\u001b[32m [repeated 219x across cluster]\u001b[0m\n",
      "  0%|          | 0/228 [00:00<?, ?it/s]\u001b[32m [repeated 4x across cluster]\u001b[0m\n",
      "100%|██████████| 228/228 [00:27<00:00,  8.26it/s]\u001b[32m [repeated 29x across cluster]\u001b[0m\n",
      " 51%|█████     | 116/228 [00:13<00:12,  8.76it/s]\u001b[32m [repeated 7x across cluster]\u001b[0m\n",
      " 16%|█▌        | 37/228 [00:05<00:30,  6.34it/s]\u001b[32m [repeated 259x across cluster]\u001b[0m\n",
      "  0%|          | 0/228 [00:00<?, ?it/s]\n",
      " 37%|███▋      | 85/228 [00:11<00:17,  8.18it/s]\u001b[32m [repeated 9x across cluster]\u001b[0m\n",
      " 33%|███▎      | 75/228 [00:09<00:19,  8.05it/s]\u001b[32m [repeated 287x across cluster]\u001b[0m\n",
      " 92%|█████████▏| 209/228 [00:25<00:02,  8.20it/s]\n",
      " 92%|█████████▏| 210/228 [00:25<00:02,  8.42it/s]\n",
      " 93%|█████████▎| 211/228 [00:25<00:02,  8.44it/s]\n",
      " 93%|█████████▎| 212/228 [00:25<00:01,  8.39it/s]\n",
      " 93%|█████████▎| 213/228 [00:25<00:01,  7.91it/s]\n",
      " 94%|█████████▍| 215/228 [00:26<00:01,  8.60it/s]\n",
      " 95%|█████████▍| 216/228 [00:26<00:01,  8.59it/s]\n",
      " 95%|█████████▌| 217/228 [00:26<00:01,  8.24it/s]\n",
      " 96%|█████████▌| 218/228 [00:26<00:01,  8.61it/s]\n",
      " 96%|█████████▌| 219/228 [00:26<00:01,  8.53it/s]\n",
      " 96%|█████████▋| 220/228 [00:26<00:00,  8.55it/s]\n",
      " 97%|█████████▋| 222/228 [00:26<00:00,  9.09it/s]\n",
      " 98%|█████████▊| 223/228 [00:27<00:00,  9.18it/s]\n",
      " 98%|█████████▊| 224/228 [00:27<00:00,  8.66it/s]\n",
      " 99%|█████████▊| 225/228 [00:27<00:00,  8.61it/s]\n",
      " 99%|█████████▉| 226/228 [00:27<00:00,  8.90it/s]\n",
      "100%|█████████▉| 227/228 [00:27<00:00,  9.07it/s]\n",
      "100%|██████████| 228/228 [00:27<00:00,  8.25it/s]\n",
      "  0%|          | 0/228 [00:00<?, ?it/s]\n"
     ]
    },
    {
     "name": "stdout",
     "output_type": "stream",
     "text": [
      "\u001b[2m\u001b[36m(DefaultActor pid=92319)\u001b[0m  Training loss for epoch 2: 1.002687849757964, accuracy: 0.5888157894736842\u001b[32m [repeated 5x across cluster]\u001b[0m\n"
     ]
    },
    {
     "name": "stderr",
     "output_type": "stream",
     "text": [
      " 41%|████      | 93/228 [00:12<00:15,  8.82it/s]\u001b[32m [repeated 5x across cluster]\u001b[0m\n",
      " 48%|████▊     | 110/228 [00:15<00:19,  5.98it/s]\u001b[32m [repeated 244x across cluster]\u001b[0m\n",
      " 98%|█████████▊| 223/228 [00:27<00:00,  8.50it/s]\u001b[32m [repeated 14x across cluster]\u001b[0m\n",
      "  0%|          | 0/228 [00:00<?, ?it/s]\n",
      " 65%|██████▍   | 148/228 [00:18<00:08,  9.02it/s]\u001b[32m [repeated 3x across cluster]\u001b[0m\n",
      " 66%|██████▌   | 151/228 [00:20<00:09,  8.50it/s]\u001b[32m [repeated 303x across cluster]\u001b[0m\n",
      "100%|██████████| 228/228 [00:28<00:00,  8.03it/s]\u001b[32m [repeated 5x across cluster]\u001b[0m\n",
      " 26%|██▋       | 60/228 [00:06<00:18,  8.91it/s]\u001b[32m [repeated 7x across cluster]\u001b[0m\n",
      " 42%|████▏     | 96/228 [00:11<00:15,  8.36it/s]\u001b[32m [repeated 263x across cluster]\u001b[0m\n"
     ]
    },
    {
     "name": "stdout",
     "output_type": "stream",
     "text": [
      "\u001b[2m\u001b[36m(DefaultActor pid=92313)\u001b[0m  Training loss for epoch 2: 0.5963812622715506, accuracy: 0.7870065789473685\u001b[32m [repeated 2x across cluster]\u001b[0m\n"
     ]
    },
    {
     "name": "stderr",
     "output_type": "stream",
     "text": [
      "  0%|          | 0/228 [00:00<?, ?it/s]\n",
      " 94%|█████████▍| 215/228 [00:27<00:01,  8.57it/s]\u001b[32m [repeated 66x across cluster]\u001b[0m\n",
      " 11%|█         | 25/228 [00:03<00:26,  7.75it/s]\u001b[32m [repeated 14x across cluster]\u001b[0m\n",
      "  2%|▏         | 4/228 [00:00<00:27,  8.27it/s]\u001b[32m [repeated 214x across cluster]\u001b[0m\n",
      "  0%|          | 0/228 [00:00<?, ?it/s]\u001b[32m [repeated 5x across cluster]\u001b[0m\n",
      "100%|██████████| 228/228 [00:30<00:00,  7.56it/s]\u001b[32m [repeated 52x across cluster]\u001b[0m\n",
      " 71%|███████   | 162/228 [00:19<00:08,  7.73it/s]\n",
      " 17%|█▋        | 39/228 [00:04<00:24,  7.64it/s]\n",
      " 18%|█▊        | 41/228 [00:04<00:22,  8.14it/s]\n",
      " 21%|██        | 47/228 [00:06<00:52,  3.47it/s]\n",
      " 16%|█▌        | 36/228 [00:05<00:40,  4.69it/s]\u001b[32m [repeated 226x across cluster]\u001b[0m\n",
      " 19%|█▉        | 44/228 [00:05<00:23,  7.68it/s]\u001b[32m [repeated 5x across cluster]\u001b[0m\n",
      " 92%|█████████▏| 209/228 [00:26<00:02,  8.36it/s]\n",
      " 92%|█████████▏| 210/228 [00:26<00:02,  8.65it/s]\n",
      " 36%|███▋      | 83/228 [00:11<00:16,  8.96it/s]\u001b[32m [repeated 6x across cluster]\u001b[0m\n",
      " 93%|█████████▎| 212/228 [00:26<00:01,  8.82it/s]\n",
      " 32%|███▏      | 74/228 [00:10<00:19,  8.02it/s]\u001b[32m [repeated 284x across cluster]\u001b[0m\n",
      " 93%|█████████▎| 213/228 [00:27<00:01,  8.78it/s]\n",
      " 94%|█████████▍| 214/228 [00:27<00:01,  8.96it/s]\n",
      " 95%|█████████▍| 216/228 [00:27<00:01,  9.03it/s]\n",
      " 95%|█████████▌| 217/228 [00:27<00:01,  9.10it/s]\n",
      " 96%|█████████▌| 218/228 [00:27<00:01,  9.03it/s]\n",
      " 96%|█████████▌| 219/228 [00:27<00:00,  9.22it/s]\n",
      " 96%|█████████▋| 220/228 [00:27<00:00,  8.78it/s]\n",
      " 97%|█████████▋| 222/228 [00:28<00:00,  9.02it/s]\n",
      " 98%|█████████▊| 223/228 [00:28<00:00,  9.16it/s]\n",
      " 98%|█████████▊| 224/228 [00:28<00:00,  8.61it/s]\n",
      " 99%|█████████▊| 225/228 [00:28<00:00,  8.77it/s]\n",
      "100%|█████████▉| 227/228 [00:28<00:00,  8.68it/s]\n",
      "100%|██████████| 228/228 [00:28<00:00,  7.94it/s]\n",
      "  0%|          | 0/228 [00:00<?, ?it/s]\n"
     ]
    },
    {
     "name": "stdout",
     "output_type": "stream",
     "text": [
      "\u001b[2m\u001b[36m(DefaultActor pid=92319)\u001b[0m  Training loss for epoch 3: 1.0127532755335171, accuracy: 0.5778508771929824\u001b[32m [repeated 6x across cluster]\u001b[0m\n"
     ]
    },
    {
     "name": "stderr",
     "output_type": "stream",
     "text": [
      " 96%|█████████▌| 218/228 [00:28<00:04,  2.21it/s]\u001b[32m [repeated 9x across cluster]\u001b[0m\n",
      " 55%|█████▌    | 126/228 [00:17<00:11,  8.93it/s]\u001b[32m [repeated 5x across cluster]\u001b[0m\n",
      " 56%|█████▌    | 128/228 [00:17<00:15,  6.37it/s]\u001b[32m [repeated 220x across cluster]\u001b[0m\n",
      "  0%|          | 0/228 [00:00<?, ?it/s]\n",
      "100%|██████████| 228/228 [00:29<00:00,  7.77it/s]\u001b[32m [repeated 10x across cluster]\u001b[0m\n",
      " 80%|████████  | 183/228 [00:23<00:04,  9.49it/s]\u001b[32m [repeated 4x across cluster]\u001b[0m\n",
      " 65%|██████▍   | 148/228 [00:20<00:09,  8.35it/s]\u001b[32m [repeated 308x across cluster]\u001b[0m\n"
     ]
    },
    {
     "name": "stdout",
     "output_type": "stream",
     "text": [
      "\u001b[2m\u001b[36m(DefaultActor pid=92316)\u001b[0m  Training loss for epoch 3: 0.8022684220289975, accuracy: 0.6869517543859649\u001b[32m [repeated 2x across cluster]\u001b[0m\n"
     ]
    },
    {
     "name": "stderr",
     "output_type": "stream",
     "text": [
      "  0%|          | 0/228 [00:00<?, ?it/s]\n",
      " 92%|█████████▏| 210/228 [00:27<00:02,  8.52it/s]\u001b[32m [repeated 29x across cluster]\u001b[0m\n",
      " 36%|███▌      | 81/228 [00:08<00:16,  9.00it/s]\u001b[32m [repeated 5x across cluster]\u001b[0m\n",
      " 83%|████████▎ | 189/228 [00:25<00:04,  7.92it/s]\u001b[32m [repeated 270x across cluster]\u001b[0m\n",
      "  0%|          | 0/228 [00:00<?, ?it/s]\u001b[32m [repeated 4x across cluster]\u001b[0m\n",
      " 99%|█████████▊| 225/228 [00:30<00:00,  8.30it/s]\u001b[32m [repeated 77x across cluster]\u001b[0m\n",
      " 11%|█         | 25/228 [00:03<00:24,  8.42it/s]\u001b[32m [repeated 4x across cluster]\u001b[0m\n"
     ]
    },
    {
     "name": "stdout",
     "output_type": "stream",
     "text": [
      "\u001b[2m\u001b[36m(DefaultActor pid=92317)\u001b[0m  Training loss for epoch 3: 0.817258128079406, accuracy: 0.6787280701754386\u001b[32m [repeated 5x across cluster]\u001b[0m\n"
     ]
    },
    {
     "name": "stderr",
     "output_type": "stream",
     "text": [
      "  1%|          | 2/228 [00:00<00:27,  8.31it/s]\u001b[32m [repeated 243x across cluster]\u001b[0m\n",
      "  0%|          | 0/228 [00:00<?, ?it/s]\n",
      "100%|██████████| 228/228 [00:30<00:00,  7.45it/s]\u001b[32m [repeated 3x across cluster]\u001b[0m\n",
      " 67%|██████▋   | 152/228 [00:17<00:09,  7.90it/s]\u001b[32m [repeated 5x across cluster]\u001b[0m\n",
      " 15%|█▌        | 35/228 [00:05<00:25,  7.45it/s]\u001b[32m [repeated 259x across cluster]\u001b[0m\n"
     ]
    },
    {
     "name": "stdout",
     "output_type": "stream",
     "text": [
      "\u001b[2m\u001b[36m(DefaultActor pid=92319)\u001b[0m  Training loss for epoch 4: 0.984836327925063, accuracy: 0.5879934210526315\n"
     ]
    },
    {
     "name": "stderr",
     "output_type": "stream",
     "text": [
      "100%|██████████| 228/228 [00:27<00:00,  8.24it/s]\u001b[32m [repeated 15x across cluster]\u001b[0m\n",
      " 41%|████      | 93/228 [00:12<00:16,  8.42it/s]\u001b[32m [repeated 4x across cluster]\u001b[0m\n",
      " 33%|███▎      | 75/228 [00:10<00:18,  8.24it/s]\u001b[32m [repeated 283x across cluster]\u001b[0m\n"
     ]
    },
    {
     "name": "stdout",
     "output_type": "stream",
     "text": [
      "\u001b[2m\u001b[36m(DefaultActor pid=92320)\u001b[0m  Training loss for epoch 4: 0.546072807228356, accuracy: 0.8286732456140351\n"
     ]
    },
    {
     "name": "stderr",
     "output_type": "stream",
     "text": [
      "  0%|          | 0/228 [00:00<?, ?it/s]\n",
      "100%|██████████| 228/228 [00:26<00:00,  8.67it/s]\u001b[32m [repeated 14x across cluster]\u001b[0m\n",
      " 64%|██████▍   | 146/228 [00:16<00:08,  9.43it/s]\n",
      " 64%|██████▍   | 146/228 [00:18<00:10,  7.57it/s]\u001b[32m [repeated 164x across cluster]\u001b[0m\n",
      " 71%|███████▏  | 163/228 [00:21<00:07,  8.32it/s]\n",
      "  0%|          | 0/228 [00:00<?, ?it/s]\n",
      " 94%|█████████▍| 215/228 [00:25<00:01,  8.39it/s]\u001b[32m [repeated 6x across cluster]\u001b[0m\n",
      " 68%|██████▊   | 155/228 [00:20<00:08,  8.85it/s]\u001b[32m [repeated 271x across cluster]\u001b[0m\n"
     ]
    },
    {
     "name": "stdout",
     "output_type": "stream",
     "text": [
      "\u001b[2m\u001b[36m(DefaultActor pid=92316)\u001b[0m  Training loss for epoch 4: 0.7881751597058355, accuracy: 0.6899671052631579\n"
     ]
    },
    {
     "name": "stderr",
     "output_type": "stream",
     "text": [
      "\u001b[2m\u001b[36m(DefaultActor pid=92314)\u001b[0m \r",
      " 88%|████████▊ | 201/228 [00:24<00:03,  8.95it/s]\r",
      " 89%|████████▊ | 202/228 [00:24<00:02,  9.10it/s]\u001b[32m [repeated 3x across cluster]\u001b[0m\n"
     ]
    },
    {
     "name": "stdout",
     "output_type": "stream",
     "text": [
      "\u001b[2m\u001b[36m(DefaultActor pid=92314)\u001b[0m  Training loss for epoch 4: 1.5387744064393796, accuracy: 0.36019736842105265\n"
     ]
    },
    {
     "name": "stderr",
     "output_type": "stream",
     "text": [
      " 98%|█████████▊| 224/228 [00:28<00:00,  4.85it/s]\u001b[32m [repeated 38x across cluster]\u001b[0m\n",
      " 84%|████████▍ | 191/228 [00:25<00:04,  8.18it/s]\u001b[32m [repeated 146x across cluster]\u001b[0m\n"
     ]
    },
    {
     "name": "stdout",
     "output_type": "stream",
     "text": [
      "\u001b[2m\u001b[36m(DefaultActor pid=92317)\u001b[0m  Training loss for epoch 4: 0.8538886765508276, accuracy: 0.6589912280701754\u001b[32m [repeated 4x across cluster]\u001b[0m\n"
     ]
    },
    {
     "name": "stderr",
     "output_type": "stream",
     "text": [
      "100%|██████████| 228/228 [00:28<00:00,  7.96it/s]\u001b[32m [repeated 30x across cluster]\u001b[0m\n",
      " 70%|██████▉   | 159/228 [00:15<00:04, 16.34it/s]\u001b[32m [repeated 82x across cluster]\u001b[0m\n",
      "  0%|          | 0/228 [00:00<?, ?it/s]\n"
     ]
    },
    {
     "name": "stdout",
     "output_type": "stream",
     "text": [
      "\u001b[2m\u001b[36m(DefaultActor pid=92319)\u001b[0m  Training loss for epoch 0: 0.39902190687625033, accuracy: 0.8686951754385965\n"
     ]
    },
    {
     "name": "stderr",
     "output_type": "stream",
     "text": [
      "100%|██████████| 228/228 [00:20<00:00, 11.36it/s]\u001b[32m [repeated 11x across cluster]\u001b[0m\n",
      "  6%|▌         | 14/228 [00:00<00:13, 15.96it/s]\u001b[32m [repeated 69x across cluster]\u001b[0m\n"
     ]
    },
    {
     "name": "stdout",
     "output_type": "stream",
     "text": [
      "\u001b[2m\u001b[36m(DefaultActor pid=92320)\u001b[0m  Training loss for epoch 0: 0.39790589875427257, accuracy: 0.8667763157894737\n"
     ]
    },
    {
     "name": "stderr",
     "output_type": "stream",
     "text": [
      "  0%|          | 0/228 [00:00<?, ?it/s]\n",
      "100%|██████████| 228/228 [00:18<00:00, 12.01it/s]\u001b[32m [repeated 10x across cluster]\u001b[0m\n",
      " 42%|████▏     | 96/228 [00:05<00:08, 16.36it/s]\u001b[32m [repeated 73x across cluster]\u001b[0m\n",
      " 78%|███████▊  | 178/228 [00:11<00:03, 16.27it/s]\u001b[32m [repeated 81x across cluster]\u001b[0m\n",
      " 92%|█████████▏| 210/228 [00:13<00:01, 14.95it/s]\n",
      " 93%|█████████▎| 212/228 [00:13<00:01, 15.43it/s]\n",
      " 94%|█████████▍| 214/228 [00:13<00:00, 15.74it/s]\n",
      " 95%|█████████▍| 216/228 [00:13<00:00, 16.11it/s]\n",
      " 96%|█████████▌| 218/228 [00:14<00:00, 16.20it/s]\n",
      " 96%|█████████▋| 220/228 [00:14<00:00, 16.30it/s]\n",
      " 97%|█████████▋| 222/228 [00:14<00:00, 16.29it/s]\n",
      " 98%|█████████▊| 224/228 [00:14<00:00, 16.05it/s]\n",
      " 99%|█████████▉| 226/228 [00:14<00:00, 16.42it/s]\n",
      "100%|██████████| 228/228 [00:14<00:00, 15.47it/s]\n",
      "  0%|          | 0/228 [00:00<?, ?it/s]\n"
     ]
    },
    {
     "name": "stdout",
     "output_type": "stream",
     "text": [
      "\u001b[2m\u001b[36m(DefaultActor pid=92319)\u001b[0m  Training loss for epoch 1: 0.449190782971288, accuracy: 0.8516995614035088\n"
     ]
    },
    {
     "name": "stderr",
     "output_type": "stream",
     "text": [
      "\u001b[2m\u001b[36m(DefaultActor pid=92319)\u001b[0m \r",
      " 10%|▉         | 22/228 [00:01<00:12, 16.21it/s]\u001b[32m [repeated 58x across cluster]\u001b[0m\n"
     ]
    },
    {
     "name": "stdout",
     "output_type": "stream",
     "text": [
      "\u001b[2m\u001b[36m(DefaultActor pid=92320)\u001b[0m  Training loss for epoch 1: 0.3591885061019607, accuracy: 0.8810307017543859\n"
     ]
    },
    {
     "name": "stderr",
     "output_type": "stream",
     "text": [
      "100%|██████████| 228/228 [00:14<00:00, 15.20it/s]\u001b[32m [repeated 10x across cluster]\u001b[0m\n",
      "  0%|          | 0/228 [00:00<?, ?it/s]\n",
      " 46%|████▌     | 104/228 [00:06<00:07, 15.86it/s]\u001b[32m [repeated 75x across cluster]\u001b[0m\n",
      " 78%|███████▊  | 178/228 [00:11<00:03, 16.23it/s]\u001b[32m [repeated 73x across cluster]\u001b[0m\n",
      " 92%|█████████▏| 210/228 [00:13<00:01, 15.71it/s]\n",
      " 93%|█████████▎| 212/228 [00:13<00:01, 15.72it/s]\n",
      " 94%|█████████▍| 214/228 [00:13<00:00, 15.55it/s]\n",
      " 95%|█████████▍| 216/228 [00:13<00:00, 16.07it/s]\n",
      " 96%|█████████▌| 218/228 [00:13<00:00, 16.14it/s]\n",
      " 96%|█████████▋| 220/228 [00:14<00:00, 16.16it/s]\n",
      " 97%|█████████▋| 222/228 [00:14<00:00, 16.15it/s]\n",
      " 98%|█████████▊| 224/228 [00:14<00:00, 15.96it/s]\n",
      " 99%|█████████▉| 226/228 [00:14<00:00, 15.96it/s]\n",
      "100%|██████████| 228/228 [00:14<00:00, 15.63it/s]\n",
      "  0%|          | 0/228 [00:00<?, ?it/s]\n"
     ]
    },
    {
     "name": "stdout",
     "output_type": "stream",
     "text": [
      "\u001b[2m\u001b[36m(DefaultActor pid=92319)\u001b[0m  Training loss for epoch 2: 0.3937728038025007, accuracy: 0.8725328947368421\n"
     ]
    },
    {
     "name": "stderr",
     "output_type": "stream",
     "text": [
      "\u001b[2m\u001b[36m(DefaultActor pid=92319)\u001b[0m \r",
      " 13%|█▎        | 30/228 [00:01<00:12, 15.71it/s]\u001b[32m [repeated 64x across cluster]\u001b[0m\n"
     ]
    },
    {
     "name": "stdout",
     "output_type": "stream",
     "text": [
      "\u001b[2m\u001b[36m(DefaultActor pid=92320)\u001b[0m  Training loss for epoch 2: 0.33052176498530206, accuracy: 0.890625\n"
     ]
    },
    {
     "name": "stderr",
     "output_type": "stream",
     "text": [
      "100%|██████████| 228/228 [00:14<00:00, 15.38it/s]\u001b[32m [repeated 10x across cluster]\u001b[0m\n",
      "  0%|          | 0/228 [00:00<?, ?it/s]\n",
      " 32%|███▏      | 74/228 [00:04<00:10, 15.31it/s]\u001b[32m [repeated 78x across cluster]\u001b[0m\n",
      " 85%|████████▌ | 194/228 [00:12<00:02, 15.36it/s]\u001b[32m [repeated 81x across cluster]\u001b[0m\n",
      " 92%|█████████▏| 210/228 [00:13<00:01, 11.99it/s]\n",
      " 93%|█████████▎| 212/228 [00:13<00:01, 13.00it/s]\n",
      " 94%|█████████▍| 214/228 [00:13<00:01, 13.63it/s]\n",
      " 95%|█████████▍| 216/228 [00:13<00:00, 14.44it/s]\n",
      " 96%|█████████▌| 218/228 [00:14<00:00, 14.77it/s]\n",
      " 96%|█████████▋| 220/228 [00:14<00:00, 15.42it/s]\n",
      " 97%|█████████▋| 222/228 [00:14<00:00, 15.71it/s]\n",
      " 98%|█████████▊| 224/228 [00:14<00:00, 16.01it/s]\n",
      " 99%|█████████▉| 226/228 [00:14<00:00, 15.68it/s]\n",
      "100%|██████████| 228/228 [00:14<00:00, 15.57it/s]\n",
      "  0%|          | 0/228 [00:00<?, ?it/s]\n"
     ]
    },
    {
     "name": "stdout",
     "output_type": "stream",
     "text": [
      "\u001b[2m\u001b[36m(DefaultActor pid=92319)\u001b[0m  Training loss for epoch 3: 0.35091232245363163, accuracy: 0.8859649122807017\n",
      "\u001b[2m\u001b[36m(DefaultActor pid=92320)\u001b[0m  Training loss for epoch 3: 0.3240328555632579, accuracy: 0.8917214912280702\n"
     ]
    },
    {
     "name": "stderr",
     "output_type": "stream",
     "text": [
      " 18%|█▊        | 40/228 [00:02<00:11, 16.05it/s]\u001b[32m [repeated 54x across cluster]\u001b[0m\n",
      "100%|██████████| 228/228 [00:14<00:00, 15.48it/s]\u001b[32m [repeated 10x across cluster]\u001b[0m\n",
      "  0%|          | 0/228 [00:00<?, ?it/s]\n",
      " 36%|███▌      | 82/228 [00:05<00:09, 15.80it/s]\u001b[32m [repeated 81x across cluster]\u001b[0m\n",
      " 86%|████████▌ | 196/228 [00:12<00:01, 16.05it/s]\u001b[32m [repeated 74x across cluster]\u001b[0m\n",
      " 92%|█████████▏| 210/228 [00:13<00:01, 16.01it/s]\n",
      " 93%|█████████▎| 212/228 [00:13<00:00, 16.13it/s]\n",
      " 94%|█████████▍| 214/228 [00:13<00:00, 16.30it/s]\n",
      " 95%|█████████▍| 216/228 [00:13<00:00, 16.36it/s]\n",
      " 96%|█████████▌| 218/228 [00:14<00:00, 16.44it/s]\n",
      " 96%|█████████▋| 220/228 [00:14<00:00, 16.32it/s]\n",
      " 97%|█████████▋| 222/228 [00:14<00:00, 16.34it/s]\n",
      " 98%|█████████▊| 224/228 [00:14<00:00, 16.19it/s]\n",
      " 99%|█████████▉| 226/228 [00:14<00:00, 16.10it/s]\n",
      "100%|██████████| 228/228 [00:14<00:00, 15.58it/s]\n"
     ]
    },
    {
     "name": "stdout",
     "output_type": "stream",
     "text": [
      "\u001b[2m\u001b[36m(DefaultActor pid=92319)\u001b[0m  Training loss for epoch 4: 0.3772665352576919, accuracy: 0.8769188596491229\n"
     ]
    },
    {
     "name": "stderr",
     "output_type": "stream",
     "text": [
      "DEBUG flwr 2023-11-09 13:04:31,773 | server.py:236 | fit_round 18 received 10 results and 0 failures\n",
      "DEBUG:flwr:fit_round 18 received 10 results and 0 failures\n"
     ]
    },
    {
     "name": "stdout",
     "output_type": "stream",
     "text": [
      "\u001b[2m\u001b[36m(DefaultActor pid=92320)\u001b[0m  Training loss for epoch 4: 0.31653272917722924, accuracy: 0.8955592105263158\n",
      "Saving round 18 aggregated_parameters...\n",
      "Saved round 18 aggregated_parameters!\n"
     ]
    },
    {
     "name": "stderr",
     "output_type": "stream",
     "text": [
      "INFO flwr 2023-11-09 13:04:31,824 | server.py:171 | evaluate_round 18: no clients selected, cancel\n",
      "INFO:flwr:evaluate_round 18: no clients selected, cancel\n",
      "DEBUG flwr 2023-11-09 13:04:31,825 | server.py:222 | fit_round 19: strategy sampled 10 clients (out of 40)\n",
      "DEBUG:flwr:fit_round 19: strategy sampled 10 clients (out of 40)\n",
      "  0%|          | 0/228 [00:00<?, ?it/s]\n",
      " 91%|█████████ | 208/228 [00:13<00:01, 16.47it/s]\u001b[32m [repeated 33x across cluster]\u001b[0m\n",
      "100%|██████████| 228/228 [00:14<00:00, 15.59it/s]\u001b[32m [repeated 10x across cluster]\u001b[0m\n",
      "  0%|          | 0/228 [00:00<?, ?it/s]\u001b[32m [repeated 3x across cluster]\u001b[0m\n",
      " 27%|██▋       | 62/228 [00:05<00:13, 12.53it/s]\u001b[32m [repeated 60x across cluster]\u001b[0m\n",
      "  7%|▋         | 17/228 [00:01<00:23,  9.04it/s]\n",
      "  0%|          | 0/228 [00:00<?, ?it/s]\u001b[32m [repeated 4x across cluster]\u001b[0m\n",
      " 26%|██▋       | 60/228 [00:06<00:20,  8.33it/s]\u001b[32m [repeated 200x across cluster]\u001b[0m\n",
      " 14%|█▍        | 33/228 [00:04<00:34,  5.67it/s]\n",
      " 20%|██        | 46/228 [00:06<00:19,  9.25it/s]\n",
      " 32%|███▏      | 74/228 [00:09<00:19,  7.83it/s]\u001b[32m [repeated 2x across cluster]\u001b[0m\n",
      " 40%|███▉      | 91/228 [00:11<00:16,  8.16it/s]\u001b[32m [repeated 249x across cluster]\u001b[0m\n",
      " 37%|███▋      | 85/228 [00:10<00:15,  9.27it/s]\u001b[32m [repeated 8x across cluster]\u001b[0m\n",
      " 59%|█████▉    | 135/228 [00:16<00:10,  8.70it/s]\u001b[32m [repeated 312x across cluster]\u001b[0m\n",
      " 92%|█████████▏| 209/228 [00:22<00:02,  9.46it/s]\n",
      " 93%|█████████▎| 211/228 [00:22<00:01,  9.87it/s]\n",
      " 93%|█████████▎| 212/228 [00:22<00:01,  9.72it/s]\n",
      " 93%|█████████▎| 213/228 [00:22<00:01,  9.58it/s]\n",
      " 94%|█████████▍| 214/228 [00:22<00:01,  9.66it/s]\n",
      " 94%|█████████▍| 215/228 [00:22<00:01,  9.60it/s]\n",
      " 95%|█████████▍| 216/228 [00:22<00:01,  9.17it/s]\n",
      " 95%|█████████▌| 217/228 [00:23<00:01,  8.96it/s]\n",
      " 96%|█████████▌| 218/228 [00:23<00:01,  8.80it/s]\n",
      " 96%|█████████▌| 219/228 [00:23<00:01,  8.78it/s]\n",
      " 96%|█████████▋| 220/228 [00:23<00:00,  8.72it/s]\n",
      " 97%|█████████▋| 221/228 [00:23<00:00,  8.80it/s]\n",
      " 97%|█████████▋| 222/228 [00:23<00:00,  8.41it/s]\n",
      " 98%|█████████▊| 223/228 [00:23<00:00,  8.44it/s]\n",
      " 98%|█████████▊| 224/228 [00:23<00:00,  8.41it/s]\n",
      " 99%|█████████▉| 226/228 [00:24<00:00,  9.17it/s]\n",
      "100%|█████████▉| 227/228 [00:24<00:00,  8.82it/s]\n",
      "100%|██████████| 228/228 [00:24<00:00,  9.39it/s]\n",
      "  0%|          | 0/228 [00:00<?, ?it/s]\n"
     ]
    },
    {
     "name": "stdout",
     "output_type": "stream",
     "text": [
      "\u001b[2m\u001b[36m(DefaultActor pid=92320)\u001b[0m  Training loss for epoch 0: 1.5693888693002231, accuracy: 0.3612938596491228\n"
     ]
    },
    {
     "name": "stderr",
     "output_type": "stream",
     "text": [
      "\u001b[2m\u001b[36m(DefaultActor pid=92314)\u001b[0m \r",
      " 59%|█████▉    | 135/228 [00:15<00:09,  9.37it/s]\r",
      " 60%|█████▉    | 136/228 [00:15<00:09,  9.25it/s]\u001b[32m [repeated 8x across cluster]\u001b[0m\n",
      "\u001b[2m\u001b[36m(DefaultActor pid=92318)\u001b[0m \r",
      " 64%|██████▍   | 146/228 [00:18<00:09,  8.25it/s]\u001b[32m [repeated 282x across cluster]\u001b[0m\n"
     ]
    },
    {
     "name": "stdout",
     "output_type": "stream",
     "text": [
      "\u001b[2m\u001b[36m(DefaultActor pid=92319)\u001b[0m  Training loss for epoch 0: 0.48168470508729416, accuracy: 0.852796052631579\n"
     ]
    },
    {
     "name": "stderr",
     "output_type": "stream",
     "text": [
      "100%|██████████| 228/228 [00:25<00:00,  8.90it/s]\u001b[32m [repeated 20x across cluster]\u001b[0m\n",
      "  0%|          | 0/228 [00:00<?, ?it/s]\n",
      " 23%|██▎       | 52/228 [00:05<00:19,  8.85it/s]\u001b[32m [repeated 9x across cluster]\u001b[0m\n",
      " 14%|█▎        | 31/228 [00:03<00:23,  8.48it/s]\u001b[32m [repeated 280x across cluster]\u001b[0m\n",
      "  0%|          | 0/228 [00:00<?, ?it/s]\n"
     ]
    },
    {
     "name": "stdout",
     "output_type": "stream",
     "text": [
      "\u001b[2m\u001b[36m(DefaultActor pid=92317)\u001b[0m  Training loss for epoch 0: 0.8283354388386533, accuracy: 0.6883223684210527\n"
     ]
    },
    {
     "name": "stderr",
     "output_type": "stream",
     "text": [
      "\u001b[2m\u001b[36m(DefaultActor pid=92314)\u001b[0m \r",
      " 92%|█████████▏| 209/228 [00:24<00:02,  8.93it/s]\u001b[32m [repeated 29x across cluster]\u001b[0m\n"
     ]
    },
    {
     "name": "stdout",
     "output_type": "stream",
     "text": [
      "\u001b[2m\u001b[36m(DefaultActor pid=92313)\u001b[0m  Training loss for epoch 0: 0.8675498222572762, accuracy: 0.6666666666666666\n"
     ]
    },
    {
     "name": "stderr",
     "output_type": "stream",
     "text": [
      " 87%|████████▋ | 198/228 [00:22<00:03,  9.21it/s]\n",
      " 12%|█▏        | 28/228 [00:03<00:25,  7.96it/s]\u001b[32m [repeated 217x across cluster]\u001b[0m\n",
      "  0%|          | 0/228 [00:00<?, ?it/s]\u001b[32m [repeated 5x across cluster]\u001b[0m\n",
      "100%|██████████| 228/228 [00:26<00:00,  8.65it/s]\u001b[32m [repeated 86x across cluster]\u001b[0m\n",
      " 15%|█▌        | 35/228 [00:03<00:21,  8.83it/s]\n",
      " 28%|██▊       | 63/228 [00:08<00:25,  6.53it/s]\u001b[32m [repeated 262x across cluster]\u001b[0m\n",
      " 22%|██▏       | 51/228 [00:06<00:20,  8.83it/s]\n",
      " 32%|███▏      | 73/228 [00:08<00:17,  9.12it/s]\u001b[32m [repeated 4x across cluster]\u001b[0m\n",
      " 68%|██████▊   | 156/228 [00:18<00:08,  8.27it/s]\u001b[32m [repeated 305x across cluster]\u001b[0m\n",
      " 45%|████▍     | 102/228 [00:12<00:12,  9.76it/s]\u001b[32m [repeated 6x across cluster]\u001b[0m\n",
      " 92%|█████████▏| 209/228 [00:24<00:02,  7.60it/s]\n",
      " 92%|█████████▏| 210/228 [00:24<00:02,  7.93it/s]\n",
      " 93%|█████████▎| 212/228 [00:24<00:03,  4.51it/s]\n",
      " 93%|█████████▎| 213/228 [00:25<00:02,  5.17it/s]\n",
      " 94%|█████████▍| 214/228 [00:25<00:02,  5.78it/s]\n",
      " 94%|█████████▍| 215/228 [00:25<00:02,  6.27it/s]\n",
      " 95%|█████████▍| 216/228 [00:25<00:01,  6.90it/s]\n",
      " 95%|█████████▌| 217/228 [00:25<00:01,  7.17it/s]\n",
      " 96%|█████████▌| 218/228 [00:25<00:01,  7.63it/s]\n",
      " 96%|█████████▌| 219/228 [00:25<00:01,  7.97it/s]\n",
      " 97%|█████████▋| 221/228 [00:25<00:00,  8.83it/s]\n",
      " 62%|██████▏   | 141/228 [00:18<00:12,  7.24it/s]\u001b[32m [repeated 264x across cluster]\u001b[0m\n",
      " 97%|█████████▋| 222/228 [00:26<00:00,  8.72it/s]\n",
      " 98%|█████████▊| 224/228 [00:26<00:00,  9.00it/s]\n",
      " 99%|█████████▊| 225/228 [00:26<00:00,  9.12it/s]\n",
      " 99%|█████████▉| 226/228 [00:26<00:00,  8.57it/s]\n",
      "100%|█████████▉| 227/228 [00:26<00:00,  8.89it/s]\n",
      "100%|██████████| 228/228 [00:26<00:00,  8.52it/s]\n",
      "  0%|          | 0/228 [00:00<?, ?it/s]\n"
     ]
    },
    {
     "name": "stdout",
     "output_type": "stream",
     "text": [
      "\u001b[2m\u001b[36m(DefaultActor pid=92320)\u001b[0m  Training loss for epoch 1: 1.5540532590004437, accuracy: 0.36019736842105265\u001b[32m [repeated 5x across cluster]\u001b[0m\n"
     ]
    },
    {
     "name": "stderr",
     "output_type": "stream",
     "text": [
      "  7%|▋         | 17/228 [00:01<00:23,  9.13it/s]\u001b[32m [repeated 3x across cluster]\u001b[0m\n",
      " 97%|█████████▋| 222/228 [00:26<00:00,  9.15it/s]\u001b[32m [repeated 11x across cluster]\u001b[0m\n",
      " 69%|██████▉   | 158/228 [00:20<00:08,  7.79it/s]\u001b[32m [repeated 282x across cluster]\u001b[0m\n",
      "  0%|          | 0/228 [00:00<?, ?it/s]\n",
      " 90%|█████████ | 206/228 [00:24<00:02,  9.52it/s]\u001b[32m [repeated 7x across cluster]\u001b[0m\n",
      " 92%|█████████▏| 209/228 [00:26<00:02,  8.15it/s]\u001b[32m [repeated 6x across cluster]\u001b[0m\n",
      " 37%|███▋      | 84/228 [00:09<00:15,  9.43it/s]\u001b[32m [repeated 281x across cluster]\u001b[0m\n",
      "  0%|          | 0/228 [00:00<?, ?it/s]\n"
     ]
    },
    {
     "name": "stdout",
     "output_type": "stream",
     "text": [
      "\u001b[2m\u001b[36m(DefaultActor pid=92317)\u001b[0m  Training loss for epoch 1: 0.8030485839893421, accuracy: 0.6929824561403509\u001b[32m [repeated 2x across cluster]\u001b[0m\n"
     ]
    },
    {
     "name": "stderr",
     "output_type": "stream",
     "text": [
      "\u001b[2m\u001b[36m(DefaultActor pid=92314)\u001b[0m \r",
      "  8%|▊         | 19/228 [00:02<00:25,  8.04it/s]\r",
      "  9%|▉         | 20/228 [00:02<00:24,  8.46it/s]\u001b[32m [repeated 6x across cluster]\u001b[0m\n",
      "\u001b[2m\u001b[36m(DefaultActor pid=92315)\u001b[0m \r",
      " 99%|█████████▉| 226/228 [00:29<00:00,  8.57it/s]\r",
      "100%|█████████▉| 227/228 [00:29<00:00,  8.20it/s]\u001b[32m [repeated 103x across cluster]\u001b[0m\n"
     ]
    },
    {
     "name": "stdout",
     "output_type": "stream",
     "text": [
      "\u001b[2m\u001b[36m(DefaultActor pid=92315)\u001b[0m \n"
     ]
    },
    {
     "name": "stderr",
     "output_type": "stream",
     "text": [
      " 17%|█▋        | 39/228 [00:04<00:22,  8.52it/s]\u001b[32m [repeated 220x across cluster]\u001b[0m\n",
      "  0%|          | 0/228 [00:00<?, ?it/s]\u001b[32m [repeated 5x across cluster]\u001b[0m\n",
      " 29%|██▉       | 66/228 [00:07<00:18,  8.72it/s]\u001b[32m [repeated 7x across cluster]\u001b[0m\n",
      "100%|██████████| 228/228 [00:29<00:00,  7.75it/s]\u001b[32m [repeated 2x across cluster]\u001b[0m\n",
      " 32%|███▏      | 74/228 [00:09<00:20,  7.58it/s]\u001b[32m [repeated 271x across cluster]\u001b[0m\n",
      " 46%|████▋     | 106/228 [00:12<00:13,  9.21it/s]\u001b[32m [repeated 4x across cluster]\u001b[0m\n",
      " 92%|█████████▏| 210/228 [00:24<00:02,  8.64it/s]\n",
      " 93%|█████████▎| 211/228 [00:24<00:01,  8.52it/s]\n",
      " 93%|█████████▎| 212/228 [00:24<00:01,  8.68it/s]\n",
      " 93%|█████████▎| 213/228 [00:24<00:01,  8.94it/s]\n",
      " 40%|████      | 92/228 [00:12<00:17,  7.84it/s]\u001b[32m [repeated 304x across cluster]\u001b[0m\n",
      " 94%|█████████▍| 214/228 [00:24<00:01,  8.94it/s]\n",
      " 94%|█████████▍| 215/228 [00:24<00:01,  8.89it/s]\n",
      " 95%|█████████▍| 216/228 [00:24<00:01,  8.90it/s]\n",
      " 95%|█████████▌| 217/228 [00:25<00:01,  8.87it/s]\n",
      " 96%|█████████▌| 218/228 [00:25<00:01,  7.45it/s]\n",
      " 96%|█████████▋| 220/228 [00:25<00:00,  8.52it/s]\n",
      " 97%|█████████▋| 222/228 [00:25<00:00,  9.07it/s]\n",
      " 98%|█████████▊| 223/228 [00:25<00:00,  8.83it/s]\n",
      " 99%|█████████▊| 225/228 [00:25<00:00,  9.35it/s]\n",
      " 99%|█████████▉| 226/228 [00:26<00:00,  9.19it/s]\n",
      "100%|█████████▉| 227/228 [00:26<00:00,  9.28it/s]\n",
      "100%|██████████| 228/228 [00:26<00:00,  8.67it/s]\n",
      "  0%|          | 0/228 [00:00<?, ?it/s]\n"
     ]
    },
    {
     "name": "stdout",
     "output_type": "stream",
     "text": [
      "\u001b[2m\u001b[36m(DefaultActor pid=92320)\u001b[0m  Training loss for epoch 2: 1.7207124309058774, accuracy: 0.3314144736842105\u001b[32m [repeated 6x across cluster]\u001b[0m\n"
     ]
    },
    {
     "name": "stderr",
     "output_type": "stream",
     "text": [
      "  2%|▏         | 5/228 [00:00<00:24,  9.27it/s]\u001b[32m [repeated 3x across cluster]\u001b[0m\n",
      " 94%|█████████▍| 214/228 [00:26<00:01,  7.69it/s]\u001b[32m [repeated 4x across cluster]\u001b[0m\n",
      " 67%|██████▋   | 153/228 [00:19<00:09,  8.28it/s]\u001b[32m [repeated 258x across cluster]\u001b[0m\n",
      "  0%|          | 0/228 [00:00<?, ?it/s]\n",
      " 72%|███████▏  | 164/228 [00:19<00:06,  9.24it/s]\u001b[32m [repeated 5x across cluster]\u001b[0m\n",
      "100%|██████████| 228/228 [00:27<00:00,  8.24it/s]\u001b[32m [repeated 12x across cluster]\u001b[0m\n",
      " 85%|████████▌ | 194/228 [00:24<00:04,  7.97it/s]\u001b[32m [repeated 300x across cluster]\u001b[0m\n",
      "  0%|          | 0/228 [00:00<?, ?it/s]\n"
     ]
    },
    {
     "name": "stdout",
     "output_type": "stream",
     "text": [
      "\u001b[2m\u001b[36m(DefaultActor pid=92314)\u001b[0m  Training loss for epoch 2: 1.5557320201606082, accuracy: 0.35334429824561403\u001b[32m [repeated 2x across cluster]\u001b[0m\n"
     ]
    },
    {
     "name": "stderr",
     "output_type": "stream",
     "text": [
      "  1%|          | 2/228 [00:00<00:24,  9.37it/s]\u001b[32m [repeated 5x across cluster]\u001b[0m\n",
      "100%|██████████| 228/228 [00:27<00:00,  8.38it/s]\u001b[32m [repeated 53x across cluster]\u001b[0m\n",
      "  4%|▎         | 8/228 [00:00<00:26,  8.25it/s]\u001b[32m [repeated 253x across cluster]\u001b[0m\n",
      "  0%|          | 0/228 [00:00<?, ?it/s]\u001b[32m [repeated 3x across cluster]\u001b[0m\n"
     ]
    },
    {
     "name": "stdout",
     "output_type": "stream",
     "text": [
      "\u001b[2m\u001b[36m(DefaultActor pid=92315)\u001b[0m  Training loss for epoch 2: 0.5318251958999195, accuracy: 0.7941337719298246\u001b[32m [repeated 4x across cluster]\u001b[0m\n"
     ]
    },
    {
     "name": "stderr",
     "output_type": "stream",
     "text": [
      "  1%|▏         | 3/228 [00:00<00:25,  8.90it/s]\u001b[32m [repeated 9x across cluster]\u001b[0m\n",
      "100%|██████████| 228/228 [00:30<00:00,  7.60it/s]\u001b[32m [repeated 60x across cluster]\u001b[0m\n",
      " 22%|██▏       | 50/228 [00:06<00:22,  7.86it/s]\u001b[32m [repeated 254x across cluster]\u001b[0m\n",
      "  0%|          | 0/228 [00:00<?, ?it/s]\u001b[32m [repeated 2x across cluster]\u001b[0m\n",
      " 15%|█▌        | 35/228 [00:04<00:23,  8.23it/s]\u001b[32m [repeated 5x across cluster]\u001b[0m\n",
      " 38%|███▊      | 87/228 [00:11<00:16,  8.30it/s]\u001b[32m [repeated 281x across cluster]\u001b[0m\n",
      " 92%|█████████▏| 209/228 [00:24<00:02,  8.41it/s]\n",
      " 92%|█████████▏| 210/228 [00:24<00:02,  8.63it/s]\n",
      " 93%|█████████▎| 212/228 [00:24<00:01,  8.68it/s]\n",
      " 93%|█████████▎| 213/228 [00:25<00:01,  8.79it/s]\n",
      " 94%|█████████▍| 214/228 [00:25<00:01,  9.03it/s]\n",
      " 94%|█████████▍| 215/228 [00:25<00:01,  9.01it/s]\n",
      " 95%|█████████▍| 216/228 [00:25<00:01,  9.00it/s]\n",
      " 95%|█████████▌| 217/228 [00:25<00:01,  8.66it/s]\n",
      " 96%|█████████▌| 218/228 [00:25<00:01,  8.28it/s]\n",
      " 96%|█████████▌| 219/228 [00:25<00:01,  8.62it/s]\n",
      " 96%|█████████▋| 220/228 [00:25<00:00,  8.49it/s]\n",
      " 97%|█████████▋| 221/228 [00:26<00:00,  8.67it/s]\n",
      " 97%|█████████▋| 222/228 [00:26<00:00,  8.75it/s]\n",
      " 98%|█████████▊| 223/228 [00:26<00:00,  8.33it/s]\n",
      " 98%|█████████▊| 224/228 [00:26<00:00,  8.44it/s]\n",
      " 99%|█████████▊| 225/228 [00:26<00:00,  8.80it/s]\n",
      " 99%|█████████▉| 226/228 [00:26<00:00,  8.88it/s]\n",
      "100%|█████████▉| 227/228 [00:26<00:00,  8.42it/s]\n",
      "100%|██████████| 228/228 [00:26<00:00,  8.50it/s]\n",
      "  0%|          | 0/228 [00:00<?, ?it/s]\n",
      " 74%|███████▎  | 168/228 [00:20<00:06,  9.05it/s]\u001b[32m [repeated 5x across cluster]\u001b[0m\n"
     ]
    },
    {
     "name": "stdout",
     "output_type": "stream",
     "text": [
      "\u001b[2m\u001b[36m(DefaultActor pid=92320)\u001b[0m  Training loss for epoch 3: 1.5503340392259128, accuracy: 0.36156798245614036\u001b[32m [repeated 2x across cluster]\u001b[0m\n"
     ]
    },
    {
     "name": "stderr",
     "output_type": "stream",
     "text": [
      " 57%|█████▋    | 129/228 [00:16<00:11,  8.63it/s]\u001b[32m [repeated 295x across cluster]\u001b[0m\n",
      " 93%|█████████▎| 212/228 [00:25<00:01,  8.48it/s]\u001b[32m [repeated 4x across cluster]\u001b[0m\n",
      "  0%|          | 0/228 [00:00<?, ?it/s]\n",
      " 55%|█████▌    | 126/228 [00:15<00:11,  9.01it/s]\u001b[32m [repeated 3x across cluster]\u001b[0m\n",
      " 73%|███████▎  | 166/228 [00:21<00:07,  8.00it/s]\u001b[32m [repeated 255x across cluster]\u001b[0m\n",
      "100%|██████████| 228/228 [00:27<00:00,  8.43it/s]\u001b[32m [repeated 15x across cluster]\u001b[0m\n",
      " 35%|███▌      | 80/228 [00:09<00:17,  8.37it/s]\u001b[32m [repeated 6x across cluster]\u001b[0m\n",
      "  0%|          | 0/228 [00:00<?, ?it/s]\n"
     ]
    },
    {
     "name": "stdout",
     "output_type": "stream",
     "text": [
      "\u001b[2m\u001b[36m(DefaultActor pid=92314)\u001b[0m  Training loss for epoch 3: 1.5838575269046582, accuracy: 0.3612938596491228\u001b[32m [repeated 2x across cluster]\u001b[0m\n"
     ]
    },
    {
     "name": "stderr",
     "output_type": "stream",
     "text": [
      " 91%|█████████ | 207/228 [00:26<00:02,  8.31it/s]\u001b[32m [repeated 284x across cluster]\u001b[0m\n",
      " 94%|█████████▍| 215/228 [00:27<00:01,  8.01it/s]\u001b[32m [repeated 44x across cluster]\u001b[0m\n",
      " 11%|█         | 24/228 [00:02<00:21,  9.49it/s]\u001b[32m [repeated 8x across cluster]\u001b[0m\n",
      "  0%|          | 0/228 [00:00<?, ?it/s]\u001b[32m [repeated 2x across cluster]\u001b[0m\n",
      "  8%|▊         | 19/228 [00:02<00:26,  8.03it/s]\u001b[32m [repeated 248x across cluster]\u001b[0m\n"
     ]
    },
    {
     "name": "stdout",
     "output_type": "stream",
     "text": [
      "\u001b[2m\u001b[36m(DefaultActor pid=92318)\u001b[0m  Training loss for epoch 3: 0.44645969389954154, accuracy: 0.840734649122807\u001b[32m [repeated 3x across cluster]\u001b[0m\n"
     ]
    },
    {
     "name": "stderr",
     "output_type": "stream",
     "text": [
      " 99%|█████████▊| 225/228 [00:29<00:00,  8.11it/s]\u001b[32m [repeated 63x across cluster]\u001b[0m\n",
      " 37%|███▋      | 85/228 [00:09<00:15,  9.13it/s]\u001b[32m [repeated 7x across cluster]\u001b[0m\n",
      "  0%|          | 0/228 [00:00<?, ?it/s]\u001b[32m [repeated 3x across cluster]\u001b[0m\n",
      " 43%|████▎     | 98/228 [00:11<00:17,  7.40it/s]\u001b[32m [repeated 283x across cluster]\u001b[0m\n",
      "100%|██████████| 228/228 [00:29<00:00,  7.72it/s]\u001b[32m [repeated 10x across cluster]\u001b[0m\n",
      " 28%|██▊       | 63/228 [00:07<00:19,  8.45it/s]\n"
     ]
    },
    {
     "name": "stdout",
     "output_type": "stream",
     "text": [
      "\u001b[2m\u001b[36m(DefaultActor pid=92320)\u001b[0m  Training loss for epoch 4: 1.5455613379415714, accuracy: 0.36047149122807015\u001b[32m [repeated 3x across cluster]\u001b[0m\n"
     ]
    },
    {
     "name": "stderr",
     "output_type": "stream",
     "text": [
      " 42%|████▏     | 95/228 [00:12<00:16,  8.22it/s]\n",
      " 43%|████▎     | 99/228 [00:12<00:16,  7.73it/s]\u001b[32m [repeated 256x across cluster]\u001b[0m\n",
      "100%|██████████| 228/228 [00:26<00:00,  8.61it/s]\u001b[32m [repeated 19x across cluster]\u001b[0m\n",
      "  0%|          | 0/228 [00:00<?, ?it/s]\n",
      " 73%|███████▎  | 166/228 [00:19<00:06,  9.38it/s]\u001b[32m [repeated 2x across cluster]\u001b[0m\n"
     ]
    },
    {
     "name": "stdout",
     "output_type": "stream",
     "text": [
      "\u001b[2m\u001b[36m(DefaultActor pid=92319)\u001b[0m  Training loss for epoch 4: 0.4404542526851098, accuracy: 0.8681469298245614\n"
     ]
    },
    {
     "name": "stderr",
     "output_type": "stream",
     "text": [
      " 62%|██████▏   | 141/228 [00:17<00:10,  8.18it/s]\u001b[32m [repeated 281x across cluster]\u001b[0m\n",
      "100%|██████████| 228/228 [00:27<00:00,  8.37it/s]\u001b[32m [repeated 17x across cluster]\u001b[0m\n",
      "  0%|          | 0/228 [00:00<?, ?it/s]\n",
      " 54%|█████▍    | 123/228 [00:15<00:11,  8.92it/s]\u001b[32m [repeated 2x across cluster]\u001b[0m\n",
      " 78%|███████▊  | 178/228 [00:22<00:06,  8.07it/s]\u001b[32m [repeated 238x across cluster]\u001b[0m\n"
     ]
    },
    {
     "name": "stdout",
     "output_type": "stream",
     "text": [
      "\u001b[2m\u001b[36m(DefaultActor pid=92314)\u001b[0m  Training loss for epoch 4: 1.54886558102934, accuracy: 0.35252192982456143\n"
     ]
    },
    {
     "name": "stderr",
     "output_type": "stream",
     "text": [
      " 95%|█████████▍| 216/228 [00:25<00:01,  9.71it/s]\u001b[32m [repeated 26x across cluster]\u001b[0m\n",
      " 71%|███████   | 161/228 [00:20<00:07,  9.39it/s]\u001b[32m [repeated 3x across cluster]\u001b[0m\n",
      " 84%|████████▍ | 191/228 [00:23<00:04,  8.08it/s]\u001b[32m [repeated 173x across cluster]\u001b[0m\n"
     ]
    },
    {
     "name": "stdout",
     "output_type": "stream",
     "text": [
      "\u001b[2m\u001b[36m(DefaultActor pid=92317)\u001b[0m  Training loss for epoch 4: 0.8119531486248761, accuracy: 0.6891447368421053\u001b[32m [repeated 2x across cluster]\u001b[0m\n"
     ]
    },
    {
     "name": "stderr",
     "output_type": "stream",
     "text": [
      " 95%|█████████▌| 217/228 [00:26<00:00, 11.54it/s]\u001b[32m [repeated 27x across cluster]\u001b[0m\n",
      " 60%|██████    | 137/228 [00:13<00:05, 16.47it/s]\u001b[32m [repeated 91x across cluster]\u001b[0m\n",
      "100%|██████████| 228/228 [00:27<00:00,  8.32it/s]\u001b[32m [repeated 26x across cluster]\u001b[0m\n",
      "  0%|          | 0/228 [00:00<?, ?it/s]\n"
     ]
    },
    {
     "name": "stdout",
     "output_type": "stream",
     "text": [
      "\u001b[2m\u001b[36m(DefaultActor pid=92320)\u001b[0m  Training loss for epoch 0: 0.4568153364551172, accuracy: 0.8338815789473685\u001b[32m [repeated 4x across cluster]\u001b[0m\n"
     ]
    },
    {
     "name": "stderr",
     "output_type": "stream",
     "text": [
      " 15%|█▍        | 34/228 [00:02<00:12, 15.57it/s]\u001b[32m [repeated 66x across cluster]\u001b[0m\n",
      "100%|██████████| 228/228 [00:18<00:00, 12.17it/s]\u001b[32m [repeated 20x across cluster]\u001b[0m\n",
      "  0%|          | 0/228 [00:00<?, ?it/s]\n",
      " 25%|██▌       | 58/228 [00:04<00:10, 16.41it/s]\u001b[32m [repeated 62x across cluster]\u001b[0m\n",
      " 62%|██████▏   | 142/228 [00:09<00:05, 16.28it/s]\u001b[32m [repeated 83x across cluster]\u001b[0m\n",
      " 92%|█████████▏| 210/228 [00:14<00:01, 16.39it/s]\n",
      " 93%|█████████▎| 212/228 [00:14<00:00, 16.19it/s]\n",
      " 94%|█████████▍| 214/228 [00:14<00:00, 16.27it/s]\n",
      " 95%|█████████▍| 216/228 [00:14<00:00, 16.34it/s]\n",
      " 96%|█████████▌| 218/228 [00:14<00:01,  9.23it/s]\n",
      " 96%|█████████▋| 220/228 [00:14<00:00, 10.44it/s]\n",
      " 97%|█████████▋| 222/228 [00:15<00:00, 11.64it/s]\n",
      " 98%|█████████▊| 224/228 [00:15<00:00, 12.45it/s]\n",
      " 99%|█████████▉| 226/228 [00:15<00:00, 13.37it/s]\n",
      "100%|██████████| 228/228 [00:15<00:00, 14.73it/s]\n",
      "  0%|          | 0/228 [00:00<?, ?it/s]\n"
     ]
    },
    {
     "name": "stdout",
     "output_type": "stream",
     "text": [
      "\u001b[2m\u001b[36m(DefaultActor pid=92320)\u001b[0m  Training loss for epoch 1: 0.4254184980762371, accuracy: 0.8495065789473685\u001b[32m [repeated 2x across cluster]\u001b[0m\n"
     ]
    },
    {
     "name": "stderr",
     "output_type": "stream",
     "text": [
      " 13%|█▎        | 30/228 [00:01<00:12, 15.65it/s]\u001b[32m [repeated 61x across cluster]\u001b[0m\n",
      "100%|██████████| 228/228 [00:15<00:00, 14.98it/s]\u001b[32m [repeated 10x across cluster]\u001b[0m\n",
      "  0%|          | 0/228 [00:00<?, ?it/s]\n",
      " 32%|███▏      | 72/228 [00:04<00:09, 16.38it/s]\u001b[32m [repeated 77x across cluster]\u001b[0m\n",
      " 68%|██████▊   | 154/228 [00:09<00:04, 16.18it/s]\u001b[32m [repeated 81x across cluster]\u001b[0m\n",
      " 92%|█████████▏| 210/228 [00:13<00:01, 16.65it/s]\n",
      " 93%|█████████▎| 212/228 [00:13<00:00, 16.61it/s]\n",
      " 94%|█████████▍| 214/228 [00:13<00:00, 16.63it/s]\n",
      " 95%|█████████▍| 216/228 [00:13<00:00, 16.84it/s]\n",
      " 96%|█████████▌| 218/228 [00:13<00:00, 16.95it/s]\n",
      " 96%|█████████▋| 220/228 [00:13<00:00, 16.63it/s]\n",
      " 97%|█████████▋| 222/228 [00:13<00:00, 16.52it/s]\n",
      " 98%|█████████▊| 224/228 [00:14<00:00, 16.51it/s]\n",
      " 99%|█████████▉| 226/228 [00:14<00:00, 16.41it/s]\n",
      "100%|██████████| 228/228 [00:14<00:00, 16.00it/s]\n",
      "  0%|          | 0/228 [00:00<?, ?it/s]\n"
     ]
    },
    {
     "name": "stdout",
     "output_type": "stream",
     "text": [
      "\u001b[2m\u001b[36m(DefaultActor pid=92320)\u001b[0m  Training loss for epoch 2: 0.40254145798583824, accuracy: 0.8571820175438597\u001b[32m [repeated 2x across cluster]\u001b[0m\n"
     ]
    },
    {
     "name": "stderr",
     "output_type": "stream",
     "text": [
      "  4%|▎         | 8/228 [00:00<00:15, 14.06it/s]\u001b[32m [repeated 62x across cluster]\u001b[0m\n",
      "100%|██████████| 228/228 [00:14<00:00, 16.28it/s]\u001b[32m [repeated 10x across cluster]\u001b[0m\n",
      "  0%|          | 0/228 [00:00<?, ?it/s]\n",
      " 32%|███▏      | 74/228 [00:05<00:09, 15.97it/s]\u001b[32m [repeated 66x across cluster]\u001b[0m\n",
      " 69%|██████▉   | 158/228 [00:10<00:04, 16.46it/s]\u001b[32m [repeated 84x across cluster]\u001b[0m\n",
      " 92%|█████████▏| 210/228 [00:13<00:01, 15.96it/s]\n",
      " 93%|█████████▎| 212/228 [00:14<00:00, 16.01it/s]\n",
      " 94%|█████████▍| 214/228 [00:14<00:00, 16.27it/s]\n",
      " 95%|█████████▍| 216/228 [00:14<00:00, 16.36it/s]\n",
      " 96%|█████████▌| 218/228 [00:14<00:00, 16.28it/s]\n",
      " 96%|█████████▋| 220/228 [00:14<00:00, 16.49it/s]\n",
      " 97%|█████████▋| 222/228 [00:14<00:00, 16.43it/s]\n",
      " 98%|█████████▊| 224/228 [00:15<00:00,  9.45it/s]\n",
      " 99%|█████████▉| 226/228 [00:15<00:00, 10.38it/s]\n",
      "100%|██████████| 228/228 [00:15<00:00, 14.86it/s]\n",
      "  0%|          | 0/228 [00:00<?, ?it/s]\n"
     ]
    },
    {
     "name": "stdout",
     "output_type": "stream",
     "text": [
      "\u001b[2m\u001b[36m(DefaultActor pid=92320)\u001b[0m  Training loss for epoch 3: 0.5002476381824205, accuracy: 0.8234649122807017\u001b[32m [repeated 2x across cluster]\u001b[0m\n"
     ]
    },
    {
     "name": "stderr",
     "output_type": "stream",
     "text": [
      " 20%|██        | 46/228 [00:02<00:11, 16.07it/s]\u001b[32m [repeated 57x across cluster]\u001b[0m\n",
      "100%|██████████| 228/228 [00:15<00:00, 14.79it/s]\u001b[32m [repeated 10x across cluster]\u001b[0m\n",
      "  0%|          | 0/228 [00:00<?, ?it/s]\n",
      " 39%|███▉      | 90/228 [00:05<00:08, 16.04it/s]\u001b[32m [repeated 81x across cluster]\u001b[0m\n",
      " 91%|█████████ | 208/228 [00:12<00:01, 16.33it/s]\u001b[32m [repeated 82x across cluster]\u001b[0m\n",
      " 92%|█████████▏| 210/228 [00:13<00:01, 16.40it/s]\n",
      " 93%|█████████▎| 212/228 [00:13<00:00, 16.28it/s]\n",
      " 94%|█████████▍| 214/228 [00:13<00:00, 16.37it/s]\n",
      " 95%|█████████▍| 216/228 [00:13<00:00, 16.39it/s]\n",
      " 96%|█████████▌| 218/228 [00:13<00:00, 16.39it/s]\n",
      " 96%|█████████▋| 220/228 [00:13<00:00, 16.19it/s]\n",
      " 97%|█████████▋| 222/228 [00:13<00:00, 16.18it/s]\n",
      " 98%|█████████▊| 224/228 [00:13<00:00, 16.24it/s]\n",
      " 99%|█████████▉| 226/228 [00:14<00:00, 16.29it/s]\n",
      "100%|██████████| 228/228 [00:14<00:00, 16.05it/s]\n"
     ]
    },
    {
     "name": "stdout",
     "output_type": "stream",
     "text": [
      "\u001b[2m\u001b[36m(DefaultActor pid=92320)\u001b[0m  Training loss for epoch 4: 0.3932206347715436, accuracy: 0.8604714912280702\u001b[32m [repeated 2x across cluster]\u001b[0m\n"
     ]
    },
    {
     "name": "stderr",
     "output_type": "stream",
     "text": [
      "DEBUG flwr 2023-11-09 13:08:09,333 | server.py:236 | fit_round 19 received 10 results and 0 failures\n",
      "DEBUG:flwr:fit_round 19 received 10 results and 0 failures\n"
     ]
    },
    {
     "name": "stdout",
     "output_type": "stream",
     "text": [
      "Saving round 19 aggregated_parameters...\n",
      "Saved round 19 aggregated_parameters!\n"
     ]
    },
    {
     "name": "stderr",
     "output_type": "stream",
     "text": [
      "INFO flwr 2023-11-09 13:08:09,394 | server.py:171 | evaluate_round 19: no clients selected, cancel\n",
      "INFO:flwr:evaluate_round 19: no clients selected, cancel\n",
      "DEBUG flwr 2023-11-09 13:08:09,395 | server.py:222 | fit_round 20: strategy sampled 10 clients (out of 40)\n",
      "DEBUG:flwr:fit_round 20: strategy sampled 10 clients (out of 40)\n",
      "  0%|          | 0/228 [00:00<?, ?it/s]\n",
      " 91%|█████████ | 208/228 [00:12<00:01, 16.38it/s]\u001b[32m [repeated 19x across cluster]\u001b[0m\n",
      "100%|██████████| 228/228 [00:13<00:00, 16.31it/s]\u001b[32m [repeated 10x across cluster]\u001b[0m\n",
      "  0%|          | 0/228 [00:00<?, ?it/s]\u001b[32m [repeated 3x across cluster]\u001b[0m\n",
      " 25%|██▌       | 58/228 [00:05<00:12, 13.25it/s]\u001b[32m [repeated 66x across cluster]\u001b[0m\n",
      " 37%|███▋      | 84/228 [00:08<00:15,  9.40it/s]\n",
      "  0%|          | 0/228 [00:00<?, ?it/s]\u001b[32m [repeated 3x across cluster]\u001b[0m\n",
      "  7%|▋         | 16/228 [00:02<00:29,  7.07it/s]\u001b[32m [repeated 162x across cluster]\u001b[0m\n",
      " 33%|███▎      | 76/228 [00:09<00:25,  6.04it/s]\u001b[32m [repeated 3x across cluster]\u001b[0m\n",
      "  0%|          | 0/228 [00:00<?, ?it/s]\n",
      " 54%|█████▍    | 124/228 [00:14<00:11,  8.70it/s]\u001b[32m [repeated 234x across cluster]\u001b[0m\n",
      " 16%|█▌        | 36/228 [00:04<00:21,  9.14it/s]\u001b[32m [repeated 3x across cluster]\u001b[0m\n",
      " 40%|████      | 92/228 [00:12<00:15,  8.66it/s]\u001b[32m [repeated 304x across cluster]\u001b[0m\n",
      " 92%|█████████▏| 209/228 [00:22<00:02,  9.37it/s]\n",
      " 92%|█████████▏| 210/228 [00:22<00:02,  8.69it/s]\n",
      " 93%|█████████▎| 211/228 [00:22<00:01,  8.86it/s]\n",
      " 93%|█████████▎| 213/228 [00:22<00:01,  9.21it/s]\n",
      " 94%|█████████▍| 214/228 [00:23<00:01,  8.93it/s]\n",
      " 95%|█████████▍| 216/228 [00:23<00:01,  9.59it/s]\n",
      " 95%|█████████▌| 217/228 [00:23<00:01,  9.30it/s]\n",
      " 96%|█████████▌| 218/228 [00:23<00:01,  9.28it/s]\n",
      " 96%|█████████▌| 219/228 [00:23<00:00,  9.21it/s]\n",
      " 96%|█████████▋| 220/228 [00:23<00:00,  9.34it/s]\n",
      " 97%|█████████▋| 221/228 [00:23<00:00,  9.09it/s]\n",
      " 97%|█████████▋| 222/228 [00:23<00:00,  9.18it/s]\n",
      " 98%|█████████▊| 223/228 [00:24<00:00,  8.96it/s]\n",
      " 98%|█████████▊| 224/228 [00:24<00:00,  8.77it/s]\n",
      " 99%|█████████▊| 225/228 [00:24<00:00,  8.44it/s]\n",
      " 89%|████████▉ | 204/228 [00:23<00:02,  9.09it/s]\u001b[32m [repeated 8x across cluster]\u001b[0m\n",
      " 99%|█████████▉| 226/228 [00:24<00:00,  8.40it/s]\n",
      "100%|█████████▉| 227/228 [00:24<00:00,  8.69it/s]\n",
      "100%|██████████| 228/228 [00:24<00:00,  9.26it/s]\n",
      "  0%|          | 0/228 [00:00<?, ?it/s]\n"
     ]
    },
    {
     "name": "stdout",
     "output_type": "stream",
     "text": [
      "\u001b[2m\u001b[36m(DefaultActor pid=92319)\u001b[0m  Training loss for epoch 0: 0.8199530324261439, accuracy: 0.6811951754385965\u001b[32m [repeated 2x across cluster]\u001b[0m\n"
     ]
    },
    {
     "name": "stderr",
     "output_type": "stream",
     "text": [
      " 59%|█████▉    | 134/228 [00:17<00:11,  8.30it/s]\u001b[32m [repeated 283x across cluster]\u001b[0m\n",
      "100%|██████████| 228/228 [00:25<00:00,  8.85it/s]\u001b[32m [repeated 17x across cluster]\u001b[0m\n",
      " 68%|██████▊   | 155/228 [00:18<00:08,  9.01it/s]\u001b[32m [repeated 9x across cluster]\u001b[0m\n",
      "  0%|          | 0/228 [00:00<?, ?it/s]\n",
      " 77%|███████▋  | 176/228 [00:22<00:06,  8.36it/s]\u001b[32m [repeated 270x across cluster]\u001b[0m\n"
     ]
    },
    {
     "name": "stdout",
     "output_type": "stream",
     "text": [
      "\u001b[2m\u001b[36m(DefaultActor pid=92313)\u001b[0m  Training loss for epoch 0: 0.4203274817320338, accuracy: 0.8530701754385965\u001b[32m [repeated 2x across cluster]\u001b[0m\n"
     ]
    },
    {
     "name": "stderr",
     "output_type": "stream",
     "text": [
      "  0%|          | 0/228 [00:00<?, ?it/s]\n",
      "100%|██████████| 228/228 [00:28<00:00,  8.09it/s]\u001b[32m [repeated 39x across cluster]\u001b[0m\n",
      " 83%|████████▎ | 190/228 [00:22<00:04,  9.18it/s]\u001b[32m [repeated 6x across cluster]\u001b[0m\n",
      " 42%|████▏     | 95/228 [00:10<00:14,  9.43it/s]\u001b[32m [repeated 248x across cluster]\u001b[0m\n",
      "  0%|          | 0/228 [00:00<?, ?it/s]\u001b[32m [repeated 3x across cluster]\u001b[0m\n"
     ]
    },
    {
     "name": "stdout",
     "output_type": "stream",
     "text": [
      "\u001b[2m\u001b[36m(DefaultActor pid=92317)\u001b[0m  Training loss for epoch 0: 1.569227526323837, accuracy: 0.35910087719298245\u001b[32m [repeated 4x across cluster]\u001b[0m\n"
     ]
    },
    {
     "name": "stderr",
     "output_type": "stream",
     "text": [
      "100%|██████████| 228/228 [00:26<00:00,  8.60it/s]\u001b[32m [repeated 71x across cluster]\u001b[0m\n",
      " 24%|██▎       | 54/228 [00:06<00:28,  6.15it/s]\n",
      " 25%|██▍       | 56/228 [00:07<00:23,  7.24it/s]\u001b[32m [repeated 13x across cluster]\u001b[0m\n",
      " 11%|█▏        | 26/228 [00:03<00:27,  7.25it/s]\u001b[32m [repeated 204x across cluster]\u001b[0m\n",
      "  0%|          | 0/228 [00:00<?, ?it/s]\u001b[32m [repeated 2x across cluster]\u001b[0m\n",
      " 43%|████▎     | 98/228 [00:11<00:16,  8.06it/s]\u001b[32m [repeated 3x across cluster]\u001b[0m\n",
      " 18%|█▊        | 40/228 [00:05<00:20,  9.06it/s]\u001b[32m [repeated 2x across cluster]\u001b[0m\n",
      " 29%|██▊       | 65/228 [00:09<00:19,  8.41it/s]\u001b[32m [repeated 294x across cluster]\u001b[0m\n",
      " 92%|█████████▏| 209/228 [00:24<00:02,  9.45it/s]\n",
      " 55%|█████▌    | 126/228 [00:17<00:12,  8.09it/s]\u001b[32m [repeated 5x across cluster]\u001b[0m\n",
      " 92%|█████████▏| 210/228 [00:25<00:01,  9.12it/s]\n",
      " 93%|█████████▎| 211/228 [00:25<00:01,  9.00it/s]\n",
      " 93%|█████████▎| 212/228 [00:25<00:01,  9.12it/s]\n",
      " 93%|█████████▎| 213/228 [00:25<00:03,  4.29it/s]\n",
      " 94%|█████████▍| 214/228 [00:25<00:02,  5.05it/s]\n",
      " 48%|████▊     | 109/228 [00:15<00:20,  5.95it/s]\u001b[32m [repeated 277x across cluster]\u001b[0m\n",
      " 95%|█████████▍| 216/228 [00:26<00:01,  6.30it/s]\n",
      " 95%|█████████▌| 217/228 [00:26<00:01,  6.77it/s]\n",
      " 96%|█████████▌| 219/228 [00:26<00:01,  8.01it/s]\n",
      " 96%|█████████▋| 220/228 [00:26<00:00,  8.24it/s]\n",
      " 97%|█████████▋| 222/228 [00:26<00:00,  8.70it/s]\n",
      " 98%|█████████▊| 224/228 [00:26<00:00,  9.11it/s]\n",
      " 99%|█████████▊| 225/228 [00:27<00:00,  9.07it/s]\n",
      "100%|█████████▉| 227/228 [00:27<00:00,  9.39it/s]\n",
      "100%|██████████| 228/228 [00:27<00:00,  8.33it/s]\n",
      "  0%|          | 0/228 [00:00<?, ?it/s]\n"
     ]
    },
    {
     "name": "stdout",
     "output_type": "stream",
     "text": [
      "\u001b[2m\u001b[36m(DefaultActor pid=92319)\u001b[0m  Training loss for epoch 1: 0.8078374293420398, accuracy: 0.6847587719298246\u001b[32m [repeated 2x across cluster]\u001b[0m\n"
     ]
    },
    {
     "name": "stderr",
     "output_type": "stream",
     "text": [
      " 98%|█████████▊| 223/228 [00:27<00:00,  9.09it/s]\u001b[32m [repeated 12x across cluster]\u001b[0m\n",
      " 54%|█████▍    | 123/228 [00:15<00:11,  9.20it/s]\u001b[32m [repeated 4x across cluster]\u001b[0m\n",
      " 66%|██████▌   | 150/228 [00:20<00:11,  6.88it/s]\u001b[32m [repeated 277x across cluster]\u001b[0m\n",
      "  0%|          | 0/228 [00:00<?, ?it/s]\n",
      " 92%|█████████▏| 209/228 [00:28<00:02,  8.14it/s]\u001b[32m [repeated 6x across cluster]\u001b[0m\n",
      " 90%|████████▉ | 205/228 [00:27<00:02,  8.39it/s]\u001b[32m [repeated 4x across cluster]\u001b[0m\n",
      " 83%|████████▎ | 189/228 [00:24<00:04,  8.55it/s]\u001b[32m [repeated 286x across cluster]\u001b[0m\n"
     ]
    },
    {
     "name": "stdout",
     "output_type": "stream",
     "text": [
      "\u001b[2m\u001b[36m(DefaultActor pid=92313)\u001b[0m  Training loss for epoch 1: 0.41305549002432246, accuracy: 0.8533442982456141\u001b[32m [repeated 2x across cluster]\u001b[0m\n"
     ]
    },
    {
     "name": "stderr",
     "output_type": "stream",
     "text": [
      "  0%|          | 0/228 [00:00<?, ?it/s]\n",
      " 97%|█████████▋| 221/228 [00:28<00:00,  8.75it/s]\u001b[32m [repeated 95x across cluster]\u001b[0m\n",
      " 37%|███▋      | 84/228 [00:09<00:15,  9.21it/s]\u001b[32m [repeated 6x across cluster]\u001b[0m\n",
      "  1%|▏         | 3/228 [00:00<00:27,  8.05it/s]\u001b[32m [repeated 219x across cluster]\u001b[0m\n",
      "  0%|          | 0/228 [00:00<?, ?it/s]\u001b[32m [repeated 5x across cluster]\u001b[0m\n",
      "100%|██████████| 228/228 [00:29<00:00,  7.85it/s]\u001b[32m [repeated 16x across cluster]\u001b[0m\n",
      " 19%|█▉        | 43/228 [00:04<00:20,  9.13it/s]\u001b[32m [repeated 5x across cluster]\u001b[0m\n",
      " 18%|█▊        | 40/228 [00:05<00:31,  5.91it/s]\u001b[32m [repeated 280x across cluster]\u001b[0m\n",
      " 72%|███████▏  | 164/228 [00:19<00:07,  8.64it/s]\u001b[32m [repeated 3x across cluster]\u001b[0m\n",
      " 36%|███▋      | 83/228 [00:10<00:17,  8.35it/s]\u001b[32m [repeated 317x across cluster]\u001b[0m\n",
      " 92%|█████████▏| 210/228 [00:24<00:01,  9.17it/s]\n",
      " 93%|█████████▎| 211/228 [00:24<00:01,  9.16it/s]\n",
      " 93%|█████████▎| 212/228 [00:24<00:01,  9.05it/s]\n",
      " 93%|█████████▎| 213/228 [00:24<00:01,  8.84it/s]\n",
      " 94%|█████████▍| 214/228 [00:24<00:01,  8.51it/s]\n",
      " 94%|█████████▍| 215/228 [00:24<00:01,  8.17it/s]\n",
      " 95%|█████████▍| 216/228 [00:24<00:01,  8.48it/s]\n",
      " 95%|█████████▌| 217/228 [00:24<00:01,  8.37it/s]\n",
      " 96%|█████████▋| 220/228 [00:25<00:00,  8.80it/s]\n",
      " 97%|█████████▋| 221/228 [00:25<00:00,  8.99it/s]\n",
      " 98%|█████████▊| 223/228 [00:25<00:00,  9.29it/s]\n",
      " 99%|█████████▊| 225/228 [00:25<00:00,  9.62it/s]\n",
      " 99%|█████████▉| 226/228 [00:25<00:00,  9.25it/s]\n",
      "100%|██████████| 228/228 [00:26<00:00,  8.74it/s]\n",
      "  0%|          | 0/228 [00:00<?, ?it/s]\n"
     ]
    },
    {
     "name": "stdout",
     "output_type": "stream",
     "text": [
      "\u001b[2m\u001b[36m(DefaultActor pid=92319)\u001b[0m  Training loss for epoch 2: 0.7841739107511545, accuracy: 0.6938048245614035\u001b[32m [repeated 6x across cluster]\u001b[0m\n"
     ]
    },
    {
     "name": "stderr",
     "output_type": "stream",
     "text": [
      " 60%|█████▉    | 136/228 [00:17<00:11,  8.00it/s]\u001b[32m [repeated 5x across cluster]\u001b[0m\n",
      " 54%|█████▎    | 122/228 [00:15<00:16,  6.32it/s]\u001b[32m [repeated 255x across cluster]\u001b[0m\n",
      " 96%|█████████▋| 220/228 [00:26<00:01,  6.15it/s]\u001b[32m [repeated 11x across cluster]\u001b[0m\n",
      "  0%|          | 0/228 [00:00<?, ?it/s]\n",
      " 11%|█         | 25/228 [00:02<00:23,  8.66it/s]\u001b[32m [repeated 5x across cluster]\u001b[0m\n",
      " 71%|███████▏  | 163/228 [00:20<00:08,  7.92it/s]\u001b[32m [repeated 300x across cluster]\u001b[0m\n",
      "100%|██████████| 228/228 [00:27<00:00,  8.44it/s]\u001b[32m [repeated 8x across cluster]\u001b[0m\n"
     ]
    },
    {
     "name": "stdout",
     "output_type": "stream",
     "text": [
      "\u001b[2m\u001b[36m(DefaultActor pid=92316)\u001b[0m  Training loss for epoch 2: 0.762452945243894, accuracy: 0.7116228070175439\u001b[32m [repeated 2x across cluster]\u001b[0m\n"
     ]
    },
    {
     "name": "stderr",
     "output_type": "stream",
     "text": [
      "  0%|          | 0/228 [00:00<?, ?it/s]\n",
      " 88%|████████▊ | 200/228 [00:24<00:03,  8.23it/s]\u001b[32m [repeated 7x across cluster]\u001b[0m\n",
      " 89%|████████▉ | 203/228 [00:25<00:03,  8.18it/s]\u001b[32m [repeated 253x across cluster]\u001b[0m\n",
      " 96%|█████████▌| 218/228 [00:26<00:01,  8.93it/s]\u001b[32m [repeated 58x across cluster]\u001b[0m\n",
      "  0%|          | 0/228 [00:00<?, ?it/s]\u001b[32m [repeated 5x across cluster]\u001b[0m\n",
      " 48%|████▊     | 110/228 [00:13<00:13,  8.73it/s]\u001b[32m [repeated 6x across cluster]\u001b[0m\n",
      "  7%|▋         | 17/228 [00:02<00:25,  8.31it/s]\u001b[32m [repeated 248x across cluster]\u001b[0m\n",
      "100%|██████████| 228/228 [00:28<00:00,  7.89it/s]\u001b[32m [repeated 55x across cluster]\u001b[0m\n",
      " 21%|██        | 47/228 [00:06<00:38,  4.65it/s]\u001b[32m [repeated 6x across cluster]\u001b[0m\n",
      " 33%|███▎      | 75/228 [00:09<00:23,  6.38it/s]\u001b[32m [repeated 282x across cluster]\u001b[0m\n",
      " 92%|█████████▏| 209/228 [00:25<00:02,  8.52it/s]\n",
      " 92%|█████████▏| 210/228 [00:25<00:02,  8.32it/s]\n",
      " 93%|█████████▎| 211/228 [00:25<00:02,  8.26it/s]\n",
      " 93%|█████████▎| 212/228 [00:25<00:01,  8.63it/s]\n",
      " 93%|█████████▎| 213/228 [00:25<00:01,  8.77it/s]\n",
      " 94%|█████████▍| 214/228 [00:26<00:01,  8.71it/s]\n",
      " 94%|█████████▍| 215/228 [00:26<00:01,  8.34it/s]\n",
      " 95%|█████████▍| 216/228 [00:26<00:01,  7.97it/s]\n",
      " 96%|█████████▌| 218/228 [00:26<00:01,  8.46it/s]\n",
      " 96%|█████████▌| 219/228 [00:26<00:01,  8.29it/s]\n",
      " 96%|█████████▋| 220/228 [00:26<00:00,  8.37it/s]\n",
      " 97%|█████████▋| 221/228 [00:26<00:00,  8.36it/s]\n",
      " 97%|█████████▋| 222/228 [00:26<00:00,  8.72it/s]\n",
      " 98%|█████████▊| 224/228 [00:27<00:00,  9.35it/s]\n",
      " 99%|█████████▊| 225/228 [00:27<00:00,  9.09it/s]\n",
      " 99%|█████████▉| 226/228 [00:27<00:00,  9.19it/s]\n",
      "100%|█████████▉| 227/228 [00:27<00:00,  8.93it/s]\n",
      " 54%|█████▎    | 122/228 [00:14<00:11,  8.99it/s]\u001b[32m [repeated 4x across cluster]\u001b[0m\n",
      "100%|██████████| 228/228 [00:27<00:00,  8.25it/s]\n",
      "  0%|          | 0/228 [00:00<?, ?it/s]\n"
     ]
    },
    {
     "name": "stdout",
     "output_type": "stream",
     "text": [
      "\u001b[2m\u001b[36m(DefaultActor pid=92319)\u001b[0m  Training loss for epoch 3: 0.7727627082352053, accuracy: 0.6979166666666666\u001b[32m [repeated 6x across cluster]\u001b[0m\n"
     ]
    },
    {
     "name": "stderr",
     "output_type": "stream",
     "text": [
      " 41%|████      | 94/228 [00:12<00:16,  7.98it/s]\u001b[32m [repeated 293x across cluster]\u001b[0m\n",
      " 97%|█████████▋| 222/228 [00:26<00:00,  8.24it/s]\u001b[32m [repeated 12x across cluster]\u001b[0m\n",
      "  3%|▎         | 7/228 [00:00<00:23,  9.22it/s]\u001b[32m [repeated 3x across cluster]\u001b[0m\n",
      "  0%|          | 0/228 [00:00<?, ?it/s]\n",
      " 58%|█████▊    | 132/228 [00:17<00:12,  7.51it/s]\u001b[32m [repeated 255x across cluster]\u001b[0m\n",
      "100%|██████████| 228/228 [00:27<00:00,  8.42it/s]\u001b[32m [repeated 5x across cluster]\u001b[0m\n",
      " 84%|████████▍ | 191/228 [00:23<00:04,  8.59it/s]\u001b[32m [repeated 6x across cluster]\u001b[0m\n",
      " 76%|███████▋  | 174/228 [00:22<00:06,  7.97it/s]\u001b[32m [repeated 293x across cluster]\u001b[0m\n"
     ]
    },
    {
     "name": "stdout",
     "output_type": "stream",
     "text": [
      "\u001b[2m\u001b[36m(DefaultActor pid=92316)\u001b[0m  Training loss for epoch 3: 0.7641608243187269, accuracy: 0.7113486842105263\u001b[32m [repeated 2x across cluster]\u001b[0m\n"
     ]
    },
    {
     "name": "stderr",
     "output_type": "stream",
     "text": [
      "  0%|          | 0/228 [00:00<?, ?it/s]\n",
      " 95%|█████████▌| 217/228 [00:26<00:01,  9.14it/s]\u001b[32m [repeated 26x across cluster]\u001b[0m\n",
      "  2%|▏         | 4/228 [00:00<00:23,  9.43it/s]\u001b[32m [repeated 8x across cluster]\u001b[0m\n",
      " 45%|████▍     | 102/228 [00:12<00:14,  8.70it/s]\u001b[32m [repeated 233x across cluster]\u001b[0m\n",
      "  0%|          | 0/228 [00:00<?, ?it/s]\u001b[32m [repeated 2x across cluster]\u001b[0m\n"
     ]
    },
    {
     "name": "stdout",
     "output_type": "stream",
     "text": [
      "\u001b[2m\u001b[36m(DefaultActor pid=92313)\u001b[0m  Training loss for epoch 3: 0.39703487462707254, accuracy: 0.8615679824561403\u001b[32m [repeated 3x across cluster]\u001b[0m\n"
     ]
    },
    {
     "name": "stderr",
     "output_type": "stream",
     "text": [
      "100%|██████████| 228/228 [00:29<00:00,  7.76it/s]\u001b[32m [repeated 86x across cluster]\u001b[0m\n",
      " 14%|█▎        | 31/228 [00:03<00:24,  7.89it/s]\u001b[32m [repeated 5x across cluster]\u001b[0m\n",
      " 13%|█▎        | 30/228 [00:03<00:24,  8.11it/s]\u001b[32m [repeated 277x across cluster]\u001b[0m\n",
      "  0%|          | 0/228 [00:00<?, ?it/s]\u001b[32m [repeated 3x across cluster]\u001b[0m\n",
      " 92%|█████████▏| 209/228 [00:24<00:04,  3.81it/s]\n",
      " 92%|█████████▏| 210/228 [00:24<00:04,  4.33it/s]\n",
      " 93%|█████████▎| 211/228 [00:25<00:03,  4.98it/s]\n",
      " 93%|█████████▎| 212/228 [00:25<00:02,  5.49it/s]\n",
      " 73%|███████▎  | 166/228 [00:19<00:07,  8.69it/s]\u001b[32m [repeated 3x across cluster]\u001b[0m\n",
      " 93%|█████████▎| 213/228 [00:25<00:02,  6.23it/s]\n",
      " 94%|█████████▍| 214/228 [00:25<00:02,  6.82it/s]\n",
      " 94%|█████████▍| 215/228 [00:25<00:01,  7.47it/s]\n",
      " 95%|█████████▍| 216/228 [00:25<00:01,  7.63it/s]\n",
      " 29%|██▉       | 67/228 [00:08<00:20,  7.67it/s]\u001b[32m [repeated 270x across cluster]\u001b[0m\n",
      " 96%|█████████▌| 218/228 [00:25<00:01,  8.37it/s]\n",
      " 96%|█████████▌| 219/228 [00:25<00:01,  8.55it/s]\n",
      " 96%|█████████▋| 220/228 [00:26<00:00,  8.67it/s]\n",
      " 97%|█████████▋| 221/228 [00:26<00:00,  8.58it/s]\n",
      " 98%|█████████▊| 223/228 [00:26<00:00,  8.88it/s]\n",
      " 98%|█████████▊| 224/228 [00:26<00:00,  8.80it/s]\n",
      " 99%|█████████▊| 225/228 [00:26<00:00,  8.85it/s]\n",
      " 99%|█████████▉| 226/228 [00:26<00:00,  8.64it/s]\n",
      "100%|█████████▉| 227/228 [00:26<00:00,  8.99it/s]\n",
      "100%|██████████| 228/228 [00:27<00:00,  8.44it/s]\n"
     ]
    },
    {
     "name": "stdout",
     "output_type": "stream",
     "text": [
      "\u001b[2m\u001b[36m(DefaultActor pid=92319)\u001b[0m  Training loss for epoch 4: 0.7733337387704012, accuracy: 0.6962719298245614\u001b[32m [repeated 3x across cluster]\u001b[0m\n"
     ]
    },
    {
     "name": "stderr",
     "output_type": "stream",
     "text": [
      " 98%|█████████▊| 223/228 [00:26<00:00,  9.38it/s]\u001b[32m [repeated 11x across cluster]\u001b[0m\n",
      " 54%|█████▍    | 123/228 [00:15<00:12,  8.47it/s]\u001b[32m [repeated 7x across cluster]\u001b[0m\n",
      " 45%|████▍     | 102/228 [00:12<00:17,  7.04it/s]\u001b[32m [repeated 225x across cluster]\u001b[0m\n",
      "  0%|          | 0/228 [00:00<?, ?it/s]\n",
      "100%|██████████| 228/228 [00:26<00:00,  8.47it/s]\u001b[32m [repeated 4x across cluster]\u001b[0m\n",
      " 72%|███████▏  | 164/228 [00:18<00:06,  9.75it/s]\u001b[32m [repeated 3x across cluster]\u001b[0m\n",
      " 63%|██████▎   | 144/228 [00:18<00:17,  4.92it/s]\u001b[32m [repeated 189x across cluster]\u001b[0m\n",
      "  0%|          | 0/228 [00:00<?, ?it/s]\n"
     ]
    },
    {
     "name": "stdout",
     "output_type": "stream",
     "text": [
      "\u001b[2m\u001b[36m(DefaultActor pid=92316)\u001b[0m  Training loss for epoch 4: 0.8384744890949183, accuracy: 0.6875\u001b[32m [repeated 2x across cluster]\u001b[0m\n"
     ]
    },
    {
     "name": "stderr",
     "output_type": "stream",
     "text": [
      " 96%|█████████▌| 218/228 [00:26<00:01,  9.81it/s]\u001b[32m [repeated 26x across cluster]\u001b[0m\n",
      " 85%|████████▌ | 194/228 [00:23<00:03,  8.65it/s]\n",
      " 79%|███████▉  | 181/228 [00:23<00:04,  9.58it/s]\u001b[32m [repeated 248x across cluster]\u001b[0m\n"
     ]
    },
    {
     "name": "stdout",
     "output_type": "stream",
     "text": [
      "\u001b[2m\u001b[36m(DefaultActor pid=92315)\u001b[0m  Training loss for epoch 4: 0.43551012546869744, accuracy: 0.8473135964912281\u001b[32m [repeated 2x across cluster]\u001b[0m\n"
     ]
    },
    {
     "name": "stderr",
     "output_type": "stream",
     "text": [
      " 99%|█████████▊| 225/228 [00:27<00:00, 11.35it/s]\u001b[32m [repeated 49x across cluster]\u001b[0m\n",
      " 62%|██████▏   | 141/228 [00:14<00:05, 15.54it/s]\u001b[32m [repeated 105x across cluster]\u001b[0m\n",
      " 93%|█████████▎| 211/228 [00:18<00:00, 17.02it/s]\u001b[32m [repeated 4x across cluster]\u001b[0m\n",
      " 86%|████████▌ | 196/228 [00:14<00:01, 16.77it/s]\u001b[32m [repeated 76x across cluster]\u001b[0m\n",
      "  0%|          | 0/228 [00:00<?, ?it/s]\n"
     ]
    },
    {
     "name": "stdout",
     "output_type": "stream",
     "text": [
      "\u001b[2m\u001b[36m(DefaultActor pid=92319)\u001b[0m  Training loss for epoch 0: 0.6067929528653622, accuracy: 0.7817982456140351\u001b[32m [repeated 4x across cluster]\u001b[0m\n"
     ]
    },
    {
     "name": "stderr",
     "output_type": "stream",
     "text": [
      "100%|██████████| 228/228 [00:16<00:00, 13.56it/s]\u001b[32m [repeated 18x across cluster]\u001b[0m\n",
      " 35%|███▌      | 80/228 [00:04<00:09, 16.34it/s]\u001b[32m [repeated 72x across cluster]\u001b[0m\n",
      "  0%|          | 0/228 [00:00<?, ?it/s]\n",
      " 72%|███████▏  | 164/228 [00:10<00:03, 16.45it/s]\u001b[32m [repeated 84x across cluster]\u001b[0m\n",
      " 92%|█████████▏| 210/228 [00:13<00:02,  6.79it/s]\n",
      " 93%|█████████▎| 212/228 [00:13<00:01,  8.20it/s]\n",
      " 94%|█████████▍| 214/228 [00:13<00:01,  9.42it/s]\n",
      " 95%|█████████▍| 216/228 [00:14<00:01, 10.52it/s]\n",
      " 96%|█████████▌| 218/228 [00:14<00:00, 11.83it/s]\n",
      " 96%|█████████▋| 220/228 [00:14<00:00, 12.74it/s]\n",
      " 97%|█████████▋| 222/228 [00:14<00:00, 13.69it/s]\n",
      " 98%|█████████▊| 224/228 [00:14<00:00, 14.43it/s]\n",
      " 99%|█████████▉| 226/228 [00:14<00:00, 14.64it/s]\n",
      "100%|██████████| 228/228 [00:14<00:00, 15.40it/s]\n",
      "  0%|          | 0/228 [00:00<?, ?it/s]\n"
     ]
    },
    {
     "name": "stdout",
     "output_type": "stream",
     "text": [
      "\u001b[2m\u001b[36m(DefaultActor pid=92319)\u001b[0m  Training loss for epoch 1: 0.6082608092968401, accuracy: 0.7820723684210527\u001b[32m [repeated 2x across cluster]\u001b[0m\n"
     ]
    },
    {
     "name": "stderr",
     "output_type": "stream",
     "text": [
      "  2%|▏         | 4/228 [00:00<00:13, 17.03it/s]\u001b[32m [repeated 57x across cluster]\u001b[0m\n",
      "100%|██████████| 228/228 [00:14<00:00, 15.41it/s]\u001b[32m [repeated 10x across cluster]\u001b[0m\n",
      "  0%|          | 0/228 [00:00<?, ?it/s]\n",
      " 38%|███▊      | 86/228 [00:05<00:08, 16.17it/s]\u001b[32m [repeated 73x across cluster]\u001b[0m\n",
      " 72%|███████▏  | 164/228 [00:10<00:03, 16.49it/s]\u001b[32m [repeated 77x across cluster]\u001b[0m\n",
      " 92%|█████████▏| 210/228 [00:13<00:01, 16.37it/s]\n",
      " 93%|█████████▎| 212/228 [00:13<00:00, 16.57it/s]\n",
      " 94%|█████████▍| 214/228 [00:13<00:00, 16.52it/s]\n",
      " 95%|█████████▍| 216/228 [00:13<00:00, 16.31it/s]\n",
      " 96%|█████████▌| 218/228 [00:13<00:00, 16.51it/s]\n",
      " 96%|█████████▋| 220/228 [00:13<00:00, 16.31it/s]\n",
      " 97%|█████████▋| 222/228 [00:13<00:00, 16.47it/s]\n",
      " 98%|█████████▊| 224/228 [00:14<00:00, 16.56it/s]\n",
      " 99%|█████████▉| 226/228 [00:14<00:00, 16.69it/s]\n",
      "100%|██████████| 228/228 [00:14<00:00, 16.00it/s]\n",
      "  0%|          | 0/228 [00:00<?, ?it/s]\n"
     ]
    },
    {
     "name": "stdout",
     "output_type": "stream",
     "text": [
      "\u001b[2m\u001b[36m(DefaultActor pid=92319)\u001b[0m  Training loss for epoch 2: 0.5829261448561099, accuracy: 0.7919407894736842\u001b[32m [repeated 2x across cluster]\u001b[0m\n"
     ]
    },
    {
     "name": "stderr",
     "output_type": "stream",
     "text": [
      "  9%|▉         | 20/228 [00:01<00:12, 16.46it/s]\u001b[32m [repeated 69x across cluster]\u001b[0m\n",
      "100%|██████████| 228/228 [00:14<00:00, 15.98it/s]\u001b[32m [repeated 10x across cluster]\u001b[0m\n",
      "  0%|          | 0/228 [00:00<?, ?it/s]\n",
      " 46%|████▌     | 104/228 [00:06<00:07, 16.16it/s]\u001b[32m [repeated 78x across cluster]\u001b[0m\n",
      " 82%|████████▏ | 186/228 [00:11<00:02, 15.97it/s]\u001b[32m [repeated 83x across cluster]\u001b[0m\n",
      " 92%|█████████▏| 210/228 [00:12<00:01, 16.84it/s]\n",
      " 93%|█████████▎| 212/228 [00:12<00:00, 16.84it/s]\n",
      " 94%|█████████▍| 214/228 [00:13<00:00, 16.73it/s]\n",
      " 95%|█████████▍| 216/228 [00:13<00:00, 15.94it/s]\n",
      " 96%|█████████▌| 218/228 [00:13<00:00, 15.58it/s]\n",
      " 96%|█████████▋| 220/228 [00:13<00:00, 15.72it/s]\n",
      " 97%|█████████▋| 222/228 [00:13<00:00, 15.66it/s]\n",
      " 98%|█████████▊| 224/228 [00:14<00:00,  7.32it/s]\n",
      " 99%|█████████▉| 226/228 [00:14<00:00,  8.58it/s]\n",
      "100%|██████████| 228/228 [00:14<00:00, 15.81it/s]\n",
      "  0%|          | 0/228 [00:00<?, ?it/s]\n"
     ]
    },
    {
     "name": "stdout",
     "output_type": "stream",
     "text": [
      "\u001b[2m\u001b[36m(DefaultActor pid=92319)\u001b[0m  Training loss for epoch 3: 0.5934165139404828, accuracy: 0.7875548245614035\u001b[32m [repeated 2x across cluster]\u001b[0m\n"
     ]
    },
    {
     "name": "stderr",
     "output_type": "stream",
     "text": [
      " 15%|█▍        | 34/228 [00:02<00:11, 16.64it/s]\u001b[32m [repeated 55x across cluster]\u001b[0m\n",
      "100%|██████████| 228/228 [00:14<00:00, 15.74it/s]\u001b[32m [repeated 10x across cluster]\u001b[0m\n",
      "  0%|          | 0/228 [00:00<?, ?it/s]\n",
      " 51%|█████     | 116/228 [00:07<00:07, 15.78it/s]\u001b[32m [repeated 82x across cluster]\u001b[0m\n",
      " 84%|████████▍ | 192/228 [00:12<00:02, 16.60it/s]\u001b[32m [repeated 76x across cluster]\u001b[0m\n",
      " 92%|█████████▏| 210/228 [00:13<00:01, 16.62it/s]\n",
      " 93%|█████████▎| 212/228 [00:13<00:00, 16.66it/s]\n",
      " 94%|█████████▍| 214/228 [00:13<00:00, 16.80it/s]\n",
      " 95%|█████████▍| 216/228 [00:13<00:00, 16.84it/s]\n",
      " 96%|█████████▌| 218/228 [00:13<00:00, 16.82it/s]\n",
      " 96%|█████████▋| 220/228 [00:13<00:00, 16.81it/s]\n",
      " 97%|█████████▋| 222/228 [00:14<00:00, 16.79it/s]\n",
      " 98%|█████████▊| 224/228 [00:14<00:00, 16.48it/s]\n",
      " 99%|█████████▉| 226/228 [00:14<00:00, 16.41it/s]\n",
      "100%|██████████| 228/228 [00:14<00:00, 15.81it/s]\n"
     ]
    },
    {
     "name": "stdout",
     "output_type": "stream",
     "text": [
      "\u001b[2m\u001b[36m(DefaultActor pid=92319)\u001b[0m  Training loss for epoch 4: 0.5799827803122369, accuracy: 0.7919407894736842\u001b[32m [repeated 2x across cluster]\u001b[0m\n"
     ]
    },
    {
     "name": "stderr",
     "output_type": "stream",
     "text": [
      "DEBUG flwr 2023-11-09 13:11:47,922 | server.py:236 | fit_round 20 received 10 results and 0 failures\n",
      "DEBUG:flwr:fit_round 20 received 10 results and 0 failures\n"
     ]
    },
    {
     "name": "stdout",
     "output_type": "stream",
     "text": [
      "Saving round 20 aggregated_parameters...\n",
      "Saved round 20 aggregated_parameters!\n"
     ]
    },
    {
     "name": "stderr",
     "output_type": "stream",
     "text": [
      "INFO flwr 2023-11-09 13:11:47,983 | server.py:171 | evaluate_round 20: no clients selected, cancel\n",
      "INFO:flwr:evaluate_round 20: no clients selected, cancel\n",
      "DEBUG flwr 2023-11-09 13:11:47,983 | server.py:222 | fit_round 21: strategy sampled 10 clients (out of 40)\n",
      "DEBUG:flwr:fit_round 21: strategy sampled 10 clients (out of 40)\n",
      "  0%|          | 0/228 [00:00<?, ?it/s]\n",
      " 91%|█████████ | 208/228 [00:13<00:01, 17.33it/s]\u001b[32m [repeated 32x across cluster]\u001b[0m\n",
      "100%|██████████| 228/228 [00:14<00:00, 15.78it/s]\u001b[32m [repeated 10x across cluster]\u001b[0m\n",
      "  0%|          | 0/228 [00:00<?, ?it/s]\u001b[32m [repeated 3x across cluster]\u001b[0m\n",
      " 22%|██▏       | 50/228 [00:04<00:13, 12.86it/s]\u001b[32m [repeated 61x across cluster]\u001b[0m\n",
      "  4%|▍         | 10/228 [00:01<00:25,  8.67it/s]\n",
      "  0%|          | 0/228 [00:00<?, ?it/s]\u001b[32m [repeated 4x across cluster]\u001b[0m\n",
      " 15%|█▌        | 35/228 [00:04<00:23,  8.12it/s]\u001b[32m [repeated 189x across cluster]\u001b[0m\n",
      " 17%|█▋        | 38/228 [00:04<00:22,  8.59it/s]\u001b[32m [repeated 6x across cluster]\u001b[0m\n",
      " 28%|██▊       | 63/228 [00:09<00:20,  8.19it/s]\u001b[32m [repeated 228x across cluster]\u001b[0m\n",
      " 22%|██▏       | 51/228 [00:06<00:20,  8.74it/s]\u001b[32m [repeated 6x across cluster]\u001b[0m\n",
      " 46%|████▌     | 104/228 [00:14<00:15,  8.01it/s]\u001b[32m [repeated 314x across cluster]\u001b[0m\n",
      " 92%|█████████▏| 210/228 [00:23<00:02,  8.64it/s]\n",
      " 51%|█████     | 116/228 [00:14<00:12,  8.72it/s]\u001b[32m [repeated 3x across cluster]\u001b[0m\n",
      " 93%|█████████▎| 211/228 [00:23<00:02,  8.40it/s]\n",
      " 93%|█████████▎| 212/228 [00:23<00:01,  8.39it/s]\n",
      " 93%|█████████▎| 213/228 [00:23<00:01,  8.52it/s]\n",
      " 94%|█████████▍| 214/228 [00:23<00:01,  8.75it/s]\n",
      " 76%|███████▋  | 174/228 [00:21<00:06,  8.07it/s]\u001b[32m [repeated 287x across cluster]\u001b[0m\n",
      "  0%|          | 0/228 [00:00<?, ?it/s]\n"
     ]
    },
    {
     "name": "stdout",
     "output_type": "stream",
     "text": [
      "\u001b[2m\u001b[36m(DefaultActor pid=92320)\u001b[0m  Training loss for epoch 0: 0.6008750487184316, accuracy: 0.790296052631579\u001b[32m [repeated 2x across cluster]\u001b[0m\n"
     ]
    },
    {
     "name": "stderr",
     "output_type": "stream",
     "text": [
      "100%|██████████| 228/228 [00:25<00:00,  9.00it/s]\u001b[32m [repeated 34x across cluster]\u001b[0m\n",
      " 67%|██████▋   | 152/228 [00:19<00:09,  8.22it/s]\u001b[32m [repeated 5x across cluster]\u001b[0m\n",
      " 81%|████████  | 184/228 [00:24<00:05,  7.73it/s]\u001b[32m [repeated 300x across cluster]\u001b[0m\n",
      "  0%|          | 0/228 [00:00<?, ?it/s]\n",
      "  0%|          | 0/228 [00:00<?, ?it/s]\n"
     ]
    },
    {
     "name": "stdout",
     "output_type": "stream",
     "text": [
      "\u001b[2m\u001b[36m(DefaultActor pid=92318)\u001b[0m  Training loss for epoch 0: 0.7302507007200467, accuracy: 0.7116228070175439\u001b[32m [repeated 2x across cluster]\u001b[0m\n"
     ]
    },
    {
     "name": "stderr",
     "output_type": "stream",
     "text": [
      " 92%|█████████▏| 209/228 [00:27<00:02,  7.86it/s]\u001b[32m [repeated 32x across cluster]\u001b[0m\n",
      " 87%|████████▋ | 199/228 [00:24<00:03,  8.19it/s]\u001b[32m [repeated 9x across cluster]\u001b[0m\n",
      "  4%|▎         | 8/228 [00:01<00:26,  8.18it/s]\u001b[32m [repeated 236x across cluster]\u001b[0m\n",
      "  0%|          | 0/228 [00:00<?, ?it/s]\u001b[32m [repeated 5x across cluster]\u001b[0m\n",
      "100%|██████████| 228/228 [00:26<00:00,  8.59it/s]\u001b[32m [repeated 82x across cluster]\u001b[0m\n",
      "  6%|▌         | 13/228 [00:01<00:23,  9.12it/s]\u001b[32m [repeated 3x across cluster]\u001b[0m\n",
      " 13%|█▎        | 30/228 [00:04<00:43,  4.52it/s]\u001b[32m [repeated 219x across cluster]\u001b[0m\n",
      " 17%|█▋        | 39/228 [00:05<00:24,  7.73it/s]\u001b[32m [repeated 5x across cluster]\u001b[0m\n",
      " 31%|███       | 70/228 [00:09<00:19,  7.91it/s]\u001b[32m [repeated 305x across cluster]\u001b[0m\n",
      " 78%|███████▊  | 177/228 [00:22<00:05,  8.60it/s]\u001b[32m [repeated 4x across cluster]\u001b[0m\n",
      " 46%|████▌     | 104/228 [00:14<00:19,  6.49it/s]\u001b[32m [repeated 270x across cluster]\u001b[0m\n",
      " 92%|█████████▏| 209/228 [00:26<00:02,  8.92it/s]\n",
      " 92%|█████████▏| 210/228 [00:26<00:02,  8.92it/s]\n",
      " 93%|█████████▎| 211/228 [00:26<00:01,  8.68it/s]\n",
      " 58%|█████▊    | 133/228 [00:17<00:10,  9.14it/s]\u001b[32m [repeated 2x across cluster]\u001b[0m\n",
      "  0%|          | 0/228 [00:00<?, ?it/s]\n"
     ]
    },
    {
     "name": "stdout",
     "output_type": "stream",
     "text": [
      "\u001b[2m\u001b[36m(DefaultActor pid=92320)\u001b[0m  Training loss for epoch 1: 0.5763931601193913, accuracy: 0.7891995614035088\u001b[32m [repeated 6x across cluster]\u001b[0m\n"
     ]
    },
    {
     "name": "stderr",
     "output_type": "stream",
     "text": [
      " 64%|██████▍   | 146/228 [00:19<00:10,  8.17it/s]\u001b[32m [repeated 276x across cluster]\u001b[0m\n",
      "100%|██████████| 228/228 [00:28<00:00,  8.07it/s]\u001b[32m [repeated 37x across cluster]\u001b[0m\n",
      "  7%|▋         | 16/228 [00:01<00:24,  8.83it/s]\u001b[32m [repeated 5x across cluster]\u001b[0m\n",
      "  0%|          | 0/228 [00:00<?, ?it/s]\n",
      "  0%|          | 0/228 [00:00<?, ?it/s]\n"
     ]
    },
    {
     "name": "stdout",
     "output_type": "stream",
     "text": [
      "\u001b[2m\u001b[36m(DefaultActor pid=92318)\u001b[0m  Training loss for epoch 1: 0.7086308355394163, accuracy: 0.7179276315789473\u001b[32m [repeated 2x across cluster]\u001b[0m\n"
     ]
    },
    {
     "name": "stderr",
     "output_type": "stream",
     "text": [
      " 82%|████████▏ | 188/228 [00:24<00:04,  8.23it/s]\u001b[32m [repeated 293x across cluster]\u001b[0m\n",
      " 93%|█████████▎| 212/228 [00:25<00:02,  7.49it/s]\u001b[32m [repeated 21x across cluster]\u001b[0m\n",
      " 89%|████████▉ | 203/228 [00:25<00:03,  6.87it/s]\u001b[32m [repeated 4x across cluster]\u001b[0m\n",
      "  0%|          | 0/228 [00:00<?, ?it/s]\u001b[32m [repeated 3x across cluster]\u001b[0m\n",
      "  3%|▎         | 6/228 [00:00<00:26,  8.45it/s]\u001b[32m [repeated 208x across cluster]\u001b[0m\n"
     ]
    },
    {
     "name": "stdout",
     "output_type": "stream",
     "text": [
      "\u001b[2m\u001b[36m(DefaultActor pid=92315)\u001b[0m  Training loss for epoch 1: 0.6669735534141135, accuracy: 0.7494517543859649\u001b[32m [repeated 4x across cluster]\u001b[0m\n"
     ]
    },
    {
     "name": "stderr",
     "output_type": "stream",
     "text": [
      "100%|██████████| 228/228 [00:30<00:00,  7.58it/s]\u001b[32m [repeated 92x across cluster]\u001b[0m\n",
      " 14%|█▎        | 31/228 [00:03<00:22,  8.66it/s]\u001b[32m [repeated 6x across cluster]\u001b[0m\n",
      "  0%|          | 0/228 [00:00<?, ?it/s]\u001b[32m [repeated 2x across cluster]\u001b[0m\n",
      " 14%|█▍        | 32/228 [00:04<00:33,  5.91it/s]\u001b[32m [repeated 254x across cluster]\u001b[0m\n",
      " 66%|██████▌   | 151/228 [00:18<00:08,  8.57it/s]\u001b[32m [repeated 6x across cluster]\u001b[0m\n",
      " 32%|███▏      | 74/228 [00:10<00:17,  8.57it/s]\u001b[32m [repeated 315x across cluster]\u001b[0m\n",
      " 54%|█████▍    | 124/228 [00:14<00:10,  9.51it/s]\u001b[32m [repeated 3x across cluster]\u001b[0m\n",
      " 92%|█████████▏| 209/228 [00:26<00:02,  6.75it/s]\n",
      " 92%|█████████▏| 210/228 [00:26<00:02,  6.90it/s]\n",
      " 49%|████▊     | 111/228 [00:15<00:15,  7.41it/s]\u001b[32m [repeated 268x across cluster]\u001b[0m\n",
      "  0%|          | 0/228 [00:00<?, ?it/s]\n"
     ]
    },
    {
     "name": "stdout",
     "output_type": "stream",
     "text": [
      "\u001b[2m\u001b[36m(DefaultActor pid=92319)\u001b[0m  Training loss for epoch 2: 0.9629685604258588, accuracy: 0.5975877192982456\u001b[32m [repeated 2x across cluster]\u001b[0m\n"
     ]
    },
    {
     "name": "stderr",
     "output_type": "stream",
     "text": [
      " 65%|██████▍   | 148/228 [00:18<00:08,  8.99it/s]\u001b[32m [repeated 4x across cluster]\u001b[0m\n",
      "100%|██████████| 228/228 [00:28<00:00,  8.07it/s]\u001b[32m [repeated 33x across cluster]\u001b[0m\n",
      " 66%|██████▌   | 151/228 [00:20<00:09,  8.09it/s]\u001b[32m [repeated 296x across cluster]\u001b[0m\n",
      "  0%|          | 0/228 [00:00<?, ?it/s]\n",
      " 20%|█▉        | 45/228 [00:05<00:21,  8.58it/s]\u001b[32m [repeated 3x across cluster]\u001b[0m\n",
      "  0%|          | 0/228 [00:00<?, ?it/s]\n"
     ]
    },
    {
     "name": "stdout",
     "output_type": "stream",
     "text": [
      "\u001b[2m\u001b[36m(DefaultActor pid=92318)\u001b[0m  Training loss for epoch 2: 0.7316009736244093, accuracy: 0.7080592105263158\u001b[32m [repeated 2x across cluster]\u001b[0m\n"
     ]
    },
    {
     "name": "stderr",
     "output_type": "stream",
     "text": [
      " 99%|█████████▉| 226/228 [00:26<00:00,  9.05it/s]\u001b[32m [repeated 34x across cluster]\u001b[0m\n",
      " 84%|████████▍ | 191/228 [00:25<00:04,  7.70it/s]\u001b[32m [repeated 277x across cluster]\u001b[0m\n",
      " 13%|█▎        | 29/228 [00:03<00:21,  9.07it/s]\u001b[32m [repeated 5x across cluster]\u001b[0m\n",
      "  0%|          | 0/228 [00:00<?, ?it/s]\u001b[32m [repeated 2x across cluster]\u001b[0m\n"
     ]
    },
    {
     "name": "stdout",
     "output_type": "stream",
     "text": [
      "\u001b[2m\u001b[36m(DefaultActor pid=92313)\u001b[0m  Training loss for epoch 2: 1.0185317097787272, accuracy: 0.5822368421052632\u001b[32m [repeated 3x across cluster]\u001b[0m\n"
     ]
    },
    {
     "name": "stderr",
     "output_type": "stream",
     "text": [
      " 98%|█████████▊| 224/228 [00:29<00:00,  7.89it/s]\u001b[32m [repeated 76x across cluster]\u001b[0m\n",
      "  1%|▏         | 3/228 [00:00<00:28,  7.78it/s]\u001b[32m [repeated 237x across cluster]\u001b[0m\n",
      " 21%|██        | 48/228 [00:05<00:20,  8.86it/s]\u001b[32m [repeated 8x across cluster]\u001b[0m\n",
      "  0%|          | 0/228 [00:00<?, ?it/s]\u001b[32m [repeated 3x across cluster]\u001b[0m\n",
      "100%|██████████| 228/228 [00:29<00:00,  7.61it/s]\u001b[32m [repeated 4x across cluster]\u001b[0m\n",
      " 17%|█▋        | 39/228 [00:05<00:23,  7.95it/s]\u001b[32m [repeated 279x across cluster]\u001b[0m\n",
      " 39%|███▉      | 89/228 [00:11<00:16,  8.64it/s]\u001b[32m [repeated 5x across cluster]\u001b[0m\n",
      " 35%|███▍      | 79/228 [00:10<00:18,  7.88it/s]\u001b[32m [repeated 310x across cluster]\u001b[0m\n",
      " 92%|█████████▏| 209/228 [00:24<00:02,  8.39it/s]\n",
      " 55%|█████▍    | 125/228 [00:15<00:11,  8.99it/s]\u001b[32m [repeated 5x across cluster]\u001b[0m\n"
     ]
    },
    {
     "name": "stdout",
     "output_type": "stream",
     "text": [
      "\u001b[2m\u001b[36m(DefaultActor pid=92319)\u001b[0m  Training loss for epoch 3: 0.9632892284476966, accuracy: 0.5945723684210527\u001b[32m [repeated 3x across cluster]\u001b[0m\n"
     ]
    },
    {
     "name": "stderr",
     "output_type": "stream",
     "text": [
      "  0%|          | 0/228 [00:00<?, ?it/s]\n",
      " 64%|██████▍   | 147/228 [00:18<00:11,  7.30it/s]\u001b[32m [repeated 240x across cluster]\u001b[0m\n",
      "100%|██████████| 228/228 [00:27<00:00,  8.25it/s]\u001b[32m [repeated 38x across cluster]\u001b[0m\n",
      " 17%|█▋        | 38/228 [00:04<00:21,  8.86it/s]\u001b[32m [repeated 5x across cluster]\u001b[0m\n",
      "  0%|          | 0/228 [00:00<?, ?it/s]\n",
      " 82%|████████▏ | 188/228 [00:23<00:04,  8.30it/s]\u001b[32m [repeated 287x across cluster]\u001b[0m\n"
     ]
    },
    {
     "name": "stdout",
     "output_type": "stream",
     "text": [
      "\u001b[2m\u001b[36m(DefaultActor pid=92316)\u001b[0m  Training loss for epoch 3: 0.9288223788403628, accuracy: 0.6356907894736842\u001b[32m [repeated 2x across cluster]\u001b[0m\n"
     ]
    },
    {
     "name": "stderr",
     "output_type": "stream",
     "text": [
      "  0%|          | 0/228 [00:00<?, ?it/s]\n",
      " 99%|█████████▉| 226/228 [00:28<00:00,  8.60it/s]\u001b[32m [repeated 32x across cluster]\u001b[0m\n",
      " 84%|████████▍ | 191/228 [00:24<00:04,  8.66it/s]\u001b[32m [repeated 8x across cluster]\u001b[0m\n",
      " 86%|████████▌ | 196/228 [00:25<00:03,  8.38it/s]\u001b[32m [repeated 260x across cluster]\u001b[0m\n",
      "  0%|          | 0/228 [00:00<?, ?it/s]\u001b[32m [repeated 2x across cluster]\u001b[0m\n",
      " 96%|█████████▌| 219/228 [00:27<00:01,  8.31it/s]\u001b[32m [repeated 39x across cluster]\u001b[0m\n"
     ]
    },
    {
     "name": "stdout",
     "output_type": "stream",
     "text": [
      "\u001b[2m\u001b[36m(DefaultActor pid=92315)\u001b[0m  Training loss for epoch 3: 0.6746760641404411, accuracy: 0.7472587719298246\u001b[32m [repeated 3x across cluster]\u001b[0m\n"
     ]
    },
    {
     "name": "stderr",
     "output_type": "stream",
     "text": [
      " 11%|█         | 25/228 [00:02<00:22,  9.11it/s]\n",
      " 15%|█▌        | 35/228 [00:03<00:22,  8.69it/s]\n",
      "  4%|▎         | 8/228 [00:01<00:28,  7.82it/s]\u001b[32m [repeated 252x across cluster]\u001b[0m\n",
      "  0%|          | 0/228 [00:00<?, ?it/s]\u001b[32m [repeated 3x across cluster]\u001b[0m\n",
      "100%|██████████| 228/228 [00:29<00:00,  7.72it/s]\u001b[32m [repeated 41x across cluster]\u001b[0m\n",
      " 48%|████▊     | 109/228 [00:12<00:12,  9.32it/s]\u001b[32m [repeated 8x across cluster]\u001b[0m\n",
      " 20%|█▉        | 45/228 [00:06<00:22,  8.13it/s]\u001b[32m [repeated 266x across cluster]\u001b[0m\n",
      " 92%|█████████▏| 209/228 [00:24<00:02,  8.77it/s]\n",
      " 92%|█████████▏| 210/228 [00:24<00:02,  8.61it/s]\n",
      " 93%|█████████▎| 211/228 [00:24<00:01,  8.56it/s]\n",
      " 46%|████▋     | 106/228 [00:12<00:13,  9.33it/s]\u001b[32m [repeated 9x across cluster]\u001b[0m\n",
      " 93%|█████████▎| 212/228 [00:24<00:01,  8.52it/s]\n",
      " 93%|█████████▎| 213/228 [00:25<00:01,  8.70it/s]\n",
      " 94%|█████████▍| 214/228 [00:25<00:01,  8.77it/s]\n",
      " 38%|███▊      | 87/228 [00:11<00:16,  8.69it/s]\u001b[32m [repeated 293x across cluster]\u001b[0m\n"
     ]
    },
    {
     "name": "stdout",
     "output_type": "stream",
     "text": [
      "\u001b[2m\u001b[36m(DefaultActor pid=92319)\u001b[0m  Training loss for epoch 4: 0.9539712851769045, accuracy: 0.6006030701754386\u001b[32m [repeated 3x across cluster]\u001b[0m\n"
     ]
    },
    {
     "name": "stderr",
     "output_type": "stream",
     "text": [
      "100%|██████████| 228/228 [00:27<00:00,  8.33it/s]\u001b[32m [repeated 31x across cluster]\u001b[0m\n",
      "  0%|          | 0/228 [00:00<?, ?it/s]\n",
      " 52%|█████▏    | 119/228 [00:15<00:12,  8.56it/s]\u001b[32m [repeated 3x across cluster]\u001b[0m\n",
      " 53%|█████▎    | 121/228 [00:16<00:15,  6.95it/s]\u001b[32m [repeated 184x across cluster]\u001b[0m\n"
     ]
    },
    {
     "name": "stdout",
     "output_type": "stream",
     "text": [
      "\u001b[2m\u001b[36m(DefaultActor pid=92316)\u001b[0m  Training loss for epoch 4: 0.936115453509908, accuracy: 0.6329495614035088\u001b[32m [repeated 2x across cluster]\u001b[0m\n"
     ]
    },
    {
     "name": "stderr",
     "output_type": "stream",
     "text": [
      " 98%|█████████▊| 223/228 [00:27<00:00, 10.24it/s]\u001b[32m [repeated 28x across cluster]\u001b[0m\n",
      "  0%|          | 0/228 [00:00<?, ?it/s]\n",
      " 87%|████████▋ | 199/228 [00:24<00:03,  8.75it/s]\u001b[32m [repeated 3x across cluster]\u001b[0m\n",
      " 82%|████████▏ | 187/228 [00:23<00:03, 10.68it/s]\u001b[32m [repeated 220x across cluster]\u001b[0m\n",
      " 98%|█████████▊| 223/228 [00:26<00:00, 11.59it/s]\u001b[32m [repeated 20x across cluster]\u001b[0m\n"
     ]
    },
    {
     "name": "stdout",
     "output_type": "stream",
     "text": [
      "\u001b[2m\u001b[36m(DefaultActor pid=92315)\u001b[0m  Training loss for epoch 4: 0.6556696394425735, accuracy: 0.7516447368421053\u001b[32m [repeated 3x across cluster]\u001b[0m\n"
     ]
    },
    {
     "name": "stderr",
     "output_type": "stream",
     "text": [
      " 46%|████▋     | 106/228 [00:09<00:10, 11.32it/s]\u001b[32m [repeated 112x across cluster]\u001b[0m\n",
      "100%|██████████| 228/228 [00:26<00:00,  8.59it/s]\u001b[32m [repeated 23x across cluster]\u001b[0m\n",
      " 82%|████████▏ | 188/228 [00:14<00:02, 16.47it/s]\u001b[32m [repeated 83x across cluster]\u001b[0m\n"
     ]
    },
    {
     "name": "stdout",
     "output_type": "stream",
     "text": [
      "\u001b[2m\u001b[36m(DefaultActor pid=92319)\u001b[0m  Training loss for epoch 0: 0.47113772154900063, accuracy: 0.8588267543859649\u001b[32m [repeated 3x across cluster]\u001b[0m\n"
     ]
    },
    {
     "name": "stderr",
     "output_type": "stream",
     "text": [
      "  0%|          | 0/228 [00:00<?, ?it/s]\n",
      "100%|██████████| 228/228 [00:17<00:00, 13.35it/s]\u001b[32m [repeated 21x across cluster]\u001b[0m\n",
      " 23%|██▎       | 52/228 [00:04<00:10, 16.35it/s]\u001b[32m [repeated 50x across cluster]\u001b[0m\n",
      "  0%|          | 0/228 [00:00<?, ?it/s]\n",
      " 60%|█████▉    | 136/228 [00:09<00:05, 16.66it/s]\u001b[32m [repeated 84x across cluster]\u001b[0m\n",
      " 92%|█████████▏| 210/228 [00:13<00:01, 16.67it/s]\n",
      " 93%|█████████▎| 212/228 [00:14<00:00, 16.76it/s]\n",
      " 94%|█████████▍| 214/228 [00:14<00:00, 16.80it/s]\n",
      " 82%|████████▏ | 188/228 [00:12<00:02, 16.02it/s]\u001b[32m [repeated 74x across cluster]\u001b[0m\n",
      " 95%|█████████▍| 216/228 [00:14<00:00, 16.76it/s]\n",
      " 96%|█████████▌| 218/228 [00:14<00:00, 16.94it/s]\n",
      " 96%|█████████▋| 220/228 [00:14<00:00, 16.76it/s]\n",
      " 97%|█████████▋| 222/228 [00:14<00:00, 16.57it/s]\n",
      " 98%|█████████▊| 224/228 [00:14<00:00, 16.65it/s]\n",
      " 99%|█████████▉| 226/228 [00:14<00:00, 16.72it/s]\n",
      "100%|██████████| 228/228 [00:14<00:00, 15.24it/s]\n",
      "  0%|          | 0/228 [00:00<?, ?it/s]\n"
     ]
    },
    {
     "name": "stdout",
     "output_type": "stream",
     "text": [
      "\u001b[2m\u001b[36m(DefaultActor pid=92319)\u001b[0m  Training loss for epoch 1: 0.4866926366332592, accuracy: 0.8475877192982456\u001b[32m [repeated 2x across cluster]\u001b[0m\n"
     ]
    },
    {
     "name": "stderr",
     "output_type": "stream",
     "text": [
      "100%|██████████| 228/228 [00:15<00:00, 15.00it/s]\u001b[32m [repeated 10x across cluster]\u001b[0m\n",
      " 31%|███       | 70/228 [00:04<00:09, 16.46it/s]\u001b[32m [repeated 67x across cluster]\u001b[0m\n",
      "  0%|          | 0/228 [00:00<?, ?it/s]\n",
      " 67%|██████▋   | 152/228 [00:09<00:04, 16.58it/s]\u001b[32m [repeated 81x across cluster]\u001b[0m\n",
      " 92%|█████████▏| 210/228 [00:12<00:01, 16.70it/s]\n",
      " 93%|█████████▎| 212/228 [00:12<00:00, 16.89it/s]\n",
      " 94%|█████████▍| 214/228 [00:12<00:00, 16.95it/s]\n",
      " 95%|█████████▍| 216/228 [00:13<00:00, 16.76it/s]\n",
      " 96%|█████████▌| 218/228 [00:13<00:00, 16.49it/s]\n",
      " 96%|█████████▋| 220/228 [00:13<00:00, 16.69it/s]\n",
      " 97%|█████████▋| 222/228 [00:13<00:00, 16.64it/s]\n",
      " 98%|█████████▊| 224/228 [00:13<00:00, 16.63it/s]\n",
      " 99%|█████████▉| 226/228 [00:13<00:00, 16.48it/s]\n",
      "100%|██████████| 228/228 [00:13<00:00, 16.50it/s]\n",
      "  0%|          | 0/228 [00:00<?, ?it/s]\n"
     ]
    },
    {
     "name": "stdout",
     "output_type": "stream",
     "text": [
      "\u001b[2m\u001b[36m(DefaultActor pid=92319)\u001b[0m  Training loss for epoch 2: 0.4839179455588588, accuracy: 0.8525219298245614\u001b[32m [repeated 2x across cluster]\u001b[0m\n"
     ]
    },
    {
     "name": "stderr",
     "output_type": "stream",
     "text": [
      "  4%|▎         | 8/228 [00:00<00:13, 16.44it/s]\u001b[32m [repeated 74x across cluster]\u001b[0m\n",
      "100%|██████████| 228/228 [00:14<00:00, 16.25it/s]\u001b[32m [repeated 10x across cluster]\u001b[0m\n",
      "  0%|          | 0/228 [00:00<?, ?it/s]\n",
      " 25%|██▍       | 56/228 [00:03<00:10, 16.57it/s]\u001b[32m [repeated 65x across cluster]\u001b[0m\n",
      " 74%|███████▎  | 168/228 [00:10<00:03, 16.44it/s]\u001b[32m [repeated 84x across cluster]\u001b[0m\n",
      " 92%|█████████▏| 210/228 [00:13<00:01,  9.42it/s]\n",
      " 93%|█████████▎| 212/228 [00:13<00:01, 10.85it/s]\n",
      " 94%|█████████▍| 214/228 [00:13<00:01, 12.13it/s]\n",
      " 95%|█████████▍| 216/228 [00:13<00:00, 13.13it/s]\n",
      " 96%|█████████▌| 218/228 [00:14<00:00, 14.04it/s]\n",
      " 96%|█████████▋| 220/228 [00:14<00:00, 14.86it/s]\n",
      " 97%|█████████▋| 222/228 [00:14<00:00, 15.43it/s]\n",
      " 98%|█████████▊| 224/228 [00:14<00:00, 15.98it/s]\n",
      " 99%|█████████▉| 226/228 [00:14<00:00, 15.82it/s]\n",
      "100%|██████████| 228/228 [00:14<00:00, 15.52it/s]\n",
      "  0%|          | 0/228 [00:00<?, ?it/s]\n"
     ]
    },
    {
     "name": "stdout",
     "output_type": "stream",
     "text": [
      "\u001b[2m\u001b[36m(DefaultActor pid=92319)\u001b[0m  Training loss for epoch 3: 0.46632333350645605, accuracy: 0.8591008771929824\u001b[32m [repeated 2x across cluster]\u001b[0m\n"
     ]
    },
    {
     "name": "stderr",
     "output_type": "stream",
     "text": [
      "  7%|▋         | 16/228 [00:00<00:12, 16.78it/s]\u001b[32m [repeated 63x across cluster]\u001b[0m\n",
      "100%|██████████| 228/228 [00:14<00:00, 15.34it/s]\u001b[32m [repeated 10x across cluster]\u001b[0m\n",
      "  0%|          | 0/228 [00:00<?, ?it/s]\n",
      " 44%|████▍     | 100/228 [00:06<00:07, 16.66it/s]\u001b[32m [repeated 75x across cluster]\u001b[0m\n",
      " 81%|████████  | 184/228 [00:11<00:02, 16.09it/s]\u001b[32m [repeated 84x across cluster]\u001b[0m\n",
      " 92%|█████████▏| 210/228 [00:12<00:01, 16.96it/s]\n",
      " 93%|█████████▎| 212/228 [00:12<00:00, 16.51it/s]\n",
      " 94%|█████████▍| 214/228 [00:12<00:00, 16.06it/s]\n",
      " 95%|█████████▍| 216/228 [00:13<00:00, 16.05it/s]\n",
      " 96%|█████████▌| 218/228 [00:13<00:00, 15.91it/s]\n",
      " 96%|█████████▋| 220/228 [00:13<00:00, 16.35it/s]\n",
      " 97%|█████████▋| 222/228 [00:13<00:00, 16.53it/s]\n",
      " 98%|█████████▊| 224/228 [00:13<00:00, 16.20it/s]\n",
      " 99%|█████████▉| 226/228 [00:13<00:00, 16.50it/s]\n",
      "100%|██████████| 228/228 [00:13<00:00, 16.50it/s]\n"
     ]
    },
    {
     "name": "stdout",
     "output_type": "stream",
     "text": [
      "\u001b[2m\u001b[36m(DefaultActor pid=92319)\u001b[0m  Training loss for epoch 4: 0.4743829689217372, accuracy: 0.8615679824561403\u001b[32m [repeated 2x across cluster]\u001b[0m\n"
     ]
    },
    {
     "name": "stderr",
     "output_type": "stream",
     "text": [
      "DEBUG flwr 2023-11-09 13:15:26,477 | server.py:236 | fit_round 21 received 10 results and 0 failures\n",
      "DEBUG:flwr:fit_round 21 received 10 results and 0 failures\n"
     ]
    },
    {
     "name": "stdout",
     "output_type": "stream",
     "text": [
      "Saving round 21 aggregated_parameters...\n",
      "Saved round 21 aggregated_parameters!\n"
     ]
    },
    {
     "name": "stderr",
     "output_type": "stream",
     "text": [
      "INFO flwr 2023-11-09 13:15:26,540 | server.py:171 | evaluate_round 21: no clients selected, cancel\n",
      "INFO:flwr:evaluate_round 21: no clients selected, cancel\n",
      "DEBUG flwr 2023-11-09 13:15:26,541 | server.py:222 | fit_round 22: strategy sampled 10 clients (out of 40)\n",
      "DEBUG:flwr:fit_round 22: strategy sampled 10 clients (out of 40)\n",
      "  0%|          | 0/228 [00:00<?, ?it/s]\n",
      " 91%|█████████ | 208/228 [00:12<00:01, 16.57it/s]\u001b[32m [repeated 41x across cluster]\u001b[0m\n",
      "100%|██████████| 228/228 [00:13<00:00, 16.39it/s]\u001b[32m [repeated 10x across cluster]\u001b[0m\n",
      "  0%|          | 0/228 [00:00<?, ?it/s]\u001b[32m [repeated 3x across cluster]\u001b[0m\n",
      " 12%|█▏        | 28/228 [00:02<00:17, 11.50it/s]\u001b[32m [repeated 67x across cluster]\u001b[0m\n",
      "  0%|          | 0/228 [00:00<?, ?it/s]\u001b[32m [repeated 3x across cluster]\u001b[0m\n",
      " 33%|███▎      | 75/228 [00:07<00:18,  8.20it/s]\u001b[32m [repeated 174x across cluster]\u001b[0m\n",
      " 18%|█▊        | 41/228 [00:05<00:28,  6.48it/s]\n",
      "  0%|          | 0/228 [00:00<?, ?it/s]\n",
      " 56%|█████▌    | 127/228 [00:13<00:11,  8.49it/s]\u001b[32m [repeated 239x across cluster]\u001b[0m\n",
      " 32%|███▏      | 73/228 [00:09<00:17,  8.83it/s]\u001b[32m [repeated 4x across cluster]\u001b[0m\n",
      " 58%|█████▊    | 133/228 [00:16<00:11,  8.46it/s]\u001b[32m [repeated 316x across cluster]\u001b[0m\n",
      " 92%|█████████▏| 209/228 [00:22<00:02,  9.10it/s]\n",
      " 81%|████████  | 185/228 [00:19<00:04,  8.98it/s]\u001b[32m [repeated 5x across cluster]\u001b[0m\n",
      " 92%|█████████▏| 210/228 [00:22<00:01,  9.08it/s]\n",
      " 93%|█████████▎| 211/228 [00:22<00:01,  9.30it/s]\n",
      " 93%|█████████▎| 212/228 [00:23<00:01,  9.46it/s]\n",
      " 93%|█████████▎| 213/228 [00:23<00:01,  9.31it/s]\n",
      " 94%|█████████▍| 214/228 [00:23<00:01,  9.20it/s]\n",
      " 94%|█████████▍| 215/228 [00:23<00:01,  9.26it/s]\n",
      " 95%|█████████▍| 216/228 [00:23<00:01,  8.99it/s]\n",
      " 95%|█████████▌| 217/228 [00:23<00:01,  9.12it/s]\n",
      " 96%|█████████▌| 218/228 [00:23<00:01,  9.01it/s]\n",
      " 96%|█████████▋| 220/228 [00:23<00:00,  8.77it/s]\n",
      " 97%|█████████▋| 221/228 [00:24<00:00,  8.66it/s]\n",
      " 97%|█████████▋| 222/228 [00:24<00:00,  8.40it/s]\n",
      " 98%|█████████▊| 223/228 [00:24<00:00,  8.21it/s]\n",
      "  0%|          | 0/228 [00:00<?, ?it/s]\n"
     ]
    },
    {
     "name": "stdout",
     "output_type": "stream",
     "text": [
      "\u001b[2m\u001b[36m(DefaultActor pid=92320)\u001b[0m  Training loss for epoch 0: 0.47415571210481094, accuracy: 0.8555372807017544\u001b[32m [repeated 2x across cluster]\u001b[0m\n"
     ]
    },
    {
     "name": "stderr",
     "output_type": "stream",
     "text": [
      " 81%|████████  | 185/228 [00:22<00:05,  7.61it/s]\u001b[32m [repeated 277x across cluster]\u001b[0m\n",
      "100%|██████████| 228/228 [00:24<00:00,  9.31it/s]\u001b[32m [repeated 22x across cluster]\u001b[0m\n",
      " 11%|█         | 24/228 [00:02<00:22,  9.03it/s]\u001b[32m [repeated 5x across cluster]\u001b[0m\n",
      "  0%|          | 0/228 [00:00<?, ?it/s]\n",
      " 81%|████████  | 184/228 [00:22<00:05,  8.74it/s]\u001b[32m [repeated 282x across cluster]\u001b[0m\n"
     ]
    },
    {
     "name": "stdout",
     "output_type": "stream",
     "text": [
      "\u001b[2m\u001b[36m(DefaultActor pid=92317)\u001b[0m  Training loss for epoch 0: 0.6687557174775162, accuracy: 0.7478070175438597\u001b[32m [repeated 2x across cluster]\u001b[0m\n"
     ]
    },
    {
     "name": "stderr",
     "output_type": "stream",
     "text": [
      "  0%|          | 0/228 [00:00<?, ?it/s]\n",
      "100%|██████████| 228/228 [00:28<00:00,  8.11it/s]\u001b[32m [repeated 39x across cluster]\u001b[0m\n",
      " 83%|████████▎ | 189/228 [00:23<00:04,  8.03it/s]\u001b[32m [repeated 4x across cluster]\u001b[0m\n",
      " 16%|█▌        | 37/228 [00:04<00:24,  7.65it/s]\u001b[32m [repeated 252x across cluster]\u001b[0m\n",
      "  0%|          | 0/228 [00:00<?, ?it/s]\u001b[32m [repeated 2x across cluster]\u001b[0m\n"
     ]
    },
    {
     "name": "stdout",
     "output_type": "stream",
     "text": [
      "\u001b[2m\u001b[36m(DefaultActor pid=92315)\u001b[0m  Training loss for epoch 0: 0.9710726647131276, accuracy: 0.5959429824561403\u001b[32m [repeated 3x across cluster]\u001b[0m\n"
     ]
    },
    {
     "name": "stderr",
     "output_type": "stream",
     "text": [
      "100%|██████████| 228/228 [00:26<00:00,  8.50it/s]\u001b[32m [repeated 72x across cluster]\u001b[0m\n",
      "  7%|▋         | 17/228 [00:02<00:24,  8.57it/s]\u001b[32m [repeated 7x across cluster]\u001b[0m\n",
      " 14%|█▍        | 32/228 [00:04<00:49,  3.92it/s]\u001b[32m [repeated 218x across cluster]\u001b[0m\n",
      "  0%|          | 0/228 [00:00<?, ?it/s]\u001b[32m [repeated 3x across cluster]\u001b[0m\n",
      " 31%|███       | 70/228 [00:10<00:21,  7.30it/s]\u001b[32m [repeated 5x across cluster]\u001b[0m\n",
      " 48%|████▊     | 110/228 [00:14<00:14,  8.36it/s]\u001b[32m [repeated 291x across cluster]\u001b[0m\n",
      " 43%|████▎     | 99/228 [00:12<00:14,  9.05it/s]\u001b[32m [repeated 11x across cluster]\u001b[0m\n",
      " 64%|██████▍   | 146/228 [00:20<00:14,  5.70it/s]\u001b[32m [repeated 279x across cluster]\u001b[0m\n",
      " 92%|█████████▏| 209/228 [00:25<00:02,  6.45it/s]\n",
      " 92%|█████████▏| 210/228 [00:25<00:02,  6.86it/s]\n",
      " 93%|█████████▎| 211/228 [00:26<00:02,  7.33it/s]\n",
      " 93%|█████████▎| 212/228 [00:26<00:02,  7.73it/s]\n",
      " 93%|█████████▎| 213/228 [00:26<00:01,  8.09it/s]\n",
      " 94%|█████████▍| 215/228 [00:26<00:01,  8.57it/s]\n",
      " 95%|█████████▍| 216/228 [00:26<00:01,  8.57it/s]\n",
      " 95%|█████████▌| 217/228 [00:26<00:01,  8.61it/s]\n",
      " 96%|█████████▌| 218/228 [00:26<00:01,  8.67it/s]\n",
      " 96%|█████████▌| 219/228 [00:26<00:01,  8.82it/s]\n",
      " 96%|█████████▋| 220/228 [00:27<00:00,  8.61it/s]\n",
      " 97%|█████████▋| 221/228 [00:27<00:00,  8.68it/s]\n",
      "  0%|          | 0/228 [00:00<?, ?it/s]\n"
     ]
    },
    {
     "name": "stdout",
     "output_type": "stream",
     "text": [
      "\u001b[2m\u001b[36m(DefaultActor pid=92320)\u001b[0m  Training loss for epoch 1: 0.44370388954861517, accuracy: 0.8681469298245614\u001b[32m [repeated 3x across cluster]\u001b[0m\n"
     ]
    },
    {
     "name": "stderr",
     "output_type": "stream",
     "text": [
      " 52%|█████▏    | 118/228 [00:15<00:13,  8.31it/s]\u001b[32m [repeated 2x across cluster]\u001b[0m\n",
      " 82%|████████▏ | 187/228 [00:25<00:05,  7.93it/s]\u001b[32m [repeated 288x across cluster]\u001b[0m\n",
      "100%|██████████| 228/228 [00:27<00:00,  8.22it/s]\u001b[32m [repeated 26x across cluster]\u001b[0m\n",
      "  0%|          | 0/228 [00:00<?, ?it/s]\n",
      " 79%|███████▊  | 179/228 [00:22<00:05,  8.41it/s]\u001b[32m [repeated 4x across cluster]\u001b[0m\n",
      " 83%|████████▎ | 190/228 [00:24<00:04,  8.20it/s]\u001b[32m [repeated 281x across cluster]\u001b[0m\n",
      " 99%|█████████▉| 226/228 [00:30<00:00,  8.07it/s]\u001b[32m [repeated 26x across cluster]\u001b[0m\n",
      "  0%|          | 0/228 [00:00<?, ?it/s]\n"
     ]
    },
    {
     "name": "stdout",
     "output_type": "stream",
     "text": [
      "\u001b[2m\u001b[36m(DefaultActor pid=92317)\u001b[0m  Training loss for epoch 1: 0.6685685451354897, accuracy: 0.7478070175438597\u001b[32m [repeated 2x across cluster]\u001b[0m\n"
     ]
    },
    {
     "name": "stderr",
     "output_type": "stream",
     "text": [
      " 84%|████████▍ | 192/228 [00:22<00:03,  9.25it/s]\u001b[32m [repeated 3x across cluster]\u001b[0m\n",
      " 17%|█▋        | 39/228 [00:04<00:23,  7.88it/s]\u001b[32m [repeated 230x across cluster]\u001b[0m\n",
      "100%|██████████| 228/228 [00:29<00:00,  7.71it/s]\u001b[32m [repeated 88x across cluster]\u001b[0m\n",
      "  0%|          | 0/228 [00:00<?, ?it/s]\u001b[32m [repeated 5x across cluster]\u001b[0m\n",
      " 53%|█████▎    | 121/228 [00:13<00:11,  9.05it/s]\u001b[32m [repeated 6x across cluster]\u001b[0m\n",
      " 18%|█▊        | 41/228 [00:05<00:32,  5.82it/s]\u001b[32m [repeated 272x across cluster]\u001b[0m\n",
      " 29%|██▉       | 66/228 [00:08<00:18,  9.00it/s]\u001b[32m [repeated 5x across cluster]\u001b[0m\n",
      " 50%|████▉     | 113/228 [00:14<00:14,  8.03it/s]\u001b[32m [repeated 309x across cluster]\u001b[0m\n",
      " 92%|█████████▏| 209/228 [00:24<00:02,  8.33it/s]\n",
      " 92%|█████████▏| 210/228 [00:24<00:02,  7.86it/s]\n",
      " 93%|█████████▎| 211/228 [00:25<00:02,  8.04it/s]\n",
      " 93%|█████████▎| 212/228 [00:25<00:02,  7.93it/s]\n",
      " 93%|█████████▎| 213/228 [00:25<00:01,  8.17it/s]\n",
      " 43%|████▎     | 97/228 [00:12<00:15,  8.39it/s]\u001b[32m [repeated 3x across cluster]\u001b[0m\n",
      " 94%|█████████▍| 214/228 [00:25<00:01,  8.12it/s]\n",
      " 94%|█████████▍| 215/228 [00:25<00:01,  8.09it/s]\n",
      " 95%|█████████▍| 216/228 [00:25<00:01,  8.07it/s]\n",
      " 96%|█████████▌| 218/228 [00:25<00:01,  8.34it/s]\n",
      " 96%|█████████▌| 219/228 [00:26<00:01,  8.37it/s]\n",
      " 96%|█████████▋| 220/228 [00:26<00:00,  8.63it/s]\n",
      "  0%|          | 0/228 [00:00<?, ?it/s]\n"
     ]
    },
    {
     "name": "stdout",
     "output_type": "stream",
     "text": [
      "\u001b[2m\u001b[36m(DefaultActor pid=92320)\u001b[0m  Training loss for epoch 2: 0.5203985030060274, accuracy: 0.8363486842105263\u001b[32m [repeated 6x across cluster]\u001b[0m\n"
     ]
    },
    {
     "name": "stderr",
     "output_type": "stream",
     "text": [
      " 65%|██████▍   | 148/228 [00:19<00:12,  6.22it/s]\u001b[32m [repeated 251x across cluster]\u001b[0m\n",
      "100%|██████████| 228/228 [00:27<00:00,  8.27it/s]\u001b[32m [repeated 22x across cluster]\u001b[0m\n",
      " 66%|██████▌   | 151/228 [00:18<00:08,  9.23it/s]\u001b[32m [repeated 4x across cluster]\u001b[0m\n",
      "  0%|          | 0/228 [00:00<?, ?it/s]\n",
      " 83%|████████▎ | 189/228 [00:25<00:05,  7.74it/s]\u001b[32m [repeated 295x across cluster]\u001b[0m\n",
      " 70%|███████   | 160/228 [00:21<00:08,  8.22it/s]\u001b[32m [repeated 8x across cluster]\u001b[0m\n",
      " 92%|█████████▏| 209/228 [00:27<00:02,  7.90it/s]\n",
      " 92%|█████████▏| 210/228 [00:27<00:02,  7.92it/s]\n",
      " 93%|█████████▎| 211/228 [00:27<00:02,  8.07it/s]\n",
      " 93%|█████████▎| 212/228 [00:27<00:01,  8.04it/s]\n",
      " 93%|█████████▎| 213/228 [00:28<00:01,  7.83it/s]\n",
      " 94%|█████████▍| 214/228 [00:28<00:01,  8.14it/s]\n",
      " 94%|█████████▍| 215/228 [00:28<00:01,  7.98it/s]\n",
      " 95%|█████████▍| 216/228 [00:28<00:01,  7.60it/s]\n",
      " 95%|█████████▌| 217/228 [00:28<00:01,  7.62it/s]\n",
      " 96%|█████████▌| 218/228 [00:28<00:01,  7.54it/s]\n",
      "  0%|          | 0/228 [00:00<?, ?it/s]\n",
      " 40%|████      | 92/228 [00:10<00:15,  8.70it/s]\u001b[32m [repeated 266x across cluster]\u001b[0m\n"
     ]
    },
    {
     "name": "stdout",
     "output_type": "stream",
     "text": [
      "\u001b[2m\u001b[36m(DefaultActor pid=92317)\u001b[0m  Training loss for epoch 2: 0.6491426395481092, accuracy: 0.7510964912280702\u001b[32m [repeated 2x across cluster]\u001b[0m\n"
     ]
    },
    {
     "name": "stderr",
     "output_type": "stream",
     "text": [
      " 40%|███▉      | 91/228 [00:10<00:15,  8.66it/s]\u001b[32m [repeated 6x across cluster]\u001b[0m\n",
      " 95%|█████████▍| 216/228 [00:28<00:01,  7.67it/s]\u001b[32m [repeated 92x across cluster]\u001b[0m\n",
      "  0%|          | 0/228 [00:00<?, ?it/s]\u001b[32m [repeated 5x across cluster]\u001b[0m\n",
      " 17%|█▋        | 39/228 [00:05<00:26,  7.09it/s]\u001b[32m [repeated 237x across cluster]\u001b[0m\n",
      " 68%|██████▊   | 154/228 [00:17<00:08,  8.56it/s]\u001b[32m [repeated 7x across cluster]\u001b[0m\n",
      "100%|██████████| 228/228 [00:29<00:00,  7.74it/s]\u001b[32m [repeated 12x across cluster]\u001b[0m\n",
      " 32%|███▏      | 73/228 [00:10<00:25,  6.20it/s]\u001b[32m [repeated 276x across cluster]\u001b[0m\n",
      " 22%|██▏       | 50/228 [00:06<00:21,  8.12it/s]\n",
      " 88%|████████▊ | 200/228 [00:23<00:03,  8.46it/s]\n",
      " 92%|█████████▏| 209/228 [00:24<00:02,  9.42it/s]\n",
      " 92%|█████████▏| 210/228 [00:24<00:01,  9.19it/s]\n",
      " 93%|█████████▎| 211/228 [00:24<00:01,  8.84it/s]\n",
      " 93%|█████████▎| 212/228 [00:25<00:01,  8.64it/s]\n",
      " 93%|█████████▎| 213/228 [00:25<00:01,  8.82it/s]\n",
      " 94%|█████████▍| 215/228 [00:25<00:01,  9.43it/s]\n",
      " 95%|█████████▍| 216/228 [00:25<00:01,  8.94it/s]\n",
      " 95%|█████████▌| 217/228 [00:25<00:01,  8.31it/s]\n",
      " 50%|████▉     | 113/228 [00:15<00:15,  7.62it/s]\u001b[32m [repeated 312x across cluster]\u001b[0m\n",
      " 96%|█████████▌| 218/228 [00:25<00:01,  8.49it/s]\n",
      " 96%|█████████▌| 219/228 [00:25<00:01,  8.35it/s]\n",
      " 96%|█████████▋| 220/228 [00:26<00:00,  8.14it/s]\n",
      " 97%|█████████▋| 221/228 [00:26<00:00,  8.13it/s]\n",
      "  0%|          | 1/228 [00:00<00:24,  9.19it/s]\n"
     ]
    },
    {
     "name": "stdout",
     "output_type": "stream",
     "text": [
      "\u001b[2m\u001b[36m(DefaultActor pid=92320)\u001b[0m  Training loss for epoch 3: 0.5161336977034807, accuracy: 0.8401864035087719\u001b[32m [repeated 6x across cluster]\u001b[0m\n"
     ]
    },
    {
     "name": "stderr",
     "output_type": "stream",
     "text": [
      "  0%|          | 0/228 [00:00<?, ?it/s]\n",
      " 64%|██████▎   | 145/228 [00:17<00:10,  8.19it/s]\u001b[32m [repeated 7x across cluster]\u001b[0m\n",
      "100%|██████████| 228/228 [00:27<00:00,  8.41it/s]\u001b[32m [repeated 25x across cluster]\u001b[0m\n",
      " 62%|██████▏   | 141/228 [00:17<00:12,  6.90it/s]\u001b[32m [repeated 242x across cluster]\u001b[0m\n",
      " 64%|██████▍   | 147/228 [00:18<00:11,  6.97it/s]\u001b[32m [repeated 2x across cluster]\u001b[0m\n",
      " 82%|████████▏ | 187/228 [00:25<00:04,  8.35it/s]\u001b[32m [repeated 317x across cluster]\u001b[0m\n",
      " 92%|█████████▏| 210/228 [00:25<00:01,  9.16it/s]\n",
      " 93%|█████████▎| 212/228 [00:25<00:01,  9.27it/s]\n",
      " 93%|█████████▎| 213/228 [00:25<00:01,  9.42it/s]\n",
      " 94%|█████████▍| 214/228 [00:25<00:01,  9.26it/s]\n",
      " 95%|█████████▍| 216/228 [00:25<00:01,  9.26it/s]\n",
      " 95%|█████████▌| 217/228 [00:25<00:01,  9.01it/s]\n",
      " 96%|█████████▌| 218/228 [00:26<00:01,  9.11it/s]\n",
      " 96%|█████████▌| 219/228 [00:26<00:00,  9.12it/s]\n",
      " 96%|█████████▋| 220/228 [00:26<00:00,  9.09it/s]\n",
      " 97%|█████████▋| 221/228 [00:26<00:00,  8.68it/s]\n",
      " 98%|█████████▊| 223/228 [00:26<00:00,  8.87it/s]\n",
      " 98%|█████████▊| 224/228 [00:26<00:00,  9.11it/s]\n",
      " 99%|█████████▊| 225/228 [00:26<00:00,  8.49it/s]\n"
     ]
    },
    {
     "name": "stdout",
     "output_type": "stream",
     "text": [
      "\u001b[2m\u001b[36m(DefaultActor pid=92316)\u001b[0m  Training loss for epoch 3: 0.4940987093733591, accuracy: 0.8245614035087719\u001b[32m [repeated 2x across cluster]\u001b[0m\n"
     ]
    },
    {
     "name": "stderr",
     "output_type": "stream",
     "text": [
      "  0%|          | 0/228 [00:00<?, ?it/s]\n",
      " 39%|███▉      | 90/228 [00:11<00:15,  8.81it/s]\n",
      "  1%|▏         | 3/228 [00:00<00:24,  9.05it/s]\u001b[32m [repeated 239x across cluster]\u001b[0m\n",
      " 93%|█████████▎| 211/228 [00:27<00:01,  8.55it/s]\u001b[32m [repeated 80x across cluster]\u001b[0m\n",
      " 57%|█████▋    | 130/228 [00:15<00:10,  8.93it/s]\n",
      "  0%|          | 0/228 [00:00<?, ?it/s]\u001b[32m [repeated 5x across cluster]\u001b[0m\n",
      " 17%|█▋        | 38/228 [00:04<00:25,  7.46it/s]\u001b[32m [repeated 283x across cluster]\u001b[0m\n",
      "100%|██████████| 228/228 [00:29<00:00,  7.86it/s]\u001b[32m [repeated 18x across cluster]\u001b[0m\n",
      " 21%|██        | 47/228 [00:05<00:20,  8.72it/s]\u001b[32m [repeated 3x across cluster]\u001b[0m\n",
      " 32%|███▏      | 73/228 [00:09<00:22,  7.03it/s]\u001b[32m [repeated 275x across cluster]\u001b[0m\n",
      " 92%|█████████▏| 209/228 [00:25<00:02,  8.38it/s]\n",
      " 92%|█████████▏| 210/228 [00:25<00:02,  8.35it/s]\n",
      " 93%|█████████▎| 211/228 [00:25<00:02,  8.33it/s]\n",
      " 40%|███▉      | 91/228 [00:11<00:16,  8.45it/s]\u001b[32m [repeated 6x across cluster]\u001b[0m\n",
      " 93%|█████████▎| 212/228 [00:25<00:01,  8.19it/s]\n",
      " 93%|█████████▎| 213/228 [00:25<00:01,  8.41it/s]\n",
      " 94%|█████████▍| 214/228 [00:25<00:01,  8.45it/s]\n",
      " 94%|█████████▍| 215/228 [00:26<00:01,  8.82it/s]\n",
      " 95%|█████████▍| 216/228 [00:26<00:01,  8.36it/s]\n",
      " 95%|█████████▌| 217/228 [00:26<00:01,  8.44it/s]\n",
      " 96%|█████████▌| 218/228 [00:26<00:01,  8.63it/s]\n",
      " 96%|█████████▌| 219/228 [00:26<00:01,  8.44it/s]\n",
      " 96%|█████████▋| 220/228 [00:26<00:00,  8.05it/s]\n",
      " 97%|█████████▋| 221/228 [00:26<00:00,  7.99it/s]\n",
      " 97%|█████████▋| 222/228 [00:26<00:00,  7.98it/s]\n",
      " 98%|█████████▊| 223/228 [00:26<00:00,  8.44it/s]\n",
      " 98%|█████████▊| 224/228 [00:27<00:00,  8.56it/s]\n",
      " 99%|█████████▉| 226/228 [00:27<00:00,  9.13it/s]\n"
     ]
    },
    {
     "name": "stdout",
     "output_type": "stream",
     "text": [
      "\u001b[2m\u001b[36m(DefaultActor pid=92320)\u001b[0m  Training loss for epoch 4: 0.46542078671617465, accuracy: 0.8612938596491229\u001b[32m [repeated 6x across cluster]\u001b[0m\n"
     ]
    },
    {
     "name": "stderr",
     "output_type": "stream",
     "text": [
      " 50%|████▉     | 113/228 [00:15<00:16,  7.17it/s]\u001b[32m [repeated 261x across cluster]\u001b[0m\n",
      "  0%|          | 0/228 [00:00<?, ?it/s]\n",
      "100%|██████████| 228/228 [00:27<00:00,  8.14it/s]\u001b[32m [repeated 19x across cluster]\u001b[0m\n",
      " 69%|██████▉   | 158/228 [00:18<00:07,  9.74it/s]\u001b[32m [repeated 4x across cluster]\u001b[0m\n",
      " 66%|██████▌   | 150/228 [00:20<00:12,  6.14it/s]\u001b[32m [repeated 207x across cluster]\u001b[0m\n",
      "  0%|          | 0/228 [00:00<?, ?it/s]\n",
      " 19%|█▉        | 43/228 [00:05<00:20,  8.87it/s]\u001b[32m [repeated 5x across cluster]\u001b[0m\n",
      " 92%|█████████▏| 209/228 [00:24<00:02,  8.68it/s]\n",
      " 93%|█████████▎| 211/228 [00:25<00:01,  9.05it/s]\n",
      " 93%|█████████▎| 212/228 [00:25<00:01,  9.00it/s]\n",
      " 93%|█████████▎| 213/228 [00:25<00:01,  8.93it/s]\n",
      " 94%|█████████▍| 214/228 [00:25<00:01,  8.99it/s]\n",
      " 94%|█████████▍| 215/228 [00:25<00:01,  9.10it/s]\n",
      " 95%|█████████▍| 216/228 [00:25<00:01,  9.04it/s]\n",
      " 95%|█████████▌| 217/228 [00:25<00:01,  8.98it/s]\n",
      " 96%|█████████▌| 218/228 [00:25<00:01,  8.40it/s]\n",
      " 96%|█████████▌| 219/228 [00:25<00:01,  8.42it/s]\n",
      " 96%|█████████▋| 220/228 [00:26<00:00,  8.37it/s]\n",
      " 97%|█████████▋| 221/228 [00:26<00:00,  8.58it/s]\n",
      " 97%|█████████▋| 222/228 [00:26<00:00,  8.89it/s]\n",
      " 98%|█████████▊| 224/228 [00:26<00:00,  9.55it/s]\n",
      " 99%|█████████▊| 225/228 [00:26<00:00,  9.17it/s]\n",
      "100%|█████████▉| 227/228 [00:26<00:00,  9.33it/s]\n",
      "100%|██████████| 228/228 [00:26<00:00,  8.46it/s]\n"
     ]
    },
    {
     "name": "stdout",
     "output_type": "stream",
     "text": [
      "\u001b[2m\u001b[36m(DefaultActor pid=92316)\u001b[0m  Training loss for epoch 4: 0.4663756228983402, accuracy: 0.8325109649122807\u001b[32m [repeated 2x across cluster]\u001b[0m\n"
     ]
    },
    {
     "name": "stderr",
     "output_type": "stream",
     "text": [
      " 83%|████████▎ | 190/228 [00:25<00:04,  8.12it/s]\u001b[32m [repeated 278x across cluster]\u001b[0m\n",
      " 82%|████████▏ | 187/228 [00:24<00:04,  9.32it/s]\u001b[32m [repeated 3x across cluster]\u001b[0m\n",
      " 93%|█████████▎| 211/228 [00:27<00:02,  8.15it/s]\u001b[32m [repeated 33x across cluster]\u001b[0m\n"
     ]
    },
    {
     "name": "stdout",
     "output_type": "stream",
     "text": [
      "\u001b[2m\u001b[36m(DefaultActor pid=92313)\u001b[0m  Training loss for epoch 4: 0.6942390634825355, accuracy: 0.7173793859649122\u001b[32m [repeated 3x across cluster]\u001b[0m\n"
     ]
    },
    {
     "name": "stderr",
     "output_type": "stream",
     "text": [
      " 38%|███▊      | 86/228 [00:09<00:19,  7.24it/s]\u001b[32m [repeated 113x across cluster]\u001b[0m\n",
      "100%|██████████| 228/228 [00:29<00:00,  7.86it/s]\u001b[32m [repeated 33x across cluster]\u001b[0m\n",
      " 74%|███████▎  | 168/228 [00:14<00:03, 17.00it/s]\u001b[32m [repeated 80x across cluster]\u001b[0m\n",
      "  0%|          | 0/228 [00:00<?, ?it/s]\n"
     ]
    },
    {
     "name": "stdout",
     "output_type": "stream",
     "text": [
      "\u001b[2m\u001b[36m(DefaultActor pid=92320)\u001b[0m  Training loss for epoch 0: 0.7969209996885375, accuracy: 0.6877741228070176\u001b[32m [repeated 3x across cluster]\u001b[0m\n"
     ]
    },
    {
     "name": "stderr",
     "output_type": "stream",
     "text": [
      "100%|██████████| 228/228 [00:21<00:00, 10.64it/s]\u001b[32m [repeated 10x across cluster]\u001b[0m\n",
      " 23%|██▎       | 52/228 [00:03<00:10, 16.15it/s]\u001b[32m [repeated 65x across cluster]\u001b[0m\n",
      "  0%|          | 0/228 [00:00<?, ?it/s]\n",
      "100%|██████████| 228/228 [00:18<00:00, 12.44it/s]\u001b[32m [repeated 10x across cluster]\u001b[0m\n",
      " 48%|████▊     | 110/228 [00:06<00:07, 16.56it/s]\u001b[32m [repeated 81x across cluster]\u001b[0m\n",
      " 82%|████████▏ | 188/228 [00:11<00:02, 16.19it/s]\u001b[32m [repeated 76x across cluster]\u001b[0m\n",
      " 92%|█████████▏| 210/228 [00:13<00:01, 15.57it/s]\n",
      " 93%|█████████▎| 212/228 [00:13<00:01, 15.89it/s]\n",
      " 94%|█████████▍| 214/228 [00:13<00:00, 16.00it/s]\n",
      " 95%|█████████▍| 216/228 [00:13<00:00, 15.94it/s]\n",
      " 96%|█████████▌| 218/228 [00:14<00:00, 15.97it/s]\n",
      " 96%|█████████▋| 220/228 [00:14<00:00, 16.05it/s]\n",
      " 97%|█████████▋| 222/228 [00:14<00:00, 16.05it/s]\n",
      " 98%|█████████▊| 224/228 [00:14<00:00, 15.82it/s]\n",
      "  0%|          | 0/228 [00:00<?, ?it/s]\n"
     ]
    },
    {
     "name": "stdout",
     "output_type": "stream",
     "text": [
      "\u001b[2m\u001b[36m(DefaultActor pid=92320)\u001b[0m  Training loss for epoch 1: 1.0545713021174858, accuracy: 0.6414473684210527\u001b[32m [repeated 2x across cluster]\u001b[0m\n"
     ]
    },
    {
     "name": "stderr",
     "output_type": "stream",
     "text": [
      " 19%|█▉        | 44/228 [00:02<00:10, 16.93it/s]\u001b[32m [repeated 62x across cluster]\u001b[0m\n",
      "100%|██████████| 228/228 [00:14<00:00, 16.18it/s]\u001b[32m [repeated 12x across cluster]\u001b[0m\n",
      "  0%|          | 0/228 [00:00<?, ?it/s]\n",
      " 54%|█████▍    | 124/228 [00:07<00:06, 16.46it/s]\u001b[32m [repeated 78x across cluster]\u001b[0m\n",
      " 92%|█████████▏| 210/228 [00:13<00:01, 16.29it/s]\n",
      " 93%|█████████▎| 212/228 [00:13<00:00, 16.45it/s]\n",
      " 94%|█████████▍| 214/228 [00:13<00:00, 16.25it/s]\n",
      " 91%|█████████ | 208/228 [00:12<00:01, 16.96it/s]\u001b[32m [repeated 80x across cluster]\u001b[0m\n",
      "  0%|          | 0/228 [00:00<?, ?it/s]\n"
     ]
    },
    {
     "name": "stdout",
     "output_type": "stream",
     "text": [
      "\u001b[2m\u001b[36m(DefaultActor pid=92320)\u001b[0m  Training loss for epoch 2: 1.6099797296419478, accuracy: 0.4876644736842105\u001b[32m [repeated 2x across cluster]\u001b[0m\n"
     ]
    },
    {
     "name": "stderr",
     "output_type": "stream",
     "text": [
      "100%|██████████| 228/228 [00:13<00:00, 16.47it/s]\u001b[32m [repeated 17x across cluster]\u001b[0m\n",
      " 30%|██▉       | 68/228 [00:04<00:10, 15.37it/s]\u001b[32m [repeated 67x across cluster]\u001b[0m\n",
      "  0%|          | 0/228 [00:00<?, ?it/s]\n",
      " 68%|██████▊   | 154/228 [00:09<00:04, 16.87it/s]\u001b[32m [repeated 84x across cluster]\u001b[0m\n",
      " 92%|█████████▏| 210/228 [00:12<00:01,  9.04it/s]\n",
      " 93%|█████████▎| 212/228 [00:12<00:01, 10.46it/s]\n",
      " 94%|█████████▍| 214/228 [00:13<00:01, 11.81it/s]\n",
      " 95%|█████████▍| 216/228 [00:13<00:00, 13.05it/s]\n",
      " 96%|█████████▌| 218/228 [00:13<00:00, 13.92it/s]\n",
      "  0%|          | 0/228 [00:00<?, ?it/s]\n"
     ]
    },
    {
     "name": "stdout",
     "output_type": "stream",
     "text": [
      "\u001b[2m\u001b[36m(DefaultActor pid=92319)\u001b[0m  Training loss for epoch 3: 1.0001465327907026, accuracy: 0.6395285087719298\u001b[32m [repeated 2x across cluster]\u001b[0m\n"
     ]
    },
    {
     "name": "stderr",
     "output_type": "stream",
     "text": [
      "  2%|▏         | 4/228 [00:00<00:13, 16.19it/s]\u001b[32m [repeated 59x across cluster]\u001b[0m\n",
      "100%|██████████| 228/228 [00:14<00:00, 15.54it/s]\u001b[32m [repeated 15x across cluster]\u001b[0m\n",
      "  0%|          | 0/228 [00:00<?, ?it/s]\n",
      " 33%|███▎      | 76/228 [00:04<00:09, 15.89it/s]\u001b[32m [repeated 80x across cluster]\u001b[0m\n",
      " 73%|███████▎  | 166/228 [00:10<00:03, 16.51it/s]\u001b[32m [repeated 75x across cluster]\u001b[0m\n",
      " 92%|█████████▏| 210/228 [00:12<00:01, 16.98it/s]\n",
      " 93%|█████████▎| 212/228 [00:13<00:00, 16.85it/s]\n",
      " 94%|█████████▍| 214/228 [00:13<00:00, 16.98it/s]\n",
      " 95%|█████████▍| 216/228 [00:13<00:00, 16.41it/s]\n",
      " 96%|█████████▌| 218/228 [00:13<00:00, 16.65it/s]\n",
      " 96%|█████████▋| 220/228 [00:13<00:00, 16.79it/s]\n",
      " 97%|█████████▋| 222/228 [00:13<00:00, 16.59it/s]\n",
      " 98%|█████████▊| 224/228 [00:13<00:00, 16.69it/s]\n",
      " 99%|█████████▉| 226/228 [00:13<00:00, 17.02it/s]\n",
      "100%|██████████| 228/228 [00:13<00:00, 16.31it/s]\n"
     ]
    },
    {
     "name": "stdout",
     "output_type": "stream",
     "text": [
      "\u001b[2m\u001b[36m(DefaultActor pid=92319)\u001b[0m  Training loss for epoch 4: 0.8895074009503189, accuracy: 0.6702302631578947\u001b[32m [repeated 2x across cluster]\u001b[0m\n"
     ]
    },
    {
     "name": "stderr",
     "output_type": "stream",
     "text": [
      "DEBUG flwr 2023-11-09 13:19:05,401 | server.py:236 | fit_round 22 received 10 results and 0 failures\n",
      "DEBUG:flwr:fit_round 22 received 10 results and 0 failures\n"
     ]
    },
    {
     "name": "stdout",
     "output_type": "stream",
     "text": [
      "Saving round 22 aggregated_parameters...\n",
      "Saved round 22 aggregated_parameters!\n"
     ]
    },
    {
     "name": "stderr",
     "output_type": "stream",
     "text": [
      "INFO flwr 2023-11-09 13:19:05,457 | server.py:171 | evaluate_round 22: no clients selected, cancel\n",
      "INFO:flwr:evaluate_round 22: no clients selected, cancel\n",
      "DEBUG flwr 2023-11-09 13:19:05,458 | server.py:222 | fit_round 23: strategy sampled 10 clients (out of 40)\n",
      "DEBUG:flwr:fit_round 23: strategy sampled 10 clients (out of 40)\n",
      "  0%|          | 0/228 [00:00<?, ?it/s]\n",
      " 91%|█████████ | 208/228 [00:13<00:01, 16.16it/s]\u001b[32m [repeated 51x across cluster]\u001b[0m\n",
      "100%|██████████| 228/228 [00:14<00:00, 15.51it/s]\u001b[32m [repeated 10x across cluster]\u001b[0m\n",
      "  0%|          | 0/228 [00:00<?, ?it/s]\u001b[32m [repeated 2x across cluster]\u001b[0m\n",
      " 21%|██        | 48/228 [00:04<00:13, 13.71it/s]\u001b[32m [repeated 62x across cluster]\u001b[0m\n",
      " 45%|████▍     | 102/228 [00:08<00:13,  9.16it/s]\n",
      "  0%|          | 0/228 [00:00<?, ?it/s]\u001b[32m [repeated 4x across cluster]\u001b[0m\n",
      " 14%|█▍        | 33/228 [00:03<00:25,  7.70it/s]\u001b[32m [repeated 140x across cluster]\u001b[0m\n",
      "  3%|▎         | 7/228 [00:01<00:45,  4.81it/s]\u001b[32m [repeated 3x across cluster]\u001b[0m\n",
      "  0%|          | 0/228 [00:00<?, ?it/s]\n",
      "  9%|▉         | 20/228 [00:03<00:24,  8.36it/s]\u001b[32m [repeated 229x across cluster]\u001b[0m\n",
      " 72%|███████▏  | 165/228 [00:17<00:07,  8.88it/s]\u001b[32m [repeated 6x across cluster]\u001b[0m\n",
      " 45%|████▌     | 103/228 [00:13<00:14,  8.44it/s]\u001b[32m [repeated 307x across cluster]\u001b[0m\n",
      " 92%|█████████▏| 209/228 [00:22<00:02,  8.96it/s]\n",
      " 92%|█████████▏| 210/228 [00:22<00:02,  8.89it/s]\n",
      " 93%|█████████▎| 211/228 [00:22<00:02,  8.28it/s]\n",
      " 93%|█████████▎| 212/228 [00:22<00:02,  7.82it/s]\n",
      " 93%|█████████▎| 213/228 [00:23<00:01,  7.90it/s]\n",
      " 94%|█████████▍| 214/228 [00:23<00:01,  8.14it/s]\n",
      " 94%|█████████▍| 215/228 [00:23<00:01,  8.17it/s]\n",
      " 95%|█████████▍| 216/228 [00:23<00:01,  8.35it/s]\n",
      " 48%|████▊     | 109/228 [00:13<00:12,  9.34it/s]\u001b[32m [repeated 5x across cluster]\u001b[0m\n",
      "  0%|          | 0/228 [00:00<?, ?it/s]\n"
     ]
    },
    {
     "name": "stdout",
     "output_type": "stream",
     "text": [
      "\u001b[2m\u001b[36m(DefaultActor pid=92320)\u001b[0m  Training loss for epoch 0: 0.3536092434078455, accuracy: 0.8985745614035088\u001b[32m [repeated 2x across cluster]\u001b[0m\n"
     ]
    },
    {
     "name": "stderr",
     "output_type": "stream",
     "text": [
      " 63%|██████▎   | 144/228 [00:18<00:10,  7.70it/s]\u001b[32m [repeated 290x across cluster]\u001b[0m\n",
      "100%|██████████| 228/228 [00:24<00:00,  9.22it/s]\u001b[32m [repeated 29x across cluster]\u001b[0m\n",
      " 68%|██████▊   | 155/228 [00:20<00:08,  8.36it/s]\u001b[32m [repeated 3x across cluster]\u001b[0m\n",
      "  0%|          | 0/228 [00:00<?, ?it/s]\n",
      " 82%|████████▏ | 186/228 [00:23<00:04,  8.43it/s]\u001b[32m [repeated 299x across cluster]\u001b[0m\n",
      "  0%|          | 0/228 [00:00<?, ?it/s]\n"
     ]
    },
    {
     "name": "stdout",
     "output_type": "stream",
     "text": [
      "\u001b[2m\u001b[36m(DefaultActor pid=92315)\u001b[0m  Training loss for epoch 0: 0.43633548595141947, accuracy: 0.8448464912280702\u001b[32m [repeated 2x across cluster]\u001b[0m\n"
     ]
    },
    {
     "name": "stderr",
     "output_type": "stream",
     "text": [
      "100%|██████████| 228/228 [00:27<00:00,  8.18it/s]\u001b[32m [repeated 20x across cluster]\u001b[0m\n",
      " 85%|████████▍ | 193/228 [00:24<00:04,  8.69it/s]\u001b[32m [repeated 5x across cluster]\u001b[0m\n",
      " 14%|█▍        | 32/228 [00:03<00:24,  8.12it/s]\u001b[32m [repeated 267x across cluster]\u001b[0m\n",
      "  0%|          | 0/228 [00:00<?, ?it/s]\n",
      "  0%|          | 0/228 [00:00<?, ?it/s]\n"
     ]
    },
    {
     "name": "stdout",
     "output_type": "stream",
     "text": [
      "\u001b[2m\u001b[36m(DefaultActor pid=92314)\u001b[0m  Training loss for epoch 0: 0.9698846464355787, accuracy: 0.5970394736842105\u001b[32m [repeated 2x across cluster]\u001b[0m\n"
     ]
    },
    {
     "name": "stderr",
     "output_type": "stream",
     "text": [
      " 96%|█████████▌| 219/228 [00:25<00:01,  8.31it/s]\u001b[32m [repeated 85x across cluster]\u001b[0m\n",
      "  9%|▉         | 20/228 [00:02<00:24,  8.60it/s]\u001b[32m [repeated 9x across cluster]\u001b[0m\n",
      " 17%|█▋        | 38/228 [00:04<00:23,  7.92it/s]\u001b[32m [repeated 242x across cluster]\u001b[0m\n",
      "  0%|          | 0/228 [00:00<?, ?it/s]\u001b[32m [repeated 3x across cluster]\u001b[0m\n",
      "100%|██████████| 228/228 [00:26<00:00,  8.48it/s]\u001b[32m [repeated 8x across cluster]\u001b[0m\n",
      " 64%|██████▎   | 145/228 [00:18<00:10,  7.68it/s]\u001b[32m [repeated 4x across cluster]\u001b[0m\n",
      " 30%|███       | 69/228 [00:09<00:21,  7.47it/s]\u001b[32m [repeated 249x across cluster]\u001b[0m\n",
      " 42%|████▏     | 95/228 [00:11<00:14,  9.24it/s]\u001b[32m [repeated 7x across cluster]\u001b[0m\n",
      " 90%|████████▉ | 205/228 [00:24<00:02,  9.31it/s]\u001b[32m [repeated 309x across cluster]\u001b[0m\n",
      " 92%|█████████▏| 209/228 [00:25<00:03,  5.09it/s]\n",
      "  0%|          | 0/228 [00:00<?, ?it/s]\n"
     ]
    },
    {
     "name": "stdout",
     "output_type": "stream",
     "text": [
      "\u001b[2m\u001b[36m(DefaultActor pid=92319)\u001b[0m  Training loss for epoch 1: 0.521919213337497, accuracy: 0.8157894736842105\u001b[32m [repeated 4x across cluster]\u001b[0m\n"
     ]
    },
    {
     "name": "stderr",
     "output_type": "stream",
     "text": [
      " 53%|█████▎    | 121/228 [00:15<00:11,  9.05it/s]\u001b[32m [repeated 5x across cluster]\u001b[0m\n",
      " 64%|██████▎   | 145/228 [00:19<00:11,  7.43it/s]\u001b[32m [repeated 241x across cluster]\u001b[0m\n",
      "100%|██████████| 228/228 [00:28<00:00,  7.91it/s]\u001b[32m [repeated 36x across cluster]\u001b[0m\n",
      "  0%|          | 0/228 [00:00<?, ?it/s]\n",
      " 20%|██        | 46/228 [00:05<00:20,  8.98it/s]\u001b[32m [repeated 7x across cluster]\u001b[0m\n",
      " 81%|████████  | 185/228 [00:24<00:05,  8.50it/s]\u001b[32m [repeated 299x across cluster]\u001b[0m\n",
      "  0%|          | 0/228 [00:00<?, ?it/s]\n"
     ]
    },
    {
     "name": "stdout",
     "output_type": "stream",
     "text": [
      "\u001b[2m\u001b[36m(DefaultActor pid=92315)\u001b[0m  Training loss for epoch 1: 0.40644673872412296, accuracy: 0.8591008771929824\u001b[32m [repeated 2x across cluster]\u001b[0m\n"
     ]
    },
    {
     "name": "stderr",
     "output_type": "stream",
     "text": [
      "100%|██████████| 228/228 [00:29<00:00,  7.73it/s]\u001b[32m [repeated 20x across cluster]\u001b[0m\n",
      " 37%|███▋      | 85/228 [00:09<00:15,  9.05it/s]\u001b[32m [repeated 3x across cluster]\u001b[0m\n",
      "  7%|▋         | 15/228 [00:01<00:24,  8.80it/s]\u001b[32m [repeated 251x across cluster]\u001b[0m\n",
      "  0%|          | 0/228 [00:00<?, ?it/s]\u001b[32m [repeated 2x across cluster]\u001b[0m\n"
     ]
    },
    {
     "name": "stdout",
     "output_type": "stream",
     "text": [
      "\u001b[2m\u001b[36m(DefaultActor pid=92317)\u001b[0m  Training loss for epoch 1: 0.33522634534573736, accuracy: 0.8930921052631579\u001b[32m [repeated 2x across cluster]\u001b[0m\n"
     ]
    },
    {
     "name": "stderr",
     "output_type": "stream",
     "text": [
      "100%|██████████| 228/228 [00:27<00:00,  8.22it/s]\u001b[32m [repeated 83x across cluster]\u001b[0m\n",
      " 17%|█▋        | 39/228 [00:04<00:20,  9.18it/s]\u001b[32m [repeated 3x across cluster]\u001b[0m\n",
      " 16%|█▌        | 37/228 [00:04<00:24,  7.80it/s]\u001b[32m [repeated 285x across cluster]\u001b[0m\n",
      "  0%|          | 0/228 [00:00<?, ?it/s]\u001b[32m [repeated 3x across cluster]\u001b[0m\n",
      "100%|██████████| 228/228 [00:29<00:00,  7.63it/s]\u001b[32m [repeated 7x across cluster]\u001b[0m\n",
      " 36%|███▌      | 82/228 [00:09<00:15,  9.20it/s]\n",
      " 30%|███       | 69/228 [00:08<00:18,  8.75it/s]\n",
      " 44%|████▍     | 100/228 [00:12<00:14,  9.09it/s]\u001b[32m [repeated 298x across cluster]\u001b[0m\n",
      " 92%|█████████▏| 209/228 [00:25<00:02,  8.99it/s]\n",
      " 92%|█████████▏| 210/228 [00:25<00:02,  8.87it/s]\n",
      " 49%|████▉     | 112/228 [00:13<00:12,  8.95it/s]\u001b[32m [repeated 4x across cluster]\u001b[0m\n",
      " 50%|████▉     | 113/228 [00:15<00:31,  3.64it/s]\u001b[32m [repeated 251x across cluster]\u001b[0m\n",
      "  0%|          | 0/228 [00:00<?, ?it/s]\n"
     ]
    },
    {
     "name": "stdout",
     "output_type": "stream",
     "text": [
      "\u001b[2m\u001b[36m(DefaultActor pid=92319)\u001b[0m  Training loss for epoch 2: 0.5097666263514966, accuracy: 0.8182565789473685\u001b[32m [repeated 4x across cluster]\u001b[0m\n"
     ]
    },
    {
     "name": "stderr",
     "output_type": "stream",
     "text": [
      "100%|██████████| 228/228 [00:27<00:00,  8.20it/s]\u001b[32m [repeated 37x across cluster]\u001b[0m\n",
      " 68%|██████▊   | 156/228 [00:18<00:08,  8.87it/s]\u001b[32m [repeated 3x across cluster]\u001b[0m\n",
      " 68%|██████▊   | 154/228 [00:20<00:09,  7.97it/s]\u001b[32m [repeated 308x across cluster]\u001b[0m\n",
      "  0%|          | 0/228 [00:00<?, ?it/s]\n",
      " 95%|█████████▌| 217/228 [00:27<00:01,  8.32it/s]\u001b[32m [repeated 9x across cluster]\u001b[0m\n",
      "  0%|          | 0/228 [00:00<?, ?it/s]\n"
     ]
    },
    {
     "name": "stdout",
     "output_type": "stream",
     "text": [
      "\u001b[2m\u001b[36m(DefaultActor pid=92315)\u001b[0m  Training loss for epoch 2: 0.3746919886274427, accuracy: 0.8739035087719298\u001b[32m [repeated 2x across cluster]\u001b[0m\n"
     ]
    },
    {
     "name": "stderr",
     "output_type": "stream",
     "text": [
      " 33%|███▎      | 76/228 [00:08<00:16,  9.03it/s]\u001b[32m [repeated 6x across cluster]\u001b[0m\n",
      " 86%|████████▌ | 196/228 [00:24<00:03,  8.33it/s]\u001b[32m [repeated 272x across cluster]\u001b[0m\n",
      " 93%|█████████▎| 212/228 [00:27<00:02,  7.63it/s]\u001b[32m [repeated 51x across cluster]\u001b[0m\n",
      "  0%|          | 0/228 [00:00<?, ?it/s]\u001b[32m [repeated 2x across cluster]\u001b[0m\n",
      "  6%|▌         | 13/228 [00:01<00:25,  8.57it/s]\u001b[32m [repeated 6x across cluster]\u001b[0m\n"
     ]
    },
    {
     "name": "stdout",
     "output_type": "stream",
     "text": [
      "\u001b[2m\u001b[36m(DefaultActor pid=92318)\u001b[0m  Training loss for epoch 2: 0.7875713824310846, accuracy: 0.6970942982456141\u001b[32m [repeated 3x across cluster]\u001b[0m\n"
     ]
    },
    {
     "name": "stderr",
     "output_type": "stream",
     "text": [
      " 58%|█████▊    | 132/228 [00:15<00:11,  8.56it/s]\u001b[32m [repeated 227x across cluster]\u001b[0m\n",
      "100%|██████████| 228/228 [00:29<00:00,  7.72it/s]\u001b[32m [repeated 50x across cluster]\u001b[0m\n",
      "  0%|          | 0/228 [00:00<?, ?it/s]\u001b[32m [repeated 3x across cluster]\u001b[0m\n",
      " 33%|███▎      | 75/228 [00:08<00:17,  8.63it/s]\u001b[32m [repeated 8x across cluster]\u001b[0m\n",
      " 18%|█▊        | 40/228 [00:05<00:47,  3.97it/s]\u001b[32m [repeated 267x across cluster]\u001b[0m\n",
      " 85%|████████▍ | 193/228 [00:23<00:04,  8.32it/s]\u001b[32m [repeated 4x across cluster]\u001b[0m\n",
      " 92%|█████████▏| 209/228 [00:24<00:02,  8.27it/s]\n",
      " 92%|█████████▏| 210/228 [00:24<00:02,  8.51it/s]\n",
      " 93%|█████████▎| 211/228 [00:24<00:02,  8.49it/s]\n",
      " 93%|█████████▎| 212/228 [00:24<00:01,  8.50it/s]\n",
      " 93%|█████████▎| 213/228 [00:25<00:01,  8.69it/s]\n",
      " 94%|█████████▍| 214/228 [00:25<00:01,  8.60it/s]\n",
      " 35%|███▌      | 80/228 [00:10<00:18,  7.93it/s]\u001b[32m [repeated 306x across cluster]\u001b[0m\n",
      " 94%|█████████▍| 215/228 [00:25<00:01,  8.63it/s]\n",
      "  0%|          | 0/228 [00:00<?, ?it/s]\n"
     ]
    },
    {
     "name": "stdout",
     "output_type": "stream",
     "text": [
      "\u001b[2m\u001b[36m(DefaultActor pid=92319)\u001b[0m  Training loss for epoch 3: 0.6058293882136544, accuracy: 0.7949561403508771\u001b[32m [repeated 3x across cluster]\u001b[0m\n"
     ]
    },
    {
     "name": "stderr",
     "output_type": "stream",
     "text": [
      "  9%|▉         | 21/228 [00:02<00:22,  9.19it/s]\u001b[32m [repeated 5x across cluster]\u001b[0m\n",
      "100%|██████████| 228/228 [00:27<00:00,  8.33it/s]\u001b[32m [repeated 31x across cluster]\u001b[0m\n",
      " 51%|█████     | 116/228 [00:15<00:22,  4.98it/s]\u001b[32m [repeated 253x across cluster]\u001b[0m\n",
      "  0%|          | 0/228 [00:00<?, ?it/s]\n",
      " 86%|████████▌ | 195/228 [00:25<00:03,  8.42it/s]\u001b[32m [repeated 4x across cluster]\u001b[0m\n",
      " 92%|█████████▏| 210/228 [00:25<00:02,  8.44it/s]\n",
      " 93%|█████████▎| 211/228 [00:25<00:01,  8.60it/s]\n",
      " 93%|█████████▎| 212/228 [00:25<00:01,  8.38it/s]\n",
      " 69%|██████▉   | 157/228 [00:20<00:09,  7.88it/s]\u001b[32m [repeated 310x across cluster]\u001b[0m\n",
      " 93%|█████████▎| 213/228 [00:25<00:01,  8.79it/s]\n",
      " 94%|█████████▍| 214/228 [00:25<00:01,  8.48it/s]\n",
      "  0%|          | 0/228 [00:00<?, ?it/s]\n"
     ]
    },
    {
     "name": "stdout",
     "output_type": "stream",
     "text": [
      "\u001b[2m\u001b[36m(DefaultActor pid=92314)\u001b[0m  Training loss for epoch 3: 0.9510019322236379, accuracy: 0.5995065789473685\u001b[32m [repeated 2x across cluster]\u001b[0m\n"
     ]
    },
    {
     "name": "stderr",
     "output_type": "stream",
     "text": [
      " 84%|████████▍ | 192/228 [00:24<00:03,  9.16it/s]\u001b[32m [repeated 6x across cluster]\u001b[0m\n",
      "100%|██████████| 228/228 [00:27<00:00,  8.36it/s]\u001b[32m [repeated 50x across cluster]\u001b[0m\n",
      " 87%|████████▋ | 198/228 [00:25<00:03,  8.24it/s]\u001b[32m [repeated 258x across cluster]\u001b[0m\n",
      "  0%|          | 0/228 [00:00<?, ?it/s]\u001b[32m [repeated 2x across cluster]\u001b[0m\n"
     ]
    },
    {
     "name": "stdout",
     "output_type": "stream",
     "text": [
      "\u001b[2m\u001b[36m(DefaultActor pid=92318)\u001b[0m  Training loss for epoch 3: 0.7972989547670933, accuracy: 0.694078947368421\u001b[32m [repeated 3x across cluster]\u001b[0m\n"
     ]
    },
    {
     "name": "stderr",
     "output_type": "stream",
     "text": [
      " 23%|██▎       | 52/228 [00:06<00:21,  8.08it/s]\u001b[32m [repeated 10x across cluster]\u001b[0m\n",
      "100%|██████████| 228/228 [00:29<00:00,  7.79it/s]\u001b[32m [repeated 60x across cluster]\u001b[0m\n",
      "  4%|▍         | 10/228 [00:01<00:28,  7.77it/s]\u001b[32m [repeated 245x across cluster]\u001b[0m\n",
      "  0%|          | 0/228 [00:00<?, ?it/s]\u001b[32m [repeated 3x across cluster]\u001b[0m\n",
      " 42%|████▏     | 96/228 [00:11<00:15,  8.66it/s]\u001b[32m [repeated 9x across cluster]\u001b[0m\n",
      " 18%|█▊        | 41/228 [00:06<01:03,  2.93it/s]\u001b[32m [repeated 249x across cluster]\u001b[0m\n",
      " 92%|█████████▏| 209/228 [00:25<00:02,  8.63it/s]\n",
      " 92%|█████████▏| 210/228 [00:25<00:02,  8.94it/s]\n",
      " 93%|█████████▎| 211/228 [00:25<00:01,  8.87it/s]\n",
      " 93%|█████████▎| 212/228 [00:26<00:01,  9.16it/s]\n",
      " 93%|█████████▎| 213/228 [00:26<00:01,  8.65it/s]\n",
      " 94%|█████████▍| 214/228 [00:26<00:01,  8.75it/s]\n",
      " 94%|█████████▍| 215/228 [00:26<00:01,  8.72it/s]\n",
      " 95%|█████████▍| 216/228 [00:26<00:01,  8.92it/s]\n",
      " 95%|█████████▌| 217/228 [00:26<00:01,  8.88it/s]\n",
      " 96%|█████████▌| 218/228 [00:26<00:01,  8.89it/s]\n"
     ]
    },
    {
     "name": "stdout",
     "output_type": "stream",
     "text": [
      "\u001b[2m\u001b[36m(DefaultActor pid=92319)\u001b[0m  Training loss for epoch 4: 0.6904310723930075, accuracy: 0.7708333333333334\u001b[32m [repeated 3x across cluster]\u001b[0m\n"
     ]
    },
    {
     "name": "stderr",
     "output_type": "stream",
     "text": [
      " 52%|█████▏    | 118/228 [00:15<00:13,  8.19it/s]\u001b[32m [repeated 5x across cluster]\u001b[0m\n",
      " 36%|███▌      | 82/228 [00:11<00:16,  8.74it/s]\u001b[32m [repeated 265x across cluster]\u001b[0m\n",
      "  0%|          | 0/228 [00:00<?, ?it/s]\n",
      "100%|██████████| 228/228 [00:28<00:00,  8.13it/s]\u001b[32m [repeated 26x across cluster]\u001b[0m\n",
      " 69%|██████▉   | 158/228 [00:20<00:09,  7.75it/s]\n",
      " 50%|████▉     | 113/228 [00:16<00:57,  2.00it/s]\u001b[32m [repeated 202x across cluster]\u001b[0m\n",
      " 86%|████████▌ | 196/228 [00:24<00:05,  6.20it/s]\n",
      "  0%|          | 0/228 [00:00<?, ?it/s]\n",
      " 92%|█████████▏| 209/228 [00:25<00:02,  9.24it/s]\n",
      " 93%|█████████▎| 211/228 [00:26<00:01,  8.87it/s]\n",
      " 93%|█████████▎| 212/228 [00:26<00:01,  8.99it/s]\n",
      " 93%|█████████▎| 213/228 [00:26<00:01,  8.85it/s]\n",
      " 94%|█████████▍| 214/228 [00:26<00:01,  8.78it/s]\n",
      " 94%|█████████▍| 215/228 [00:26<00:01,  8.73it/s]\n",
      " 95%|█████████▍| 216/228 [00:26<00:01,  8.95it/s]\n",
      " 96%|█████████▌| 218/228 [00:26<00:01,  9.05it/s]\n",
      " 96%|█████████▌| 219/228 [00:26<00:00,  9.26it/s]\n",
      " 96%|█████████▋| 220/228 [00:27<00:00,  8.96it/s]\n",
      " 97%|█████████▋| 221/228 [00:27<00:00,  9.22it/s]\n",
      " 98%|█████████▊| 223/228 [00:27<00:00,  9.19it/s]\n",
      " 98%|█████████▊| 224/228 [00:27<00:00,  9.15it/s]\n",
      " 99%|█████████▊| 225/228 [00:27<00:00,  7.74it/s]\n",
      "100%|█████████▉| 227/228 [00:27<00:00,  8.40it/s]\n",
      "100%|██████████| 228/228 [00:27<00:00,  8.16it/s]\n"
     ]
    },
    {
     "name": "stdout",
     "output_type": "stream",
     "text": [
      "\u001b[2m\u001b[36m(DefaultActor pid=92314)\u001b[0m  Training loss for epoch 4: 0.9451896434551791, accuracy: 0.6052631578947368\u001b[32m [repeated 2x across cluster]\u001b[0m\n"
     ]
    },
    {
     "name": "stderr",
     "output_type": "stream",
     "text": [
      " 75%|███████▍  | 170/228 [00:22<00:06,  9.24it/s]\u001b[32m [repeated 275x across cluster]\u001b[0m\n",
      " 86%|████████▋ | 197/228 [00:26<00:03,  8.28it/s]\u001b[32m [repeated 6x across cluster]\u001b[0m\n",
      " 99%|█████████▉| 226/228 [00:29<00:00,  9.92it/s]\u001b[32m [repeated 28x across cluster]\u001b[0m\n",
      " 90%|█████████ | 206/228 [00:26<00:02, 10.77it/s]\u001b[32m [repeated 144x across cluster]\u001b[0m\n"
     ]
    },
    {
     "name": "stdout",
     "output_type": "stream",
     "text": [
      "\u001b[2m\u001b[36m(DefaultActor pid=92318)\u001b[0m  Training loss for epoch 4: 0.7838629088119456, accuracy: 0.700109649122807\u001b[32m [repeated 3x across cluster]\u001b[0m\n"
     ]
    },
    {
     "name": "stderr",
     "output_type": "stream",
     "text": [
      " 72%|███████▏  | 165/228 [00:22<00:06,  9.02it/s]\n",
      "100%|██████████| 228/228 [00:28<00:00,  8.02it/s]\u001b[32m [repeated 32x across cluster]\u001b[0m\n",
      " 83%|████████▎ | 190/228 [00:17<00:02, 16.92it/s]\u001b[32m [repeated 79x across cluster]\u001b[0m\n",
      "  0%|          | 0/228 [00:00<?, ?it/s]\n"
     ]
    },
    {
     "name": "stdout",
     "output_type": "stream",
     "text": [
      "\u001b[2m\u001b[36m(DefaultActor pid=92319)\u001b[0m  Training loss for epoch 0: 1.0379688121509134, accuracy: 0.5663377192982456\u001b[32m [repeated 3x across cluster]\u001b[0m\n"
     ]
    },
    {
     "name": "stderr",
     "output_type": "stream",
     "text": [
      " 97%|█████████▋| 222/228 [00:19<00:00, 16.76it/s]\u001b[32m [repeated 17x across cluster]\u001b[0m\n",
      " 22%|██▏       | 50/228 [00:03<00:12, 14.05it/s]\u001b[32m [repeated 54x across cluster]\u001b[0m\n",
      "  0%|          | 0/228 [00:00<?, ?it/s]\n",
      "100%|██████████| 228/228 [00:19<00:00, 11.58it/s]\u001b[32m [repeated 3x across cluster]\u001b[0m\n",
      " 60%|█████▉    | 136/228 [00:08<00:05, 17.25it/s]\u001b[32m [repeated 84x across cluster]\u001b[0m\n",
      " 92%|█████████▏| 210/228 [00:13<00:01, 15.53it/s]\n",
      " 93%|█████████▎| 212/228 [00:13<00:01, 15.61it/s]\n",
      " 94%|█████████▍| 214/228 [00:13<00:00, 16.07it/s]\n",
      " 95%|█████████▍| 216/228 [00:13<00:00, 16.45it/s]\n",
      " 85%|████████▌ | 194/228 [00:12<00:02, 15.78it/s]\u001b[32m [repeated 75x across cluster]\u001b[0m\n",
      " 96%|█████████▌| 218/228 [00:13<00:00, 16.61it/s]\n",
      " 96%|█████████▋| 220/228 [00:13<00:00, 16.77it/s]\n",
      " 97%|█████████▋| 222/228 [00:13<00:00, 16.90it/s]\n",
      " 98%|█████████▊| 224/228 [00:14<00:00, 16.50it/s]\n",
      " 99%|█████████▉| 226/228 [00:14<00:00, 16.53it/s]\n",
      "100%|██████████| 228/228 [00:14<00:00, 15.86it/s]\n",
      "  0%|          | 0/228 [00:00<?, ?it/s]\n"
     ]
    },
    {
     "name": "stdout",
     "output_type": "stream",
     "text": [
      "\u001b[2m\u001b[36m(DefaultActor pid=92319)\u001b[0m  Training loss for epoch 1: 1.0179878656278576, accuracy: 0.5759320175438597\u001b[32m [repeated 2x across cluster]\u001b[0m\n"
     ]
    },
    {
     "name": "stderr",
     "output_type": "stream",
     "text": [
      "100%|██████████| 228/228 [00:14<00:00, 15.37it/s]\u001b[32m [repeated 10x across cluster]\u001b[0m\n",
      " 32%|███▏      | 72/228 [00:04<00:09, 16.62it/s]\u001b[32m [repeated 68x across cluster]\u001b[0m\n",
      "  0%|          | 0/228 [00:00<?, ?it/s]\n",
      " 70%|███████   | 160/228 [00:09<00:03, 17.21it/s]\u001b[32m [repeated 86x across cluster]\u001b[0m\n",
      " 92%|█████████▏| 210/228 [00:12<00:01, 16.86it/s]\n",
      " 93%|█████████▎| 212/228 [00:12<00:00, 16.73it/s]\n",
      " 94%|█████████▍| 214/228 [00:12<00:00, 17.00it/s]\n",
      " 95%|█████████▍| 216/228 [00:12<00:00, 16.95it/s]\n",
      " 96%|█████████▌| 218/228 [00:12<00:00, 16.66it/s]\n",
      " 96%|█████████▋| 220/228 [00:12<00:00, 16.83it/s]\n",
      " 97%|█████████▋| 222/228 [00:13<00:00, 16.95it/s]\n",
      " 98%|█████████▊| 224/228 [00:13<00:00, 17.06it/s]\n",
      " 99%|█████████▉| 226/228 [00:13<00:00, 17.52it/s]\n",
      "100%|██████████| 228/228 [00:13<00:00, 17.01it/s]\n",
      "  0%|          | 0/228 [00:00<?, ?it/s]\n"
     ]
    },
    {
     "name": "stdout",
     "output_type": "stream",
     "text": [
      "\u001b[2m\u001b[36m(DefaultActor pid=92319)\u001b[0m  Training loss for epoch 2: 1.027056746184826, accuracy: 0.5638706140350878\u001b[32m [repeated 2x across cluster]\u001b[0m\n"
     ]
    },
    {
     "name": "stderr",
     "output_type": "stream",
     "text": [
      "  8%|▊         | 18/228 [00:01<00:12, 17.26it/s]\u001b[32m [repeated 70x across cluster]\u001b[0m\n",
      "100%|██████████| 228/228 [00:13<00:00, 16.54it/s]\u001b[32m [repeated 10x across cluster]\u001b[0m\n",
      "  0%|          | 0/228 [00:00<?, ?it/s]\n",
      " 45%|████▍     | 102/228 [00:06<00:07, 17.03it/s]\u001b[32m [repeated 77x across cluster]\u001b[0m\n",
      " 82%|████████▏ | 186/228 [00:11<00:02, 17.04it/s]\u001b[32m [repeated 83x across cluster]\u001b[0m\n",
      " 92%|█████████▏| 210/228 [00:12<00:01, 17.17it/s]\n",
      " 93%|█████████▎| 212/228 [00:12<00:00, 17.30it/s]\n",
      " 94%|█████████▍| 214/228 [00:12<00:00, 17.14it/s]\n",
      " 95%|█████████▍| 216/228 [00:12<00:00, 16.91it/s]\n",
      " 96%|█████████▌| 218/228 [00:13<00:00, 16.88it/s]\n",
      " 96%|█████████▋| 220/228 [00:13<00:00, 16.76it/s]\n",
      " 97%|█████████▋| 222/228 [00:13<00:00, 16.68it/s]\n",
      " 98%|█████████▊| 224/228 [00:13<00:00, 17.13it/s]\n",
      " 99%|█████████▉| 226/228 [00:13<00:00, 17.17it/s]\n",
      "100%|██████████| 228/228 [00:13<00:00, 16.66it/s]\n",
      "  0%|          | 0/228 [00:00<?, ?it/s]\n"
     ]
    },
    {
     "name": "stdout",
     "output_type": "stream",
     "text": [
      "\u001b[2m\u001b[36m(DefaultActor pid=92319)\u001b[0m  Training loss for epoch 3: 1.021568611002805, accuracy: 0.5734649122807017\u001b[32m [repeated 2x across cluster]\u001b[0m\n"
     ]
    },
    {
     "name": "stderr",
     "output_type": "stream",
     "text": [
      " 18%|█▊        | 40/228 [00:02<00:11, 16.88it/s]\u001b[32m [repeated 60x across cluster]\u001b[0m\n",
      "100%|██████████| 228/228 [00:14<00:00, 15.77it/s]\u001b[32m [repeated 10x across cluster]\u001b[0m\n",
      "  0%|          | 0/228 [00:00<?, ?it/s]\n",
      " 54%|█████▍    | 124/228 [00:07<00:06, 16.62it/s]\u001b[32m [repeated 84x across cluster]\u001b[0m\n",
      " 92%|█████████▏| 210/228 [00:12<00:01, 17.28it/s]\n",
      " 93%|█████████▎| 212/228 [00:12<00:00, 17.52it/s]\n",
      " 74%|███████▎  | 168/228 [00:10<00:03, 16.34it/s]\u001b[32m [repeated 83x across cluster]\u001b[0m\n",
      " 94%|█████████▍| 214/228 [00:12<00:00, 17.26it/s]\n",
      " 95%|█████████▍| 216/228 [00:12<00:00, 17.22it/s]\n",
      " 96%|█████████▌| 218/228 [00:13<00:00, 17.06it/s]\n",
      " 96%|█████████▋| 220/228 [00:13<00:00, 16.61it/s]\n",
      " 97%|█████████▋| 222/228 [00:13<00:00, 16.62it/s]\n",
      " 98%|█████████▊| 224/228 [00:13<00:00, 16.77it/s]\n",
      " 99%|█████████▉| 226/228 [00:13<00:00, 16.94it/s]\n",
      "100%|██████████| 228/228 [00:13<00:00, 16.63it/s]\n"
     ]
    },
    {
     "name": "stdout",
     "output_type": "stream",
     "text": [
      "\u001b[2m\u001b[36m(DefaultActor pid=92319)\u001b[0m  Training loss for epoch 4: 1.051126004964636, accuracy: 0.5638706140350878\u001b[32m [repeated 2x across cluster]\u001b[0m\n"
     ]
    },
    {
     "name": "stderr",
     "output_type": "stream",
     "text": [
      "DEBUG flwr 2023-11-09 13:22:43,211 | server.py:236 | fit_round 23 received 10 results and 0 failures\n",
      "DEBUG:flwr:fit_round 23 received 10 results and 0 failures\n"
     ]
    },
    {
     "name": "stdout",
     "output_type": "stream",
     "text": [
      "Saving round 23 aggregated_parameters...\n",
      "Saved round 23 aggregated_parameters!\n"
     ]
    },
    {
     "name": "stderr",
     "output_type": "stream",
     "text": [
      "INFO flwr 2023-11-09 13:22:43,266 | server.py:171 | evaluate_round 23: no clients selected, cancel\n",
      "INFO:flwr:evaluate_round 23: no clients selected, cancel\n",
      "DEBUG flwr 2023-11-09 13:22:43,266 | server.py:222 | fit_round 24: strategy sampled 10 clients (out of 40)\n",
      "DEBUG:flwr:fit_round 24: strategy sampled 10 clients (out of 40)\n",
      "  0%|          | 0/228 [00:00<?, ?it/s]\n",
      "100%|██████████| 228/228 [00:13<00:00, 16.54it/s]\u001b[32m [repeated 10x across cluster]\u001b[0m\n",
      " 91%|█████████ | 208/228 [00:12<00:01, 17.40it/s]\u001b[32m [repeated 20x across cluster]\u001b[0m\n",
      "  0%|          | 0/228 [00:00<?, ?it/s]\u001b[32m [repeated 3x across cluster]\u001b[0m\n",
      " 10%|█         | 23/228 [00:02<00:18, 11.15it/s]\u001b[32m [repeated 69x across cluster]\u001b[0m\n",
      " 10%|█         | 23/228 [00:02<00:21,  9.34it/s]\n",
      "  0%|          | 0/228 [00:00<?, ?it/s]\u001b[32m [repeated 3x across cluster]\u001b[0m\n",
      " 27%|██▋       | 61/228 [00:05<00:19,  8.46it/s]\u001b[32m [repeated 156x across cluster]\u001b[0m\n",
      " 18%|█▊        | 40/228 [00:05<00:20,  9.05it/s]\u001b[32m [repeated 4x across cluster]\u001b[0m\n",
      "  0%|          | 0/228 [00:00<?, ?it/s]\n",
      " 58%|█████▊    | 133/228 [00:14<00:11,  8.59it/s]\u001b[32m [repeated 222x across cluster]\u001b[0m\n",
      " 71%|███████   | 161/228 [00:17<00:07,  8.39it/s]\u001b[32m [repeated 10x across cluster]\u001b[0m\n",
      " 78%|███████▊  | 177/228 [00:19<00:05,  8.52it/s]\u001b[32m [repeated 298x across cluster]\u001b[0m\n",
      " 92%|█████████▏| 209/228 [00:22<00:02,  8.92it/s]\n",
      " 92%|█████████▏| 210/228 [00:22<00:02,  8.71it/s]\n",
      " 93%|█████████▎| 211/228 [00:22<00:01,  8.53it/s]\n",
      " 93%|█████████▎| 213/228 [00:22<00:01,  9.33it/s]\n",
      " 94%|█████████▍| 214/228 [00:22<00:01,  9.03it/s]\n",
      " 94%|█████████▍| 215/228 [00:22<00:01,  8.73it/s]\n",
      " 95%|█████████▍| 216/228 [00:23<00:01,  8.65it/s]\n",
      " 95%|█████████▌| 217/228 [00:23<00:01,  8.94it/s]\n",
      " 96%|█████████▌| 218/228 [00:23<00:01,  8.92it/s]\n",
      " 96%|█████████▌| 219/228 [00:23<00:01,  8.91it/s]\n",
      " 96%|█████████▋| 220/228 [00:23<00:00,  9.09it/s]\n",
      " 97%|█████████▋| 222/228 [00:23<00:00, 10.05it/s]\n",
      " 98%|█████████▊| 224/228 [00:23<00:00, 10.39it/s]\n",
      "  0%|          | 0/228 [00:00<?, ?it/s]\n"
     ]
    },
    {
     "name": "stdout",
     "output_type": "stream",
     "text": [
      "\u001b[2m\u001b[36m(DefaultActor pid=92320)\u001b[0m  Training loss for epoch 0: 1.5932660897572835, accuracy: 0.3588267543859649\u001b[32m [repeated 2x across cluster]\u001b[0m\n"
     ]
    },
    {
     "name": "stderr",
     "output_type": "stream",
     "text": [
      " 45%|████▌     | 103/228 [00:13<00:14,  8.89it/s]\u001b[32m [repeated 4x across cluster]\u001b[0m\n",
      " 80%|███████▉  | 182/228 [00:22<00:05,  7.75it/s]\u001b[32m [repeated 283x across cluster]\u001b[0m\n",
      "100%|██████████| 228/228 [00:25<00:00,  9.06it/s]\u001b[32m [repeated 20x across cluster]\u001b[0m\n",
      "  0%|          | 0/228 [00:00<?, ?it/s]\n",
      " 76%|███████▌  | 173/228 [00:22<00:06,  8.35it/s]\u001b[32m [repeated 12x across cluster]\u001b[0m\n",
      " 66%|██████▌   | 150/228 [00:19<00:10,  7.63it/s]\u001b[32m [repeated 271x across cluster]\u001b[0m\n",
      "  0%|          | 0/228 [00:00<?, ?it/s]\n"
     ]
    },
    {
     "name": "stdout",
     "output_type": "stream",
     "text": [
      "\u001b[2m\u001b[36m(DefaultActor pid=92317)\u001b[0m  Training loss for epoch 0: 0.8519879504384702, accuracy: 0.6787280701754386\u001b[32m [repeated 2x across cluster]\u001b[0m\n"
     ]
    },
    {
     "name": "stderr",
     "output_type": "stream",
     "text": [
      " 99%|█████████▊| 225/228 [00:28<00:00,  7.67it/s]\u001b[32m [repeated 37x across cluster]\u001b[0m\n",
      " 78%|███████▊  | 178/228 [00:22<00:06,  7.91it/s]\u001b[32m [repeated 3x across cluster]\u001b[0m\n",
      " 14%|█▍        | 33/228 [00:04<00:26,  7.43it/s]\u001b[32m [repeated 267x across cluster]\u001b[0m\n",
      "  0%|          | 0/228 [00:00<?, ?it/s]\n",
      "  0%|          | 0/228 [00:00<?, ?it/s]\n"
     ]
    },
    {
     "name": "stdout",
     "output_type": "stream",
     "text": [
      "\u001b[2m\u001b[36m(DefaultActor pid=92316)\u001b[0m  Training loss for epoch 0: 0.7731138715487823, accuracy: 0.694078947368421\u001b[32m [repeated 2x across cluster]\u001b[0m\n"
     ]
    },
    {
     "name": "stderr",
     "output_type": "stream",
     "text": [
      " 96%|█████████▌| 218/228 [00:29<00:01,  7.75it/s]\u001b[32m [repeated 50x across cluster]\u001b[0m\n",
      " 47%|████▋     | 107/228 [00:12<00:13,  9.11it/s]\u001b[32m [repeated 5x across cluster]\u001b[0m\n",
      " 11%|█         | 25/228 [00:03<01:01,  3.32it/s]\u001b[32m [repeated 230x across cluster]\u001b[0m\n",
      "  0%|          | 0/228 [00:00<?, ?it/s]\u001b[32m [repeated 3x across cluster]\u001b[0m\n",
      "100%|██████████| 228/228 [00:28<00:00,  7.91it/s]\u001b[32m [repeated 28x across cluster]\u001b[0m\n",
      " 31%|███       | 71/228 [00:09<00:17,  9.09it/s]\u001b[32m [repeated 3x across cluster]\u001b[0m\n",
      " 49%|████▊     | 111/228 [00:14<00:14,  8.24it/s]\u001b[32m [repeated 288x across cluster]\u001b[0m\n",
      " 92%|█████████▏| 209/228 [00:24<00:02,  8.05it/s]\n",
      " 92%|█████████▏| 210/228 [00:25<00:02,  8.14it/s]\n",
      " 93%|█████████▎| 211/228 [00:25<00:02,  7.76it/s]\n",
      " 93%|█████████▎| 213/228 [00:25<00:01,  8.49it/s]\n",
      " 94%|█████████▍| 215/228 [00:25<00:01,  8.78it/s]\n",
      " 95%|█████████▌| 217/228 [00:26<00:02,  4.28it/s]\n",
      " 78%|███████▊  | 178/228 [00:21<00:05,  8.37it/s]\u001b[32m [repeated 3x across cluster]\u001b[0m\n",
      " 86%|████████▌ | 195/228 [00:24<00:10,  3.13it/s]\u001b[32m [repeated 262x across cluster]\u001b[0m\n",
      " 96%|█████████▌| 218/228 [00:26<00:02,  4.77it/s]\n",
      " 96%|█████████▌| 219/228 [00:26<00:01,  5.12it/s]\n",
      " 96%|█████████▋| 220/228 [00:26<00:01,  5.75it/s]\n",
      " 97%|█████████▋| 221/228 [00:27<00:01,  6.22it/s]\n",
      " 97%|█████████▋| 222/228 [00:27<00:00,  6.50it/s]\n",
      " 98%|█████████▊| 223/228 [00:27<00:00,  7.15it/s]\n",
      " 98%|█████████▊| 224/228 [00:27<00:00,  6.69it/s]\n",
      " 99%|█████████▊| 225/228 [00:27<00:00,  6.68it/s]\n",
      " 99%|█████████▉| 226/228 [00:27<00:00,  5.47it/s]\n",
      "100%|██████████| 228/228 [00:28<00:00,  8.13it/s]\n",
      "  0%|          | 0/228 [00:00<?, ?it/s]\n"
     ]
    },
    {
     "name": "stdout",
     "output_type": "stream",
     "text": [
      "\u001b[2m\u001b[36m(DefaultActor pid=92320)\u001b[0m  Training loss for epoch 1: 1.544203248724603, accuracy: 0.35855263157894735\u001b[32m [repeated 4x across cluster]\u001b[0m\n"
     ]
    },
    {
     "name": "stderr",
     "output_type": "stream",
     "text": [
      " 97%|█████████▋| 221/228 [00:27<00:00,  7.77it/s]\u001b[32m [repeated 13x across cluster]\u001b[0m\n",
      " 79%|███████▉  | 181/228 [00:24<00:05,  8.19it/s]\u001b[32m [repeated 4x across cluster]\u001b[0m\n",
      " 81%|████████  | 184/228 [00:24<00:05,  7.62it/s]\u001b[32m [repeated 256x across cluster]\u001b[0m\n",
      "  0%|          | 0/228 [00:00<?, ?it/s]\n",
      " 93%|█████████▎| 212/228 [00:28<00:01,  8.01it/s]\u001b[32m [repeated 11x across cluster]\u001b[0m\n",
      " 89%|████████▉ | 203/228 [00:24<00:02,  9.56it/s]\u001b[32m [repeated 4x across cluster]\u001b[0m\n",
      " 79%|███████▊  | 179/228 [00:23<00:06,  7.99it/s]\u001b[32m [repeated 294x across cluster]\u001b[0m\n",
      "  0%|          | 0/228 [00:00<?, ?it/s]\n"
     ]
    },
    {
     "name": "stdout",
     "output_type": "stream",
     "text": [
      "\u001b[2m\u001b[36m(DefaultActor pid=92317)\u001b[0m  Training loss for epoch 1: 0.7934338934719563, accuracy: 0.6924342105263158\u001b[32m [repeated 2x across cluster]\u001b[0m\n"
     ]
    },
    {
     "name": "stderr",
     "output_type": "stream",
     "text": [
      "100%|██████████| 228/228 [00:27<00:00,  8.32it/s]\u001b[32m [repeated 51x across cluster]\u001b[0m\n",
      " 47%|████▋     | 108/228 [00:12<00:12,  9.25it/s]\u001b[32m [repeated 6x across cluster]\u001b[0m\n",
      " 17%|█▋        | 39/228 [00:04<00:24,  7.73it/s]\u001b[32m [repeated 257x across cluster]\u001b[0m\n",
      "  0%|          | 0/228 [00:00<?, ?it/s]\u001b[32m [repeated 2x across cluster]\u001b[0m\n"
     ]
    },
    {
     "name": "stdout",
     "output_type": "stream",
     "text": [
      "\u001b[2m\u001b[36m(DefaultActor pid=92318)\u001b[0m  Training loss for epoch 1: 0.35434374571042626, accuracy: 0.9004934210526315\u001b[32m [repeated 3x across cluster]\u001b[0m\n"
     ]
    },
    {
     "name": "stderr",
     "output_type": "stream",
     "text": [
      "100%|██████████| 228/228 [00:29<00:00,  7.83it/s]\u001b[32m [repeated 55x across cluster]\u001b[0m\n",
      " 64%|██████▎   | 145/228 [00:16<00:08,  9.27it/s]\u001b[32m [repeated 5x across cluster]\u001b[0m\n",
      " 27%|██▋       | 61/228 [00:07<00:39,  4.25it/s]\u001b[32m [repeated 227x across cluster]\u001b[0m\n",
      "  0%|          | 0/228 [00:00<?, ?it/s]\u001b[32m [repeated 3x across cluster]\u001b[0m\n",
      " 91%|█████████ | 207/228 [00:23<00:02,  9.08it/s]\u001b[32m [repeated 8x across cluster]\u001b[0m\n",
      " 51%|█████     | 116/228 [00:14<00:13,  8.35it/s]\u001b[32m [repeated 312x across cluster]\u001b[0m\n",
      " 92%|█████████▏| 209/228 [00:23<00:02,  9.32it/s]\n",
      " 92%|█████████▏| 210/228 [00:23<00:01,  9.24it/s]\n",
      " 93%|█████████▎| 211/228 [00:24<00:01,  9.08it/s]\n",
      " 93%|█████████▎| 212/228 [00:24<00:01,  9.10it/s]\n",
      " 94%|█████████▍| 214/228 [00:24<00:01,  9.39it/s]\n",
      " 95%|█████████▍| 216/228 [00:24<00:01,  9.24it/s]\n",
      " 96%|█████████▌| 218/228 [00:24<00:01,  9.29it/s]\n",
      " 96%|█████████▋| 220/228 [00:24<00:00,  9.37it/s]\n",
      " 97%|█████████▋| 221/228 [00:25<00:00,  9.39it/s]\n",
      " 98%|█████████▊| 223/228 [00:25<00:00,  9.60it/s]\n",
      " 98%|█████████▊| 224/228 [00:25<00:00,  9.64it/s]\n",
      " 99%|█████████▊| 225/228 [00:25<00:00,  9.44it/s]\n",
      " 99%|█████████▉| 226/228 [00:25<00:00,  9.57it/s]\n",
      "100%|█████████▉| 227/228 [00:25<00:00,  9.60it/s]\n",
      "100%|██████████| 228/228 [00:25<00:00,  8.82it/s]\n",
      "  0%|          | 0/228 [00:00<?, ?it/s]\n"
     ]
    },
    {
     "name": "stdout",
     "output_type": "stream",
     "text": [
      "\u001b[2m\u001b[36m(DefaultActor pid=92320)\u001b[0m  Training loss for epoch 2: 1.5399631583376934, accuracy: 0.36101973684210525\u001b[32m [repeated 3x across cluster]\u001b[0m\n"
     ]
    },
    {
     "name": "stderr",
     "output_type": "stream",
     "text": [
      " 34%|███▍      | 77/228 [00:09<00:17,  8.46it/s]\u001b[32m [repeated 2x across cluster]\u001b[0m\n",
      " 68%|██████▊   | 154/228 [00:19<00:11,  6.50it/s]\u001b[32m [repeated 245x across cluster]\u001b[0m\n",
      " 98%|█████████▊| 223/228 [00:26<00:00,  6.93it/s]\u001b[32m [repeated 13x across cluster]\u001b[0m\n",
      "  0%|          | 0/228 [00:00<?, ?it/s]\n",
      " 29%|██▊       | 65/228 [00:07<00:18,  8.67it/s]\u001b[32m [repeated 7x across cluster]\u001b[0m\n",
      " 86%|████████▌ | 196/228 [00:24<00:03,  8.45it/s]\u001b[32m [repeated 303x across cluster]\u001b[0m\n",
      "100%|██████████| 228/228 [00:26<00:00,  8.58it/s]\u001b[32m [repeated 4x across cluster]\u001b[0m\n"
     ]
    },
    {
     "name": "stdout",
     "output_type": "stream",
     "text": [
      "\u001b[2m\u001b[36m(DefaultActor pid=92316)\u001b[0m  Training loss for epoch 2: 0.7639663507671732, accuracy: 0.6927083333333334\u001b[32m [repeated 2x across cluster]\u001b[0m\n"
     ]
    },
    {
     "name": "stderr",
     "output_type": "stream",
     "text": [
      "  0%|          | 0/228 [00:00<?, ?it/s]\n",
      " 49%|████▉     | 112/228 [00:12<00:13,  8.90it/s]\u001b[32m [repeated 4x across cluster]\u001b[0m\n",
      "  4%|▍         | 9/228 [00:01<00:27,  8.10it/s]\u001b[32m [repeated 260x across cluster]\u001b[0m\n",
      " 98%|█████████▊| 224/228 [00:28<00:00,  8.44it/s]\u001b[32m [repeated 54x across cluster]\u001b[0m\n",
      "  0%|          | 0/228 [00:00<?, ?it/s]\u001b[32m [repeated 2x across cluster]\u001b[0m\n"
     ]
    },
    {
     "name": "stdout",
     "output_type": "stream",
     "text": [
      "\u001b[2m\u001b[36m(DefaultActor pid=92318)\u001b[0m  Training loss for epoch 2: 0.3456844963509132, accuracy: 0.9021381578947368\u001b[32m [repeated 3x across cluster]\u001b[0m\n"
     ]
    },
    {
     "name": "stderr",
     "output_type": "stream",
     "text": [
      " 82%|████████▏ | 188/228 [00:23<00:04,  8.39it/s]\u001b[32m [repeated 3x across cluster]\u001b[0m\n",
      "  4%|▍         | 9/228 [00:01<00:26,  8.13it/s]\u001b[32m [repeated 269x across cluster]\u001b[0m\n",
      " 96%|█████████▌| 218/228 [00:27<00:01,  7.96it/s]\u001b[32m [repeated 43x across cluster]\u001b[0m\n",
      "  0%|          | 0/228 [00:00<?, ?it/s]\u001b[32m [repeated 3x across cluster]\u001b[0m\n",
      " 86%|████████▌ | 196/228 [00:21<00:03,  9.22it/s]\u001b[32m [repeated 3x across cluster]\u001b[0m\n",
      " 39%|███▊      | 88/228 [00:11<00:23,  6.03it/s]\u001b[32m [repeated 259x across cluster]\u001b[0m\n",
      "100%|██████████| 228/228 [00:29<00:00,  7.85it/s]\u001b[32m [repeated 18x across cluster]\u001b[0m\n"
     ]
    },
    {
     "name": "stdout",
     "output_type": "stream",
     "text": [
      "\u001b[2m\u001b[36m(DefaultActor pid=92320)\u001b[0m  Training loss for epoch 3: 1.5439307281845494, accuracy: 0.35827850877192985\u001b[32m [repeated 3x across cluster]\u001b[0m\n"
     ]
    },
    {
     "name": "stderr",
     "output_type": "stream",
     "text": [
      "  0%|          | 0/228 [00:00<?, ?it/s]\n",
      " 50%|█████     | 115/228 [00:14<00:13,  8.35it/s]\u001b[32m [repeated 6x across cluster]\u001b[0m\n",
      " 57%|█████▋    | 130/228 [00:16<00:11,  8.33it/s]\u001b[32m [repeated 286x across cluster]\u001b[0m\n",
      " 95%|█████████▍| 216/228 [00:24<00:01,  9.00it/s]\u001b[32m [repeated 21x across cluster]\u001b[0m\n",
      "  0%|          | 0/228 [00:00<?, ?it/s]\n",
      " 15%|█▌        | 35/228 [00:03<00:21,  9.13it/s]\u001b[32m [repeated 3x across cluster]\u001b[0m\n",
      " 73%|███████▎  | 166/228 [00:21<00:09,  6.24it/s]\u001b[32m [repeated 257x across cluster]\u001b[0m\n",
      "100%|██████████| 228/228 [00:26<00:00,  8.69it/s]\u001b[32m [repeated 12x across cluster]\u001b[0m\n"
     ]
    },
    {
     "name": "stdout",
     "output_type": "stream",
     "text": [
      "\u001b[2m\u001b[36m(DefaultActor pid=92316)\u001b[0m  Training loss for epoch 3: 0.755817995913196, accuracy: 0.6995614035087719\u001b[32m [repeated 2x across cluster]\u001b[0m\n"
     ]
    },
    {
     "name": "stderr",
     "output_type": "stream",
     "text": [
      "  0%|          | 0/228 [00:00<?, ?it/s]\n",
      " 47%|████▋     | 107/228 [00:12<00:12,  9.36it/s]\u001b[32m [repeated 8x across cluster]\u001b[0m\n",
      " 91%|█████████ | 208/228 [00:26<00:02,  8.55it/s]\u001b[32m [repeated 296x across cluster]\u001b[0m\n",
      " 92%|█████████▏| 210/228 [00:26<00:02,  8.46it/s]\u001b[32m [repeated 19x across cluster]\u001b[0m\n",
      "  0%|          | 0/228 [00:00<?, ?it/s]\n",
      "  0%|          | 0/228 [00:00<?, ?it/s]\n"
     ]
    },
    {
     "name": "stdout",
     "output_type": "stream",
     "text": [
      "\u001b[2m\u001b[36m(DefaultActor pid=92313)\u001b[0m  Training loss for epoch 3: 0.4277728698298074, accuracy: 0.8415570175438597\u001b[32m [repeated 2x across cluster]\u001b[0m\n"
     ]
    },
    {
     "name": "stderr",
     "output_type": "stream",
     "text": [
      " 19%|█▉        | 44/228 [00:04<00:19,  9.32it/s]\u001b[32m [repeated 5x across cluster]\u001b[0m\n",
      "  9%|▉         | 21/228 [00:02<00:24,  8.29it/s]\u001b[32m [repeated 270x across cluster]\u001b[0m\n",
      " 93%|█████████▎| 211/228 [00:26<00:02,  6.56it/s]\u001b[32m [repeated 40x across cluster]\u001b[0m\n",
      "  0%|          | 0/228 [00:00<?, ?it/s]\u001b[32m [repeated 2x across cluster]\u001b[0m\n",
      " 42%|████▏     | 95/228 [00:10<00:13,  9.58it/s]\u001b[32m [repeated 3x across cluster]\u001b[0m\n",
      " 28%|██▊       | 63/228 [00:07<00:20,  7.97it/s]\u001b[32m [repeated 256x across cluster]\u001b[0m\n",
      "100%|█████████▉| 227/228 [00:29<00:00,  8.16it/s]\u001b[32m [repeated 54x across cluster]\u001b[0m\n"
     ]
    },
    {
     "name": "stdout",
     "output_type": "stream",
     "text": [
      "\u001b[2m\u001b[36m(DefaultActor pid=92315)\u001b[0m  Training loss for epoch 3: 0.639145323255083, accuracy: 0.7535635964912281\u001b[32m [repeated 3x across cluster]\u001b[0m\n"
     ]
    },
    {
     "name": "stderr",
     "output_type": "stream",
     "text": [
      "  0%|          | 0/228 [00:00<?, ?it/s]\n",
      " 16%|█▌        | 36/228 [00:04<00:21,  8.86it/s]\u001b[32m [repeated 3x across cluster]\u001b[0m\n",
      " 44%|████▍     | 100/228 [00:12<00:17,  7.47it/s]\u001b[32m [repeated 253x across cluster]\u001b[0m\n",
      "100%|██████████| 228/228 [00:25<00:00,  9.01it/s]\u001b[32m [repeated 16x across cluster]\u001b[0m\n",
      "  0%|          | 0/228 [00:00<?, ?it/s]\n"
     ]
    },
    {
     "name": "stdout",
     "output_type": "stream",
     "text": [
      "\u001b[2m\u001b[36m(DefaultActor pid=92319)\u001b[0m  Training loss for epoch 4: 0.5794833782210684, accuracy: 0.7867324561403509\u001b[32m [repeated 2x across cluster]\u001b[0m\n"
     ]
    },
    {
     "name": "stderr",
     "output_type": "stream",
     "text": [
      " 52%|█████▏    | 118/228 [00:14<00:12,  8.62it/s]\u001b[32m [repeated 3x across cluster]\u001b[0m\n",
      " 41%|████      | 94/228 [00:11<00:13,  9.90it/s]\u001b[32m [repeated 265x across cluster]\u001b[0m\n",
      "100%|██████████| 228/228 [00:26<00:00,  8.63it/s]\u001b[32m [repeated 16x across cluster]\u001b[0m\n",
      "  0%|          | 0/228 [00:00<?, ?it/s]\n"
     ]
    },
    {
     "name": "stdout",
     "output_type": "stream",
     "text": [
      "\u001b[2m\u001b[36m(DefaultActor pid=92316)\u001b[0m  Training loss for epoch 4: 0.7448311800365908, accuracy: 0.7033991228070176\n"
     ]
    },
    {
     "name": "stderr",
     "output_type": "stream",
     "text": [
      " 69%|██████▉   | 157/228 [00:19<00:08,  8.56it/s]\u001b[32m [repeated 7x across cluster]\u001b[0m\n",
      " 78%|███████▊  | 177/228 [00:22<00:09,  5.31it/s]\u001b[32m [repeated 209x across cluster]\u001b[0m\n",
      "100%|██████████| 228/228 [00:26<00:00,  8.73it/s]\u001b[32m [repeated 17x across cluster]\u001b[0m\n",
      " 62%|██████▏   | 141/228 [00:17<00:10,  8.34it/s]\n",
      " 68%|██████▊   | 156/228 [00:19<00:07,  9.21it/s]\u001b[32m [repeated 236x across cluster]\u001b[0m\n",
      " 97%|█████████▋| 222/228 [00:27<00:00,  8.35it/s]\u001b[32m [repeated 13x across cluster]\u001b[0m\n"
     ]
    },
    {
     "name": "stdout",
     "output_type": "stream",
     "text": [
      "\u001b[2m\u001b[36m(DefaultActor pid=92317)\u001b[0m  Training loss for epoch 4: 0.7853810107498839, accuracy: 0.6970942982456141\n"
     ]
    },
    {
     "name": "stderr",
     "output_type": "stream",
     "text": [
      "\u001b[2m\u001b[36m(DefaultActor pid=92319)\u001b[0m \r",
      " 57%|█████▋    | 130/228 [00:13<00:06, 14.16it/s]\u001b[32m [repeated 124x across cluster]\u001b[0m\n",
      "\u001b[2m\u001b[36m(DefaultActor pid=92315)\u001b[0m \r",
      " 93%|█████████▎| 211/228 [00:25<00:01, 12.54it/s]\u001b[32m [repeated 38x across cluster]\u001b[0m\n"
     ]
    },
    {
     "name": "stdout",
     "output_type": "stream",
     "text": [
      "\u001b[2m\u001b[36m(DefaultActor pid=92315)\u001b[0m  Training loss for epoch 4: 0.6458357997696128, accuracy: 0.7524671052631579\u001b[32m [repeated 4x across cluster]\u001b[0m\n"
     ]
    },
    {
     "name": "stderr",
     "output_type": "stream",
     "text": [
      "  0%|          | 0/228 [00:00<?, ?it/s]\n",
      " 13%|█▎        | 30/228 [00:01<00:11, 16.71it/s]\u001b[32m [repeated 68x across cluster]\u001b[0m\n",
      " 94%|█████████▍| 214/228 [00:18<00:00, 16.85it/s]\u001b[32m [repeated 22x across cluster]\u001b[0m\n",
      "  0%|          | 0/228 [00:00<?, ?it/s]\n",
      " 30%|██▉       | 68/228 [00:04<00:09, 16.74it/s]\u001b[32m [repeated 75x across cluster]\u001b[0m\n",
      "100%|██████████| 228/228 [00:19<00:00, 11.82it/s]\u001b[32m [repeated 7x across cluster]\u001b[0m\n",
      " 68%|██████▊   | 154/228 [00:09<00:04, 16.99it/s]\u001b[32m [repeated 85x across cluster]\u001b[0m\n",
      " 92%|█████████▏| 210/228 [00:13<00:02,  7.06it/s]\n",
      " 93%|█████████▎| 212/228 [00:13<00:02,  7.20it/s]\n",
      " 94%|█████████▍| 214/228 [00:13<00:01,  8.16it/s]\n",
      " 95%|█████████▍| 216/228 [00:13<00:01,  9.58it/s]\n",
      " 96%|█████████▌| 218/228 [00:13<00:00, 11.04it/s]\n",
      " 96%|█████████▋| 220/228 [00:14<00:00, 12.35it/s]\n",
      " 97%|█████████▋| 222/228 [00:14<00:00, 13.25it/s]\n",
      " 98%|█████████▊| 224/228 [00:14<00:00, 14.12it/s]\n",
      " 99%|█████████▉| 226/228 [00:14<00:00, 14.94it/s]\n",
      "100%|██████████| 228/228 [00:14<00:00, 15.74it/s]\n",
      "  0%|          | 0/228 [00:00<?, ?it/s]\n"
     ]
    },
    {
     "name": "stdout",
     "output_type": "stream",
     "text": [
      "\u001b[2m\u001b[36m(DefaultActor pid=92320)\u001b[0m  Training loss for epoch 1: 0.9155100071639345, accuracy: 0.6392543859649122\u001b[32m [repeated 3x across cluster]\u001b[0m\n"
     ]
    },
    {
     "name": "stderr",
     "output_type": "stream",
     "text": [
      " 18%|█▊        | 40/228 [00:02<00:11, 16.15it/s]\u001b[32m [repeated 53x across cluster]\u001b[0m\n",
      "100%|██████████| 228/228 [00:14<00:00, 15.50it/s]\u001b[32m [repeated 10x across cluster]\u001b[0m\n",
      "  0%|          | 0/228 [00:00<?, ?it/s]\n",
      " 33%|███▎      | 76/228 [00:04<00:09, 16.15it/s]\u001b[32m [repeated 79x across cluster]\u001b[0m\n",
      " 89%|████████▊ | 202/228 [00:12<00:01, 16.77it/s]\u001b[32m [repeated 79x across cluster]\u001b[0m\n",
      " 92%|█████████▏| 210/228 [00:13<00:01, 16.72it/s]\n",
      " 93%|█████████▎| 212/228 [00:13<00:00, 16.57it/s]\n",
      " 94%|█████████▍| 214/228 [00:13<00:00, 16.69it/s]\n",
      " 95%|█████████▍| 216/228 [00:13<00:00, 16.76it/s]\n",
      " 96%|█████████▌| 218/228 [00:13<00:00, 16.81it/s]\n",
      " 96%|█████████▋| 220/228 [00:13<00:00, 16.77it/s]\n",
      " 97%|█████████▋| 222/228 [00:13<00:00, 16.87it/s]\n",
      " 98%|█████████▊| 224/228 [00:13<00:00, 17.00it/s]\n",
      " 99%|█████████▉| 226/228 [00:14<00:00, 17.00it/s]\n",
      "100%|██████████| 228/228 [00:14<00:00, 16.07it/s]\n",
      "  0%|          | 0/228 [00:00<?, ?it/s]\n"
     ]
    },
    {
     "name": "stdout",
     "output_type": "stream",
     "text": [
      "\u001b[2m\u001b[36m(DefaultActor pid=92320)\u001b[0m  Training loss for epoch 2: 0.9224912363447642, accuracy: 0.640625\u001b[32m [repeated 2x across cluster]\u001b[0m\n"
     ]
    },
    {
     "name": "stderr",
     "output_type": "stream",
     "text": [
      "  5%|▌         | 12/228 [00:00<00:12, 17.30it/s]\u001b[32m [repeated 64x across cluster]\u001b[0m\n",
      "100%|██████████| 228/228 [00:13<00:00, 16.35it/s]\u001b[32m [repeated 10x across cluster]\u001b[0m\n",
      "  0%|          | 0/228 [00:00<?, ?it/s]\n",
      " 42%|████▏     | 96/228 [00:05<00:07, 16.53it/s]\u001b[32m [repeated 83x across cluster]\u001b[0m\n",
      " 92%|█████████▏| 210/228 [00:12<00:01, 16.55it/s]\n",
      " 93%|█████████▎| 212/228 [00:12<00:00, 16.47it/s]\n",
      " 94%|█████████▍| 214/228 [00:13<00:00, 16.63it/s]\n",
      " 95%|█████████▍| 216/228 [00:13<00:00, 16.65it/s]\n",
      " 96%|█████████▌| 218/228 [00:13<00:00, 16.62it/s]\n",
      " 96%|█████████▋| 220/228 [00:13<00:00, 16.37it/s]\n",
      " 78%|███████▊  | 178/228 [00:10<00:02, 17.52it/s]\u001b[32m [repeated 76x across cluster]\u001b[0m\n",
      " 97%|█████████▋| 222/228 [00:13<00:00, 16.31it/s]\n",
      " 98%|█████████▊| 224/228 [00:13<00:00, 16.31it/s]\n",
      " 99%|█████████▉| 226/228 [00:13<00:00, 16.36it/s]\n",
      "100%|██████████| 228/228 [00:13<00:00, 16.38it/s]\n",
      "  0%|          | 0/228 [00:00<?, ?it/s]\n"
     ]
    },
    {
     "name": "stdout",
     "output_type": "stream",
     "text": [
      "\u001b[2m\u001b[36m(DefaultActor pid=92320)\u001b[0m  Training loss for epoch 3: 1.27301835007312, accuracy: 0.5370065789473685\u001b[32m [repeated 2x across cluster]\u001b[0m\n"
     ]
    },
    {
     "name": "stderr",
     "output_type": "stream",
     "text": [
      "100%|██████████| 228/228 [00:14<00:00, 15.94it/s]\u001b[32m [repeated 10x across cluster]\u001b[0m\n",
      " 11%|█▏        | 26/228 [00:01<00:11, 16.93it/s]\u001b[32m [repeated 62x across cluster]\u001b[0m\n",
      "  0%|          | 0/228 [00:00<?, ?it/s]\n",
      " 49%|████▉     | 112/228 [00:06<00:06, 16.76it/s]\u001b[32m [repeated 85x across cluster]\u001b[0m\n",
      " 92%|█████████▏| 209/228 [00:13<00:01, 16.58it/s]\n",
      " 93%|█████████▎| 211/228 [00:13<00:01, 16.55it/s]\n",
      " 93%|█████████▎| 213/228 [00:13<00:00, 16.70it/s]\n",
      " 94%|█████████▍| 215/228 [00:13<00:00, 16.77it/s]\n",
      " 95%|█████████▌| 217/228 [00:13<00:00, 16.87it/s]\n",
      " 96%|█████████▌| 219/228 [00:14<00:00, 16.72it/s]\n",
      " 97%|█████████▋| 221/228 [00:14<00:00, 16.91it/s]\n",
      " 98%|█████████▊| 223/228 [00:14<00:00, 16.77it/s]\n",
      " 99%|█████████▊| 225/228 [00:14<00:00, 16.76it/s]\n",
      "100%|█████████▉| 227/228 [00:14<00:00, 16.57it/s]\n",
      "100%|██████████| 228/228 [00:14<00:00, 15.57it/s]\n"
     ]
    },
    {
     "name": "stdout",
     "output_type": "stream",
     "text": [
      "\u001b[2m\u001b[36m(DefaultActor pid=92320)\u001b[0m  Training loss for epoch 4: 1.0630316593145068, accuracy: 0.5849780701754386\u001b[32m [repeated 2x across cluster]\u001b[0m\n"
     ]
    },
    {
     "name": "stderr",
     "output_type": "stream",
     "text": [
      " 83%|████████▎ | 190/228 [00:11<00:02, 17.08it/s]\u001b[32m [repeated 67x across cluster]\u001b[0m\n",
      "DEBUG flwr 2023-11-09 13:26:19,577 | server.py:236 | fit_round 24 received 10 results and 0 failures\n",
      "DEBUG:flwr:fit_round 24 received 10 results and 0 failures\n"
     ]
    },
    {
     "name": "stdout",
     "output_type": "stream",
     "text": [
      "Saving round 24 aggregated_parameters...\n",
      "Saved round 24 aggregated_parameters!\n"
     ]
    },
    {
     "name": "stderr",
     "output_type": "stream",
     "text": [
      "INFO flwr 2023-11-09 13:26:19,635 | server.py:171 | evaluate_round 24: no clients selected, cancel\n",
      "INFO:flwr:evaluate_round 24: no clients selected, cancel\n",
      "DEBUG flwr 2023-11-09 13:26:19,635 | server.py:222 | fit_round 25: strategy sampled 10 clients (out of 40)\n",
      "DEBUG:flwr:fit_round 25: strategy sampled 10 clients (out of 40)\n",
      "  0%|          | 0/228 [00:00<?, ?it/s]\n",
      "100%|██████████| 228/228 [00:13<00:00, 16.43it/s]\u001b[32m [repeated 10x across cluster]\u001b[0m\n",
      " 10%|▉         | 22/228 [00:01<00:12, 15.97it/s]\u001b[32m [repeated 24x across cluster]\u001b[0m\n",
      "  0%|          | 0/228 [00:00<?, ?it/s]\u001b[32m [repeated 2x across cluster]\u001b[0m\n",
      " 29%|██▉       | 66/228 [00:05<00:13, 12.38it/s]\u001b[32m [repeated 78x across cluster]\u001b[0m\n",
      "  0%|          | 0/228 [00:00<?, ?it/s]\u001b[32m [repeated 4x across cluster]\u001b[0m\n",
      " 17%|█▋        | 38/228 [00:04<00:23,  8.01it/s]\u001b[32m [repeated 196x across cluster]\u001b[0m\n",
      " 24%|██▎       | 54/228 [00:07<01:01,  2.83it/s]\n",
      "  0%|          | 0/228 [00:00<?, ?it/s]\n",
      " 22%|██▏       | 51/228 [00:07<00:20,  8.60it/s]\u001b[32m [repeated 248x across cluster]\u001b[0m\n",
      " 61%|██████    | 138/228 [00:14<00:10,  8.96it/s]\u001b[32m [repeated 3x across cluster]\u001b[0m\n",
      " 41%|████      | 93/228 [00:12<00:16,  8.10it/s]\u001b[32m [repeated 313x across cluster]\u001b[0m\n",
      " 92%|█████████▏| 209/228 [00:21<00:02,  8.31it/s]\n",
      " 92%|█████████▏| 210/228 [00:21<00:02,  8.69it/s]\n",
      " 93%|█████████▎| 211/228 [00:22<00:01,  8.79it/s]\n",
      " 93%|█████████▎| 212/228 [00:22<00:01,  8.43it/s]\n",
      " 93%|█████████▎| 213/228 [00:22<00:01,  8.54it/s]\n",
      " 94%|█████████▍| 214/228 [00:22<00:01,  8.39it/s]\n",
      " 94%|█████████▍| 215/228 [00:22<00:01,  8.78it/s]\n",
      " 95%|█████████▍| 216/228 [00:22<00:01,  8.93it/s]\n",
      " 95%|█████████▌| 217/228 [00:22<00:01,  8.70it/s]\n",
      " 96%|█████████▌| 218/228 [00:22<00:01,  8.74it/s]\n",
      " 96%|█████████▌| 219/228 [00:22<00:00,  9.05it/s]\n",
      " 96%|█████████▋| 220/228 [00:23<00:00,  9.14it/s]\n",
      " 97%|█████████▋| 221/228 [00:23<00:00,  8.95it/s]\n",
      " 97%|█████████▋| 222/228 [00:23<00:00,  8.95it/s]\n",
      " 87%|████████▋ | 199/228 [00:21<00:03,  9.38it/s]\u001b[32m [repeated 5x across cluster]\u001b[0m\n",
      " 98%|█████████▊| 223/228 [00:23<00:00,  9.11it/s]\n",
      "  0%|          | 0/228 [00:00<?, ?it/s]\n"
     ]
    },
    {
     "name": "stdout",
     "output_type": "stream",
     "text": [
      "\u001b[2m\u001b[36m(DefaultActor pid=92319)\u001b[0m  Training loss for epoch 0: 0.9642784018396285, accuracy: 0.6014254385964912\u001b[32m [repeated 2x across cluster]\u001b[0m\n"
     ]
    },
    {
     "name": "stderr",
     "output_type": "stream",
     "text": [
      " 59%|█████▉    | 135/228 [00:17<00:11,  7.99it/s]\u001b[32m [repeated 280x across cluster]\u001b[0m\n",
      "100%|██████████| 228/228 [00:24<00:00,  9.28it/s]\u001b[32m [repeated 24x across cluster]\u001b[0m\n",
      " 10%|▉         | 22/228 [00:02<00:23,  8.91it/s]\u001b[32m [repeated 5x across cluster]\u001b[0m\n",
      "  0%|          | 0/228 [00:00<?, ?it/s]\n",
      "  0%|          | 0/228 [00:00<?, ?it/s]\n"
     ]
    },
    {
     "name": "stdout",
     "output_type": "stream",
     "text": [
      "\u001b[2m\u001b[36m(DefaultActor pid=92315)\u001b[0m  Training loss for epoch 0: 0.43457610877394154, accuracy: 0.8796600877192983\u001b[32m [repeated 2x across cluster]\u001b[0m\n"
     ]
    },
    {
     "name": "stderr",
     "output_type": "stream",
     "text": [
      " 77%|███████▋  | 175/228 [00:22<00:06,  8.33it/s]\u001b[32m [repeated 293x across cluster]\u001b[0m\n",
      " 93%|█████████▎| 213/228 [00:25<00:01,  8.37it/s]\u001b[32m [repeated 25x across cluster]\u001b[0m\n",
      " 36%|███▌      | 81/228 [00:09<00:15,  9.26it/s]\u001b[32m [repeated 6x across cluster]\u001b[0m\n",
      "  0%|          | 0/228 [00:00<?, ?it/s]\n",
      "  0%|          | 0/228 [00:00<?, ?it/s]\n"
     ]
    },
    {
     "name": "stdout",
     "output_type": "stream",
     "text": [
      "\u001b[2m\u001b[36m(DefaultActor pid=92318)\u001b[0m  Training loss for epoch 0: 0.34710884744530185, accuracy: 0.9010416666666666\u001b[32m [repeated 2x across cluster]\u001b[0m\n"
     ]
    },
    {
     "name": "stderr",
     "output_type": "stream",
     "text": [
      " 23%|██▎       | 52/228 [00:06<00:21,  8.16it/s]\u001b[32m [repeated 246x across cluster]\u001b[0m\n",
      " 95%|█████████▌| 217/228 [00:27<00:01,  8.30it/s]\u001b[32m [repeated 71x across cluster]\u001b[0m\n",
      " 47%|████▋     | 107/228 [00:12<00:13,  8.96it/s]\u001b[32m [repeated 5x across cluster]\u001b[0m\n",
      "  0%|          | 0/228 [00:00<?, ?it/s]\u001b[32m [repeated 3x across cluster]\u001b[0m\n",
      "  9%|▉         | 21/228 [00:03<00:34,  5.97it/s]\u001b[32m [repeated 238x across cluster]\u001b[0m\n",
      "100%|██████████| 228/228 [00:28<00:00,  7.91it/s]\u001b[32m [repeated 15x across cluster]\u001b[0m\n",
      " 51%|█████▏    | 117/228 [00:13<00:12,  9.05it/s]\n",
      " 33%|███▎      | 75/228 [00:08<00:17,  8.82it/s]\n",
      " 27%|██▋       | 62/228 [00:08<00:19,  8.37it/s]\u001b[32m [repeated 322x across cluster]\u001b[0m\n",
      " 92%|█████████▏| 209/228 [00:24<00:02,  8.70it/s]\n",
      " 92%|█████████▏| 210/228 [00:24<00:02,  8.90it/s]\n",
      " 93%|█████████▎| 212/228 [00:24<00:01,  8.95it/s]\n",
      " 93%|█████████▎| 213/228 [00:25<00:01,  8.89it/s]\n",
      " 94%|█████████▍| 214/228 [00:25<00:01,  9.13it/s]\n",
      " 94%|█████████▍| 215/228 [00:25<00:01,  9.02it/s]\n",
      " 95%|█████████▍| 216/228 [00:25<00:01,  8.69it/s]\n",
      " 95%|█████████▌| 217/228 [00:25<00:01,  8.78it/s]\n",
      " 96%|█████████▌| 218/228 [00:25<00:01,  8.37it/s]\n",
      " 96%|█████████▋| 220/228 [00:25<00:00,  8.95it/s]\n",
      " 97%|█████████▋| 221/228 [00:26<00:00,  8.50it/s]\n",
      " 55%|█████▌    | 126/228 [00:15<00:11,  9.24it/s]\u001b[32m [repeated 3x across cluster]\u001b[0m\n",
      "  0%|          | 1/228 [00:00<00:24,  9.26it/s]\n"
     ]
    },
    {
     "name": "stdout",
     "output_type": "stream",
     "text": [
      "\u001b[2m\u001b[36m(DefaultActor pid=92319)\u001b[0m  Training loss for epoch 1: 0.9453323390661624, accuracy: 0.606359649122807\u001b[32m [repeated 4x across cluster]\u001b[0m\n"
     ]
    },
    {
     "name": "stderr",
     "output_type": "stream",
     "text": [
      " 44%|████▍     | 100/228 [00:13<00:15,  8.27it/s]\u001b[32m [repeated 252x across cluster]\u001b[0m\n",
      "  0%|          | 0/228 [00:00<?, ?it/s]\n",
      "100%|██████████| 228/228 [00:27<00:00,  8.37it/s]\u001b[32m [repeated 26x across cluster]\u001b[0m\n",
      " 70%|██████▉   | 159/228 [00:19<00:07,  9.28it/s]\u001b[32m [repeated 3x across cluster]\u001b[0m\n",
      " 62%|██████▏   | 142/228 [00:18<00:10,  7.87it/s]\u001b[32m [repeated 302x across cluster]\u001b[0m\n",
      " 96%|█████████▋| 220/228 [00:28<00:01,  7.78it/s]\u001b[32m [repeated 12x across cluster]\u001b[0m\n",
      "  0%|          | 0/228 [00:00<?, ?it/s]\n"
     ]
    },
    {
     "name": "stdout",
     "output_type": "stream",
     "text": [
      "\u001b[2m\u001b[36m(DefaultActor pid=92315)\u001b[0m  Training loss for epoch 1: 0.4285089791376601, accuracy: 0.8736293859649122\u001b[32m [repeated 2x across cluster]\u001b[0m\n"
     ]
    },
    {
     "name": "stderr",
     "output_type": "stream",
     "text": [
      " 30%|███       | 69/228 [00:07<00:17,  9.02it/s]\u001b[32m [repeated 8x across cluster]\u001b[0m\n",
      " 81%|████████  | 185/228 [00:23<00:04,  8.64it/s]\u001b[32m [repeated 259x across cluster]\u001b[0m\n",
      " 98%|█████████▊| 223/228 [00:27<00:00,  8.69it/s]\u001b[32m [repeated 57x across cluster]\u001b[0m\n",
      "  0%|          | 0/228 [00:00<?, ?it/s]\u001b[32m [repeated 3x across cluster]\u001b[0m\n",
      " 50%|█████     | 115/228 [00:12<00:12,  8.84it/s]\u001b[32m [repeated 4x across cluster]\u001b[0m\n"
     ]
    },
    {
     "name": "stdout",
     "output_type": "stream",
     "text": [
      "\u001b[2m\u001b[36m(DefaultActor pid=92313)\u001b[0m  Training loss for epoch 1: 0.37811871917036016, accuracy: 0.8662280701754386\u001b[32m [repeated 4x across cluster]\u001b[0m\n"
     ]
    },
    {
     "name": "stderr",
     "output_type": "stream",
     "text": [
      " 23%|██▎       | 53/228 [00:06<00:18,  9.50it/s]\u001b[32m [repeated 244x across cluster]\u001b[0m\n",
      "100%|██████████| 228/228 [00:29<00:00,  7.86it/s]\u001b[32m [repeated 42x across cluster]\u001b[0m\n",
      "  0%|          | 0/228 [00:00<?, ?it/s]\u001b[32m [repeated 2x across cluster]\u001b[0m\n",
      " 11%|█         | 25/228 [00:02<00:23,  8.70it/s]\u001b[32m [repeated 5x across cluster]\u001b[0m\n",
      " 15%|█▍        | 34/228 [00:04<00:24,  7.97it/s]\u001b[32m [repeated 276x across cluster]\u001b[0m\n",
      " 92%|█████████▏| 209/228 [00:24<00:02,  9.20it/s]\n",
      " 54%|█████▍    | 123/228 [00:14<00:11,  8.79it/s]\u001b[32m [repeated 5x across cluster]\u001b[0m\n",
      " 93%|█████████▎| 211/228 [00:24<00:01,  9.30it/s]\n",
      " 93%|█████████▎| 212/228 [00:24<00:01,  8.95it/s]\n",
      " 93%|█████████▎| 213/228 [00:24<00:01,  9.02it/s]\n",
      " 94%|█████████▍| 214/228 [00:25<00:01,  8.84it/s]\n",
      " 94%|█████████▍| 215/228 [00:25<00:01,  8.96it/s]\n",
      " 95%|█████████▍| 216/228 [00:25<00:01,  9.14it/s]\n",
      " 95%|█████████▌| 217/228 [00:25<00:01,  8.80it/s]\n",
      " 96%|█████████▌| 218/228 [00:25<00:01,  8.50it/s]\n",
      " 96%|█████████▋| 220/228 [00:25<00:00,  9.35it/s]\n",
      " 97%|█████████▋| 221/228 [00:25<00:00,  9.08it/s]\n",
      " 44%|████▍     | 101/228 [00:12<00:14,  8.47it/s]\u001b[32m [repeated 293x across cluster]\u001b[0m\n",
      "  0%|          | 0/228 [00:00<?, ?it/s]\n"
     ]
    },
    {
     "name": "stdout",
     "output_type": "stream",
     "text": [
      "\u001b[2m\u001b[36m(DefaultActor pid=92319)\u001b[0m  Training loss for epoch 2: 1.141620588145758, accuracy: 0.5564692982456141\u001b[32m [repeated 2x across cluster]\u001b[0m\n"
     ]
    },
    {
     "name": "stderr",
     "output_type": "stream",
     "text": [
      "100%|██████████| 228/228 [00:26<00:00,  8.61it/s]\u001b[32m [repeated 24x across cluster]\u001b[0m\n",
      " 71%|███████   | 162/228 [00:19<00:07,  8.78it/s]\u001b[32m [repeated 2x across cluster]\u001b[0m\n",
      " 49%|████▉     | 112/228 [00:14<00:14,  8.05it/s]\u001b[32m [repeated 255x across cluster]\u001b[0m\n",
      "  0%|          | 0/228 [00:00<?, ?it/s]\n",
      " 88%|████████▊ | 201/228 [00:24<00:02,  9.01it/s]\u001b[32m [repeated 7x across cluster]\u001b[0m\n",
      " 92%|█████████▏| 209/228 [00:23<00:01,  9.85it/s]\n",
      " 67%|██████▋   | 153/228 [00:19<00:08,  8.64it/s]\u001b[32m [repeated 277x across cluster]\u001b[0m\n"
     ]
    },
    {
     "name": "stdout",
     "output_type": "stream",
     "text": [
      "\u001b[2m\u001b[36m(DefaultActor pid=92316)\u001b[0m  Training loss for epoch 2: 0.8146410149179006, accuracy: 0.6811951754385965\u001b[32m [repeated 2x across cluster]\u001b[0m\n"
     ]
    },
    {
     "name": "stderr",
     "output_type": "stream",
     "text": [
      "  0%|          | 0/228 [00:00<?, ?it/s]\n",
      " 78%|███████▊  | 178/228 [00:22<00:05,  9.06it/s]\n",
      " 94%|█████████▍| 214/228 [00:26<00:01,  8.32it/s]\u001b[32m [repeated 57x across cluster]\u001b[0m\n",
      " 86%|████████▋ | 197/228 [00:25<00:03,  7.95it/s]\u001b[32m [repeated 281x across cluster]\u001b[0m\n",
      "  0%|          | 0/228 [00:00<?, ?it/s]\u001b[32m [repeated 3x across cluster]\u001b[0m\n",
      " 19%|█▉        | 44/228 [00:05<00:20,  8.98it/s]\n",
      " 24%|██▎       | 54/228 [00:06<00:19,  8.87it/s]\n"
     ]
    },
    {
     "name": "stdout",
     "output_type": "stream",
     "text": [
      "\u001b[2m\u001b[36m(DefaultActor pid=92313)\u001b[0m  Training loss for epoch 2: 0.4635013754626638, accuracy: 0.834703947368421\u001b[32m [repeated 4x across cluster]\u001b[0m\n"
     ]
    },
    {
     "name": "stderr",
     "output_type": "stream",
     "text": [
      "100%|██████████| 228/228 [00:28<00:00,  7.93it/s]\u001b[32m [repeated 54x across cluster]\u001b[0m\n",
      " 16%|█▌        | 36/228 [00:04<00:25,  7.54it/s]\u001b[32m [repeated 265x across cluster]\u001b[0m\n",
      "  0%|          | 0/228 [00:00<?, ?it/s]\u001b[32m [repeated 2x across cluster]\u001b[0m\n",
      " 37%|███▋      | 85/228 [00:09<00:15,  8.99it/s]\u001b[32m [repeated 4x across cluster]\u001b[0m\n",
      " 21%|██        | 48/228 [00:06<00:21,  8.41it/s]\u001b[32m [repeated 279x across cluster]\u001b[0m\n",
      " 92%|█████████▏| 209/228 [00:24<00:02,  9.02it/s]\n",
      " 92%|█████████▏| 210/228 [00:25<00:02,  8.69it/s]\n",
      " 93%|█████████▎| 211/228 [00:25<00:01,  8.98it/s]\n",
      " 93%|█████████▎| 212/228 [00:25<00:01,  9.13it/s]\n",
      " 93%|█████████▎| 213/228 [00:25<00:01,  9.00it/s]\n",
      " 94%|█████████▍| 214/228 [00:25<00:01,  8.95it/s]\n",
      " 57%|█████▋    | 130/228 [00:14<00:11,  8.49it/s]\u001b[32m [repeated 5x across cluster]\u001b[0m\n",
      " 94%|█████████▍| 215/228 [00:25<00:01,  9.10it/s]\n",
      " 95%|█████████▍| 216/228 [00:25<00:01,  8.43it/s]\n",
      " 95%|█████████▌| 217/228 [00:25<00:01,  8.58it/s]\n",
      " 96%|█████████▌| 218/228 [00:25<00:01,  8.69it/s]\n",
      " 96%|█████████▌| 219/228 [00:26<00:01,  8.87it/s]\n",
      " 96%|█████████▋| 220/228 [00:26<00:00,  8.66it/s]\n",
      " 97%|█████████▋| 221/228 [00:26<00:00,  8.47it/s]\n",
      " 97%|█████████▋| 222/228 [00:26<00:00,  8.76it/s]\n",
      "  0%|          | 0/228 [00:00<?, ?it/s]\n"
     ]
    },
    {
     "name": "stdout",
     "output_type": "stream",
     "text": [
      "\u001b[2m\u001b[36m(DefaultActor pid=92319)\u001b[0m  Training loss for epoch 3: 1.1190256774425507, accuracy: 0.5435855263157895\u001b[32m [repeated 2x across cluster]\u001b[0m\n"
     ]
    },
    {
     "name": "stderr",
     "output_type": "stream",
     "text": [
      " 39%|███▉      | 90/228 [00:11<00:16,  8.12it/s]\u001b[32m [repeated 280x across cluster]\u001b[0m\n",
      "100%|██████████| 228/228 [00:27<00:00,  8.37it/s]\u001b[32m [repeated 23x across cluster]\u001b[0m\n",
      " 55%|█████▌    | 126/228 [00:16<00:12,  8.23it/s]\n",
      " 11%|█▏        | 26/228 [00:02<00:22,  8.90it/s]\n",
      "  0%|          | 0/228 [00:00<?, ?it/s]\n",
      " 57%|█████▋    | 129/228 [00:16<00:12,  8.14it/s]\u001b[32m [repeated 282x across cluster]\u001b[0m\n",
      " 96%|█████████▋| 220/228 [00:24<00:00,  8.93it/s]\u001b[32m [repeated 9x across cluster]\u001b[0m\n"
     ]
    },
    {
     "name": "stdout",
     "output_type": "stream",
     "text": [
      "\u001b[2m\u001b[36m(DefaultActor pid=92316)\u001b[0m  Training loss for epoch 3: 0.8032471607520915, accuracy: 0.684484649122807\u001b[32m [repeated 2x across cluster]\u001b[0m\n"
     ]
    },
    {
     "name": "stderr",
     "output_type": "stream",
     "text": [
      "  0%|          | 0/228 [00:00<?, ?it/s]\n",
      " 35%|███▍      | 79/228 [00:09<00:16,  9.16it/s]\u001b[32m [repeated 5x across cluster]\u001b[0m\n",
      " 86%|████████▌ | 195/228 [00:24<00:03,  8.55it/s]\u001b[32m [repeated 266x across cluster]\u001b[0m\n",
      "100%|██████████| 228/228 [00:28<00:00,  7.94it/s]\u001b[32m [repeated 45x across cluster]\u001b[0m\n",
      "  0%|          | 0/228 [00:00<?, ?it/s]\u001b[32m [repeated 2x across cluster]\u001b[0m\n",
      " 14%|█▎        | 31/228 [00:03<00:23,  8.22it/s]\u001b[32m [repeated 7x across cluster]\u001b[0m\n"
     ]
    },
    {
     "name": "stdout",
     "output_type": "stream",
     "text": [
      "\u001b[2m\u001b[36m(DefaultActor pid=92318)\u001b[0m  Training loss for epoch 3: 0.32741596171501697, accuracy: 0.9067982456140351\u001b[32m [repeated 3x across cluster]\u001b[0m\n"
     ]
    },
    {
     "name": "stderr",
     "output_type": "stream",
     "text": [
      " 25%|██▌       | 57/228 [00:06<00:20,  8.23it/s]\u001b[32m [repeated 278x across cluster]\u001b[0m\n",
      " 95%|█████████▍| 216/228 [00:27<00:01,  8.34it/s]\u001b[32m [repeated 30x across cluster]\u001b[0m\n",
      "  0%|          | 0/228 [00:00<?, ?it/s]\n",
      "  0%|          | 0/228 [00:00<?, ?it/s]\n",
      " 40%|████      | 92/228 [00:10<00:15,  8.94it/s]\u001b[32m [repeated 5x across cluster]\u001b[0m\n",
      " 12%|█▏        | 27/228 [00:03<00:23,  8.45it/s]\u001b[32m [repeated 271x across cluster]\u001b[0m\n",
      "100%|██████████| 228/228 [00:29<00:00,  7.86it/s]\u001b[32m [repeated 25x across cluster]\u001b[0m\n",
      "  0%|          | 0/228 [00:00<?, ?it/s]\n",
      " 57%|█████▋    | 129/228 [00:14<00:10,  9.34it/s]\u001b[32m [repeated 3x across cluster]\u001b[0m\n"
     ]
    },
    {
     "name": "stdout",
     "output_type": "stream",
     "text": [
      "\u001b[2m\u001b[36m(DefaultActor pid=92319)\u001b[0m  Training loss for epoch 4: 0.9852923675064456, accuracy: 0.5910087719298246\u001b[32m [repeated 3x across cluster]\u001b[0m\n"
     ]
    },
    {
     "name": "stderr",
     "output_type": "stream",
     "text": [
      " 27%|██▋       | 62/228 [00:08<00:22,  7.50it/s]\u001b[32m [repeated 238x across cluster]\u001b[0m\n",
      " 97%|█████████▋| 222/228 [00:26<00:00,  8.49it/s]\u001b[32m [repeated 32x across cluster]\u001b[0m\n",
      " 61%|██████▏   | 140/228 [00:16<00:09,  9.02it/s]\u001b[32m [repeated 4x across cluster]\u001b[0m\n",
      "  0%|          | 0/228 [00:00<?, ?it/s]\n",
      " 46%|████▌     | 104/228 [00:13<00:15,  7.99it/s]\u001b[32m [repeated 265x across cluster]\u001b[0m\n",
      " 95%|█████████▍| 216/228 [00:24<00:01,  8.93it/s]\u001b[32m [repeated 13x across cluster]\u001b[0m\n",
      " 12%|█▏        | 27/228 [00:03<00:22,  8.88it/s]\u001b[32m [repeated 6x across cluster]\u001b[0m\n",
      "  0%|          | 0/228 [00:00<?, ?it/s]\n"
     ]
    },
    {
     "name": "stdout",
     "output_type": "stream",
     "text": [
      "\u001b[2m\u001b[36m(DefaultActor pid=92316)\u001b[0m  Training loss for epoch 4: 0.8002212403766942, accuracy: 0.6877741228070176\u001b[32m [repeated 2x across cluster]\u001b[0m\n"
     ]
    },
    {
     "name": "stderr",
     "output_type": "stream",
     "text": [
      " 61%|██████    | 138/228 [00:18<00:10,  8.62it/s]\u001b[32m [repeated 204x across cluster]\u001b[0m\n",
      " 98%|█████████▊| 223/228 [00:27<00:00, 10.18it/s]\u001b[32m [repeated 19x across cluster]\u001b[0m\n",
      " 30%|███       | 69/228 [00:08<00:16,  9.47it/s]\u001b[32m [repeated 3x across cluster]\u001b[0m\n"
     ]
    },
    {
     "name": "stdout",
     "output_type": "stream",
     "text": [
      "\u001b[2m\u001b[36m(DefaultActor pid=92315)\u001b[0m  Training loss for epoch 4: 0.3879423636796051, accuracy: 0.8928179824561403\u001b[32m [repeated 2x across cluster]\u001b[0m\n"
     ]
    },
    {
     "name": "stderr",
     "output_type": "stream",
     "text": [
      " 54%|█████▍    | 123/228 [00:13<00:08, 11.85it/s]\u001b[32m [repeated 156x across cluster]\u001b[0m\n",
      " 95%|█████████▌| 217/228 [00:26<00:00, 11.28it/s]\u001b[32m [repeated 18x across cluster]\u001b[0m\n"
     ]
    },
    {
     "name": "stdout",
     "output_type": "stream",
     "text": [
      "\u001b[2m\u001b[36m(DefaultActor pid=92313)\u001b[0m  Training loss for epoch 4: 0.3586580760801505, accuracy: 0.8747258771929824\u001b[32m [repeated 3x across cluster]\u001b[0m\n"
     ]
    },
    {
     "name": "stderr",
     "output_type": "stream",
     "text": [
      " 84%|████████▍ | 191/228 [00:18<00:02, 17.03it/s]\u001b[32m [repeated 90x across cluster]\u001b[0m\n",
      "100%|██████████| 228/228 [00:26<00:00,  8.57it/s]\u001b[32m [repeated 26x across cluster]\u001b[0m\n",
      "  0%|          | 0/228 [00:00<?, ?it/s]\n",
      " 21%|██        | 48/228 [00:02<00:10, 16.37it/s]\u001b[32m [repeated 65x across cluster]\u001b[0m\n",
      "100%|██████████| 228/228 [00:19<00:00, 11.65it/s]\u001b[32m [repeated 21x across cluster]\u001b[0m\n",
      "  0%|          | 0/228 [00:00<?, ?it/s]\n",
      " 49%|████▉     | 112/228 [00:07<00:07, 16.34it/s]\u001b[32m [repeated 74x across cluster]\u001b[0m\n",
      " 91%|█████████ | 208/228 [00:13<00:01, 16.86it/s]\u001b[32m [repeated 85x across cluster]\u001b[0m\n",
      " 92%|█████████▏| 210/228 [00:13<00:01, 16.91it/s]\n",
      " 93%|█████████▎| 212/228 [00:13<00:00, 17.19it/s]\n",
      " 94%|█████████▍| 214/228 [00:13<00:00, 16.99it/s]\n",
      " 95%|█████████▍| 216/228 [00:13<00:00, 16.76it/s]\n",
      " 96%|█████████▌| 218/228 [00:13<00:00, 16.50it/s]\n",
      " 96%|█████████▋| 220/228 [00:13<00:00, 16.37it/s]\n",
      "  0%|          | 0/228 [00:00<?, ?it/s]\n"
     ]
    },
    {
     "name": "stdout",
     "output_type": "stream",
     "text": [
      "\u001b[2m\u001b[36m(DefaultActor pid=92319)\u001b[0m  Training loss for epoch 1: 0.7772604640115771, accuracy: 0.6938048245614035\u001b[32m [repeated 3x across cluster]\u001b[0m\n"
     ]
    },
    {
     "name": "stderr",
     "output_type": "stream",
     "text": [
      " 21%|██        | 48/228 [00:03<00:10, 17.00it/s]\u001b[32m [repeated 58x across cluster]\u001b[0m\n",
      "100%|██████████| 228/228 [00:14<00:00, 16.04it/s]\u001b[32m [repeated 14x across cluster]\u001b[0m\n",
      "  0%|          | 0/228 [00:00<?, ?it/s]\n",
      " 61%|██████▏   | 140/228 [00:08<00:05, 16.49it/s]\u001b[32m [repeated 84x across cluster]\u001b[0m\n",
      " 92%|█████████▏| 210/228 [00:12<00:01, 16.70it/s]\n",
      " 93%|█████████▎| 212/228 [00:13<00:00, 16.64it/s]\n",
      " 94%|█████████▍| 214/228 [00:13<00:00, 16.53it/s]\n",
      " 95%|█████████▍| 216/228 [00:13<00:00, 16.78it/s]\n",
      " 96%|█████████▌| 218/228 [00:13<00:00, 16.63it/s]\n",
      " 91%|█████████ | 208/228 [00:12<00:01, 16.82it/s]\u001b[32m [repeated 72x across cluster]\u001b[0m\n",
      "  0%|          | 0/228 [00:00<?, ?it/s]\n"
     ]
    },
    {
     "name": "stdout",
     "output_type": "stream",
     "text": [
      "\u001b[2m\u001b[36m(DefaultActor pid=92319)\u001b[0m  Training loss for epoch 2: 0.7659599595752201, accuracy: 0.7003837719298246\u001b[32m [repeated 2x across cluster]\u001b[0m\n"
     ]
    },
    {
     "name": "stderr",
     "output_type": "stream",
     "text": [
      "100%|██████████| 228/228 [00:13<00:00, 16.42it/s]\u001b[32m [repeated 15x across cluster]\u001b[0m\n",
      " 36%|███▌      | 82/228 [00:04<00:08, 16.43it/s]\u001b[32m [repeated 78x across cluster]\u001b[0m\n",
      "  0%|          | 0/228 [00:00<?, ?it/s]\n",
      " 71%|███████   | 162/228 [00:09<00:03, 17.28it/s]\u001b[32m [repeated 81x across cluster]\u001b[0m\n",
      " 92%|█████████▏| 210/228 [00:12<00:01, 16.80it/s]\n",
      " 93%|█████████▎| 212/228 [00:12<00:00, 16.96it/s]\n",
      " 94%|█████████▍| 214/228 [00:13<00:00, 16.93it/s]\n",
      " 95%|█████████▍| 216/228 [00:13<00:00, 16.75it/s]\n",
      "  0%|          | 0/228 [00:00<?, ?it/s]\n"
     ]
    },
    {
     "name": "stdout",
     "output_type": "stream",
     "text": [
      "\u001b[2m\u001b[36m(DefaultActor pid=92319)\u001b[0m  Training loss for epoch 3: 0.7679849839850998, accuracy: 0.6946271929824561\u001b[32m [repeated 2x across cluster]\u001b[0m\n"
     ]
    },
    {
     "name": "stderr",
     "output_type": "stream",
     "text": [
      "  5%|▌         | 12/228 [00:00<00:13, 16.55it/s]\u001b[32m [repeated 64x across cluster]\u001b[0m\n",
      "100%|██████████| 228/228 [00:13<00:00, 16.44it/s]\u001b[32m [repeated 16x across cluster]\u001b[0m\n",
      "  0%|          | 0/228 [00:00<?, ?it/s]\n",
      " 44%|████▍     | 100/228 [00:06<00:07, 16.80it/s]\u001b[32m [repeated 80x across cluster]\u001b[0m\n",
      " 82%|████████▏ | 186/228 [00:11<00:02, 17.27it/s]\u001b[32m [repeated 86x across cluster]\u001b[0m\n",
      " 92%|█████████▏| 210/228 [00:12<00:01, 16.65it/s]\n",
      " 93%|█████████▎| 212/228 [00:12<00:00, 16.35it/s]\n",
      " 94%|█████████▍| 214/228 [00:13<00:00, 16.45it/s]\n",
      " 95%|█████████▍| 216/228 [00:13<00:00, 16.54it/s]\n",
      " 96%|█████████▌| 218/228 [00:13<00:00, 16.46it/s]\n"
     ]
    },
    {
     "name": "stdout",
     "output_type": "stream",
     "text": [
      "\u001b[2m\u001b[36m(DefaultActor pid=92319)\u001b[0m  Training loss for epoch 4: 0.7699020204967574, accuracy: 0.696546052631579\u001b[32m [repeated 2x across cluster]\u001b[0m\n"
     ]
    },
    {
     "name": "stderr",
     "output_type": "stream",
     "text": [
      "DEBUG flwr 2023-11-09 13:29:52,641 | server.py:236 | fit_round 25 received 10 results and 0 failures\n",
      "DEBUG:flwr:fit_round 25 received 10 results and 0 failures\n"
     ]
    },
    {
     "name": "stdout",
     "output_type": "stream",
     "text": [
      "Saving round 25 aggregated_parameters...\n",
      "Saved round 25 aggregated_parameters!\n"
     ]
    },
    {
     "name": "stderr",
     "output_type": "stream",
     "text": [
      "INFO flwr 2023-11-09 13:29:52,699 | server.py:171 | evaluate_round 25: no clients selected, cancel\n",
      "INFO:flwr:evaluate_round 25: no clients selected, cancel\n",
      "INFO flwr 2023-11-09 13:29:52,699 | server.py:153 | FL finished in 5524.736452333978\n",
      "INFO:flwr:FL finished in 5524.736452333978\n",
      "INFO flwr 2023-11-09 13:29:52,703 | app.py:225 | app_fit: losses_distributed []\n",
      "INFO:flwr:app_fit: losses_distributed []\n",
      "INFO flwr 2023-11-09 13:29:52,704 | app.py:226 | app_fit: metrics_distributed_fit {'losses': [(1, 2.1860136455192896), (2, 2.0021980700053668), (3, 1.7265318349265215), (4, 1.3353141878911277), (5, 1.282321743078922), (6, 1.0937981962203456), (7, 1.1797379339094225), (8, 1.0879890926535192), (9, 0.9437818605204423), (10, 0.8061143007599995), (11, 0.8811525059955423), (12, 0.9403570670118195), (13, 0.7491461702410067), (14, 0.6911311594788965), (15, 0.776186679202998), (16, 0.7365537698746643), (17, 0.7295337423696917), (18, 0.7331456675110875), (19, 0.8141384467455607), (20, 0.6948699515901932), (21, 0.7298501103747996), (22, 0.7308018337863318), (23, 0.6176176108308381), (24, 0.7085001847379139), (25, 0.6995935375787105)]}\n",
      "INFO:flwr:app_fit: metrics_distributed_fit {'losses': [(1, 2.1860136455192896), (2, 2.0021980700053668), (3, 1.7265318349265215), (4, 1.3353141878911277), (5, 1.282321743078922), (6, 1.0937981962203456), (7, 1.1797379339094225), (8, 1.0879890926535192), (9, 0.9437818605204423), (10, 0.8061143007599995), (11, 0.8811525059955423), (12, 0.9403570670118195), (13, 0.7491461702410067), (14, 0.6911311594788965), (15, 0.776186679202998), (16, 0.7365537698746643), (17, 0.7295337423696917), (18, 0.7331456675110875), (19, 0.8141384467455607), (20, 0.6948699515901932), (21, 0.7298501103747996), (22, 0.7308018337863318), (23, 0.6176176108308381), (24, 0.7085001847379139), (25, 0.6995935375787105)]}\n",
      "INFO flwr 2023-11-09 13:29:52,704 | app.py:227 | app_fit: metrics_distributed {}\n",
      "INFO:flwr:app_fit: metrics_distributed {}\n",
      "INFO flwr 2023-11-09 13:29:52,705 | app.py:228 | app_fit: losses_centralized []\n",
      "INFO:flwr:app_fit: losses_centralized []\n",
      "INFO flwr 2023-11-09 13:29:52,705 | app.py:229 | app_fit: metrics_centralized {}\n",
      "INFO:flwr:app_fit: metrics_centralized {}\n",
      "100%|██████████| 228/228 [00:13<00:00, 16.35it/s]\n"
     ]
    },
    {
     "name": "stdout",
     "output_type": "stream",
     "text": [
      "\u001b[2m\u001b[36m(DefaultActor pid=92320)\u001b[0m  Training loss for epoch 4: 1.5405234694480896, accuracy: 0.3522478070175439\n"
     ]
    }
   ],
   "source": [
    "# Create FedAvg strategy\n",
    "strategy = SaveModelStrategy(\n",
    "    fraction_fit=0.25,  # Sample 100% of available clients for training\n",
    "    fraction_evaluate=0.0,  # Sample 50% of available clients for evaluation\n",
    "    min_fit_clients=10,  # Never sample less than 10 clients for training\n",
    "    min_evaluate_clients=0,  # Never sample less than 5 clients for evaluation\n",
    "    min_available_clients=40,  # Wait until all 10 clients are available\n",
    "    fit_metrics_aggregation_fn= agg\n",
    ")\n",
    "\n",
    "# Specify client resources if you need GPU (defaults to 1 CPU and 0 GPU)\n",
    "client_resources = None\n",
    "if DEVICE.type == \"cuda\":\n",
    "    client_resources = {\"num_gpus\": 1}\n",
    "\n",
    "# Start simulation\n",
    "res = fl.simulation.start_simulation(\n",
    "    client_fn=client_fn,\n",
    "    num_clients=40,\n",
    "    config=fl.server.ServerConfig(num_rounds=ROUNDS),\n",
    "    strategy=strategy,\n",
    "    client_resources=client_resources,\n",
    ")"
   ]
  },
  {
   "cell_type": "markdown",
   "id": "260f277f",
   "metadata": {},
   "source": [
    "# Training performance"
   ]
  },
  {
   "cell_type": "code",
   "execution_count": 51,
   "id": "60625887",
   "metadata": {},
   "outputs": [
    {
     "data": {
      "image/png": "[encoded data removed]",
      "text/plain": [
       "<Figure size 640x480 with 1 Axes>"
      ]
     },
     "metadata": {},
     "output_type": "display_data"
    },
    {
     "name": "stderr",
     "output_type": "stream",
     "text": [
      "\u001b[2m\u001b[36m(DefaultActor pid=92318)\u001b[0m /opt/homebrew/Cellar/python@3.10/3.10.13/Frameworks/Python.framework/Versions/3.10/lib/python3.10/multiprocessing/resource_tracker.py:224: UserWarning: resource_tracker: There appear to be 1 leaked semaphore objects to clean up at shutdown\n",
      "\u001b[2m\u001b[36m(DefaultActor pid=92318)\u001b[0m   warnings.warn('resource_tracker: There appear to be %d '\n"
     ]
    }
   ],
   "source": [
    "model_variant = 'LSTM' if USE_LSTM else 'RNN'\n",
    "plot_title = f'Training performance, {model_variant}'\n",
    "train_losses = [x[1] for x in res.metrics_distributed_fit['losses']]\n",
    "plt.plot(train_losses, label='Loss')\n",
    "plt.legend()\n",
    "plt.xlabel('Optimization rounds')\n",
    "plt.ylabel('CrossEntropy')\n",
    "plt.title(plot_title)\n",
    "plt.grid(False)\n",
    "plt.savefig(f\"./training_loss_{model_variant}.pdf\", format=\"pdf\", bbox_inches=\"tight\")\n",
    "plt.show()"
   ]
  },
  {
   "cell_type": "markdown",
   "id": "b98161ce",
   "metadata": {},
   "source": [
    "# Performance on test set"
   ]
  },
  {
   "cell_type": "code",
   "execution_count": 52,
   "id": "937bb217",
   "metadata": {},
   "outputs": [
    {
     "data": {
      "text/plain": [
       "<All keys matched successfully>"
      ]
     },
     "execution_count": 52,
     "metadata": {},
     "output_type": "execute_result"
    }
   ],
   "source": [
    "model_round = 25\n",
    "model_name = 'lstm' if USE_LSTM else 'rnn'\n",
    "net = MultiToOneRNN(hidden_size=hidden_size, LSTM=USE_LSTM)\n",
    "net.load_state_dict(torch.load(f\"classification_model_{model_name}_round_{model_round}.pth\"), strict=False)"
   ]
  },
  {
   "cell_type": "code",
   "execution_count": 53,
   "id": "58174ed2",
   "metadata": {},
   "outputs": [],
   "source": [
    "test_data = []\n",
    "for i, consumer in enumerate(data):\n",
    "    if i > 40:\n",
    "        test_data += data[consumer]\n",
    "test_loader = DataLoader(ClassificationData(test_data), batch_size=batch_size)"
   ]
  },
  {
   "cell_type": "code",
   "execution_count": 54,
   "id": "ffb4c673",
   "metadata": {},
   "outputs": [],
   "source": [
    "def test(net, test_loader):\n",
    "    \"\"\"Test the network on the test set.\"\"\"\n",
    "    criterion = torch.nn.CrossEntropyLoss()\n",
    "    num_layers = net.num_layers\n",
    "    batch_size = test_loader.batch_size\n",
    "    val_losses = []\n",
    "    directions = 1 if not net.bidirectional else 2\n",
    "    net.eval()\n",
    "    total_loss = 0.0\n",
    "    golds = []\n",
    "    preds = []\n",
    "    for x, Y in tqdm(test_loader):\n",
    "        Y = Y.to(DEVICE)\n",
    "        x = x.to(DEVICE).view(x.shape[0], -1, 1)\n",
    "        hidden = torch.zeros((num_layers*directions, x.shape[0], net.hidden_size)).to(DEVICE)\n",
    "        cell = torch.zeros((num_layers*directions, x.shape[0], net.hidden_size)).to(DEVICE)\n",
    "        outs, hidden, cell = net(x, hidden, cell)\n",
    "        loss = criterion(outs[:, -1], Y)    \n",
    "        total_loss += loss.item()\n",
    "        pred = torch.argmax((F.softmax(outs[:, -1], dim=-1)), dim=-1)\n",
    "        preds += pred.tolist()\n",
    "        golds += Y.tolist()\n",
    "    val_losses.append(total_loss / len(test_loader))\n",
    "    acc = np.mean((np.array(golds) == np.array(preds)))\n",
    "    print(f' Test loss: {total_loss / len(test_loader)}, accuracy: {acc}')\n",
    "    return val_losses, preds, golds"
   ]
  },
  {
   "cell_type": "code",
   "execution_count": 55,
   "id": "a33c7848",
   "metadata": {},
   "outputs": [
    {
     "name": "stderr",
     "output_type": "stream",
     "text": [
      "100%|█████████████████████████████████████████████████████████████████████████████████████████████████████████████████████████████████████████████████████████████████████████████| 2059/2059 [01:07<00:00, 30.42it/s]"
     ]
    },
    {
     "name": "stdout",
     "output_type": "stream",
     "text": [
      " Test loss: 1.0730852025799407, accuracy: 0.602034001214329\n"
     ]
    },
    {
     "name": "stderr",
     "output_type": "stream",
     "text": [
      "\n"
     ]
    }
   ],
   "source": [
    "losses, preds, golds = test(net, test_loader)"
   ]
  },
  {
   "cell_type": "code",
   "execution_count": 56,
   "id": "1bc0da7e",
   "metadata": {},
   "outputs": [],
   "source": [
    "from collections import Counter"
   ]
  },
  {
   "cell_type": "code",
   "execution_count": 57,
   "id": "7b1a4353",
   "metadata": {},
   "outputs": [
    {
     "data": {
      "text/plain": [
       "Counter({0: 15968,\n",
       "         8: 2263,\n",
       "         9: 2915,\n",
       "         7: 3416,\n",
       "         5: 2008,\n",
       "         6: 2917,\n",
       "         4: 1652,\n",
       "         2: 629,\n",
       "         1: 962,\n",
       "         3: 210})"
      ]
     },
     "execution_count": 57,
     "metadata": {},
     "output_type": "execute_result"
    }
   ],
   "source": [
    "count = Counter(preds)\n",
    "count"
   ]
  },
  {
   "cell_type": "code",
   "execution_count": 58,
   "id": "a8376aaf",
   "metadata": {},
   "outputs": [],
   "source": [
    "matrix = confusion_matrix(golds, preds)"
   ]
  },
  {
   "cell_type": "code",
   "execution_count": 59,
   "id": "7b9d9fa1",
   "metadata": {},
   "outputs": [
    {
     "data": {
      "image/png": "[encoded data removed]",
      "text/plain": [
       "<Figure size 640x480 with 2 Axes>"
      ]
     },
     "metadata": {},
     "output_type": "display_data"
    }
   ],
   "source": [
    "ax= plt.subplot()\n",
    "sns.heatmap(matrix, annot=False, ax=ax)\n",
    "ax.set_xlabel('Predicted labels')\n",
    "ax.set_ylabel('True labels')\n",
    "ax.set_title(f'Confusion Matrix, {model_variant}')\n",
    "ax.xaxis.set_ticklabels(l2idx.keys())\n",
    "ax.yaxis.set_ticklabels(l2idx.keys())\n",
    "plt.xticks(rotation=90)\n",
    "plt.yticks(rotation=0)\n",
    "plt.savefig(f\"./test_matrix_{model_variant}.pdf\", format=\"pdf\", bbox_inches=\"tight\")\n",
    "plt.show()"
   ]
  },
  {
   "cell_type": "code",
   "execution_count": null,
   "id": "519bf660",
   "metadata": {},
   "outputs": [],
   "source": []
  },
  {
   "cell_type": "code",
   "execution_count": null,
   "id": "8ac57bfc",
   "metadata": {},
   "outputs": [],
   "source": []
  }
 ],
 "metadata": {
  "kernelspec": {
   "display_name": "Python 3 (ipykernel)",
   "language": "python",
   "name": "python3"
  },
  "language_info": {
   "codemirror_mode": {
    "name": "ipython",
    "version": 3
   },
   "file_extension": ".py",
   "mimetype": "text/x-python",
   "name": "python",
   "nbconvert_exporter": "python",
   "pygments_lexer": "ipython3",
   "version": "3.10.13"
  }
 },
 "nbformat": 4,
 "nbformat_minor": 5
}
