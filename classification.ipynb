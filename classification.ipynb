{
 "cells": [
  {
   "cell_type": "code",
   "execution_count": 169,
   "id": "bd8e759a",
   "metadata": {},
   "outputs": [
    {
     "name": "stderr",
     "output_type": "stream",
     "text": [
      "\u001b[2m\u001b[36m(DefaultActor pid=32129)\u001b[0m \r",
      "100%|██████████| 114/114 [00:00<00:00, 243.36it/s]\n"
     ]
    },
    {
     "name": "stdout",
     "output_type": "stream",
     "text": [
      "\u001b[2m\u001b[36m(DefaultActor pid=32129)\u001b[0m  Training loss for epoch 2: 1.2300354132526798, accuracy: 0.5614035087719298\n"
     ]
    }
   ],
   "source": [
    "from torch.utils.data import DataLoader, Dataset\n",
    "import pandas as pd\n",
    "import torch\n",
    "from collections import OrderedDict\n",
    "from typing import List, Tuple\n",
    "import matplotlib.pyplot as plt\n",
    "import numpy as np\n",
    "import torch\n",
    "import torch.nn as nn\n",
    "import torch.nn.functional as F\n",
    "import torchvision\n",
    "import torchvision.transforms as transforms\n",
    "from torch.utils.data import DataLoader, random_split\n",
    "from torchvision.datasets import CIFAR10\n",
    "import flwr as fl\n",
    "from flwr.common import Metrics\n",
    "import random\n",
    "import torch.nn as nn\n",
    "from typing import Union, Optional\n",
    "from sklearn.preprocessing import MinMaxScaler\n",
    "from sklearn.metrics import confusion_matrix\n",
    "from tqdm import tqdm, trange\n",
    "import pickle\n",
    "import seaborn as sns\n",
    "DEVICE = torch.device(\"cpu\")"
   ]
  },
  {
   "cell_type": "code",
   "execution_count": 140,
   "id": "51c91e96",
   "metadata": {},
   "outputs": [],
   "source": [
    "with open('./data/classification_data.pkl', 'rb') as f:\n",
    "            data = pickle.load(f)"
   ]
  },
  {
   "cell_type": "code",
   "execution_count": 141,
   "id": "f7cd618c",
   "metadata": {},
   "outputs": [],
   "source": [
    "l2idx = {l:i for i, l in enumerate(set([y for _, y in data['Consumer1']]))}"
   ]
  },
  {
   "cell_type": "code",
   "execution_count": 163,
   "id": "dc6e87b0",
   "metadata": {},
   "outputs": [
    {
     "data": {
      "text/plain": [
       "{'Kettle': 0,\n",
       " 'Lighting': 1,\n",
       " 'Refrigerator': 2,\n",
       " 'Water heater': 3,\n",
       " 'Washing Machine': 4,\n",
       " 'Microwave': 5,\n",
       " 'TV': 6,\n",
       " 'Dryer': 7,\n",
       " 'AC': 8,\n",
       " 'Dish washer': 9}"
      ]
     },
     "execution_count": 163,
     "metadata": {},
     "output_type": "execute_result"
    }
   ],
   "source": [
    "l2idx"
   ]
  },
  {
   "cell_type": "code",
   "execution_count": 142,
   "id": "c07e088f",
   "metadata": {},
   "outputs": [],
   "source": [
    "class ClassificationData(Dataset):\n",
    "    def __init__(self, data):\n",
    "        self.x = [x for x, _ in data]\n",
    "        self.Y = [y for _, y in data]\n",
    "        self.l2idx = l2idx\n",
    "        self.idx2l = {i:l for l, i in l2idx.items()}\n",
    "        \n",
    "    def __len__(self):\n",
    "        return len(self.Y)\n",
    "    \n",
    "    def __getitem__(self, i):\n",
    "        return torch.tensor(self.x[i], dtype=torch.float), torch.tensor(self.l2idx[self.Y[i]], dtype=torch.long)"
   ]
  },
  {
   "cell_type": "code",
   "execution_count": 143,
   "id": "23261690",
   "metadata": {},
   "outputs": [],
   "source": [
    "data_plus = []\n",
    "for consumer in data:\n",
    "    data_plus += data[consumer]"
   ]
  },
  {
   "cell_type": "code",
   "execution_count": 144,
   "id": "929ffe76",
   "metadata": {},
   "outputs": [],
   "source": [
    "train_data = ClassificationData(data_plus)"
   ]
  },
  {
   "cell_type": "code",
   "execution_count": 145,
   "id": "c102c031",
   "metadata": {},
   "outputs": [],
   "source": [
    "class MultiToOneRNN(nn.Module):\n",
    "    def __init__(self, hidden_size, num_layers=1, output_size=10, LSTM=False, bidirectional=False):\n",
    "        super(MultiToOneRNN, self).__init__()\n",
    "        self.hidden_size = hidden_size\n",
    "        self.LSTM = LSTM\n",
    "        self.num_layers = num_layers\n",
    "        self.bidirectional = bidirectional\n",
    "        self.directions = 1 if not self.bidirectional else 2\n",
    "        if LSTM:\n",
    "            self.rnn = nn.LSTM(input_size=1, hidden_size=self.hidden_size, num_layers=num_layers, batch_first=True, bidirectional=self.bidirectional)\n",
    "        else:\n",
    "            self.rnn = nn.RNN(input_size=1, hidden_size=self.hidden_size, num_layers=num_layers, batch_first=True, bidirectional=self.bidirectional)\n",
    "            \n",
    "        self.fc1 = nn.Linear(self.hidden_size*self.directions, hidden_size)\n",
    "        self.fc2 = nn.Linear(self.hidden_size, output_size)\n",
    "        \n",
    "    def forward(self, inputs, hidden_state, cell=None):\n",
    "        if self.LSTM:\n",
    "            output, (hidden_states, cell) = self.rnn(inputs, (hidden_state, cell))\n",
    "        else:\n",
    "            output, hidden_states = self.rnn(inputs, hidden_state)\n",
    "        output = F.relu(self.fc1(output))\n",
    "        output = self.fc2(output)\n",
    "        return output, hidden_states, cell"
   ]
  },
  {
   "cell_type": "code",
   "execution_count": 146,
   "id": "ea781972",
   "metadata": {},
   "outputs": [],
   "source": [
    "train_loader = DataLoader(train_data, batch_size=16, shuffle=True, drop_last=True)"
   ]
  },
  {
   "cell_type": "code",
   "execution_count": 196,
   "id": "ca96c573",
   "metadata": {},
   "outputs": [],
   "source": [
    "epochs = 1\n",
    "def train(net, train_loader):\n",
    "    \"\"\"Train the network on the training set.\"\"\"\n",
    "    criterion = torch.nn.CrossEntropyLoss()\n",
    "    optimizer = torch.optim.AdamW(net.parameters(), lr=3e-4)\n",
    "    num_layers = net.num_layers\n",
    "    batch_size = train_loader.batch_size\n",
    "    val_losses = []\n",
    "    directions = 1 if not net.bidirectional else 2\n",
    "    for epoch in range(epochs):\n",
    "        net.train()\n",
    "        total_loss = 0.0\n",
    "        golds = []\n",
    "        preds = []\n",
    "        for x, Y in tqdm(train_loader):\n",
    "            Y = Y.to(DEVICE)\n",
    "            x = x.to(DEVICE).view(batch_size, -1, 1)\n",
    "            hidden = torch.zeros((num_layers*directions, batch_size, net.hidden_size)).to(DEVICE)\n",
    "            cell = torch.zeros((num_layers*directions, batch_size, net.hidden_size)).to(DEVICE)\n",
    "            outs, hidden, cell = net(x, hidden, cell)\n",
    "            loss = criterion(outs[:, -1], Y)    \n",
    "            loss.backward()\n",
    "            optimizer.step()\n",
    "            total_loss += loss.item()\n",
    "            pred = torch.argmax((F.softmax(outs[:, -1], dim=-1)), dim=-1)\n",
    "            preds += pred.tolist()\n",
    "            golds += Y.tolist()\n",
    "            optimizer.zero_grad()\n",
    "        val_losses.append(total_loss / len(train_loader))\n",
    "        acc = np.mean((np.array(golds) == np.array(preds)))\n",
    "        print(f' Training loss for epoch {epoch}: {total_loss / len(train_loader)}, accuracy: {acc}')\n",
    "       \n",
    "    return val_losses"
   ]
  },
  {
   "cell_type": "markdown",
   "id": "499e9c8e",
   "metadata": {},
   "source": [
    "# Non-Federated learning (Try to just fit the train set)"
   ]
  },
  {
   "cell_type": "code",
   "execution_count": 197,
   "id": "f58d2423",
   "metadata": {},
   "outputs": [],
   "source": [
    "model = MultiToOneRNN(64, LSTM=False, bidirectional=True).to(DEVICE)"
   ]
  },
  {
   "cell_type": "code",
   "execution_count": 102,
   "id": "94de97ea",
   "metadata": {},
   "outputs": [
    {
     "name": "stderr",
     "output_type": "stream",
     "text": [
      "100%|██████████████████████████████████████████████████████████████████████████████████████████████████████████████████████████████████████████████████████████████████████████████████████████████████████████████████████████████████████████████████████████████████████████████████| 11437/11437 [01:15<00:00, 151.15it/s]\n"
     ]
    },
    {
     "name": "stdout",
     "output_type": "stream",
     "text": [
      " Training loss for epoch 0: 2.094950842077711, accuracy: 0.21343556002448194\n"
     ]
    },
    {
     "name": "stderr",
     "output_type": "stream",
     "text": [
      "100%|██████████████████████████████████████████████████████████████████████████████████████████████████████████████████████████████████████████████████████████████████████████████████████████████████████████████████████████████████████████████████████████████████████████████████| 11437/11437 [01:15<00:00, 150.81it/s]\n"
     ]
    },
    {
     "name": "stdout",
     "output_type": "stream",
     "text": [
      " Training loss for epoch 1: 1.607715711181289, accuracy: 0.38457418903558627\n"
     ]
    },
    {
     "name": "stderr",
     "output_type": "stream",
     "text": [
      "100%|██████████████████████████████████████████████████████████████████████████████████████████████████████████████████████████████████████████████████████████████████████████████████████████████████████████████████████████████████████████████████████████████████████████████████| 11437/11437 [01:16<00:00, 150.19it/s]\n"
     ]
    },
    {
     "name": "stdout",
     "output_type": "stream",
     "text": [
      " Training loss for epoch 2: 1.7438761805429048, accuracy: 0.3480097490600682\n"
     ]
    },
    {
     "name": "stderr",
     "output_type": "stream",
     "text": [
      "100%|██████████████████████████████████████████████████████████████████████████████████████████████████████████████████████████████████████████████████████████████████████████████████████████████████████████████████████████████████████████████████████████████████████████████████| 11437/11437 [01:15<00:00, 151.16it/s]\n"
     ]
    },
    {
     "name": "stdout",
     "output_type": "stream",
     "text": [
      " Training loss for epoch 3: 1.6623926477185431, accuracy: 0.37561204861414704\n"
     ]
    },
    {
     "name": "stderr",
     "output_type": "stream",
     "text": [
      "100%|██████████████████████████████████████████████████████████████████████████████████████████████████████████████████████████████████████████████████████████████████████████████████████████████████████████████████████████████████████████████████████████████████████████████████| 11437/11437 [01:15<00:00, 151.03it/s]\n"
     ]
    },
    {
     "name": "stdout",
     "output_type": "stream",
     "text": [
      " Training loss for epoch 4: 1.8979691659340003, accuracy: 0.28338397306986096\n"
     ]
    },
    {
     "name": "stderr",
     "output_type": "stream",
     "text": [
      "  4%|███████████▊                                                                                                                                                                                                                                                                        | 487/11437 [00:03<01:13, 149.85it/s]\n"
     ]
    },
    {
     "ename": "KeyboardInterrupt",
     "evalue": "",
     "output_type": "error",
     "traceback": [
      "\u001b[0;31m---------------------------------------------------------------------------\u001b[0m",
      "\u001b[0;31mKeyboardInterrupt\u001b[0m                         Traceback (most recent call last)",
      "Cell \u001b[0;32mIn [102], line 1\u001b[0m\n\u001b[0;32m----> 1\u001b[0m losses \u001b[38;5;241m=\u001b[39m \u001b[43mtrain\u001b[49m\u001b[43m(\u001b[49m\u001b[43mmodel\u001b[49m\u001b[43m,\u001b[49m\u001b[43m \u001b[49m\u001b[43mtrain_loader\u001b[49m\u001b[43m)\u001b[49m\n",
      "Cell \u001b[0;32mIn [100], line 23\u001b[0m, in \u001b[0;36mtrain\u001b[0;34m(net, train_loader)\u001b[0m\n\u001b[1;32m     21\u001b[0m loss \u001b[38;5;241m=\u001b[39m criterion(outs[:, \u001b[38;5;241m-\u001b[39m\u001b[38;5;241m1\u001b[39m], Y)    \n\u001b[1;32m     22\u001b[0m loss\u001b[38;5;241m.\u001b[39mbackward()\n\u001b[0;32m---> 23\u001b[0m \u001b[43moptimizer\u001b[49m\u001b[38;5;241;43m.\u001b[39;49m\u001b[43mstep\u001b[49m\u001b[43m(\u001b[49m\u001b[43m)\u001b[49m\n\u001b[1;32m     24\u001b[0m total_loss \u001b[38;5;241m+\u001b[39m\u001b[38;5;241m=\u001b[39m loss\u001b[38;5;241m.\u001b[39mitem()\n\u001b[1;32m     25\u001b[0m pred \u001b[38;5;241m=\u001b[39m torch\u001b[38;5;241m.\u001b[39margmax((F\u001b[38;5;241m.\u001b[39msoftmax(outs[:, \u001b[38;5;241m-\u001b[39m\u001b[38;5;241m1\u001b[39m], dim\u001b[38;5;241m=\u001b[39m\u001b[38;5;241m-\u001b[39m\u001b[38;5;241m1\u001b[39m)), dim\u001b[38;5;241m=\u001b[39m\u001b[38;5;241m-\u001b[39m\u001b[38;5;241m1\u001b[39m)\n",
      "File \u001b[0;32m/opt/homebrew/lib/python3.10/site-packages/torch/optim/optimizer.py:373\u001b[0m, in \u001b[0;36mOptimizer.profile_hook_step.<locals>.wrapper\u001b[0;34m(*args, **kwargs)\u001b[0m\n\u001b[1;32m    368\u001b[0m         \u001b[38;5;28;01melse\u001b[39;00m:\n\u001b[1;32m    369\u001b[0m             \u001b[38;5;28;01mraise\u001b[39;00m \u001b[38;5;167;01mRuntimeError\u001b[39;00m(\n\u001b[1;32m    370\u001b[0m                 \u001b[38;5;124mf\u001b[39m\u001b[38;5;124m\"\u001b[39m\u001b[38;5;132;01m{\u001b[39;00mfunc\u001b[38;5;132;01m}\u001b[39;00m\u001b[38;5;124m must return None or a tuple of (new_args, new_kwargs), but got \u001b[39m\u001b[38;5;132;01m{\u001b[39;00mresult\u001b[38;5;132;01m}\u001b[39;00m\u001b[38;5;124m.\u001b[39m\u001b[38;5;124m\"\u001b[39m\n\u001b[1;32m    371\u001b[0m             )\n\u001b[0;32m--> 373\u001b[0m out \u001b[38;5;241m=\u001b[39m \u001b[43mfunc\u001b[49m\u001b[43m(\u001b[49m\u001b[38;5;241;43m*\u001b[39;49m\u001b[43margs\u001b[49m\u001b[43m,\u001b[49m\u001b[43m \u001b[49m\u001b[38;5;241;43m*\u001b[39;49m\u001b[38;5;241;43m*\u001b[39;49m\u001b[43mkwargs\u001b[49m\u001b[43m)\u001b[49m\n\u001b[1;32m    374\u001b[0m \u001b[38;5;28mself\u001b[39m\u001b[38;5;241m.\u001b[39m_optimizer_step_code()\n\u001b[1;32m    376\u001b[0m \u001b[38;5;66;03m# call optimizer step post hooks\u001b[39;00m\n",
      "File \u001b[0;32m/opt/homebrew/lib/python3.10/site-packages/torch/optim/optimizer.py:76\u001b[0m, in \u001b[0;36m_use_grad_for_differentiable.<locals>._use_grad\u001b[0;34m(self, *args, **kwargs)\u001b[0m\n\u001b[1;32m     74\u001b[0m     torch\u001b[38;5;241m.\u001b[39mset_grad_enabled(\u001b[38;5;28mself\u001b[39m\u001b[38;5;241m.\u001b[39mdefaults[\u001b[38;5;124m'\u001b[39m\u001b[38;5;124mdifferentiable\u001b[39m\u001b[38;5;124m'\u001b[39m])\n\u001b[1;32m     75\u001b[0m     torch\u001b[38;5;241m.\u001b[39m_dynamo\u001b[38;5;241m.\u001b[39mgraph_break()\n\u001b[0;32m---> 76\u001b[0m     ret \u001b[38;5;241m=\u001b[39m \u001b[43mfunc\u001b[49m\u001b[43m(\u001b[49m\u001b[38;5;28;43mself\u001b[39;49m\u001b[43m,\u001b[49m\u001b[43m \u001b[49m\u001b[38;5;241;43m*\u001b[39;49m\u001b[43margs\u001b[49m\u001b[43m,\u001b[49m\u001b[43m \u001b[49m\u001b[38;5;241;43m*\u001b[39;49m\u001b[38;5;241;43m*\u001b[39;49m\u001b[43mkwargs\u001b[49m\u001b[43m)\u001b[49m\n\u001b[1;32m     77\u001b[0m \u001b[38;5;28;01mfinally\u001b[39;00m:\n\u001b[1;32m     78\u001b[0m     torch\u001b[38;5;241m.\u001b[39m_dynamo\u001b[38;5;241m.\u001b[39mgraph_break()\n",
      "File \u001b[0;32m/opt/homebrew/lib/python3.10/site-packages/torch/optim/adamw.py:184\u001b[0m, in \u001b[0;36mAdamW.step\u001b[0;34m(self, closure)\u001b[0m\n\u001b[1;32m    171\u001b[0m     beta1, beta2 \u001b[38;5;241m=\u001b[39m group[\u001b[38;5;124m\"\u001b[39m\u001b[38;5;124mbetas\u001b[39m\u001b[38;5;124m\"\u001b[39m]\n\u001b[1;32m    173\u001b[0m     \u001b[38;5;28mself\u001b[39m\u001b[38;5;241m.\u001b[39m_init_group(\n\u001b[1;32m    174\u001b[0m         group,\n\u001b[1;32m    175\u001b[0m         params_with_grad,\n\u001b[0;32m   (...)\u001b[0m\n\u001b[1;32m    181\u001b[0m         state_steps,\n\u001b[1;32m    182\u001b[0m     )\n\u001b[0;32m--> 184\u001b[0m     \u001b[43madamw\u001b[49m\u001b[43m(\u001b[49m\n\u001b[1;32m    185\u001b[0m \u001b[43m        \u001b[49m\u001b[43mparams_with_grad\u001b[49m\u001b[43m,\u001b[49m\n\u001b[1;32m    186\u001b[0m \u001b[43m        \u001b[49m\u001b[43mgrads\u001b[49m\u001b[43m,\u001b[49m\n\u001b[1;32m    187\u001b[0m \u001b[43m        \u001b[49m\u001b[43mexp_avgs\u001b[49m\u001b[43m,\u001b[49m\n\u001b[1;32m    188\u001b[0m \u001b[43m        \u001b[49m\u001b[43mexp_avg_sqs\u001b[49m\u001b[43m,\u001b[49m\n\u001b[1;32m    189\u001b[0m \u001b[43m        \u001b[49m\u001b[43mmax_exp_avg_sqs\u001b[49m\u001b[43m,\u001b[49m\n\u001b[1;32m    190\u001b[0m \u001b[43m        \u001b[49m\u001b[43mstate_steps\u001b[49m\u001b[43m,\u001b[49m\n\u001b[1;32m    191\u001b[0m \u001b[43m        \u001b[49m\u001b[43mamsgrad\u001b[49m\u001b[38;5;241;43m=\u001b[39;49m\u001b[43mamsgrad\u001b[49m\u001b[43m,\u001b[49m\n\u001b[1;32m    192\u001b[0m \u001b[43m        \u001b[49m\u001b[43mbeta1\u001b[49m\u001b[38;5;241;43m=\u001b[39;49m\u001b[43mbeta1\u001b[49m\u001b[43m,\u001b[49m\n\u001b[1;32m    193\u001b[0m \u001b[43m        \u001b[49m\u001b[43mbeta2\u001b[49m\u001b[38;5;241;43m=\u001b[39;49m\u001b[43mbeta2\u001b[49m\u001b[43m,\u001b[49m\n\u001b[1;32m    194\u001b[0m \u001b[43m        \u001b[49m\u001b[43mlr\u001b[49m\u001b[38;5;241;43m=\u001b[39;49m\u001b[43mgroup\u001b[49m\u001b[43m[\u001b[49m\u001b[38;5;124;43m\"\u001b[39;49m\u001b[38;5;124;43mlr\u001b[39;49m\u001b[38;5;124;43m\"\u001b[39;49m\u001b[43m]\u001b[49m\u001b[43m,\u001b[49m\n\u001b[1;32m    195\u001b[0m \u001b[43m        \u001b[49m\u001b[43mweight_decay\u001b[49m\u001b[38;5;241;43m=\u001b[39;49m\u001b[43mgroup\u001b[49m\u001b[43m[\u001b[49m\u001b[38;5;124;43m\"\u001b[39;49m\u001b[38;5;124;43mweight_decay\u001b[39;49m\u001b[38;5;124;43m\"\u001b[39;49m\u001b[43m]\u001b[49m\u001b[43m,\u001b[49m\n\u001b[1;32m    196\u001b[0m \u001b[43m        \u001b[49m\u001b[43meps\u001b[49m\u001b[38;5;241;43m=\u001b[39;49m\u001b[43mgroup\u001b[49m\u001b[43m[\u001b[49m\u001b[38;5;124;43m\"\u001b[39;49m\u001b[38;5;124;43meps\u001b[39;49m\u001b[38;5;124;43m\"\u001b[39;49m\u001b[43m]\u001b[49m\u001b[43m,\u001b[49m\n\u001b[1;32m    197\u001b[0m \u001b[43m        \u001b[49m\u001b[43mmaximize\u001b[49m\u001b[38;5;241;43m=\u001b[39;49m\u001b[43mgroup\u001b[49m\u001b[43m[\u001b[49m\u001b[38;5;124;43m\"\u001b[39;49m\u001b[38;5;124;43mmaximize\u001b[39;49m\u001b[38;5;124;43m\"\u001b[39;49m\u001b[43m]\u001b[49m\u001b[43m,\u001b[49m\n\u001b[1;32m    198\u001b[0m \u001b[43m        \u001b[49m\u001b[43mforeach\u001b[49m\u001b[38;5;241;43m=\u001b[39;49m\u001b[43mgroup\u001b[49m\u001b[43m[\u001b[49m\u001b[38;5;124;43m\"\u001b[39;49m\u001b[38;5;124;43mforeach\u001b[39;49m\u001b[38;5;124;43m\"\u001b[39;49m\u001b[43m]\u001b[49m\u001b[43m,\u001b[49m\n\u001b[1;32m    199\u001b[0m \u001b[43m        \u001b[49m\u001b[43mcapturable\u001b[49m\u001b[38;5;241;43m=\u001b[39;49m\u001b[43mgroup\u001b[49m\u001b[43m[\u001b[49m\u001b[38;5;124;43m\"\u001b[39;49m\u001b[38;5;124;43mcapturable\u001b[39;49m\u001b[38;5;124;43m\"\u001b[39;49m\u001b[43m]\u001b[49m\u001b[43m,\u001b[49m\n\u001b[1;32m    200\u001b[0m \u001b[43m        \u001b[49m\u001b[43mdifferentiable\u001b[49m\u001b[38;5;241;43m=\u001b[39;49m\u001b[43mgroup\u001b[49m\u001b[43m[\u001b[49m\u001b[38;5;124;43m\"\u001b[39;49m\u001b[38;5;124;43mdifferentiable\u001b[39;49m\u001b[38;5;124;43m\"\u001b[39;49m\u001b[43m]\u001b[49m\u001b[43m,\u001b[49m\n\u001b[1;32m    201\u001b[0m \u001b[43m        \u001b[49m\u001b[43mfused\u001b[49m\u001b[38;5;241;43m=\u001b[39;49m\u001b[43mgroup\u001b[49m\u001b[43m[\u001b[49m\u001b[38;5;124;43m\"\u001b[39;49m\u001b[38;5;124;43mfused\u001b[39;49m\u001b[38;5;124;43m\"\u001b[39;49m\u001b[43m]\u001b[49m\u001b[43m,\u001b[49m\n\u001b[1;32m    202\u001b[0m \u001b[43m        \u001b[49m\u001b[43mgrad_scale\u001b[49m\u001b[38;5;241;43m=\u001b[39;49m\u001b[38;5;28;43mgetattr\u001b[39;49m\u001b[43m(\u001b[49m\u001b[38;5;28;43mself\u001b[39;49m\u001b[43m,\u001b[49m\u001b[43m \u001b[49m\u001b[38;5;124;43m\"\u001b[39;49m\u001b[38;5;124;43mgrad_scale\u001b[39;49m\u001b[38;5;124;43m\"\u001b[39;49m\u001b[43m,\u001b[49m\u001b[43m \u001b[49m\u001b[38;5;28;43;01mNone\u001b[39;49;00m\u001b[43m)\u001b[49m\u001b[43m,\u001b[49m\n\u001b[1;32m    203\u001b[0m \u001b[43m        \u001b[49m\u001b[43mfound_inf\u001b[49m\u001b[38;5;241;43m=\u001b[39;49m\u001b[38;5;28;43mgetattr\u001b[39;49m\u001b[43m(\u001b[49m\u001b[38;5;28;43mself\u001b[39;49m\u001b[43m,\u001b[49m\u001b[43m \u001b[49m\u001b[38;5;124;43m\"\u001b[39;49m\u001b[38;5;124;43mfound_inf\u001b[39;49m\u001b[38;5;124;43m\"\u001b[39;49m\u001b[43m,\u001b[49m\u001b[43m \u001b[49m\u001b[38;5;28;43;01mNone\u001b[39;49;00m\u001b[43m)\u001b[49m\u001b[43m,\u001b[49m\n\u001b[1;32m    204\u001b[0m \u001b[43m    \u001b[49m\u001b[43m)\u001b[49m\n\u001b[1;32m    206\u001b[0m \u001b[38;5;28;01mreturn\u001b[39;00m loss\n",
      "File \u001b[0;32m/opt/homebrew/lib/python3.10/site-packages/torch/optim/adamw.py:335\u001b[0m, in \u001b[0;36madamw\u001b[0;34m(params, grads, exp_avgs, exp_avg_sqs, max_exp_avg_sqs, state_steps, foreach, capturable, differentiable, fused, grad_scale, found_inf, amsgrad, beta1, beta2, lr, weight_decay, eps, maximize)\u001b[0m\n\u001b[1;32m    332\u001b[0m \u001b[38;5;28;01melse\u001b[39;00m:\n\u001b[1;32m    333\u001b[0m     func \u001b[38;5;241m=\u001b[39m _single_tensor_adamw\n\u001b[0;32m--> 335\u001b[0m \u001b[43mfunc\u001b[49m\u001b[43m(\u001b[49m\n\u001b[1;32m    336\u001b[0m \u001b[43m    \u001b[49m\u001b[43mparams\u001b[49m\u001b[43m,\u001b[49m\n\u001b[1;32m    337\u001b[0m \u001b[43m    \u001b[49m\u001b[43mgrads\u001b[49m\u001b[43m,\u001b[49m\n\u001b[1;32m    338\u001b[0m \u001b[43m    \u001b[49m\u001b[43mexp_avgs\u001b[49m\u001b[43m,\u001b[49m\n\u001b[1;32m    339\u001b[0m \u001b[43m    \u001b[49m\u001b[43mexp_avg_sqs\u001b[49m\u001b[43m,\u001b[49m\n\u001b[1;32m    340\u001b[0m \u001b[43m    \u001b[49m\u001b[43mmax_exp_avg_sqs\u001b[49m\u001b[43m,\u001b[49m\n\u001b[1;32m    341\u001b[0m \u001b[43m    \u001b[49m\u001b[43mstate_steps\u001b[49m\u001b[43m,\u001b[49m\n\u001b[1;32m    342\u001b[0m \u001b[43m    \u001b[49m\u001b[43mamsgrad\u001b[49m\u001b[38;5;241;43m=\u001b[39;49m\u001b[43mamsgrad\u001b[49m\u001b[43m,\u001b[49m\n\u001b[1;32m    343\u001b[0m \u001b[43m    \u001b[49m\u001b[43mbeta1\u001b[49m\u001b[38;5;241;43m=\u001b[39;49m\u001b[43mbeta1\u001b[49m\u001b[43m,\u001b[49m\n\u001b[1;32m    344\u001b[0m \u001b[43m    \u001b[49m\u001b[43mbeta2\u001b[49m\u001b[38;5;241;43m=\u001b[39;49m\u001b[43mbeta2\u001b[49m\u001b[43m,\u001b[49m\n\u001b[1;32m    345\u001b[0m \u001b[43m    \u001b[49m\u001b[43mlr\u001b[49m\u001b[38;5;241;43m=\u001b[39;49m\u001b[43mlr\u001b[49m\u001b[43m,\u001b[49m\n\u001b[1;32m    346\u001b[0m \u001b[43m    \u001b[49m\u001b[43mweight_decay\u001b[49m\u001b[38;5;241;43m=\u001b[39;49m\u001b[43mweight_decay\u001b[49m\u001b[43m,\u001b[49m\n\u001b[1;32m    347\u001b[0m \u001b[43m    \u001b[49m\u001b[43meps\u001b[49m\u001b[38;5;241;43m=\u001b[39;49m\u001b[43meps\u001b[49m\u001b[43m,\u001b[49m\n\u001b[1;32m    348\u001b[0m \u001b[43m    \u001b[49m\u001b[43mmaximize\u001b[49m\u001b[38;5;241;43m=\u001b[39;49m\u001b[43mmaximize\u001b[49m\u001b[43m,\u001b[49m\n\u001b[1;32m    349\u001b[0m \u001b[43m    \u001b[49m\u001b[43mcapturable\u001b[49m\u001b[38;5;241;43m=\u001b[39;49m\u001b[43mcapturable\u001b[49m\u001b[43m,\u001b[49m\n\u001b[1;32m    350\u001b[0m \u001b[43m    \u001b[49m\u001b[43mdifferentiable\u001b[49m\u001b[38;5;241;43m=\u001b[39;49m\u001b[43mdifferentiable\u001b[49m\u001b[43m,\u001b[49m\n\u001b[1;32m    351\u001b[0m \u001b[43m    \u001b[49m\u001b[43mgrad_scale\u001b[49m\u001b[38;5;241;43m=\u001b[39;49m\u001b[43mgrad_scale\u001b[49m\u001b[43m,\u001b[49m\n\u001b[1;32m    352\u001b[0m \u001b[43m    \u001b[49m\u001b[43mfound_inf\u001b[49m\u001b[38;5;241;43m=\u001b[39;49m\u001b[43mfound_inf\u001b[49m\u001b[43m,\u001b[49m\n\u001b[1;32m    353\u001b[0m \u001b[43m\u001b[49m\u001b[43m)\u001b[49m\n",
      "File \u001b[0;32m/opt/homebrew/lib/python3.10/site-packages/torch/optim/adamw.py:464\u001b[0m, in \u001b[0;36m_single_tensor_adamw\u001b[0;34m(params, grads, exp_avgs, exp_avg_sqs, max_exp_avg_sqs, state_steps, grad_scale, found_inf, amsgrad, beta1, beta2, lr, weight_decay, eps, maximize, capturable, differentiable)\u001b[0m\n\u001b[1;32m    462\u001b[0m         denom \u001b[38;5;241m=\u001b[39m (max_exp_avg_sqs[i]\u001b[38;5;241m.\u001b[39msqrt() \u001b[38;5;241m/\u001b[39m bias_correction2_sqrt)\u001b[38;5;241m.\u001b[39madd_(eps)\n\u001b[1;32m    463\u001b[0m     \u001b[38;5;28;01melse\u001b[39;00m:\n\u001b[0;32m--> 464\u001b[0m         denom \u001b[38;5;241m=\u001b[39m \u001b[43m(\u001b[49m\u001b[43mexp_avg_sq\u001b[49m\u001b[38;5;241;43m.\u001b[39;49m\u001b[43msqrt\u001b[49m\u001b[43m(\u001b[49m\u001b[43m)\u001b[49m\u001b[43m \u001b[49m\u001b[38;5;241;43m/\u001b[39;49m\u001b[43m \u001b[49m\u001b[43mbias_correction2_sqrt\u001b[49m\u001b[43m)\u001b[49m\u001b[38;5;241;43m.\u001b[39;49m\u001b[43madd_\u001b[49m\u001b[43m(\u001b[49m\u001b[43meps\u001b[49m\u001b[43m)\u001b[49m\n\u001b[1;32m    466\u001b[0m     param\u001b[38;5;241m.\u001b[39maddcdiv_(exp_avg, denom, value\u001b[38;5;241m=\u001b[39m\u001b[38;5;241m-\u001b[39mstep_size)\n\u001b[1;32m    468\u001b[0m \u001b[38;5;66;03m# Lastly, switch back to complex view\u001b[39;00m\n",
      "\u001b[0;31mKeyboardInterrupt\u001b[0m: "
     ]
    }
   ],
   "source": [
    "losses = train(model, train_loader)"
   ]
  },
  {
   "cell_type": "code",
   "execution_count": 103,
   "id": "d91e5b46",
   "metadata": {},
   "outputs": [
    {
     "data": {
      "text/plain": [
       "[<matplotlib.lines.Line2D at 0x2a53ffe80>]"
      ]
     },
     "execution_count": 103,
     "metadata": {},
     "output_type": "execute_result"
    },
    {
     "data": {
      "image/png": "[encoded data removed]",
      "text/plain": [
       "<Figure size 640x480 with 1 Axes>"
      ]
     },
     "metadata": {},
     "output_type": "display_data"
    }
   ],
   "source": [
    "plt.plot(losses)"
   ]
  },
  {
   "cell_type": "markdown",
   "id": "1cce572e",
   "metadata": {},
   "source": [
    "# Federated learning"
   ]
  },
  {
   "cell_type": "code",
   "execution_count": 165,
   "id": "22792187",
   "metadata": {},
   "outputs": [],
   "source": [
    "batch_size = 32\n",
    "hidden_size = 64\n",
    "learning_rate = 3e-4"
   ]
  },
  {
   "cell_type": "code",
   "execution_count": 166,
   "id": "4b76c4a3",
   "metadata": {},
   "outputs": [],
   "source": [
    "def get_parameters(net) -> List[np.ndarray]:\n",
    "    return [val.cpu().numpy() for _, val in net.state_dict().items()]\n",
    "\n",
    "\n",
    "def set_parameters(net, parameters: List[np.ndarray]):\n",
    "    params_dict = zip(net.state_dict().keys(), parameters)\n",
    "    state_dict = OrderedDict({k: torch.Tensor(v) for k, v in params_dict})\n",
    "    net.load_state_dict(state_dict, strict=True)"
   ]
  },
  {
   "cell_type": "code",
   "execution_count": 204,
   "id": "06007794",
   "metadata": {},
   "outputs": [],
   "source": [
    "class FlowerClient(fl.client.NumPyClient):\n",
    "    def __init__(self, net, dataset):\n",
    "        self.net = net\n",
    "        self.dataset = dataset\n",
    "        self.losses = []\n",
    "\n",
    "    def get_parameters(self, config):\n",
    "        return get_parameters(self.net)\n",
    "\n",
    "    def fit(self, parameters, config):\n",
    "        set_parameters(self.net, parameters)\n",
    "        loss = train(self.net, self.dataset)\n",
    "        self.losses = loss\n",
    "        return get_parameters(self.net), len(self.dataset), {'loss': np.mean(loss)}\n",
    "\n",
    "    def evaluate(self, parameters, config):\n",
    "        set_parameters(self.net, parameters)\n",
    "        return 0.0, 1, {}\n",
    "\n",
    "\n",
    "def client_fn(cid: str) -> FlowerClient:\n",
    "    \"\"\"Create a Flower client representing a single organization.\"\"\"\n",
    "    # Load model\n",
    "    cid = int(cid) + 1\n",
    "    net = MultiToOneRNN(hidden_size=hidden_size).to(DEVICE)\n",
    "    d = ClassificationData(data[f'Consumer{cid}'])\n",
    "    train_loader = DataLoader(d, batch_size=batch_size, shuffle=True, drop_last=True)\n",
    "\n",
    "    # Create a  single Flower client representing a single organization\n",
    "    return FlowerClient(net, train_loader)\n",
    "\n",
    "\n",
    "class SaveModelStrategy(fl.server.strategy.FedAvgM):\n",
    "    def aggregate_fit(\n",
    "        self,\n",
    "        server_round: int,\n",
    "        results: List[Tuple[fl.server.client_proxy.ClientProxy, fl.common.FitRes]],\n",
    "        failures: List[Union[Tuple[fl.server.client_proxy.ClientProxy, fl.common.FitRes], BaseException]],\n",
    "    ):\n",
    "        \"\"\"Aggregate model weights using weighted average and store checkpoint\"\"\"\n",
    "        net = MultiToOneRNN(hidden_size=hidden_size).to(DEVICE)\n",
    "\n",
    "        # Call aggregate_fit from base class (FedAvg) to aggregate parameters and metrics\n",
    "        aggregated_parameters, aggregated_metrics = super().aggregate_fit(server_round, results, failures)\n",
    "\n",
    "        if aggregated_parameters is not None:\n",
    "            print(f\"Saving round {server_round} aggregated_parameters...\", flush=True)\n",
    "\n",
    "            # Convert `Parameters` to `List[np.ndarray]`\n",
    "            aggregated_ndarrays: List[np.ndarray] = fl.common.parameters_to_ndarrays(aggregated_parameters)\n",
    "\n",
    "            # Convert `List[np.ndarray]` to PyTorch`state_dict`\n",
    "            params_dict = zip(net.state_dict().keys(), aggregated_ndarrays)\n",
    "            state_dict = OrderedDict({k: torch.tensor(v) for k, v in params_dict})\n",
    "            net.load_state_dict(state_dict, strict=True)\n",
    "\n",
    "            # Save the model\n",
    "            torch.save(net.state_dict(), f\"model_round_{server_round}.pth\")\n",
    "            print(f\"Saved round {server_round} aggregated_parameters!\", flush=True)\n",
    "\n",
    "\n",
    "        return aggregated_parameters, aggregated_metrics\n",
    "\n",
    "def agg(metrics):\n",
    "    losses = np.mean([m[-1][\"loss\"] for m in metrics])\n",
    "    return {'losses': losses}\n",
    "\n"
   ]
  },
  {
   "cell_type": "code",
   "execution_count": null,
   "id": "15b03c08",
   "metadata": {},
   "outputs": [
    {
     "name": "stderr",
     "output_type": "stream",
     "text": [
      "INFO flwr 2023-11-03 09:57:47,769 | app.py:175 | Starting Flower simulation, config: ServerConfig(num_rounds=20, round_timeout=None)\n",
      "INFO:flwr:Starting Flower simulation, config: ServerConfig(num_rounds=20, round_timeout=None)\n",
      "2023-11-03 09:57:51,252\tINFO worker.py:1642 -- Started a local Ray instance.\n",
      "INFO flwr 2023-11-03 09:57:51,816 | app.py:210 | Flower VCE: Ray initialized with resources: {'memory': 8269678183.0, 'node:127.0.0.1': 1.0, 'node:__internal_head__': 1.0, 'CPU': 8.0, 'object_store_memory': 2147483648.0}\n",
      "INFO:flwr:Flower VCE: Ray initialized with resources: {'memory': 8269678183.0, 'node:127.0.0.1': 1.0, 'node:__internal_head__': 1.0, 'CPU': 8.0, 'object_store_memory': 2147483648.0}\n",
      "INFO flwr 2023-11-03 09:57:51,816 | app.py:218 | No `client_resources` specified. Using minimal resources for clients.\n",
      "INFO:flwr:No `client_resources` specified. Using minimal resources for clients.\n",
      "INFO flwr 2023-11-03 09:57:51,817 | app.py:224 | Flower VCE: Resources for each Virtual Client: {'num_cpus': 1, 'num_gpus': 0.0}\n",
      "INFO:flwr:Flower VCE: Resources for each Virtual Client: {'num_cpus': 1, 'num_gpus': 0.0}\n",
      "INFO flwr 2023-11-03 09:57:51,826 | app.py:270 | Flower VCE: Creating VirtualClientEngineActorPool with 8 actors\n",
      "INFO:flwr:Flower VCE: Creating VirtualClientEngineActorPool with 8 actors\n",
      "INFO flwr 2023-11-03 09:57:51,827 | server.py:89 | Initializing global parameters\n",
      "INFO:flwr:Initializing global parameters\n",
      "INFO flwr 2023-11-03 09:57:51,828 | server.py:276 | Requesting initial parameters from one random client\n",
      "INFO:flwr:Requesting initial parameters from one random client\n",
      "INFO flwr 2023-11-03 09:57:54,144 | server.py:280 | Received initial parameters from one random client\n",
      "INFO:flwr:Received initial parameters from one random client\n",
      "INFO flwr 2023-11-03 09:57:54,145 | server.py:91 | Evaluating initial parameters\n",
      "INFO:flwr:Evaluating initial parameters\n",
      "INFO flwr 2023-11-03 09:57:54,145 | server.py:104 | FL starting\n",
      "INFO:flwr:FL starting\n",
      "DEBUG flwr 2023-11-03 09:57:54,145 | server.py:222 | fit_round 1: strategy sampled 10 clients (out of 40)\n",
      "DEBUG:flwr:fit_round 1: strategy sampled 10 clients (out of 40)\n",
      "  0%|          | 0/114 [00:00<?, ?it/s]\n",
      " 18%|█▊        | 21/114 [00:00<00:00, 202.22it/s]\n",
      " 39%|███▉      | 45/114 [00:00<00:00, 220.85it/s]\n",
      " 60%|█████▉    | 68/114 [00:00<00:00, 219.81it/s]\n",
      " 79%|███████▉  | 90/114 [00:00<00:00, 210.76it/s]\n",
      "100%|██████████| 114/114 [00:00<00:00, 210.27it/s]\n"
     ]
    },
    {
     "name": "stdout",
     "output_type": "stream",
     "text": [
      "\u001b[2m\u001b[36m(DefaultActor pid=32839)\u001b[0m  Training loss for epoch 0: 2.304221508795755, accuracy: 0.09402412280701754\n"
     ]
    },
    {
     "name": "stderr",
     "output_type": "stream",
     "text": [
      " 69%|██████▉   | 79/114 [00:00<00:00, 192.39it/s]\n",
      "  0%|          | 0/114 [00:00<?, ?it/s]\u001b[32m [repeated 5x across cluster]\u001b[0m\n",
      " 88%|████████▊ | 100/114 [00:00<00:00, 188.91it/s]\u001b[32m [repeated 20x across cluster]\u001b[0m\n",
      "100%|██████████| 114/114 [00:00<00:00, 188.52it/s]\u001b[32m [repeated 2x across cluster]\u001b[0m\n"
     ]
    },
    {
     "name": "stdout",
     "output_type": "stream",
     "text": [
      "\u001b[2m\u001b[36m(DefaultActor pid=32835)\u001b[0m  Training loss for epoch 0: 2.3047475814819336, accuracy: 0.09649122807017543\u001b[32m [repeated 6x across cluster]\u001b[0m\n"
     ]
    },
    {
     "name": "stderr",
     "output_type": "stream",
     "text": [
      "DEBUG flwr 2023-11-03 09:58:04,848 | server.py:236 | fit_round 1 received 10 results and 0 failures\n",
      "DEBUG:flwr:fit_round 1 received 10 results and 0 failures\n"
     ]
    },
    {
     "name": "stdout",
     "output_type": "stream",
     "text": [
      "Saving round 1 aggregated_parameters...\n",
      "Saved round 1 aggregated_parameters!\n"
     ]
    },
    {
     "name": "stderr",
     "output_type": "stream",
     "text": [
      "INFO flwr 2023-11-03 09:58:04,859 | server.py:171 | evaluate_round 1: no clients selected, cancel\n",
      "INFO:flwr:evaluate_round 1: no clients selected, cancel\n",
      "DEBUG flwr 2023-11-03 09:58:04,860 | server.py:222 | fit_round 2: strategy sampled 10 clients (out of 40)\n",
      "DEBUG:flwr:fit_round 2: strategy sampled 10 clients (out of 40)\n",
      "  0%|          | 0/114 [00:00<?, ?it/s]\u001b[32m [repeated 5x across cluster]\u001b[0m\n",
      "100%|██████████| 114/114 [00:00<00:00, 195.93it/s]\u001b[32m [repeated 18x across cluster]\u001b[0m\n",
      "100%|██████████| 114/114 [00:00<00:00, 189.15it/s]\u001b[32m [repeated 4x across cluster]\u001b[0m\n"
     ]
    },
    {
     "name": "stdout",
     "output_type": "stream",
     "text": [
      "\u001b[2m\u001b[36m(DefaultActor pid=32837)\u001b[0m  Training loss for epoch 0: 2.3004762938148096, accuracy: 0.10581140350877193\u001b[32m [repeated 5x across cluster]\u001b[0m\n"
     ]
    },
    {
     "name": "stderr",
     "output_type": "stream",
     "text": [
      "\u001b[2m\u001b[36m(DefaultActor pid=32838)\u001b[0m \r",
      "  0%|          | 0/114 [00:00<?, ?it/s]\u001b[32m [repeated 4x across cluster]\u001b[0m\n",
      "\u001b[2m\u001b[36m(DefaultActor pid=32834)\u001b[0m \r",
      " 85%|████████▌ | 97/114 [00:00<00:00, 239.20it/s]\u001b[32m [repeated 18x across cluster]\u001b[0m\n",
      "\u001b[2m\u001b[36m(DefaultActor pid=32834)\u001b[0m \r",
      "100%|██████████| 114/114 [00:00<00:00, 238.74it/s]\u001b[32m [repeated 3x across cluster]\u001b[0m\n"
     ]
    },
    {
     "name": "stdout",
     "output_type": "stream",
     "text": [
      "\u001b[2m\u001b[36m(DefaultActor pid=32838)\u001b[0m  Training loss for epoch 0: 2.298591456915203, accuracy: 0.11074561403508772\u001b[32m [repeated 3x across cluster]\u001b[0m\n"
     ]
    },
    {
     "name": "stderr",
     "output_type": "stream",
     "text": [
      "\u001b[2m\u001b[36m(DefaultActor pid=32833)\u001b[0m \r",
      "  0%|          | 0/114 [00:00<?, ?it/s]\u001b[32m [repeated 3x across cluster]\u001b[0m\n",
      "\u001b[2m\u001b[36m(DefaultActor pid=32839)\u001b[0m \r",
      " 91%|█████████ | 104/114 [00:00<00:00, 256.91it/s]\r",
      "100%|██████████| 114/114 [00:00<00:00, 254.49it/s]\u001b[32m [repeated 13x across cluster]\u001b[0m\n",
      "\u001b[2m\u001b[36m(DefaultActor pid=32836)\u001b[0m \r",
      "100%|██████████| 114/114 [00:00<00:00, 214.38it/s]\u001b[32m [repeated 2x across cluster]\u001b[0m\n"
     ]
    },
    {
     "name": "stdout",
     "output_type": "stream",
     "text": [
      "\u001b[2m\u001b[36m(DefaultActor pid=32833)\u001b[0m  Training loss for epoch 0: 2.3005646048930655, accuracy: 0.1137609649122807\u001b[32m [repeated 3x across cluster]\u001b[0m\n"
     ]
    },
    {
     "name": "stderr",
     "output_type": "stream",
     "text": [
      "DEBUG flwr 2023-11-03 09:58:19,731 | server.py:236 | fit_round 2 received 10 results and 0 failures\n",
      "DEBUG:flwr:fit_round 2 received 10 results and 0 failures\n"
     ]
    },
    {
     "name": "stdout",
     "output_type": "stream",
     "text": [
      "Saving round 2 aggregated_parameters...\n",
      "Saved round 2 aggregated_parameters!\n"
     ]
    },
    {
     "name": "stderr",
     "output_type": "stream",
     "text": [
      "INFO flwr 2023-11-03 09:58:19,743 | server.py:171 | evaluate_round 2: no clients selected, cancel\n",
      "INFO:flwr:evaluate_round 2: no clients selected, cancel\n",
      "DEBUG flwr 2023-11-03 09:58:19,743 | server.py:222 | fit_round 3: strategy sampled 10 clients (out of 40)\n",
      "DEBUG:flwr:fit_round 3: strategy sampled 10 clients (out of 40)\n",
      " 35%|███▌      | 40/114 [00:00<00:00, 196.16it/s]\n",
      "  0%|          | 0/114 [00:00<?, ?it/s]\u001b[32m [repeated 5x across cluster]\u001b[0m\n",
      " 81%|████████  | 92/114 [00:00<00:00, 104.48it/s]\u001b[32m [repeated 20x across cluster]\u001b[0m\n",
      "100%|██████████| 114/114 [00:01<00:00, 109.36it/s]\u001b[32m [repeated 5x across cluster]\u001b[0m\n"
     ]
    },
    {
     "name": "stdout",
     "output_type": "stream",
     "text": [
      "\u001b[2m\u001b[36m(DefaultActor pid=32833)\u001b[0m  Training loss for epoch 0: 2.2719736643004835, accuracy: 0.15405701754385964\u001b[32m [repeated 5x across cluster]\u001b[0m\n"
     ]
    },
    {
     "name": "stderr",
     "output_type": "stream",
     "text": [
      " 22%|██▏       | 25/114 [00:00<00:00, 247.12it/s]\n",
      "  0%|          | 0/114 [00:00<?, ?it/s]\u001b[32m [repeated 2x across cluster]\u001b[0m\n",
      " 55%|█████▌    | 63/114 [00:00<00:00, 204.95it/s]\u001b[32m [repeated 14x across cluster]\u001b[0m\n",
      "100%|██████████| 114/114 [00:00<00:00, 265.23it/s]\u001b[32m [repeated 2x across cluster]\u001b[0m\n"
     ]
    },
    {
     "name": "stdout",
     "output_type": "stream",
     "text": [
      "\u001b[2m\u001b[36m(DefaultActor pid=32838)\u001b[0m  Training loss for epoch 0: 2.2658976337365937, accuracy: 0.13706140350877194\u001b[32m [repeated 3x across cluster]\u001b[0m\n"
     ]
    }
   ],
   "source": [
    "# Create FedAvg strategy\n",
    "strategy = SaveModelStrategy(\n",
    "    fraction_fit=0.25,  # Sample 100% of available clients for training\n",
    "    fraction_evaluate=0.0,  # Sample 50% of available clients for evaluation\n",
    "    min_fit_clients=10,  # Never sample less than 10 clients for training\n",
    "    min_evaluate_clients=0,  # Never sample less than 5 clients for evaluation\n",
    "    min_available_clients=40,  # Wait until all 10 clients are available\n",
    "    fit_metrics_aggregation_fn= agg\n",
    ")\n",
    "\n",
    "# Specify client resources if you need GPU (defaults to 1 CPU and 0 GPU)\n",
    "client_resources = None\n",
    "if DEVICE.type == \"cuda\":\n",
    "    client_resources = {\"num_gpus\": 1}\n",
    "\n",
    "# Start simulation\n",
    "res = fl.simulation.start_simulation(\n",
    "    client_fn=client_fn,\n",
    "    num_clients=40,\n",
    "    config=fl.server.ServerConfig(num_rounds=20),\n",
    "    strategy=strategy,\n",
    "    client_resources=client_resources,\n",
    ")"
   ]
  },
  {
   "cell_type": "markdown",
   "id": "fdffae38",
   "metadata": {},
   "source": [
    "# Training performance"
   ]
  },
  {
   "cell_type": "code",
   "execution_count": 170,
   "id": "1edf9c97",
   "metadata": {},
   "outputs": [
    {
     "data": {
      "image/png": "[encoded data removed]",
      "text/plain": [
       "<Figure size 640x480 with 1 Axes>"
      ]
     },
     "metadata": {},
     "output_type": "display_data"
    }
   ],
   "source": [
    "train_losses = [x[1] for x in res.metrics_distributed_fit['losses']]\n",
    "plt.plot(train_losses, label='Training performance')\n",
    "plt.legend()\n",
    "plt.xlabel('Optimization rounds')\n",
    "plt.ylabel('CE')\n",
    "plt.show()"
   ]
  },
  {
   "cell_type": "markdown",
   "id": "292688e0",
   "metadata": {},
   "source": [
    "# Performance on test set"
   ]
  },
  {
   "cell_type": "code",
   "execution_count": 171,
   "id": "52d1ba8f",
   "metadata": {},
   "outputs": [
    {
     "data": {
      "text/plain": [
       "<All keys matched successfully>"
      ]
     },
     "execution_count": 171,
     "metadata": {},
     "output_type": "execute_result"
    }
   ],
   "source": [
    "model_round = 20\n",
    "net = MultiToOneRNN(hidden_size=hidden_size)\n",
    "net.load_state_dict(torch.load(f'./model_round_{model_round}.pth'), strict=False)"
   ]
  },
  {
   "cell_type": "code",
   "execution_count": 172,
   "id": "43f01db5",
   "metadata": {},
   "outputs": [],
   "source": [
    "test_data = []\n",
    "for i, consumer in enumerate(data):\n",
    "    if i > 40:\n",
    "        test_data += data[consumer]\n",
    "test_loader = DataLoader(ClassificationData(test_data), batch_size=batch_size)"
   ]
  },
  {
   "cell_type": "code",
   "execution_count": 173,
   "id": "e2b42468",
   "metadata": {},
   "outputs": [],
   "source": [
    "def test(net, test_loader):\n",
    "    \"\"\"Test the network on the test set.\"\"\"\n",
    "    criterion = torch.nn.CrossEntropyLoss()\n",
    "    optimizer = torch.optim.AdamW(net.parameters(), lr=3e-4)\n",
    "    num_layers = net.num_layers\n",
    "    batch_size = test_loader.batch_size\n",
    "    val_losses = []\n",
    "    directions = 1 if not net.bidirectional else 2\n",
    "    net.eval()\n",
    "    total_loss = 0.0\n",
    "    golds = []\n",
    "    preds = []\n",
    "    for x, Y in tqdm(test_loader):\n",
    "        Y = Y.to(DEVICE)\n",
    "        x = x.to(DEVICE).view(x.shape[0], -1, 1)\n",
    "        hidden = torch.zeros((num_layers*directions, x.shape[0], net.hidden_size)).to(DEVICE)\n",
    "        cell = torch.zeros((num_layers*directions, x.shape[0], net.hidden_size)).to(DEVICE)\n",
    "        outs, hidden, cell = net(x, hidden, cell)\n",
    "        loss = criterion(outs[:, -1], Y)    \n",
    "        total_loss += loss.item()\n",
    "        pred = torch.argmax((F.softmax(outs[:, -1], dim=-1)), dim=-1)\n",
    "        preds += pred.tolist()\n",
    "        golds += Y.tolist()\n",
    "    val_losses.append(total_loss / len(test_loader))\n",
    "    acc = np.mean((np.array(golds) == np.array(preds)))\n",
    "    print(f' Test loss: {total_loss / len(test_loader)}, accuracy: {acc}')\n",
    "    return val_losses, preds, golds"
   ]
  },
  {
   "cell_type": "code",
   "execution_count": 174,
   "id": "b2ba9281",
   "metadata": {},
   "outputs": [
    {
     "name": "stderr",
     "output_type": "stream",
     "text": [
      "100%|████████████████████████████████████████████████████████████████████████████████████████████████████████████████████████████████████████████████████████████████████████████████████████████████████████████████████████████████████████████████████████████████████████████████████| 1030/1030 [00:02<00:00, 443.90it/s]"
     ]
    },
    {
     "name": "stdout",
     "output_type": "stream",
     "text": [
      " Test loss: 2.1695336346487397, accuracy: 0.21800242865816635\n"
     ]
    },
    {
     "name": "stderr",
     "output_type": "stream",
     "text": [
      "\n"
     ]
    }
   ],
   "source": [
    "losses, preds, golds = test(net, test_loader)"
   ]
  },
  {
   "cell_type": "code",
   "execution_count": 175,
   "id": "f5954f01",
   "metadata": {},
   "outputs": [],
   "source": [
    "from collections import Counter"
   ]
  },
  {
   "cell_type": "code",
   "execution_count": 176,
   "id": "1dac2710",
   "metadata": {},
   "outputs": [
    {
     "data": {
      "text/plain": [
       "Counter({8: 19089,\n",
       "         1: 2453,\n",
       "         4: 4227,\n",
       "         5: 1191,\n",
       "         6: 1428,\n",
       "         7: 2287,\n",
       "         3: 1675,\n",
       "         0: 78,\n",
       "         2: 512})"
      ]
     },
     "execution_count": 176,
     "metadata": {},
     "output_type": "execute_result"
    },
    {
     "name": "stderr",
     "output_type": "stream",
     "text": [
      "\u001b[2m\u001b[36m(DefaultActor pid=32132)\u001b[0m /opt/homebrew/Cellar/python@3.10/3.10.13/Frameworks/Python.framework/Versions/3.10/lib/python3.10/multiprocessing/resource_tracker.py:224: UserWarning: resource_tracker: There appear to be 1 leaked semaphore objects to clean up at shutdown\n",
      "\u001b[2m\u001b[36m(DefaultActor pid=32132)\u001b[0m   warnings.warn('resource_tracker: There appear to be %d '\n"
     ]
    }
   ],
   "source": [
    "count = Counter(preds)\n",
    "count"
   ]
  },
  {
   "cell_type": "code",
   "execution_count": 179,
   "id": "130a9c1b",
   "metadata": {},
   "outputs": [],
   "source": [
    "matrix = confusion_matrix(golds, preds)"
   ]
  },
  {
   "cell_type": "code",
   "execution_count": 195,
   "id": "091b884f",
   "metadata": {},
   "outputs": [
    {
     "data": {
      "text/plain": [
       "(array([0.5, 1.5, 2.5, 3.5, 4.5, 5.5, 6.5, 7.5, 8.5, 9.5]),\n",
       " [Text(0, 0.5, 'Kettle'),\n",
       "  Text(0, 1.5, 'Lighting'),\n",
       "  Text(0, 2.5, 'Refrigerator'),\n",
       "  Text(0, 3.5, 'Water heater'),\n",
       "  Text(0, 4.5, 'Washing Machine'),\n",
       "  Text(0, 5.5, 'Microwave'),\n",
       "  Text(0, 6.5, 'TV'),\n",
       "  Text(0, 7.5, 'Dryer'),\n",
       "  Text(0, 8.5, 'AC'),\n",
       "  Text(0, 9.5, 'Dish washer')])"
      ]
     },
     "execution_count": 195,
     "metadata": {},
     "output_type": "execute_result"
    },
    {
     "data": {
      "image/png": "[encoded data removed]",
      "text/plain": [
       "<Figure size 640x480 with 2 Axes>"
      ]
     },
     "metadata": {},
     "output_type": "display_data"
    }
   ],
   "source": [
    "ax= plt.subplot()\n",
    "sns.heatmap(matrix, annot=False, ax=ax)\n",
    "ax.set_xlabel('Predicted labels')\n",
    "ax.set_ylabel('True labels')\n",
    "ax.set_title('Confusion Matrix')\n",
    "ax.xaxis.set_ticklabels(l2idx.keys())\n",
    "ax.yaxis.set_ticklabels(l2idx.keys())\n",
    "plt.xticks(rotation=90)\n",
    "plt.yticks(rotation=0)"
   ]
  },
  {
   "cell_type": "code",
   "execution_count": null,
   "id": "d263a4d0",
   "metadata": {},
   "outputs": [],
   "source": []
  }
 ],
 "metadata": {
  "kernelspec": {
   "display_name": "Python 3 (ipykernel)",
   "language": "python",
   "name": "python3"
  },
  "language_info": {
   "codemirror_mode": {
    "name": "ipython",
    "version": 3
   },
   "file_extension": ".py",
   "mimetype": "text/x-python",
   "name": "python",
   "nbconvert_exporter": "python",
   "pygments_lexer": "ipython3",
   "version": "3.10.13"
  }
 },
 "nbformat": 4,
 "nbformat_minor": 5
}
